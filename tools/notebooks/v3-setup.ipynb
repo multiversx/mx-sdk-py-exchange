{
 "cells": [
  {
   "cell_type": "code",
   "execution_count": null,
   "metadata": {},
   "outputs": [],
   "source": [
    "import sys\n",
    "import time\n",
    "from pathlib import Path\n",
    "sys.path.append(str(Path.cwd().parent.parent.absolute()))\n",
    "import config\n",
    "from context import Context\n",
    "from tools.runners.account_state_runner import get_account_keys_online\n",
    "from tools.runners.account_state_runner import report_key_files_compare\n",
    "from contracts.contract_identities import DEXContractInterface\n",
    "\n",
    "context = Context()"
   ]
  },
  {
   "cell_type": "code",
   "execution_count": null,
   "metadata": {},
   "outputs": [],
   "source": [
    "import time\n",
    "\n",
    "# wrap the upgrade function of each contract around a state compare procedure\n",
    "def upgrade_contract_with_check(contract: DEXContractInterface, *args):\n",
    "    try:\n",
    "        # get the current state of the account\n",
    "        get_account_keys_online(contract.address, config.DEFAULT_PROXY, with_save_in=\"state_dump/pre_contract_state.json\")\n",
    "    except Exception as e:\n",
    "        print(f\"Error getting the account state: {e}\")\n",
    "        # ask for user accept to continue or cancel\n",
    "        if input(\"Continue without state? (y/n): \") != \"y\":\n",
    "            return\n",
    "\n",
    "    # upgrade the contract\n",
    "    contract.contract_upgrade(*args)\n",
    "\n",
    "    time.sleep(12)\n",
    "\n",
    "    try:\n",
    "        # get the new state of the account\n",
    "        get_account_keys_online(contract.address, config.DEFAULT_PROXY, with_save_in=\"state_dump/post_contract_state.json\")\n",
    "        # compare the states\n",
    "        report_key_files_compare(\"state_dump\", \"pre\", \"post\", True)\n",
    "    except Exception as e:\n",
    "        print(f\"Error getting the account state: {e}\")"
   ]
  },
  {
   "cell_type": "markdown",
   "metadata": {},
   "source": [
    "Energy contract setup"
   ]
  },
  {
   "cell_type": "code",
   "execution_count": null,
   "metadata": {},
   "outputs": [],
   "source": [
    "from contracts.simple_lock_energy_contract import SimpleLockEnergyContract\n",
    "energy_contract: SimpleLockEnergyContract\n",
    "energy_contract = context.get_contracts(config.SIMPLE_LOCKS_ENERGY)[0]"
   ]
  },
  {
   "cell_type": "code",
   "execution_count": null,
   "metadata": {},
   "outputs": [],
   "source": [
    "energy_contract.contract_upgrade(context.deployer_account, context.network_provider.proxy, config.SIMPLE_LOCK_ENERGY_BYTECODE_PATH, [], True)"
   ]
  },
  {
   "cell_type": "code",
   "execution_count": null,
   "metadata": {},
   "outputs": [],
   "source": [
    "upgrade_contract_with_check(energy_contract, context.deployer_account, context.network_provider.proxy, config.SIMPLE_LOCK_ENERGY_BYTECODE_PATH, [], True)"
   ]
  },
  {
   "cell_type": "markdown",
   "metadata": {},
   "source": [
    "Proxy dex setup"
   ]
  },
  {
   "cell_type": "code",
   "execution_count": null,
   "metadata": {},
   "outputs": [],
   "source": [
    "from contracts.dex_proxy_contract import DexProxyContract\n",
    "from utils.utils_chain import WrapperAddress as Address, hex_to_string\n",
    "from utils.contract_data_fetchers import ProxyContractDataFetcher\n",
    "\n",
    "dex_proxy_contract: DexProxyContract\n",
    "dex_proxy_contract = context.get_contracts(config.PROXIES_V2)[0]\n",
    "\n",
    "data_fetcher = ProxyContractDataFetcher(Address(dex_proxy_contract.address), context.network_provider.proxy.url)\n",
    "old_locked_token = hex_to_string(data_fetcher.get_data(\"getLockedTokenIds\")[0])\n",
    "old_factory_address = context.get_contracts(config.LOCKED_ASSETS)[0].address\n",
    "print(f\"old_locked_token: {old_locked_token}\")\n",
    "print(f\"old_factory_address: {old_factory_address}\")"
   ]
  },
  {
   "cell_type": "code",
   "execution_count": null,
   "metadata": {},
   "outputs": [],
   "source": [
    "dex_proxy_contract.contract_upgrade(context.deployer_account, context.network_provider.proxy, config.PROXY_V2_BYTECODE_PATH, [old_locked_token, old_factory_address])"
   ]
  },
  {
   "cell_type": "code",
   "execution_count": null,
   "metadata": {},
   "outputs": [],
   "source": [
    "upgrade_contract_with_check(dex_proxy_contract, context.deployer_account, context.network_provider.proxy, config.PROXY_V2_BYTECODE_PATH, [old_locked_token, old_factory_address])"
   ]
  },
  {
   "cell_type": "markdown",
   "metadata": {},
   "source": [
    "Farm contract setup"
   ]
  },
  {
   "cell_type": "code",
   "execution_count": null,
   "metadata": {},
   "outputs": [],
   "source": [
    "from contracts.farm_contract import FarmContract\n",
    "farm_contract: FarmContract\n",
    "farm_contracts = context.get_contracts(config.FARMS_V2)"
   ]
  },
  {
   "cell_type": "code",
   "execution_count": null,
   "metadata": {},
   "outputs": [],
   "source": [
    "from contracts.farm_contract import FarmContract\n",
    "from tools.runners.farm_runner import get_farm_addresses_from_chain\n",
    "from utils.contract_retrievers import retrieve_farm_by_address\n",
    "farm_contract: FarmContract\n",
    "farm_contracts: list[FarmContract] = []\n",
    "farm_addresses = get_farm_addresses_from_chain(\"v2\")\n",
    "for farm_address in farm_addresses:\n",
    "    farm_contract = retrieve_farm_by_address(farm_address)\n",
    "    farm_contracts.append(farm_contract)\n",
    "print(f\"Loaded up {len(farm_contracts)} contracts\")"
   ]
  },
  {
   "cell_type": "code",
   "execution_count": null,
   "metadata": {},
   "outputs": [],
   "source": [
    "from utils.utils_chain import WrapperAddress, base64_to_hex\n",
    "for farm_contract in farm_contracts:\n",
    "    codehash = base64_to_hex(context.network_provider.proxy.get_account(WrapperAddress(farm_contract.address)).code_hash)\n",
    "    if codehash == \"ac3123e4c3bfe2a0947329a08f0a6b9899bc00b461f952f1c34974059689c6dc\":\n",
    "        print(f\"Skipping {farm_contract.address}\")\n",
    "        continue\n",
    "    farm_contract.contract_upgrade(context.deployer_account, context.network_provider.proxy, config.FARM_V3_BYTECODE_PATH, [], True)"
   ]
  },
  {
   "cell_type": "code",
   "execution_count": null,
   "metadata": {},
   "outputs": [],
   "source": [
    "for farm_contract in farm_contracts:\n",
    "    upgrade_contract_with_check(farm_contract, context.deployer_account, context.network_provider.proxy, config.FARM_V3_BYTECODE_PATH, [], True)"
   ]
  },
  {
   "cell_type": "code",
   "execution_count": null,
   "metadata": {},
   "outputs": [],
   "source": [
    "# resume all\n",
    "context.deployer_account.sync_nonce(context.network_provider.proxy)\n",
    "\n",
    "for contract in farm_contracts:\n",
    "    tx_hash = contract.resume(context.deployer_account, context.network_provider.proxy)"
   ]
  },
  {
   "cell_type": "markdown",
   "metadata": {},
   "source": [
    "Staking contract setup"
   ]
  },
  {
   "cell_type": "code",
   "execution_count": null,
   "metadata": {},
   "outputs": [],
   "source": [
    "from contracts.staking_contract import StakingContract\n",
    "staking_contract: StakingContract\n",
    "staking_contracts = context.get_contracts(config.STAKINGS_V2)"
   ]
  },
  {
   "cell_type": "code",
   "execution_count": null,
   "metadata": {},
   "outputs": [],
   "source": [
    "from contracts.staking_contract import StakingContract, StakingContractVersion\n",
    "from tools.runners.staking_runner import get_staking_addresses_from_chain\n",
    "from utils.contract_retrievers import retrieve_staking_by_address\n",
    "staking_contract: StakingContract\n",
    "staking_contracts: list[StakingContract] = []\n",
    "staking_addresses = get_staking_addresses_from_chain()\n",
    "for staking_address in staking_addresses:\n",
    "    staking_contract = retrieve_staking_by_address(staking_address, StakingContractVersion.V2)\n",
    "    staking_contracts.append(staking_contract)\n",
    "print(f\"Loaded up {len(staking_contracts)} contracts\")"
   ]
  },
  {
   "cell_type": "code",
   "execution_count": null,
   "metadata": {},
   "outputs": [],
   "source": [
    "from utils.utils_chain import Account, WrapperAddress\n",
    "\n",
    "# fix ownership\n",
    "for contract in staking_contracts:\n",
    "    owner = context.network_provider.proxy.get_account(WrapperAddress(contract.address)).owner_address\n",
    "    if owner.to_bech32() != context.deployer_account.address.to_bech32():\n",
    "        print(f\"Found {contract.address} with owner {owner.to_bech32()}\")\n",
    "        owner_account = Account(pem_file=config.DEFAULT_ADMIN)\n",
    "        owner_account.address = owner\n",
    "        owner_account.sync_nonce(context.network_provider.proxy)\n",
    "\n",
    "        contract.change_owner_address(owner_account, context.network_provider.proxy, context.deployer_account.address.bech32())\n",
    "        contract.update_owner_or_admin(context.deployer_account, context.network_provider.proxy, owner.to_bech32())\n",
    "        time.sleep(7)"
   ]
  },
  {
   "cell_type": "code",
   "execution_count": null,
   "metadata": {},
   "outputs": [],
   "source": [
    "from utils.utils_chain import WrapperAddress, base64_to_hex, Account\n",
    "for staking_contract in staking_contracts:\n",
    "    codehash = base64_to_hex(context.network_provider.proxy.get_account(WrapperAddress(staking_contract.address)).code_hash)\n",
    "    if codehash == \"9ac73417f256997d656dbf92ff9d1b5d5d530b9e9d2b2315c239d65b8b9e9ab3\":\n",
    "        print(f\"Skipping {staking_contract.address}\")\n",
    "        continue\n",
    "    staking_contract.contract_upgrade(context.deployer_account, context.network_provider.proxy, config.STAKING_V3_BYTECODE_PATH, [], True)"
   ]
  },
  {
   "cell_type": "code",
   "execution_count": null,
   "metadata": {},
   "outputs": [],
   "source": [
    "for staking_contract in staking_contracts:\n",
    "    upgrade_contract_with_check(staking_contract, context.deployer_account, context.network_provider.proxy, config.STAKING_V3_BYTECODE_PATH, [], True)"
   ]
  },
  {
   "cell_type": "code",
   "execution_count": null,
   "metadata": {},
   "outputs": [],
   "source": [
    "from time import sleep\n",
    "from contracts.simple_lock_energy_contract import SimpleLockEnergyContract\n",
    "context.deployer_account.sync_nonce(context.network_provider.proxy)\n",
    "simple_lock_energy_contract: SimpleLockEnergyContract = context.get_contracts(config.SIMPLE_LOCKS_ENERGY)[0]\n",
    "\n",
    "for contract in staking_contracts:\n",
    "    tx_hash = contract.set_boosted_yields_rewards_percentage(context.deployer_account, context.network_provider.proxy, 6000)\n",
    "    tx_hash = contract.set_boosted_yields_factors(context.deployer_account, context.network_provider.proxy, \n",
    "                                                  [2, 1, 0, 1, 1])\n",
    "    tx_hash = contract.set_energy_factory_address(context.deployer_account, context.network_provider.proxy, context.get_contracts(config.SIMPLE_LOCKS_ENERGY)[0].address)\n",
    "    tx_hash = simple_lock_energy_contract.add_sc_to_whitelist(context.deployer_account, context.network_provider.proxy, contract.address)\n",
    "    sleep(2)"
   ]
  },
  {
   "cell_type": "code",
   "execution_count": null,
   "metadata": {},
   "outputs": [],
   "source": [
    "# resume all\n",
    "context.deployer_account.sync_nonce(context.network_provider.proxy)\n",
    "\n",
    "for contract in staking_contracts:\n",
    "    tx_hash = contract.resume(context.deployer_account, context.network_provider.proxy)"
   ]
  },
  {
   "cell_type": "markdown",
   "metadata": {},
   "source": [
    "Metastaking contract setup"
   ]
  },
  {
   "cell_type": "code",
   "execution_count": null,
   "metadata": {},
   "outputs": [],
   "source": [
    "from contracts.metastaking_contract import MetaStakingContract\n",
    "metastaking_contract: MetaStakingContract\n",
    "metastaking_contracts = context.get_contracts(config.METASTAKINGS_V2)"
   ]
  },
  {
   "cell_type": "code",
   "execution_count": null,
   "metadata": {},
   "outputs": [],
   "source": [
    "from contracts.metastaking_contract import MetaStakingContract, MetaStakingContractVersion\n",
    "from tools.runners.metastaking_runner import get_metastaking_addresses_from_chain_by_farms\n",
    "from tools.runners.farm_runner import get_farm_addresses_from_chain\n",
    "from utils.contract_retrievers import retrieve_proxy_staking_by_address\n",
    "staking_proxy_contract: MetaStakingContract\n",
    "metastaking_contracts: list[MetaStakingContract] = []\n",
    "farm_addresses = get_farm_addresses_from_chain(\"v2\")\n",
    "staking_proxy_addresses = get_metastaking_addresses_from_chain_by_farms(farm_addresses)\n",
    "for staking_proxy_address in staking_proxy_addresses:\n",
    "    staking_proxy_contract = retrieve_proxy_staking_by_address(staking_proxy_address, MetaStakingContractVersion.V2)\n",
    "    metastaking_contracts.append(staking_proxy_contract)\n",
    "print(f\"Loaded up {len(metastaking_contracts)} contracts\")"
   ]
  },
  {
   "cell_type": "code",
   "execution_count": null,
   "metadata": {},
   "outputs": [],
   "source": [
    "for metastaking_contract in metastaking_contracts:\n",
    "    metastaking_contract.contract_upgrade(context.deployer_account, context.network_provider.proxy, config.STAKING_PROXY_V3_BYTECODE_PATH, [], True)"
   ]
  },
  {
   "cell_type": "code",
   "execution_count": null,
   "metadata": {},
   "outputs": [],
   "source": [
    "for metastaking_contract in metastaking_contracts:\n",
    "    upgrade_contract_with_check(metastaking_contract, context.deployer_account, context.network_provider.proxy, config.STAKING_PROXY_V3_BYTECODE_PATH, [], True)"
   ]
  },
  {
   "cell_type": "code",
   "execution_count": null,
   "metadata": {},
   "outputs": [],
   "source": [
    "context.deployer_account.sync_nonce(context.network_provider.proxy)\n",
    "\n",
    "for contract in metastaking_contracts:\n",
    "    tx_hash = contract.set_energy_factory_address(context.deployer_account, context.network_provider.proxy, context.get_contracts(config.SIMPLE_LOCKS_ENERGY)[0].address)"
   ]
  },
  {
   "cell_type": "markdown",
   "metadata": {},
   "source": [
    "Fees collector contract"
   ]
  },
  {
   "cell_type": "code",
   "execution_count": null,
   "metadata": {},
   "outputs": [],
   "source": [
    "from contracts.fees_collector_contract import FeesCollectorContract\n",
    "fees_collector_contracts: FeesCollectorContract\n",
    "fees_collector_contracts = context.get_contracts(config.FEES_COLLECTORS)"
   ]
  },
  {
   "cell_type": "code",
   "execution_count": null,
   "metadata": {},
   "outputs": [],
   "source": [
    "for fees_collector_contract in fees_collector_contracts:\n",
    "    fees_collector_contract.contract_upgrade(context.deployer_account, context.network_provider.proxy, config.FEES_COLLECTOR_BYTECODE_PATH, [], True)"
   ]
  },
  {
   "cell_type": "code",
   "execution_count": null,
   "metadata": {},
   "outputs": [],
   "source": [
    "for fees_collector_contract in fees_collector_contracts:\n",
    "    upgrade_contract_with_check(fees_collector_contract, context.deployer_account, context.network_provider.proxy, config.FEES_COLLECTOR_BYTECODE_PATH, [], True)"
   ]
  },
  {
   "cell_type": "markdown",
   "metadata": {},
   "source": [
    "Ownership checkers"
   ]
  },
  {
   "cell_type": "code",
   "execution_count": null,
   "metadata": {},
   "outputs": [],
   "source": [
    "from tools.runners.farm_runner import get_farm_addresses_from_chain\n",
    "from contracts.farm_contract import FarmContract, FarmContractVersion\n",
    "\n",
    "farm_addresses = get_farm_addresses_from_chain(\"v2\")\n",
    "print(farm_addresses)\n",
    "\n",
    "for address in farm_addresses:\n",
    "    farm_contract = FarmContract(\"\", \"\", \"\", address, FarmContractVersion.V2Boosted)\n",
    "    print(f'{address} : {farm_contract.get_permissions(config.DEX_OWNER_ADDRESS, context.network_provider.proxy)}')"
   ]
  },
  {
   "cell_type": "code",
   "execution_count": null,
   "metadata": {},
   "outputs": [],
   "source": [
    "from tools.runners.staking_runner import get_staking_addresses_from_chain\n",
    "from contracts.staking_contract import StakingContract, StakingContractVersion\n",
    "\n",
    "staking_addresses = get_staking_addresses_from_chain()\n",
    "print(staking_addresses)\n",
    "\n",
    "for address in staking_addresses:\n",
    "    staking_contract = StakingContract(\"\", 0, 0, 0, StakingContractVersion.V3Boosted, \"\", address)\n",
    "    print(f'{address} : {staking_contract.get_permissions(config.DEX_OWNER_ADDRESS, context.network_provider.proxy)}')"
   ]
  }
 ],
 "metadata": {
  "kernelspec": {
   "display_name": "venv",
   "language": "python",
   "name": "python3"
  },
  "language_info": {
   "codemirror_mode": {
    "name": "ipython",
    "version": 3
   },
   "file_extension": ".py",
   "mimetype": "text/x-python",
   "name": "python",
   "nbconvert_exporter": "python",
   "pygments_lexer": "ipython3",
   "version": "3.12.3"
  }
 },
 "nbformat": 4,
 "nbformat_minor": 2
}
