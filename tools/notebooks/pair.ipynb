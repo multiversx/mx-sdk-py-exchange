{
 "cells": [
  {
   "cell_type": "markdown",
   "metadata": {},
   "source": [
    "# INIT"
   ]
  },
  {
   "cell_type": "code",
   "execution_count": null,
   "metadata": {},
   "outputs": [],
   "source": [
    "import sys\n",
    "from pathlib import Path\n",
    "sys.path.append(str(Path.cwd().parent.parent.absolute()))\n",
    "from utils.logger import get_logger\n",
    "import config\n",
    "\n",
    "logger = get_logger(__name__)"
   ]
  },
  {
   "cell_type": "markdown",
   "metadata": {},
   "source": [
    "# Chain sim setup & start"
   ]
  },
  {
   "cell_type": "code",
   "execution_count": null,
   "metadata": {},
   "outputs": [],
   "source": [
    "from tools.chain_simulator_connector import start_handler\n",
    "from argparse import Namespace\n",
    "from time import sleep\n",
    "\n",
    "docker_path = config.HOME / \"Projects/testing/full-stack-docker-compose/chain-simulator\"\n",
    "state_path = config.DEFAULT_WORKSPACE / \"states\"\n",
    "args = Namespace(docker_path=str(docker_path), state_path=str(state_path))\n",
    "\n",
    "chain_sim, found_accounts = start_handler(args)\n",
    "print(f'Loaded {len(found_accounts)} accounts')\n",
    "sleep(10)"
   ]
  },
  {
   "cell_type": "code",
   "execution_count": null,
   "metadata": {},
   "outputs": [],
   "source": [
    "from context import Context\n",
    "from tools.chain_simulator_connector import ChainSimulator\n",
    "\n",
    "import importlib\n",
    "import os\n",
    "\n",
    "os.environ[\"MX_DEX_ENV\"] = \"chainsim\"\n",
    "chain_sim = ChainSimulator()\n",
    "importlib.reload(config)\n",
    "import config\n",
    "\n",
    "context = Context()"
   ]
  },
  {
   "cell_type": "markdown",
   "metadata": {},
   "source": [
    "# Safe price"
   ]
  },
  {
   "cell_type": "code",
   "execution_count": null,
   "metadata": {},
   "outputs": [],
   "source": [
    "from contracts.pair_contract import PairContract\n",
    "from multiversx_sdk.abi import Abi, AddressValue, U64Value\n",
    "from multiversx_sdk import SmartContractController, Address\n",
    "\n",
    "pair_contract: PairContract = context.get_contracts(config.PAIRS_V2)[0]\n",
    "safe_price_view_contract = context.get_contracts(config.PAIRS_VIEW)[0]\n",
    "\n",
    "abi = Abi.load(config.HOME / \"Projects/dex/mx-exchange-sc/dex/pair/output/safe-price-view.abi.json\")\n",
    "view_controller = SmartContractController(context.network_provider.proxy.get_network_config().chain_id, context.network_provider.proxy, abi)\n",
    "\n",
    "query = view_controller.create_query(Address.new_from_bech32(safe_price_view_contract.address), \"getSafePriceByRoundOffset\", \n",
    "                                                 [pair_contract.address, 100, [pair_contract.firstToken, 0, 1*10**18]])\n",
    "response = view_controller.run_query(query)\n",
    "if response.return_code != \"ok\":\n",
    "    raise Exception(f\"Error: {response.return_code}\")\n",
    "parsed_response = view_controller.parse_query_response(response)\n",
    "print(parsed_response)\n",
    "print(parsed_response[0].amount)"
   ]
  },
  {
   "cell_type": "code",
   "execution_count": null,
   "metadata": {},
   "outputs": [],
   "source": [
    "from multiversx_sdk.abi import BigUIntValue, U64Value, Serializer, StructValue, Field\n",
    "\n",
    "def get_round_from_observation(raw_entry: bytes):\n",
    "    first_token_reserve_accumulated = BigUIntValue()\n",
    "    second_token_reserve_accumulated = BigUIntValue()\n",
    "    weight_accumulated = U64Value()\n",
    "    recording_round = U64Value()\n",
    "    recording_timestamp = U64Value()\n",
    "    lp_supply_accumulated = BigUIntValue()\n",
    "\n",
    "    attributes = StructValue([\n",
    "        Field(\"first_token_reserve_accumulated\", first_token_reserve_accumulated),\n",
    "        Field(\"second_token_reserve_accumulated\", second_token_reserve_accumulated),\n",
    "        Field(\"weight_accumulated\", weight_accumulated),\n",
    "        Field(\"recording_round\", recording_round),\n",
    "        # Field(\"recording_timestamp\", recording_timestamp),\n",
    "        # Field(\"lp_supply_accumulated\", lp_supply_accumulated),\n",
    "    ])\n",
    "    serializer = Serializer()\n",
    "    serialized_data = raw_entry.hex()\n",
    "    serializer.deserialize(serialized_data, [attributes])\n",
    "    # print(first_token_reserve_accumulated.get_payload())\n",
    "    # print(second_token_reserve_accumulated.get_payload())\n",
    "    # print(weight_accumulated.get_payload())\n",
    "    # print(recording_round.get_payload())\n",
    "    # print(recording_timestamp.get_payload())\n",
    "    # print(lp_supply_accumulated.get_payload())\n",
    "\n",
    "    return recording_round.get_payload()"
   ]
  },
  {
   "cell_type": "markdown",
   "metadata": {},
   "source": [
    "## monitor state observations"
   ]
  },
  {
   "cell_type": "code",
   "execution_count": null,
   "metadata": {},
   "outputs": [],
   "source": [
    "from multiversx_sdk import ProxyNetworkProvider\n",
    "\n",
    "def get_pair_state(pair_contract: PairContract):\n",
    "    if config.CURRENT_ENV.value == \"mainnet\":\n",
    "        proxy = ProxyNetworkProvider(config.HISTORY_PROXY)\n",
    "    else:\n",
    "        proxy = context.network_provider.proxy\n",
    "    state = proxy.get_account_storage(Address.new_from_bech32(pair_contract.address))\n",
    "    return state\n",
    "\n",
    "def get_last_observation_round(pair_contract: PairContract):\n",
    "    latest_round = 0\n",
    "    state = get_pair_state(pair_contract)\n",
    "    for entry in state.entries:\n",
    "        if \"price_observations.item\" in entry.key:\n",
    "            round = get_round_from_observation(entry.value)\n",
    "            if round > latest_round:\n",
    "                latest_round = round\n",
    "\n",
    "    return latest_round"
   ]
  },
  {
   "cell_type": "markdown",
   "metadata": {},
   "source": [
    "# Upgrade"
   ]
  },
  {
   "cell_type": "markdown",
   "metadata": {},
   "source": [
    "Safeprice view"
   ]
  },
  {
   "cell_type": "code",
   "execution_count": null,
   "metadata": {},
   "outputs": [],
   "source": [
    "pair_view_contract: PairContract = context.get_contracts(config.PAIRS_VIEW)[0]\n",
    "pair_view_contract.contract_upgrade(context.deployer_account, context.network_provider.proxy, config.HOME / \"Projects/dex/mx-exchange-sc/dex/pair/output/safe-price-view.wasm\", [], True)\n",
    "chain_sim.advance_blocks(1)"
   ]
  },
  {
   "cell_type": "markdown",
   "metadata": {},
   "source": [
    "Template"
   ]
  },
  {
   "cell_type": "code",
   "execution_count": null,
   "metadata": {},
   "outputs": [],
   "source": [
    "from contracts.router_contract import RouterContract\n",
    "from contracts.pair_contract import PairContract\n",
    "\n",
    "bytecode_path = config.HOME / \"Projects/dex/mx-exchange-sc/dex/pair/output/pair.wasm\"\n",
    "router_contract: RouterContract\n",
    "router_contract = context.get_contracts(config.ROUTER_V2)[0]\n",
    "template_pair_address = router_contract.get_pair_template_address(context.network_provider.proxy)\n",
    "print(template_pair_address)\n",
    "template_pair = PairContract.load_contract_by_address(template_pair_address)\n",
    "\n",
    "# upgrade template pair contract\n",
    "template_pair.contract_upgrade(context.deployer_account, context.network_provider.proxy, bytecode_path, [], no_init=True)\n",
    "chain_sim.advance_blocks(1)"
   ]
  },
  {
   "cell_type": "markdown",
   "metadata": {},
   "source": [
    "Pair"
   ]
  },
  {
   "cell_type": "code",
   "execution_count": null,
   "metadata": {},
   "outputs": [],
   "source": [
    "from contracts.router_contract import RouterContract\n",
    "router_contract: RouterContract\n",
    "router_contract = context.get_contracts(config.ROUTER_V2)[0]\n",
    "router_contract.pair_contract_upgrade(context.deployer_account, context.network_provider.proxy, [pair_contract.firstToken, pair_contract.secondToken])\n",
    "chain_sim.advance_blocks(1)"
   ]
  },
  {
   "cell_type": "markdown",
   "metadata": {},
   "source": [
    "Router"
   ]
  },
  {
   "cell_type": "code",
   "execution_count": null,
   "metadata": {},
   "outputs": [],
   "source": [
    "from contracts.router_contract import RouterContract\n",
    "router_contract: RouterContract\n",
    "router_contract = context.get_contracts(config.ROUTER_V2)[0]\n",
    "router_contract.contract_upgrade(context.deployer_account, context.network_provider.proxy, config.HOME / \"Projects/dex/mx-exchange-sc/dex/router/output/router.wasm\")\n",
    "chain_sim.advance_blocks(1)\n",
    "router_contract.resume(context.deployer_account, context.network_provider.proxy)\n",
    "chain_sim.advance_blocks(1)"
   ]
  },
  {
   "cell_type": "markdown",
   "metadata": {},
   "source": [
    "New observation interval setup"
   ]
  },
  {
   "cell_type": "code",
   "execution_count": null,
   "metadata": {},
   "outputs": [],
   "source": [
    "from contracts.router_contract import RouterContract\n",
    "router_contract: RouterContract\n",
    "router_contract = context.get_contracts(config.ROUTER_V2)[0]\n",
    "router_contract.set_safe_price_round_save_interval(context.deployer_account, context.network_provider.proxy, [6, [pair_contract.address]])\n",
    "chain_sim.advance_blocks(1)"
   ]
  },
  {
   "cell_type": "markdown",
   "metadata": {},
   "source": [
    "# SWAPS"
   ]
  },
  {
   "cell_type": "code",
   "execution_count": null,
   "metadata": {},
   "outputs": [],
   "source": [
    "print(f\"firstToken: {pair_contract.firstToken}\")\n",
    "print(f\"secondToken: {pair_contract.secondToken}\")"
   ]
  },
  {
   "cell_type": "code",
   "execution_count": null,
   "metadata": {},
   "outputs": [],
   "source": [
    "from contracts.pair_contract import SwapFixedInputEvent\n",
    "\n",
    "event = SwapFixedInputEvent(pair_contract.firstToken, 1000,\n",
    "                            pair_contract.secondToken, 1)\n",
    "pair_contract.swap_fixed_input(context.network_provider, context.deployer_account, event)\n",
    "chain_sim.advance_blocks(1)"
   ]
  },
  {
   "cell_type": "markdown",
   "metadata": {},
   "source": [
    "snipe the observation round"
   ]
  },
  {
   "cell_type": "code",
   "execution_count": null,
   "metadata": {},
   "outputs": [],
   "source": [
    "from time import sleep\n",
    "from utils.contract_retrievers import PairContractDataFetcher\n",
    "from contracts.pair_contract import SwapFixedInputEvent\n",
    "from multiversx_sdk.abi import TokenIdentifierValue, BigUIntValue\n",
    "\n",
    "def snipe_observation_round():\n",
    "    amount_to_swap = 1000 * 10**18\n",
    "    while True:\n",
    "        last_observation_round = get_last_observation_round(pair_contract)\n",
    "        print(f\"current round: {context.network_provider.get_round()}\")\n",
    "        print(f\"latest observation round: {last_observation_round}\")\n",
    "\n",
    "        observation_interval = pair_contract.get_safe_price_round_save_interval(context.network_provider.proxy)\n",
    "        current_round = context.network_provider.get_round()\n",
    "        next_observation_round = current_round + observation_interval - (current_round - last_observation_round) % observation_interval\n",
    "\n",
    "        # wait until next observation round\n",
    "        print(f\"targetting observation round {next_observation_round}\")\n",
    "        while context.network_provider.get_round() < next_observation_round - 2:\n",
    "            sleep(0.2)\n",
    "            # chain_sim.advance_blocks(1)\n",
    "\n",
    "        pair_data_fetcher = PairContractDataFetcher(Address.new_from_bech32(pair_contract.address), context.network_provider.proxy.url)\n",
    "        amount_out = pair_data_fetcher.get_data(\"getAmountOut\",[TokenIdentifierValue(pair_contract.firstToken), BigUIntValue(amount_to_swap)])\n",
    "\n",
    "        event_forwards = SwapFixedInputEvent(pair_contract.firstToken, amount_to_swap,\n",
    "                                    pair_contract.secondToken, 1)\n",
    "        pair_contract.swap_fixed_input(context.network_provider, context.deployer_account, event_forwards)\n",
    "        \n",
    "        print(f\"swaps sent in round: {context.network_provider.get_round()}\")\n",
    "        # TODO: to remove if using chain sim manual blocks advance\n",
    "        sleep(1)\n",
    "\n",
    "        event_consolidation = SwapFixedInputEvent(pair_contract.firstToken, 1001,\n",
    "                                    pair_contract.secondToken, 1)\n",
    "        pair_contract.swap_fixed_input(context.network_provider, context.deployer_account, event_consolidation)\n",
    "\n",
    "        sleep(1)\n",
    "\n",
    "        event_backwards = SwapFixedInputEvent(pair_contract.secondToken, amount_out,\n",
    "                                    pair_contract.firstToken, 1)\n",
    "        pair_contract.swap_fixed_input(context.network_provider, context.deployer_account, event_backwards)\n",
    "        \n",
    "        # chain_sim.advance_blocks(1)"
   ]
  },
  {
   "cell_type": "code",
   "execution_count": null,
   "metadata": {},
   "outputs": [],
   "source": [
    "snipe_observation_round()"
   ]
  },
  {
   "cell_type": "markdown",
   "metadata": {},
   "source": [
    "Random swaps"
   ]
  },
  {
   "cell_type": "code",
   "execution_count": null,
   "metadata": {},
   "outputs": [],
   "source": [
    "from utils.utils_chain import get_all_token_nonces_details_for_account\n",
    "from utils.contract_retrievers import PairContractDataFetcher\n",
    "from contracts.pair_contract import SwapFixedInputEvent\n",
    "from time import sleep\n",
    "def random_swaps():\n",
    "    import random\n",
    "    spend_range_percent = [10, 30]\n",
    "    swaps_delay_ms = [200, 40000]\n",
    "    while True:\n",
    "        # select a random token to spend\n",
    "        spend_token = random.choice([pair_contract.firstToken, pair_contract.secondToken])\n",
    "        other_token = pair_contract.firstToken if spend_token == pair_contract.secondToken else pair_contract.secondToken\n",
    "        \n",
    "        # get the balance of the spent token\n",
    "        response = get_all_token_nonces_details_for_account(spend_token, context.deployer_account.address.bech32(), context.network_provider.proxy)[0]\n",
    "        balance = int(response.get(\"balance\", 0))\n",
    "        if balance == 0:\n",
    "            logger.warning(f\"No balance for {spend_token}\")\n",
    "        spend_amount = random.randint(spend_range_percent[0], spend_range_percent[1]) * balance // 100\n",
    "\n",
    "        # determine delay between swaps\n",
    "        delay = random.randint(swaps_delay_ms[0], swaps_delay_ms[1])\n",
    "        logger.debug(f\"Swapping {spend_amount} {spend_token} for {other_token}. Delay: {delay}ms\")\n",
    "        \n",
    "        sleep(delay / 1000)\n",
    "\n",
    "        # prepare swap\n",
    "        event = SwapFixedInputEvent(spend_token, spend_amount, other_token, 1)\n",
    "        pair_contract.swap_fixed_input(context.network_provider, context.deployer_account, event)\n",
    "        "
   ]
  },
  {
   "cell_type": "code",
   "execution_count": null,
   "metadata": {},
   "outputs": [],
   "source": [
    "random_swaps()"
   ]
  },
  {
   "cell_type": "markdown",
   "metadata": {},
   "source": []
  },
  {
   "cell_type": "markdown",
   "metadata": {},
   "source": [
    "Manual checks"
   ]
  },
  {
   "cell_type": "code",
   "execution_count": null,
   "metadata": {},
   "outputs": [],
   "source": [
    "state = get_pair_state(pair_contract)\n",
    "for entry in state.entries:\n",
    "    if \"price\" in entry.key:\n",
    "        print(f\"{entry.key}: {entry.raw}\")"
   ]
  },
  {
   "cell_type": "code",
   "execution_count": null,
   "metadata": {},
   "outputs": [],
   "source": [
    "from enum import Enum\n",
    "from typing import Any\n",
    "class Timebase(Enum):\n",
    "    ROUND = \"Round\"\n",
    "    TIMESTAMP = \"Timestamp\"\n",
    "\n",
    "def get_lp_safe_price_by_offset(timebase: Timebase, context: Context, abi: Abi, pair_contract: PairContract, \n",
    "                                offset: int, reference_amount: int) -> list[Any]:\n",
    "    \"\"\" Returns a list of namespaces containing the two tokens underlying the given lp reference amount.\n",
    "        Each namespace contains:\n",
    "        - token_identifier\n",
    "        - nonce\n",
    "        - amount\"\"\"\n",
    "    safe_price_view_contract = context.get_contracts(config.PAIRS_VIEW)[0]\n",
    "    view_controller = SmartContractController(context.network_provider.proxy.get_network_config().chain_id, context.network_provider.proxy, abi)\n",
    "    \n",
    "    endpoint = f\"getLpTokensSafePriceBy{timebase.value}Offset\"\n",
    "    query = view_controller.create_query(Address.new_from_bech32(safe_price_view_contract.address), endpoint, \n",
    "                                                 [pair_contract.address, offset, reference_amount])\n",
    "    response = view_controller.run_query(query)\n",
    "    if response:\n",
    "        return view_controller.parse_query_response(response)\n",
    "    return []\n",
    "\n",
    "tokens = get_lp_safe_price_by_offset(Timebase.ROUND, context, abi, pair_contract, 100, 1 * 10**18)\n",
    "print([(t.token_identifier, t.amount) for t in tokens])"
   ]
  },
  {
   "cell_type": "markdown",
   "metadata": {},
   "source": [
    "# SET STATE for user"
   ]
  },
  {
   "cell_type": "code",
   "execution_count": null,
   "metadata": {},
   "outputs": [],
   "source": [
    "user = \"erd1pye4dsy3fs956skp8wgf5pjtfynvw5y52gwdmsrrum9jcv3y2vusk7we6t\"\n",
    "chain_sim.apply_states([[{\n",
    "        \"address\": user,\n",
    "        \"nonce\": 0,\n",
    "        \"balance\": \"100000000000000000000\",\n",
    "        \"username\": \"\",\n",
    "        \"code\": \"\",\n",
    "        \"developerReward\": \"0\",\n",
    "        \"ownerAddress\": \"\",\n",
    "        \"pairs\": {}\n",
    "    }]])"
   ]
  },
  {
   "cell_type": "code",
   "execution_count": null,
   "metadata": {},
   "outputs": [],
   "source": [
    "user = \"erd1ss6u80ruas2phpmr82r42xnkd6rxy40g9jl69frppl4qez9w2jpsqj8x97\"\n",
    "esdt = \"WEGLD-bd4d79\"\n",
    "amount = 10000 * 10**18\n",
    "\n",
    "from utils.utils_chain import dec_to_padded_hex\n",
    "current_entry = context.network_provider.proxy.get_account_storage_entry(Address.new_from_bech32(user), f\"ELRONDesdt{esdt}\")\n",
    "if not current_entry:\n",
    "    raise Exception(\"No entry found\")\n",
    "\n",
    "print(current_entry.value.hex())\n",
    "print(dec_to_padded_hex(amount))\n",
    "header = current_entry.value.hex()[:2]\n",
    "new_entry = f\"{header}{dec_to_padded_hex(len(dec_to_padded_hex(amount)) // 2 + 1)}{'00'}{dec_to_padded_hex(amount)}\"\n",
    "print(new_entry)\n",
    "\n",
    "chain_sim.apply_states([[{\n",
    "        \"address\": user,\n",
    "        \"pairs\": {\n",
    "            current_entry.key.encode().hex(): new_entry\n",
    "        }\n",
    "    }]])\n",
    "\n",
    "# 120600174876e800\n",
    "# 12070038f9f643173a\n",
    "# 1208003877543179f11e\n",
    "# 120900d02ab486cedc0000\n",
    "# 120900059309ed4f0a1e0d\n"
   ]
  },
  {
   "attachments": {},
   "cell_type": "markdown",
   "metadata": {},
   "source": [
    "# FEES setup for pairs"
   ]
  },
  {
   "cell_type": "code",
   "execution_count": null,
   "metadata": {},
   "outputs": [],
   "source": [
    "from contracts.pair_contract import PairContract\n",
    "from utils.contract_retrievers import retrieve_pair_by_address\n",
    "\n",
    "pair_contract: PairContract\n",
    "pair_contract = retrieve_pair_by_address(\"erd1qqqqqqqqqqqqqpgqph6g8569lnvpgd3x569hd6n6qse2aw0w0n4sms6nzv\")    # operating pair\n",
    "mex_contract = retrieve_pair_by_address(\"erd1qqqqqqqqqqqqqpgqa0fsfshnff4n76jhcye6k7uvd7qacsq42jpsp6shh2\") # egldmex contract"
   ]
  },
  {
   "cell_type": "code",
   "execution_count": null,
   "metadata": {},
   "outputs": [],
   "source": [
    "from contracts.pair_contract import PairContract\n",
    "from utils.contract_retrievers import retrieve_pair_by_address\n",
    "\n",
    "pair_contract: PairContract\n",
    "pair_contract = retrieve_pair_by_address(\"erd1qqqqqqqqqqqqqpgq0e9pmlzr0nk5nkulzcmessttsjkzr4xf0n4sue4r8e\")    # operating pair"
   ]
  },
  {
   "cell_type": "code",
   "execution_count": null,
   "metadata": {},
   "outputs": [],
   "source": [
    "# whitelist in egldmex pair for swap no fees\n",
    "mex_contract.whitelist_contract(context.deployer_account, context.network_provider.proxy, pair_contract.address)"
   ]
  },
  {
   "cell_type": "code",
   "execution_count": null,
   "metadata": {},
   "outputs": [],
   "source": [
    "# set where to swap and what to do with the fees\n",
    "pair_contract.add_trusted_swap_pair(context.deployer_account, context.network_provider.proxy,\n",
    "                                    [\n",
    "                                        mex_contract.address,\n",
    "                                        mex_contract.firstToken,\n",
    "                                        mex_contract.secondToken\n",
    "                                    ])"
   ]
  },
  {
   "cell_type": "code",
   "execution_count": null,
   "metadata": {},
   "outputs": [],
   "source": [
    "pair_contract.set_fees_percents(context.deployer_account, context.network_provider.proxy,\n",
    "                                [300, 100])"
   ]
  },
  {
   "cell_type": "code",
   "execution_count": null,
   "metadata": {},
   "outputs": [],
   "source": [
    "from contracts.router_contract import RouterContract\n",
    "router_contract: RouterContract\n",
    "router_contract = context.get_contracts(config.ROUTER_V2)[0]\n",
    "\n",
    "pair_contract.set_fee_on_via_router(context.deployer_account, context.network_provider.proxy, router_contract, \n",
    "                                [\n",
    "                                    config.ZERO_CONTRACT_ADDRESS,\n",
    "                                    mex_contract.secondToken\n",
    "                                ])"
   ]
  },
  {
   "cell_type": "code",
   "execution_count": null,
   "metadata": {},
   "outputs": [],
   "source": [
    "from contracts.pair_contract import AddLiquidityEvent\n",
    "\n",
    "event = AddLiquidityEvent(pair_contract.firstToken, 127791780000000000000, 1, pair_contract.secondToken, 5000000000000000000, 1)\n",
    "pair_contract.add_liquidity(context.network_provider, context.deployer_account, event)"
   ]
  },
  {
   "cell_type": "code",
   "execution_count": null,
   "metadata": {},
   "outputs": [],
   "source": [
    "pair_contract.resume(context.deployer_account, context.network_provider.proxy)"
   ]
  }
 ],
 "metadata": {
  "kernelspec": {
   "display_name": "venv",
   "language": "python",
   "name": "python3"
  },
  "language_info": {
   "codemirror_mode": {
    "name": "ipython",
    "version": 3
   },
   "file_extension": ".py",
   "mimetype": "text/x-python",
   "name": "python",
   "nbconvert_exporter": "python",
   "pygments_lexer": "ipython3",
   "version": "3.13.7"
  },
  "orig_nbformat": 4
 },
 "nbformat": 4,
 "nbformat_minor": 2
}
