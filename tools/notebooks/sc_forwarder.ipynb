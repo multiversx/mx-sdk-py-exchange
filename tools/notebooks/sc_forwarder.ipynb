{
 "cells": [
  {
   "cell_type": "code",
   "execution_count": null,
   "metadata": {},
   "outputs": [],
   "source": [
    "import sys\n",
    "from pathlib import Path\n",
    "sys.path.append(str(Path.cwd().parent.parent.absolute()))"
   ]
  },
  {
   "cell_type": "code",
   "execution_count": null,
   "metadata": {},
   "outputs": [],
   "source": [
    "from multiversx_sdk import Address, CodeMetadata, TokenPayment, ProxyNetworkProvider, AccountNonceHolder, UserSigner\n",
    "from multiversx_sdk.core.transaction_builders import (ContractCallBuilder, ESDTNFTTransferBuilder, \n",
    "                                                      ContractDeploymentBuilder, ContractUpgradeBuilder)\n",
    "from multiversx_sdk.core.transaction_builders import DefaultTransactionBuildersConfiguration\n",
    "from tools.notebooks import env\n",
    "\n",
    "config = DefaultTransactionBuildersConfiguration(chain_id=env.CHAIN_ID)\n",
    "proxy = ProxyNetworkProvider(env.PROXY_URL)"
   ]
  },
  {
   "cell_type": "code",
   "execution_count": null,
   "metadata": {},
   "outputs": [],
   "source": [
    "\n",
    "contract_address = env.FORWARDER_CONTRACT\n"
   ]
  },
  {
   "attachments": {},
   "cell_type": "markdown",
   "metadata": {},
   "source": [
    "deploy"
   ]
  },
  {
   "cell_type": "code",
   "execution_count": null,
   "metadata": {},
   "outputs": [],
   "source": [
    "from multiversx_sdk import TransactionsConverter\n",
    "\n",
    "user_signer = UserSigner.from_pem_file(Path(env.ADMIN_PEM))\n",
    "user_nonce_holder = AccountNonceHolder(proxy.get_account(env.ADMIN).nonce)\n",
    "metadata = CodeMetadata(upgradeable=True, readable=True, payable=False, payable_by_contract=True)\n",
    "path = Path.home() / \"projects\" / \"contracts\" / \"mx-sc-dummy-proxy\" / \"dummy-proxy\" / \"output\" / \"dummy-proxy.wasm\"\n",
    "\n",
    "builder = ContractDeploymentBuilder(\n",
    "        config=config,\n",
    "        owner=env.ADMIN,\n",
    "        gas_limit=200000000,\n",
    "        code_metadata=metadata,\n",
    "        code=path.read_bytes(),\n",
    "        deploy_arguments=[]\n",
    "    )\n",
    "\n",
    "tx = builder.build()\n",
    "\n",
    "converter = TransactionsConverter()\n",
    "print(\"Transaction:\", converter.transaction_to_dictionary(tx))\n",
    "print(\"Transaction data:\", tx.data.decode())"
   ]
  },
  {
   "cell_type": "code",
   "execution_count": null,
   "metadata": {},
   "outputs": [],
   "source": [
    "from multiversx_sdk import TransactionComputer\n",
    "\n",
    "tx.nonce = user_nonce_holder.get_nonce_then_increment()\n",
    "\n",
    "tx_computer = TransactionComputer()\n",
    "tx.signature = user_signer.sign(tx_computer.compute_bytes_for_signing(tx))\n",
    "proxy.send_transaction(tx)"
   ]
  },
  {
   "attachments": {},
   "cell_type": "markdown",
   "metadata": {},
   "source": [
    "Upgrade"
   ]
  },
  {
   "cell_type": "code",
   "execution_count": null,
   "metadata": {},
   "outputs": [],
   "source": [
    "user_signer = UserSigner.from_pem_file(Path(env.ADMIN_PEM))\n",
    "user_nonce_holder = AccountNonceHolder(proxy.get_account(env.ADMIN).nonce)\n",
    "metadata = CodeMetadata(upgradeable=True, readable=True, payable=False, payable_by_contract=True)\n",
    "path = Path.home() / \"projects\" / \"dex\" / \"dex-v2\" / \"sc-dex-rs\"/ \"dex\"/ \"dummy-proxy\" / \"output\" / \"dummy-proxy.wasm\"\n",
    "\n",
    "builder = ContractUpgradeBuilder(\n",
    "        config=config,\n",
    "        owner=env.ADMIN,\n",
    "        contract=contract_address,\n",
    "        gas_limit=200000000,\n",
    "        code_metadata=metadata,\n",
    "        code=path.read_bytes(),\n",
    "        upgrade_arguments=[]\n",
    "    )\n",
    "\n",
    "tx = builder.build()\n",
    "print(\"Transaction:\", converter.transaction_to_dictionary(tx))\n",
    "print(\"Transaction data:\", tx.data.decode())"
   ]
  },
  {
   "cell_type": "code",
   "execution_count": null,
   "metadata": {},
   "outputs": [],
   "source": [
    "tx.nonce = user_nonce_holder.get_nonce_then_increment()\n",
    "tx.signature = user_signer.sign(tx_computer.compute_bytes_for_signing(tx))\n",
    "proxy.send_transaction(tx)"
   ]
  },
  {
   "attachments": {},
   "cell_type": "markdown",
   "metadata": {},
   "source": [
    "### endpoint_call"
   ]
  },
  {
   "attachments": {},
   "cell_type": "markdown",
   "metadata": {},
   "source": [
    "migrate lkmex"
   ]
  },
  {
   "cell_type": "code",
   "execution_count": null,
   "metadata": {},
   "outputs": [],
   "source": [
    "user = env.USER1\n",
    "user_signer = UserSigner.from_pem_file(Path(env.USER1_PEM))\n",
    "user_nonce_holder = AccountNonceHolder(proxy.get_account(user).nonce)\n",
    "\n",
    "transfers = [\n",
    "    TokenPayment.meta_esdt_from_amount(env.LKMEX, 4580728, 1000000, 18)\n",
    "]\n",
    "\n",
    "builder = ContractCallBuilder(\n",
    "    config,\n",
    "    contract=contract_address,\n",
    "    function_name=\"callTransferEndpoint\",\n",
    "    caller=user,\n",
    "    call_arguments=[env.ENERGY_CONTRACT, \"migrateOldTokens\"],\n",
    "    gas_limit=50000000,\n",
    "    esdt_transfers=transfers\n",
    ")\n",
    "\n",
    "tx = builder.build()\n",
    "print(\"Transaction:\", converter.transaction_to_dictionary(tx))\n",
    "print(\"Transaction data:\", tx.data.decode())"
   ]
  },
  {
   "cell_type": "code",
   "execution_count": null,
   "metadata": {},
   "outputs": [],
   "source": [
    "tx.nonce = user_nonce_holder.get_nonce_then_increment()\n",
    "tx.signature = user_signer.sign(tx_computer.compute_bytes_for_signing(tx))\n",
    "proxy.send_transaction(tx)"
   ]
  },
  {
   "attachments": {},
   "cell_type": "markdown",
   "metadata": {},
   "source": [
    "lock for more direct send"
   ]
  },
  {
   "cell_type": "code",
   "execution_count": null,
   "metadata": {},
   "outputs": [],
   "source": [
    "user = env.USER1\n",
    "user_signer = UserSigner.from_pem_file(Path(env.USER1_PEM))\n",
    "user_nonce_holder = AccountNonceHolder(proxy.get_account(user).nonce)\n",
    "\n",
    "transfers = [\n",
    "    TokenPayment.meta_esdt_from_amount(env.XMEX, 46, 1000, 18)\n",
    "]\n",
    "\n",
    "builder = ContractCallBuilder(\n",
    "    config,\n",
    "    contract=contract_address,\n",
    "    function_name=\"callTransferEndpoint\",\n",
    "    caller=user,\n",
    "    call_arguments=[env.ENERGY_CONTRACT, \"lockTokens\", 1440],\n",
    "    gas_limit=50000000,\n",
    "    esdt_transfers=transfers\n",
    ")\n",
    "\n",
    "tx = builder.build()\n",
    "print(\"Transaction:\", converter.transaction_to_dictionary(tx))\n",
    "print(\"Transaction data:\", tx.data.decode())"
   ]
  },
  {
   "attachments": {},
   "cell_type": "markdown",
   "metadata": {},
   "source": [
    "lock for more internal send"
   ]
  },
  {
   "cell_type": "code",
   "execution_count": null,
   "metadata": {},
   "outputs": [],
   "source": [
    "user = env.USER1\n",
    "user_signer = UserSigner.from_pem_file(Path(env.USER1_PEM))\n",
    "user_nonce_holder = AccountNonceHolder(proxy.get_account(user).nonce)\n",
    "\n",
    "builder = ContractCallBuilder(\n",
    "    config,\n",
    "    contract=contract_address,\n",
    "    function_name=\"callInternalTransferEndpoint\",\n",
    "    caller=user,\n",
    "    call_arguments=[env.XMEX, int(\"0x44\", base=16), 100000000000000000000, \n",
    "                    env.ENERGY_CONTRACT, \"lockTokens\", 1440],\n",
    "    gas_limit=50000000\n",
    ")\n",
    "\n",
    "tx = builder.build()\n",
    "print(\"Transaction:\", converter.transaction_to_dictionary(tx))\n",
    "print(\"Transaction data:\", tx.data.decode())"
   ]
  },
  {
   "cell_type": "code",
   "execution_count": null,
   "metadata": {},
   "outputs": [],
   "source": [
    "tx.nonce = user_nonce_holder.get_nonce_then_increment()\n",
    "tx.signature = user_signer.sign(tx_computer.compute_bytes_for_signing(tx))\n",
    "proxy.send_transaction(tx)"
   ]
  },
  {
   "attachments": {},
   "cell_type": "markdown",
   "metadata": {},
   "source": [
    "reduce lock direct send"
   ]
  },
  {
   "cell_type": "code",
   "execution_count": null,
   "metadata": {},
   "outputs": [],
   "source": [
    "user = env.USER1\n",
    "user_signer = UserSigner.from_pem_file(Path(env.USER1_PEM))\n",
    "user_nonce_holder = AccountNonceHolder(proxy.get_account(user).nonce)\n",
    "\n",
    "transfers = [\n",
    "    TokenPayment.meta_esdt_from_amount(env.XMEX, 46, 1000, 18)\n",
    "]\n",
    "\n",
    "builder = ContractCallBuilder(\n",
    "    config,\n",
    "    contract=contract_address,\n",
    "    function_name=\"callTransferEndpoint\",\n",
    "    caller=user,\n",
    "    call_arguments=[env.ENERGY_CONTRACT, \"reduceLockPeriod\", 720],\n",
    "    gas_limit=50000000,\n",
    "    esdt_transfers=transfers\n",
    ")\n",
    "\n",
    "tx = builder.build()\n",
    "print(\"Transaction:\", converter.transaction_to_dictionary(tx))\n",
    "print(\"Transaction data:\", tx.data.decode())"
   ]
  },
  {
   "attachments": {},
   "cell_type": "markdown",
   "metadata": {},
   "source": [
    "farm stuff"
   ]
  },
  {
   "cell_type": "code",
   "execution_count": null,
   "metadata": {},
   "outputs": [],
   "source": [
    "user = env.USER3\n",
    "user_signer = UserSigner.from_pem_file(Path(env.USER1_PEM))\n",
    "user_nonce_holder = AccountNonceHolder(proxy.get_account(user).nonce)\n",
    "\n",
    "transfers = [\n",
    "    TokenPayment.meta_esdt_from_integer(\"LKFARM-9d1ea8\", int(\"904cf3\", 16), 1000000000, 18)\n",
    "]\n",
    "\n",
    "builder = ContractCallBuilder(\n",
    "    config,\n",
    "    contract=contract_address,\n",
    "    function_name=\"callTransferEndpoint\",\n",
    "    caller=user,\n",
    "    call_arguments=[Address.from_bech32(\"erd1qqqqqqqqqqqqqpgqrc4pg2xarca9z34njcxeur622qmfjp8w2jps89fxnl\"), \n",
    "                    \"exitFarmProxy\", \n",
    "                    Address.from_bech32(\"erd1qqqqqqqqqqqqqpgqyawg3d9r4l27zue7e9sz7djf7p9aj3sz2jpsm070jf\")],\n",
    "    gas_limit=50000000,\n",
    "    esdt_transfers=transfers\n",
    ")\n",
    "\n",
    "tx = builder.build()\n",
    "print(\"Transaction:\", converter.transaction_to_dictionary(tx))\n",
    "print(\"Transaction data:\", tx.data.decode())"
   ]
  },
  {
   "cell_type": "code",
   "execution_count": null,
   "metadata": {},
   "outputs": [],
   "source": [
    "tx.nonce = user_nonce_holder.get_nonce_then_increment()\n",
    "tx.signature = user_signer.sign(tx_computer.compute_bytes_for_signing(tx))\n",
    "proxy.send_transaction(tx)"
   ]
  },
  {
   "cell_type": "code",
   "execution_count": null,
   "metadata": {},
   "outputs": [],
   "source": [
    "user = env.USER2\n",
    "user_signer = UserSigner.from_pem_file(Path(env.USER1_PEM))\n",
    "user_nonce_holder = AccountNonceHolder(proxy.get_account(user).nonce)\n",
    "pair_contract = Address.from_bech32(\"erd1qqqqqqqqqqqqqpgqa0fsfshnff4n76jhcye6k7uvd7qacsq42jpsp6shh2\")\n",
    "\n",
    "transfers = [\n",
    "    TokenPayment.fungible_from_amount(env.WEGLD, 200000, 18)\n",
    "]\n",
    "\n",
    "builder = ContractCallBuilder(\n",
    "    config,\n",
    "    contract=pair_contract,\n",
    "    function_name=\"swapTokensFixedInput\",\n",
    "    caller=user,\n",
    "    call_arguments=[env.MEX, 1],\n",
    "    esdt_transfers=transfers,\n",
    "    gas_limit=50000000\n",
    ")\n",
    "\n",
    "tx = builder.build()\n",
    "print(\"Transaction:\", converter.transaction_to_dictionary(tx))\n",
    "print(\"Transaction data:\", tx.data.decode())"
   ]
  },
  {
   "attachments": {},
   "cell_type": "markdown",
   "metadata": {},
   "source": [
    "liquidity stuff"
   ]
  },
  {
   "cell_type": "code",
   "execution_count": null,
   "metadata": {},
   "outputs": [],
   "source": [
    "user = env.USER3\n",
    "user_signer = UserSigner.from_pem_file(Path(env.USER1_PEM))\n",
    "user_nonce_holder = AccountNonceHolder(proxy.get_account(user).nonce)\n",
    "\n",
    "builder = ContractCallBuilder(\n",
    "    config,\n",
    "    contract=contract_address,\n",
    "    function_name=\"callInternalTransferEndpoint\",\n",
    "    caller=user,\n",
    "    call_arguments=[\"LKLP-03a2fa\", int(\"0f53f7\", base=16), 10000, \n",
    "                    Address.new_from_bech32(\"erd1qqqqqqqqqqqqqpgqrc4pg2xarca9z34njcxeur622qmfjp8w2jps89fxnl\"), \n",
    "                    \"removeLiquidityProxy\", \n",
    "                    Address.new_from_bech32(\"erd1qqqqqqqqqqqqqpgqa0fsfshnff4n76jhcye6k7uvd7qacsq42jpsp6shh2\"),\n",
    "                    1, 1],\n",
    "    gas_limit=50000000\n",
    ")\n",
    "\n",
    "tx = builder.build()\n",
    "print(\"Transaction:\", converter.transaction_to_dictionary(tx))\n",
    "print(\"Transaction data:\", tx.data.decode())"
   ]
  },
  {
   "cell_type": "code",
   "execution_count": null,
   "metadata": {},
   "outputs": [],
   "source": [
    "tx.nonce = user_nonce_holder.get_nonce_then_increment()\n",
    "tx.signature = user_signer.sign(tx_computer.compute_bytes_for_signing(tx))\n",
    "proxy.send_transaction(tx)"
   ]
  },
  {
   "attachments": {},
   "cell_type": "markdown",
   "metadata": {},
   "source": [
    "reduce lock internal send"
   ]
  },
  {
   "cell_type": "code",
   "execution_count": null,
   "metadata": {},
   "outputs": [],
   "source": [
    "user = env.USER1\n",
    "user_signer = UserSigner.from_pem_file(Path(env.USER1_PEM))\n",
    "user_nonce_holder = AccountNonceHolder(proxy.get_account(user).nonce)\n",
    "\n",
    "builder = ContractCallBuilder(\n",
    "    config,\n",
    "    contract=contract_address,\n",
    "    function_name=\"callInternalTransferEndpoint\",\n",
    "    caller=user,\n",
    "    call_arguments=[env.XMEX, int(\"0x5b\", base=16), 1000000000000000000000, \n",
    "                    env.ENERGY_CONTRACT, \"reduceLockPeriod\", 720],\n",
    "    gas_limit=50000000\n",
    ")\n",
    "\n",
    "tx = builder.build()\n",
    "print(\"Transaction:\", converter.transaction_to_dictionary(tx))\n",
    "print(\"Transaction data:\", tx.data.decode())"
   ]
  },
  {
   "cell_type": "code",
   "execution_count": null,
   "metadata": {},
   "outputs": [],
   "source": [
    "tx.nonce = user_nonce_holder.get_nonce_then_increment()\n",
    "tx.signature = user_signer.tx_computer.compute_bytes_for_signing(tx)\n",
    "proxy.send_transaction(tx)"
   ]
  },
  {
   "attachments": {},
   "cell_type": "markdown",
   "metadata": {},
   "source": [
    "lock free mex"
   ]
  },
  {
   "cell_type": "code",
   "execution_count": null,
   "metadata": {},
   "outputs": [],
   "source": [
    "user = env.USER1\n",
    "user_signer = UserSigner.from_pem_file(Path(env.USER1_PEM))\n",
    "user_nonce_holder = AccountNonceHolder(proxy.get_account(user).nonce)\n",
    "\n",
    "transfers = [\n",
    "    TokenPayment.fungible_from_amount(env.MEX, 1000, 18)\n",
    "]\n",
    "\n",
    "builder = ContractCallBuilder(\n",
    "    config,\n",
    "    contract=contract_address,\n",
    "    function_name=\"callTransferEndpoint\",\n",
    "    caller=user,\n",
    "    call_arguments=[env.ENERGY_CONTRACT, \"lockTokens\", 1440],\n",
    "    gas_limit=50000000,\n",
    "    esdt_transfers=transfers\n",
    ")\n",
    "\n",
    "tx = builder.build()\n",
    "print(\"Transaction:\", converter.transaction_to_dictionary(tx))\n",
    "print(\"Transaction data:\", tx.data.decode())"
   ]
  },
  {
   "cell_type": "code",
   "execution_count": null,
   "metadata": {},
   "outputs": [],
   "source": [
    "tx.nonce = user_nonce_holder.get_nonce_then_increment()\n",
    "tx.signature = user_signer.tx_computer.compute_bytes_for_signing(tx)\n",
    "proxy.send_transaction(tx)"
   ]
  },
  {
   "attachments": {},
   "cell_type": "markdown",
   "metadata": {},
   "source": [
    "claim farm rewards"
   ]
  },
  {
   "cell_type": "code",
   "execution_count": null,
   "metadata": {},
   "outputs": [],
   "source": [
    "user = env.USER3\n",
    "user_signer = UserSigner.from_pem_file(Path(env.USER1_PEM))\n",
    "user_nonce_holder = AccountNonceHolder(proxy.get_account(user).nonce)\n",
    "\n",
    "transfers = [\n",
    "    TokenPayment.meta_esdt_from_integer(\"EGLDUSDCFL-45109b\", int(\"4367\", 16), 1000, 18)\n",
    "]\n",
    "\n",
    "builder = ContractCallBuilder(\n",
    "    config,\n",
    "    contract=env.FORWARDER_CONTRACT,\n",
    "    function_name=\"callTransferEndpoint\",\n",
    "    caller=user,\n",
    "    call_arguments=[Address.new_from_bech32(\"erd1qqqqqqqqqqqqqpgqv0pz5z3fkz54nml6pkzzdruuf020gqzykp2sya7kkv\"),\n",
    "                    \"claimRewards\"],\n",
    "    gas_limit=50000000,\n",
    "    esdt_transfers=transfers\n",
    ")\n",
    "\n",
    "tx = builder.build()\n",
    "print(\"Transaction:\", converter.transaction_to_dictionary(tx))\n",
    "print(\"Transaction data:\", tx.data.decode())"
   ]
  },
  {
   "cell_type": "code",
   "execution_count": null,
   "metadata": {},
   "outputs": [],
   "source": [
    "tx.nonce = user_nonce_holder.get_nonce_then_increment()\n",
    "tx.signature = user_signer.tx_computer.compute_bytes_for_signing(tx)\n",
    "proxy.send_transaction(tx)"
   ]
  },
  {
   "attachments": {},
   "cell_type": "markdown",
   "metadata": {},
   "source": [
    "escrow: transfer tokens"
   ]
  },
  {
   "attachments": {},
   "cell_type": "markdown",
   "metadata": {},
   "source": [
    "contract to account"
   ]
  },
  {
   "cell_type": "code",
   "execution_count": null,
   "metadata": {},
   "outputs": [],
   "source": [
    "user = env.USER1\n",
    "user_signer = UserSigner.from_pem_file(Path(env.USER1_PEM))\n",
    "user_nonce_holder = AccountNonceHolder(proxy.get_account(user).nonce)\n",
    "\n",
    "transfers = [\n",
    "    TokenPayment.meta_esdt_from_amount(env.XMEX, 46, 1000, 18),\n",
    "    TokenPayment.meta_esdt_from_amount(env.XMEX, 47, 1000, 18)\n",
    "]\n",
    "\n",
    "builder = ContractCallBuilder(\n",
    "    config,\n",
    "    contract=contract_address,\n",
    "    function_name=\"callTransferEndpoint\",\n",
    "    caller=user,\n",
    "    call_arguments=[env.ESCROW_CONTRACT, \"lockFunds\", env.USER2],\n",
    "    gas_limit=50000000,\n",
    "    esdt_transfers=transfers\n",
    ")\n",
    "\n",
    "tx = builder.build()\n",
    "print(\"Transaction:\", converter.transaction_to_dictionary(tx))\n",
    "print(\"Transaction data:\", tx.data.decode())"
   ]
  },
  {
   "cell_type": "code",
   "execution_count": null,
   "metadata": {},
   "outputs": [],
   "source": [
    "tx.nonce = user_nonce_holder.get_nonce_then_increment()\n",
    "tx.signature = user_signer.tx_computer.compute_bytes_for_signing(tx)\n",
    "proxy.send_transaction(tx)"
   ]
  },
  {
   "attachments": {},
   "cell_type": "markdown",
   "metadata": {},
   "source": [
    "account to contract"
   ]
  },
  {
   "cell_type": "code",
   "execution_count": null,
   "metadata": {},
   "outputs": [],
   "source": [
    "user = env.USER1\n",
    "user_signer = UserSigner.from_pem_file(Path(env.USER1_PEM))\n",
    "user_nonce_holder = AccountNonceHolder(proxy.get_account(user).nonce)\n",
    "\n",
    "transfers = [\n",
    "    TokenPayment.meta_esdt_from_amount(env.XMEX, 46, 2000, 18),\n",
    "    TokenPayment.meta_esdt_from_amount(env.XMEX, 47, 2000, 18)\n",
    "]\n",
    "\n",
    "builder = ContractCallBuilder(\n",
    "    config,\n",
    "    contract=env.ESCROW_CONTRACT,\n",
    "    function_name=\"lockFunds\",\n",
    "    caller=user,\n",
    "    call_arguments=[contract_address],\n",
    "    gas_limit=30000000,\n",
    "    esdt_transfers=transfers\n",
    ")\n",
    "\n",
    "tx = builder.build()\n",
    "print(\"Transaction:\", converter.transaction_to_dictionary(tx))\n",
    "print(\"Transaction data:\", tx.data.decode())"
   ]
  },
  {
   "cell_type": "code",
   "execution_count": null,
   "metadata": {},
   "outputs": [],
   "source": [
    "tx.nonce = user_nonce_holder.get_nonce_then_increment()\n",
    "tx.signature = user_signer.tx_computer.compute_bytes_for_signing(tx)\n",
    "proxy.send_transaction(tx)"
   ]
  },
  {
   "attachments": {},
   "cell_type": "markdown",
   "metadata": {},
   "source": [
    "withdraw"
   ]
  },
  {
   "cell_type": "code",
   "execution_count": null,
   "metadata": {},
   "outputs": [],
   "source": [
    "user = env.USER1\n",
    "user_signer = UserSigner.from_pem_file(Path(env.USER1_PEM))\n",
    "user_nonce_holder = AccountNonceHolder(proxy.get_account(user).nonce)\n",
    "\n",
    "builder = ContractCallBuilder(\n",
    "    config,\n",
    "    contract=contract_address,\n",
    "    function_name=\"callEndpoint\",\n",
    "    caller=user,\n",
    "    call_arguments=[env.ESCROW_CONTRACT, \"withdraw\", user],\n",
    "    gas_limit=30000000\n",
    ")\n",
    "\n",
    "tx = builder.build()\n",
    "print(\"Transaction:\", converter.transaction_to_dictionary(tx))\n",
    "print(\"Transaction data:\", tx.data.decode())"
   ]
  },
  {
   "cell_type": "code",
   "execution_count": null,
   "metadata": {},
   "outputs": [],
   "source": [
    "tx.nonce = user_nonce_holder.get_nonce_then_increment()\n",
    "tx.signature = user_signer.tx_computer.compute_bytes_for_signing(tx)\n",
    "proxy.send_transaction(tx)"
   ]
  },
  {
   "attachments": {},
   "cell_type": "markdown",
   "metadata": {},
   "source": [
    "wrapper contract"
   ]
  },
  {
   "attachments": {},
   "cell_type": "markdown",
   "metadata": {},
   "source": [
    "wrap direct"
   ]
  },
  {
   "cell_type": "code",
   "execution_count": null,
   "metadata": {},
   "outputs": [],
   "source": [
    "user = env.USER1\n",
    "user_signer = UserSigner.from_pem_file(Path(env.USER1_PEM))\n",
    "user_nonce_holder = AccountNonceHolder(proxy.get_account(user).nonce)\n",
    "\n",
    "transfers = [\n",
    "    TokenPayment.meta_esdt_from_amount(env.XMEX, 46, 1000, 18)\n",
    "]\n",
    "\n",
    "builder = ContractCallBuilder(\n",
    "    config,\n",
    "    contract=contract_address,\n",
    "    function_name=\"callTransferEndpoint\",\n",
    "    caller=user,\n",
    "    call_arguments=[env.WRAPPER_CONTRACT, \"wrapLockedToken\"],\n",
    "    gas_limit=50000000,\n",
    "    esdt_transfers=transfers\n",
    ")\n",
    "\n",
    "tx = builder.build()\n",
    "print(\"Transaction:\", converter.transaction_to_dictionary(tx))\n",
    "print(\"Transaction data:\", tx.data.decode())"
   ]
  },
  {
   "attachments": {},
   "cell_type": "markdown",
   "metadata": {},
   "source": [
    "wrap internal send"
   ]
  },
  {
   "cell_type": "code",
   "execution_count": null,
   "metadata": {},
   "outputs": [],
   "source": [
    "user = env.USER1\n",
    "user_signer = UserSigner.from_pem_file(Path(env.USER1_PEM))\n",
    "user_nonce_holder = AccountNonceHolder(proxy.get_account(user).nonce)\n",
    "\n",
    "builder = ContractCallBuilder(\n",
    "    config,\n",
    "    contract=contract_address,\n",
    "    function_name=\"callInternalTransferEndpoint\",\n",
    "    caller=user,\n",
    "    call_arguments=[env.XMEX, int(\"0x5b\", base=16), 200000000000000000000, \n",
    "                    env.WRAPPER_CONTRACT, \"wrapLockedToken\"],\n",
    "    gas_limit=50000000\n",
    ")\n",
    "\n",
    "tx = builder.build()\n",
    "print(\"Transaction:\", converter.transaction_to_dictionary(tx))\n",
    "print(\"Transaction data:\", tx.data.decode())"
   ]
  },
  {
   "cell_type": "code",
   "execution_count": null,
   "metadata": {},
   "outputs": [],
   "source": [
    "tx.nonce = user_nonce_holder.get_nonce_then_increment()\n",
    "tx.signature = user_signer.tx_computer.compute_bytes_for_signing(tx)\n",
    "proxy.send_transaction(tx)"
   ]
  },
  {
   "attachments": {},
   "cell_type": "markdown",
   "metadata": {},
   "source": [
    "unwrap"
   ]
  },
  {
   "cell_type": "code",
   "execution_count": null,
   "metadata": {},
   "outputs": [],
   "source": [
    "user = env.USER1\n",
    "user_signer = UserSigner.from_pem_file(Path(env.USER1_PEM))\n",
    "user_nonce_holder = AccountNonceHolder(proxy.get_account(user).nonce)\n",
    "\n",
    "transfers = [\n",
    "    TokenPayment.meta_esdt_from_amount(env.WXMEX, 1, 1000, 18)\n",
    "]\n",
    "\n",
    "builder = ContractCallBuilder(\n",
    "    config,\n",
    "    contract=contract_address,\n",
    "    function_name=\"callTransferEndpoint\",\n",
    "    caller=user,\n",
    "    call_arguments=[env.WRAPPER_CONTRACT, \"unwrapLockedToken\"],\n",
    "    gas_limit=50000000,\n",
    "    esdt_transfers=transfers\n",
    ")\n",
    "\n",
    "tx = builder.build()\n",
    "print(\"Transaction:\", converter.transaction_to_dictionary(tx))\n",
    "print(\"Transaction data:\", tx.data.decode())"
   ]
  },
  {
   "cell_type": "code",
   "execution_count": null,
   "metadata": {},
   "outputs": [],
   "source": [
    "tx.nonce = user_nonce_holder.get_nonce_then_increment()\n",
    "tx.signature = user_signer.tx_computer.compute_bytes_for_signing(tx)\n",
    "proxy.send_transaction(tx)"
   ]
  }
 ],
 "metadata": {
  "kernelspec": {
   "display_name": "venv-newerdpy",
   "language": "python",
   "name": "python3"
  },
  "language_info": {
   "codemirror_mode": {
    "name": "ipython",
    "version": 3
   },
   "file_extension": ".py",
   "mimetype": "text/x-python",
   "name": "python",
   "nbconvert_exporter": "python",
   "pygments_lexer": "ipython3",
   "version": "3.8.10"
  },
  "orig_nbformat": 4,
  "vscode": {
   "interpreter": {
    "hash": "7ae6ab0abdf10440b34f03794a69a71508ff61341cacd694fe6034a1a71d3b05"
   }
  }
 },
 "nbformat": 4,
 "nbformat_minor": 2
}
