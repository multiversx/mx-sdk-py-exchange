{
 "cells": [
  {
   "cell_type": "code",
   "execution_count": null,
   "metadata": {},
   "outputs": [],
   "source": [
    "#INIT\n",
    "import sys\n",
    "from pathlib import Path\n",
    "sys.path.append(str(Path.cwd().parent.parent.absolute()))\n",
    "import config\n",
    "\n",
    "from context import Context\n",
    "from utils.utils_chain import WrapperAddress as Address, Account\n",
    "from utils.utils_chain import nominated_amount\n",
    "from utils.contract_retrievers import retrieve_farm_by_address\n",
    "from utils.utils_chain import get_current_tokens_for_address, get_token_details_for_address, get_all_token_nonces_details_for_account, dec_to_padded_hex\n",
    "from utils.utils_tx import ESDTToken, NetworkProviders\n",
    "from contracts.fees_collector_contract import FeesCollectorContract\n",
    "from contracts.dex_proxy_contract import DexProxyContract, DexProxyClaimRewardsEvent, DexProxyEnterFarmEvent, DexProxyExitFarmEvent, DexProxyRemoveLiquidityEvent, DexProxyAddLiquidityEvent\n",
    "\n",
    "context = Context()"
   ]
  },
  {
   "cell_type": "code",
   "execution_count": null,
   "metadata": {},
   "outputs": [],
   "source": [
    "#ADDRESS SETUP\n",
    "user = Account(pem_file=\"~/Documents/mx-sdk-py-exchange/wallets/C1.pem\")\n",
    "user.address = Address(\"\")\n",
    "user2 = Account(pem_file=\"\")\n",
    "user2.address = \"\"\n",
    "sc_owner = Account(pem_file=\"~/Documents/mx-sdk-py-exchange/wallets/C10.pem\")\n",
    "sc_owner.address = Address(\"erd1ss6u80ruas2phpmr82r42xnkd6rxy40g9jl69frppl4qez9w2jpsqj8x97\")\n",
    "user.sync_nonce(context.network_provider.proxy)\n",
    "# opt_original_caller.sync_nonce(context.network_provider.proxy)\n",
    "sc_owner.sync_nonce(context.network_provider.proxy)"
   ]
  },
  {
   "cell_type": "code",
   "execution_count": null,
   "metadata": {},
   "outputs": [],
   "source": [
    "#CONTRACTS INIT\n",
    "proxy_contract: DexProxyContract\n",
    "proxy_contract = context.get_contracts(config.PROXIES_V2)[0]\n",
    "fees_collector_contract: FeesCollectorContract\n",
    "fees_collector_contract = context.get_contracts(config.FEES_COLLECTORS)[0]"
   ]
  },
  {
   "cell_type": "code",
   "execution_count": null,
   "metadata": {},
   "outputs": [],
   "source": [
    "#CLAIM REWARDS\n",
    "txhash = fees_collector_contract.claim_rewards(user, context.network_provider.proxy)\n",
    "used_api = context.network_provider.api"
   ]
  },
  {
   "cell_type": "markdown",
   "metadata": {},
   "source": [
    "CLAIM ORIGINAL CALLER"
   ]
  },
  {
   "cell_type": "code",
   "execution_count": null,
   "metadata": {},
   "outputs": [],
   "source": [
    "txhash = fees_collector_contract.claim_rewards_original_caller(user, context.network_provider.proxy, user)"
   ]
  },
  {
   "cell_type": "markdown",
   "metadata": {},
   "source": [
    "CLAIM BOOSTED REWARDS"
   ]
  },
  {
   "cell_type": "code",
   "execution_count": null,
   "metadata": {},
   "outputs": [],
   "source": [
    "txhash = fees_collector_contract.claim_boosted_rewards(user, context.network_provider.proxy)\n",
    "used_api = context.network_provider.api\n",
    "\n",
    "tokens_list = {}\n",
    "tokens_list = get_current_tokens_for_address(user.address, context.network_provider.proxy)\n",
    "if tokens_list.keys == 0:\n",
    "    print(\"No tokens\")\n",
    "    raise\n",
    "print(tokens_list.items())\n",
    "\n",
    "# Get the transaction details\n",
    "tx = used_api.get_transaction(txhash)\n",
    "sender = tx.sender.bech32()\n",
    "\n",
    "ops = tx.raw_response['data']\n",
    "print(ops)\n"
   ]
  },
  {
   "cell_type": "markdown",
   "metadata": {},
   "source": [
    "CHECK ENERGY AFTER CLAIM"
   ]
  },
  {
   "cell_type": "code",
   "execution_count": null,
   "metadata": {},
   "outputs": [],
   "source": [
    "current_week = fees_collector_contract.get_current_week(context.network_provider.proxy)\n",
    "\n",
    "get_total_energy_for_week_hex = fees_collector_contract.get_total_energy_for_week(context.network_provider.proxy , current_week)\n",
    "print(get_total_energy_for_week_hex)\n",
    "get_user_energy_hex = fees_collector_contract.get_user_energy_for_week(user.address.to_bech32(), context.network_provider.proxy ,current_week)\n",
    "print(get_user_energy_hex)\n",
    "user_energy_before, staking_stats_before = fees_collector_contract.get_all_stats(context.network_provider.proxy, user.address.to_bech32(), current_week)\n"
   ]
  },
  {
   "cell_type": "markdown",
   "metadata": {},
   "source": [
    "CHECK CLAIM"
   ]
  },
  {
   "cell_type": "code",
   "execution_count": null,
   "metadata": {},
   "outputs": [],
   "source": [
    "op_to_look_for = {\n",
    "        \"action\": \"MultiESDTNFTTransfer\",\n",
    "        \"sender\": user.address,\n",
    "        \"receiver\": user.address,\n",
    "        \"value\": 0\n",
    "    }\n",
    "api = context.network_provider.api\n",
    "op = fees_collector_contract.get_tx_op(txhash, op_to_look_for, api)\n",
    "print(op)"
   ]
  },
  {
   "cell_type": "markdown",
   "metadata": {},
   "source": [
    "CHECK SHADOWFORK SCENARIO"
   ]
  },
  {
   "cell_type": "code",
   "execution_count": null,
   "metadata": {},
   "outputs": [],
   "source": [
    "import time\n",
    "from typing import cast\n",
    "from multiversx_sdk import ApiNetworkProvider, ProxyNetworkProvider\n",
    "from utils.utils_generic import TestStepConditions\n",
    "\n",
    "\n",
    "SECONDSDELAY = 5\n",
    "\n",
    "user.sync_nonce(context.network_provider.proxy)\n",
    "proxy1 = ProxyNetworkProvider(\"https://proxy-shadowfork-one.elrond.ro\")\n",
    "api1 = ApiNetworkProvider(\"https://express-api-shadowfork-one.elrond.ro\")\n",
    "sf1 = NetworkProviders(api1, proxy1)\n",
    "\n",
    "txhash = fees_collector_contract.claim_boosted_rewards(user, context.network_provider.proxy)\n",
    "print(txhash)\n",
    "user.sync_nonce(proxy2)\n",
    "txhash2 = fees_collector_contract.claim_rewards(user, proxy2)\n",
    "print(txhash2)\n",
    "\n",
    "time.sleep(SECONDSDELAY)\n",
    "\n",
    "current_week = fees_collector_contract.get_current_week(context.network_provider.proxy)\n",
    "get_total_rewards_hex1 = fees_collector_contract.get_total_rewards_for_week(context.network_provider.proxy , current_week)\n",
    "get_total_rewards_hex2 = fees_collector_contract.get_total_rewards_for_week(context.network_provider.proxy , current_week)\n",
    "\n",
    "token1 = get_total_rewards_hex1[0]\n",
    "token2 = get_total_rewards_hex2[0]\n",
    "print(token1)\n",
    "\n",
    "expected_token1 = ESDTToken(token1[0][1], int((token1[1][1])), token1[2][1]) \n",
    "expected_token2 = ESDTToken(token2[0][1], int((token2[1][1])), token2[2][1]) \n",
    "\n",
    "operations = context.network_provider.get_tx_operations(txhash)\n",
    "operations2 = sf1.get_tx_operations(txhash2)\n",
    "print(operations)\n",
    "print(operations2)\n",
    "\n",
    "teststep = TestStepConditions()\n",
    "teststep.add_condition(context.network_provider.check_simple_tx_status(txhash),\"\"),\n",
    "teststep.add_condition(context.network_provider.check_for_transfer_operation(txhash, expected_token1,\n",
    "                                                                                sender=fees_collector_contract.address,\n",
    "                                                                                destination=user.address),\n",
    "                           \"claimed tokens\")\n",
    "context.network_provider.check_complex_tx_status\n",
    "teststep.assert_conditions()\n",
    "\n",
    "teststep2 = TestStepConditions()\n",
    "teststep2.add_condition(sf1.check_simple_tx_status(txhash2),\"\"),\n",
    "teststep2.add_condition(sf1.check_for_transfer_operation(txhash2, expected_token2,\n",
    "                                                                                 destination=user.address.bech32()),\n",
    "                           \"claimed tokens\")\n",
    "sf1.check_complex_tx_status\n",
    "teststep2.assert_conditions()\n",
    "\n"
   ]
  },
  {
   "cell_type": "markdown",
   "metadata": {},
   "source": [
    "allowExternalClaim"
   ]
  },
  {
   "cell_type": "code",
   "execution_count": null,
   "metadata": {},
   "outputs": [],
   "source": [
    "txhash = fees_collector_contract.allow_external_claim(user, context.network_provider.proxy, True)\n",
    "tx = used_api.get_transaction(txhash)\n",
    "data = tx.raw_response['data']\n",
    "print(data)"
   ]
  },
  {
   "cell_type": "markdown",
   "metadata": {},
   "source": [
    "External Claim"
   ]
  },
  {
   "cell_type": "code",
   "execution_count": null,
   "metadata": {},
   "outputs": [],
   "source": [
    "# opt_original_caller.address\n",
    "txhash = fees_collector_contract.claim_for_user(user, user2.address, context.network_provider.proxy )"
   ]
  },
  {
   "cell_type": "code",
   "execution_count": null,
   "metadata": {},
   "outputs": [],
   "source": [
    "#UPGRADE CONTRACT\n",
    "from contracts.fees_collector_contract import FeesCollectorContract\n",
    "\n",
    "fees_collector_contract: FeesCollectorContract\n",
    "fees_collector_contract = context.get_contracts(config.FEES_COLLECTORS)[0]\n",
    "\n",
    "# get_account_keys_online(router_contract.address, context.network_provider.proxy.url, with_save_in=\"state_dump/pre_upgrade_router.json\")\n",
    "fees_collector_contract.contract_upgrade(context.deployer_account, context.network_provider.proxy,\n",
    "                                 config.FEES_COLLECTOR_BYTECODE_PATH_V3, [], True)"
   ]
  },
  {
   "cell_type": "markdown",
   "metadata": {},
   "source": [
    "============ VIEWS ================="
   ]
  },
  {
   "cell_type": "code",
   "execution_count": null,
   "metadata": {},
   "outputs": [],
   "source": [
    "#GET CURRENT WEEK\n",
    "current_week = fees_collector_contract.get_current_week(context.network_provider.proxy)\n",
    "print(current_week)"
   ]
  },
  {
   "cell_type": "code",
   "execution_count": null,
   "metadata": {},
   "outputs": [],
   "source": [
    "#GET USER ENERGY FOR WEEK\n",
    "get_user_energy_hex = fees_collector_contract.get_user_energy_for_week(user.address.bech32(), context.network_provider.proxy , current_week)\n",
    "print(get_user_energy_hex)"
   ]
  },
  {
   "cell_type": "code",
   "execution_count": null,
   "metadata": {},
   "outputs": [],
   "source": [
    "#GET TOTAL ENERGY FOR WEEK\n",
    "get_total_energy_for_week_hex = fees_collector_contract.get_total_energy_for_week(context.network_provider.proxy , current_week)\n",
    "print(get_total_energy_for_week_hex)"
   ]
  },
  {
   "cell_type": "code",
   "execution_count": null,
   "metadata": {},
   "outputs": [],
   "source": [
    "#GET TOTAL REWARDS FOR WEEK\n",
    "current_week = fees_collector_contract.get_current_week(context.network_provider.proxy)\n",
    "\n",
    "get_total_rewards_hex = fees_collector_contract.get_total_rewards_for_week(context.network_provider.proxy , current_week-2)\n",
    "print(get_total_rewards_hex)"
   ]
  },
  {
   "cell_type": "markdown",
   "metadata": {},
   "source": [
    "GET ALL STATS"
   ]
  },
  {
   "cell_type": "code",
   "execution_count": null,
   "metadata": {},
   "outputs": [],
   "source": [
    "current_week = fees_collector_contract.get_current_week(context.network_provider.proxy)\n",
    "get_user_energy_hex = fees_collector_contract.get_user_energy_for_week(user.address.bech32(), context.network_provider.proxy , current_week)\n",
    "\n",
    "all_stats = fees_collector_contract.get_all_stats(context.network_provider.proxy, user.address.to_bech32, current_week)\n",
    "print(all_stats)"
   ]
  },
  {
   "cell_type": "code",
   "execution_count": null,
   "metadata": {},
   "outputs": [],
   "source": []
  }
 ],
 "metadata": {
  "kernelspec": {
   "display_name": "Python 3 (ipykernel)",
   "language": "python",
   "name": "python3"
  },
  "language_info": {
   "codemirror_mode": {
    "name": "ipython",
    "version": 3
   },
   "file_extension": ".py",
   "mimetype": "text/x-python",
   "name": "python",
   "nbconvert_exporter": "python",
   "pygments_lexer": "ipython3",
   "version": "3.11.6"
  }
 },
 "nbformat": 4,
 "nbformat_minor": 2
}
