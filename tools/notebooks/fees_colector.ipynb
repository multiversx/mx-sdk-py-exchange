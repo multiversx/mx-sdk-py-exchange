{
 "cells": [
  {
   "cell_type": "code",
   "execution_count": null,
   "metadata": {},
   "outputs": [],
   "source": [
    "import sys\n",
    "from pathlib import Path\n",
    "sys.path.append(str(Path.cwd().parent.parent.absolute()))\n",
    "import config\n",
    "\n",
    "from context import Context\n",
    "from utils.utils_chain import WrapperAddress as Address, Account\n",
    "from utils.utils_chain import get_current_tokens_for_address, get_token_details_for_address, get_all_token_nonces_details_for_account, dec_to_padded_hex\n",
    "from utils.utils_tx import ESDTToken, NetworkProviders\n",
    "from contracts.fees_collector_contract import FeesCollectorContract\n",
    "from contracts.dex_proxy_contract import DexProxyContract, DexProxyClaimRewardsEvent, DexProxyEnterFarmEvent, DexProxyExitFarmEvent, DexProxyRemoveLiquidityEvent, DexProxyAddLiquidityEvent\n",
    "\n",
    "context = Context()"
   ]
  },
  {
   "cell_type": "markdown",
   "metadata": {},
   "source": [
    "ADDRESS SETUP"
   ]
  },
  {
   "cell_type": "code",
   "execution_count": null,
   "metadata": {},
   "outputs": [],
   "source": [
    "user = Account(pem_file=\"~/Documents/mx-sdk-py-exchange/wallets/C1.pem\")\n",
    "user.address = Address(\"erd1l4fgzgnt0tnrx5wdz6dqn5lyftcmkexaxm68p2qhed3tfchdgd5sm39a5z\")\n",
    "user2 = Account(pem_file=\"\")\n",
    "user2.address = Address(\"erd1fl59xh7utvkp662ncqzf4m9zasudwrmurekvm2xpt69mjvc784jq3cd3ut\")\n",
    "sc_owner = Account(pem_file=\"~/Documents/mx-sdk-py-exchange/wallets/C10.pem\")\n",
    "sc_owner.address = Address(\"erd1ss6u80ruas2phpmr82r42xnkd6rxy40g9jl69frppl4qez9w2jpsqj8x97\")\n",
    "user.sync_nonce(context.network_provider.proxy)\n",
    "sc_owner.sync_nonce(context.network_provider.proxy)"
   ]
  },
  {
   "cell_type": "markdown",
   "metadata": {},
   "source": [
    "CONTRACTS INIT"
   ]
  },
  {
   "cell_type": "code",
   "execution_count": null,
   "metadata": {},
   "outputs": [],
   "source": [
    "proxy_contract: DexProxyContract\n",
    "proxy_contract = context.get_contracts(config.PROXIES_V2)[0]\n",
    "fees_collector_contract: FeesCollectorContract\n",
    "fees_collector_contract = context.get_contracts(config.FEES_COLLECTORS)[0]"
   ]
  },
  {
   "cell_type": "markdown",
   "metadata": {},
   "source": [
    "CLAIM REWARDS"
   ]
  },
  {
   "cell_type": "code",
   "execution_count": null,
   "metadata": {},
   "outputs": [],
   "source": [
    "\n",
    "txhash = fees_collector_contract.claim_rewards(user, context.network_provider.proxy)\n",
    "used_api = context.network_provider.api"
   ]
  },
  {
   "cell_type": "markdown",
   "metadata": {},
   "source": [
    "CLAIM ORIGINAL CALLER"
   ]
  },
  {
   "cell_type": "code",
   "execution_count": null,
   "metadata": {},
   "outputs": [],
   "source": [
    "\n",
    "txhash = fees_collector_contract.claim_rewards_original_caller(user, context.network_provider.proxy, user)"
   ]
  },
  {
   "cell_type": "markdown",
   "metadata": {},
   "source": [
    "CLAIM BOOSTED REWARDS"
   ]
  },
  {
   "cell_type": "code",
   "execution_count": null,
   "metadata": {},
   "outputs": [],
   "source": [
    "\n",
    "txhash = fees_collector_contract.claim_boosted_rewards(user, context.network_provider.proxy)\n",
    "used_api = context.network_provider.api\n",
    "\n",
    "tokens_list = {}\n",
    "tokens_list = get_current_tokens_for_address(user.address, context.network_provider.proxy)\n",
    "if tokens_list.keys == 0:\n",
    "    print(\"No tokens\")\n",
    "    raise\n",
    "print(tokens_list.items())\n",
    "\n",
    "# Get the transaction details\n",
    "tx = used_api.get_transaction(txhash)\n",
    "sender = tx.sender.bech32()\n",
    "\n",
    "ops = tx.raw_response['data']\n",
    "print(ops)\n"
   ]
  },
  {
   "cell_type": "markdown",
   "metadata": {},
   "source": [
    "CHECK ENERGY AFTER CLAIM"
   ]
  },
  {
   "cell_type": "code",
   "execution_count": null,
   "metadata": {},
   "outputs": [],
   "source": [
    "from utils import decoding_structures\n",
    "\n",
    "\n",
    "current_week = fees_collector_contract.get_current_week(context.network_provider.proxy)\n",
    "\n",
    "get_total_energy_for_week_hex = fees_collector_contract.get_total_energy_for_week(context.network_provider.proxy , current_week)\n",
    "print(get_total_energy_for_week_hex)\n",
    "get_user_energy_hex = fees_collector_contract.get_user_energy_for_week(user.address.bech32(), context.network_provider.proxy ,current_week)\n",
    "print(get_user_energy_hex)\n",
    "\n",
    "\n",
    "user_energy_before, staking_stats_before = fees_collector_contract.get_all_stats(context.network_provider.proxy, user)\n",
    "txhash = fees_collector_contract.claim_boosted_rewards(user, context.network_provider.proxy)\n",
    "user_energy_after, staking_stats_after = fees_collector_contract.get_all_stats(context.network_provider.proxy, user)\n",
    "\n",
    "if user_energy_before + staking_stats_after['total_energy_for_week'] != staking_stats_before:\n",
    "    print(f\"User energy is correct on farm\") \n"
   ]
  },
  {
   "cell_type": "markdown",
   "metadata": {},
   "source": [
    "CHECK CLAIM"
   ]
  },
  {
   "cell_type": "code",
   "execution_count": 5,
   "metadata": {},
   "outputs": [
    {
     "ename": "NameError",
     "evalue": "name 'user' is not defined",
     "output_type": "error",
     "traceback": [
      "\u001b[0;31m---------------------------------------------------------------------------\u001b[0m",
      "\u001b[0;31mNameError\u001b[0m                                 Traceback (most recent call last)",
      "Cell \u001b[0;32mIn[5], line 3\u001b[0m\n\u001b[1;32m      1\u001b[0m op_to_look_for \u001b[38;5;241m=\u001b[39m { \u001b[38;5;66;03m# the Staked token transfered from staking contract to metastake contract\u001b[39;00m\n\u001b[1;32m      2\u001b[0m         \u001b[38;5;124m\"\u001b[39m\u001b[38;5;124maction\u001b[39m\u001b[38;5;124m\"\u001b[39m: \u001b[38;5;124m\"\u001b[39m\u001b[38;5;124mMultiESDTNFTTransfer\u001b[39m\u001b[38;5;124m\"\u001b[39m,\n\u001b[0;32m----> 3\u001b[0m         \u001b[38;5;124m\"\u001b[39m\u001b[38;5;124msender\u001b[39m\u001b[38;5;124m\"\u001b[39m: \u001b[43muser\u001b[49m\u001b[38;5;241m.\u001b[39maddress,\n\u001b[1;32m      4\u001b[0m         \u001b[38;5;124m\"\u001b[39m\u001b[38;5;124mreceiver\u001b[39m\u001b[38;5;124m\"\u001b[39m: fees_collector_contract\u001b[38;5;241m.\u001b[39maddress\n\u001b[1;32m      5\u001b[0m     }\n\u001b[1;32m      6\u001b[0m api \u001b[38;5;241m=\u001b[39m context\u001b[38;5;241m.\u001b[39mnetwork_provider\u001b[38;5;241m.\u001b[39mapi\n\u001b[1;32m      7\u001b[0m op \u001b[38;5;241m=\u001b[39m fees_collector_contract\u001b[38;5;241m.\u001b[39mget_tx_op(txhash, op_to_look_for, api)\n",
      "\u001b[0;31mNameError\u001b[0m: name 'user' is not defined"
     ]
    }
   ],
   "source": [
    "op_to_look_for = { # the Staked token transfered from staking contract to metastake contract\n",
    "        \"action\": \"MultiESDTNFTTransfer\",\n",
    "        \"sender\": user.address,\n",
    "        \"receiver\": fees_collector_contract.address\n",
    "    }\n",
    "api = context.network_provider.api\n",
    "op = fees_collector_contract.get_tx_op(txhash, op_to_look_for, api)\n",
    "print(txhash)\n",
    "print(op_to_look_for)\n",
    "print(op)"
   ]
  },
  {
   "cell_type": "markdown",
   "metadata": {},
   "source": [
    "allowExternalClaim"
   ]
  },
  {
   "cell_type": "code",
   "execution_count": null,
   "metadata": {},
   "outputs": [],
   "source": [
    "txhash = fees_collector_contract.allow_external_claim(user, context.network_provider.proxy, True)\n",
    "tx = used_api.get_transaction(txhash)\n",
    "data = tx.raw_response['data']\n",
    "print(data)"
   ]
  },
  {
   "cell_type": "markdown",
   "metadata": {},
   "source": [
    "External Claim"
   ]
  },
  {
   "cell_type": "code",
   "execution_count": null,
   "metadata": {},
   "outputs": [],
   "source": [
    "# opt_original_caller.address\n",
    "txhash = fees_collector_contract.claim_for_user(user, user2.address, context.network_provider.proxy )"
   ]
  },
  {
   "cell_type": "code",
   "execution_count": null,
   "metadata": {},
   "outputs": [],
   "source": [
    "#GET REWARDS FOR WEEK\n",
    "txhash = fees_collector_contract.claim_for_user(user, user2, context.network_provider.proxy )"
   ]
  },
  {
   "cell_type": "code",
   "execution_count": null,
   "metadata": {},
   "outputs": [],
   "source": [
    "#UPGRADE CONTRACT\n",
    "from contracts.fees_collector_contract import FeesCollectorContract\n",
    "\n",
    "fees_collector_contract: FeesCollectorContract\n",
    "fees_collector_contract = context.get_contracts(config.FEES_COLLECTORS)[0]\n",
    "\n",
    "# get_account_keys_online(router_contract.address, context.network_provider.proxy.url, with_save_in=\"state_dump/pre_upgrade_router.json\")\n",
    "fees_collector_contract.contract_upgrade(context.deployer_account, context.network_provider.proxy,\n",
    "                                 config.FEES_COLLECTOR_BYTECODE_PATH_V3, [], True)"
   ]
  },
  {
   "cell_type": "markdown",
   "metadata": {},
   "source": [
    "============ VIEWS ================="
   ]
  },
  {
   "cell_type": "code",
   "execution_count": null,
   "metadata": {},
   "outputs": [],
   "source": [
    "#GET CURRENT WEEK\n",
    "current_week = fees_collector_contract.get_current_week(context.network_provider.proxy)\n",
    "print(current_week)"
   ]
  },
  {
   "cell_type": "code",
   "execution_count": null,
   "metadata": {},
   "outputs": [],
   "source": [
    "#GET USER ENERGY\n",
    "from utils.contract_data_fetchers import FeeCollectorContractDataFetcher\n",
    "from utils.utils_chain import decode_merged_attributes\n",
    "\n",
    "# data_fetcher = FeeCollectorContractDataFetcher(context.get_fee_collector_contract, context.network_provider.proxy.url)\n",
    "get_user_energy_hex = fees_collector_contract.get_user_energy_for_week(user.address.bech32(), context.network_provider.proxy ,current_week)\n",
    "print(get_user_energy_hex)"
   ]
  },
  {
   "cell_type": "code",
   "execution_count": null,
   "metadata": {},
   "outputs": [],
   "source": [
    "#GET USER ENERGY FOR WEEK\n",
    "get_user_energy_hex = fees_collector_contract.get_user_energy_for_week(user.address.to_bech32(), context.network_provider.proxy , current_week)\n",
    "print(get_user_energy_hex)"
   ]
  },
  {
   "cell_type": "code",
   "execution_count": null,
   "metadata": {},
   "outputs": [],
   "source": [
    "#GET TOTAL ENERGY FOR WEEK\n",
    "get_total_energy_for_week_hex = fees_collector_contract.get_total_energy_for_week(context.network_provider.proxy , current_week-1)\n",
    "print(get_total_energy_for_week_hex)"
   ]
  },
  {
   "cell_type": "code",
   "execution_count": null,
   "metadata": {},
   "outputs": [],
   "source": [
    "#GET TOTAL REWARDS FOR WEEK\n",
    "get_total_rewards_hex = fees_collector_contract.get_total_rewards_for_week(context.network_provider.proxy , current_week-1)\n",
    "print(get_total_rewards_hex)"
   ]
  },
  {
   "cell_type": "markdown",
   "metadata": {},
   "source": [
    "GET ALL STATS"
   ]
  },
  {
   "cell_type": "code",
   "execution_count": null,
   "metadata": {},
   "outputs": [],
   "source": [
    "\n",
    "all_stats = fees_collector_contract.get_all_stats(context.network_provider.proxy, user, current_week)\n",
    "print(all_stats)"
   ]
  }
 ],
 "metadata": {
  "kernelspec": {
   "display_name": "Python 3 (ipykernel)",
   "language": "python",
   "name": "python3"
  },
  "language_info": {
   "codemirror_mode": {
    "name": "ipython",
    "version": 3
   },
   "file_extension": ".py",
   "mimetype": "text/x-python",
   "name": "python",
   "nbconvert_exporter": "python",
   "pygments_lexer": "ipython3",
   "version": "3.11.6"
  }
 },
 "nbformat": 4,
 "nbformat_minor": 2
}
