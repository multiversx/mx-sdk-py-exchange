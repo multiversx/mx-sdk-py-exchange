{
 "cells": [
  {
   "cell_type": "code",
   "execution_count": null,
   "metadata": {},
   "outputs": [],
   "source": [
    "import sys\n",
    "from pathlib import Path\n",
    "sys.path.append(str(Path.cwd().parent.parent.absolute()))\n",
    "import config"
   ]
  },
  {
   "cell_type": "code",
   "execution_count": null,
   "metadata": {},
   "outputs": [],
   "source": [
    "from context import Context\n",
    "\n",
    "context = Context()"
   ]
  },
  {
   "cell_type": "markdown",
   "metadata": {},
   "source": [
    "Start"
   ]
  },
  {
   "cell_type": "code",
   "execution_count": null,
   "metadata": {},
   "outputs": [],
   "source": [
    "from contracts.pair_contract import PairContract\n",
    "\n",
    "router = context.get_contracts(config.ROUTER_V2)[0]\n",
    "pair_contract: PairContract\n",
    "contracts = context.get_contracts(config.PAIRS_V2)\n",
    "context.deployer_account.sync_nonce(context.network_provider.proxy)\n",
    "for pair_contract in contracts:\n",
    "    router.pair_contract_resume(context.deployer_account, context.network_provider.proxy, pair_contract.address)"
   ]
  },
  {
   "cell_type": "code",
   "execution_count": null,
   "metadata": {},
   "outputs": [],
   "source": [
    "from contracts.staking_contract import StakingContract\n",
    "staking_contract: StakingContract\n",
    "staking_contract = context.get_contracts(config.STAKINGS_V2)[0]"
   ]
  },
  {
   "cell_type": "code",
   "execution_count": null,
   "metadata": {},
   "outputs": [],
   "source": [
    "from contracts.metastaking_contract import MetaStakingContract\n",
    "metastaking_contract: MetaStakingContract\n",
    "metastaking_contract = context.get_contracts(config.METASTAKINGS_V2)[4]"
   ]
  },
  {
   "cell_type": "markdown",
   "metadata": {},
   "source": [
    "Energy contract setup"
   ]
  },
  {
   "cell_type": "code",
   "execution_count": null,
   "metadata": {},
   "outputs": [],
   "source": [
    "from contracts.simple_lock_energy_contract import SimpleLockEnergyContract\n",
    "energy_contract: SimpleLockEnergyContract\n",
    "energy_contract = context.get_contracts(config.SIMPLE_LOCKS_ENERGY)[0]"
   ]
  },
  {
   "cell_type": "code",
   "execution_count": null,
   "metadata": {},
   "outputs": [],
   "source": [
    "energy_contract.contract_upgrade(context.deployer_account, context.network_provider.proxy, config.SIMPLE_LOCK_ENERGY_BYTECODE_PATH, [], True)"
   ]
  },
  {
   "cell_type": "code",
   "execution_count": null,
   "metadata": {},
   "outputs": [],
   "source": [
    "energy_contract.add_sc_to_whitelist(context.deployer_account, context.network_provider.proxy, \n",
    "                                    metastaking_contract.address)"
   ]
  },
  {
   "cell_type": "code",
   "execution_count": null,
   "metadata": {},
   "outputs": [],
   "source": [
    "energy_contract.resume(context.deployer_account, context.network_provider.proxy)"
   ]
  },
  {
   "cell_type": "code",
   "execution_count": null,
   "metadata": {},
   "outputs": [],
   "source": [
    "energy_contract.set_transfer_role_locked_token(context.deployer_account, context.network_provider.proxy, [\"erd1qqqqqqqqqqqqqpgq0lmttcgmxjx5arcvtgmvsle23qhch6052jps0skg6f\"])"
   ]
  },
  {
   "cell_type": "code",
   "execution_count": null,
   "metadata": {},
   "outputs": [],
   "source": [
    "energy_contract.add_sc_to_token_transfer_whitelist(context.deployer_account, context.network_provider.proxy, [\"erd1qqqqqqqqqqqqqpgq0lmttcgmxjx5arcvtgmvsle23qhch6052jps0skg6f\"])"
   ]
  },
  {
   "cell_type": "code",
   "execution_count": null,
   "metadata": {},
   "outputs": [],
   "source": [
    "energy_contract.pause(context.deployer_account, context.network_provider.proxy)"
   ]
  },
  {
   "cell_type": "markdown",
   "metadata": {},
   "source": [
    "Set energy for user"
   ]
  },
  {
   "cell_type": "code",
   "execution_count": null,
   "metadata": {},
   "outputs": [],
   "source": [
    "energy_contract.set_energy_for_old_tokens(context.deployer_account, context.network_provider.proxy, \n",
    "                                          [\"erd1avdrs0nkqapufu7zpmufv6kqtqnr6euwsuf7e57cu0cmq79p3ryqtyxqxj\", 4726684797026807555315772, -836623209073744937290891644])"
   ]
  },
  {
   "cell_type": "code",
   "execution_count": null,
   "metadata": {},
   "outputs": [],
   "source": [
    "from utils.utils_chain import Account, WrapperAddress\n",
    "from utils.utils_tx import ESDTToken\n",
    "user = Account(pem_file=config.DEFAULT_ADMIN)\n",
    "user.address = WrapperAddress(\"erd1avdrs0nkqapufu7zpmufv6kqtqnr6euwsuf7e57cu0cmq79p3ryqtyxqxj\")\n",
    "user.sync_nonce(context.network_provider.proxy)\n",
    "xmex = ESDTToken(\"XMEX-fda355\", 28, 4726684797026807555315772)\n",
    "energy_contract.unlock_tokens(user, context.network_provider.proxy, [[xmex]])"
   ]
  },
  {
   "cell_type": "code",
   "execution_count": null,
   "metadata": {},
   "outputs": [],
   "source": [
    "txhash = staking_contract.register_farm_token(context.deployer_account, context.network_provider.proxy, [\"STKTST\", \"STKTST\"])\n",
    "status = context.network_provider.check_simple_tx_status(txhash, \"set boosted yields factors in farm\")"
   ]
  },
  {
   "cell_type": "code",
   "execution_count": null,
   "metadata": {},
   "outputs": [],
   "source": [
    "status = context.network_provider.check_simple_tx_status(\"5f5e3b111bc5ca2f59e4f8bb8faf3aa7e7827bc0247808b53eb7bd58e9db19e4\", \"set boosted yields factors in farm\")"
   ]
  },
  {
   "cell_type": "code",
   "execution_count": null,
   "metadata": {},
   "outputs": [],
   "source": [
    "from utils.contract_data_fetchers import MetaStakingContractDataFetcher\n",
    "from utils.utils_chain import WrapperAddress as Address, hex_to_string\n",
    "farm_token_hex = MetaStakingContractDataFetcher(Address(metastaking_contract.address), context.network_provider.proxy.url).get_data(\"getDualYieldTokenId\")\n",
    "print(hex_to_string(farm_token_hex))"
   ]
  },
  {
   "cell_type": "code",
   "execution_count": null,
   "metadata": {},
   "outputs": [],
   "source": [
    "from contracts.pair_contract import PairContract\n",
    "pair_contract: PairContract\n",
    "pair_contracts = context.get_contracts(config.PAIRS_V2)\n",
    "for pair_contract in pair_contracts:\n",
    "    pair_contract.resume(context.deployer_account, context.network_provider.proxy)"
   ]
  },
  {
   "cell_type": "code",
   "execution_count": null,
   "metadata": {},
   "outputs": [],
   "source": [
    "from contracts.router_contract import RouterContract\n",
    "router_contract: RouterContract\n",
    "router_contract = context.get_contracts(config.ROUTER_V2)[0]\n",
    "router_contract.set_fee_on(context.deployer_account, context.network_provider.proxy, \n",
    "                           [\n",
    "                                \"erd1qqqqqqqqqqqqqpgqkdxw8ewquxtt64t8rmdgqz3ja0zjycfm295qpdm8at\",\n",
    "                                \"erd1qqqqqqqqqqqqqqqqqqqqqqqqqqqqqqqqqqqqqqqqqqqqqqqqqqqq6gq4hu\",\n",
    "                                \"MEX-4638e4\"\n",
    "                           ])"
   ]
  },
  {
   "cell_type": "code",
   "execution_count": null,
   "metadata": {},
   "outputs": [],
   "source": [
    "from contracts.router_contract import RouterContract\n",
    "from tools.account_state import get_account_keys_online, report_key_files_compare\n",
    "\n",
    "router_contract: RouterContract\n",
    "router_contract = context.get_contracts(config.ROUTER_V2)[0]\n",
    "\n",
    "get_account_keys_online(router_contract.address, context.network_provider.proxy.url, with_save_in=\"state_dump/pre_upgrade_router.json\")\n",
    "router_contract.contract_upgrade(context.deployer_account, context.network_provider.proxy,\n",
    "                                 config.ROUTER_V2_BYTECODE_PATH,\n",
    "                                 [\"erd1qqqqqqqqqqqqqpgqj7yq0qysvn2xye0ywzkl0qn95wz8ttcr2jpscpfazv\"])"
   ]
  },
  {
   "cell_type": "code",
   "execution_count": null,
   "metadata": {},
   "outputs": [],
   "source": [
    "get_account_keys_online(router_contract.address, context.network_provider.proxy.url, with_save_in=\"state_dump/post_upgrade_router.json\")\n",
    "report_key_files_compare(\"state_dump\", \"pre\", \"post\", True)"
   ]
  },
  {
   "attachments": {},
   "cell_type": "markdown",
   "metadata": {},
   "source": [
    "FEES setup for pairs"
   ]
  },
  {
   "cell_type": "code",
   "execution_count": null,
   "metadata": {},
   "outputs": [],
   "source": [
    "import time\n",
    "from contracts.pair_contract import PairContract\n",
    "from contracts.router_contract import RouterContract\n",
    "\n",
    "router_contract: RouterContract\n",
    "router_contract = context.get_contracts(config.ROUTER_V2)[0]\n",
    "\n",
    "pair_contract: PairContract\n",
    "mex_contract = context.get_pair_contract_by_address(\"erd1qqqqqqqqqqqqqpgqsa0hwt0m05308mxlagc6wm3qs6duuh5f295qs5du2a\") # egldmex contract\n",
    "\n",
    "for sending_contract in context.get_contracts(config.PAIRS_V2):\n",
    "    if sending_contract.address in [\"erd1qqqqqqqqqqqqqpgqsa0hwt0m05308mxlagc6wm3qs6duuh5f295qs5du2a\",\n",
    "                                    \"erd1qqqqqqqqqqqqqpgqkdxw8ewquxtt64t8rmdgqz3ja0zjycfm295qpdm8at\"]:\n",
    "        continue\n",
    "    # set where to swap and what to do with the fees\n",
    "    sending_contract.add_trusted_swap_pair(context.deployer_account, context.network_provider.proxy,\n",
    "                                        [\n",
    "                                            mex_contract.address,\n",
    "                                            mex_contract.firstToken,\n",
    "                                            mex_contract.secondToken\n",
    "                                        ])\n",
    "    time.sleep(2)\n",
    "    sending_contract.set_fee_on_via_router(context.deployer_account, context.network_provider.proxy, router_contract, \n",
    "                                    [\n",
    "                                        \"erd1qqqqqqqqqqqqqqqqqqqqqqqqqqqqqqqqqqqqqqqqqqqqqqqqqqqq6gq4hu\",\n",
    "                                            \"MEX-4638e4\"\n",
    "                                    ])\n",
    "    time.sleep(2)\n",
    "    # whitelist swap no fees\n",
    "    mex_contract.whitelist_contract(context.deployer_account, context.network_provider.proxy, sending_contract.address)\n",
    "    time.sleep(2)"
   ]
  },
  {
   "cell_type": "code",
   "execution_count": null,
   "metadata": {},
   "outputs": [],
   "source": [
    "from contracts.router_contract import RouterContract\n",
    "router_contract: RouterContract\n",
    "router_contract = context.get_contracts(config.ROUTER_V2)[0]\n",
    "mex_contract.set_fee_on_via_router(context.deployer_account, context.network_provider.proxy, router_contract, \n",
    "                                   [\n",
    "                                       \"erd1qqqqqqqqqqqqqqqqqqqqqqqqqqqqqqqqqqqqqqqqqqqqqqqqqqqq6gq4hu\",\n",
    "                                        \"MEX-4638e4\"\n",
    "                                   ])"
   ]
  },
  {
   "cell_type": "code",
   "execution_count": null,
   "metadata": {},
   "outputs": [],
   "source": [
    "from contracts.fees_collector_contract import FeesCollectorContract\n",
    "\n",
    "fees_collector_contract: FeesCollectorContract\n",
    "fees_collector_contract = context.get_contracts(config.FEES_COLLECTORS)[0]\n",
    "\n",
    "fees_collector_contract.contract_upgrade(context.deployer_account, context.network_provider.proxy, config.FEES_COLLECTOR_BYTECODE_PATH, \n",
    "                                         [], \n",
    "                                         no_init=True)"
   ]
  },
  {
   "cell_type": "markdown",
   "metadata": {},
   "source": [
    "addLiquidity"
   ]
  },
  {
   "cell_type": "code",
   "execution_count": null,
   "metadata": {},
   "outputs": [],
   "source": [
    "from contracts.pair_contract import PairContract, AddLiquidityEvent, SwapFixedInputEvent\n",
    "from utils.utils_chain import Account, WrapperAddress\n",
    "\n",
    "pair_contract: PairContract\n",
    "pair_contract = context.get_contracts(config.PAIRS_V2)[0]\n",
    "\n",
    "user = Account(pem_file=config.DEFAULT_ADMIN)\n",
    "user.address = WrapperAddress(\"erd195v2qrm9vvrr29t2ddp7zvyd4ylze8ujknxpzng0t2tcj4lexu9sdvjxt2\")\n",
    "user.sync_nonce(context.network_provider.proxy)\n",
    "\n",
    "swap = SwapFixedInputEvent(pair_contract.firstToken, 10000000000000000, pair_contract.secondToken, 1)\n",
    "pair_contract.swap_fixed_input(context.network_provider, user, swap)"
   ]
  },
  {
   "cell_type": "code",
   "execution_count": null,
   "metadata": {},
   "outputs": [],
   "source": [
    "from utils.utils_tx import endpoint_call\n",
    "\n",
    "endpoint_call(context.network_provider.proxy, 400000000, user, WrapperAddress(pair_contract.address), \"MigrateDataTrie\", [])"
   ]
  },
  {
   "cell_type": "code",
   "execution_count": null,
   "metadata": {},
   "outputs": [],
   "source": [
    "from utils.utils_tx import endpoint_call\n",
    "from time import sleep\n",
    "from multiversx_sdk_network_providers import ProxyNetworkProvider\n",
    "\n",
    "# observer = ProxyNetworkProvider(\"https://165.232.72.116\")\n",
    "user = Account(pem_file=config.DEFAULT_ADMIN)\n",
    "# user.address = WrapperAddress(\"erd1rf4hv70arudgzus0ymnnsnc4pml0jkywg2xjvzslg0mz4nn2tg7q7k0t6p\")\n",
    "user.address = WrapperAddress(\"erd1v4ms58e22zjcp08suzqgm9ajmumwxcy4hfkdc23gvynnegjdflmsj6gmaq\")\n",
    "user.sync_nonce(context.network_provider.proxy)\n",
    "\n",
    "migated_query = \"address/erd1lllllllllllllllllllllllllllllllllllllllllllllllllllsckry7t/is-data-trie-migrated\"\n",
    "response = context.network_provider.proxy.do_get_generic(migated_query)\n",
    "while response.get(\"isMigrated\") == False:\n",
    "    for i in range(0, 50):\n",
    "        endpoint_call(context.network_provider.proxy, 200000000, user, WrapperAddress(\"erd1lllllllllllllllllllllllllllllllllllllllllllllllllllsckry7t\"), \"MigrateDataTrie\", [])\n",
    "        sleep(0.5)\n",
    "\n",
    "    target_nonce = user.nonce\n",
    "    user.sync_nonce(context.network_provider.proxy)\n",
    "    print(f\"Waiting to reach nonce: {target_nonce}...\")\n",
    "    while user.nonce < target_nonce:\n",
    "        sleep(6)\n",
    "        user.sync_nonce(context.network_provider.proxy)\n",
    "    \n",
    "    response = context.network_provider.proxy.do_get_generic(migated_query)\n",
    "    print(f\"Current migration status: {response.get('isMigrated')}\")"
   ]
  }
 ],
 "metadata": {
  "kernelspec": {
   "display_name": "venv-newerdpy",
   "language": "python",
   "name": "python3"
  },
  "language_info": {
   "codemirror_mode": {
    "name": "ipython",
    "version": 3
   },
   "file_extension": ".py",
   "mimetype": "text/x-python",
   "name": "python",
   "nbconvert_exporter": "python",
   "pygments_lexer": "ipython3",
   "version": "3.11.6"
  },
  "orig_nbformat": 4,
  "vscode": {
   "interpreter": {
    "hash": "7ae6ab0abdf10440b34f03794a69a71508ff61341cacd694fe6034a1a71d3b05"
   }
  }
 },
 "nbformat": 4,
 "nbformat_minor": 2
}
