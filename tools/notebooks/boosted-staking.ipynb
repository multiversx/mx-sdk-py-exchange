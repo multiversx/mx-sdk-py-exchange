{
 "cells": [
  {
   "cell_type": "code",
   "execution_count": null,
   "metadata": {},
   "outputs": [],
   "source": [
    "import sys\n",
    "from pathlib import Path\n",
    "sys.path.append(str(Path.cwd().parent.parent.absolute()))\n",
    "import config"
   ]
  },
  {
   "cell_type": "code",
   "execution_count": null,
   "metadata": {},
   "outputs": [],
   "source": [
    "from context import Context\n",
    "from utils.utils_chain import WrapperAddress as Address, Account, hex_to_string\n",
    "from tools.notebooks import env\n",
    "\n",
    "context = Context()"
   ]
  },
  {
   "cell_type": "code",
   "execution_count": null,
   "metadata": {},
   "outputs": [],
   "source": [
    "from contracts.staking_contract import StakingContract, EnterFarmEvent, ExitFarmEvent, ClaimRewardsFarmEvent\n",
    "from utils.contract_data_fetchers import StakingContractDataFetcher\n",
    "staking_contract: StakingContract\n",
    "staking_contract = context.get_contracts(config.STAKINGS_V2)[0]"
   ]
  },
  {
   "cell_type": "code",
   "execution_count": null,
   "metadata": {},
   "outputs": [],
   "source": [
    "from trackers.staking_economics_tracking import StakingEconomics\n",
    "\n",
    "staking_tracker = StakingEconomics(staking_contract.address, context.network_provider)"
   ]
  },
  {
   "cell_type": "code",
   "execution_count": null,
   "metadata": {},
   "outputs": [],
   "source": [
    "from contracts.metastaking_contract import MetaStakingContract, EnterMetastakeEvent, ExitMetastakeEvent, ClaimRewardsMetastakeEvent\n",
    "from utils.contract_data_fetchers import MetaStakingContractDataFetcher\n",
    "metastaking_contract: MetaStakingContract\n",
    "metastaking_contract = context.get_contracts(config.METASTAKINGS_BOOSTED)[0]"
   ]
  },
  {
   "cell_type": "code",
   "execution_count": null,
   "metadata": {},
   "outputs": [],
   "source": [
    "ride_purse = Address('')\n",
    "depositer = Account(pem_file=env.USER1_PEM)\n",
    "depositer.address = ride_purse\n",
    "depositer.sync_nonce(context.network_provider.proxy)"
   ]
  },
  {
   "cell_type": "markdown",
   "metadata": {},
   "source": [
    "upgrade"
   ]
  },
  {
   "cell_type": "code",
   "execution_count": null,
   "metadata": {},
   "outputs": [],
   "source": [
    "from contracts.staking_contract import StakingContractVersion\n",
    "# upgrade all farms\n",
    "context.deployer_account.sync_nonce(context.network_provider.proxy)\n",
    "contracts : list[StakingContract] = context.get_contracts(config.STAKINGS_V2)\n",
    "for contract in contracts:\n",
    "    contract.version = StakingContractVersion.V2\n",
    "    tx_hash = contract.contract_upgrade(context.deployer_account, context.network_provider.proxy, \n",
    "                                         config.STAKING_V3_BYTECODE_PATH, [], no_init=True)\n",
    "    context.network_provider.check_complex_tx_status(tx_hash, \"staking upgrade\")"
   ]
  },
  {
   "attachments": {},
   "cell_type": "markdown",
   "metadata": {},
   "source": [
    "contract config"
   ]
  },
  {
   "cell_type": "code",
   "execution_count": null,
   "metadata": {},
   "outputs": [],
   "source": [
    "from time import sleep\n",
    "from contracts.simple_lock_energy_contract import SimpleLockEnergyContract\n",
    "context.deployer_account.sync_nonce(context.network_provider.proxy)\n",
    "contracts : list[StakingContract] = context.get_contracts(config.STAKINGS_V2)\n",
    "simple_lock_energy_contract: SimpleLockEnergyContract = context.get_contracts(config.SIMPLE_LOCKS_ENERGY)[0]\n",
    "for contract in contracts:\n",
    "    tx_hash = contract.set_boosted_yields_rewards_percentage(context.deployer_account, context.network_provider.proxy, 6000)\n",
    "    tx_hash = contract.set_boosted_yields_factors(context.deployer_account, context.network_provider.proxy, \n",
    "                                                  [2, 1, 0, 1, 1])\n",
    "    tx_hash = contract.set_energy_factory_address(context.deployer_account, context.network_provider.proxy, context.get_contracts(config.SIMPLE_LOCKS_ENERGY)[0].address)\n",
    "    tx_hash = simple_lock_energy_contract.add_sc_to_whitelist(context.deployer_account, context.network_provider.proxy, contract.address)\n",
    "    sleep(2)"
   ]
  },
  {
   "cell_type": "code",
   "execution_count": null,
   "metadata": {},
   "outputs": [],
   "source": [
    "# resume all farms\n",
    "context.deployer_account.sync_nonce(context.network_provider.proxy)\n",
    "contracts : list[StakingContract] = context.get_contracts(config.STAKINGS_V2)\n",
    "for contract in contracts:\n",
    "    tx_hash = contract.resume(context.deployer_account, context.network_provider.proxy)"
   ]
  },
  {
   "cell_type": "markdown",
   "metadata": {},
   "source": [
    "transfer tokens and prepare accounts"
   ]
  },
  {
   "cell_type": "code",
   "execution_count": null,
   "metadata": {},
   "outputs": [],
   "source": [
    "staking_contract.set_rewards_per_block(context.deployer_account, context.network_provider.proxy, 1000000000)"
   ]
  },
  {
   "cell_type": "code",
   "execution_count": null,
   "metadata": {},
   "outputs": [],
   "source": [
    "staking_contract.add_admin(context.deployer_account, context.network_provider.proxy, depositer.address.bech32())\n",
    "staking_contract.topup_rewards(depositer, context.network_provider.proxy, 10000000000000000000)"
   ]
  },
  {
   "cell_type": "code",
   "execution_count": null,
   "metadata": {},
   "outputs": [],
   "source": [
    "staking_contract.set_max_apr(context.deployer_account, context.network_provider.proxy, 10000)"
   ]
  },
  {
   "cell_type": "code",
   "execution_count": null,
   "metadata": {},
   "outputs": [],
   "source": [
    "staking_contract.start_produce_rewards(context.deployer_account, context.network_provider.proxy)"
   ]
  },
  {
   "cell_type": "code",
   "execution_count": null,
   "metadata": {},
   "outputs": [],
   "source": [
    "txhash = staking_contract.register_farm_token(context.deployer_account, context.network_provider.proxy, [\"STKTST\", \"STKTST\"])\n",
    "status = context.network_provider.check_simple_tx_status(txhash, \"set register farm token\")"
   ]
  },
  {
   "cell_type": "code",
   "execution_count": null,
   "metadata": {},
   "outputs": [],
   "source": [
    "status = context.network_provider.check_simple_tx_status(\"5f5e3b111bc5ca2f59e4f8bb8faf3aa7e7827bc0247808b53eb7bd58e9db19e4\", \"set boosted yields factors in farm\")"
   ]
  },
  {
   "cell_type": "code",
   "execution_count": null,
   "metadata": {},
   "outputs": [],
   "source": [
    "farm_token_hex = MetaStakingContractDataFetcher(Address(metastaking_contract.address), context.network_provider.proxy.url).get_data(\"getDualYieldTokenId\")\n",
    "print(hex_to_string(farm_token_hex))"
   ]
  },
  {
   "attachments": {},
   "cell_type": "markdown",
   "metadata": {},
   "source": [
    "enter stake"
   ]
  },
  {
   "cell_type": "code",
   "execution_count": null,
   "metadata": {},
   "outputs": [],
   "source": [
    "event = EnterFarmEvent(staking_contract.farming_token, 0, 1000000000000000000, \"\", 0, 0)\n",
    "txhash = staking_contract.stake_farm(context.network_provider, depositer, event, True)"
   ]
  },
  {
   "attachments": {},
   "cell_type": "markdown",
   "metadata": {},
   "source": [
    "claim stake"
   ]
  },
  {
   "cell_type": "code",
   "execution_count": null,
   "metadata": {},
   "outputs": [],
   "source": [
    "event = ClaimRewardsFarmEvent(100000000000000000, 10, \"\")\n",
    "txhash = staking_contract.claim_rewards(context.network_provider, depositer, event)"
   ]
  },
  {
   "cell_type": "code",
   "execution_count": null,
   "metadata": {},
   "outputs": [],
   "source": [
    "from utils.utils_chain import get_token_details_for_address\n",
    "\n",
    "farm_token_nonce, farm_token_amount, _ = get_token_details_for_address(staking_contract.farm_token, depositer.address.bech32(), context.network_provider.proxy)\n",
    "event = ClaimRewardsFarmEvent(farm_token_amount, farm_token_nonce, \"\")\n",
    "txhash = staking_contract.claim_rewards(context.network_provider, depositer, event)"
   ]
  },
  {
   "attachments": {},
   "cell_type": "markdown",
   "metadata": {},
   "source": [
    "exit stake"
   ]
  },
  {
   "cell_type": "code",
   "execution_count": null,
   "metadata": {},
   "outputs": [],
   "source": [
    "event = ExitFarmEvent(staking_contract.farm_token, 1000000, 9, \"\", 1000000)\n",
    "txhash = staking_contract.unstake_farm(context.network_provider, depositer, event)"
   ]
  },
  {
   "cell_type": "code",
   "execution_count": null,
   "metadata": {},
   "outputs": [],
   "source": [
    "from utils.utils_chain import get_token_details_for_address\n",
    "\n",
    "farm_token_nonce, farm_token_amount, _ = get_token_details_for_address(staking_contract.farm_token, depositer.address.bech32(), context.network_provider)\n",
    "event = ClaimRewardsFarmEvent(farm_token_amount, farm_token_nonce, \"\")\n",
    "txhash = staking_contract.claim_rewards(context.network_provider, depositer, event)"
   ]
  },
  {
   "attachments": {},
   "cell_type": "markdown",
   "metadata": {},
   "source": [
    "report contract data"
   ]
  },
  {
   "cell_type": "code",
   "execution_count": null,
   "metadata": {},
   "outputs": [],
   "source": [
    "staking_tracker.update_data()\n",
    "staking_tracker.report_current_tracking_data()"
   ]
  },
  {
   "attachments": {},
   "cell_type": "markdown",
   "metadata": {},
   "source": [
    "Shadowfork control"
   ]
  },
  {
   "cell_type": "code",
   "execution_count": null,
   "metadata": {},
   "outputs": [],
   "source": [
    "from contracts.builtin_contracts import SFControlContract\n",
    "\n",
    "sf_control_contract = SFControlContract(config.SF_CONTROL_ADDRESS)\n",
    "sf_control_contract.epoch_fast_forward(context.deployer_account, context.network_provider.proxy, 16, 20)"
   ]
  }
 ],
 "metadata": {
  "kernelspec": {
   "display_name": "venv-newerdpy",
   "language": "python",
   "name": "python3"
  },
  "language_info": {
   "codemirror_mode": {
    "name": "ipython",
    "version": 3
   },
   "file_extension": ".py",
   "mimetype": "text/x-python",
   "name": "python",
   "nbconvert_exporter": "python",
   "pygments_lexer": "ipython3",
   "version": "3.11.6"
  },
  "orig_nbformat": 4,
  "vscode": {
   "interpreter": {
    "hash": "7ae6ab0abdf10440b34f03794a69a71508ff61341cacd694fe6034a1a71d3b05"
   }
  }
 },
 "nbformat": 4,
 "nbformat_minor": 2
}
