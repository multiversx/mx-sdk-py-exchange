{
 "cells": [
  {
   "cell_type": "code",
   "execution_count": 1,
   "metadata": {},
   "outputs": [],
   "source": [
    "import sys\n",
    "from pathlib import Path\n",
    "sys.path.append(str(Path.cwd().parent.parent.absolute()))\n",
    "import config\n",
    "import time"
   ]
  },
  {
   "cell_type": "code",
   "execution_count": null,
   "metadata": {},
   "outputs": [],
   "source": [
    "import ipytest\n",
    "from context import Context\n",
    "from tools.notebooks import env\n",
    "from utils.utils_chain import WrapperAddress as Address, Account, hex_to_string\n",
    "from utils.logger import get_logger\n",
    "\n",
    "logger = get_logger(\"manual_interactor\")\n",
    "ipytest.autoconfig()\n",
    "\n",
    "context = Context()"
   ]
  },
  {
   "cell_type": "code",
   "execution_count": null,
   "metadata": {},
   "outputs": [],
   "source": [
    "from contracts.staking_contract import StakingContract, EnterFarmEvent, ExitFarmEvent, ClaimRewardsFarmEvent\n",
    "from utils.contract_data_fetchers import StakingContractDataFetcher\n",
    "staking_contract: StakingContract\n",
    "staking_contract = context.get_contracts(config.STAKINGS_V2)[0]\n",
    "print(f\"Using: {staking_contract.address} farm token: {staking_contract.farm_token}\")"
   ]
  },
  {
   "cell_type": "code",
   "execution_count": null,
   "metadata": {},
   "outputs": [],
   "source": [
    "from trackers.staking_economics_tracking import StakingEconomics\n",
    "\n",
    "staking_tracker = StakingEconomics(staking_contract.address, context.network_provider)"
   ]
  },
  {
   "cell_type": "code",
   "execution_count": null,
   "metadata": {},
   "outputs": [],
   "source": [
    "from contracts.metastaking_contract import MetaStakingContract, EnterMetastakeEvent, ExitMetastakeEvent, ClaimRewardsMetastakeEvent\n",
    "from utils.contract_data_fetchers import MetaStakingContractDataFetcher\n",
    "metastaking_contract: MetaStakingContract\n",
    "metastaking_contract = context.get_contracts(config.METASTAKINGS_BOOSTED)[0]"
   ]
  },
  {
   "cell_type": "markdown",
   "metadata": {},
   "source": [
    "Gather users with tokens"
   ]
  },
  {
   "cell_type": "code",
   "execution_count": null,
   "metadata": {},
   "outputs": [],
   "source": [
    "from utils.utils_scenarios import collect_farm_contract_users\n",
    "from multiversx_sdk import ApiNetworkProvider\n",
    "from utils.utils_scenarios import FetchedUser\n",
    "from typing import List\n",
    "\n",
    "mainnet_api = ApiNetworkProvider(\"https://api.multiversx.com\")\n",
    "fetched_users = collect_farm_contract_users(100, staking_contract.address, staking_contract.farming_token, staking_contract.farm_token,\n",
    "                                            mainnet_api, context.network_provider.proxy)\n",
    "\n",
    "users: List[FetchedUser] = fetched_users.get_users_with_farm_tokens()\n",
    "if not users:\n",
    "    raise Exception('No users found for the given criteria')"
   ]
  },
  {
   "cell_type": "code",
   "execution_count": 29,
   "metadata": {},
   "outputs": [],
   "source": [
    "users: List[FetchedUser] = fetched_users.get_users_with_both_tokens()\n",
    "if not users:\n",
    "    raise Exception('No users found for the given criteria')"
   ]
  },
  {
   "cell_type": "markdown",
   "metadata": {},
   "source": [
    "Set user from gathered data"
   ]
  },
  {
   "cell_type": "code",
   "execution_count": null,
   "metadata": {},
   "outputs": [],
   "source": [
    "from utils.decoding_structures import METASTAKE_TOKEN_ATTRIBUTES, FARM_TOKEN_ATTRIBUTES, STAKE_V2_TOKEN_ATTRIBUTES, STAKE_V1_TOKEN_ATTRIBUTES\n",
    "from utils.utils_chain import decode_merged_attributes, base64_to_hex, get_all_token_nonces_details_for_account, Account, WrapperAddress\n",
    "\n",
    "index = 0\n",
    "shard = 1\n",
    "user = Account(pem_file=config.DEFAULT_ACCOUNTS)\n",
    "if shard >= 0:\n",
    "    i = 0\n",
    "    for u in users:\n",
    "        if u.address.get_shard() == shard:\n",
    "            if i == index:\n",
    "                user.address = u.address\n",
    "                user.sync_nonce(context.network_provider.proxy)\n",
    "                print(f'User {i}: {user.address.bech32()} shard: {user.address.get_shard()}')\n",
    "                break\n",
    "            i += 1\n",
    "    if i != index:\n",
    "        raise Exception(f'User {index} not found for shard {shard}')\n",
    "else:\n",
    "    user.address = users[index].address\n",
    "    user.sync_nonce(context.network_provider.proxy)\n",
    "    print(f'User {index}: {user.address.bech32()} shard: {user.address.get_shard()}')\n",
    "\n",
    "tokens_in_account = get_all_token_nonces_details_for_account(staking_contract.farm_token, user.address.bech32(), context.network_provider.proxy)\n",
    "\n",
    "print(user.address.bech32())\n",
    "print(f'Stake Tokens in account:')\n",
    "for token in tokens_in_account:\n",
    "    print(f'\\t{token}')\n",
    "    try:\n",
    "        stake_token_decoded_attributes = decode_merged_attributes(base64_to_hex(token[\"attributes\"]), STAKE_V2_TOKEN_ATTRIBUTES)\n",
    "    except ValueError as e:\n",
    "        # handle for old stake token attributes\n",
    "        stake_token_decoded_attributes = decode_merged_attributes(base64_to_hex(token[\"attributes\"]), STAKE_V1_TOKEN_ATTRIBUTES)\n",
    "    print(f'Stake Tokens: {stake_token_decoded_attributes}')"
   ]
  },
  {
   "cell_type": "code",
   "execution_count": null,
   "metadata": {},
   "outputs": [],
   "source": [
    "from utils.decoding_structures import METASTAKE_TOKEN_ATTRIBUTES, FARM_TOKEN_ATTRIBUTES, STAKE_V2_TOKEN_ATTRIBUTES, STAKE_V1_TOKEN_ATTRIBUTES\n",
    "from utils.utils_chain import decode_merged_attributes, base64_to_hex, get_all_token_nonces_details_for_account, Account, WrapperAddress\n",
    "\n",
    "index = -1\n",
    "shard = 1\n",
    "user = Account(pem_file=config.DEFAULT_ACCOUNTS)\n",
    "filtered_users = [u for u in users if u.address.get_shard() == shard]\n",
    "user = filtered_users[index]\n",
    "\n",
    "tokens_in_account = get_all_token_nonces_details_for_account(staking_contract.farm_token, user.address.bech32(), context.network_provider.proxy)\n",
    "\n",
    "print(user.address.bech32())\n",
    "print(f'Stake Tokens in account:')\n",
    "for token in tokens_in_account:\n",
    "    print(f'\\t{token}')\n",
    "    try:\n",
    "        stake_token_decoded_attributes = decode_merged_attributes(base64_to_hex(token[\"attributes\"]), STAKE_V2_TOKEN_ATTRIBUTES)\n",
    "    except ValueError as e:\n",
    "        # handle for old stake token attributes\n",
    "        stake_token_decoded_attributes = decode_merged_attributes(base64_to_hex(token[\"attributes\"]), STAKE_V1_TOKEN_ATTRIBUTES)\n",
    "    print(f'Stake Tokens: {stake_token_decoded_attributes}')"
   ]
  },
  {
   "cell_type": "markdown",
   "metadata": {},
   "source": [
    "Find user by token"
   ]
  },
  {
   "cell_type": "code",
   "execution_count": null,
   "metadata": {},
   "outputs": [],
   "source": [
    "from multiversx_sdk.network_providers import ApiNetworkProvider\n",
    "from utils.utils_chain import WrapperAddress, dec_to_padded_hex, get_all_token_nonces_details_for_account, decode_merged_attributes, base64_to_hex\n",
    "from utils.decoding_structures import STAKE_V2_TOKEN_ATTRIBUTES, STAKE_V1_TOKEN_ATTRIBUTES\n",
    "\n",
    "migration_nonce = 729837\n",
    "\n",
    "mainnet_api = ApiNetworkProvider(\"https://api.multiversx.com\")\n",
    "for nonce in reversed(range(migration_nonce)):\n",
    "    print(f'Current nonce: {nonce}')\n",
    "    url = f'nfts/{staking_contract.farm_token}-{dec_to_padded_hex(nonce)}/accounts'\n",
    "    try:\n",
    "        response = mainnet_api.do_get_generic(url)\n",
    "    except Exception as e:\n",
    "        continue\n",
    "\n",
    "    print(response)\n",
    "    user_found = \"\"\n",
    "    for entry in response:\n",
    "        if WrapperAddress(entry['address']).is_smart_contract():\n",
    "            continue\n",
    "        user_found = entry['address']\n",
    "    \n",
    "    print(f'Potential user: {user_found} for nonce {dec_to_padded_hex(nonce)}')\n",
    "\n",
    "    if user_found:\n",
    "        tokens_in_account = get_all_token_nonces_details_for_account(staking_contract.farm_token, user_found, context.network_provider.proxy)\n",
    "        for token in tokens_in_account:\n",
    "            print(token[\"attributes\"])\n",
    "            try:\n",
    "                stake_token_decoded_attributes = decode_merged_attributes(base64_to_hex(token[\"attributes\"]), STAKE_V2_TOKEN_ATTRIBUTES)\n",
    "            except ValueError as e:\n",
    "                try:\n",
    "                    # handle for old stake token attributes\n",
    "                    stake_token_decoded_attributes = decode_merged_attributes(base64_to_hex(token[\"attributes\"]), STAKE_V1_TOKEN_ATTRIBUTES)\n",
    "                except ValueError as e:\n",
    "                    # unstake token\n",
    "                    continue\n",
    "            print(f'Stake Tokens nonce {dec_to_padded_hex(nonce)}: {stake_token_decoded_attributes}')"
   ]
  },
  {
   "cell_type": "markdown",
   "metadata": {},
   "source": [
    "Set user from given bech32 address"
   ]
  },
  {
   "cell_type": "code",
   "execution_count": null,
   "metadata": {},
   "outputs": [],
   "source": [
    "from utils.decoding_structures import METASTAKE_TOKEN_ATTRIBUTES, FARM_TOKEN_ATTRIBUTES, STAKE_V2_TOKEN_ATTRIBUTES, STAKE_V1_TOKEN_ATTRIBUTES\n",
    "from utils.utils_chain import decode_merged_attributes, base64_to_hex, get_all_token_nonces_details_for_account, Account, WrapperAddress\n",
    "\n",
    "user = Account(pem_file=\"~/Documents/sh1.pem\")\n",
    "user.address = WrapperAddress(\"erd1wwx5zhmx9mag9k8zuajj8c9zce6mzerfr3m9ck6l7c00dwkq2a2ssyfnzk\")\n",
    "user.sync_nonce(context.network_provider.proxy)\n",
    "tokens_in_account = get_all_token_nonces_details_for_account(staking_contract.farm_token, user.address.bech32(), context.network_provider.proxy)\n",
    "\n",
    "print(f'Stake Tokens in account:')\n",
    "print(tokens_in_account)\n",
    "for token in tokens_in_account:\n",
    "    print(f'\\t{token}')\n",
    "    try:\n",
    "        stake_token_decoded_attributes = decode_merged_attributes(base64_to_hex(token[\"attributes\"]), STAKE_V2_TOKEN_ATTRIBUTES)\n",
    "    except ValueError as e:\n",
    "        # handle for old stake token attributes\n",
    "        stake_token_decoded_attributes = decode_merged_attributes(base64_to_hex(token[\"attributes\"]), STAKE_V1_TOKEN_ATTRIBUTES)\n",
    "    print(f'Stake Tokens: {stake_token_decoded_attributes}')"
   ]
  },
  {
   "cell_type": "code",
   "execution_count": null,
   "metadata": {},
   "outputs": [],
   "source": [
    "def get_stats_for_user(staking_contract: StakingContract, user: Account):\n",
    "    energy_contract: SimpleLockEnergyContract\n",
    "    energy_contract = context.get_contracts(config.SIMPLE_LOCKS_ENERGY)[0]\n",
    "    user_energy = energy_contract.get_energy_for_user(context.network_provider.proxy, user.address.bech32())\n",
    "    logger.debug(f'User energy on energy factory: {user_energy}')\n",
    "    \n",
    "    logger.debug(f\"Stats for user: {user.address.bech32()} on staking {staking_contract.address}\")\n",
    "    staking_stats = staking_contract.get_all_user_boosted_stats(user.address.bech32(), context.network_provider.proxy)\n",
    "    staking_stats.update(staking_contract.get_all_stats(context.network_provider.proxy))\n",
    "    logger.debug(f\"Staking stats: {staking_stats}\")\n",
    "\n",
    "get_stats_for_user(staking_contract, user)"
   ]
  },
  {
   "cell_type": "code",
   "execution_count": null,
   "metadata": {},
   "outputs": [],
   "source": [
    "ride_purse = Address('')\n",
    "depositer = Account(pem_file=env.USER1_PEM)\n",
    "depositer.address = ride_purse\n",
    "depositer.sync_nonce(context.network_provider.proxy)"
   ]
  },
  {
   "cell_type": "markdown",
   "metadata": {},
   "source": [
    "upgrade"
   ]
  },
  {
   "cell_type": "code",
   "execution_count": null,
   "metadata": {},
   "outputs": [],
   "source": [
    "from contracts.staking_contract import StakingContractVersion\n",
    "# upgrade all farms\n",
    "context.deployer_account.sync_nonce(context.network_provider.proxy)\n",
    "contracts : list[StakingContract] = context.get_contracts(config.STAKINGS_V2)\n",
    "for contract in contracts:\n",
    "    contract.version = StakingContractVersion.V2\n",
    "    tx_hash = contract.contract_upgrade(context.deployer_account, context.network_provider.proxy, \n",
    "                                         config.STAKING_V3_BYTECODE_PATH, [], no_init=True)\n",
    "    context.network_provider.check_complex_tx_status(tx_hash, \"staking upgrade\")"
   ]
  },
  {
   "attachments": {},
   "cell_type": "markdown",
   "metadata": {},
   "source": [
    "contract config"
   ]
  },
  {
   "cell_type": "code",
   "execution_count": null,
   "metadata": {},
   "outputs": [],
   "source": [
    "from time import sleep\n",
    "from contracts.simple_lock_energy_contract import SimpleLockEnergyContract\n",
    "context.deployer_account.sync_nonce(context.network_provider.proxy)\n",
    "contracts : list[StakingContract] = context.get_contracts(config.STAKINGS_V2)\n",
    "simple_lock_energy_contract: SimpleLockEnergyContract = context.get_contracts(config.SIMPLE_LOCKS_ENERGY)[0]\n",
    "for contract in contracts:\n",
    "    tx_hash = contract.set_boosted_yields_rewards_percentage(context.deployer_account, context.network_provider.proxy, 6000)\n",
    "    tx_hash = contract.set_boosted_yields_factors(context.deployer_account, context.network_provider.proxy, \n",
    "                                                  [2, 1, 0, 1, 1])\n",
    "    tx_hash = contract.set_energy_factory_address(context.deployer_account, context.network_provider.proxy, context.get_contracts(config.SIMPLE_LOCKS_ENERGY)[0].address)\n",
    "    tx_hash = simple_lock_energy_contract.add_sc_to_whitelist(context.deployer_account, context.network_provider.proxy, contract.address)\n",
    "    sleep(2)"
   ]
  },
  {
   "cell_type": "code",
   "execution_count": null,
   "metadata": {},
   "outputs": [],
   "source": [
    "# resume all farms\n",
    "context.deployer_account.sync_nonce(context.network_provider.proxy)\n",
    "contracts : list[StakingContract] = context.get_contracts(config.STAKINGS_V2)\n",
    "for contract in contracts:\n",
    "    tx_hash = contract.resume(context.deployer_account, context.network_provider.proxy)"
   ]
  },
  {
   "cell_type": "markdown",
   "metadata": {},
   "source": [
    "transfer tokens and prepare accounts"
   ]
  },
  {
   "cell_type": "code",
   "execution_count": null,
   "metadata": {},
   "outputs": [],
   "source": [
    "staking_contract.set_rewards_per_block(context.deployer_account, context.network_provider.proxy, 1000000000)"
   ]
  },
  {
   "cell_type": "code",
   "execution_count": null,
   "metadata": {},
   "outputs": [],
   "source": [
    "staking_contract.add_admin(context.deployer_account, context.network_provider.proxy, depositer.address.bech32())\n",
    "staking_contract.topup_rewards(depositer, context.network_provider.proxy, 10000000000000000000)"
   ]
  },
  {
   "cell_type": "code",
   "execution_count": null,
   "metadata": {},
   "outputs": [],
   "source": [
    "staking_contract.set_max_apr(context.deployer_account, context.network_provider.proxy, 10000)"
   ]
  },
  {
   "cell_type": "code",
   "execution_count": null,
   "metadata": {},
   "outputs": [],
   "source": [
    "staking_contract.start_produce_rewards(context.deployer_account, context.network_provider.proxy)"
   ]
  },
  {
   "cell_type": "code",
   "execution_count": null,
   "metadata": {},
   "outputs": [],
   "source": [
    "txhash = staking_contract.register_farm_token(context.deployer_account, context.network_provider.proxy, [\"STKTST\", \"STKTST\"])\n",
    "status = context.network_provider.check_simple_tx_status(txhash, \"set register farm token\")"
   ]
  },
  {
   "cell_type": "code",
   "execution_count": null,
   "metadata": {},
   "outputs": [],
   "source": [
    "status = context.network_provider.check_simple_tx_status(\"5f5e3b111bc5ca2f59e4f8bb8faf3aa7e7827bc0247808b53eb7bd58e9db19e4\", \"set boosted yields factors in farm\")"
   ]
  },
  {
   "cell_type": "code",
   "execution_count": null,
   "metadata": {},
   "outputs": [],
   "source": [
    "farm_token_hex = MetaStakingContractDataFetcher(Address(metastaking_contract.address), context.network_provider.proxy.url).get_data(\"getDualYieldTokenId\")\n",
    "print(hex_to_string(farm_token_hex))"
   ]
  },
  {
   "attachments": {},
   "cell_type": "markdown",
   "metadata": {},
   "source": [
    "enter stake"
   ]
  },
  {
   "cell_type": "code",
   "execution_count": null,
   "metadata": {},
   "outputs": [],
   "source": [
    "event = EnterFarmEvent(staking_contract.farming_token, 0, 1000000000000000000, \"\", 0, 0, False, False)\n",
    "txhash = staking_contract.stake_farm(context.network_provider, depositer, event, True)"
   ]
  },
  {
   "attachments": {},
   "cell_type": "markdown",
   "metadata": {},
   "source": [
    "claim stake"
   ]
  },
  {
   "cell_type": "code",
   "execution_count": null,
   "metadata": {},
   "outputs": [],
   "source": [
    "txhash = staking_contract.allow_external_claim(context.network_provider, user)"
   ]
  },
  {
   "cell_type": "code",
   "execution_count": null,
   "metadata": {},
   "outputs": [],
   "source": [
    "event = ClaimRewardsFarmEvent(100000000000000000, 10, \"\")\n",
    "txhash = staking_contract.claim_rewards(context.network_provider, depositer, event)"
   ]
  },
  {
   "cell_type": "code",
   "execution_count": null,
   "metadata": {},
   "outputs": [],
   "source": [
    "from utils.utils_chain import get_token_details_for_address\n",
    "\n",
    "farm_token_nonce, farm_token_amount, _ = get_token_details_for_address(staking_contract.farm_token, user.address.bech32(), context.network_provider.proxy)\n",
    "event = ClaimRewardsFarmEvent(farm_token_amount, farm_token_nonce, \"\")\n",
    "# get_stats_for_user(staking_contract, user)\n",
    "txhash = staking_contract.claim_rewards(context.network_provider, user, event)\n",
    "time.sleep(6 if user.address.get_shard() == 1 else 40)\n",
    "get_stats_for_user(staking_contract, user)"
   ]
  },
  {
   "cell_type": "markdown",
   "metadata": {},
   "source": [
    "claim boosted rewards"
   ]
  },
  {
   "cell_type": "code",
   "execution_count": null,
   "metadata": {},
   "outputs": [],
   "source": [
    "from utils.utils_chain import get_token_details_for_address\n",
    "\n",
    "farm_token_nonce, farm_token_amount, _ = get_token_details_for_address(staking_contract.farm_token, user.address.bech32(), context.network_provider.proxy)\n",
    "event = ClaimRewardsFarmEvent(farm_token_amount, farm_token_nonce, \"\")\n",
    "# get_stats_for_user(staking_contract, user)\n",
    "txhash = staking_contract.claim_boosted_rewards(context.network_provider, user, event)\n",
    "time.sleep(6 if user.address.get_shard() == 1 else 40)\n",
    "get_stats_for_user(staking_contract, user)"
   ]
  },
  {
   "attachments": {},
   "cell_type": "markdown",
   "metadata": {},
   "source": [
    "exit stake"
   ]
  },
  {
   "cell_type": "code",
   "execution_count": null,
   "metadata": {},
   "outputs": [],
   "source": [
    "event = ExitFarmEvent(staking_contract.farm_token, 1000000, 9, \"\", 1000000)\n",
    "txhash = staking_contract.unstake_farm(context.network_provider, depositer, event)"
   ]
  },
  {
   "cell_type": "code",
   "execution_count": null,
   "metadata": {},
   "outputs": [],
   "source": [
    "from utils.utils_chain import get_token_details_for_address\n",
    "\n",
    "farm_token_nonce, farm_token_amount, _ = get_token_details_for_address(staking_contract.farm_token, depositer.address.bech32(), context.network_provider)\n",
    "event = ClaimRewardsFarmEvent(farm_token_amount, farm_token_nonce, \"\")\n",
    "txhash = staking_contract.claim_rewards(context.network_provider, depositer, event)"
   ]
  },
  {
   "attachments": {},
   "cell_type": "markdown",
   "metadata": {},
   "source": [
    "report contract data"
   ]
  },
  {
   "cell_type": "code",
   "execution_count": null,
   "metadata": {},
   "outputs": [],
   "source": [
    "staking_tracker.update_data()\n",
    "staking_tracker.report_current_tracking_data()"
   ]
  },
  {
   "attachments": {},
   "cell_type": "markdown",
   "metadata": {},
   "source": [
    "Shadowfork control"
   ]
  },
  {
   "cell_type": "code",
   "execution_count": null,
   "metadata": {},
   "outputs": [],
   "source": [
    "from contracts.builtin_contracts import SFControlContract\n",
    "\n",
    "sf_control_contract = SFControlContract(config.SF_CONTROL_ADDRESS)\n",
    "sf_control_contract.epoch_fast_forward(context.deployer_account, context.network_provider.proxy, 16, 20)"
   ]
  },
  {
   "cell_type": "code",
   "execution_count": null,
   "metadata": {},
   "outputs": [],
   "source": [
    "from multiversx_sdk import CodeMetadata\n",
    "from utils.utils_tx import upgrade_call\n",
    "\n",
    "dummy_sc = \"erd1qqqqqqqqqqqqqpgqwjpvqpv36ujpaqmj7kh8flvwaqy0mjqhvmusma3y0w\"\n",
    "owner = Account(pem_file=config.DEFAULT_ADMIN)\n",
    "owner.address = Address(\"erd1rzv9c5wps2e78lpdq6pf9qkx5wlkr2yceuynmsd98hm3gtp8vmuse6y69m\")\n",
    "owner.sync_nonce(context.network_provider.proxy)\n",
    "\n",
    "metadata = CodeMetadata(upgradeable=True, payable_by_contract=False, readable=True)\n",
    "upgrade_call(\"dummy\", context.network_provider.proxy, 100000000, owner, Address(dummy_sc), \n",
    "             Path().home() / \"projects\" / \"contracts\" / \"mx-sc-dummy-proxy\" / \"output-docker\" / \"dummy-proxy\" / \"dummy-proxy.wasm\", metadata, [])"
   ]
  },
  {
   "cell_type": "code",
   "execution_count": null,
   "metadata": {},
   "outputs": [],
   "source": [
    "from utils.utils_tx import endpoint_call\n",
    "\n",
    "endpoint_call(context.network_provider.proxy, 100000000, owner, Address(dummy_sc), \"callInternalTransferEndpoint\", \n",
    "              ['STADA-833615', 14172, 27512970695365523642357, 'erd1qqqqqqqqqqqqqpgqnyq8k8nfurx5rz7zxudfeeqm983uw2tvkp2shvf2ls', 'unstakeFarm'])"
   ]
  },
  {
   "cell_type": "code",
   "execution_count": null,
   "metadata": {},
   "outputs": [],
   "source": [
    "from utils.utils_chain import nominated_amount\n",
    "staking_contract.topup_rewards(context.deployer_account, context.network_provider.proxy, nominated_amount(500000))"
   ]
  },
  {
   "cell_type": "code",
   "execution_count": null,
   "metadata": {},
   "outputs": [],
   "source": [
    "staking_contract.resume(context.deployer_account, context.network_provider.proxy)"
   ]
  },
  {
   "cell_type": "code",
   "execution_count": null,
   "metadata": {},
   "outputs": [],
   "source": [
    "staking_contract.start_produce_rewards(context.deployer_account, context.network_provider.proxy)"
   ]
  }
 ],
 "metadata": {
  "kernelspec": {
   "display_name": "venv",
   "language": "python",
   "name": "python3"
  },
  "language_info": {
   "codemirror_mode": {
    "name": "ipython",
    "version": 3
   },
   "file_extension": ".py",
   "mimetype": "text/x-python",
   "name": "python",
   "nbconvert_exporter": "python",
   "pygments_lexer": "ipython3",
   "version": "3.12.3"
  },
  "orig_nbformat": 4
 },
 "nbformat": 4,
 "nbformat_minor": 2
}
