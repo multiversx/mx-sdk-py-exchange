{
 "cells": [
  {
   "cell_type": "code",
   "execution_count": null,
   "metadata": {},
   "outputs": [],
   "source": [
    "import sys\n",
    "from pathlib import Path\n",
    "sys.path.append(str(Path.cwd().parent.parent.absolute()))"
   ]
  },
  {
   "cell_type": "code",
   "execution_count": null,
   "metadata": {},
   "outputs": [],
   "source": [
    "import config as env_config\n",
    "from multiversx_sdk import Address, CodeMetadata, TokenPayment, ProxyNetworkProvider\n",
    "from multiversx_sdk.core.transaction_builders import ContractCallBuilder, ContractDeploymentBuilder, MultiESDTNFTTransferBuilder, EGLDTransferBuilder\n",
    "from multiversx_sdk.core.transaction_builders import DefaultTransactionBuildersConfiguration\n",
    "from utils.utils_tx import NetworkProviders\n",
    "from tools.notebooks import env\n",
    "from contracts.liquid_locking_contract import LiquidLockingContract\n",
    "from contracts.builtin_contracts import SFControlContract\n",
    "\n",
    "config = DefaultTransactionBuildersConfiguration(chain_id=\"1\")\n",
    "proxy = ProxyNetworkProvider(\"https://proxy-shadowfork-one.elrond.ro\")\n",
    "network_provider = NetworkProviders(\"https://express-api-shadowfork-one.elrond.ro\", proxy.url)"
   ]
  },
  {
   "cell_type": "code",
   "execution_count": null,
   "metadata": {},
   "outputs": [],
   "source": [
    "contract = LiquidLockingContract([], \"\")\n",
    "sf_control = SFControlContract(env_config.SF_CONTROL_ADDRESS)"
   ]
  },
  {
   "cell_type": "code",
   "execution_count": null,
   "metadata": {},
   "outputs": [],
   "source": [
    "from multiversx_sdk import AccountNonceHolder, UserSigner\n",
    "from pathlib import Path\n",
    "\n",
    "user = env.USER1\n",
    "owner = env.OWNER\n",
    "user_nonce_holder = AccountNonceHolder(proxy.get_account(user).nonce)\n",
    "user_signer = UserSigner.from_pem_file(Path(env.USER1_PEM))"
   ]
  },
  {
   "cell_type": "code",
   "execution_count": null,
   "metadata": {},
   "outputs": [],
   "source": [
    "from utils.utils_chain import Account\n",
    "from multiversx_sdk import AccountNonceHolder, UserSigner\n",
    "\n",
    "minter = Account(pem_file=\"~/Documents/sh1.pem\", pem_index=0)\n",
    "owner = Account(pem_file=\"~/Documents/sh1.pem\")\n",
    "user = Account(pem_file=\"~/Documents/sh1.pem\")\n",
    "user_nonce_holder = AccountNonceHolder(proxy.get_account(minter.address).nonce)\n",
    "minter.sync_nonce(proxy)\n",
    "owner.sync_nonce(proxy)\n",
    "user.sync_nonce(proxy)"
   ]
  },
  {
   "attachments": {},
   "cell_type": "markdown",
   "metadata": {},
   "source": [
    "Issue metaesdt tokens"
   ]
  },
  {
   "cell_type": "code",
   "execution_count": null,
   "metadata": {},
   "outputs": [],
   "source": [
    "import time\n",
    "from contracts.builtin_contracts import ESDTContract\n",
    "esdt_contract = ESDTContract(env_config.TOKENS_CONTRACT_ADDRESS)\n",
    "nr_tokens = 2\n",
    "token_ticker = \"LIQUID\"\n",
    "\n",
    "# issue a number of nr_tokens tokens\n",
    "hashes = []\n",
    "for i in range(1, nr_tokens):\n",
    "    hash = esdt_contract.issue_meta_esdt_token(owner, proxy, \n",
    "                                     [f\"{token_ticker}{i}\", f\"{token_ticker}{i}\", 18, \n",
    "                                      \"canPause\", \"true\", \n",
    "                                      \"canFreeze\", \"true\", \"canWipe\", \"true\", \"canChangeOwner\", \"true\", \n",
    "                                      \"canUpgrade\", \"true\", \"canAddSpecialRoles\", \"true\"])\n",
    "    print(f\"Issued {token_ticker}{i} in: {hash}\")\n",
    "    hashes.append(hash)\n",
    "    time.sleep(1)\n",
    "\n",
    "# check issue success and retrieve tokens\n",
    "issued_collections = []\n",
    "for hash in hashes:\n",
    "    if network_provider.check_complex_tx_status(hash, \"issue token\"):\n",
    "        tx_data = proxy.get_transaction(hash)\n",
    "        issue_event = tx_data.logs.find_first_or_none_event(\"issue\")\n",
    "        issued_token = str(issue_event.topics[0])\n",
    "        print(issue_event.topics[0].raw)\n",
    "        print(\"Issued token:\", issued_token)\n",
    "        issued_collections.append(issued_token)\n",
    "    else:\n",
    "        print(f\"Transaction {hash} failed!\")\n",
    "\n",
    "hashes = []\n",
    "for collection in issued_collections:\n",
    "    hashes.append(esdt_contract.set_special_role_token(owner, proxy, [collection, owner.address.bech32(), \"ESDTRoleNFTCreate\"]))\n",
    "    time.sleep(1)\n",
    "    hashes.append(esdt_contract.set_special_role_token(owner, proxy, [collection, owner.address.bech32(), \"ESDTRoleNFTAddQuantity\"]))\n",
    "    time.sleep(1)\n",
    "    hashes.append(esdt_contract.set_special_role_token(owner, proxy, [collection, owner.address.bech32(), \"ESDTRoleNFTBurn\"]))\n",
    "    time.sleep(1)\n",
    "\n",
    "# check special roles success\n",
    "issued_collections = []\n",
    "for hash in hashes:\n",
    "    network_provider.check_complex_tx_status(hash, \"set special roles\")\n",
    "\n",
    "for collection in issued_collections:\n",
    "    "
   ]
  },
  {
   "cell_type": "code",
   "execution_count": null,
   "metadata": {},
   "outputs": [],
   "source": [
    "tx_data = proxy.get_transaction(hash)\n",
    "if tx_data.status.is_failed():\n",
    "    print(\"Transaction failed\")\n",
    "    exit(1)\n",
    "issue_event = tx_data.logs.find_first_or_none_event(\"issue\")\n",
    "issued_token = str(issue_event.topics[0])\n",
    "print(issue_event.topics[0].raw)\n",
    "print(\"Issued token:\", issued_token)"
   ]
  },
  {
   "attachments": {},
   "cell_type": "markdown",
   "metadata": {},
   "source": [
    "Issue esdt tokens"
   ]
  },
  {
   "cell_type": "code",
   "execution_count": null,
   "metadata": {},
   "outputs": [],
   "source": [
    "import time\n",
    "from contracts.builtin_contracts import ESDTContract\n",
    "esdt_contract = ESDTContract(env_config.TOKENS_CONTRACT_ADDRESS)\n",
    "nr_tokens = 2\n",
    "token_ticker = \"LIQUID\"\n",
    "\n",
    "# issue a number of nr_tokens tokens\n",
    "hashes = []\n",
    "for i in range(1, nr_tokens+1):\n",
    "    hash = esdt_contract.issue_fungible_token(owner, proxy, \n",
    "                                     [f\"{token_ticker}{i}\", f\"{token_ticker}{i}\", 1000000000000000000000000000, 18, \n",
    "                                      \"canMint\", \"true\", \"canBurn\", \"true\", \"canPause\", \"true\", \"canFreeze\", \"true\", \"canWipe\", \"true\", \"canChangeOwner\", \"true\", \"canUpgrade\", \"true\", \"canAddSpecialRoles\", \"true\"])\n",
    "    print(f\"Issued {token_ticker}{i} in: {hash}\")\n",
    "    hashes.append(hash)\n",
    "    time.sleep(1)\n",
    "\n",
    "# check issue success and retrieve tokens\n",
    "issued_tokens = []\n",
    "for hash in hashes:\n",
    "    if network_provider.check_complex_tx_status(hash, \"issue token\"):\n",
    "        tx_data = proxy.get_transaction(hash)\n",
    "        issue_event = tx_data.logs.find_first_or_none_event(\"issue\")\n",
    "        issued_token = str(issue_event.topics[0])\n",
    "        print(issue_event.topics[0].raw)\n",
    "        print(\"Issued token:\", issued_token)\n",
    "        issued_tokens.append(issued_token)\n",
    "    else:\n",
    "        print(f\"Transaction {hash} failed!\")\n",
    "\n",
    "print(f'Issued ESDT Tokens: {issued_tokens}')"
   ]
  },
  {
   "cell_type": "code",
   "execution_count": null,
   "metadata": {},
   "outputs": [],
   "source": [
    "issued_tokens = ['LIQUID1-951a95', 'LIQUID2-951a93']"
   ]
  },
  {
   "attachments": {},
   "cell_type": "markdown",
   "metadata": {},
   "source": [
    "Send tokens"
   ]
  },
  {
   "cell_type": "code",
   "execution_count": null,
   "metadata": {},
   "outputs": [],
   "source": [
    "import time\n",
    "\n",
    "user_nonce_holder = AccountNonceHolder(proxy.get_account(minter.address).nonce)\n",
    "hashes = []\n",
    "\n",
    "for i in range(10):\n",
    "    user_account = Account(pem_file=\"~/Documents/split/C10.pem\", pem_index=i%10)\n",
    "    minter.sync_nonce(proxy)\n",
    "    \n",
    "    transfer = []\n",
    "    for token in issued_tokens:\n",
    "        transfer.append(TokenPayment.fungible_from_amount(token, 1000, 18))\n",
    "\n",
    "    builder = MultiESDTNFTTransferBuilder(\n",
    "        config,\n",
    "        destination=user_account.address,\n",
    "        sender=minter.address,\n",
    "        gas_limit=30000000,\n",
    "        payments=transfer,\n",
    "    )\n",
    "\n",
    "    tx = builder.build()\n",
    "    tx.nonce = user_nonce_holder.get_nonce_then_increment()\n",
    "    tx.signature = minter.signer.sign(tx)\n",
    "    hash = proxy.send_transaction(tx)\n",
    "    print(hash)\n",
    "    hashes.append(hash)\n",
    "    time.sleep(2)"
   ]
  },
  {
   "attachments": {},
   "cell_type": "markdown",
   "metadata": {},
   "source": [
    "Send EGLD"
   ]
  },
  {
   "cell_type": "code",
   "execution_count": null,
   "metadata": {},
   "outputs": [],
   "source": [
    "import time\n",
    "\n",
    "user_nonce_holder = AccountNonceHolder(proxy.get_account(minter.address).nonce)\n",
    "hashes = []\n",
    "\n",
    "for i in range(10):\n",
    "    user_account = Account(pem_file=\"~/Documents/split/C10.pem\", pem_index=i%10)\n",
    "    minter.sync_nonce(proxy)\n",
    "    \n",
    "    transfer = TokenPayment.egld_from_amount(1)\n",
    "\n",
    "    builder = EGLDTransferBuilder(\n",
    "        config,\n",
    "        receiver=user_account.address,\n",
    "        sender=minter.address,\n",
    "        gas_limit=50000,\n",
    "        payment=transfer,\n",
    "    )\n",
    "\n",
    "    tx = builder.build()\n",
    "    tx.nonce = user_nonce_holder.get_nonce_then_increment()\n",
    "    tx.signature = minter.signer.sign(tx)\n",
    "    hash = proxy.send_transaction(tx)\n",
    "    print(hash)\n",
    "    hashes.append(hash)\n",
    "    time.sleep(2)"
   ]
  },
  {
   "attachments": {},
   "cell_type": "markdown",
   "metadata": {},
   "source": [
    "Deploy contract"
   ]
  },
  {
   "cell_type": "code",
   "execution_count": null,
   "metadata": {},
   "outputs": [],
   "source": [
    "from pathlib import Path\n",
    "owner.sync_nonce(proxy)\n",
    "bytecode = Path.home() / \"projects\" / \"contracts\" / \"mx-contracts-rs\" / \"contracts\" / \"liquid-locking\" / \"output\" / \"liquid-locking.wasm\"\n",
    "hash, contract.address = contract.contract_deploy(owner, proxy, str(bytecode), [10])\n",
    "print(f'Contract address: {contract.address}')"
   ]
  },
  {
   "cell_type": "code",
   "execution_count": null,
   "metadata": {},
   "outputs": [],
   "source": [
    "import time\n",
    "owner.sync_nonce(proxy)\n",
    "for token in issued_tokens:\n",
    "    contract.whitelist_token(owner, proxy, [token])\n",
    "    time.sleep(2)"
   ]
  },
  {
   "attachments": {},
   "cell_type": "markdown",
   "metadata": {},
   "source": [
    "Lock tokens"
   ]
  },
  {
   "cell_type": "code",
   "execution_count": null,
   "metadata": {},
   "outputs": [],
   "source": [
    "from utils.utils_tx import ESDTToken\n",
    "\n",
    "user = Account(pem_file=\"~/Documents/split/C10.pem\", pem_index=0)\n",
    "user.sync_nonce(proxy)\n",
    "token = [ESDTToken(issued_tokens[0], 0, 1000000000000000000),\n",
    "         ESDTToken(issued_tokens[1], 0, 1000000000000000000)]\n",
    "contract.lock(user, proxy, [token])"
   ]
  },
  {
   "cell_type": "code",
   "execution_count": null,
   "metadata": {},
   "outputs": [],
   "source": [
    "locked_tokens = contract.get_locked_tokens(proxy, user.address.bech32())\n",
    "print(locked_tokens)\n",
    "locked_amounts = contract.get_locked_token_amounts(proxy, user.address.bech32())\n",
    "print(locked_amounts)"
   ]
  }
 ],
 "metadata": {
  "kernelspec": {
   "display_name": ".venv",
   "language": "python",
   "name": "python3"
  },
  "language_info": {
   "codemirror_mode": {
    "name": "ipython",
    "version": 3
   },
   "file_extension": ".py",
   "mimetype": "text/x-python",
   "name": "python",
   "nbconvert_exporter": "python",
   "pygments_lexer": "ipython3",
   "version": "3.8.10"
  },
  "orig_nbformat": 4,
  "vscode": {
   "interpreter": {
    "hash": "46890cb94c8e016cd17355f2b23107d7cb41a4430d538522c76446f308933f39"
   }
  }
 },
 "nbformat": 4,
 "nbformat_minor": 2
}
