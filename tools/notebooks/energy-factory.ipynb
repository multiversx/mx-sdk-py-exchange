{
 "cells": [
  {
   "cell_type": "code",
   "execution_count": null,
   "metadata": {},
   "outputs": [],
   "source": [
    "import sys\n",
    "from pathlib import Path\n",
    "sys.path.append(str(Path.cwd().parent.parent.absolute()))\n",
    "import config\n",
    "\n",
    "from context import Context\n",
    "from utils.utils_chain import Account, Address\n",
    "from contracts.simple_lock_contract import SimpleLockContract\n",
    "from contracts.simple_lock_energy_contract import SimpleLockEnergyContract\n",
    "from contracts.dex_proxy_contract import DexProxyContract\n",
    "context = Context()\n",
    "IMPERSONATE_ADDRESS = \"\"\n",
    "SIMPLE_LOCK_ENERGY_ADDRESS = \"\"\n",
    "LOCKED_TOKEN = \"MEX-455c57\"\n",
    "LOCKED_LP_TOKEN = \"XMEX-fda355\"\n",
    "LOCKED_FARM_TOKEN = \"LKMEX-aab910\"\n",
    "\n",
    "user = Account(pem_file=config.DEFAULT_ACCOUNTS)\n",
    "# contract = SimpleLockEnergyContract(LOCKED_TOKEN, LOCKED_LP_TOKEN, LOCKED_FARM_TOKEN, SIMPLE_LOCK_ENERGY_ADDRESS)\n",
    "if \"shadowfork\" in context.network_provider.proxy.url and IMPERSONATE_ADDRESS:\n",
    "    user.address = Address.from_bech32(IMPERSONATE_ADDRESS)\n",
    "    user.sync_nonce(context.network_provider.proxy)\n",
    "\n",
    "\n",
    "proxy_contract: DexProxyContract\n",
    "proxy_contract = context.get_contracts(config.PROXIES_V2)[0]\n",
    "energy_contract: SimpleLockEnergyContract\n",
    "energy_contract = context.get_contracts(config.SIMPLE_LOCKS_ENERGY)[0]"
   ]
  },
  {
   "cell_type": "code",
   "execution_count": null,
   "metadata": {},
   "outputs": [],
   "source": [
    "from multiversx_sdk import Address, TokenPayment, ProxyNetworkProvider\n",
    "from multiversx_sdk.core.transaction_builders import ContractCallBuilder, ESDTNFTTransferBuilder, DefaultTransactionBuildersConfiguration\n",
    "from tools.notebooks import env\n",
    "\n",
    "config = DefaultTransactionBuildersConfiguration(chain_id=env.CHAIN_ID)\n",
    "proxy = ProxyNetworkProvider(env.PROXY_URL)"
   ]
  },
  {
   "attachments": {},
   "cell_type": "markdown",
   "metadata": {},
   "source": [
    "migrateOldTokens"
   ]
  },
  {
   "cell_type": "code",
   "execution_count": null,
   "metadata": {},
   "outputs": [],
   "source": [
    "from multiversx_sdk import TransactionsConverter\n",
    "\n",
    "user = env.USER1\n",
    "user_nonce_holder = AccountNonceHolder(proxy.get_account(user).nonce)\n",
    "\n",
    "transfers = [\n",
    "    TokenPayment.meta_esdt_from_amount(LKMEX, 2286831, 100000, 18)\n",
    "]\n",
    "\n",
    "builder = ContractCallBuilder(\n",
    "    config,\n",
    "    contract=contract_address,\n",
    "    function_name=\"migrateOldTokens\",\n",
    "    caller=user,\n",
    "    call_arguments=[],\n",
    "    gas_limit=30000000,\n",
    "    esdt_transfers=transfers\n",
    ")\n",
    "\n",
    "tx = builder.build()\n",
    "\n",
    "converter = TransactionsConverter()\n",
    "print(\"Transaction:\", converter.transaction_to_dictionary(tx))\n",
    "print(\"Transaction data:\", tx.data.decode())"
   ]
  },
  {
   "cell_type": "code",
   "execution_count": null,
   "metadata": {},
   "outputs": [],
   "source": [
    "from multiversx_sdk import TransactionComputer()\n",
    "\n",
    "tx.nonce = user_nonce_holder.get_nonce_then_increment()\n",
    "\n",
    "tx_computer = TransactionComputer()\n",
    "tx.signature = user_signer.sign(tx_computer.compute_bytes_for_signing(tx))\n",
    "proxy.send_transaction(tx)"
   ]
  },
  {
   "cell_type": "code",
   "execution_count": null,
   "metadata": {},
   "outputs": [],
   "source": [
    "from contracts.simple_lock_energy_contract import SimpleLockEnergyContract\n",
    "from utils.utils_chain import Account, WrapperAddress\n",
    "from utils.utils_tx import ESDTToken\n",
    "from multiversx_sdk import ProxyNetworkProvider\n",
    "\n",
    "energy_contract: SimpleLockEnergyContract\n",
    "energy_contract = context.get_contracts(config.SIMPLE_LOCKS_ENERGY)[0]\n",
    "\n",
    "user = Account(pem_file=config.DEFAULT_OWNER)\n",
    "user.address = WrapperAddress(\"erd14sp4unwsgyae0hae8cgnm0tp6yaj3emyt02mxlhfsr48ymqz52lqheyh9s\")\n",
    "user.sync_nonce(context.network_provider.proxy)\n",
    "\n",
    "proxy2 = ProxyNetworkProvider(\"https://proxy-shadowfork-one.elrond.ro\")\n",
    "\n",
    "hash = energy_contract.lock_tokens(user, context.network_provider.proxy, [[ESDTToken(\"MEX-455c57\", 0, 10000)], 720])\n",
    "user.sync_nonce(proxy2)\n",
    "hash2 = energy_contract.lock_tokens(user, proxy2, [[ESDTToken(\"MEX-455c57\", 0, 10000)], 720])"
   ]
  },
  {
   "cell_type": "markdown",
   "metadata": {},
   "source": [
    "LOCK TOKENS"
   ]
  },
  {
   "cell_type": "code",
   "execution_count": null,
   "metadata": {},
   "outputs": [],
   "source": [
    "from contracts.simple_lock_energy_contract import SimpleLockEnergyContract\n",
    "from utils.utils_chain import get_token_details_for_address\n",
    "from utils.utils_tx import ESDTToken\n",
    "\n",
    "_, mex_amount, _ = get_token_details_for_address(proxy_contract.token, user.address.bech32(), context.network_provider.proxy)\n",
    "\n",
    "lockable_tokens = ESDTToken(proxy_contract.token, 0, mex_amount)\n",
    "\n",
    "txhash = energy_contract.lock_tokens(user, context.network_provider.proxy, [[lockable_tokens], 720])"
   ]
  },
  {
   "cell_type": "markdown",
   "metadata": {},
   "source": [
    "UNLOCK TOKENS"
   ]
  },
  {
   "cell_type": "code",
   "execution_count": null,
   "metadata": {},
   "outputs": [],
   "source": [
    "from contracts.simple_lock_energy_contract import SimpleLockEnergyContract\n",
    "from utils.utils_chain import get_token_details_for_address\n",
    "from utils.utils_tx import ESDTToken\n",
    "\n",
    "txhash = energy_contract.unlock_tokens(user, context.network_provider.proxy, [[ESDTToken(\"XMEX-fda355\", 62, 10)]])"
   ]
  },
  {
   "cell_type": "markdown",
   "metadata": {},
   "source": [
    "EXTEND LOCK"
   ]
  },
  {
   "cell_type": "code",
   "execution_count": null,
   "metadata": {},
   "outputs": [],
   "source": [
    "from contracts.simple_lock_energy_contract import SimpleLockEnergyContract\n",
    "from utils.utils_tx import ESDTToken\n",
    "\n",
    "# contract = SimpleLockEnergyContract(LOCKED_TOKEN, LOCKED_TOKEN, LOCKED_LP_TOKEN, LOCKED_FARM_TOKEN, SIMPLE_LOCK_ENERGY_ADDRESS)\n",
    "tx = energy_contract.extend_lock(user, context.network_provider.proxy, [[ESDTToken(\"XMEX-fda355\", 61, 10)], 30])\n",
    "\n",
    "print(\"Transaction hash:\", tx)"
   ]
  },
  {
   "cell_type": "code",
   "execution_count": null,
   "metadata": {},
   "outputs": [],
   "source": [
    "\n",
    "import random\n",
    "import time\n",
    "from ported_arrows.stress.shared import get_shard_of_address\n",
    "from utils.contract_data_fetchers import SimpleLockEnergyContractDataFetcher\n",
    "from utils.utils_chain import nominated_amount\n",
    "\n",
    "\n",
    "deployer_shard = get_shard_of_address(context.deployer_account.address)\n",
    "# contract: SimpleLockEnergyContract\n",
    "contract = context.get_contracts(config.SIMPLE_LOCKS_ENERGY)[0]\n",
    "\n",
    "\n",
    "simple_lock_energy_data_fetcher = SimpleLockEnergyContractDataFetcher(Address.new_from_bech32(contract.address),\n",
    "                                                                          context.network_provider.proxy.url)\n",
    "lock_options = simple_lock_energy_data_fetcher.get_data('getLockOptions')\n",
    "sleep_time = config.CROSS_SHARD_DELAY if get_shard_of_address(user.address) is not deployer_shard \\\n",
    "        else 6\n",
    "\n",
    "print(lock_options)\n",
    "    # lock tokens\n",
    "amount = random.randint(1, 10)\n",
    "lock_period = random.choice(lock_options)\n",
    "token = ESDTToken(LOCKED_TOKEN, 0, nominated_amount(amount))\n",
    "args = [[token], lock_period]\n",
    "_ = contract.lock_tokens(user, context.network_provider.proxy, args)\n",
    "\n",
    "print(f\"User: {user.address.bech32()}\")\n",
    "print(f\"Locked {amount} tokens for {lock_period} epochs.\")\n",
    "time.sleep(sleep_time)"
   ]
  },
  {
   "cell_type": "markdown",
   "metadata": {},
   "source": [
    "GET ENERGY FOR USER"
   ]
  },
  {
   "cell_type": "code",
   "execution_count": null,
   "metadata": {},
   "outputs": [],
   "source": [
    "from utils.contract_data_fetchers import SimpleLockEnergyContractDataFetcher\n",
    "\n",
    "\n",
    "simple_lock_energy_data_fetcher = SimpleLockEnergyContractDataFetcher(Address.new_from_bech32(energy_contract.address),\n",
    "                                                                          context.network_provider.proxy.url)\n",
    "\n",
    "user_energy = simple_lock_energy_data_fetcher.get_data('getEnergyEntryForUser', [user.address])\n",
    "print(user_energy)"
   ]
  },
  {
   "cell_type": "code",
   "execution_count": null,
   "metadata": {},
   "outputs": [],
   "source": [
    "from utils.contract_data_fetchers import SimpleLockEnergyContractDataFetcher\n",
    "\n",
    "\n",
    "simple_lock_energy_data_fetcher = SimpleLockEnergyContractDataFetcher(Address.new_from_bech32(energy_contract.address),\n",
    "                                                                          context.network_provider.proxy.url)\n",
    "\n",
    "user_energy = simple_lock_energy_data_fetcher.get_data('getEnergyAmountForUser', [user.address])\n",
    "print(user_energy)"
   ]
  }
 ],
 "metadata": {
  "kernelspec": {
   "display_name": ".venv",
   "language": "python",
   "name": "python3"
  },
  "language_info": {
   "codemirror_mode": {
    "name": "ipython",
    "version": 3
   },
   "file_extension": ".py",
   "mimetype": "text/x-python",
   "name": "python",
   "nbconvert_exporter": "python",
   "pygments_lexer": "ipython3",
   "version": "3.11.6"
  },
  "orig_nbformat": 4,
  "vscode": {
   "interpreter": {
    "hash": "46890cb94c8e016cd17355f2b23107d7cb41a4430d538522c76446f308933f39"
   }
  }
 },
 "nbformat": 4,
 "nbformat_minor": 2
}
