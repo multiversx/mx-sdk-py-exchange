{
 "cells": [
  {
   "cell_type": "code",
   "execution_count": null,
   "metadata": {},
   "outputs": [],
   "source": [
    "import sys\n",
    "from pathlib import Path\n",
    "sys.path.append(str(Path.cwd().parent.parent.absolute()))\n",
    "import config\n",
    "from context import Context\n",
    "from contracts.simple_lock_energy_contract import SimpleLockEnergyContract\n",
    "\n",
    "context = Context()"
   ]
  },
  {
   "cell_type": "code",
   "execution_count": 2,
   "metadata": {},
   "outputs": [],
   "source": [
    "energy_contract: SimpleLockEnergyContract\n",
    "energy_contract = context.get_contracts(config.SIMPLE_LOCKS_ENERGY)[0]"
   ]
  },
  {
   "cell_type": "code",
   "execution_count": null,
   "metadata": {},
   "outputs": [],
   "source": [
    "energy_contract.contract_upgrade(context.deployer_account, context.network_provider.proxy, config.SIMPLE_LOCK_ENERGY_BYTECODE_PATH, [], True)"
   ]
  },
  {
   "cell_type": "code",
   "execution_count": null,
   "metadata": {},
   "outputs": [],
   "source": [
    "args = [\n",
    "    'erd1t2lpkglzm6lrhgrsuc6qfudhmytyjk3c249n8skwyxjv277sdt5s30ujs0',\n",
    "    1339875634140457488530206247515,\n",
    "    0,\n",
    "    \"erd10fmnqw0dac4trgyj4n7vyw3r2660ggd8v7azkggxahayata5jd9sadla8j\",\n",
    "    -584742721155522076731251467874,\n",
    "    0\n",
    "]\n",
    "energy_contract.adjust_user_energy(context.deployer_account, context.network_provider.proxy, args)"
   ]
  },
  {
   "cell_type": "code",
   "execution_count": null,
   "metadata": {},
   "outputs": [],
   "source": [
    "from utils.utils_chain import Account, WrapperAddress\n",
    "from utils.utils_tx import ESDTToken\n",
    "from multiversx_sdk import ProxyNetworkProvider\n",
    "\n",
    "energy_contract: SimpleLockEnergyContract\n",
    "energy_contract = context.get_contracts(config.SIMPLE_LOCKS_ENERGY)[0]\n",
    "\n",
    "user = Account(pem_file=config.DEFAULT_OWNER)\n",
    "user.address = WrapperAddress(\"erd14sp4unwsgyae0hae8cgnm0tp6yaj3emyt02mxlhfsr48ymqz52lqheyh9s\")\n",
    "user.sync_nonce(context.network_provider.proxy)\n",
    "\n",
    "proxy2 = ProxyNetworkProvider(\"https://proxy-shadowfork-one.elrond.ro\")\n",
    "\n",
    "hash = energy_contract.lock_tokens(user, context.network_provider.proxy, [[ESDTToken(\"MEX-455c57\", 0, 10000)], 720])\n",
    "user.sync_nonce(proxy2)\n",
    "hash2 = energy_contract.lock_tokens(user, proxy2, [[ESDTToken(\"MEX-455c57\", 0, 10000)], 720])"
   ]
  },
  {
   "cell_type": "code",
   "execution_count": null,
   "metadata": {},
   "outputs": [],
   "source": [
    "energy_contract: SimpleLockEnergyContract\n",
    "energy_contract = context.get_contracts(config.SIMPLE_LOCKS_ENERGY)[0]\n",
    "\n",
    "locked_asset_position_creator = context.get_contracts(config.LOCKED_TOKEN_POSITION_CREATOR)[0]\n",
    "energy_contract.set_transfer_role_locked_token(context.deployer_account, context.network_provider.proxy, [locked_asset_position_creator.address])"
   ]
  }
 ],
 "metadata": {
  "kernelspec": {
   "display_name": "venv",
   "language": "python",
   "name": "python3"
  },
  "language_info": {
   "codemirror_mode": {
    "name": "ipython",
    "version": 3
   },
   "file_extension": ".py",
   "mimetype": "text/x-python",
   "name": "python",
   "nbconvert_exporter": "python",
   "pygments_lexer": "ipython3",
   "version": "3.12.3"
  },
  "orig_nbformat": 4
 },
 "nbformat": 4,
 "nbformat_minor": 2
}
