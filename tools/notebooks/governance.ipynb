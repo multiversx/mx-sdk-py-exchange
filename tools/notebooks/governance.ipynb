{
 "cells": [
  {
   "cell_type": "code",
   "execution_count": null,
   "metadata": {},
   "outputs": [],
   "source": [
    "import sys\n",
    "from pathlib import Path\n",
    "sys.path.append(str(Path.cwd().parent.parent.absolute()))\n",
    "import config"
   ]
  },
  {
   "cell_type": "code",
   "execution_count": null,
   "metadata": {},
   "outputs": [],
   "source": [
    "from context import Context\n",
    "\n",
    "context = Context()"
   ]
  },
  {
   "cell_type": "code",
   "execution_count": null,
   "metadata": {},
   "outputs": [],
   "source": [
    "from contracts.governance_contract import GovernanceContract\n",
    "locked_token = context.get_contracts(config.SIMPLE_LOCKS_ENERGY)[0].locked_token\n",
    "contract = GovernanceContract(locked_token)\n",
    "print(f'Governance payment token: {locked_token}')"
   ]
  },
  {
   "cell_type": "code",
   "execution_count": null,
   "metadata": {},
   "outputs": [],
   "source": [
    "# only for contract overrides\n",
    "contract.address = \"erd1qqqqqqqqqqqqqpgqk4tchxyrzt5pzunl6qhcnl705yrnplms0n4sa52jkw\""
   ]
  },
  {
   "cell_type": "code",
   "execution_count": null,
   "metadata": {},
   "outputs": [],
   "source": [
    "tx_hash, address = contract.contract_deploy(context.deployer_account, context.network_provider.proxy, config.GOVERNANCE_BYTECODE_PATH, \n",
    "                         [1000000, 3000000000000000000000000, 5000, 20, 50, 5000, \n",
    "                          context.get_contracts(config.SIMPLE_LOCKS_ENERGY)[0].address,\n",
    "                          context.get_fee_collector_contract(0).address])\n",
    "context.network_provider.check_deploy_tx_status(tx_hash, address, \"Deploy Governance Contract\")\n",
    "contract.address = address"
   ]
  },
  {
   "cell_type": "code",
   "execution_count": null,
   "metadata": {},
   "outputs": [],
   "source": [
    "contract.fee_token = context.get_contracts(config.EGLD_WRAPS)[0].wrapped_token\n",
    "tx_hash = contract.contract_upgrade(context.deployer_account, context.network_provider.proxy, config.GOVERNANCE_BYTECODE_PATH, \n",
    "                         [0, 1000, 5000, 10, 20, 10000, \n",
    "                          context.get_contracts(config.SIMPLE_LOCKS_ENERGY)[0].address,\n",
    "                          context.get_fee_collector_contract(0).address])\n",
    "context.network_provider.check_deploy_tx_status(tx_hash, address, \"Upgrade Governance Contract\")"
   ]
  },
  {
   "cell_type": "code",
   "execution_count": null,
   "metadata": {},
   "outputs": [],
   "source": [
    "from contracts.simple_lock_energy_contract import SimpleLockEnergyContract\n",
    "energy_contract: SimpleLockEnergyContract\n",
    "energy_contract = context.get_contracts(config.SIMPLE_LOCKS_ENERGY)[0]"
   ]
  },
  {
   "cell_type": "code",
   "execution_count": null,
   "metadata": {},
   "outputs": [],
   "source": [
    "energy_contract.add_sc_to_whitelist(context.deployer_account, context.network_provider.proxy, address)"
   ]
  },
  {
   "cell_type": "code",
   "execution_count": null,
   "metadata": {},
   "outputs": [],
   "source": [
    "energy_contract.set_transfer_role_locked_token(context.deployer_account, context.network_provider.proxy, [address])"
   ]
  },
  {
   "cell_type": "code",
   "execution_count": null,
   "metadata": {},
   "outputs": [],
   "source": [
    "energy_contract.add_sc_to_token_transfer_whitelist(context.deployer_account, context.network_provider.proxy, address)"
   ]
  },
  {
   "cell_type": "markdown",
   "metadata": {},
   "source": [
    "PROPOSE!"
   ]
  },
  {
   "cell_type": "code",
   "execution_count": null,
   "metadata": {},
   "outputs": [],
   "source": [
    "from utils.utils_tx import ESDTToken\n",
    "from utils.utils_chain import Account, WrapperAddress as Address, get_all_token_nonces_details_for_account\n",
    "\n",
    "proposer = Account(pem_file=\"~/Documents/sh1.pem\")\n",
    "proposer.address = Address(\"erd1zg4wrhfewyy7vmdz38hlqkts3z7j95593t769qfd0z3cgge408lsrgshap\")\n",
    "proposer.sync_nonce(context.network_provider.proxy)\n",
    "\n",
    "fee = 3000000000000000000000000\n",
    "used_nonce = 0\n",
    "tokens_in_account = get_all_token_nonces_details_for_account(contract.fee_token, proposer.address.bech32(), context.network_provider.proxy)\n",
    "for token in tokens_in_account:\n",
    "    print(token)\n",
    "    if int(token['balance']) > fee:\n",
    "        used_nonce = token['nonce']\n",
    "        break\n",
    "\n",
    "if not used_nonce:\n",
    "    raise Exception(\"Not enough token balance\")\n",
    "payment = ESDTToken(contract.fee_token, used_nonce, fee)\n",
    "\n",
    "contract.propose(proposer, context.network_provider.proxy, [[payment], \"trial-propose\"])"
   ]
  },
  {
   "cell_type": "markdown",
   "metadata": {},
   "source": [
    "CANCEL"
   ]
  },
  {
   "cell_type": "code",
   "execution_count": null,
   "metadata": {},
   "outputs": [],
   "source": [
    "contract.cancel(proposer, context.network_provider.proxy, [4])"
   ]
  },
  {
   "cell_type": "markdown",
   "metadata": {},
   "source": [
    "WITHDRAW"
   ]
  },
  {
   "cell_type": "code",
   "execution_count": null,
   "metadata": {},
   "outputs": [],
   "source": [
    "contract.withdraw_deposit(proposer, context.network_provider.proxy, [5])"
   ]
  },
  {
   "cell_type": "markdown",
   "metadata": {},
   "source": [
    "VOTE"
   ]
  },
  {
   "cell_type": "code",
   "execution_count": null,
   "metadata": {},
   "outputs": [],
   "source": [
    "from utils.utils_chain import Account, WrapperAddress as Address\n",
    "\n",
    "voters = [\n",
    "    'erd1x5v0kdnerkqk2tp5weqdaxersykgtcjqatz4x3l2e7kmmjs8e2xskcwstt',\n",
    "    'erd1d5na7497xqz322uk4kadkjncxtv9tjg34jgl6867nhhqx5j9t74s6mv4c5',\n",
    "    'erd16pe79ay2m6g7ap9vpshvvqaqc3ayplwuqw0rkwj2gqvv0egn0wjsyzvjwd'\n",
    "]\n",
    "\n",
    "voter_address = voters[1]\n",
    "\n",
    "voter = Account(pem_file=\"~/Documents/sh1.pem\")\n",
    "voter.address = Address(voter_address)\n",
    "voter.sync_nonce(context.network_provider.proxy)\n",
    "\n",
    "contract.vote(voter, context.network_provider.proxy, [6, 3])"
   ]
  },
  {
   "cell_type": "code",
   "execution_count": null,
   "metadata": {},
   "outputs": [],
   "source": [
    "from utils.utils_chain import Account, WrapperAddress as Address\n",
    "from random import randint\n",
    "from time import sleep\n",
    "from multiversx_sdk import ApiNetworkProvider\n",
    "from multiversx_sdk.network_providers.interface import IPagination\n",
    "\n",
    "class Pagination(IPagination):\n",
    "    def __init__(self, start: int, size: int) -> None:\n",
    "        self.start = start\n",
    "        self.size = size\n",
    "\n",
    "    def get_start(self) -> int:\n",
    "        return self.start\n",
    "\n",
    "    def get_size(self) -> int:\n",
    "        return self.size\n",
    "\n",
    "mainnet_api = ApiNetworkProvider(\"https://api.multiversx.com\")\n",
    "transactions = mainnet_api.get_transactions(Address(context.get_fee_collector_contract(0).address), Pagination(0, 100))\n",
    "print(f'Number of voters: {len(transactions)}')\n",
    "for tx in transactions:\n",
    "    voters.append(tx.sender)\n",
    "\n",
    "voter = Account(pem_file=\"~/Documents/sh1.pem\")\n",
    "for voter_address in voters:\n",
    "    voter.address = voter_address\n",
    "    voter.sync_nonce(context.network_provider.proxy)\n",
    "\n",
    "    contract.vote(voter, context.network_provider.proxy, [6, randint(0, 3)])\n",
    "    sleep(1)"
   ]
  }
 ],
 "metadata": {
  "kernelspec": {
   "display_name": "venv-newerdpy",
   "language": "python",
   "name": "python3"
  },
  "language_info": {
   "codemirror_mode": {
    "name": "ipython",
    "version": 3
   },
   "file_extension": ".py",
   "mimetype": "text/x-python",
   "name": "python",
   "nbconvert_exporter": "python",
   "pygments_lexer": "ipython3",
   "version": "3.11.6"
  },
  "orig_nbformat": 4,
  "vscode": {
   "interpreter": {
    "hash": "7ae6ab0abdf10440b34f03794a69a71508ff61341cacd694fe6034a1a71d3b05"
   }
  }
 },
 "nbformat": 4,
 "nbformat_minor": 2
}
