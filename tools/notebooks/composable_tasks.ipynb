{
 "cells": [
  {
   "cell_type": "code",
   "execution_count": null,
   "id": "81212758",
   "metadata": {},
   "outputs": [],
   "source": [
    "import sys\n",
    "from pathlib import Path\n",
    "sys.path.append(str(Path.cwd().parent.parent.absolute()))\n",
    "import config\n",
    "from context import Context\n",
    "\n",
    "context = Context()"
   ]
  },
  {
   "cell_type": "code",
   "execution_count": null,
   "id": "d4752e2b",
   "metadata": {},
   "outputs": [],
   "source": [
    "from contracts.composable_tasks_contract import ComposableTasksContract\n",
    "composable_tasks: ComposableTasksContract = context.get_contracts(config.COMPOSABLE_TASKS)[0]\n",
    "print(composable_tasks.get_config_dict())"
   ]
  },
  {
   "cell_type": "code",
   "execution_count": null,
   "id": "b320ce29",
   "metadata": {},
   "outputs": [],
   "source": [
    "from utils.utils_chain import WrapperAddress\n",
    "\n",
    "bytecode = \"https://github.com/multiversx/mx-exchange-tools-sc/releases/download/v1.1.0-rc3/composable-tasks.wasm\"\n",
    "expected_codehash = \"779a6b762dc098c9183c9a12bb4dc67558e32c23a676f4068d910b9597dd6098\"\n",
    "\n",
    "hash = composable_tasks.contract_upgrade(context.deployer_account, context.network_provider.proxy, bytecode)\n",
    "\n",
    "assert context.network_provider.check_simple_tx_status(hash)\n",
    "\n",
    "new_codehash = context.network_provider.proxy.get_account(WrapperAddress(composable_tasks.address)).contract_code_hash.hex()\n",
    "assert new_codehash == expected_codehash"
   ]
  },
  {
   "cell_type": "code",
   "execution_count": null,
   "id": "810296c3",
   "metadata": {},
   "outputs": [],
   "source": [
    "composable_tasks.set_smart_swap_fee(context.deployer_account, context.network_provider.proxy, [100])"
   ]
  },
  {
   "cell_type": "code",
   "execution_count": null,
   "id": "7d05ee71",
   "metadata": {},
   "outputs": [],
   "source": [
    "composable_tasks.withdraw_smart_swap_fees(context.deployer_account, context.network_provider.proxy, [])"
   ]
  }
 ],
 "metadata": {
  "kernelspec": {
   "display_name": "venv",
   "language": "python",
   "name": "python3"
  },
  "language_info": {
   "codemirror_mode": {
    "name": "ipython",
    "version": 3
   },
   "file_extension": ".py",
   "mimetype": "text/x-python",
   "name": "python",
   "nbconvert_exporter": "python",
   "pygments_lexer": "ipython3",
   "version": "3.13.3"
  }
 },
 "nbformat": 4,
 "nbformat_minor": 5
}
