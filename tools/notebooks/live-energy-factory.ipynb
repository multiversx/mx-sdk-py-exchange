{
 "cells": [
  {
   "cell_type": "code",
   "execution_count": null,
   "metadata": {},
   "outputs": [],
   "source": [
    "import sys\n",
    "from pathlib import Path\n",
    "sys.path.append(str(Path.cwd().parent.parent.absolute()))"
   ]
  },
  {
   "cell_type": "code",
   "execution_count": null,
   "metadata": {},
   "outputs": [],
   "source": [
    "from multiversx_sdk import Address, TokenPayment, ProxyNetworkProvider\n",
    "from multiversx_sdk.core.transaction_builders import ContractCallBuilder, ESDTNFTTransferBuilder\n",
    "from multiversx_sdk.core.transaction_builders import DefaultTransactionBuildersConfiguration\n",
    "from utils.contract_data_fetchers import SimpleLockEnergyContractDataFetcher\n",
    "from utils.contract_retrievers import retrieve_simple_lock_energy_by_address\n",
    "from utils.utils_chain import Account, decode_merged_attributes\n",
    "from utils import decoding_structures\n",
    "from tools.notebooks import env\n",
    "\n",
    "config = DefaultTransactionBuildersConfiguration(chain_id=env.CHAIN_ID)\n",
    "proxy = ProxyNetworkProvider(env.PROXY_URL)"
   ]
  },
  {
   "cell_type": "code",
   "execution_count": null,
   "metadata": {},
   "outputs": [],
   "source": [
    "contract_address = env.ENERGY_CONTRACT"
   ]
  },
  {
   "cell_type": "code",
   "execution_count": null,
   "metadata": {},
   "outputs": [],
   "source": [
    "from multiversx_sdk import AccountNonceHolder, UserSigner\n",
    "from pathlib import Path\n",
    "\n",
    "user = env.USER1\n",
    "user_signer = UserSigner.from_pem_file(Path(env.USER1_PEM))\n",
    "owner = Account(pem_file=env.USER1_PEM)\n",
    "owner.address = env.OWNER"
   ]
  },
  {
   "attachments": {},
   "cell_type": "markdown",
   "metadata": {},
   "source": [
    "energy contract upgrade & init"
   ]
  },
  {
   "cell_type": "code",
   "execution_count": null,
   "metadata": {},
   "outputs": [],
   "source": [
    "energy_contract = retrieve_simple_lock_energy_by_address(contract_address.bech32())\n",
    "data_fetcher = SimpleLockEnergyContractDataFetcher(contract_address, proxy.url)"
   ]
  },
  {
   "cell_type": "code",
   "execution_count": null,
   "metadata": {},
   "outputs": [],
   "source": [
    "from utils.contract_retrievers import retrieve_locked_asset_factory_by_address\n",
    "locked_asset = retrieve_locked_asset_factory_by_address(\"erd1qqqqqqqqqqqqqpgqjpt0qqgsrdhp2xqygpjtfrpwf76f9nvg2jpsg4q7th\")"
   ]
  },
  {
   "cell_type": "code",
   "execution_count": null,
   "metadata": {},
   "outputs": [],
   "source": [
    "from utils.contract_retrievers import retrieve_proxy_by_address\n",
    "proxy_contract = retrieve_proxy_by_address(\"erd1qqqqqqqqqqqqqpgqrc4pg2xarca9z34njcxeur622qmfjp8w2jps89fxnl\")\n",
    "proxy_contract.version = 1"
   ]
  },
  {
   "cell_type": "code",
   "execution_count": null,
   "metadata": {},
   "outputs": [],
   "source": [
    "owner.sync_nonce(proxy)\n",
    "energy_contract.contract_upgrade(owner, proxy, Path.home()+\"/projects/dex/dex-v2/sc-dex-rs/locked-asset/energy-factory/output/energy-factory.wasm\", [env.LKMEX, \"erd1qqqqqqqqqqqqqpgqjpt0qqgsrdhp2xqygpjtfrpwf76f9nvg2jpsg4q7th\", 0, [], []])"
   ]
  },
  {
   "attachments": {},
   "cell_type": "markdown",
   "metadata": {},
   "source": [
    "lkmex/xmex whitelistings"
   ]
  },
  {
   "cell_type": "code",
   "execution_count": null,
   "metadata": {},
   "outputs": [],
   "source": [
    "owner.sync_nonce(proxy)\n",
    "energy_contract.set_transfer_role_locked_token(owner, proxy, [env.FORWARDER_CONTRACT.bech32()])"
   ]
  },
  {
   "cell_type": "code",
   "execution_count": null,
   "metadata": {},
   "outputs": [],
   "source": [
    "owner.sync_nonce(proxy)\n",
    "locked_asset.set_transfer_role_for_contract(owner, proxy, env.FORWARDER_CONTRACT.bech32())"
   ]
  },
  {
   "cell_type": "code",
   "execution_count": null,
   "metadata": {},
   "outputs": [],
   "source": [
    "owner.sync_nonce(proxy)\n",
    "proxy_contract.set_transfer_role_locked_lp_token(owner, proxy, env.FORWARDER_CONTRACT.bech32())"
   ]
  },
  {
   "cell_type": "code",
   "execution_count": null,
   "metadata": {},
   "outputs": [],
   "source": [
    "owner.sync_nonce(proxy)\n",
    "proxy_contract.set_transfer_role_locked_farm_token(owner, proxy, env.FORWARDER_CONTRACT.bech32())"
   ]
  },
  {
   "cell_type": "code",
   "execution_count": null,
   "metadata": {},
   "outputs": [],
   "source": [
    "owner.sync_nonce(proxy)\n",
    "energy_contract.resume(owner, proxy)"
   ]
  },
  {
   "attachments": {},
   "cell_type": "markdown",
   "metadata": {},
   "source": [
    "migrateOldTokens"
   ]
  },
  {
   "cell_type": "code",
   "execution_count": null,
   "metadata": {},
   "outputs": [],
   "source": [
    "from multiversx_sdk import TransactionsConverter\n",
    "\n",
    "user = env.USER1\n",
    "user_nonce_holder = AccountNonceHolder(proxy.get_account(user).nonce)\n",
    "\n",
    "transfers = [\n",
    "    TokenPayment.meta_esdt_from_integer(env.LKMEX, int(\"3e4112\", 16), 100000, 18)\n",
    "]\n",
    "\n",
    "builder = ContractCallBuilder(\n",
    "    config,\n",
    "    contract=contract_address,\n",
    "    function_name=\"migrateOldTokens\",\n",
    "    caller=user,\n",
    "    call_arguments=[],\n",
    "    gas_limit=30000000,\n",
    "    esdt_transfers=transfers\n",
    ")\n",
    "\n",
    "tx = builder.build()\n",
    "\n",
    "converter = TransactionsConverter()\n",
    "print(\"Transaction:\", converter.transaction_to_dictionary(tx))\n",
    "print(\"Transaction data:\", tx.data.decode())"
   ]
  },
  {
   "cell_type": "code",
   "execution_count": null,
   "metadata": {},
   "outputs": [],
   "source": [
    "from multiversx_sdk import TransactionComputer\n",
    "\n",
    "tx.nonce = user_nonce_holder.get_nonce_then_increment()\n",
    "\n",
    "tx_computer = TransactionComputer()\n",
    "tx.signature = user_signer.sign(tx_computer.compute_bytes_for_signing(tx))\n",
    "proxy.send_transaction(tx)"
   ]
  },
  {
   "cell_type": "code",
   "execution_count": null,
   "metadata": {},
   "outputs": [],
   "source": [
    "raw_energy_entry = data_fetcher.get_data('getEnergyEntryForUser', [env.USER3.get_public_key()])\n",
    "energy_entry_user = decode_merged_attributes(raw_energy_entry, decoding_structures.ENERGY_ENTRY)\n",
    "print(energy_entry_user)\n",
    "raw_energy_entry = data_fetcher.get_data('getEnergyEntryForUser', [env.FORWARDER_CONTRACT.get_public_key()])\n",
    "energy_entry_contract = decode_merged_attributes(raw_energy_entry, decoding_structures.ENERGY_ENTRY)\n",
    "print(energy_entry_contract)"
   ]
  },
  {
   "cell_type": "code",
   "execution_count": null,
   "metadata": {},
   "outputs": [],
   "source": [
    "raw_energy_entry = data_fetcher.get_data('getEnergyEntryForUser', [env.USER3.get_public_key()])\n",
    "after_energy_entry_user = decode_merged_attributes(raw_energy_entry, decoding_structures.ENERGY_ENTRY)\n",
    "print(after_energy_entry_user)\n",
    "raw_energy_entry = data_fetcher.get_data('getEnergyEntryForUser', [env.FORWARDER_CONTRACT.get_public_key()])\n",
    "after_energy_entry_contract = decode_merged_attributes(raw_energy_entry, decoding_structures.ENERGY_ENTRY)\n",
    "print(after_energy_entry_contract)"
   ]
  },
  {
   "cell_type": "code",
   "execution_count": null,
   "metadata": {},
   "outputs": [],
   "source": [
    "diff = after_energy_entry_user['amount'] - energy_entry_user['amount']\n",
    "tokens = after_energy_entry_user['total_locked_tokens'] - energy_entry_user['total_locked_tokens']\n",
    "print(diff, tokens)\n",
    "diff = after_energy_entry_contract['amount'] - energy_entry_contract['amount']\n",
    "tokens = after_energy_entry_contract['total_locked_tokens'] - energy_entry_contract['total_locked_tokens']\n",
    "print(diff, tokens)"
   ]
  }
 ],
 "metadata": {
  "kernelspec": {
   "display_name": "venv-newerdpy",
   "language": "python",
   "name": "python3"
  },
  "language_info": {
   "codemirror_mode": {
    "name": "ipython",
    "version": 3
   },
   "file_extension": ".py",
   "mimetype": "text/x-python",
   "name": "python",
   "nbconvert_exporter": "python",
   "pygments_lexer": "ipython3",
   "version": "3.8.10"
  },
  "orig_nbformat": 4,
  "vscode": {
   "interpreter": {
    "hash": "7ae6ab0abdf10440b34f03794a69a71508ff61341cacd694fe6034a1a71d3b05"
   }
  }
 },
 "nbformat": 4,
 "nbformat_minor": 2
}
