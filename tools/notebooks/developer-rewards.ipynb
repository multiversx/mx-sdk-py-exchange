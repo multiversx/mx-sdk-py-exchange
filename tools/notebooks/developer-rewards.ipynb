{
 "cells": [
  {
   "cell_type": "code",
   "execution_count": null,
   "id": "b124c02d",
   "metadata": {},
   "outputs": [],
   "source": [
    "import sys\n",
    "from pathlib import Path\n",
    "sys.path.append(str(Path.cwd().parent.parent.absolute()))\n",
    "\n",
    "from multiversx_sdk import Address, ApiNetworkProvider\n",
    "\n",
    "from utils.utils_tx import endpoint_call\n",
    "sys.path.append(str(Path.cwd().parent.parent.absolute()))\n",
    "import config\n",
    "\n",
    "from context import Context\n",
    "\n",
    "context = Context()\n",
    "\n",
    "# Needed for ShadowFork\n",
    "api_network_provider = ApiNetworkProvider('https://api.multiversx.com') if \"shadowfork\" in config.DEFAULT_PROXY else context.network_provider.api\n",
    "\n",
    "print(f'Deployer account: {context.deployer_account.address.to_bech32()}')\n",
    "contracts = api_network_provider.do_get_generic(f'accounts/{context.deployer_account.address.to_bech32()}/contracts?size={500}')\n",
    "\n",
    "print(f'Total number of contracts: {len(contracts)}')\n",
    "\n",
    "for contract in contracts:\n",
    "        contract_address = contract['address']\n",
    "        contract_details = context.network_provider.api.do_get_generic(f'accounts/{contract_address}?fields=developerReward')\n",
    "        developer_reward = int(contract_details['developerReward'])\n",
    "        print(f'Contract: {contract_address} -> developer reward: {developer_reward}')\n",
    "        if developer_reward > 0:\n",
    "            tx_hash = endpoint_call(context.network_provider.proxy, 20000000, context.deployer_account, Address.new_from_bech32(contract_address), \"ClaimDeveloperRewards\", [])"
   ]
  }
 ],
 "metadata": {
  "kernelspec": {
   "display_name": ".venv",
   "language": "python",
   "name": "python3"
  },
  "language_info": {
   "codemirror_mode": {
    "name": "ipython",
    "version": 3
   },
   "file_extension": ".py",
   "mimetype": "text/x-python",
   "name": "python",
   "nbconvert_exporter": "python",
   "pygments_lexer": "ipython3",
   "version": "3.12.10"
  }
 },
 "nbformat": 4,
 "nbformat_minor": 5
}
