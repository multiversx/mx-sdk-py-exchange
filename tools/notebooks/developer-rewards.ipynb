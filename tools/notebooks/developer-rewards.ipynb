{
 "cells": [
  {
   "cell_type": "code",
   "execution_count": null,
   "id": "859bccb4",
   "metadata": {},
   "outputs": [],
   "source": [
    "import sys\n",
    "import os\n",
    "from pathlib import Path\n",
    "sys.path.append(str(Path.cwd().parent.parent.absolute()))\n",
    "os.environ[\"MX_DEX_ENV\"] = \"shadowfork4\"\n",
    "from context import Context\n",
    "\n",
    "context = Context()"
   ]
  },
  {
   "cell_type": "code",
   "execution_count": null,
   "id": "b124c02d",
   "metadata": {},
   "outputs": [],
   "source": [
    "from multiversx_sdk import Address, ApiNetworkProvider\n",
    "from utils.utils_tx import endpoint_call\n",
    "import config\n",
    "\n",
    "# Needed for ShadowFork\n",
    "api_network_provider = ApiNetworkProvider('https://api.multiversx.com') if \"shadowfork\" in config.DEFAULT_PROXY else context.network_provider.api\n",
    "\n",
    "print(f'Deployer account: {context.deployer_account.address.to_bech32()}')\n",
    "contracts = api_network_provider.do_get_generic(f'accounts/{context.deployer_account.address.to_bech32()}/contracts?size={500}')\n",
    "\n",
    "print(f'Total number of contracts: {len(contracts)}')\n",
    "\n",
    "for contract in contracts:\n",
    "        contract_address = contract['address']\n",
    "        contract_details = context.network_provider.api.do_get_generic(f'accounts/{contract_address}?fields=developerReward')\n",
    "        developer_reward = int(contract_details['developerReward'])\n",
    "        print(f'Contract: {contract_address} -> developer reward: {developer_reward}')\n",
    "        if developer_reward > 0:\n",
    "            tx_hash = endpoint_call(context.network_provider.proxy, 20000000, context.deployer_account, Address.new_from_bech32(contract_address), \"ClaimDeveloperRewards\", [])"
   ]
  },
  {
   "cell_type": "code",
   "execution_count": null,
   "id": "93067523",
   "metadata": {},
   "outputs": [],
   "source": [
    "from contracts.router_contract import RouterContract\n",
    "from utils.contract_data_fetchers import RouterContractDataFetcher\n",
    "from utils.utils_chain import WrapperAddress\n",
    "\n",
    "router_contract: RouterContract = context.get_contracts(config.ROUTER_V2)[0]\n",
    "context.deployer_account.sync_nonce(context.network_provider.proxy)\n",
    "\n",
    "# Find pairs with developer rewards\n",
    "router_data_fetcher = RouterContractDataFetcher(Address.new_from_bech32(router_contract.address), context.network_provider.proxy.url)\n",
    "registered_pairs = router_data_fetcher.get_data(\"getAllPairsManagedAddresses\")\n",
    "print(f'Found {len(registered_pairs)} pairs')\n",
    "\n",
    "count = 0\n",
    "sum = 0\n",
    "selected_pairs = []\n",
    "for pair_address in registered_pairs:\n",
    "    address = WrapperAddress.from_hex(pair_address)\n",
    "    min_threshold = 0.1 * 10**18\n",
    "    account_on_chain = context.network_provider.proxy.get_account(address)\n",
    "    if account_on_chain.contract_developer_reward > min_threshold:\n",
    "        count += 1\n",
    "        sum += account_on_chain.contract_developer_reward\n",
    "        selected_pairs.append(pair_address)\n",
    "\n",
    "print(f\"Found {count} pairs with developer rewards summing: {sum} (min threshold: {min_threshold})\")\n",
    "assert count > 0, \"Didn't find any pairs with developer rewards above the threshold.\"\n",
    "\n",
    "# Claim developer rewards\n",
    "chunk_size = 20\n",
    "b32_pairs = [WrapperAddress.from_hex(pair_address).bech32() for pair_address in selected_pairs]\n",
    "chunks = [b32_pairs[i:i + chunk_size] for i in range(0, len(b32_pairs), chunk_size)]\n",
    "for chunk in chunks:\n",
    "    router_contract.claim_developer_rewards_pairs(context.deployer_account, context.network_provider.proxy, chunk)"
   ]
  }
 ],
 "metadata": {
  "kernelspec": {
   "display_name": "venv",
   "language": "python",
   "name": "python3"
  },
  "language_info": {
   "codemirror_mode": {
    "name": "ipython",
    "version": 3
   },
   "file_extension": ".py",
   "mimetype": "text/x-python",
   "name": "python",
   "nbconvert_exporter": "python",
   "pygments_lexer": "ipython3",
   "version": "3.13.3"
  }
 },
 "nbformat": 4,
 "nbformat_minor": 5
}
