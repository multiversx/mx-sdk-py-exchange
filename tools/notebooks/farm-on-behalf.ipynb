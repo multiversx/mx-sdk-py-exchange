{
 "cells": [
  {
   "cell_type": "markdown",
   "metadata": {},
   "source": [
    "# INIT"
   ]
  },
  {
   "cell_type": "markdown",
   "metadata": {},
   "source": [
    "START"
   ]
  },
  {
   "cell_type": "code",
   "execution_count": null,
   "metadata": {},
   "outputs": [],
   "source": [
    "import sys\n",
    "from pathlib import Path\n",
    "sys.path.append(str(Path.cwd().parent.parent.absolute()))\n",
    "import config\n",
    "\n",
    "import ipytest\n",
    "ipytest.autoconfig()\n",
    "from time import sleep\n",
    "\n",
    "from context import Context\n",
    "from utils.utils_chain import WrapperAddress as Address, Account, hex_to_string, base64_to_hex\n",
    "from utils.utils_chain import nominated_amount\n",
    "\n",
    "from contracts.farm_contract import FarmContract\n",
    "from utils.contract_retrievers import retrieve_farm_by_address\n",
    "\n",
    "from multiversx_sdk import ProxyNetworkProvider, ApiNetworkProvider\n",
    "\n",
    "SIMULATOR_URL = \"http://localhost:8085\"\n",
    "SIMULATOR_API = \"http://localhost:3001\"\n",
    "GENERATE_BLOCKS_URL = f\"{SIMULATOR_URL}/simulator/generate-blocks\"\n",
    "PROJECT_ROOT = Path.cwd().parent.parent\n",
    "proxy = ProxyNetworkProvider(SIMULATOR_URL)\n",
    "api = ApiNetworkProvider(SIMULATOR_API)\n",
    "\n",
    "context = Context()\n",
    "context.network_provider.proxy = proxy\n",
    "context.network_provider.api = api"
   ]
  },
  {
   "cell_type": "code",
   "execution_count": null,
   "metadata": {},
   "outputs": [],
   "source": [
    "farm_contract: FarmContract = context.deploy_structure.get_deployed_contract_by_index(config.FARMS_V2, 0)\n",
    "print(f\"Using {farm_contract.address} : {farm_contract.farmToken}\")"
   ]
  },
  {
   "cell_type": "markdown",
   "metadata": {},
   "source": [
    "CHAIN CONFIG SETUP"
   ]
  },
  {
   "cell_type": "code",
   "execution_count": 23,
   "metadata": {},
   "outputs": [],
   "source": [
    "import json\n",
    "from typing import Any\n",
    "from utils.utils_chain import WrapperAddress\n",
    "\n",
    "USERS = [\"erd1ndyxz4gpfncmz82qm39yqramgd826mkalhqw8tfmmy0g9jecqc5sa20vek\", # user with both farm and farming positions\n",
    "         \"erd1gqyspww4pssv6ck6pl8vtnl9tnwe9hy5d2324mya4rz5ma9dtp9snjgd7f\", # user with only farm position\n",
    "         \"erd15gzp9k56cnn8qtfxwlghcxgs74v8jmfk4crex9alygxldmpg9f5s3fd4pl\",] # user with old farm position\n",
    "\n",
    "def load_accounts_state(project_root: Path, addresses: list[str]) -> list[dict[str, Any]]:\n",
    "    states = []\n",
    "    \n",
    "    for address in addresses:\n",
    "        print(f\"Loading state for {address}\")\n",
    "        user_path = f\"0_{address}_0_chain_config_state.json\"\n",
    "        system_account_path = f\"0_system_account_state_{address}.json\"\n",
    "        \n",
    "        user_file = project_root / \"states\" / user_path\n",
    "        system_file = project_root / \"states\" / system_account_path\n",
    "        \n",
    "        if user_file.exists():\n",
    "            with open(user_file, \"r\") as file:\n",
    "                user_state = json.load(file)\n",
    "                if user_state:\n",
    "                    print(f\"Found {user_file.name}\")\n",
    "                    states.append(user_state)\n",
    "                \n",
    "        if system_file.exists():\n",
    "            with open(system_file, \"r\") as file:\n",
    "                system_state = json.load(file)\n",
    "                if system_state:\n",
    "                    print(f\"Found {system_file.name}\")\n",
    "                    states.append(system_state)\n",
    "            \n",
    "    return states\n",
    "    \n",
    "\n",
    "def apply_states(proxy: ProxyNetworkProvider, states: list[dict[str, Any]]):\n",
    "    for state in states:\n",
    "        proxy.do_post(f\"{SIMULATOR_URL}/simulator/set-state\", state)\n",
    "\n",
    "\n",
    "def load_and_apply_state(proxy: ProxyNetworkProvider, project_root: Path, owner: str, users: list[str]):\n",
    "    # Load and set state for all keys\n",
    "    with open(project_root / \"states\" / \"0_all_all_keys.json\", \"r\") as file:\n",
    "        retrieved_state = json.load(file)\n",
    "        apply_states(proxy, [retrieved_state])\n",
    "\n",
    "    # Load owner and users state\n",
    "    accounts = [owner]\n",
    "    accounts.extend(users)\n",
    "    states = load_accounts_state(project_root, accounts)\n",
    "    apply_states(proxy, states)\n",
    "        \n",
    "\n",
    "def setup_chain_sim():\n",
    "    # generate blocks to pass an epoch and the smart contract deploys to be enabled\n",
    "    proxy.do_post(f\"{GENERATE_BLOCKS_URL}/5\", {})\n",
    "\n",
    "    load_and_apply_state(proxy, PROJECT_ROOT,\n",
    "                         context.deployer_account.address.bech32(),\n",
    "                         USERS)\n",
    "\n",
    "\n",
    "def advance_blocks(number_of_blocks: int):\n",
    "    proxy.do_post(f\"{GENERATE_BLOCKS_URL}/{number_of_blocks}\", {})\n",
    "\n",
    "def advance_epoch(number_of_epochs: int):\n",
    "    proxy.do_post(f\"{GENERATE_BLOCKS_URL}/{number_of_epochs * 20}\", {})\n",
    "\n",
    "\n",
    "def users_init() -> list[Account]:\n",
    "    print(context.deployer_account.address.bech32())\n",
    "    context.deployer_account.sync_nonce(context.network_provider.proxy)\n",
    "\n",
    "    users = []\n",
    "    for user in USERS:\n",
    "        user_account = Account(pem_file=config.DEFAULT_ACCOUNTS)\n",
    "        user_account.address = WrapperAddress(user)\n",
    "        user_account.sync_nonce(context.network_provider.proxy)\n",
    "        users.append(user_account)\n",
    "\n",
    "    return users"
   ]
  },
  {
   "cell_type": "markdown",
   "metadata": {},
   "source": [
    "Farm upgrade"
   ]
  },
  {
   "cell_type": "code",
   "execution_count": 6,
   "metadata": {},
   "outputs": [],
   "source": [
    "def farm_upgrade():\n",
    "    tx_hash = farm_contract.contract_upgrade(context.deployer_account, context.network_provider.proxy, \n",
    "                                            \"https://github.com/multiversx/mx-exchange-sc/releases/download/v3.2.2-rc2/farm-with-locked-rewards.wasm\", \n",
    "                                            [], True)\n",
    "\n",
    "    advance_blocks(1)\n",
    "    tx_hash = farm_contract.resume(context.deployer_account, context.network_provider.proxy)\n",
    "    advance_blocks(1)\n",
    "\n",
    "    code_hash = context.network_provider.proxy.get_account(WrapperAddress(farm_contract.address)).code_hash\n",
    "    assert base64_to_hex(code_hash) == \"4ca038c097412353ec6cf6039f2a216aa70725d80d2a647b7948bc466d0d4444\""
   ]
  },
  {
   "cell_type": "markdown",
   "metadata": {},
   "source": [
    "Deploy permissions hub"
   ]
  },
  {
   "cell_type": "code",
   "execution_count": 7,
   "metadata": {},
   "outputs": [],
   "source": [
    "from contracts.permissions_hub_contract import PermissionsHubContract\n",
    "\n",
    "def deploy_permissions_hub():\n",
    "    permissions_hub_contract = PermissionsHubContract(\"\")\n",
    "    _, address = permissions_hub_contract.contract_deploy(context.deployer_account, context.network_provider.proxy, \n",
    "                                            \"https://github.com/multiversx/mx-exchange-sc/releases/download/v3.2.2-rc2/permissions-hub.wasm\",\n",
    "                                            [])\n",
    "    permissions_hub_contract.address = address\n",
    "    return permissions_hub_contract"
   ]
  },
  {
   "cell_type": "markdown",
   "metadata": {},
   "source": [
    "Dummy proxy"
   ]
  },
  {
   "cell_type": "code",
   "execution_count": 8,
   "metadata": {},
   "outputs": [],
   "source": [
    "from contracts.dummy_proxy_contract import DummyProxyContract\n",
    "\n",
    "def deploy_dummy_proxy_contract():\n",
    "    dummy_proxy_contract = DummyProxyContract(\"\")\n",
    "    _, address = dummy_proxy_contract.contract_deploy(context.deployer_account, context.network_provider.proxy,\n",
    "                                         \"https://github.com/ovidiuolteanu/mx-sc-dummy-proxy/releases/download/v2.1/dummy-proxy.wasm\",\n",
    "                                         [])\n",
    "    dummy_proxy_contract.address = address\n",
    "    return dummy_proxy_contract"
   ]
  },
  {
   "cell_type": "code",
   "execution_count": 9,
   "metadata": {},
   "outputs": [],
   "source": [
    "from utils.utils_chain import get_all_token_nonces_details_for_account\n",
    "\n",
    "def get_position_for_account(user_address: str):\n",
    "    farm_tk_balance, farm_tk_nonce = 0, 0\n",
    "    tokens_in_account = get_all_token_nonces_details_for_account(farm_contract.farmToken, user_address, context.network_provider.proxy)\n",
    "    print(f'Found {len(tokens_in_account)} positions of {farm_contract.farmToken} in account')\n",
    "    for token in tokens_in_account:\n",
    "        if int(token['balance']) > farm_tk_balance:\n",
    "            farm_tk_balance = int(token['balance'])\n",
    "            farm_tk_nonce = token['nonce']\n",
    "            break\n",
    "\n",
    "    if not farm_tk_nonce:\n",
    "        raise Exception(\"Not enough farm token balance\")\n",
    "    \n",
    "    return farm_tk_nonce, farm_tk_balance\n",
    "\n",
    "def get_farming_token_balance_for_account(user_address: str):\n",
    "    farming_tk_balance = 0\n",
    "    tokens_in_account = get_all_token_nonces_details_for_account(farm_contract.farmingToken, user_address, context.network_provider.proxy)\n",
    "    print(f'Found {len(tokens_in_account)} positions of {farm_contract.farmingToken} in account')\n",
    "    for token in tokens_in_account:\n",
    "        if int(token['balance']) > farming_tk_balance:\n",
    "            farming_tk_balance = int(token['balance'])\n",
    "            break\n",
    "\n",
    "    if not farming_tk_balance:\n",
    "        raise Exception(\"Not enough farming token balance\")\n",
    "    \n",
    "    return farming_tk_balance"
   ]
  },
  {
   "cell_type": "code",
   "execution_count": 10,
   "metadata": {},
   "outputs": [],
   "source": [
    "from utils.utils_tx import ESDTToken, multi_esdt_transfer\n",
    "\n",
    "def send_tokens_to_dummy(user: Account, dummy_contract: DummyProxyContract):\n",
    "    farm_tk_nonce, farm_tk_balance = get_position_for_account(user)\n",
    "    print(f\"Sending {farm_tk_balance} {farm_contract.farmToken}-{farm_tk_nonce} to dummy contract\")\n",
    "    multi_esdt_transfer(context.network_provider.proxy, 20000000, user, dummy_contract.address, [ESDTToken(farm_contract.farmToken, farm_tk_nonce, farm_tk_balance)])"
   ]
  },
  {
   "cell_type": "markdown",
   "metadata": {},
   "source": [
    "Claim"
   ]
  },
  {
   "cell_type": "code",
   "execution_count": 11,
   "metadata": {},
   "outputs": [],
   "source": [
    "from utils.utils_chain import Account, WrapperAddress as Address, get_all_token_nonces_details_for_account\n",
    "from contracts.farm_contract import ClaimRewardsFarmEvent\n",
    "\n",
    "def claim_for_user(user_account: Account):\n",
    "    user_account.sync_nonce(context.network_provider.proxy)\n",
    "\n",
    "    farm_tk_balance, farm_tk_nonce = 0, 0\n",
    "    tokens_in_account = get_all_token_nonces_details_for_account(farm_contract.farmToken, user_account.address.bech32(), context.network_provider.proxy)\n",
    "    print(f'Found {len(tokens_in_account)} positions of {farm_contract.farmToken} in account')\n",
    "    for token in tokens_in_account:\n",
    "        if int(token['balance']) > farm_tk_balance:\n",
    "            farm_tk_balance = int(token['balance'])\n",
    "            farm_tk_nonce = token['nonce']\n",
    "            break\n",
    "\n",
    "    if not farm_tk_nonce:\n",
    "        raise Exception(\"Not enough farm token balance\")\n",
    "\n",
    "    event = ClaimRewardsFarmEvent(farm_tk_balance, farm_tk_nonce, '')\n",
    "\n",
    "    tx_hash = farm_contract.claimRewards(context.network_provider, user_account, event)\n",
    "    return tx_hash"
   ]
  },
  {
   "cell_type": "markdown",
   "metadata": {},
   "source": [
    "Claim boosted"
   ]
  },
  {
   "cell_type": "code",
   "execution_count": 12,
   "metadata": {},
   "outputs": [],
   "source": [
    "from utils.utils_chain import Account, WrapperAddress as Address, get_all_token_nonces_details_for_account\n",
    "from contracts.farm_contract import ClaimRewardsFarmEvent\n",
    "\n",
    "def claim_boosted_for_user(user_account: Account):\n",
    "    user_account.sync_nonce(context.network_provider.proxy)\n",
    "    event = ClaimRewardsFarmEvent(0, 0, '', user_account.address.bech32())\n",
    "    tx_hash = farm_contract.claim_boosted_rewards(context.network_provider, user_account, event)\n",
    "    return tx_hash"
   ]
  },
  {
   "cell_type": "markdown",
   "metadata": {},
   "source": [
    "Claim on behalf"
   ]
  },
  {
   "cell_type": "code",
   "execution_count": 13,
   "metadata": {},
   "outputs": [],
   "source": [
    "from utils.utils_chain import Account, WrapperAddress as Address, get_all_token_nonces_details_for_account\n",
    "from contracts.farm_contract import ClaimRewardsFarmEvent\n",
    "\n",
    "def claim_on_behalf_from_user(claim_account: Account):\n",
    "    claim_account.sync_nonce(context.network_provider.proxy)\n",
    "\n",
    "    farm_tk_balance, farm_tk_nonce = 0, 0\n",
    "    tokens_in_account = get_all_token_nonces_details_for_account(farm_contract.farmToken, claim_account.address.bech32(), context.network_provider.proxy)\n",
    "    print(f'Found {len(tokens_in_account)} positions of {farm_contract.farmToken} in account')\n",
    "    for token in tokens_in_account:\n",
    "        if int(token['balance']) > farm_tk_balance:\n",
    "            farm_tk_balance = int(token['balance'])\n",
    "            farm_tk_nonce = token['nonce']\n",
    "            break\n",
    "\n",
    "    if not farm_tk_nonce:\n",
    "        raise Exception(\"Not enough farm token balance\")\n",
    "\n",
    "    event = ClaimRewardsFarmEvent(farm_tk_balance, farm_tk_nonce, '')\n",
    "\n",
    "    tx_hash = farm_contract.claim_rewards_on_behalf(context.network_provider, claim_account, event)\n",
    "    return tx_hash"
   ]
  },
  {
   "cell_type": "markdown",
   "metadata": {},
   "source": [
    "Enter farm consolidated"
   ]
  },
  {
   "cell_type": "code",
   "execution_count": 14,
   "metadata": {},
   "outputs": [],
   "source": [
    "from utils.utils_chain import Account, WrapperAddress as Address, get_all_token_nonces_details_for_account\n",
    "from contracts.farm_contract import EnterFarmEvent\n",
    "\n",
    "def enter_farm_for_user(user_account: Account):\n",
    "    user_account.sync_nonce(context.network_provider.proxy)\n",
    "\n",
    "    farming_tk_balance = 0\n",
    "    tokens_in_account = get_all_token_nonces_details_for_account(farm_contract.farmingToken, user_account.address.bech32(), context.network_provider.proxy)\n",
    "    print(f'Found {len(tokens_in_account)} farming tokens in account')\n",
    "    for token in tokens_in_account:\n",
    "        if int(token['balance']) > farming_tk_balance:\n",
    "            farming_tk_balance = int(token['balance'])\n",
    "            break\n",
    "\n",
    "    if not farming_tk_balance:\n",
    "        raise Exception(\"Not enough farming token balance\")\n",
    "\n",
    "    farm_tk_balance, farm_tk_nonce = 0, 0\n",
    "    tokens_in_account = get_all_token_nonces_details_for_account(farm_contract.farmToken, user_account.address.bech32(), context.network_provider.proxy)\n",
    "    print(f'Found {len(tokens_in_account)} positions of {farm_contract.farmToken} in account')\n",
    "    for token in tokens_in_account:\n",
    "        if int(token['balance']) > farm_tk_balance:\n",
    "            farm_tk_balance = int(token['balance'])\n",
    "            farm_tk_nonce = token['nonce']\n",
    "            break\n",
    "\n",
    "    if not farm_tk_nonce:\n",
    "        raise Exception(\"Not enough farm token balance\")\n",
    "\n",
    "    event = EnterFarmEvent(farm_contract.farmingToken, 0, farming_tk_balance,\n",
    "                       farm_contract.farmToken, farm_tk_nonce, farm_tk_balance)\n",
    "\n",
    "    tx_hash = farm_contract.enterFarm(context.network_provider, user_account, event)\n",
    "    return tx_hash"
   ]
  },
  {
   "cell_type": "markdown",
   "metadata": {},
   "source": [
    "Enter farm no consolidation"
   ]
  },
  {
   "cell_type": "code",
   "execution_count": 15,
   "metadata": {},
   "outputs": [],
   "source": [
    "from utils.utils_chain import Account, WrapperAddress as Address, get_all_token_nonces_details_for_account\n",
    "from contracts.farm_contract import EnterFarmEvent\n",
    "\n",
    "def enter_farm_no_consolidation_for_user(user_account: Account):\n",
    "    user_account.sync_nonce(context.network_provider.proxy)\n",
    "\n",
    "    farming_tk_balance = 0\n",
    "    tokens_in_account = get_all_token_nonces_details_for_account(farm_contract.farmingToken, user_account.address.bech32(), context.network_provider.proxy)\n",
    "    print(f'Found {len(tokens_in_account)} farming tokens in account')\n",
    "    for token in tokens_in_account:\n",
    "        if int(token['balance']) > farming_tk_balance:\n",
    "            farming_tk_balance = int(token['balance'])\n",
    "            break\n",
    "\n",
    "    if not farming_tk_balance:\n",
    "        raise Exception(\"Not enough farming token balance\")\n",
    "\n",
    "    event = EnterFarmEvent(farm_contract.farmingToken, 0, farming_tk_balance,\n",
    "                       \"\", 0, 0)\n",
    "\n",
    "    tx_hash = farm_contract.enterFarm(context.network_provider, user_account, event, 0, True)\n",
    "    return tx_hash"
   ]
  },
  {
   "cell_type": "markdown",
   "metadata": {},
   "source": [
    "Enter farm on behalf"
   ]
  },
  {
   "cell_type": "code",
   "execution_count": 16,
   "metadata": {},
   "outputs": [],
   "source": [
    "from utils.utils_chain import Account, WrapperAddress as Address, get_all_token_nonces_details_for_account\n",
    "from contracts.farm_contract import EnterFarmEvent\n",
    "\n",
    "def enter_farm_on_behalf_for_user(caller_account: Account, user_account: Account):\n",
    "    caller_account.sync_nonce(context.network_provider.proxy)\n",
    "\n",
    "    farming_tk_balance = 0\n",
    "    tokens_in_account = get_all_token_nonces_details_for_account(farm_contract.farmingToken, caller_account.address.bech32(), context.network_provider.proxy)\n",
    "    print(f'Found {len(tokens_in_account)} farming tokens in account')\n",
    "    for token in tokens_in_account:\n",
    "        if int(token['balance']) > farming_tk_balance:\n",
    "            farming_tk_balance = int(token['balance'])\n",
    "            break\n",
    "\n",
    "    if not farming_tk_balance:\n",
    "        raise Exception(\"Not enough farming token balance\")\n",
    "\n",
    "    farm_tk_balance, farm_tk_nonce = 0, 0\n",
    "    tokens_in_account = get_all_token_nonces_details_for_account(farm_contract.farmToken, caller_account.address.bech32(), context.network_provider.proxy)\n",
    "    print(f'Found {len(tokens_in_account)} positions of {farm_contract.farmToken} in account')\n",
    "    for token in tokens_in_account:\n",
    "        if int(token['balance']) > farm_tk_balance:\n",
    "            farm_tk_balance = int(token['balance'])\n",
    "            farm_tk_nonce = token['nonce']\n",
    "            break\n",
    "\n",
    "    if not farm_tk_nonce:\n",
    "        raise Exception(\"Not enough farm token balance\")\n",
    "\n",
    "    event = EnterFarmEvent(farm_contract.farmingToken, 0, farming_tk_balance,\n",
    "                       farm_contract.farmToken, farm_tk_nonce, farm_tk_balance, user_account.address.bech32())\n",
    "\n",
    "    tx_hash = farm_contract.enter_farm_on_behalf(context.network_provider, caller_account, event)\n",
    "    return tx_hash"
   ]
  },
  {
   "cell_type": "markdown",
   "metadata": {},
   "source": [
    "Enter farm on behalf no consolidation"
   ]
  },
  {
   "cell_type": "code",
   "execution_count": 17,
   "metadata": {},
   "outputs": [],
   "source": [
    "from utils.utils_chain import Account, WrapperAddress as Address, get_all_token_nonces_details_for_account\n",
    "from contracts.farm_contract import EnterFarmEvent\n",
    "\n",
    "def enter_farm_on_behalf_no_consolidation_for_user(caller_account: Account, user_account: Account):\n",
    "    caller_account.sync_nonce(context.network_provider.proxy)\n",
    "\n",
    "    farming_tk_balance = 0\n",
    "    tokens_in_account = get_all_token_nonces_details_for_account(farm_contract.farmingToken, caller_account.address.bech32(), context.network_provider.proxy)\n",
    "    print(f'Found {len(tokens_in_account)} farming tokens in account')\n",
    "    for token in tokens_in_account:\n",
    "        if int(token['balance']) > farming_tk_balance:\n",
    "            farming_tk_balance = int(token['balance'])\n",
    "            break\n",
    "\n",
    "    if not farming_tk_balance:\n",
    "        raise Exception(\"Not enough farming token balance\")\n",
    "\n",
    "    event = EnterFarmEvent(farm_contract.farmingToken, 0, farming_tk_balance,\n",
    "                           \"\", 0, 0, user_account.address.bech32())\n",
    "\n",
    "    tx_hash = farm_contract.enter_farm_on_behalf(context.network_provider, caller_account, event)\n",
    "    return tx_hash"
   ]
  },
  {
   "cell_type": "code",
   "execution_count": 18,
   "metadata": {},
   "outputs": [],
   "source": [
    "def dict_compare(d1, d2):\n",
    "    print(d1)\n",
    "    print(d2)\n",
    "    d1_keys = set(d1.keys())\n",
    "    d2_keys = set(d2.keys())\n",
    "    shared_keys = d1_keys.intersection(d2_keys)\n",
    "    added = d1_keys - d2_keys\n",
    "    removed = d2_keys - d1_keys\n",
    "    modified = {o : (d1[o], d2[o]) for o in shared_keys if d1[o] != d2[o]}\n",
    "    same = set(o for o in shared_keys if d1[o] == d2[o])\n",
    "    return added, removed, modified, same\n",
    "\n",
    "def check_equal_dicts(dict1, dict2):\n",
    "    \"\"\"\n",
    "    Compare two dictionaries, including nested dictionaries.\n",
    "    \n",
    "    Args:\n",
    "    dict1 (dict): First dictionary to compare.\n",
    "    dict2 (dict): Second dictionary to compare.\n",
    "    \n",
    "    Returns:\n",
    "    bool: True if dictionaries are equal, False otherwise.\n",
    "    \"\"\"\n",
    "    if dict1.keys() != dict2.keys():\n",
    "        return False\n",
    "    \n",
    "    for key in dict1:\n",
    "        if isinstance(dict1[key], dict) and isinstance(dict2[key], dict):\n",
    "            if not check_equal_dicts(dict1[key], dict2[key]):\n",
    "                return False\n",
    "        elif dict1[key] != dict2[key]:\n",
    "            return False\n",
    "    \n",
    "    return True"
   ]
  },
  {
   "cell_type": "code",
   "execution_count": 19,
   "metadata": {},
   "outputs": [],
   "source": [
    "from utils.decoding_structures import FARM_TOKEN_ATTRIBUTES\n",
    "from utils.utils_chain import decode_merged_attributes, base64_to_hex, WrapperAddress, get_all_token_nonces_details_for_account\n",
    "\n",
    "def user_farm_token_stats(user):\n",
    "    tokens_in_account = get_all_token_nonces_details_for_account(farm_contract.farmingToken, user.address.bech32(), context.network_provider.proxy)\n",
    "    print(f'Account: {user.address.bech32()}')\n",
    "    print(f'Looking for {farm_contract.farmingToken} and {farm_contract.farmToken} tokens')\n",
    "    print(f'Farming Tokens in account:')\n",
    "    for token in tokens_in_account:\n",
    "        print(f'\\t{token}')\n",
    "    tokens_in_account = get_all_token_nonces_details_for_account(farm_contract.farmToken, user.address.bech32(), context.network_provider.proxy)\n",
    "    print(f'Farm Tokens in account:')\n",
    "    all_decoded_attributes = []\n",
    "    for token in tokens_in_account:\n",
    "        print(f'\\t{token}')\n",
    "        decoded_attributes = decode_merged_attributes(base64_to_hex(token[\"attributes\"]), FARM_TOKEN_ATTRIBUTES)\n",
    "        print(f'\\t\\t{decoded_attributes}')\n",
    "        all_decoded_attributes.append(decoded_attributes)\n",
    "        \n",
    "    return all_decoded_attributes"
   ]
  },
  {
   "cell_type": "markdown",
   "metadata": {},
   "source": [
    "CHAIN SIMULATOR STACK"
   ]
  },
  {
   "cell_type": "code",
   "execution_count": 20,
   "metadata": {},
   "outputs": [],
   "source": [
    "import subprocess\n",
    "from time import sleep\n",
    "\n",
    "CS_DOCKER_PATH = Path.home() / \"projects/testing/full-stack-docker-compose/chain-simulator\"\n",
    "\n",
    "def start_chain_sim_stack():\n",
    "    # stop first in case one is already running\n",
    "    p = subprocess.Popen([\"docker\", \"compose\", \"down\"], cwd = CS_DOCKER_PATH)\n",
    "    p.wait()\n",
    "    \n",
    "    p = subprocess.Popen([\"docker\", \"compose\", \"up\", \"-d\"], cwd = CS_DOCKER_PATH)\n",
    "    sleep(60)\n",
    "    return p\n",
    "\n",
    "def stop_chain_sim_stack(p):\n",
    "    p.terminate()\n",
    "    p = subprocess.Popen([\"docker\", \"compose\", \"down\"], cwd = CS_DOCKER_PATH)\n",
    "    p.wait()\n",
    "    _ = subprocess.run([\"docker\", \"system\", \"prune\", \"-f\"], cwd = CS_DOCKER_PATH)"
   ]
  },
  {
   "cell_type": "markdown",
   "metadata": {},
   "source": [
    "# OPERATIONS"
   ]
  },
  {
   "cell_type": "code",
   "execution_count": null,
   "metadata": {},
   "outputs": [],
   "source": [
    "setup_chain_sim()"
   ]
  },
  {
   "cell_type": "markdown",
   "metadata": {},
   "source": [
    "ADVANCE BLOCKS"
   ]
  },
  {
   "cell_type": "code",
   "execution_count": null,
   "metadata": {},
   "outputs": [],
   "source": [
    "proxy.do_post(f\"{GENERATE_BLOCKS_URL}/1\", {})"
   ]
  },
  {
   "cell_type": "code",
   "execution_count": null,
   "metadata": {},
   "outputs": [],
   "source": [
    "proxy.do_post(f\"{GENERATE_BLOCKS_URL}/3\", {})"
   ]
  },
  {
   "cell_type": "markdown",
   "metadata": {},
   "source": [
    "User setup"
   ]
  },
  {
   "cell_type": "code",
   "execution_count": null,
   "metadata": {},
   "outputs": [],
   "source": [
    "users_init()"
   ]
  },
  {
   "cell_type": "markdown",
   "metadata": {},
   "source": [
    "USER TOKEN STATS"
   ]
  },
  {
   "cell_type": "code",
   "execution_count": null,
   "metadata": {},
   "outputs": [],
   "source": [
    "from utils.decoding_structures import FARM_TOKEN_ATTRIBUTES\n",
    "from utils.utils_chain import decode_merged_attributes, base64_to_hex, WrapperAddress, get_all_token_nonces_details_for_account\n",
    "\n",
    "# user = Account(pem_file=config.DEFAULT_ACCOUNTS)\n",
    "# user.address = WrapperAddress(\"\")\n",
    "# user.sync_nonce(context.network_provider.proxy)\n",
    "\n",
    "tokens_in_account = get_all_token_nonces_details_for_account(farm_contract.farmingToken, user.address.bech32(), context.network_provider.proxy)\n",
    "print(f'Account: {user.address.bech32()}')\n",
    "print(f'Looking for {farm_contract.farmingToken} and {farm_contract.farmToken} tokens')\n",
    "print(f'Farming Tokens in account:')\n",
    "for token in tokens_in_account:\n",
    "    print(f'\\t{token}')\n",
    "tokens_in_account = get_all_token_nonces_details_for_account(farm_contract.farmToken, user.address.bech32(), context.network_provider.proxy)\n",
    "print(f'Farm Tokens in account:')\n",
    "for token in tokens_in_account:\n",
    "    print(f'\\t{token}')\n",
    "    print(f'\\t\\t{decode_merged_attributes(base64_to_hex(token[\"attributes\"]), FARM_TOKEN_ATTRIBUTES)}')"
   ]
  },
  {
   "cell_type": "code",
   "execution_count": null,
   "metadata": {},
   "outputs": [],
   "source": [
    "from utils.decoding_structures import FARM_TOKEN_ATTRIBUTES\n",
    "from utils.utils_chain import decode_merged_attributes, base64_to_hex, WrapperAddress, get_all_token_nonces_details_for_account\n",
    "\n",
    "# user = Account(pem_file=config.DEFAULT_ACCOUNTS)\n",
    "# user.address = WrapperAddress(\"\")\n",
    "# user.sync_nonce(context.network_provider.proxy)\n",
    "\n",
    "tokens_in_account = get_all_token_nonces_details_for_account(farm_contract.farmingToken, user.address.bech32(), context.network_provider.proxy)\n",
    "print(f'Account: {user.address.bech32()}')\n",
    "print(f'Looking for {farm_contract.farmingToken} and {farm_contract.farmToken} tokens')\n",
    "print(f'Farming Tokens in account:')\n",
    "for token in tokens_in_account:\n",
    "    print(f'\\t{token}')\n",
    "tokens_in_account = get_all_token_nonces_details_for_account(farm_contract.farmToken, user.address.bech32(), context.network_provider.proxy)\n",
    "print(f'Farm Tokens in account:')\n",
    "for token in tokens_in_account:\n",
    "    print(f'\\t{token}')\n",
    "    print(f'\\t\\t{decode_merged_attributes(base64_to_hex(token[\"attributes\"]), FARM_TOKEN_ATTRIBUTES)}')"
   ]
  },
  {
   "cell_type": "markdown",
   "metadata": {},
   "source": [
    "Get user & farm stats"
   ]
  },
  {
   "cell_type": "code",
   "execution_count": null,
   "metadata": {},
   "outputs": [],
   "source": [
    "import json\n",
    "print(json.dumps(farm_contract.get_all_user_boosted_stats(user.address.bech32(), context.network_provider.proxy), indent=4))\n",
    "print(json.dumps(farm_contract.get_all_stats(context.network_provider.proxy), indent=4))"
   ]
  },
  {
   "cell_type": "code",
   "execution_count": null,
   "metadata": {},
   "outputs": [],
   "source": [
    "import json\n",
    "print(json.dumps(farm_contract.get_all_user_boosted_stats(user.address.bech32(), context.network_provider.proxy), indent=4))\n",
    "print(json.dumps(farm_contract.get_all_stats(context.network_provider.proxy), indent=4))"
   ]
  },
  {
   "cell_type": "markdown",
   "metadata": {},
   "source": [
    "upgrade contract"
   ]
  },
  {
   "cell_type": "code",
   "execution_count": null,
   "metadata": {},
   "outputs": [],
   "source": [
    "# pair_address = farm_contract.get_lp_address(context.network_provider.proxy)\n",
    "tx_hash = farm_contract.contract_upgrade(context.deployer_account, context.network_provider.proxy, \n",
    "                                         \"https://github.com/multiversx/mx-exchange-sc/releases/download/v3.2.2-rc2/farm-with-locked-rewards.wasm\", \n",
    "                                         [], True)"
   ]
  },
  {
   "cell_type": "markdown",
   "metadata": {},
   "source": [
    "resume contract"
   ]
  },
  {
   "cell_type": "code",
   "execution_count": null,
   "metadata": {},
   "outputs": [],
   "source": [
    "farm_contract.resume(context.deployer_account, context.network_provider.proxy)"
   ]
  },
  {
   "cell_type": "markdown",
   "metadata": {},
   "source": [
    "Basic user"
   ]
  },
  {
   "cell_type": "code",
   "execution_count": null,
   "metadata": {},
   "outputs": [],
   "source": [
    "from utils.utils_chain import WrapperAddress\n",
    "user = Account(pem_file=config.DEFAULT_ADMIN)\n",
    "user.address = WrapperAddress(\"erd13dj5qy3ht8pewf7vme50gle2d2lx0wzywa2cvez08x5zzu5x6d7sewjt3m\")\n",
    "user.sync_nonce(context.network_provider.proxy)"
   ]
  },
  {
   "cell_type": "markdown",
   "metadata": {},
   "source": [
    "Collect user accounts"
   ]
  },
  {
   "cell_type": "code",
   "execution_count": null,
   "metadata": {},
   "outputs": [],
   "source": [
    "from utils.utils_scenarios import collect_farm_contract_users\n",
    "from multiversx_sdk import ApiNetworkProvider\n",
    "\n",
    "mainnet_api = ApiNetworkProvider(\"https://api.multiversx.com\")\n",
    "fetched_users = collect_farm_contract_users(20, farm_contract.address, farm_contract.farmingToken, farm_contract.farmToken,\n",
    "                                            mainnet_api, context.network_provider.proxy)"
   ]
  },
  {
   "cell_type": "markdown",
   "metadata": {},
   "source": [
    "Used users"
   ]
  },
  {
   "cell_type": "code",
   "execution_count": null,
   "metadata": {},
   "outputs": [],
   "source": [
    "from utils.decoding_structures import FARM_TOKEN_ATTRIBUTES\n",
    "from utils.utils_chain import decode_merged_attributes, base64_to_hex, get_all_token_nonces_details_for_account\n",
    "from utils.utils_scenarios import FetchedUser\n",
    "from typing import List\n",
    "\n",
    "index = 0\n",
    "users: List[FetchedUser] = fetched_users.get_users_with_farm_tokens()\n",
    "if not users:\n",
    "    raise Exception('No users found for the given criteria')\n",
    "\n",
    "user = users[index].address\n",
    "tokens_in_account = get_all_token_nonces_details_for_account(farm_contract.farmingToken, user.bech32(), context.network_provider.proxy)\n",
    "print(f'Account: {user.bech32()}')\n",
    "print(f'Farming Tokens in account:')\n",
    "for token in tokens_in_account:\n",
    "    print(f'\\t{token}')\n",
    "tokens_in_account = get_all_token_nonces_details_for_account(farm_contract.farmToken, user.bech32(), context.network_provider.proxy)\n",
    "print(f'Farm Tokens in account:')\n",
    "for token in tokens_in_account:\n",
    "    print(f'\\t{token}')\n",
    "    print(f'\\t\\t{decode_merged_attributes(base64_to_hex(token[\"attributes\"]), FARM_TOKEN_ATTRIBUTES)}')"
   ]
  },
  {
   "cell_type": "markdown",
   "metadata": {},
   "source": [
    "Find user by token"
   ]
  },
  {
   "cell_type": "code",
   "execution_count": null,
   "metadata": {},
   "outputs": [],
   "source": [
    "from multiversx_sdk.network_providers import ApiNetworkProvider\n",
    "from utils.utils_chain import dec_to_padded_hex, WrapperAddress, get_all_token_nonces_details_for_account, decode_merged_attributes, base64_to_hex\n",
    "from utils.decoding_structures import FARM_TOKEN_ATTRIBUTES\n",
    "\n",
    "migration_nonce = 152776\n",
    "\n",
    "mainnet_api = ApiNetworkProvider(\"https://api.multiversx.com\")\n",
    "for nonce in reversed(range(migration_nonce)):\n",
    "    url = f'nfts/{farm_contract.farmToken}-{dec_to_padded_hex(nonce)}/accounts'\n",
    "    try:\n",
    "        response = mainnet_api.do_get_generic(url)\n",
    "        user_found = \"\"\n",
    "        for entry in response:\n",
    "            if WrapperAddress(entry['address']).is_smart_contract():\n",
    "                continue\n",
    "            user_found = entry['address']\n",
    "        \n",
    "        if user_found:\n",
    "            tokens_in_account = get_all_token_nonces_details_for_account(farm_contract.farmToken, user_found, context.network_provider.proxy)\n",
    "            for token in tokens_in_account:\n",
    "                token_decoded_attributes = decode_merged_attributes(base64_to_hex(token[\"attributes\"]), FARM_TOKEN_ATTRIBUTES)\n",
    "                print(f'Farm Tokens nonce {dec_to_padded_hex(nonce)}: {token_decoded_attributes}')\n",
    "    except Exception as e:\n",
    "        print(f'Error fetching {url}: {e}')\n",
    "        continue"
   ]
  },
  {
   "cell_type": "code",
   "execution_count": null,
   "metadata": {},
   "outputs": [],
   "source": [
    "from utils.decoding_structures import FARM_TOKEN_ATTRIBUTES\n",
    "from utils.utils_chain import decode_merged_attributes, base64_to_hex, WrapperAddress, get_all_token_nonces_details_for_account\n",
    "\n",
    "# user = Account(pem_file=config.DEFAULT_ACCOUNTS)\n",
    "# user.address = WrapperAddress(\"\")\n",
    "# user.sync_nonce(context.network_provider.proxy)\n",
    "\n",
    "tokens_in_account = get_all_token_nonces_details_for_account(farm_contract.farmingToken, user.address.bech32(), context.network_provider.proxy)\n",
    "print(f'Account: {user.address.bech32()}')\n",
    "print(f'Looking for {farm_contract.farmingToken} and {farm_contract.farmToken} tokens')\n",
    "print(f'Farming Tokens in account:')\n",
    "for token in tokens_in_account:\n",
    "    print(f'\\t{token}')\n",
    "tokens_in_account = get_all_token_nonces_details_for_account(farm_contract.farmToken, user.address.bech32(), context.network_provider.proxy)\n",
    "print(f'Farm Tokens in account:')\n",
    "for token in tokens_in_account:\n",
    "    print(f'\\t{token}')\n",
    "    print(f'\\t\\t{decode_merged_attributes(base64_to_hex(token[\"attributes\"]), FARM_TOKEN_ATTRIBUTES)}')"
   ]
  },
  {
   "cell_type": "markdown",
   "metadata": {},
   "source": [
    "Transfer position"
   ]
  },
  {
   "cell_type": "code",
   "execution_count": null,
   "metadata": {},
   "outputs": [],
   "source": [
    "from utils.utils_tx import multi_esdt_transfer, ESDTToken\n",
    "from utils.utils_chain import Account, WrapperAddress\n",
    "fetched_user = users[0]\n",
    "user_account = Account(pem_file=config.DEFAULT_ACCOUNTS)\n",
    "user_account.address = fetched_user.address\n",
    "user_account.sync_nonce(context.network_provider.proxy)\n",
    "\n",
    "destination = WrapperAddress(\"\")\n",
    "\n",
    "full_token_id = fetched_user.farm_tokens[0].get('tokenIdentifier')\n",
    "token_id = '-'.join(full_token_id.split('-')[:-1])\n",
    "token = ESDTToken(token_id, fetched_user.farm_tokens[0].get('nonce'), int(fetched_user.farm_tokens[0].get('balance'))//2)\n",
    "print(f'Sending: {token.get_token_data()} from {fetched_user.address.bech32()}')\n",
    "multi_esdt_transfer(context.network_provider.proxy, 1000000, user_account, destination, [token])"
   ]
  },
  {
   "cell_type": "markdown",
   "metadata": {},
   "source": [
    "Enter farm"
   ]
  },
  {
   "cell_type": "code",
   "execution_count": null,
   "metadata": {},
   "outputs": [],
   "source": [
    "from utils.utils_chain import Account, WrapperAddress as Address, get_all_token_nonces_details_for_account\n",
    "from contracts.farm_contract import EnterFarmEvent\n",
    "\n",
    "# user = fetched_users[randint(0, len(fetched_users.get_users_with_farming_tokens()) - 1)].address\n",
    "# user = fetched_users.get_users_with_both_tokens()[0].address\n",
    "\n",
    "# user_account = Account(pem_file=config.DEFAULT_ACCOUNTS)\n",
    "# user_account.address = user\n",
    "# user_account.sync_nonce(context.network_provider.proxy)\n",
    "\n",
    "user_account = user\n",
    "\n",
    "farming_tk_balance = 0\n",
    "tokens_in_account = get_all_token_nonces_details_for_account(farm_contract.farmingToken, user_account.address.bech32(), context.network_provider.proxy)\n",
    "print(f'Found {len(tokens_in_account)} farming tokens in account')\n",
    "for token in tokens_in_account:\n",
    "    if int(token['balance']) > 0:\n",
    "        farming_tk_balance = int(token['balance'])\n",
    "        break\n",
    "\n",
    "if not farming_tk_balance:\n",
    "    raise Exception(\"Not enough farming token balance\")\n",
    "\n",
    "farm_tk_balance, farm_tk_nonce = 0, 0\n",
    "tokens_in_account = get_all_token_nonces_details_for_account(farm_contract.farmToken, user_account.address.bech32(), context.network_provider.proxy)\n",
    "print(f'Found {len(tokens_in_account)} farm tokens in account')\n",
    "for token in tokens_in_account:\n",
    "    if int(token['balance']) > farm_tk_balance:\n",
    "        farm_tk_balance = int(token['balance'])\n",
    "        farm_tk_nonce = token['nonce']\n",
    "        break\n",
    "\n",
    "# use only 10% of the balance\n",
    "event = EnterFarmEvent(farm_contract.farmingToken, 0, farming_tk_balance // 10,\n",
    "                       farm_contract.farmToken, farm_tk_nonce, farm_tk_balance)\n",
    "\n",
    "initial_enter: bool = False if farm_tk_nonce else True\n",
    "tx_hash = farm_contract.enterFarm(context.network_provider, user_account, event, initial=initial_enter)"
   ]
  },
  {
   "cell_type": "code",
   "execution_count": null,
   "metadata": {},
   "outputs": [],
   "source": [
    "proxy_contract.set_transfer_role_wrapped_lp_token(context.deployer_account, context.network_provider.proxy, proxy_contract.address)"
   ]
  },
  {
   "cell_type": "markdown",
   "metadata": {},
   "source": [
    "Claim rewards"
   ]
  },
  {
   "cell_type": "code",
   "execution_count": null,
   "metadata": {},
   "outputs": [],
   "source": [
    "from utils.utils_chain import Account, WrapperAddress as Address, get_all_token_nonces_details_for_account\n",
    "from contracts.farm_contract import ClaimRewardsFarmEvent\n",
    "\n",
    "user_account = Account(pem_file=\"~/Documents/sh1.pem\")\n",
    "user_account.address = user.address\n",
    "user_account.sync_nonce(context.network_provider.proxy)\n",
    "\n",
    "event = ClaimRewardsFarmEvent(0, 0, '', user_account.address.bech32())\n",
    "\n",
    "tx_hash = farm_contract.claim_boosted_rewards(context.network_provider, user_account, event)"
   ]
  },
  {
   "cell_type": "markdown",
   "metadata": {},
   "source": [
    "Permissions hub setup"
   ]
  },
  {
   "cell_type": "code",
   "execution_count": null,
   "metadata": {},
   "outputs": [],
   "source": [
    "from contracts.permissions_hub_contract import PermissionsHubContract\n",
    "\n",
    "permissions_hub_contract: PermissionsHubContract\n",
    "permissions_hub_contract = context.get_contracts(config.PERMISSIONS_HUBS)[0]\n",
    "print(permissions_hub_contract.address)"
   ]
  },
  {
   "cell_type": "markdown",
   "metadata": {},
   "source": [
    "Claim on behalf"
   ]
  },
  {
   "cell_type": "code",
   "execution_count": null,
   "metadata": {},
   "outputs": [],
   "source": [
    "permissions_hub_contract.add_to_whitelist(user_account, context.network_provider.proxy, [\"erd1rf4hv70arudgzus0ymnnsnc4pml0jkywg2xjvzslg0mz4nn2tg7q7k0t6p\"])"
   ]
  },
  {
   "cell_type": "markdown",
   "metadata": {},
   "source": [
    "Get user farm position"
   ]
  },
  {
   "cell_type": "code",
   "execution_count": null,
   "metadata": {},
   "outputs": [],
   "source": [
    "# user_address = fetched_users.get_users_with_both_tokens()[0].address.bech32()\n",
    "user_address = user.bech32()\n",
    "print(user_address)\n",
    "farm_contract.get_user_total_farm_position(user_address, context.network_provider.proxy)"
   ]
  },
  {
   "cell_type": "markdown",
   "metadata": {},
   "source": [
    "Exit rewards"
   ]
  },
  {
   "cell_type": "code",
   "execution_count": null,
   "metadata": {},
   "outputs": [],
   "source": [
    "from utils.utils_chain import Account, WrapperAddress as Address, get_all_token_nonces_details_for_account\n",
    "from contracts.farm_contract import ExitFarmEvent\n",
    "\n",
    "# user = fetched_users[randint(0, len(fetched_users.get_users_with_farming_tokens()) - 1)].address\n",
    "# user = fetched_users.get_users_with_both_tokens()[0].address\n",
    "user_account = Account(pem_file=config.DEFAULT_ACCOUNTS)\n",
    "user_account.address = user\n",
    "user_account.sync_nonce(context.network_provider.proxy)\n",
    "\n",
    "farm_tk_balance, farm_tk_nonce = 0, 0\n",
    "tokens_in_account = get_all_token_nonces_details_for_account(farm_contract.farmToken, user_account.address.bech32(), context.network_provider.proxy)\n",
    "print(f'Found {len(tokens_in_account)} positions of {farm_contract.farmToken} in account')\n",
    "for token in tokens_in_account:\n",
    "    if int(token['balance']) > farm_tk_balance:\n",
    "        farm_tk_balance = int(token['balance'])\n",
    "        farm_tk_nonce = token['nonce']\n",
    "        break\n",
    "\n",
    "if not farm_tk_nonce:\n",
    "    raise Exception(\"Not enough farm token balance\")\n",
    "\n",
    "event = ExitFarmEvent(farm_contract.farmToken, farm_tk_balance, farm_tk_nonce, '')\n",
    "\n",
    "tx_hash = farm_contract.exitFarm(context.network_provider, user_account, event)"
   ]
  },
  {
   "cell_type": "markdown",
   "metadata": {},
   "source": [
    "Get user farm position"
   ]
  },
  {
   "cell_type": "code",
   "execution_count": null,
   "metadata": {},
   "outputs": [],
   "source": [
    "# user_address = fetched_users.get_users_with_both_tokens()[0].address.bech32()\n",
    "user_address = user_account.address.bech32()\n",
    "print(user_address)\n",
    "farm_contract.get_user_total_farm_position(user_address, context.network_provider.proxy)"
   ]
  },
  {
   "cell_type": "markdown",
   "metadata": {},
   "source": [
    "SHADOWFORK CONTROL"
   ]
  },
  {
   "cell_type": "code",
   "execution_count": null,
   "metadata": {},
   "outputs": [],
   "source": [
    "from contracts.builtin_contracts import SFControlContract\n",
    "\n",
    "epocs_to_advance = 7\n",
    "\n",
    "sf_control_contract = SFControlContract(config.SF_CONTROL_ADDRESS)\n",
    "current_epoch = context.network_provider.proxy.get_network_status(1).epoch_number\n",
    "print(f'Current epoch: {current_epoch}')\n",
    "context.deployer_account.sync_nonce(context.network_provider.proxy)\n",
    "sf_control_contract.epochs_fast_forward(context.deployer_account, context.network_provider.proxy, epocs_to_advance, 9)"
   ]
  },
  {
   "cell_type": "markdown",
   "metadata": {},
   "source": [
    "wait for epoch fast forward"
   ]
  },
  {
   "cell_type": "code",
   "execution_count": null,
   "metadata": {},
   "outputs": [],
   "source": [
    "from time import sleep\n",
    "\n",
    "target_epoch = current_epoch + epocs_to_advance\n",
    "while current_epoch < target_epoch:\n",
    "    current_epoch = context.network_provider.proxy.get_network_status(1).epoch_number\n",
    "    print(f'Current epoch: {current_epoch}')\n",
    "    sleep(10)\n",
    "print('Reached target epoch!')"
   ]
  },
  {
   "cell_type": "markdown",
   "metadata": {},
   "source": [
    "Trackers"
   ]
  },
  {
   "cell_type": "code",
   "execution_count": null,
   "metadata": {},
   "outputs": [],
   "source": [
    "from trackers.farm_economics_tracking import FarmEconomics\n",
    "from contracts.farm_contract import FarmContractVersion\n",
    "\n",
    "farm_tracker = FarmEconomics(farm_contract.address, FarmContractVersion.V2Boosted, context.network_provider)"
   ]
  },
  {
   "cell_type": "code",
   "execution_count": null,
   "metadata": {},
   "outputs": [],
   "source": [
    "farm_tracker.update_tracking_data()\n",
    "farm_tracker.report_current_tracking_data()"
   ]
  },
  {
   "cell_type": "code",
   "execution_count": null,
   "metadata": {},
   "outputs": [],
   "source": [
    "farm_tracker.update_tracking_data()\n",
    "farm_tracker.report_current_tracking_data()"
   ]
  },
  {
   "cell_type": "markdown",
   "metadata": {},
   "source": [
    "State"
   ]
  },
  {
   "cell_type": "code",
   "execution_count": null,
   "metadata": {},
   "outputs": [],
   "source": [
    "current_week = farm_contract.get_current_week(context.network_provider.proxy)\n",
    "print(current_week)"
   ]
  },
  {
   "cell_type": "code",
   "execution_count": null,
   "metadata": {},
   "outputs": [],
   "source": [
    "energy_for_user_in_week = farm_contract.get_user_energy_for_week(user.bech32(), proxy=context.network_provider.proxy, week=current_week)\n",
    "print(energy_for_user_in_week)"
   ]
  },
  {
   "cell_type": "code",
   "execution_count": null,
   "metadata": {},
   "outputs": [],
   "source": [
    "user_progress = farm_contract.get_current_claim_progress_for_user(user.bech32(), context.network_provider.proxy)\n",
    "print(user_progress)"
   ]
  },
  {
   "cell_type": "code",
   "execution_count": null,
   "metadata": {},
   "outputs": [],
   "source": [
    "last_week = farm_contract.get_last_active_week_for_user(user.bech32(), context.network_provider.proxy)\n",
    "print(last_week)"
   ]
  },
  {
   "cell_type": "code",
   "execution_count": null,
   "metadata": {},
   "outputs": [],
   "source": [
    "from tools.runners.farm_runner import get_farm_addresses_from_chain\n",
    "from contracts.farm_contract import FarmContract\n",
    "\n",
    "farm_addresses = get_farm_addresses_from_chain(\"v2\")\n",
    "\n",
    "for farm_address in farm_addresses:\n",
    "    farm_contract = FarmContract.load_contract_by_address(farm_address)\n",
    "    stats = farm_contract.get_all_stats(context.network_provider.proxy)\n",
    "\n",
    "    print(f'Farm: {farm_address}')\n",
    "    print(f'Farm identity: {farm_contract.get_config_dict()}')\n",
    "    print(f'Stats: {stats}')\n",
    "    print('')\n"
   ]
  },
  {
   "cell_type": "markdown",
   "metadata": {},
   "source": [
    "New Farm setup"
   ]
  },
  {
   "cell_type": "code",
   "execution_count": null,
   "metadata": {},
   "outputs": [],
   "source": [
    "FARM_TOKEN_NAME = \"\"\n",
    "FARM_TOKEN_TICKER = \"\"\n",
    "POOL_ADDRESS = \"\"\n",
    "LOCK_EPOCHS = 1440\n",
    "BOOSTED_YIELD_REWARDS = 6000\n",
    "BOOSTED_YIELD_FACTORS = [2, 1, 0, 1, 1]\n",
    "REWARDS_PER_BLOCK = 1\n",
    "PENALTY_PERCENT = 300\n",
    "MINIMUM_FARMING_EPOCH = 7"
   ]
  },
  {
   "cell_type": "code",
   "execution_count": null,
   "metadata": {},
   "outputs": [],
   "source": [
    "from contracts.farm_contract import FarmContract, FarmContractVersion\n",
    "from contracts.pair_contract import PairContract\n",
    "from contracts.simple_lock_energy_contract import SimpleLockEnergyContract\n",
    "\n",
    "pair_contract = PairContract.load_contract_by_address(POOL_ADDRESS)\n",
    "print(f'Pair contract: {pair_contract.address} {pair_contract.lpToken}')\n",
    "energy_factory: SimpleLockEnergyContract\n",
    "energy_factory = context.get_contracts(config.SIMPLE_LOCKS_ENERGY)[0]\n",
    "\n",
    "farm_contract: FarmContract\n",
    "farm_contract = FarmContract(pair_contract.lpToken, \"\", energy_factory.base_token, \"\", FarmContractVersion.V2Boosted)"
   ]
  },
  {
   "cell_type": "code",
   "execution_count": null,
   "metadata": {},
   "outputs": [],
   "source": [
    "hash, address = farm_contract.contract_deploy(context.deployer_account, context.network_provider.proxy, \n",
    "                                              config.FARM_V3_BYTECODE_PATH,\n",
    "                                              [POOL_ADDRESS, context.admin_account.address.bech32()])\n",
    "farm_contract.address = address"
   ]
  },
  {
   "cell_type": "code",
   "execution_count": null,
   "metadata": {},
   "outputs": [],
   "source": [
    "farm_contract.register_farm_token(context.deployer_account, context.network_provider.proxy, [FARM_TOKEN_NAME, FARM_TOKEN_TICKER])"
   ]
  },
  {
   "cell_type": "code",
   "execution_count": null,
   "metadata": {},
   "outputs": [],
   "source": [
    "pair_contract.whitelist_contract(context.deployer_account, context.network_provider.proxy, farm_contract.address)"
   ]
  },
  {
   "cell_type": "code",
   "execution_count": null,
   "metadata": {},
   "outputs": [],
   "source": [
    "farm_contract.set_energy_factory_address(context.deployer_account, context.network_provider.proxy, energy_factory.address)"
   ]
  },
  {
   "cell_type": "code",
   "execution_count": null,
   "metadata": {},
   "outputs": [],
   "source": [
    "farm_contract.set_locking_address(context.deployer_account, context.network_provider.proxy, energy_factory.address)"
   ]
  },
  {
   "cell_type": "code",
   "execution_count": null,
   "metadata": {},
   "outputs": [],
   "source": [
    "energy_factory.add_sc_to_whitelist(context.deployer_account, context.network_provider.proxy, farm_contract.address)"
   ]
  },
  {
   "cell_type": "code",
   "execution_count": null,
   "metadata": {},
   "outputs": [],
   "source": [
    "farm_contract.set_lock_epochs(context.deployer_account, context.network_provider.proxy, LOCK_EPOCHS)"
   ]
  },
  {
   "cell_type": "code",
   "execution_count": null,
   "metadata": {},
   "outputs": [],
   "source": [
    "farm_contract.set_boosted_yields_rewards_percentage(context.deployer_account, context.network_provider.proxy, BOOSTED_YIELD_REWARDS)"
   ]
  },
  {
   "cell_type": "code",
   "execution_count": null,
   "metadata": {},
   "outputs": [],
   "source": [
    "farm_contract.set_boosted_yields_factors(context.deployer_account, context.network_provider.proxy, BOOSTED_YIELD_FACTORS)"
   ]
  },
  {
   "cell_type": "code",
   "execution_count": null,
   "metadata": {},
   "outputs": [],
   "source": [
    "farm_contract.set_rewards_per_block(context.deployer_account, context.network_provider.proxy, 1)"
   ]
  },
  {
   "cell_type": "code",
   "execution_count": null,
   "metadata": {},
   "outputs": [],
   "source": [
    "farm_contract.set_penalty_percent(context.deployer_account, context.network_provider.proxy, 300)"
   ]
  },
  {
   "cell_type": "code",
   "execution_count": null,
   "metadata": {},
   "outputs": [],
   "source": [
    "farm_contract.set_minimum_farming_epochs(context.deployer_account, context.network_provider.proxy, 7)"
   ]
  },
  {
   "cell_type": "code",
   "execution_count": null,
   "metadata": {},
   "outputs": [],
   "source": [
    "energy_factory.set_transfer_role_locked_token(context.deployer_account, context.network_provider.proxy, [farm_contract.address])"
   ]
  },
  {
   "cell_type": "markdown",
   "metadata": {},
   "source": [
    "# SCENARIOS"
   ]
  },
  {
   "cell_type": "markdown",
   "metadata": {},
   "source": [
    "Chain sim control"
   ]
  },
  {
   "cell_type": "code",
   "execution_count": null,
   "metadata": {},
   "outputs": [],
   "source": [
    "chain_sim_stack = start_chain_sim_stack()"
   ]
  },
  {
   "cell_type": "code",
   "execution_count": null,
   "metadata": {},
   "outputs": [],
   "source": [
    "stop_chain_sim_stack(chain_sim_stack)"
   ]
  },
  {
   "cell_type": "markdown",
   "metadata": {},
   "source": [
    "Init"
   ]
  },
  {
   "cell_type": "code",
   "execution_count": null,
   "metadata": {},
   "outputs": [],
   "source": [
    "setup_chain_sim()\n",
    "users = users_init()\n",
    "advance_blocks(1)"
   ]
  },
  {
   "cell_type": "code",
   "execution_count": null,
   "metadata": {},
   "outputs": [],
   "source": [
    "user_farm_token_stats(user)"
   ]
  },
  {
   "cell_type": "markdown",
   "metadata": {},
   "source": [
    "Claim for user"
   ]
  },
  {
   "cell_type": "code",
   "execution_count": null,
   "metadata": {},
   "outputs": [],
   "source": [
    "claim_for_user(user)\n",
    "advance_blocks(1)"
   ]
  },
  {
   "cell_type": "code",
   "execution_count": null,
   "metadata": {},
   "outputs": [],
   "source": [
    "user = users_init()[0]\n",
    "claim_on_behalf_from_user(user)\n",
    "advance_blocks(1)"
   ]
  },
  {
   "cell_type": "code",
   "execution_count": 10,
   "metadata": {},
   "outputs": [],
   "source": [
    "advance_blocks(1)"
   ]
  },
  {
   "cell_type": "markdown",
   "metadata": {},
   "source": [
    "Claim on behalf"
   ]
  },
  {
   "cell_type": "code",
   "execution_count": null,
   "metadata": {},
   "outputs": [],
   "source": [
    "user = users_init()[0]\n",
    "permissions_hub_contract = deploy_permissions_hub()\n",
    "farm_contract.set_permissions_hub_address(context.deployer_account, context.network_provider.proxy, permissions_hub_contract.address)\n",
    "advance_blocks(1)\n",
    "\n",
    "claim_on_behalf_from_user(user)\n",
    "advance_blocks(1)"
   ]
  },
  {
   "cell_type": "markdown",
   "metadata": {},
   "source": [
    "Claim compare"
   ]
  },
  {
   "cell_type": "code",
   "execution_count": null,
   "metadata": {},
   "outputs": [],
   "source": [
    "setup_chain_sim()\n",
    "user = users_init()[0]\n",
    "advance_blocks(3)\n",
    "\n",
    "u1 = farm_contract.get_all_user_boosted_stats(user.address.bech32(), context.network_provider.proxy)\n",
    "c1 = farm_contract.get_all_stats(context.network_provider.proxy)\n",
    "\n",
    "tx_hash = claim_for_user(user)\n",
    "advance_blocks(5)\n",
    "sleep(2)\n",
    "claim_ops_1 = context.network_provider.get_tx_operations(tx_hash, True)\n",
    "tx_hash = claim_for_user(user)\n",
    "advance_blocks(1)\n",
    "sleep(2)\n",
    "claim_ops_2 = context.network_provider.get_tx_operations(tx_hash, True)\n",
    "\n",
    "u2 = farm_contract.get_all_user_boosted_stats(user.address.bech32(), context.network_provider.proxy)\n",
    "c2 = farm_contract.get_all_stats(context.network_provider.proxy)\n",
    "tk_attrs_1 = user_farm_token_stats(user)\n",
    "\n",
    "input(\"Restart Chain Simulator then press Enter to continue...\")\n",
    "\n",
    "setup_chain_sim()\n",
    "user = users_init()[0]\n",
    "advance_blocks(1)\n",
    "\n",
    "farm_upgrade()  # eats 2 blocks\n",
    "\n",
    "u3 = farm_contract.get_all_user_boosted_stats(user.address.bech32(), context.network_provider.proxy)\n",
    "c3 = farm_contract.get_all_stats(context.network_provider.proxy)\n",
    "\n",
    "tx_hash = claim_for_user(user)\n",
    "advance_blocks(5)\n",
    "sleep(2)\n",
    "claim_ops_3 = context.network_provider.get_tx_operations(tx_hash, True)\n",
    "tx_hash = claim_for_user(user)\n",
    "advance_blocks(1)\n",
    "sleep(2)\n",
    "claim_ops_4 = context.network_provider.get_tx_operations(tx_hash)\n",
    "\n",
    "u4 = farm_contract.get_all_user_boosted_stats(user.address.bech32(), context.network_provider.proxy)\n",
    "c4 = farm_contract.get_all_stats(context.network_provider.proxy)\n",
    "tk_attrs_2 = user_farm_token_stats(user)\n",
    "\n",
    "a, r, m, s = dict_compare(u1, u3)\n",
    "dict_compare(u2, u4)\n",
    "dict_compare(c1, c3)\n",
    "dict_compare(c2, c4)\n",
    "print(\"-------------------\")\n",
    "print(tk_attrs_1)\n",
    "print(tk_attrs_2)\n",
    "print(\"-------------------\")\n",
    "print(claim_ops_1)\n",
    "print(claim_ops_3)\n",
    "print(\"-------------------\")\n",
    "print(claim_ops_2)\n",
    "print(claim_ops_4)"
   ]
  },
  {
   "cell_type": "markdown",
   "metadata": {},
   "source": [
    "Claim boosted compare"
   ]
  },
  {
   "cell_type": "code",
   "execution_count": null,
   "metadata": {},
   "outputs": [],
   "source": [
    "setup_chain_sim()\n",
    "user = users_init()[0]\n",
    "advance_blocks(3)\n",
    "\n",
    "u1 = farm_contract.get_all_user_boosted_stats(user.address.bech32(), context.network_provider.proxy)\n",
    "c1 = farm_contract.get_all_stats(context.network_provider.proxy)\n",
    "\n",
    "tx_hash = claim_boosted_for_user(user)\n",
    "advance_blocks(5)\n",
    "sleep(2)\n",
    "claim_ops_1 = context.network_provider.get_tx_operations(tx_hash, True)\n",
    "tx_hash = claim_boosted_for_user(user)\n",
    "advance_blocks(1)\n",
    "sleep(2)\n",
    "claim_ops_2 = context.network_provider.get_tx_operations(tx_hash, True)\n",
    "\n",
    "u2 = farm_contract.get_all_user_boosted_stats(user.address.bech32(), context.network_provider.proxy)\n",
    "c2 = farm_contract.get_all_stats(context.network_provider.proxy)\n",
    "tk_attrs_1 = user_farm_token_stats(user)\n",
    "\n",
    "input(\"Restart Chain Simulator then press Enter to continue...\")\n",
    "\n",
    "setup_chain_sim()\n",
    "user = users_init()[0]\n",
    "advance_blocks(1)\n",
    "\n",
    "farm_upgrade()  # eats 2 blocks\n",
    "\n",
    "u3 = farm_contract.get_all_user_boosted_stats(user.address.bech32(), context.network_provider.proxy)\n",
    "c3 = farm_contract.get_all_stats(context.network_provider.proxy)\n",
    "\n",
    "tx_hash = claim_boosted_for_user(user)\n",
    "advance_blocks(5)\n",
    "sleep(2)\n",
    "claim_ops_3 = context.network_provider.get_tx_operations(tx_hash, True)\n",
    "tx_hash = claim_boosted_for_user(user)\n",
    "advance_blocks(1)\n",
    "sleep(2)\n",
    "claim_ops_4 = context.network_provider.get_tx_operations(tx_hash, True)\n",
    "\n",
    "u4 = farm_contract.get_all_user_boosted_stats(user.address.bech32(), context.network_provider.proxy)\n",
    "c4 = farm_contract.get_all_stats(context.network_provider.proxy)\n",
    "tk_attrs_2 = user_farm_token_stats(user)\n",
    "\n",
    "a, r, m, s = dict_compare(u1, u3)\n",
    "dict_compare(u2, u4)\n",
    "dict_compare(c1, c3)\n",
    "dict_compare(c2, c4)\n",
    "print(\"-------------------\")\n",
    "print(tk_attrs_1)\n",
    "print(tk_attrs_2)\n",
    "print(\"-------------------\")\n",
    "print(claim_ops_1)\n",
    "print(claim_ops_3)\n",
    "print(\"-------------------\")\n",
    "print(claim_ops_2)\n",
    "print(claim_ops_4)"
   ]
  },
  {
   "cell_type": "markdown",
   "metadata": {},
   "source": [
    "Claim on Behalf compare"
   ]
  },
  {
   "cell_type": "code",
   "execution_count": null,
   "metadata": {},
   "outputs": [],
   "source": [
    "chain_sim = start_chain_sim_stack()\n",
    "\n",
    "setup_chain_sim()\n",
    "user = users_init()[2]\n",
    "initial_blocks = 10\n",
    "advance_blocks(initial_blocks)\n",
    "\n",
    "u1 = farm_contract.get_all_user_boosted_stats(user.address.bech32(), context.network_provider.proxy)\n",
    "c1 = farm_contract.get_all_stats(context.network_provider.proxy)\n",
    "\n",
    "tx_hash = claim_for_user(user)\n",
    "advance_blocks(5)\n",
    "sleep(2)\n",
    "claim_ops_1 = context.network_provider.get_tx_operations(tx_hash, True)\n",
    "tx_hash = claim_for_user(user)\n",
    "advance_blocks(1)\n",
    "sleep(2)\n",
    "claim_ops_2 = context.network_provider.get_tx_operations(tx_hash, True)\n",
    "\n",
    "u2 = farm_contract.get_all_user_boosted_stats(user.address.bech32(), context.network_provider.proxy)\n",
    "c2 = farm_contract.get_all_stats(context.network_provider.proxy)\n",
    "tk_attrs_1 = user_farm_token_stats(user)\n",
    "\n",
    "input(\"Restarting Chain Simulator. Continue...\")\n",
    "stop_chain_sim_stack(chain_sim)\n",
    "chain_sim = start_chain_sim_stack()\n",
    "\n",
    "setup_chain_sim()\n",
    "user = users_init()[2]\n",
    "advance_blocks(1)\n",
    "consumed_blocks = 1\n",
    "\n",
    "farm_upgrade()  # eats 2 blocks\n",
    "consumed_blocks += 2\n",
    "permissions_hub_contract = deploy_permissions_hub() # eats 1 block\n",
    "consumed_blocks += 1\n",
    "\n",
    "farm_contract.set_permissions_hub_address(context.deployer_account, context.network_provider.proxy, permissions_hub_contract.address)\n",
    "advance_blocks(1)\n",
    "consumed_blocks += 1\n",
    "\n",
    "dummy_proxy_contract = deploy_dummy_proxy_contract()  # eats 1 block\n",
    "consumed_blocks += 1\n",
    "\n",
    "\n",
    "permissions_hub_contract.add_to_whitelist(user, context.network_provider.proxy, [dummy_proxy_contract.address])\n",
    "advance_blocks(1)\n",
    "consumed_blocks += 1\n",
    "\n",
    "u3 = farm_contract.get_all_user_boosted_stats(user.address.bech32(), context.network_provider.proxy)\n",
    "u4 = farm_contract.get_all_user_boosted_stats(dummy_proxy_contract.address, context.network_provider.proxy)\n",
    "c3 = farm_contract.get_all_stats(context.network_provider.proxy)\n",
    "\n",
    "block_diff = initial_blocks - consumed_blocks\n",
    "advance_blocks(block_diff)\n",
    "\n",
    "user_tk_nonce, user_tk_balance = get_position_for_account(user.address.bech32())\n",
    "if user_tk_nonce:\n",
    "    token = ESDTToken(farm_contract.farmToken, user_tk_nonce, user_tk_balance)\n",
    "    tx_hash = dummy_proxy_contract.call_transfer_endpoint(user, context.network_provider.proxy, [[token], 0, farm_contract.address, \"claimRewardsOnBehalf\"])\n",
    "else:\n",
    "    user_tk_nonce, user_tk_balance = get_position_for_account(dummy_proxy_contract.address)\n",
    "    tx_hash = dummy_proxy_contract.call_internal_transfer_endpoint(user, context.network_provider.proxy, [0, farm_contract.farmToken, user_tk_nonce, user_tk_balance, farm_contract.address, \"claimRewardsOnBehalf\"])\n",
    "advance_blocks(5)\n",
    "sleep(2)\n",
    "claim_ops_3 = context.network_provider.get_tx_operations(tx_hash, True)\n",
    "\n",
    "user_tk_nonce, user_tk_balance = get_position_for_account(dummy_proxy_contract.address)\n",
    "tx_hash = dummy_proxy_contract.call_internal_transfer_endpoint(user, context.network_provider.proxy, [0, farm_contract.farmToken, user_tk_nonce, user_tk_balance, farm_contract.address, \"claimRewardsOnBehalf\"])\n",
    "advance_blocks(1)\n",
    "sleep(2)\n",
    "claim_ops_4 = context.network_provider.get_tx_operations(tx_hash)\n",
    "\n",
    "u5 = farm_contract.get_all_user_boosted_stats(user.address.bech32(), context.network_provider.proxy)\n",
    "u6 = farm_contract.get_all_user_boosted_stats(dummy_proxy_contract.address, context.network_provider.proxy)\n",
    "c4 = farm_contract.get_all_stats(context.network_provider.proxy)\n",
    "tk_attrs_2 = user_farm_token_stats(Account(address=dummy_proxy_contract.address))\n",
    "\n",
    "a, r, m, s = dict_compare(u1, u3)\n",
    "dict_compare(u2, u5)\n",
    "dict_compare(u4, u6)\n",
    "dict_compare(c1, c3)\n",
    "dict_compare(c2, c4)\n",
    "print(\"-------------------\")\n",
    "print(tk_attrs_1)\n",
    "print(tk_attrs_2)\n",
    "print(\"-------------------\")\n",
    "print(claim_ops_1)\n",
    "print(claim_ops_3)\n",
    "print(\"-------------------\")\n",
    "print(claim_ops_2)\n",
    "print(claim_ops_4)\n",
    "\n",
    "input(\"Closing Chain Simulator. Continue...\")\n",
    "\n",
    "stop_chain_sim_stack(chain_sim)"
   ]
  },
  {
   "cell_type": "markdown",
   "metadata": {},
   "source": [
    "Partial claim on behalf compare"
   ]
  },
  {
   "cell_type": "code",
   "execution_count": null,
   "metadata": {},
   "outputs": [],
   "source": [
    "from utils.utils_tx import multi_esdt_endpoint_call, ESDTToken\n",
    "\n",
    "chain_sim = start_chain_sim_stack()\n",
    "\n",
    "setup_chain_sim()\n",
    "user = users_init()[2]\n",
    "initial_blocks = 10\n",
    "advance_blocks(initial_blocks)\n",
    "\n",
    "u1 = farm_contract.get_all_user_boosted_stats(user.address.bech32(), context.network_provider.proxy)\n",
    "c1 = farm_contract.get_all_stats(context.network_provider.proxy)\n",
    "\n",
    "user.sync_nonce(context.network_provider.proxy)\n",
    "\n",
    "farm_tk_balance, farm_tk_nonce = 0, 0\n",
    "tokens_in_account = get_all_token_nonces_details_for_account(farm_contract.farmToken, user.address.bech32(), context.network_provider.proxy)\n",
    "print(f'Found {len(tokens_in_account)} positions of {farm_contract.farmToken} in account')\n",
    "for token in tokens_in_account:\n",
    "    if int(token['balance']) > farm_tk_balance:\n",
    "        farm_tk_balance = int(token['balance'])\n",
    "        farm_tk_nonce = token['nonce']\n",
    "        break\n",
    "\n",
    "if not farm_tk_nonce:\n",
    "    raise Exception(\"Not enough farm token balance\")\n",
    "\n",
    "# claim half of owned farm tokens\n",
    "first_claim_balance = farm_tk_balance // 2\n",
    "event = ClaimRewardsFarmEvent(first_claim_balance, farm_tk_nonce, '')\n",
    "tx_hash = farm_contract.claimRewards(context.network_provider, user, event)\n",
    "advance_blocks(1)\n",
    "sleep(2)\n",
    "claim_ops_1 = context.network_provider.get_tx_operations(tx_hash, True)\n",
    "\n",
    "# claim the rest of the farm tokens\n",
    "second_claim_balance = farm_tk_balance - first_claim_balance\n",
    "event = ClaimRewardsFarmEvent(second_claim_balance, farm_tk_nonce, '')\n",
    "tx_hash = farm_contract.claimRewards(context.network_provider, user, event)\n",
    "advance_blocks(4)\n",
    "sleep(2)\n",
    "claim_ops_2 = context.network_provider.get_tx_operations(tx_hash, True)\n",
    "\n",
    "# claim all tokens again - should lead to compounding and rewards given only for first position\n",
    "tokens_in_account = get_all_token_nonces_details_for_account(farm_contract.farmToken, user.address.bech32(), context.network_provider.proxy)\n",
    "print(f'Found {len(tokens_in_account)} positions of {farm_contract.farmToken} in account')\n",
    "token_payments = []\n",
    "for token in tokens_in_account:\n",
    "    token_payments.append(ESDTToken(farm_contract.farmToken, token['nonce'], int(token['balance'])))\n",
    "gas_limit = 50000000\n",
    "function = \"claimRewards\"\n",
    "sc_args = [\n",
    "    token_payments\n",
    "]\n",
    "tx_hash = multi_esdt_endpoint_call(function, context.network_provider.proxy, gas_limit, user,\n",
    "                                Address(farm_contract.address), function, sc_args)\n",
    "advance_blocks(1)\n",
    "sleep(2)\n",
    "claim_ops_3 = context.network_provider.get_tx_operations(tx_hash, True)\n",
    "\n",
    "u2 = farm_contract.get_all_user_boosted_stats(user.address.bech32(), context.network_provider.proxy)\n",
    "c2 = farm_contract.get_all_stats(context.network_provider.proxy)\n",
    "tk_attrs_1 = user_farm_token_stats(user)\n",
    "\n",
    "# claim final position\n",
    "tx_hash = claim_for_user(user)\n",
    "advance_blocks(1)\n",
    "sleep(2)\n",
    "claim_ops_bf = context.network_provider.get_tx_operations(tx_hash, True)\n",
    "\n",
    "input(\"Restarting Chain Simulator. Continue...\")\n",
    "stop_chain_sim_stack(chain_sim)\n",
    "chain_sim = start_chain_sim_stack()\n",
    "\n",
    "setup_chain_sim()\n",
    "user = users_init()[2]\n",
    "advance_blocks(1)\n",
    "consumed_blocks = 1\n",
    "\n",
    "farm_upgrade()  # eats 2 blocks\n",
    "consumed_blocks += 2\n",
    "permissions_hub_contract = deploy_permissions_hub() # eats 1 block\n",
    "consumed_blocks += 1\n",
    "\n",
    "farm_contract.set_permissions_hub_address(context.deployer_account, context.network_provider.proxy, permissions_hub_contract.address)\n",
    "advance_blocks(1)\n",
    "consumed_blocks += 1\n",
    "\n",
    "dummy_proxy_contract = deploy_dummy_proxy_contract()  # eats 1 block\n",
    "consumed_blocks += 1\n",
    "\n",
    "permissions_hub_contract.add_to_whitelist(user, context.network_provider.proxy, [dummy_proxy_contract.address])\n",
    "advance_blocks(1)\n",
    "consumed_blocks += 1\n",
    "\n",
    "u3 = farm_contract.get_all_user_boosted_stats(user.address.bech32(), context.network_provider.proxy)\n",
    "u4 = farm_contract.get_all_user_boosted_stats(dummy_proxy_contract.address, context.network_provider.proxy)\n",
    "c3 = farm_contract.get_all_stats(context.network_provider.proxy)\n",
    "\n",
    "block_diff = initial_blocks - consumed_blocks\n",
    "advance_blocks(block_diff)\n",
    "\n",
    "user_tk_nonce, user_tk_balance = get_position_for_account(user.address.bech32())\n",
    "\n",
    "# claim half of owned farm tokens\n",
    "first_claim_balance = user_tk_balance // 2\n",
    "token = ESDTToken(farm_contract.farmToken, user_tk_nonce, first_claim_balance)\n",
    "tx_hash = dummy_proxy_contract.call_transfer_endpoint(user, context.network_provider.proxy, [[token], 0, farm_contract.address, \"claimRewardsOnBehalf\"])\n",
    "advance_blocks(1)\n",
    "sleep(2)\n",
    "claim_ops_4 = context.network_provider.get_tx_operations(tx_hash, True)\n",
    "\n",
    "# claim the rest of the farm tokens\n",
    "second_claim_balance = user_tk_balance - first_claim_balance\n",
    "token = ESDTToken(farm_contract.farmToken, user_tk_nonce, second_claim_balance)\n",
    "tx_hash = dummy_proxy_contract.call_transfer_endpoint(user, context.network_provider.proxy, [[token], 0, farm_contract.address, \"claimRewardsOnBehalf\"])\n",
    "advance_blocks(1)\n",
    "sleep(2)\n",
    "claim_ops_5 = context.network_provider.get_tx_operations(tx_hash, True)\n",
    "\n",
    "# send one of the positions back to the user (limitation of the dummy proxy contract)\n",
    "contract_tk_nonce, contract_tk_balance = get_position_for_account(dummy_proxy_contract.address)\n",
    "tx_hash = dummy_proxy_contract.call_internal_transfer_endpoint(user, context.network_provider.proxy, [0, farm_contract.farmToken, contract_tk_nonce, contract_tk_balance, user.address, \"\"])\n",
    "advance_blocks(3)\n",
    "sleep(2)\n",
    "\n",
    "# claim all tokens again via hybrid transfer - should lead to compounding and rewards given only for first position\n",
    "user_tk_nonce, user_tk_balance = get_position_for_account(user.address.bech32())\n",
    "contract_tk_nonce, contract_tk_balance = get_position_for_account(dummy_proxy_contract.address)\n",
    "token = ESDTToken(farm_contract.farmToken, user_tk_nonce, user_tk_balance)\n",
    "tx_hash = dummy_proxy_contract.call_hybrid_transfer_endpoint(user, context.network_provider.proxy, [[token], 0, farm_contract.farmToken, contract_tk_nonce, contract_tk_balance, \n",
    "                                                                                                        farm_contract.address, \"claimRewardsOnBehalf\"])\n",
    "advance_blocks(1)\n",
    "sleep(2)\n",
    "claim_ops_6 = context.network_provider.get_tx_operations(tx_hash)\n",
    "\n",
    "u5 = farm_contract.get_all_user_boosted_stats(user.address.bech32(), context.network_provider.proxy)\n",
    "u6 = farm_contract.get_all_user_boosted_stats(dummy_proxy_contract.address, context.network_provider.proxy)\n",
    "c4 = farm_contract.get_all_stats(context.network_provider.proxy)\n",
    "tk_attrs_2 = user_farm_token_stats(Account(address=dummy_proxy_contract.address))\n",
    "\n",
    "# claim final position\n",
    "contract_tk_nonce, contract_tk_balance = get_position_for_account(dummy_proxy_contract.address)\n",
    "tx_hash = dummy_proxy_contract.call_internal_transfer_endpoint(user, context.network_provider.proxy, [0, farm_contract.farmToken, contract_tk_nonce, contract_tk_balance, farm_contract.address, \"claimRewardsOnBehalf\"])\n",
    "advance_blocks(1)\n",
    "sleep(2)\n",
    "claim_ops_af = context.network_provider.get_tx_operations(tx_hash)\n",
    "\n",
    "print(check_equal_dicts(u1, u3))\n",
    "print(check_equal_dicts(u2, u5))\n",
    "print(check_equal_dicts(u4, u6))\n",
    "print(check_equal_dicts(c1, c3))\n",
    "print(check_equal_dicts(c2, c4))\n",
    "print(\"-------------------\")\n",
    "print(tk_attrs_1)\n",
    "print(tk_attrs_2)\n",
    "print(\"-------------------\")\n",
    "print(claim_ops_1)\n",
    "print(claim_ops_4)\n",
    "print(\"-------------------\")\n",
    "print(claim_ops_2)\n",
    "print(claim_ops_5)\n",
    "print(\"-------------------\")\n",
    "print(claim_ops_3)\n",
    "print(claim_ops_6)\n",
    "print(\"-------------------\")\n",
    "print(claim_ops_bf)\n",
    "print(claim_ops_af)\n",
    "\n",
    "input(\"Closing Chain Simulator. Continue...\")\n",
    "\n",
    "stop_chain_sim_stack(chain_sim)"
   ]
  },
  {
   "cell_type": "markdown",
   "metadata": {},
   "source": [
    "Mixed claim on behalf"
   ]
  },
  {
   "cell_type": "code",
   "execution_count": null,
   "metadata": {},
   "outputs": [],
   "source": [
    "from utils.utils_tx import multi_esdt_endpoint_call, multi_esdt_transfer, ESDTToken\n",
    "\n",
    "chain_sim = start_chain_sim_stack()\n",
    "\n",
    "setup_chain_sim()\n",
    "user = users_init()[0]\n",
    "user2 = users_init()[1]\n",
    "initial_blocks = 10\n",
    "advance_blocks(initial_blocks)\n",
    "\n",
    "u1 = farm_contract.get_all_user_boosted_stats(user.address.bech32(), context.network_provider.proxy)\n",
    "u12 = farm_contract.get_all_user_boosted_stats(user2.address.bech32(), context.network_provider.proxy)\n",
    "c1 = farm_contract.get_all_stats(context.network_provider.proxy)\n",
    "\n",
    "user.sync_nonce(context.network_provider.proxy)\n",
    "user2.sync_nonce(context.network_provider.proxy)\n",
    "\n",
    "# send user2's position to user\n",
    "user_tk_nonce, user_tk_balance = get_position_for_account(user2.address.bech32())\n",
    "multi_esdt_transfer(context.network_provider.proxy, 10000000, user2, user.address, [ESDTToken(farm_contract.farmToken, user_tk_nonce, user_tk_balance)])\n",
    "advance_blocks(1)\n",
    "sleep(2)\n",
    "\n",
    "# claim all tokens - should lead to compounding and rewards given only for first position\n",
    "tokens_in_account = get_all_token_nonces_details_for_account(farm_contract.farmToken, user.address.bech32(), context.network_provider.proxy)\n",
    "print(f'Found {len(tokens_in_account)} positions of {farm_contract.farmToken} in account')\n",
    "token_payments = []\n",
    "for token in tokens_in_account:\n",
    "    token_payments.append(ESDTToken(farm_contract.farmToken, token['nonce'], int(token['balance'])))\n",
    "gas_limit = 50000000\n",
    "function = \"claimRewards\"\n",
    "sc_args = [\n",
    "    token_payments\n",
    "]\n",
    "# TODO: reverse the order of the payments\n",
    "tx_hash = multi_esdt_endpoint_call(function, context.network_provider.proxy, gas_limit, user,\n",
    "                                Address(farm_contract.address), function, sc_args)\n",
    "advance_blocks(1)\n",
    "sleep(2)\n",
    "claim_ops_3 = context.network_provider.get_tx_operations(tx_hash, True)\n",
    "\n",
    "u2 = farm_contract.get_all_user_boosted_stats(user.address.bech32(), context.network_provider.proxy)\n",
    "u22 = farm_contract.get_all_user_boosted_stats(user2.address.bech32(), context.network_provider.proxy)\n",
    "c2 = farm_contract.get_all_stats(context.network_provider.proxy)\n",
    "tk_attrs_1 = user_farm_token_stats(user)\n",
    "\n",
    "# claim final position\n",
    "tx_hash = claim_for_user(user)\n",
    "advance_blocks(1)\n",
    "sleep(2)\n",
    "claim_ops_bf = context.network_provider.get_tx_operations(tx_hash, True)\n",
    "\n",
    "input(\"Restarting Chain Simulator. Continue...\")\n",
    "stop_chain_sim_stack(chain_sim)\n",
    "chain_sim = start_chain_sim_stack()\n",
    "\n",
    "setup_chain_sim()\n",
    "user = users_init()[0]\n",
    "user2 = users_init()[1]\n",
    "advance_blocks(1)\n",
    "consumed_blocks = 1\n",
    "\n",
    "farm_upgrade()  # eats 2 blocks\n",
    "consumed_blocks += 2\n",
    "permissions_hub_contract = deploy_permissions_hub() # eats 1 block\n",
    "consumed_blocks += 1\n",
    "\n",
    "farm_contract.set_permissions_hub_address(context.deployer_account, context.network_provider.proxy, permissions_hub_contract.address)\n",
    "advance_blocks(1)\n",
    "consumed_blocks += 1\n",
    "\n",
    "dummy_proxy_contract = deploy_dummy_proxy_contract()  # eats 1 block\n",
    "consumed_blocks += 1\n",
    "\n",
    "permissions_hub_contract.add_to_whitelist(user, context.network_provider.proxy, [dummy_proxy_contract.address])\n",
    "advance_blocks(1)\n",
    "consumed_blocks += 1\n",
    "\n",
    "u3 = farm_contract.get_all_user_boosted_stats(user.address.bech32(), context.network_provider.proxy)\n",
    "u32 = farm_contract.get_all_user_boosted_stats(user2.address.bech32(), context.network_provider.proxy)\n",
    "u4 = farm_contract.get_all_user_boosted_stats(dummy_proxy_contract.address, context.network_provider.proxy)\n",
    "c3 = farm_contract.get_all_stats(context.network_provider.proxy)\n",
    "\n",
    "block_diff = initial_blocks - consumed_blocks\n",
    "advance_blocks(block_diff)\n",
    "\n",
    "# TODO: reverse the order of the payments - send user's position to dummy, send user2's position to user then hybrid transfer\n",
    "# send user2's position to user\n",
    "user_tk_nonce, user_tk_balance = get_position_for_account(user2.address.bech32())\n",
    "multi_esdt_transfer(context.network_provider.proxy, 10000000, user2, WrapperAddress(dummy_proxy_contract.address), [ESDTToken(farm_contract.farmToken, user_tk_nonce, user_tk_balance)])\n",
    "advance_blocks(1)\n",
    "sleep(2)\n",
    "\n",
    "# claim all tokens via hybrid transfer - should lead to compounding and rewards given only for first position\n",
    "user_tk_nonce, user_tk_balance = get_position_for_account(user.address.bech32())\n",
    "contract_tk_nonce, contract_tk_balance = get_position_for_account(dummy_proxy_contract.address)\n",
    "token = ESDTToken(farm_contract.farmToken, user_tk_nonce, user_tk_balance)\n",
    "tx_hash = dummy_proxy_contract.call_hybrid_transfer_endpoint(user, context.network_provider.proxy, [[token], 0, farm_contract.farmToken, contract_tk_nonce, contract_tk_balance, \n",
    "                                                                                                        farm_contract.address, \"claimRewardsOnBehalf\"])\n",
    "advance_blocks(1)\n",
    "sleep(2)\n",
    "claim_ops_6 = context.network_provider.get_tx_operations(tx_hash)\n",
    "\n",
    "u5 = farm_contract.get_all_user_boosted_stats(user.address.bech32(), context.network_provider.proxy)\n",
    "u52 = farm_contract.get_all_user_boosted_stats(user2.address.bech32(), context.network_provider.proxy)\n",
    "u6 = farm_contract.get_all_user_boosted_stats(dummy_proxy_contract.address, context.network_provider.proxy)\n",
    "c4 = farm_contract.get_all_stats(context.network_provider.proxy)\n",
    "tk_attrs_2 = user_farm_token_stats(Account(address=dummy_proxy_contract.address))\n",
    "\n",
    "# claim final position\n",
    "contract_tk_nonce, contract_tk_balance = get_position_for_account(dummy_proxy_contract.address)\n",
    "tx_hash = dummy_proxy_contract.call_internal_transfer_endpoint(user, context.network_provider.proxy, [0, farm_contract.farmToken, contract_tk_nonce, contract_tk_balance, farm_contract.address, \"claimRewardsOnBehalf\"])\n",
    "advance_blocks(1)\n",
    "sleep(2)\n",
    "claim_ops_af = context.network_provider.get_tx_operations(tx_hash)\n",
    "\n",
    "print(f'{u1=}\\n{u3=}\\n{check_equal_dicts(u1, u3)}')\n",
    "print(f'{u12=}\\n{u32=}\\n{check_equal_dicts(u12, u32)}')\n",
    "print(f'{u2=}\\n{u5=}\\n{check_equal_dicts(u2, u5)}')\n",
    "print(f'{u22=}\\n{u52=}\\n{check_equal_dicts(u22, u52)}')\n",
    "print(f'{u4=}\\n{u6=}\\n{check_equal_dicts(u4, u6)}')\n",
    "print(f'{c1=}\\n{c3=}\\n{check_equal_dicts(c1, c3)}')\n",
    "print(f'{c2=}\\n{c4=}\\n{check_equal_dicts(c2, c4)}')\n",
    "print(\"-------------------\")\n",
    "print(f'{tk_attrs_1=}')\n",
    "print(f'{tk_attrs_2=}')\n",
    "print(\"-------------------\")\n",
    "print(f'{claim_ops_3=}')\n",
    "print(f'{claim_ops_6=}')\n",
    "print(\"-------------------\")\n",
    "print(f'{claim_ops_bf=}')\n",
    "print(f'{claim_ops_af=}')\n",
    "\n",
    "input(\"Closing Chain Simulator. Continue...\")\n",
    "\n",
    "stop_chain_sim_stack(chain_sim)"
   ]
  },
  {
   "cell_type": "code",
   "execution_count": null,
   "metadata": {},
   "outputs": [],
   "source": [
    "user = users_init()[0]\n",
    "dummy_proxy_contract = DummyProxyContract.load_contract_by_address(\"erd1qqqqqqqqqqqqqpgqrul7un3rkhfktwaa7e2hhvfs6d4kum602jpsw2pwtq\")\n",
    "\n",
    "user_tk_nonce, user_tk_balance = get_position_for_account(user.address.bech32())\n",
    "if user_tk_nonce:\n",
    "    token = ESDTToken(farm_contract.farmToken, user_tk_nonce, user_tk_balance)\n",
    "    tx_hash = dummy_proxy_contract.call_transfer_endpoint(user, context.network_provider.proxy, [[token], 0, farm_contract.address, \"claimRewardsOnBehalf\"])\n",
    "else:\n",
    "    user_tk_nonce, user_tk_balance = get_position_for_account(dummy_proxy_contract.address)\n",
    "    tx_hash = dummy_proxy_contract.call_internal_transfer_endpoint(user, context.network_provider.proxy, [0, farm_contract.farmToken, user_tk_nonce, user_tk_balance, farm_contract.address, \"claimRewardsOnBehalf\"])\n",
    "advance_blocks(5)\n",
    "sleep(2)\n",
    "claim_ops_3 = context.network_provider.get_tx_operations(tx_hash, True)\n",
    "\n",
    "user_tk_nonce, user_tk_balance = get_position_for_account(dummy_proxy_contract.address)\n",
    "tx_hash = dummy_proxy_contract.call_internal_transfer_endpoint(user, context.network_provider.proxy, [0, farm_contract.farmToken, user_tk_nonce, user_tk_balance, farm_contract.address, \"claimRewardsOnBehalf\"])\n",
    "advance_blocks(1)\n",
    "sleep(2)\n",
    "claim_ops_4 = context.network_provider.get_tx_operations(tx_hash)"
   ]
  },
  {
   "cell_type": "markdown",
   "metadata": {},
   "source": [
    "Enter farm compare"
   ]
  },
  {
   "cell_type": "code",
   "execution_count": null,
   "metadata": {},
   "outputs": [],
   "source": [
    "chain_sim = start_chain_sim_stack()\n",
    "\n",
    "setup_chain_sim()\n",
    "user = users_init()[0]\n",
    "advance_blocks(3)\n",
    "\n",
    "u1 = farm_contract.get_all_user_boosted_stats(user.address.bech32(), context.network_provider.proxy)\n",
    "c1 = farm_contract.get_all_stats(context.network_provider.proxy)\n",
    "\n",
    "tx_hash = enter_farm_for_user(user)\n",
    "advance_blocks(5)\n",
    "sleep(2)\n",
    "claim_ops_1 = context.network_provider.get_tx_operations(tx_hash, True)\n",
    "\n",
    "u2 = farm_contract.get_all_user_boosted_stats(user.address.bech32(), context.network_provider.proxy)\n",
    "c2 = farm_contract.get_all_stats(context.network_provider.proxy)\n",
    "tk_attrs_1 = user_farm_token_stats(user)\n",
    "\n",
    "input(\"Restart Chain Simulator then press Enter to continue...\")\n",
    "stop_chain_sim_stack(chain_sim)\n",
    "chain_sim = start_chain_sim_stack()\n",
    "\n",
    "setup_chain_sim()\n",
    "user = users_init()[0]\n",
    "advance_blocks(1)\n",
    "\n",
    "farm_upgrade()  # eats 2 blocks\n",
    "\n",
    "u3 = farm_contract.get_all_user_boosted_stats(user.address.bech32(), context.network_provider.proxy)\n",
    "c3 = farm_contract.get_all_stats(context.network_provider.proxy)\n",
    "\n",
    "tx_hash = enter_farm_for_user(user)\n",
    "advance_blocks(5)\n",
    "sleep(2)\n",
    "claim_ops_3 = context.network_provider.get_tx_operations(tx_hash, True)\n",
    "\n",
    "u4 = farm_contract.get_all_user_boosted_stats(user.address.bech32(), context.network_provider.proxy)\n",
    "c4 = farm_contract.get_all_stats(context.network_provider.proxy)\n",
    "tk_attrs_2 = user_farm_token_stats(user)\n",
    "\n",
    "a, r, m, s = dict_compare(u1, u3)\n",
    "dict_compare(u2, u4)\n",
    "dict_compare(c1, c3)\n",
    "dict_compare(c2, c4)\n",
    "print(\"-------------------\")\n",
    "print(tk_attrs_1)\n",
    "print(tk_attrs_2)\n",
    "print(\"-------------------\")\n",
    "print(claim_ops_1)\n",
    "print(claim_ops_3)\n",
    "print(\"-------------------\")\n",
    "\n",
    "input(\"Closing Chain Simulator; press Enter to continue...\")\n",
    "stop_chain_sim_stack(chain_sim)"
   ]
  },
  {
   "cell_type": "markdown",
   "metadata": {},
   "source": [
    "Enter farm no consolidation compare"
   ]
  },
  {
   "cell_type": "code",
   "execution_count": null,
   "metadata": {},
   "outputs": [],
   "source": [
    "chain_sim = start_chain_sim_stack()\n",
    "\n",
    "setup_chain_sim()\n",
    "user = users_init()[0]\n",
    "advance_blocks(3)\n",
    "\n",
    "u1 = farm_contract.get_all_user_boosted_stats(user.address.bech32(), context.network_provider.proxy)\n",
    "c1 = farm_contract.get_all_stats(context.network_provider.proxy)\n",
    "\n",
    "tx_hash = enter_farm_no_consolidation_for_user(user)\n",
    "advance_blocks(5)\n",
    "sleep(2)\n",
    "claim_ops_1 = context.network_provider.get_tx_operations(tx_hash, True)\n",
    "\n",
    "u2 = farm_contract.get_all_user_boosted_stats(user.address.bech32(), context.network_provider.proxy)\n",
    "c2 = farm_contract.get_all_stats(context.network_provider.proxy)\n",
    "tk_attrs_1 = user_farm_token_stats(user)\n",
    "\n",
    "input(\"Restart Chain Simulator then press Enter to continue...\")\n",
    "stop_chain_sim_stack(chain_sim)\n",
    "chain_sim = start_chain_sim_stack()\n",
    "\n",
    "setup_chain_sim()\n",
    "user = users_init()[0]\n",
    "advance_blocks(1)\n",
    "\n",
    "farm_upgrade()  # eats 2 blocks\n",
    "\n",
    "u3 = farm_contract.get_all_user_boosted_stats(user.address.bech32(), context.network_provider.proxy)\n",
    "c3 = farm_contract.get_all_stats(context.network_provider.proxy)\n",
    "\n",
    "tx_hash = enter_farm_no_consolidation_for_user(user)\n",
    "advance_blocks(5)\n",
    "sleep(2)\n",
    "claim_ops_3 = context.network_provider.get_tx_operations(tx_hash, True)\n",
    "\n",
    "u4 = farm_contract.get_all_user_boosted_stats(user.address.bech32(), context.network_provider.proxy)\n",
    "c4 = farm_contract.get_all_stats(context.network_provider.proxy)\n",
    "tk_attrs_2 = user_farm_token_stats(user)\n",
    "\n",
    "a, r, m, s = dict_compare(u1, u3)\n",
    "dict_compare(u2, u4)\n",
    "dict_compare(c1, c3)\n",
    "dict_compare(c2, c4)\n",
    "print(\"-------------------\")\n",
    "print(tk_attrs_1)\n",
    "print(tk_attrs_2)\n",
    "print(\"-------------------\")\n",
    "print(claim_ops_1)\n",
    "print(claim_ops_3)\n",
    "print(\"-------------------\")\n",
    "\n",
    "input(\"Closing Chain Simulator; press Enter to continue...\")\n",
    "stop_chain_sim_stack(chain_sim)"
   ]
  },
  {
   "cell_type": "code",
   "execution_count": null,
   "metadata": {},
   "outputs": [],
   "source": [
    "setup_chain_sim()"
   ]
  },
  {
   "cell_type": "markdown",
   "metadata": {},
   "source": [
    "Enter farm on behalf compare"
   ]
  },
  {
   "cell_type": "code",
   "execution_count": null,
   "metadata": {},
   "outputs": [],
   "source": [
    "chain_sim = start_chain_sim_stack()\n",
    "\n",
    "setup_chain_sim()\n",
    "user = users_init()[0]\n",
    "initial_blocks = 10\n",
    "advance_blocks(initial_blocks)\n",
    "\n",
    "u1 = farm_contract.get_all_user_boosted_stats(user.address.bech32(), context.network_provider.proxy)\n",
    "c1 = farm_contract.get_all_stats(context.network_provider.proxy)\n",
    "\n",
    "tx_hash = enter_farm_for_user(user)\n",
    "advance_blocks(5)\n",
    "sleep(2)\n",
    "claim_ops_1 = context.network_provider.get_tx_operations(tx_hash, True)\n",
    "tx_hash = claim_for_user(user)\n",
    "advance_blocks(1)\n",
    "sleep(2)\n",
    "claim_ops_2 = context.network_provider.get_tx_operations(tx_hash, True)\n",
    "\n",
    "u2 = farm_contract.get_all_user_boosted_stats(user.address.bech32(), context.network_provider.proxy)\n",
    "c2 = farm_contract.get_all_stats(context.network_provider.proxy)\n",
    "tk_attrs_1 = user_farm_token_stats(user)\n",
    "\n",
    "input(\"Restarting Chain Simulator. Continue...\")\n",
    "stop_chain_sim_stack(chain_sim)\n",
    "chain_sim = start_chain_sim_stack()\n",
    "\n",
    "setup_chain_sim()\n",
    "user = users_init()[0]\n",
    "advance_blocks(1)\n",
    "consumed_blocks = 1\n",
    "\n",
    "farm_upgrade()  # eats 2 blocks\n",
    "consumed_blocks += 2\n",
    "permissions_hub_contract = deploy_permissions_hub() # eats 1 block\n",
    "consumed_blocks += 1\n",
    "\n",
    "farm_contract.set_permissions_hub_address(context.deployer_account, context.network_provider.proxy, permissions_hub_contract.address)\n",
    "advance_blocks(1)\n",
    "consumed_blocks += 1\n",
    "\n",
    "dummy_proxy_contract = deploy_dummy_proxy_contract()  # eats 1 block\n",
    "consumed_blocks += 1\n",
    "\n",
    "\n",
    "permissions_hub_contract.add_to_whitelist(user, context.network_provider.proxy, [dummy_proxy_contract.address])\n",
    "advance_blocks(1)\n",
    "consumed_blocks += 1\n",
    "\n",
    "u3 = farm_contract.get_all_user_boosted_stats(user.address.bech32(), context.network_provider.proxy)\n",
    "u4 = farm_contract.get_all_user_boosted_stats(dummy_proxy_contract.address, context.network_provider.proxy)\n",
    "c3 = farm_contract.get_all_stats(context.network_provider.proxy)\n",
    "\n",
    "block_diff = initial_blocks - consumed_blocks\n",
    "advance_blocks(block_diff)\n",
    "\n",
    "user_tk_nonce, user_tk_balance = get_position_for_account(user.address.bech32())\n",
    "farming_tk_balance = get_farming_token_balance_for_account(user.address.bech32())\n",
    "if user_tk_nonce and farming_tk_balance:\n",
    "    tokens = [ESDTToken(farm_contract.farmingToken, 0, farming_tk_balance),\n",
    "              ESDTToken(farm_contract.farmToken, user_tk_nonce, user_tk_balance)]\n",
    "\n",
    "    tx_hash = dummy_proxy_contract.call_transfer_endpoint(user, context.network_provider.proxy, [tokens, 0, farm_contract.address, \"enterFarmOnBehalf\", user.address.bech32()])\n",
    "else:\n",
    "    # the farm token is owned by the caller and the farming token is on user\n",
    "    user_tk_nonce, user_tk_balance = get_position_for_account(dummy_proxy_contract.address)\n",
    "    token = ESDTToken(farm_contract.farmingToken, 0, farming_tk_balance)\n",
    "    tx_hash = dummy_proxy_contract.call_hybrid_transfer_endpoint(user, context.network_provider.proxy, [[token], 0, farm_contract.farmToken, user_tk_nonce, user_tk_balance, \n",
    "                                                                                                        farm_contract.address, \"enterFarmOnBehalf\", user.address.bech32()])\n",
    "advance_blocks(5)\n",
    "sleep(2)\n",
    "claim_ops_3 = context.network_provider.get_tx_operations(tx_hash, True)\n",
    "\n",
    "user_tk_nonce, user_tk_balance = get_position_for_account(dummy_proxy_contract.address)\n",
    "tx_hash = dummy_proxy_contract.call_internal_transfer_endpoint(user, context.network_provider.proxy, [0, farm_contract.farmToken, user_tk_nonce, user_tk_balance, farm_contract.address, \"claimRewardsOnBehalf\"])\n",
    "advance_blocks(1)\n",
    "sleep(2)\n",
    "claim_ops_4 = context.network_provider.get_tx_operations(tx_hash)\n",
    "\n",
    "u5 = farm_contract.get_all_user_boosted_stats(user.address.bech32(), context.network_provider.proxy)\n",
    "u6 = farm_contract.get_all_user_boosted_stats(dummy_proxy_contract.address, context.network_provider.proxy)\n",
    "c4 = farm_contract.get_all_stats(context.network_provider.proxy)\n",
    "tk_attrs_2 = user_farm_token_stats(Account(address=dummy_proxy_contract.address))\n",
    "\n",
    "a, r, m, s = dict_compare(u1, u3)\n",
    "dict_compare(u2, u5)\n",
    "dict_compare(u4, u6)\n",
    "dict_compare(c1, c3)\n",
    "dict_compare(c2, c4)\n",
    "print(\"-------------------\")\n",
    "print(tk_attrs_1)\n",
    "print(tk_attrs_2)\n",
    "print(\"-------------------\")\n",
    "print(claim_ops_1)\n",
    "print(claim_ops_3)\n",
    "print(\"-------------------\")\n",
    "print(claim_ops_2)\n",
    "print(claim_ops_4)\n",
    "\n",
    "input(\"Closing Chain Simulator; press Enter to continue...\")\n",
    "stop_chain_sim_stack(chain_sim)"
   ]
  },
  {
   "cell_type": "markdown",
   "metadata": {},
   "source": [
    "Enter on behalf without compounding"
   ]
  },
  {
   "cell_type": "code",
   "execution_count": null,
   "metadata": {},
   "outputs": [],
   "source": [
    "chain_sim = start_chain_sim_stack()\n",
    "\n",
    "setup_chain_sim()\n",
    "user = users_init()[0]\n",
    "initial_blocks = 10\n",
    "advance_blocks(initial_blocks)\n",
    "\n",
    "u1 = farm_contract.get_all_user_boosted_stats(user.address.bech32(), context.network_provider.proxy)\n",
    "c1 = farm_contract.get_all_stats(context.network_provider.proxy)\n",
    "\n",
    "tx_hash = enter_farm_no_consolidation_for_user(user)\n",
    "advance_blocks(5)\n",
    "sleep(2)\n",
    "claim_ops_1 = context.network_provider.get_tx_operations(tx_hash, True)\n",
    "tx_hash = claim_for_user(user)\n",
    "advance_blocks(1)\n",
    "sleep(2)\n",
    "claim_ops_2 = context.network_provider.get_tx_operations(tx_hash, True)\n",
    "\n",
    "u2 = farm_contract.get_all_user_boosted_stats(user.address.bech32(), context.network_provider.proxy)\n",
    "c2 = farm_contract.get_all_stats(context.network_provider.proxy)\n",
    "tk_attrs_1 = user_farm_token_stats(user)\n",
    "\n",
    "input(\"Restarting Chain Simulator. Continue...\")\n",
    "stop_chain_sim_stack(chain_sim)\n",
    "chain_sim = start_chain_sim_stack()\n",
    "\n",
    "setup_chain_sim()\n",
    "user = users_init()[0]\n",
    "advance_blocks(1)\n",
    "consumed_blocks = 1\n",
    "\n",
    "farm_upgrade()  # eats 2 blocks\n",
    "consumed_blocks += 2\n",
    "permissions_hub_contract = deploy_permissions_hub() # eats 1 block\n",
    "consumed_blocks += 1\n",
    "\n",
    "farm_contract.set_permissions_hub_address(context.deployer_account, context.network_provider.proxy, permissions_hub_contract.address)\n",
    "advance_blocks(1)\n",
    "consumed_blocks += 1\n",
    "\n",
    "dummy_proxy_contract = deploy_dummy_proxy_contract()  # eats 1 block\n",
    "consumed_blocks += 1\n",
    "\n",
    "\n",
    "permissions_hub_contract.add_to_whitelist(user, context.network_provider.proxy, [dummy_proxy_contract.address])\n",
    "advance_blocks(1)\n",
    "consumed_blocks += 1\n",
    "\n",
    "u3 = farm_contract.get_all_user_boosted_stats(user.address.bech32(), context.network_provider.proxy)\n",
    "u4 = farm_contract.get_all_user_boosted_stats(dummy_proxy_contract.address, context.network_provider.proxy)\n",
    "c3 = farm_contract.get_all_stats(context.network_provider.proxy)\n",
    "\n",
    "block_diff = initial_blocks - consumed_blocks\n",
    "advance_blocks(block_diff)\n",
    "\n",
    "farming_tk_balance = get_farming_token_balance_for_account(user.address.bech32())\n",
    "if farming_tk_balance:\n",
    "    tokens = [ESDTToken(farm_contract.farmingToken, 0, farming_tk_balance)]\n",
    "    tx_hash = dummy_proxy_contract.call_transfer_endpoint(user, context.network_provider.proxy, [tokens, 0, farm_contract.address, \"enterFarmOnBehalf\", user.address.bech32()])\n",
    "\n",
    "advance_blocks(5)\n",
    "sleep(2)\n",
    "claim_ops_3 = context.network_provider.get_tx_operations(tx_hash, True)\n",
    "\n",
    "user_tk_nonce, user_tk_balance = get_position_for_account(dummy_proxy_contract.address)\n",
    "tx_hash = dummy_proxy_contract.call_internal_transfer_endpoint(user, context.network_provider.proxy, [0, farm_contract.farmToken, user_tk_nonce, user_tk_balance, farm_contract.address, \"claimRewardsOnBehalf\"])\n",
    "advance_blocks(1)\n",
    "sleep(2)\n",
    "claim_ops_4 = context.network_provider.get_tx_operations(tx_hash)\n",
    "\n",
    "u5 = farm_contract.get_all_user_boosted_stats(user.address.bech32(), context.network_provider.proxy)\n",
    "u6 = farm_contract.get_all_user_boosted_stats(dummy_proxy_contract.address, context.network_provider.proxy)\n",
    "c4 = farm_contract.get_all_stats(context.network_provider.proxy)\n",
    "tk_attrs_2 = user_farm_token_stats(Account(address=dummy_proxy_contract.address))\n",
    "\n",
    "a, r, m, s = dict_compare(u1, u3)\n",
    "dict_compare(u2, u5)\n",
    "dict_compare(u4, u6)\n",
    "dict_compare(c1, c3)\n",
    "dict_compare(c2, c4)\n",
    "print(\"-------------------\")\n",
    "print(tk_attrs_1)\n",
    "print(tk_attrs_2)\n",
    "print(\"-------------------\")\n",
    "print(claim_ops_1)\n",
    "print(claim_ops_3)\n",
    "print(\"-------------------\")\n",
    "print(claim_ops_2)\n",
    "print(claim_ops_4)\n",
    "\n",
    "input(\"Closing Chain Simulator; press Enter to continue...\")\n",
    "stop_chain_sim_stack(chain_sim)"
   ]
  },
  {
   "cell_type": "markdown",
   "metadata": {},
   "source": [
    "Enter farm on behalf mixed"
   ]
  },
  {
   "cell_type": "code",
   "execution_count": null,
   "metadata": {},
   "outputs": [],
   "source": [
    "chain_sim = start_chain_sim_stack()\n",
    "\n",
    "setup_chain_sim()\n",
    "user = users_init()[0]\n",
    "user2 = users_init()[1]\n",
    "initial_blocks = 10\n",
    "advance_blocks(initial_blocks)\n",
    "\n",
    "u1 = farm_contract.get_all_user_boosted_stats(user.address.bech32(), context.network_provider.proxy)\n",
    "u12 = farm_contract.get_all_user_boosted_stats(user2.address.bech32(), context.network_provider.proxy)\n",
    "c1 = farm_contract.get_all_stats(context.network_provider.proxy)\n",
    "\n",
    "# send user's position away\n",
    "user_tk_nonce, user_tk_balance = get_position_for_account(user.address.bech32())\n",
    "multi_esdt_transfer(context.network_provider.proxy, 10000000, user, WrapperAddress(config.ZERO_CONTRACT_ADDRESS), [ESDTToken(farm_contract.farmToken, user_tk_nonce, user_tk_balance)])\n",
    "\n",
    "# send user2's position to user and use this position to enter farm\n",
    "user_tk_nonce, user_tk_balance = get_position_for_account(user2.address.bech32())\n",
    "multi_esdt_transfer(context.network_provider.proxy, 10000000, user2, user.address, [ESDTToken(farm_contract.farmToken, user_tk_nonce, user_tk_balance)])\n",
    "advance_blocks(1)\n",
    "sleep(2)\n",
    "\n",
    "tx_hash = enter_farm_for_user(user)\n",
    "advance_blocks(5)\n",
    "sleep(2)\n",
    "claim_ops_1 = context.network_provider.get_tx_operations(tx_hash, True)\n",
    "tx_hash = claim_for_user(user)\n",
    "advance_blocks(1)\n",
    "sleep(2)\n",
    "claim_ops_2 = context.network_provider.get_tx_operations(tx_hash, True)\n",
    "\n",
    "u2 = farm_contract.get_all_user_boosted_stats(user.address.bech32(), context.network_provider.proxy)\n",
    "c2 = farm_contract.get_all_stats(context.network_provider.proxy)\n",
    "tk_attrs_1 = user_farm_token_stats(user)\n",
    "\n",
    "input(\"Restarting Chain Simulator. Continue...\")\n",
    "stop_chain_sim_stack(chain_sim)\n",
    "chain_sim = start_chain_sim_stack()\n",
    "\n",
    "setup_chain_sim()\n",
    "user = users_init()[0]\n",
    "user2 = users_init()[1]\n",
    "advance_blocks(1)\n",
    "consumed_blocks = 1\n",
    "\n",
    "farm_upgrade()  # eats 2 blocks\n",
    "consumed_blocks += 2\n",
    "permissions_hub_contract = deploy_permissions_hub() # eats 1 block\n",
    "consumed_blocks += 1\n",
    "\n",
    "farm_contract.set_permissions_hub_address(context.deployer_account, context.network_provider.proxy, permissions_hub_contract.address)\n",
    "advance_blocks(1)\n",
    "consumed_blocks += 1\n",
    "\n",
    "dummy_proxy_contract = deploy_dummy_proxy_contract()  # eats 1 block\n",
    "consumed_blocks += 1\n",
    "\n",
    "\n",
    "permissions_hub_contract.add_to_whitelist(user, context.network_provider.proxy, [dummy_proxy_contract.address])\n",
    "advance_blocks(1)\n",
    "consumed_blocks += 1\n",
    "\n",
    "u3 = farm_contract.get_all_user_boosted_stats(user.address.bech32(), context.network_provider.proxy)\n",
    "u32 = farm_contract.get_all_user_boosted_stats(user2.address.bech32(), context.network_provider.proxy)\n",
    "u4 = farm_contract.get_all_user_boosted_stats(dummy_proxy_contract.address, context.network_provider.proxy)\n",
    "c3 = farm_contract.get_all_stats(context.network_provider.proxy)\n",
    "\n",
    "block_diff = initial_blocks - consumed_blocks\n",
    "advance_blocks(block_diff)\n",
    "\n",
    "# send user2's position to dummy proxy\n",
    "user_tk_nonce, user_tk_balance = get_position_for_account(user2.address.bech32())\n",
    "multi_esdt_transfer(context.network_provider.proxy, 10000000, user2, WrapperAddress(dummy_proxy_contract.address), [ESDTToken(farm_contract.farmToken, user_tk_nonce, user_tk_balance)])\n",
    "advance_blocks(1)\n",
    "sleep(2)\n",
    "\n",
    "# enter farm on behalf with user's farming position but proxy's farm token\n",
    "farming_tk_balance = get_farming_token_balance_for_account(user.address.bech32())\n",
    "# the farm token is owned by the caller and the farming token is on user\n",
    "proxy_tk_nonce, proxy_tk_balance = get_position_for_account(dummy_proxy_contract.address)\n",
    "token = ESDTToken(farm_contract.farmingToken, 0, farming_tk_balance)\n",
    "tx_hash = dummy_proxy_contract.call_hybrid_transfer_endpoint(user, context.network_provider.proxy, [[token], 0, farm_contract.farmToken, proxy_tk_nonce, proxy_tk_balance, \n",
    "                                                                                                        farm_contract.address, \"enterFarmOnBehalf\", user.address.bech32()])\n",
    "advance_blocks(5)\n",
    "sleep(2)\n",
    "claim_ops_3 = context.network_provider.get_tx_operations(tx_hash, True)\n",
    "\n",
    "user_tk_nonce, user_tk_balance = get_position_for_account(dummy_proxy_contract.address)\n",
    "tx_hash = dummy_proxy_contract.call_internal_transfer_endpoint(user, context.network_provider.proxy, [0, farm_contract.farmToken, user_tk_nonce, user_tk_balance, farm_contract.address, \"claimRewardsOnBehalf\"])\n",
    "advance_blocks(1)\n",
    "sleep(2)\n",
    "claim_ops_4 = context.network_provider.get_tx_operations(tx_hash)\n",
    "\n",
    "u5 = farm_contract.get_all_user_boosted_stats(user.address.bech32(), context.network_provider.proxy)\n",
    "u6 = farm_contract.get_all_user_boosted_stats(dummy_proxy_contract.address, context.network_provider.proxy)\n",
    "c4 = farm_contract.get_all_stats(context.network_provider.proxy)\n",
    "tk_attrs_2 = user_farm_token_stats(Account(address=dummy_proxy_contract.address))\n",
    "\n",
    "a, r, m, s = dict_compare(u1, u3)\n",
    "dict_compare(u2, u5)\n",
    "dict_compare(u4, u6)\n",
    "dict_compare(c1, c3)\n",
    "dict_compare(c2, c4)\n",
    "print(\"-------------------\")\n",
    "print(tk_attrs_1)\n",
    "print(tk_attrs_2)\n",
    "print(\"-------------------\")\n",
    "print(claim_ops_1)\n",
    "print(claim_ops_3)\n",
    "print(\"-------------------\")\n",
    "print(claim_ops_2)\n",
    "print(claim_ops_4)\n",
    "\n",
    "input(\"Closing Chain Simulator; press Enter to continue...\")\n",
    "stop_chain_sim_stack(chain_sim)"
   ]
  },
  {
   "cell_type": "markdown",
   "metadata": {},
   "source": [
    "Freestyle"
   ]
  },
  {
   "cell_type": "code",
   "execution_count": null,
   "metadata": {},
   "outputs": [],
   "source": [
    "user = users_init()[0]\n",
    "advance_blocks(3)\n",
    "\n",
    "u1 = farm_contract.get_all_user_boosted_stats(user.address.bech32(), context.network_provider.proxy)\n",
    "c1 = farm_contract.get_all_stats(context.network_provider.proxy)\n",
    "\n",
    "tx_hash = enter_farm_for_user(user)\n",
    "advance_blocks(5)\n",
    "sleep(2)\n",
    "claim_ops_1 = context.network_provider.get_tx_operations(tx_hash, True)\n",
    "\n",
    "u2 = farm_contract.get_all_user_boosted_stats(user.address.bech32(), context.network_provider.proxy)\n",
    "c2 = farm_contract.get_all_stats(context.network_provider.proxy)\n",
    "tk_attrs_1 = user_farm_token_stats(user)"
   ]
  },
  {
   "cell_type": "code",
   "execution_count": null,
   "metadata": {},
   "outputs": [],
   "source": [
    "farm_upgrade()  # eats 2 blocks\n",
    "\n",
    "permissions_hub_contract = deploy_permissions_hub() # eats 1 block\n",
    "\n",
    "farm_contract.set_permissions_hub_address(context.deployer_account, context.network_provider.proxy, permissions_hub_contract.address)\n",
    "advance_blocks(1)\n",
    "\n",
    "dummy_proxy_contract = deploy_dummy_proxy_contract()  # eats 1 block\n",
    "\n",
    "permissions_hub_contract.add_to_whitelist(user, context.network_provider.proxy, [dummy_proxy_contract.address])\n",
    "advance_blocks(1)\n",
    "\n",
    "u3 = farm_contract.get_all_user_boosted_stats(user.address.bech32(), context.network_provider.proxy)\n",
    "u4 = farm_contract.get_all_user_boosted_stats(dummy_proxy_contract.address, context.network_provider.proxy)\n",
    "c3 = farm_contract.get_all_stats(context.network_provider.proxy)"
   ]
  },
  {
   "cell_type": "code",
   "execution_count": null,
   "metadata": {},
   "outputs": [],
   "source": [
    "permissions_hub_contract.add_to_blacklist(context.deployer_account, context.network_provider.proxy, [dummy_proxy_contract.address])\n",
    "advance_blocks(1)"
   ]
  },
  {
   "cell_type": "code",
   "execution_count": null,
   "metadata": {},
   "outputs": [],
   "source": [
    "permissions_hub_contract.remove_from_blacklist(context.deployer_account, context.network_provider.proxy, [dummy_proxy_contract.address])\n",
    "advance_blocks(1)\n"
   ]
  },
  {
   "cell_type": "code",
   "execution_count": null,
   "metadata": {},
   "outputs": [],
   "source": [
    "user_tk_nonce, user_tk_balance = get_position_for_account(user.address.bech32())\n",
    "if user_tk_nonce:\n",
    "    token = ESDTToken(farm_contract.farmToken, user_tk_nonce, user_tk_balance)\n",
    "    tx_hash = dummy_proxy_contract.call_transfer_endpoint(user, context.network_provider.proxy, [[token], 0, farm_contract.address, \"claimRewardsOnBehalf\"])\n",
    "else:\n",
    "    user_tk_nonce, user_tk_balance = get_position_for_account(dummy_proxy_contract.address)\n",
    "    tx_hash = dummy_proxy_contract.call_internal_transfer_endpoint(user, context.network_provider.proxy, [0, farm_contract.farmToken, user_tk_nonce, user_tk_balance, farm_contract.address, \"claimRewardsOnBehalf\"])\n",
    "\n",
    "advance_blocks(1)"
   ]
  },
  {
   "cell_type": "code",
   "execution_count": null,
   "metadata": {},
   "outputs": [],
   "source": [
    "user_tk_nonce, user_tk_balance = get_position_for_account(user.address.bech32())\n",
    "farming_tk_balance = get_farming_token_balance_for_account(user.address.bech32())\n",
    "if user_tk_nonce and farming_tk_balance:\n",
    "    tokens = [ESDTToken(farm_contract.farmingToken, 0, farming_tk_balance),\n",
    "              ESDTToken(farm_contract.farmToken, user_tk_nonce, user_tk_balance)]\n",
    "\n",
    "    tx_hash = dummy_proxy_contract.call_transfer_endpoint(user, context.network_provider.proxy, [tokens, 0, farm_contract.address, \"enterFarmOnBehalf\", user.address.bech32()])\n",
    "else:\n",
    "    # the farm token is owned by the caller and the farming token is on user\n",
    "    user_tk_nonce, user_tk_balance = get_position_for_account(dummy_proxy_contract.address)\n",
    "    token = ESDTToken(farm_contract.farmingToken, 0, farming_tk_balance)\n",
    "    tx_hash = dummy_proxy_contract.call_hybrid_transfer_endpoint(user, context.network_provider.proxy, [[token], 0, farm_contract.farmToken, user_tk_nonce, user_tk_balance, \n",
    "                                                                                                        farm_contract.address, \"enterFarmOnBehalf\", user.address.bech32()])\n",
    "\n",
    "advance_blocks(1)"
   ]
  },
  {
   "cell_type": "code",
   "execution_count": null,
   "metadata": {},
   "outputs": [],
   "source": [
    "farming_tk_balance = get_farming_token_balance_for_account(user.address.bech32())\n",
    "tx_hash = dummy_proxy_contract.call_transfer_endpoint(user, context.network_provider.proxy, [[ESDTToken(farm_contract.farmingToken, 0, farming_tk_balance)], 0, farm_contract.address, \"enterFarmOnBehalf\", user.address.bech32()])\n",
    "advance_blocks(1)"
   ]
  },
  {
   "cell_type": "code",
   "execution_count": null,
   "metadata": {},
   "outputs": [],
   "source": [
    "tx_hash = claim_on_behalf_from_user(user)"
   ]
  },
  {
   "cell_type": "code",
   "execution_count": 61,
   "metadata": {},
   "outputs": [],
   "source": [
    "advance_blocks(1)"
   ]
  }
 ],
 "metadata": {
  "kernelspec": {
   "display_name": "venv",
   "language": "python",
   "name": "python3"
  },
  "language_info": {
   "codemirror_mode": {
    "name": "ipython",
    "version": 3
   },
   "file_extension": ".py",
   "mimetype": "text/x-python",
   "name": "python",
   "nbconvert_exporter": "python",
   "pygments_lexer": "ipython3",
   "version": "3.12.3"
  },
  "orig_nbformat": 4
 },
 "nbformat": 4,
 "nbformat_minor": 2
}
