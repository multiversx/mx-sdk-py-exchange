{
 "cells": [
  {
   "cell_type": "code",
   "execution_count": 1,
   "metadata": {},
   "outputs": [
    {
     "name": "stderr",
     "output_type": "stream",
     "text": [
      "\u001b[93m2024-12-09 11:09:10,430 - WARNING - Structure definition for pairs_view not found in /home/ovi/projects/dex/mx-sdk-py-exchange/deploy/configs-mainnet/deploy_structure.json\u001b[0m\n",
      "\u001b[93m2024-12-09 11:09:10,433 - WARNING - Structure definition for stakings_boosted not found in /home/ovi/projects/dex/mx-sdk-py-exchange/deploy/configs-mainnet/deploy_structure.json\u001b[0m\n",
      "\u001b[38;20m2024-12-09 11:09:11,869 - DEBUG - Account.sync_nonce() done: 988\u001b[0m\n"
     ]
    },
    {
     "name": "stdout",
     "output_type": "stream",
     "text": [
      "loaded 10 accounts from 1 PEM files.\n"
     ]
    },
    {
     "name": "stderr",
     "output_type": "stream",
     "text": [
      "\u001b[38;20m2024-12-09 11:09:12,293 - DEBUG - Account.sync_nonce() done: 988\u001b[0m\n",
      "\u001b[93m2024-12-09 11:09:12,301 - WARNING - Loaded 12 tokens instead of expected 11.\u001b[0m\n",
      "\u001b[38;20m2024-12-09 11:09:12,833 - DEBUG - Account.sync_nonce() done: 988\u001b[0m\n",
      "\u001b[92m2024-12-09 11:09:12,842 - INFO - Loaded 3 egld_wraps out of expected 3.\u001b[0m\n",
      "\u001b[92m2024-12-09 11:09:12,843 - INFO - Loaded 1 locked_assets out of expected 1.\u001b[0m\n",
      "\u001b[92m2024-12-09 11:09:12,845 - INFO - Loaded 1 proxies out of expected 1.\u001b[0m\n",
      "\u001b[92m2024-12-09 11:09:12,845 - INFO - Loaded 0 simple_locks out of expected 0.\u001b[0m\n",
      "\u001b[92m2024-12-09 11:09:12,847 - INFO - Loaded 1 simple_locks_energy out of expected 1.\u001b[0m\n",
      "\u001b[92m2024-12-09 11:09:12,848 - INFO - Loaded 1 fees_collectors out of expected 1.\u001b[0m\n",
      "\u001b[92m2024-12-09 11:09:12,850 - INFO - Loaded 1 unstakers out of expected 1.\u001b[0m\n",
      "\u001b[92m2024-12-09 11:09:12,851 - INFO - Loaded 1 proxies_v2 out of expected 1.\u001b[0m\n",
      "\u001b[92m2024-12-09 11:09:12,852 - INFO - Loaded 0 router out of expected 0.\u001b[0m\n",
      "\u001b[92m2024-12-09 11:09:12,854 - INFO - Loaded 1 router_v2 out of expected 1.\u001b[0m\n",
      "\u001b[92m2024-12-09 11:09:12,854 - INFO - Loaded 0 pairs out of expected 0.\u001b[0m\n",
      "\u001b[92m2024-12-09 11:09:12,856 - INFO - Loaded 12 pairs_v2 out of expected 12.\u001b[0m\n",
      "\u001b[92m2024-12-09 11:09:12,857 - INFO - Loaded 0 pairs_view out of expected 0.\u001b[0m\n",
      "\u001b[92m2024-12-09 11:09:12,858 - INFO - Loaded 0 farms_community out of expected 0.\u001b[0m\n",
      "\u001b[92m2024-12-09 11:09:12,860 - INFO - Loaded 0 farms_unlocked out of expected 0.\u001b[0m\n",
      "\u001b[92m2024-12-09 11:09:12,861 - INFO - Loaded 0 farms_locked out of expected 0.\u001b[0m\n",
      "\u001b[92m2024-12-09 11:09:12,862 - INFO - Loaded 0 proxy_deployers out of expected 0.\u001b[0m\n",
      "\u001b[92m2024-12-09 11:09:12,864 - INFO - Loaded 13 farms_boosted out of expected 13.\u001b[0m\n",
      "\u001b[92m2024-12-09 11:09:12,865 - INFO - Loaded 0 price_discoveries out of expected 0.\u001b[0m\n",
      "\u001b[92m2024-12-09 11:09:12,866 - INFO - Loaded 0 stakings out of expected 0.\u001b[0m\n",
      "\u001b[92m2024-12-09 11:09:12,868 - INFO - Loaded 8 stakings_v2 out of expected 8.\u001b[0m\n",
      "\u001b[92m2024-12-09 11:09:12,869 - INFO - Loaded 0 stakings_boosted out of expected 0.\u001b[0m\n",
      "\u001b[92m2024-12-09 11:09:12,870 - INFO - Loaded 0 metastakings out of expected 0.\u001b[0m\n",
      "\u001b[92m2024-12-09 11:09:12,871 - INFO - Loaded 4 metastakings_v2 out of expected 4.\u001b[0m\n",
      "\u001b[92m2024-12-09 11:09:12,873 - INFO - Loaded 1 metastakings_boosted out of expected 1.\u001b[0m\n",
      "\u001b[92m2024-12-09 11:09:12,875 - INFO - Loaded 1 position_creator out of expected 1.\u001b[0m\n",
      "\u001b[92m2024-12-09 11:09:12,877 - INFO - Loaded 1 locked_token_position_creator out of expected 1.\u001b[0m\n",
      "\u001b[92m2024-12-09 11:09:12,878 - INFO - Loaded 1 escrows out of expected 1.\u001b[0m\n",
      "\u001b[92m2024-12-09 11:09:12,878 - INFO - Loaded 1 lk_wraps out of expected 1.\u001b[0m\n",
      "\u001b[92m2024-12-09 11:09:12,880 - INFO - Loaded 1 governances out of expected 1.\u001b[0m\n",
      "\u001b[92m2024-12-09 11:09:12,881 - INFO - Loaded 1 composable_tasks out of expected 1.\u001b[0m\n",
      "\u001b[38;20m2024-12-09 11:09:13,684 - DEBUG - Account.sync_nonce() done: 988\u001b[0m\n",
      "\u001b[92m2024-12-09 11:09:13,686 - INFO - Deployed contracts below:\u001b[0m\n",
      "\u001b[92m2024-12-09 11:09:13,687 - INFO - egld_wraps:\u001b[0m\n",
      "\u001b[92m2024-12-09 11:09:13,687 - INFO - Deployed egld wrapper contract: erd1qqqqqqqqqqqqqpgqvc7gdl0p4s97guh498wgz75k8sav6sjfjlwqh679jy\u001b[0m\n",
      "\u001b[92m2024-12-09 11:09:13,688 - INFO - Deployed egld wrapper contract: erd1qqqqqqqqqqqqqpgqhe8t5jewej70zupmh44jurgn29psua5l2jps3ntjj3\u001b[0m\n",
      "\u001b[92m2024-12-09 11:09:13,688 - INFO - Deployed egld wrapper contract: erd1qqqqqqqqqqqqqpgqmuk0q2saj0mgutxm4teywre6dl8wqf58xamqdrukln\u001b[0m\n",
      "\u001b[92m2024-12-09 11:09:13,689 - INFO - locked_assets:\u001b[0m\n",
      "\u001b[92m2024-12-09 11:09:13,690 - INFO - Deployed locked asset contract: erd1qqqqqqqqqqqqqpgqjpt0qqgsrdhp2xqygpjtfrpwf76f9nvg2jpsg4q7th\u001b[0m\n",
      "\u001b[92m2024-12-09 11:09:13,691 - INFO -  ├ Unlocked token: MEX-455c57\u001b[0m\n",
      "\u001b[92m2024-12-09 11:09:13,691 - INFO -  ├ Locked token: LKMEX-aab910\u001b[0m\n",
      "\u001b[92m2024-12-09 11:09:13,694 - INFO - proxies:\u001b[0m\n",
      "\u001b[92m2024-12-09 11:09:13,695 - INFO - Deployed proxy contract: erd1qqqqqqqqqqqqqpgqrc4pg2xarca9z34njcxeur622qmfjp8w2jps89fxnl\u001b[0m\n",
      "\u001b[92m2024-12-09 11:09:13,696 - INFO -  ├ Token: MEX-455c57\u001b[0m\n",
      "\u001b[92m2024-12-09 11:09:13,697 - INFO -  ├ Locked tokens: ['LKMEX-aab910']\u001b[0m\n",
      "\u001b[92m2024-12-09 11:09:13,698 - INFO -  ├ Proxy LP token: LKLP-03a2fa\u001b[0m\n",
      "\u001b[92m2024-12-09 11:09:13,699 - INFO -  ├ Proxy Farm token: LKFARM-9d1ea8\u001b[0m\n",
      "\u001b[92m2024-12-09 11:09:13,701 - INFO - simple_locks:\u001b[0m\n",
      "\u001b[92m2024-12-09 11:09:13,702 - INFO - simple_locks_energy:\u001b[0m\n",
      "\u001b[92m2024-12-09 11:09:13,703 - INFO - Deployed simple lock energy contract: erd1qqqqqqqqqqqqqpgq0tajepcazernwt74820t8ef7t28vjfgukp2sw239f3\u001b[0m\n",
      "\u001b[92m2024-12-09 11:09:13,704 - INFO -  ├ Base token: MEX-455c57\u001b[0m\n",
      "\u001b[92m2024-12-09 11:09:13,705 - INFO -  ├ Locked token: XMEX-fda355\u001b[0m\n",
      "\u001b[92m2024-12-09 11:09:13,706 - INFO -  ├ Locked LP token: \u001b[0m\n",
      "\u001b[92m2024-12-09 11:09:13,706 - INFO -  ├ Locked Farm token: \u001b[0m\n",
      "\u001b[92m2024-12-09 11:09:13,708 - INFO - fees_collectors:\u001b[0m\n",
      "\u001b[92m2024-12-09 11:09:13,709 - INFO - Deployed fees collector contract: erd1qqqqqqqqqqqqqpgqjsnxqprks7qxfwkcg2m2v9hxkrchgm9akp2segrswt\u001b[0m\n",
      "\u001b[92m2024-12-09 11:09:13,710 - INFO - unstakers:\u001b[0m\n",
      "\u001b[92m2024-12-09 11:09:13,712 - INFO - Deployed token unstake contract: erd1qqqqqqqqqqqqqpgqxv0y4p6vvszrknaztatycac77yvsxqrrkp2sghd86c\u001b[0m\n",
      "\u001b[92m2024-12-09 11:09:13,713 - INFO - proxies_v2:\u001b[0m\n",
      "\u001b[92m2024-12-09 11:09:13,714 - INFO - Deployed proxy contract: erd1qqqqqqqqqqqqqpgqt6ltx52ukss9d2qag2k67at28a36xc9lkp2sr06394\u001b[0m\n",
      "\u001b[92m2024-12-09 11:09:13,715 - INFO -  ├ Token: MEX-455c57\u001b[0m\n",
      "\u001b[92m2024-12-09 11:09:13,716 - INFO -  ├ Locked tokens: ['LKMEX-aab910', 'XMEX-fda355']\u001b[0m\n",
      "\u001b[92m2024-12-09 11:09:13,718 - INFO -  ├ Proxy LP token: XMEXLP-2cbdce\u001b[0m\n",
      "\u001b[92m2024-12-09 11:09:13,719 - INFO -  ├ Proxy Farm token: XMEXFARM-e0a3dc\u001b[0m\n",
      "\u001b[92m2024-12-09 11:09:13,720 - INFO - router:\u001b[0m\n",
      "\u001b[92m2024-12-09 11:09:13,721 - INFO - router_v2:\u001b[0m\n",
      "\u001b[92m2024-12-09 11:09:13,721 - INFO - Deployed router contract: erd1qqqqqqqqqqqqqpgqq66xk9gfr4esuhem3jru86wg5hvp33a62jps2fy57p\u001b[0m\n",
      "\u001b[92m2024-12-09 11:09:13,722 - INFO - pairs:\u001b[0m\n",
      "\u001b[92m2024-12-09 11:09:13,723 - INFO - pairs_v2:\u001b[0m\n",
      "\u001b[92m2024-12-09 11:09:13,724 - INFO - Deployed pair contract: erd1qqqqqqqqqqqqqpgqa0fsfshnff4n76jhcye6k7uvd7qacsq42jpsp6shh2\u001b[0m\n",
      "\u001b[92m2024-12-09 11:09:13,725 - INFO -  ├ First token: WEGLD-bd4d79\u001b[0m\n",
      "\u001b[92m2024-12-09 11:09:13,726 - INFO -  ├ Second token: MEX-455c57\u001b[0m\n",
      "\u001b[92m2024-12-09 11:09:13,727 - INFO -  ├ LP token: EGLDMEX-0be9e5\u001b[0m\n",
      "\u001b[92m2024-12-09 11:09:13,728 - INFO - Deployed pair contract: erd1qqqqqqqqqqqqqpgqeel2kumf0r8ffyhth7pqdujjat9nx0862jpsg2pqaq\u001b[0m\n",
      "\u001b[92m2024-12-09 11:09:13,729 - INFO -  ├ First token: WEGLD-bd4d79\u001b[0m\n",
      "\u001b[92m2024-12-09 11:09:13,731 - INFO -  ├ Second token: USDC-c76f1f\u001b[0m\n",
      "\u001b[92m2024-12-09 11:09:13,732 - INFO -  ├ LP token: EGLDUSDC-594e5e\u001b[0m\n",
      "\u001b[92m2024-12-09 11:09:13,734 - INFO - Deployed pair contract: erd1qqqqqqqqqqqqqpgqav09xenkuqsdyeyy5evqyhuusvu4gl3t2jpss57g8x\u001b[0m\n",
      "\u001b[92m2024-12-09 11:09:13,736 - INFO -  ├ First token: WEGLD-bd4d79\u001b[0m\n",
      "\u001b[92m2024-12-09 11:09:13,737 - INFO -  ├ Second token: RIDE-7d18e9\u001b[0m\n",
      "\u001b[92m2024-12-09 11:09:13,738 - INFO -  ├ LP token: EGLDRIDE-7bd51a\u001b[0m\n",
      "\u001b[92m2024-12-09 11:09:13,739 - INFO - Deployed pair contract: erd1qqqqqqqqqqqqqpgqpmud7t8uprrxzgu8eq2mtkl08kesflj62jps9j8dyh\u001b[0m\n",
      "\u001b[92m2024-12-09 11:09:13,740 - INFO -  ├ First token: ITHEUM-df6f26\u001b[0m\n",
      "\u001b[92m2024-12-09 11:09:13,740 - INFO -  ├ Second token: WEGLD-bd4d79\u001b[0m\n",
      "\u001b[92m2024-12-09 11:09:13,741 - INFO -  ├ LP token: ITHWEGLD-1adc53\u001b[0m\n",
      "\u001b[92m2024-12-09 11:09:13,742 - INFO - Deployed pair contract: erd1qqqqqqqqqqqqqpgq0lzzvt2faev4upyf586tg38s84d7zsaj2jpsglugga\u001b[0m\n",
      "\u001b[92m2024-12-09 11:09:13,742 - INFO -  ├ First token: UTK-2f80e9\u001b[0m\n",
      "\u001b[92m2024-12-09 11:09:13,743 - INFO -  ├ Second token: WEGLD-bd4d79\u001b[0m\n",
      "\u001b[92m2024-12-09 11:09:13,744 - INFO -  ├ LP token: UTKWEGLD-c960d1\u001b[0m\n",
      "\u001b[92m2024-12-09 11:09:13,745 - INFO - Deployed pair contract: erd1qqqqqqqqqqqqqpgqf57y8m9krsvrceqxujngzm77p82zqc502jpsnnezqs\u001b[0m\n",
      "\u001b[92m2024-12-09 11:09:13,746 - INFO -  ├ First token: CRT-52decf\u001b[0m\n",
      "\u001b[92m2024-12-09 11:09:13,747 - INFO -  ├ Second token: WEGLD-bd4d79\u001b[0m\n",
      "\u001b[92m2024-12-09 11:09:13,748 - INFO -  ├ LP token: CRTWEGLD-1fac3f\u001b[0m\n",
      "\u001b[92m2024-12-09 11:09:13,748 - INFO - Deployed pair contract: erd1qqqqqqqqqqqqqpgqp5d4x3d263x4alnapwafwujch5xqmvyq2jpsk2xhsy\u001b[0m\n",
      "\u001b[92m2024-12-09 11:09:13,749 - INFO -  ├ First token: ASH-a642d1\u001b[0m\n",
      "\u001b[92m2024-12-09 11:09:13,750 - INFO -  ├ Second token: WEGLD-bd4d79\u001b[0m\n",
      "\u001b[92m2024-12-09 11:09:13,750 - INFO -  ├ LP token: ASHWEGLD-38545c\u001b[0m\n",
      "\u001b[92m2024-12-09 11:09:13,751 - INFO - Deployed pair contract: erd1qqqqqqqqqqqqqpgqtjhhs49h0q2ncld64l3thtk7s7yuw47v2jps8emt0v\u001b[0m\n",
      "\u001b[92m2024-12-09 11:09:13,752 - INFO -  ├ First token: ZPAY-247875\u001b[0m\n",
      "\u001b[92m2024-12-09 11:09:13,753 - INFO -  ├ Second token: WEGLD-bd4d79\u001b[0m\n",
      "\u001b[92m2024-12-09 11:09:13,753 - INFO -  ├ LP token: ZPAYWEGLD-34e5c1\u001b[0m\n",
      "\u001b[92m2024-12-09 11:09:13,754 - INFO - Deployed pair contract: erd1qqqqqqqqqqqqqpgqp32ecg03fyxgt2pf2fsxyg4knvhfvtgz2jps6rx6gf\u001b[0m\n",
      "\u001b[92m2024-12-09 11:09:13,755 - INFO -  ├ First token: BHAT-c1fde3\u001b[0m\n",
      "\u001b[92m2024-12-09 11:09:13,760 - INFO -  ├ Second token: WEGLD-bd4d79\u001b[0m\n",
      "\u001b[92m2024-12-09 11:09:13,761 - INFO -  ├ LP token: BHATWEGLD-f45935\u001b[0m\n",
      "\u001b[92m2024-12-09 11:09:13,762 - INFO - Deployed pair contract: erd1qqqqqqqqqqqqqpgq5jnjpsukhl295ry3wjrd3gtff0amrgux2jpsz3reum\u001b[0m\n",
      "\u001b[92m2024-12-09 11:09:13,763 - INFO -  ├ First token: FOXSY-5d5f3e\u001b[0m\n",
      "\u001b[92m2024-12-09 11:09:13,764 - INFO -  ├ Second token: WEGLD-bd4d79\u001b[0m\n",
      "\u001b[92m2024-12-09 11:09:13,764 - INFO -  ├ LP token: FOXSYWEGLD-2a5635\u001b[0m\n",
      "\u001b[92m2024-12-09 11:09:13,766 - INFO - Deployed pair contract: erd1qqqqqqqqqqqqqpgqv0c22xku4vd5ugfh0u53tqufmdkqx5nv2jps8vsccx\u001b[0m\n",
      "\u001b[92m2024-12-09 11:09:13,767 - INFO -  ├ First token: MEX-455c57\u001b[0m\n",
      "\u001b[92m2024-12-09 11:09:13,768 - INFO -  ├ Second token: USDC-c76f1f\u001b[0m\n",
      "\u001b[92m2024-12-09 11:09:13,769 - INFO -  ├ LP token: MEXUSDC-a57860\u001b[0m\n",
      "\u001b[92m2024-12-09 11:09:13,769 - INFO - Deployed pair contract: erd1qqqqqqqqqqqqqpgqthhxe87ulznhhm72jekexj9rwqzu3zsv2jps88erau\u001b[0m\n",
      "\u001b[92m2024-12-09 11:09:13,770 - INFO -  ├ First token: KWAK-469ab0\u001b[0m\n",
      "\u001b[92m2024-12-09 11:09:13,770 - INFO -  ├ Second token: WEGLD-bd4d79\u001b[0m\n",
      "\u001b[92m2024-12-09 11:09:13,772 - INFO -  ├ LP token: KWAKWEGLD-014bfc\u001b[0m\n",
      "\u001b[92m2024-12-09 11:09:13,773 - INFO - pairs_view:\u001b[0m\n",
      "\u001b[92m2024-12-09 11:09:13,773 - INFO - farms_community:\u001b[0m\n",
      "\u001b[92m2024-12-09 11:09:13,774 - INFO - farms_unlocked:\u001b[0m\n",
      "\u001b[92m2024-12-09 11:09:13,775 - INFO - farms_locked:\u001b[0m\n",
      "\u001b[92m2024-12-09 11:09:13,777 - INFO - proxy_deployers:\u001b[0m\n",
      "\u001b[92m2024-12-09 11:09:13,780 - INFO - farms_boosted:\u001b[0m\n",
      "\u001b[92m2024-12-09 11:09:13,781 - INFO - Deployed farm contract: erd1qqqqqqqqqqqqqpgqapxdp9gjxtg60mjwhle3n6h88zch9e7kkp2s8aqhkg\u001b[0m\n",
      "\u001b[92m2024-12-09 11:09:13,782 - INFO -  ├ Farming token: EGLDMEX-0be9e5\u001b[0m\n",
      "\u001b[92m2024-12-09 11:09:13,783 - INFO -  ├ Farmed token: MEX-455c57\u001b[0m\n",
      "\u001b[92m2024-12-09 11:09:13,784 - INFO -  ├ Farm token: EGLDMEXFL-c2521e\u001b[0m\n",
      "\u001b[92m2024-12-09 11:09:13,784 - INFO - Deployed farm contract: erd1qqqqqqqqqqqqqpgqv0pz5z3fkz54nml6pkzzdruuf020gqzykp2sya7kkv\u001b[0m\n",
      "\u001b[92m2024-12-09 11:09:13,785 - INFO -  ├ Farming token: EGLDUSDC-594e5e\u001b[0m\n",
      "\u001b[92m2024-12-09 11:09:13,786 - INFO -  ├ Farmed token: MEX-455c57\u001b[0m\n",
      "\u001b[92m2024-12-09 11:09:13,787 - INFO -  ├ Farm token: EGLDUSDCFL-45109b\u001b[0m\n",
      "\u001b[92m2024-12-09 11:09:13,787 - INFO - Deployed farm contract: erd1qqqqqqqqqqqqqpgqenvn0s3ldc94q2mlkaqx4arj3zfnvnmakp2sxca2h9\u001b[0m\n",
      "\u001b[92m2024-12-09 11:09:13,788 - INFO -  ├ Farming token: EGLDRIDE-7bd51a\u001b[0m\n",
      "\u001b[92m2024-12-09 11:09:13,788 - INFO -  ├ Farmed token: MEX-455c57\u001b[0m\n",
      "\u001b[92m2024-12-09 11:09:13,789 - INFO -  ├ Farm token: EGLDRIDEFL-7aac94\u001b[0m\n",
      "\u001b[92m2024-12-09 11:09:13,789 - INFO - Deployed farm contract: erd1qqqqqqqqqqqqqpgqrdq6zvepdxg36rey8pmluwur43q4hcx3kp2su4yltq\u001b[0m\n",
      "\u001b[92m2024-12-09 11:09:13,789 - INFO -  ├ Farming token: ITHWEGLD-1adc53\u001b[0m\n",
      "\u001b[92m2024-12-09 11:09:13,790 - INFO -  ├ Farmed token: MEX-455c57\u001b[0m\n",
      "\u001b[92m2024-12-09 11:09:13,790 - INFO -  ├ Farm token: ITHWEGLDFL-7d381f\u001b[0m\n",
      "\u001b[92m2024-12-09 11:09:13,791 - INFO - Deployed farm contract: erd1qqqqqqqqqqqqqpgq4acurmluezvmhna8tztgcrnwh0l70a2wkp2sfh6jkp\u001b[0m\n",
      "\u001b[92m2024-12-09 11:09:13,791 - INFO -  ├ Farming token: UTKWEGLD-c960d1\u001b[0m\n",
      "\u001b[92m2024-12-09 11:09:13,792 - INFO -  ├ Farmed token: MEX-455c57\u001b[0m\n",
      "\u001b[92m2024-12-09 11:09:13,792 - INFO -  ├ Farm token: UTKWEGLDFL-ba26d2\u001b[0m\n",
      "\u001b[92m2024-12-09 11:09:13,793 - INFO - Deployed farm contract: erd1qqqqqqqqqqqqqpgquhqfknr9dg5t0xma0zcc55dm8gwv5rpkkp2sq8f40p\u001b[0m\n",
      "\u001b[92m2024-12-09 11:09:13,794 - INFO -  ├ Farming token: CRTWEGLD-1fac3f\u001b[0m\n",
      "\u001b[92m2024-12-09 11:09:13,795 - INFO -  ├ Farmed token: MEX-455c57\u001b[0m\n",
      "\u001b[92m2024-12-09 11:09:13,796 - INFO -  ├ Farm token: CRTWEGLDFL-4fd518\u001b[0m\n",
      "\u001b[92m2024-12-09 11:09:13,797 - INFO - Deployed farm contract: erd1qqqqqqqqqqqqqpgq6v5ta4memvrhjs4x3gqn90c3pujc77takp2sqhxm9j\u001b[0m\n",
      "\u001b[92m2024-12-09 11:09:13,797 - INFO -  ├ Farming token: ASHWEGLD-38545c\u001b[0m\n",
      "\u001b[92m2024-12-09 11:09:13,798 - INFO -  ├ Farmed token: MEX-455c57\u001b[0m\n",
      "\u001b[92m2024-12-09 11:09:13,798 - INFO -  ├ Farm token: ASHWEGLDFL-9612cf\u001b[0m\n",
      "\u001b[92m2024-12-09 11:09:13,799 - INFO - Deployed farm contract: erd1qqqqqqqqqqqqqpgqqqckvlhd3n7ntt5w3vln4xh3tsfpj0hr2jpsxlzgcj\u001b[0m\n",
      "\u001b[92m2024-12-09 11:09:13,799 - INFO -  ├ Farming token: ZPAYWEGLD-34e5c1\u001b[0m\n",
      "\u001b[92m2024-12-09 11:09:13,800 - INFO -  ├ Farmed token: MEX-455c57\u001b[0m\n",
      "\u001b[92m2024-12-09 11:09:13,801 - INFO -  ├ Farm token: ZPAYEGLDFL-4faf85\u001b[0m\n",
      "\u001b[92m2024-12-09 11:09:13,801 - INFO - Deployed farm contract: erd1qqqqqqqqqqqqqpgqcfkmz2j0e8pj0nzuk9j6mzcav0wpthq52jpsg546ch\u001b[0m\n",
      "\u001b[92m2024-12-09 11:09:13,801 - INFO -  ├ Farming token: BHATWEGLD-f45935\u001b[0m\n",
      "\u001b[92m2024-12-09 11:09:13,802 - INFO -  ├ Farmed token: MEX-455c57\u001b[0m\n",
      "\u001b[92m2024-12-09 11:09:13,802 - INFO -  ├ Farm token: BHATEGLDFL-259b84\u001b[0m\n",
      "\u001b[92m2024-12-09 11:09:13,803 - INFO - Deployed farm contract: erd1qqqqqqqqqqqqqpgqu288dj3qgrelujal5wynsv5zrf7u0hwlkp2se383n7\u001b[0m\n",
      "\u001b[92m2024-12-09 11:09:13,803 - INFO -  ├ Farming token: FOXSYWEGLD-2a5635\u001b[0m\n",
      "\u001b[92m2024-12-09 11:09:13,804 - INFO -  ├ Farmed token: MEX-455c57\u001b[0m\n",
      "\u001b[92m2024-12-09 11:09:13,804 - INFO -  ├ Farm token: FOXSEGLDFL-f10836\u001b[0m\n",
      "\u001b[92m2024-12-09 11:09:13,805 - INFO - Deployed farm contract: erd1qqqqqqqqqqqqqpgqtdc0rzjwmp9qs0h0wj9pjwxnp5vjc9hdkp2swd4dxz\u001b[0m\n",
      "\u001b[92m2024-12-09 11:09:13,805 - INFO -  ├ Farming token: EGLDMEX-0be9e5\u001b[0m\n",
      "\u001b[92m2024-12-09 11:09:13,806 - INFO -  ├ Farmed token: MEX-455c57\u001b[0m\n",
      "\u001b[92m2024-12-09 11:09:13,806 - INFO -  ├ Farm token: EGLDMEXFL-a51a1d\u001b[0m\n",
      "\u001b[92m2024-12-09 11:09:13,807 - INFO - Deployed farm contract: erd1qqqqqqqqqqqqqpgqzfy62c66hjuu9lm2c9mr4gcver9lmnydkp2st70eq5\u001b[0m\n",
      "\u001b[92m2024-12-09 11:09:13,807 - INFO -  ├ Farming token: MEXUSDC-a57860\u001b[0m\n",
      "\u001b[92m2024-12-09 11:09:13,808 - INFO -  ├ Farmed token: MEX-455c57\u001b[0m\n",
      "\u001b[92m2024-12-09 11:09:13,808 - INFO -  ├ Farm token: MEXUSDCFL-f9379f\u001b[0m\n",
      "\u001b[92m2024-12-09 11:09:13,809 - INFO - Deployed farm contract: erd1qqqqqqqqqqqqqpgqgg42sl557vh7rwt600w76pe48u64qngmkp2sl8mrfx\u001b[0m\n",
      "\u001b[92m2024-12-09 11:09:13,810 - INFO -  ├ Farming token: KWAKWEGLD-014bfc\u001b[0m\n",
      "\u001b[92m2024-12-09 11:09:13,812 - INFO -  ├ Farmed token: MEX-455c57\u001b[0m\n",
      "\u001b[92m2024-12-09 11:09:13,814 - INFO -  ├ Farm token: KWAKEGLDFL-891492\u001b[0m\n",
      "\u001b[92m2024-12-09 11:09:13,815 - INFO - price_discoveries:\u001b[0m\n",
      "\u001b[92m2024-12-09 11:09:13,816 - INFO - stakings:\u001b[0m\n",
      "\u001b[92m2024-12-09 11:09:13,817 - INFO - stakings_v2:\u001b[0m\n",
      "\u001b[92m2024-12-09 11:09:13,817 - INFO - Deployed staking contract: erd1qqqqqqqqqqqqqpgqmqq78c5htmdnws8hm5u4suvags36eq092jpsaxv3e7\u001b[0m\n",
      "\u001b[92m2024-12-09 11:09:13,819 - INFO -  ├ Staking token: RIDE-7d18e9\u001b[0m\n",
      "\u001b[92m2024-12-09 11:09:13,820 - INFO -  ├ Stake token: SRIDE-4ab1d4\u001b[0m\n",
      "\u001b[92m2024-12-09 11:09:13,820 - INFO - Deployed staking contract: erd1qqqqqqqqqqqqqpgqr7kdhagkqgxvjrsk7s5333l9wwnenr9g2jps8puq33\u001b[0m\n",
      "\u001b[92m2024-12-09 11:09:13,821 - INFO -  ├ Staking token: ZPAY-247875\u001b[0m\n",
      "\u001b[92m2024-12-09 11:09:13,821 - INFO -  ├ Stake token: SZPAY-9f1b39\u001b[0m\n",
      "\u001b[92m2024-12-09 11:09:13,822 - INFO - Deployed staking contract: erd1qqqqqqqqqqqqqpgqzps75vsk97w9nsx2cenv2r2tyxl4fl402jpsx78m9j\u001b[0m\n",
      "\u001b[92m2024-12-09 11:09:13,823 - INFO -  ├ Staking token: ITHEUM-df6f26\u001b[0m\n",
      "\u001b[92m2024-12-09 11:09:13,823 - INFO -  ├ Stake token: SITHEUM-e05083\u001b[0m\n",
      "\u001b[92m2024-12-09 11:09:13,824 - INFO - Deployed staking contract: erd1qqqqqqqqqqqqqpgq45zs77q884ts6y9zj4jyqfn6ydev8ruv2jps3tteqq\u001b[0m\n",
      "\u001b[92m2024-12-09 11:09:13,826 - INFO -  ├ Staking token: BHAT-c1fde3\u001b[0m\n",
      "\u001b[92m2024-12-09 11:09:13,827 - INFO -  ├ Stake token: SBHAT-89efd3\u001b[0m\n",
      "\u001b[92m2024-12-09 11:09:13,829 - INFO - Deployed staking contract: erd1qqqqqqqqqqqqqpgqcedkmj8ezme6mtautj79ngv7fez978le2jps8jtawn\u001b[0m\n",
      "\u001b[92m2024-12-09 11:09:13,830 - INFO -  ├ Staking token: UTK-2f80e9\u001b[0m\n",
      "\u001b[92m2024-12-09 11:09:13,831 - INFO -  ├ Stake token: SUTK-ba35f3\u001b[0m\n",
      "\u001b[92m2024-12-09 11:09:13,832 - INFO - Deployed staking contract: erd1qqqqqqqqqqqqqpgqp2wfzvkhlpkwcdxx25qzznx33345979w2jpsl3gflj\u001b[0m\n",
      "\u001b[92m2024-12-09 11:09:13,833 - INFO -  ├ Staking token: CRT-52decf\u001b[0m\n",
      "\u001b[92m2024-12-09 11:09:13,834 - INFO -  ├ Stake token: SCRT-acbd64\u001b[0m\n",
      "\u001b[92m2024-12-09 11:09:13,835 - INFO - Deployed staking contract: erd1qqqqqqqqqqqqqpgqjdlnu9ggwfc79pygn5fjjgmdm6d7vu5e2jpsw59amp\u001b[0m\n",
      "\u001b[92m2024-12-09 11:09:13,836 - INFO -  ├ Staking token: ASH-a642d1\u001b[0m\n",
      "\u001b[92m2024-12-09 11:09:13,837 - INFO -  ├ Stake token: SASH-3671bd\u001b[0m\n",
      "\u001b[92m2024-12-09 11:09:13,839 - INFO - Deployed staking contract: erd1qqqqqqqqqqqqqpgq2e4fmlhcv90wrxl2acjpcu3g2l9rpkttx9rs8pppzp\u001b[0m\n",
      "\u001b[92m2024-12-09 11:09:13,840 - INFO -  ├ Staking token: FOXSY-5d5f3e\u001b[0m\n",
      "\u001b[92m2024-12-09 11:09:13,842 - INFO -  ├ Stake token: SFOXSY-e335c1\u001b[0m\n",
      "\u001b[92m2024-12-09 11:09:13,843 - INFO - stakings_boosted:\u001b[0m\n",
      "\u001b[92m2024-12-09 11:09:13,844 - INFO - metastakings:\u001b[0m\n",
      "\u001b[92m2024-12-09 11:09:13,845 - INFO - metastakings_v2:\u001b[0m\n",
      "\u001b[92m2024-12-09 11:09:13,848 - INFO - Deployed metastaking contract: erd1qqqqqqqqqqqqqpgqjvcrk4tun6l438crr0jcz7q3yzp66smwkp2shzmazs\u001b[0m\n",
      "\u001b[92m2024-12-09 11:09:13,849 - INFO -  ├ Staking token: RIDE-7d18e9\u001b[0m\n",
      "\u001b[92m2024-12-09 11:09:13,850 - INFO -  ├ Metastake token: METARIDELK-f0b4bf\u001b[0m\n",
      "\u001b[92m2024-12-09 11:09:13,850 - INFO -  ├ Stake address: erd1qqqqqqqqqqqqqpgqmqq78c5htmdnws8hm5u4suvags36eq092jpsaxv3e7\u001b[0m\n",
      "\u001b[92m2024-12-09 11:09:13,852 - INFO -  ├ Farm address: erd1qqqqqqqqqqqqqpgqenvn0s3ldc94q2mlkaqx4arj3zfnvnmakp2sxca2h9\u001b[0m\n",
      "\u001b[92m2024-12-09 11:09:13,853 - INFO -  ├ LP address: erd1qqqqqqqqqqqqqpgqav09xenkuqsdyeyy5evqyhuusvu4gl3t2jpss57g8x\u001b[0m\n",
      "\u001b[92m2024-12-09 11:09:13,854 - INFO - Deployed metastaking contract: erd1qqqqqqqqqqqqqpgqduftj7u5u5d4ql2znchcmrcet9kcze7ckp2sk4474f\u001b[0m\n",
      "\u001b[92m2024-12-09 11:09:13,856 - INFO -  ├ Staking token: ITHEUM-df6f26\u001b[0m\n",
      "\u001b[92m2024-12-09 11:09:13,857 - INFO -  ├ Metastake token: METAITHLK-4c3f2e\u001b[0m\n",
      "\u001b[92m2024-12-09 11:09:13,858 - INFO -  ├ Stake address: erd1qqqqqqqqqqqqqpgqzps75vsk97w9nsx2cenv2r2tyxl4fl402jpsx78m9j\u001b[0m\n",
      "\u001b[92m2024-12-09 11:09:13,860 - INFO -  ├ Farm address: erd1qqqqqqqqqqqqqpgqrdq6zvepdxg36rey8pmluwur43q4hcx3kp2su4yltq\u001b[0m\n",
      "\u001b[92m2024-12-09 11:09:13,861 - INFO -  ├ LP address: erd1qqqqqqqqqqqqqpgqpmud7t8uprrxzgu8eq2mtkl08kesflj62jps9j8dyh\u001b[0m\n",
      "\u001b[92m2024-12-09 11:09:13,862 - INFO - Deployed metastaking contract: erd1qqqqqqqqqqqqqpgqmgd0eu4z9kzvrputt4l4kw4fqf2wcjsekp2sftan7s\u001b[0m\n",
      "\u001b[92m2024-12-09 11:09:13,864 - INFO -  ├ Staking token: UTK-2f80e9\u001b[0m\n",
      "\u001b[92m2024-12-09 11:09:13,865 - INFO -  ├ Metastake token: METAUTKLK-112f52\u001b[0m\n",
      "\u001b[92m2024-12-09 11:09:13,867 - INFO -  ├ Stake address: erd1qqqqqqqqqqqqqpgqcedkmj8ezme6mtautj79ngv7fez978le2jps8jtawn\u001b[0m\n",
      "\u001b[92m2024-12-09 11:09:13,868 - INFO -  ├ Farm address: erd1qqqqqqqqqqqqqpgq4acurmluezvmhna8tztgcrnwh0l70a2wkp2sfh6jkp\u001b[0m\n",
      "\u001b[92m2024-12-09 11:09:13,869 - INFO -  ├ LP address: erd1qqqqqqqqqqqqqpgq0lzzvt2faev4upyf586tg38s84d7zsaj2jpsglugga\u001b[0m\n",
      "\u001b[92m2024-12-09 11:09:13,870 - INFO - Deployed metastaking contract: erd1qqqqqqqqqqqqqpgqx6zhjfjnwxpzdcj594htl0y6w60aa3a8kp2se2pdms\u001b[0m\n",
      "\u001b[92m2024-12-09 11:09:13,871 - INFO -  ├ Staking token: CRT-52decf\u001b[0m\n",
      "\u001b[92m2024-12-09 11:09:13,872 - INFO -  ├ Metastake token: METACRTLK-39d11c\u001b[0m\n",
      "\u001b[92m2024-12-09 11:09:13,873 - INFO -  ├ Stake address: erd1qqqqqqqqqqqqqpgqp2wfzvkhlpkwcdxx25qzznx33345979w2jpsl3gflj\u001b[0m\n",
      "\u001b[92m2024-12-09 11:09:13,875 - INFO -  ├ Farm address: erd1qqqqqqqqqqqqqpgquhqfknr9dg5t0xma0zcc55dm8gwv5rpkkp2sq8f40p\u001b[0m\n",
      "\u001b[92m2024-12-09 11:09:13,876 - INFO -  ├ LP address: erd1qqqqqqqqqqqqqpgqf57y8m9krsvrceqxujngzm77p82zqc502jpsnnezqs\u001b[0m\n",
      "\u001b[92m2024-12-09 11:09:13,877 - INFO - metastakings_boosted:\u001b[0m\n",
      "\u001b[92m2024-12-09 11:09:13,879 - INFO - Deployed metastaking contract: erd1qqqqqqqqqqqqqpgqqcgdee7ut4qmx942fpgtk9da53acmserkp2sez9f70\u001b[0m\n",
      "\u001b[92m2024-12-09 11:09:13,880 - INFO -  ├ Staking token: FOXSY-5d5f3e\u001b[0m\n",
      "\u001b[92m2024-12-09 11:09:13,881 - INFO -  ├ Metastake token: METAFOXSLK-2a13e3\u001b[0m\n",
      "\u001b[92m2024-12-09 11:09:13,881 - INFO -  ├ Stake address: erd1qqqqqqqqqqqqqpgq2e4fmlhcv90wrxl2acjpcu3g2l9rpkttx9rs8pppzp\u001b[0m\n",
      "\u001b[92m2024-12-09 11:09:13,882 - INFO -  ├ Farm address: erd1qqqqqqqqqqqqqpgqu288dj3qgrelujal5wynsv5zrf7u0hwlkp2se383n7\u001b[0m\n",
      "\u001b[92m2024-12-09 11:09:13,883 - INFO -  ├ LP address: erd1qqqqqqqqqqqqqpgq5jnjpsukhl295ry3wjrd3gtff0amrgux2jpsz3reum\u001b[0m\n",
      "\u001b[92m2024-12-09 11:09:13,883 - INFO - position_creator:\u001b[0m\n",
      "\u001b[92m2024-12-09 11:09:13,884 - INFO - Deployed position creator contract: erd1qqqqqqqqqqqqqpgq43cyf9yjfy79ey0cax55kenxgpefhayk2jps6zt793\u001b[0m\n",
      "\u001b[92m2024-12-09 11:09:13,884 - INFO -  ├ EGLD Wrapper address: \u001b[0m\n",
      "\u001b[92m2024-12-09 11:09:13,884 - INFO -  ├ Router address: \u001b[0m\n",
      "\u001b[92m2024-12-09 11:09:13,885 - INFO - locked_token_position_creator:\u001b[0m\n",
      "\u001b[92m2024-12-09 11:09:13,886 - INFO - Deployed locked token position creator contract: erd1qqqqqqqqqqqqqpgqwtyu7d5qw322smp0kjq789ua0wtz5cfa2jpsu999xr\u001b[0m\n",
      "\u001b[92m2024-12-09 11:09:13,886 - INFO -  ├ Energy Factory address: \u001b[0m\n",
      "\u001b[92m2024-12-09 11:09:13,887 - INFO -  ├ EGLD Wrapper address: \u001b[0m\n",
      "\u001b[92m2024-12-09 11:09:13,887 - INFO -  ├ Mex-Wegld LP Pair address: \u001b[0m\n",
      "\u001b[92m2024-12-09 11:09:13,888 - INFO -  ├ Mex-Wegld LP Farm address: \u001b[0m\n",
      "\u001b[92m2024-12-09 11:09:13,888 - INFO -  ├ Proxy Dex address: \u001b[0m\n",
      "\u001b[92m2024-12-09 11:09:13,889 - INFO -  ├ Router address: \u001b[0m\n",
      "\u001b[92m2024-12-09 11:09:13,889 - INFO - escrows:\u001b[0m\n"
     ]
    },
    {
     "name": "stdout",
     "output_type": "stream",
     "text": [
      "\n",
      "\n",
      "\n",
      "\n",
      "\n",
      "\n",
      "\n",
      "\n",
      "\n",
      "\n",
      "\n",
      "\n",
      "\n",
      "\n",
      "\n",
      "\n",
      "\n",
      "\n",
      "\n",
      "\n",
      "\n",
      "\n",
      "\n",
      "\n",
      "\n",
      "\n",
      "\n"
     ]
    },
    {
     "name": "stderr",
     "output_type": "stream",
     "text": [
      "\u001b[92m2024-12-09 11:09:13,890 - INFO - Deployed escrow contract: erd1qqqqqqqqqqqqqpgqeh4yv09rmyg4xgn5ma03mvm4v5gndu8w2jpsglz3cn\u001b[0m\n",
      "\u001b[92m2024-12-09 11:09:13,890 - INFO - lk_wraps:\u001b[0m\n",
      "\u001b[92m2024-12-09 11:09:13,891 - INFO - Deployed locked token wrapping contract: erd1qqqqqqqqqqqqqpgqu64gygjs5ted4rupaewaszyhaxl9lv7m2jpsw47nzr\u001b[0m\n",
      "\u001b[92m2024-12-09 11:09:13,891 - INFO - governances:\u001b[0m\n",
      "\u001b[92m2024-12-09 11:09:13,892 - INFO - Deployed GovernanceContract contract: erd1qqqqqqqqqqqqqpgqyxqwuhtj3xhftcpn2kzuq07lhdp4ng222jps650gtt\u001b[0m\n",
      "\u001b[92m2024-12-09 11:09:13,893 - INFO - composable_tasks:\u001b[0m\n",
      "\u001b[92m2024-12-09 11:09:13,894 - INFO - Deployed composable tasks contract: erd1qqqqqqqqqqqqqpgqsytkvnexypp7argk02l0rasnj57sxa542jpshkl7df\u001b[0m\n",
      "\u001b[92m2024-12-09 11:09:13,896 - INFO - Fees collector contract: erd1qqqqqqqqqqqqqpgqjsnxqprks7qxfwkcg2m2v9hxkrchgm9akp2segrswt\u001b[0m\n"
     ]
    },
    {
     "name": "stdout",
     "output_type": "stream",
     "text": [
      "\n",
      "\n",
      "\n",
      "\n"
     ]
    }
   ],
   "source": [
    "import sys\n",
    "from pathlib import Path\n",
    "sys.path.append(str(Path.cwd().parent.parent.parent.absolute()))\n",
    "import config\n",
    "from context import Context\n",
    "from contracts.farm_contract import FarmContract\n",
    "from contracts.pair_contract import PairContract\n",
    "from contracts.simple_lock_energy_contract import SimpleLockEnergyContract\n",
    "from contracts.position_creator_contract import PositionCreatorContract\n",
    "from contracts.fees_collector_contract import FeesCollectorContract\n",
    "from utils.utils_generic import log_warning, log_step_pass, log_step_fail\n",
    "context = Context()\n",
    "fees_collector_contract: FeesCollectorContract\n",
    "fees_collector_contract = context.get_contracts(config.FEES_COLLECTORS)[0]\n",
    "log_step_pass(f\"Fees collector contract: {fees_collector_contract.address}\")"
   ]
  },
  {
   "cell_type": "code",
   "execution_count": 2,
   "metadata": {},
   "outputs": [
    {
     "name": "stderr",
     "output_type": "stream",
     "text": [
      "\u001b[93m2024-12-09 11:09:36,371 - WARNING - Pair contract: MEXUSDC-a57860 erd1qqqqqqqqqqqqqpgqv0c22xku4vd5ugfh0u53tqufmdkqx5nv2jps8vsccx\u001b[0m\n",
      "\u001b[93m2024-12-09 11:09:36,372 - WARNING - Pair contract: KWAKWEGLD-014bfc erd1qqqqqqqqqqqqqpgqthhxe87ulznhhm72jekexj9rwqzu3zsv2jps88erau\u001b[0m\n",
      "\u001b[93m2024-12-09 11:09:38,202 - WARNING - New MEXUSC Farm contract: MEXUSDCFL-f9379f\u001b[0m\n",
      "\u001b[93m2024-12-09 11:09:38,203 - WARNING - New FOXSY Farm contract: FOXSEGLDFL-f10836\u001b[0m\n",
      "\u001b[93m2024-12-09 11:09:38,204 - WARNING - New KWAKEGLD Farm contract: KWAKEGLDFL-891492\u001b[0m\n"
     ]
    }
   ],
   "source": [
    "MEXUSDC_POOL_ADDRESS = \"erd1qqqqqqqqqqqqqpgqv0c22xku4vd5ugfh0u53tqufmdkqx5nv2jps8vsccx\"\n",
    "KWAKEGLD_POOL_ADDRESS = \"erd1qqqqqqqqqqqqqpgqthhxe87ulznhhm72jekexj9rwqzu3zsv2jps88erau\"\n",
    "\n",
    "mexusdc_pair_contract = PairContract.load_contract_by_address(MEXUSDC_POOL_ADDRESS)\n",
    "kwakegld_pair_contract = PairContract.load_contract_by_address(KWAKEGLD_POOL_ADDRESS)\n",
    "\n",
    "log_warning(f'Pair contract: {mexusdc_pair_contract.lpToken} {mexusdc_pair_contract.address}')\n",
    "log_warning(f'Pair contract: {kwakegld_pair_contract.lpToken} {kwakegld_pair_contract.address}')\n",
    "\n",
    "energy_factory: SimpleLockEnergyContract\n",
    "energy_factory = context.get_contracts(config.SIMPLE_LOCKS_ENERGY)[0]\n",
    "\n",
    "mexusdc_farm_contract = FarmContract.load_contract_by_address(\"erd1qqqqqqqqqqqqqpgqzfy62c66hjuu9lm2c9mr4gcver9lmnydkp2st70eq5\")\n",
    "foxsy_farm_contract = FarmContract.load_contract_by_address(\"erd1qqqqqqqqqqqqqpgqu288dj3qgrelujal5wynsv5zrf7u0hwlkp2se383n7\")\n",
    "kwakegld_farm_contract = FarmContract.load_contract_by_address(\"erd1qqqqqqqqqqqqqpgqgg42sl557vh7rwt600w76pe48u64qngmkp2sl8mrfx\")\n",
    "log_warning(f'New MEXUSC Farm contract: {mexusdc_farm_contract.farmToken}')\n",
    "log_warning(f'New FOXSY Farm contract: {foxsy_farm_contract.farmToken}')\n",
    "log_warning(f'New KWAKEGLD Farm contract: {kwakegld_farm_contract.farmToken}')\n",
    "\n",
    "position_creator_contract: PositionCreatorContract\n",
    "position_creator_contract = context.get_contracts(config.POSITION_CREATOR)[0]"
   ]
  },
  {
   "cell_type": "markdown",
   "metadata": {},
   "source": [
    "Change owners"
   ]
  },
  {
   "cell_type": "code",
   "execution_count": 3,
   "metadata": {},
   "outputs": [],
   "source": [
    "new_owner = \"erd1ss6u80ruas2phpmr82r42xnkd6rxy40g9jl69frppl4qez9w2jpsqj8x97\""
   ]
  },
  {
   "cell_type": "code",
   "execution_count": 4,
   "metadata": {},
   "outputs": [
    {
     "name": "stderr",
     "output_type": "stream",
     "text": [
      "\u001b[92m2024-12-09 11:11:16,278 - INFO - Change owner address of the contract\u001b[0m\n",
      "\u001b[38;20m2024-12-09 11:11:16,287 - DEBUG - Arguments: ['erd1ss6u80ruas2phpmr82r42xnkd6rxy40g9jl69frppl4qez9w2jpsqj8x97']\u001b[0m\n",
      "\u001b[38;20m2024-12-09 11:11:16,288 - DEBUG - Calling ChangeOwnerAddress at erd1qqqqqqqqqqqqqpgqzfy62c66hjuu9lm2c9mr4gcver9lmnydkp2st70eq5\u001b[0m\n",
      "\u001b[38;20m2024-12-09 11:11:16,290 - DEBUG - Args: ['erd1ss6u80ruas2phpmr82r42xnkd6rxy40g9jl69frppl4qez9w2jpsqj8x97']\u001b[0m\n",
      "\u001b[38;20m2024-12-09 11:11:16,482 - DEBUG - Contract call arguments: [erd1ss6u80ruas2phpmr82r42xnkd6rxy40g9jl69frppl4qez9w2jpsqj8x97]\u001b[0m\n",
      "The transaction builders are deprecated and will be removed in a later release. Use the transaction factories instead.\n",
      "\u001b[92m2024-12-09 11:11:16,691 - INFO - View this transaction in the MultiversX Mainnet Explorer: https://explorer.multiversx.com/transactions/f39ce15fd24a665d10a43d97551a07cb76c1ec146c911fa53626df30ede2eed2\u001b[0m\n"
     ]
    },
    {
     "data": {
      "text/plain": [
       "'f39ce15fd24a665d10a43d97551a07cb76c1ec146c911fa53626df30ede2eed2'"
      ]
     },
     "execution_count": 4,
     "metadata": {},
     "output_type": "execute_result"
    }
   ],
   "source": [
    "mexusdc_farm_contract.change_owner_address(context.deployer_account, context.network_provider.proxy, new_owner)"
   ]
  },
  {
   "cell_type": "code",
   "execution_count": 5,
   "metadata": {},
   "outputs": [
    {
     "name": "stderr",
     "output_type": "stream",
     "text": [
      "\u001b[92m2024-12-09 11:11:28,307 - INFO - Change owner address of the contract\u001b[0m\n",
      "\u001b[38;20m2024-12-09 11:11:28,309 - DEBUG - Arguments: ['erd1ss6u80ruas2phpmr82r42xnkd6rxy40g9jl69frppl4qez9w2jpsqj8x97']\u001b[0m\n",
      "\u001b[38;20m2024-12-09 11:11:28,310 - DEBUG - Calling ChangeOwnerAddress at erd1qqqqqqqqqqqqqpgqgg42sl557vh7rwt600w76pe48u64qngmkp2sl8mrfx\u001b[0m\n",
      "\u001b[38;20m2024-12-09 11:11:28,312 - DEBUG - Args: ['erd1ss6u80ruas2phpmr82r42xnkd6rxy40g9jl69frppl4qez9w2jpsqj8x97']\u001b[0m\n",
      "\u001b[38;20m2024-12-09 11:11:28,464 - DEBUG - Contract call arguments: [erd1ss6u80ruas2phpmr82r42xnkd6rxy40g9jl69frppl4qez9w2jpsqj8x97]\u001b[0m\n",
      "The transaction builders are deprecated and will be removed in a later release. Use the transaction factories instead.\n",
      "\u001b[92m2024-12-09 11:11:28,619 - INFO - View this transaction in the MultiversX Mainnet Explorer: https://explorer.multiversx.com/transactions/f49decb55ac782cc91fa0dacf8750ab487f21e17912fb103947f5cc940581711\u001b[0m\n"
     ]
    },
    {
     "data": {
      "text/plain": [
       "'f49decb55ac782cc91fa0dacf8750ab487f21e17912fb103947f5cc940581711'"
      ]
     },
     "execution_count": 5,
     "metadata": {},
     "output_type": "execute_result"
    }
   ],
   "source": [
    "kwakegld_farm_contract.change_owner_address(context.deployer_account, context.network_provider.proxy, new_owner)"
   ]
  },
  {
   "cell_type": "markdown",
   "metadata": {},
   "source": [
    "Take ownership"
   ]
  },
  {
   "cell_type": "code",
   "execution_count": null,
   "metadata": {},
   "outputs": [],
   "source": [
    "old_owner = \"erd19uysnnzwnzm3klq8qzv7zprw2d3yj38hx0ac9cuqvl0j2jr5kp2sflvmyv\""
   ]
  },
  {
   "cell_type": "code",
   "execution_count": null,
   "metadata": {},
   "outputs": [],
   "source": [
    "mexusdc_farm_contract.update_owner_or_admin(context.deployer_account, context.network_provider.proxy, old_owner)"
   ]
  },
  {
   "cell_type": "code",
   "execution_count": null,
   "metadata": {},
   "outputs": [],
   "source": [
    "kwakegld_farm_contract.update_owner_or_admin(context.deployer_account, context.network_provider.proxy, old_owner)"
   ]
  },
  {
   "cell_type": "markdown",
   "metadata": {},
   "source": [
    "EGLDMEX farm config"
   ]
  },
  {
   "cell_type": "code",
   "execution_count": null,
   "metadata": {},
   "outputs": [],
   "source": [
    "mexusdc_pair_contract.whitelist_contract(context.deployer_account, context.network_provider.proxy, mexusdc_farm_contract.address)"
   ]
  },
  {
   "cell_type": "code",
   "execution_count": null,
   "metadata": {},
   "outputs": [],
   "source": [
    "energy_factory.add_sc_to_whitelist(context.deployer_account, context.network_provider.proxy, mexusdc_farm_contract.address)"
   ]
  },
  {
   "cell_type": "code",
   "execution_count": null,
   "metadata": {},
   "outputs": [],
   "source": [
    "energy_factory.set_transfer_role_locked_token(context.deployer_account, context.network_provider.proxy, [mexusdc_farm_contract.address])"
   ]
  },
  {
   "cell_type": "markdown",
   "metadata": {},
   "source": [
    "KWAKEGLD farm config"
   ]
  },
  {
   "cell_type": "code",
   "execution_count": null,
   "metadata": {},
   "outputs": [],
   "source": [
    "kwakegld_pair_contract.whitelist_contract(context.deployer_account, context.network_provider.proxy, kwakegld_farm_contract.address)"
   ]
  },
  {
   "cell_type": "code",
   "execution_count": null,
   "metadata": {},
   "outputs": [],
   "source": [
    "energy_factory.add_sc_to_whitelist(context.deployer_account, context.network_provider.proxy, kwakegld_farm_contract.address)"
   ]
  },
  {
   "cell_type": "code",
   "execution_count": null,
   "metadata": {},
   "outputs": [],
   "source": [
    "energy_factory.set_transfer_role_locked_token(context.deployer_account, context.network_provider.proxy, [kwakegld_farm_contract.address])"
   ]
  },
  {
   "cell_type": "markdown",
   "metadata": {},
   "source": [
    "Position creator whitelist"
   ]
  },
  {
   "cell_type": "code",
   "execution_count": null,
   "metadata": {},
   "outputs": [],
   "source": [
    "mexusdc_farm_contract.add_contract_to_whitelist(context.deployer_account, context.network_provider.proxy, position_creator_contract.address)"
   ]
  },
  {
   "cell_type": "code",
   "execution_count": null,
   "metadata": {},
   "outputs": [],
   "source": [
    "kwakegld_farm_contract.add_contract_to_whitelist(context.deployer_account, context.network_provider.proxy, position_creator_contract.address)"
   ]
  },
  {
   "cell_type": "markdown",
   "metadata": {},
   "source": [
    "Farm rewards distribution"
   ]
  },
  {
   "cell_type": "code",
   "execution_count": null,
   "metadata": {},
   "outputs": [],
   "source": [
    "import json\n",
    "\n",
    "rewards_config_file = \"emission_rewards_24_12_06.json\"\n",
    "log_warning(f\"Reading rewards config from {rewards_config_file}\")\n",
    "\n",
    "# load the rewards json file\n",
    "with open(rewards_config_file) as f:\n",
    "    emission_rewards = json.load(f)"
   ]
  },
  {
   "cell_type": "code",
   "execution_count": null,
   "metadata": {},
   "outputs": [],
   "source": [
    "from tools.runners.farm_runner import get_farm_addresses_from_chain\n",
    "from utils.utils_generic import get_continue_confirmation\n",
    "from utils.utils_chain import get_account_key, string_to_hex\n",
    "\n",
    "# set the rewards\n",
    "farm_addresses = get_farm_addresses_from_chain(\"v2\")\n",
    "log_step_pass(f\"Retrieved {len(farm_addresses)} farm addresses.\")\n",
    "if get_continue_confirmation():\n",
    "    for farm_address in farm_addresses:\n",
    "        farm_contract: FarmContract\n",
    "        farm_contract = FarmContract.load_contract_by_address(farm_address)\n",
    "        log_step_pass(f\"Setting rewards for farm {farm_contract.farmToken} {farm_contract.address}\")\n",
    "        \n",
    "        if farm_contract.farmToken not in emission_rewards:\n",
    "            log_step_fail(f\"Farm token {farm_contract.farmToken} not found in rewards config. Skipping.\")\n",
    "            continue\n",
    "\n",
    "        new_rewards = emission_rewards[farm_contract.farmToken] * 10**18\n",
    "        log_warning(f\"New rewards: {new_rewards:,}\")\n",
    "\n",
    "        if not new_rewards:\n",
    "            new_rewards = 1     # can't set 0 rpb\n",
    "            # check if rewards producing is stopped, otherwise offer to stop it\n",
    "            rewards_enabled = get_account_key(farm_address, string_to_hex(\"produce_rewards_enabled\"), context.network_provider.proxy)\n",
    "            if rewards_enabled == \"01\":\n",
    "                log_warning(f\"Produce rewards enabled for farm {farm_contract.farmToken}. Want to stop?\")\n",
    "                if get_continue_confirmation():\n",
    "                    tx_hash = farm_contract.end_produce_rewards(context.deployer_account, context.network_provider.proxy)\n",
    "                    if not context.network_provider.check_simple_tx_status(tx_hash, f\"stop rewards for: {farm_address}\"):\n",
    "                        if not get_continue_confirmation():\n",
    "                            break\n",
    "                \n",
    "        # if not get_continue_confirmation():\n",
    "        #      break\n",
    "        tx_hash = farm_contract.set_rewards_per_block(context.deployer_account, context.network_provider.proxy, new_rewards)\n",
    "        if not context.network_provider.check_simple_tx_status(tx_hash, f\"set rewards per block for: {farm_address}\"):\n",
    "                if not get_continue_confirmation():\n",
    "                    break"
   ]
  },
  {
   "cell_type": "markdown",
   "metadata": {},
   "source": [
    "Fees collector rewards distribution"
   ]
  },
  {
   "cell_type": "code",
   "execution_count": null,
   "metadata": {},
   "outputs": [],
   "source": [
    "new_rewards = emission_rewards[\"FEESCOLLECTOR\"] * 10**18\n",
    "log_warning(f\"New fees collector rewards: {new_rewards:,}\")\n",
    "tx_hash = fees_collector_contract.set_locked_tokens_per_block(context.deployer_account, context.network_provider.proxy, new_rewards)\n",
    "context.network_provider.check_simple_tx_status(tx_hash, f\"set fees collector rewards per block\")"
   ]
  },
  {
   "cell_type": "markdown",
   "metadata": {},
   "source": [
    "Start new farms"
   ]
  },
  {
   "cell_type": "code",
   "execution_count": null,
   "metadata": {},
   "outputs": [],
   "source": [
    "mexusdc_farm_contract.resume(context.deployer_account, context.network_provider.proxy)"
   ]
  },
  {
   "cell_type": "code",
   "execution_count": null,
   "metadata": {},
   "outputs": [],
   "source": [
    "foxsy_farm_contract.resume(context.deployer_account, context.network_provider.proxy)"
   ]
  },
  {
   "cell_type": "code",
   "execution_count": null,
   "metadata": {},
   "outputs": [],
   "source": [
    "kwakegld_farm_contract.resume(context.deployer_account, context.network_provider.proxy)"
   ]
  },
  {
   "cell_type": "markdown",
   "metadata": {},
   "source": [
    "Set rewards per block"
   ]
  },
  {
   "cell_type": "code",
   "execution_count": null,
   "metadata": {},
   "outputs": [],
   "source": [
    "mexusdc_farm_contract.set_rewards_per_block(context.deployer_account, context.network_provider.proxy, 10400 * 10**18)"
   ]
  },
  {
   "cell_type": "code",
   "execution_count": null,
   "metadata": {},
   "outputs": [],
   "source": [
    "foxsy_farm_contract.set_rewards_per_block(context.deployer_account, context.network_provider.proxy, 2600 * 10**18)"
   ]
  },
  {
   "cell_type": "code",
   "execution_count": null,
   "metadata": {},
   "outputs": [],
   "source": [
    "kwakegld_farm_contract.set_rewards_per_block(context.deployer_account, context.network_provider.proxy, 1300 * 10**18)"
   ]
  },
  {
   "cell_type": "markdown",
   "metadata": {},
   "source": [
    "Set rewards active for new farms"
   ]
  },
  {
   "cell_type": "code",
   "execution_count": null,
   "metadata": {},
   "outputs": [],
   "source": [
    "mexusdc_farm_contract.start_produce_rewards(context.deployer_account, context.network_provider.proxy)"
   ]
  },
  {
   "cell_type": "code",
   "execution_count": null,
   "metadata": {},
   "outputs": [],
   "source": [
    "foxsy_farm_contract.start_produce_rewards(context.deployer_account, context.network_provider.proxy)"
   ]
  },
  {
   "cell_type": "code",
   "execution_count": null,
   "metadata": {},
   "outputs": [],
   "source": [
    "kwakegld_farm_contract.start_produce_rewards(context.deployer_account, context.network_provider.proxy)"
   ]
  }
 ],
 "metadata": {
  "kernelspec": {
   "display_name": "venv",
   "language": "python",
   "name": "python3"
  },
  "language_info": {
   "codemirror_mode": {
    "name": "ipython",
    "version": 3
   },
   "file_extension": ".py",
   "mimetype": "text/x-python",
   "name": "python",
   "nbconvert_exporter": "python",
   "pygments_lexer": "ipython3",
   "version": "3.12.3"
  },
  "orig_nbformat": 4
 },
 "nbformat": 4,
 "nbformat_minor": 2
}
