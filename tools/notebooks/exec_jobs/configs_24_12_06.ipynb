{
 "cells": [
  {
   "cell_type": "code",
   "execution_count": null,
   "metadata": {},
   "outputs": [],
   "source": [
    "import sys\n",
    "from pathlib import Path\n",
    "sys.path.append(str(Path.cwd().parent.parent.parent.absolute()))\n",
    "import config\n",
    "from context import Context\n",
    "from contracts.farm_contract import FarmContract\n",
    "from contracts.pair_contract import PairContract\n",
    "from contracts.simple_lock_energy_contract import SimpleLockEnergyContract\n",
    "from contracts.position_creator_contract import PositionCreatorContract\n",
    "from contracts.fees_collector_contract import FeesCollectorContract\n",
    "from utils.utils_generic import log_warning, log_step_pass, log_step_fail\n",
    "context = Context()\n",
    "fees_collector_contract: FeesCollectorContract\n",
    "fees_collector_contract = context.get_contracts(config.FEES_COLLECTORS)[0]\n",
    "log_step_pass(f\"Fees collector contract: {fees_collector_contract.address}\")"
   ]
  },
  {
   "cell_type": "code",
   "execution_count": null,
   "metadata": {},
   "outputs": [],
   "source": [
    "MEXUSDC_POOL_ADDRESS = \"erd1qqqqqqqqqqqqqpgqv0c22xku4vd5ugfh0u53tqufmdkqx5nv2jps8vsccx\"\n",
    "KWAKEGLD_POOL_ADDRESS = \"erd1qqqqqqqqqqqqqpgqthhxe87ulznhhm72jekexj9rwqzu3zsv2jps88erau\"\n",
    "\n",
    "mexusdc_pair_contract = PairContract.load_contract_by_address(MEXUSDC_POOL_ADDRESS)\n",
    "kwakegld_pair_contract = PairContract.load_contract_by_address(KWAKEGLD_POOL_ADDRESS)\n",
    "\n",
    "log_warning(f'Pair contract: {mexusdc_pair_contract.lpToken} {mexusdc_pair_contract.address}')\n",
    "log_warning(f'Pair contract: {kwakegld_pair_contract.lpToken} {kwakegld_pair_contract.address}')\n",
    "\n",
    "energy_factory: SimpleLockEnergyContract\n",
    "energy_factory = context.get_contracts(config.SIMPLE_LOCKS_ENERGY)[0]\n",
    "\n",
    "mexusdc_farm_contract = FarmContract.load_contract_by_address(\"erd1qqqqqqqqqqqqqpgqzfy62c66hjuu9lm2c9mr4gcver9lmnydkp2st70eq5\")\n",
    "foxsy_farm_contract = FarmContract.load_contract_by_address(\"erd1qqqqqqqqqqqqqpgqu288dj3qgrelujal5wynsv5zrf7u0hwlkp2se383n7\")\n",
    "kwakegld_farm_contract = FarmContract.load_contract_by_address(\"erd1qqqqqqqqqqqqqpgqgg42sl557vh7rwt600w76pe48u64qngmkp2sl8mrfx\")\n",
    "log_warning(f'New MEXUSC Farm contract: {mexusdc_farm_contract.farmToken}')\n",
    "log_warning(f'New FOXSY Farm contract: {foxsy_farm_contract.farmToken}')\n",
    "log_warning(f'New KWAKEGLD Farm contract: {kwakegld_farm_contract.farmToken}')\n",
    "\n",
    "position_creator_contract: PositionCreatorContract\n",
    "position_creator_contract = context.get_contracts(config.POSITION_CREATOR)[0]"
   ]
  },
  {
   "cell_type": "markdown",
   "metadata": {},
   "source": [
    "Change owners"
   ]
  },
  {
   "cell_type": "code",
   "execution_count": null,
   "metadata": {},
   "outputs": [],
   "source": [
    "new_owner = \"erd1ss6u80ruas2phpmr82r42xnkd6rxy40g9jl69frppl4qez9w2jpsqj8x97\""
   ]
  },
  {
   "cell_type": "code",
   "execution_count": null,
   "metadata": {},
   "outputs": [],
   "source": [
    "mexusdc_farm_contract.change_owner_address(context.deployer_account, context.network_provider.proxy, new_owner)"
   ]
  },
  {
   "cell_type": "code",
   "execution_count": null,
   "metadata": {},
   "outputs": [],
   "source": [
    "kwakegld_farm_contract.change_owner_address(context.deployer_account, context.network_provider.proxy, new_owner)"
   ]
  },
  {
   "cell_type": "markdown",
   "metadata": {},
   "source": [
    "Take ownership"
   ]
  },
  {
   "cell_type": "code",
   "execution_count": null,
   "metadata": {},
   "outputs": [],
   "source": [
    "old_owner = \"erd19uysnnzwnzm3klq8qzv7zprw2d3yj38hx0ac9cuqvl0j2jr5kp2sflvmyv\""
   ]
  },
  {
   "cell_type": "code",
   "execution_count": null,
   "metadata": {},
   "outputs": [],
   "source": [
    "mexusdc_farm_contract.update_owner_or_admin(context.deployer_account, context.network_provider.proxy, old_owner)"
   ]
  },
  {
   "cell_type": "code",
   "execution_count": null,
   "metadata": {},
   "outputs": [],
   "source": [
    "kwakegld_farm_contract.update_owner_or_admin(context.deployer_account, context.network_provider.proxy, old_owner)"
   ]
  },
  {
   "cell_type": "markdown",
   "metadata": {},
   "source": [
    "EGLDMEX farm config"
   ]
  },
  {
   "cell_type": "code",
   "execution_count": null,
   "metadata": {},
   "outputs": [],
   "source": [
    "mexusdc_pair_contract.whitelist_contract(context.deployer_account, context.network_provider.proxy, mexusdc_farm_contract.address)"
   ]
  },
  {
   "cell_type": "code",
   "execution_count": null,
   "metadata": {},
   "outputs": [],
   "source": [
    "energy_factory.add_sc_to_whitelist(context.deployer_account, context.network_provider.proxy, mexusdc_farm_contract.address)"
   ]
  },
  {
   "cell_type": "code",
   "execution_count": null,
   "metadata": {},
   "outputs": [],
   "source": [
    "energy_factory.set_transfer_role_locked_token(context.deployer_account, context.network_provider.proxy, [mexusdc_farm_contract.address])"
   ]
  },
  {
   "cell_type": "markdown",
   "metadata": {},
   "source": [
    "KWAKEGLD farm config"
   ]
  },
  {
   "cell_type": "code",
   "execution_count": null,
   "metadata": {},
   "outputs": [],
   "source": [
    "kwakegld_pair_contract.whitelist_contract(context.deployer_account, context.network_provider.proxy, kwakegld_farm_contract.address)"
   ]
  },
  {
   "cell_type": "code",
   "execution_count": null,
   "metadata": {},
   "outputs": [],
   "source": [
    "energy_factory.add_sc_to_whitelist(context.deployer_account, context.network_provider.proxy, kwakegld_farm_contract.address)"
   ]
  },
  {
   "cell_type": "code",
   "execution_count": null,
   "metadata": {},
   "outputs": [],
   "source": [
    "energy_factory.set_transfer_role_locked_token(context.deployer_account, context.network_provider.proxy, [kwakegld_farm_contract.address])"
   ]
  },
  {
   "cell_type": "markdown",
   "metadata": {},
   "source": [
    "Position creator whitelist"
   ]
  },
  {
   "cell_type": "code",
   "execution_count": null,
   "metadata": {},
   "outputs": [],
   "source": [
    "mexusdc_farm_contract.add_contract_to_whitelist(context.deployer_account, context.network_provider.proxy, position_creator_contract.address)"
   ]
  },
  {
   "cell_type": "code",
   "execution_count": null,
   "metadata": {},
   "outputs": [],
   "source": [
    "kwakegld_farm_contract.add_contract_to_whitelist(context.deployer_account, context.network_provider.proxy, position_creator_contract.address)"
   ]
  },
  {
   "cell_type": "markdown",
   "metadata": {},
   "source": [
    "Farm rewards distribution"
   ]
  },
  {
   "cell_type": "code",
   "execution_count": null,
   "metadata": {},
   "outputs": [],
   "source": [
    "import json\n",
    "\n",
    "rewards_config_file = \"emission_rewards_24_12_06.json\"\n",
    "log_warning(f\"Reading rewards config from {rewards_config_file}\")\n",
    "\n",
    "# load the rewards json file\n",
    "with open(rewards_config_file) as f:\n",
    "    emission_rewards = json.load(f)"
   ]
  },
  {
   "cell_type": "code",
   "execution_count": null,
   "metadata": {},
   "outputs": [],
   "source": [
    "from tools.runners.farm_runner import get_farm_addresses_from_chain\n",
    "from utils.utils_generic import get_continue_confirmation\n",
    "from utils.utils_chain import get_account_key, string_to_hex\n",
    "\n",
    "# set the rewards\n",
    "farm_addresses = get_farm_addresses_from_chain(\"v2\")\n",
    "log_step_pass(f\"Retrieved {len(farm_addresses)} farm addresses.\")\n",
    "if get_continue_confirmation():\n",
    "    for farm_address in farm_addresses:\n",
    "        farm_contract: FarmContract\n",
    "        farm_contract = FarmContract.load_contract_by_address(farm_address)\n",
    "        log_step_pass(f\"Setting rewards for farm {farm_contract.farmToken} {farm_contract.address}\")\n",
    "        \n",
    "        if farm_contract.farmToken not in emission_rewards:\n",
    "            log_step_fail(f\"Farm token {farm_contract.farmToken} not found in rewards config. Skipping.\")\n",
    "            continue\n",
    "\n",
    "        new_rewards = emission_rewards[farm_contract.farmToken] * 10**18\n",
    "        log_warning(f\"New rewards: {new_rewards:,}\")\n",
    "\n",
    "        if not new_rewards:\n",
    "            new_rewards = 1     # can't set 0 rpb\n",
    "            # check if rewards producing is stopped, otherwise offer to stop it\n",
    "            rewards_enabled = get_account_key(farm_address, string_to_hex(\"produce_rewards_enabled\"), context.network_provider.proxy)\n",
    "            if rewards_enabled == \"01\":\n",
    "                log_warning(f\"Produce rewards enabled for farm {farm_contract.farmToken}. Want to stop?\")\n",
    "                if get_continue_confirmation():\n",
    "                    tx_hash = farm_contract.end_produce_rewards(context.deployer_account, context.network_provider.proxy)\n",
    "                    if not context.network_provider.check_simple_tx_status(tx_hash, f\"stop rewards for: {farm_address}\"):\n",
    "                        if not get_continue_confirmation():\n",
    "                            break\n",
    "                \n",
    "        # if not get_continue_confirmation():\n",
    "        #      break\n",
    "        tx_hash = farm_contract.set_rewards_per_block(context.deployer_account, context.network_provider.proxy, new_rewards)\n",
    "        if not context.network_provider.check_simple_tx_status(tx_hash, f\"set rewards per block for: {farm_address}\"):\n",
    "                if not get_continue_confirmation():\n",
    "                    break"
   ]
  },
  {
   "cell_type": "markdown",
   "metadata": {},
   "source": [
    "Fees collector rewards distribution"
   ]
  },
  {
   "cell_type": "code",
   "execution_count": null,
   "metadata": {},
   "outputs": [],
   "source": [
    "new_rewards = emission_rewards[\"FEESCOLLECTOR\"] * 10**18\n",
    "log_warning(f\"New fees collector rewards: {new_rewards:,}\")\n",
    "tx_hash = fees_collector_contract.set_locked_tokens_per_block(context.deployer_account, context.network_provider.proxy, new_rewards)\n",
    "context.network_provider.check_simple_tx_status(tx_hash, f\"set fees collector rewards per block\")"
   ]
  },
  {
   "cell_type": "markdown",
   "metadata": {},
   "source": [
    "Start new farms"
   ]
  },
  {
   "cell_type": "code",
   "execution_count": null,
   "metadata": {},
   "outputs": [],
   "source": [
    "mexusdc_farm_contract.resume(context.deployer_account, context.network_provider.proxy)"
   ]
  },
  {
   "cell_type": "code",
   "execution_count": null,
   "metadata": {},
   "outputs": [],
   "source": [
    "foxsy_farm_contract.resume(context.deployer_account, context.network_provider.proxy)"
   ]
  },
  {
   "cell_type": "code",
   "execution_count": null,
   "metadata": {},
   "outputs": [],
   "source": [
    "kwakegld_farm_contract.resume(context.deployer_account, context.network_provider.proxy)"
   ]
  },
  {
   "cell_type": "markdown",
   "metadata": {},
   "source": [
    "Set rewards per block"
   ]
  },
  {
   "cell_type": "code",
   "execution_count": null,
   "metadata": {},
   "outputs": [],
   "source": [
    "mexusdc_farm_contract.set_rewards_per_block(context.deployer_account, context.network_provider.proxy, 10400 * 10**18)"
   ]
  },
  {
   "cell_type": "code",
   "execution_count": null,
   "metadata": {},
   "outputs": [],
   "source": [
    "foxsy_farm_contract.set_rewards_per_block(context.deployer_account, context.network_provider.proxy, 2600 * 10**18)"
   ]
  },
  {
   "cell_type": "code",
   "execution_count": null,
   "metadata": {},
   "outputs": [],
   "source": [
    "kwakegld_farm_contract.set_rewards_per_block(context.deployer_account, context.network_provider.proxy, 1300 * 10**18)"
   ]
  },
  {
   "cell_type": "markdown",
   "metadata": {},
   "source": [
    "Set rewards active for new farms"
   ]
  },
  {
   "cell_type": "code",
   "execution_count": null,
   "metadata": {},
   "outputs": [],
   "source": [
    "mexusdc_farm_contract.start_produce_rewards(context.deployer_account, context.network_provider.proxy)"
   ]
  },
  {
   "cell_type": "code",
   "execution_count": null,
   "metadata": {},
   "outputs": [],
   "source": [
    "foxsy_farm_contract.start_produce_rewards(context.deployer_account, context.network_provider.proxy)"
   ]
  },
  {
   "cell_type": "code",
   "execution_count": null,
   "metadata": {},
   "outputs": [],
   "source": [
    "kwakegld_farm_contract.start_produce_rewards(context.deployer_account, context.network_provider.proxy)"
   ]
  }
 ],
 "metadata": {
  "kernelspec": {
   "display_name": "venv",
   "language": "python",
   "name": "python3"
  },
  "language_info": {
   "codemirror_mode": {
    "name": "ipython",
    "version": 3
   },
   "file_extension": ".py",
   "mimetype": "text/x-python",
   "name": "python",
   "nbconvert_exporter": "python",
   "pygments_lexer": "ipython3",
   "version": "3.12.3"
  },
  "orig_nbformat": 4
 },
 "nbformat": 4,
 "nbformat_minor": 2
}
