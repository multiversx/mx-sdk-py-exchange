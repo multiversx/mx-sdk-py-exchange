{
 "cells": [
  {
   "cell_type": "markdown",
   "metadata": {},
   "source": [
    "### Setup"
   ]
  },
  {
   "cell_type": "code",
   "execution_count": null,
   "metadata": {},
   "outputs": [],
   "source": [
    "import sys\n",
    "from pathlib import Path\n",
    "sys.path.append(str(Path.cwd().parent.parent.parent.absolute()))\n",
    "import config\n",
    "import argparse\n",
    "from pprint import pprint\n",
    "from time import sleep\n",
    "from context import Context\n",
    "from contracts.farm_contract import FarmContract\n",
    "from contracts.staking_contract import StakingContract\n",
    "from contracts.metastaking_contract import MetaStakingContract\n",
    "from contracts.unstaker_contract import UnstakerContract\n",
    "from utils.utils_generic import get_file_from_url_or_path, get_continue_confirmation\n",
    "from utils.utils_chain import get_bytecode_codehash, base64_to_hex, WrapperAddress\n",
    "from tools.runners.farm_runner import upgrade_farmv2_contract\n",
    "from tools.runners.staking_runner import upgrade_staking_contracts\n",
    "from tools.runners.metastaking_runner import upgrade_metastaking_contract\n",
    "from tools.runners.generic_runner import upgrade_generic_contract\n",
    "\n",
    "config.DEFAULT_PROXY = \"https://gateway.multiversx.com\"\n",
    "config.DEFAULT_API = \"https://api.multiversx.com\"\n",
    "config.DEFAULT_OWNER = config.DEFAULT_WORKSPACE.absolute() / \"wallets\" / \"C1.pem\"\n",
    "config.DEFAULT_ADMIN = config.DEFAULT_WORKSPACE.absolute() / \"wallets\" / \"C1.pem\"\n",
    "\n",
    "config.DEFAULT_CONFIG_SAVE_PATH = config.DEFAULT_WORKSPACE.absolute() / \"deploy\" / \"configs-mainnet\"\n",
    "\n",
    "context = Context()"
   ]
  },
  {
   "cell_type": "code",
   "execution_count": null,
   "metadata": {},
   "outputs": [],
   "source": [
    "farm_contract = FarmContract.load_contract_by_address(\"erd1qqqqqqqqqqqqqpgqr9gx79xls33tnzt0a94uvnkf452fz26q2jpsau4ulw\")\n",
    "staking_contract = StakingContract.load_contract_by_address(\"erd1qqqqqqqqqqqqqpgqqsx29p3fge7upkgup4mm5xsdsv4w7rh82jpsdcvdrt\")\n",
    "metastaking_contract = MetaStakingContract.load_contract_by_address(\"erd1qqqqqqqqqqqqqpgqxjdlk9d8gap8q2ghey6q5cg69y7p4rkd2jpsv89u3n\")\n",
    "unstaker_contract: UnstakerContract = context.get_contracts(config.UNSTAKERS)[0]\n",
    "\n",
    "print(\"Farm contract:\")\n",
    "pprint(farm_contract.get_config_dict())\n",
    "print(\"Staking contract:\")\n",
    "pprint(staking_contract.get_config_dict())\n",
    "print(\"MetaStaking contract:\")\n",
    "pprint(metastaking_contract.get_config_dict())\n",
    "print(\"Unstaker contract:\")\n",
    "pprint(unstaker_contract.get_config_dict())"
   ]
  },
  {
   "cell_type": "markdown",
   "metadata": {},
   "source": [
    "### Operations"
   ]
  },
  {
   "cell_type": "markdown",
   "metadata": {},
   "source": [
    "Farm pause"
   ]
  },
  {
   "cell_type": "code",
   "execution_count": null,
   "metadata": {},
   "outputs": [],
   "source": [
    "context.deployer_account.sync_nonce(context.network_provider.proxy)\n",
    "tx_hash = farm_contract.pause(context.deployer_account, context.network_provider.proxy)"
   ]
  },
  {
   "cell_type": "markdown",
   "metadata": {},
   "source": [
    "Staking pause"
   ]
  },
  {
   "cell_type": "code",
   "execution_count": null,
   "metadata": {},
   "outputs": [],
   "source": [
    "context.deployer_account.sync_nonce(context.network_provider.proxy)\n",
    "tx_hash = staking_contract.pause(context.deployer_account, context.network_provider.proxy)"
   ]
  },
  {
   "cell_type": "markdown",
   "metadata": {},
   "source": [
    "Farm upgrade"
   ]
  },
  {
   "cell_type": "code",
   "execution_count": null,
   "metadata": {},
   "outputs": [],
   "source": [
    "farm_bytecode_path = \"https://github.com/multiversx/mx-exchange-sc/releases/download/v3.2.4/farm-with-locked-rewards.wasm\"\n",
    "expected_code_hash = \"c1f2a3652371510767f5d64a4df02a3eda2744d54e9d91f7680dbf1bd02d82bb\"\n",
    "\n",
    "args = argparse.Namespace(address=farm_contract.address, bytecode=farm_bytecode_path, compare_states=True, all=False)\n",
    "upgrade_farmv2_contract(args)\n",
    "\n",
    "code_hash = context.network_provider.proxy.get_account(WrapperAddress(farm_contract.address)).code_hash\n",
    "assert base64_to_hex(code_hash) == expected_code_hash"
   ]
  },
  {
   "cell_type": "markdown",
   "metadata": {},
   "source": [
    "Staking upgrade"
   ]
  },
  {
   "cell_type": "code",
   "execution_count": null,
   "metadata": {},
   "outputs": [],
   "source": [
    "staking_bytecode_path = \"https://github.com/multiversx/mx-exchange-sc/releases/download/v3.2.4/farm-staking.wasm\"\n",
    "expected_code_hash = \"7eddcb67bef25c4a0c7de0c3e1b2444cbf84e05546ac61c29726b568f9efffde\"\n",
    "\n",
    "args = argparse.Namespace(address=staking_contract.address, bytecode=staking_bytecode_path, compare_states=True, all=False)\n",
    "upgrade_staking_contracts(args)\n",
    "\n",
    "code_hash = context.network_provider.proxy.get_account(WrapperAddress(staking_contract.address)).code_hash\n",
    "assert base64_to_hex(code_hash) == expected_code_hash"
   ]
  },
  {
   "cell_type": "markdown",
   "metadata": {},
   "source": [
    "Metastaking upgrade"
   ]
  },
  {
   "cell_type": "code",
   "execution_count": null,
   "metadata": {},
   "outputs": [],
   "source": [
    "metastaking_bytecode_path = \"https://github.com/multiversx/mx-exchange-sc/releases/download/v3.2.4/farm-staking-proxy.wasm\"\n",
    "expected_code_hash = \"8a605fa8539f193a49d267ce73f9010904796d6b930ea7e4e09f9b4d9da1af9f\"\n",
    "\n",
    "args = argparse.Namespace(address=metastaking_contract.address, bytecode=metastaking_bytecode_path, compare_states=True, all=False)\n",
    "upgrade_metastaking_contract(args)\n",
    "\n",
    "code_hash = context.network_provider.proxy.get_account(WrapperAddress(metastaking_contract.address)).code_hash\n",
    "assert base64_to_hex(code_hash) == expected_code_hash"
   ]
  },
  {
   "cell_type": "markdown",
   "metadata": {},
   "source": [
    "Unstaker upgrade"
   ]
  },
  {
   "cell_type": "code",
   "execution_count": null,
   "metadata": {},
   "outputs": [],
   "source": [
    "unstaker_bytecode_path = \"https://github.com/multiversx/mx-exchange-sc/releases/download/v3.2.4/token-unstake.wasm\"\n",
    "expected_code_hash = \"b22c402e39ba46d6b0521d51e99e51c277b7cbf87c3795953754c084320c6300\"\n",
    "\n",
    "args = argparse.Namespace(address=unstaker_contract.address, bytecode=unstaker_bytecode_path, compare_states=True, all=False)\n",
    "upgrade_generic_contract(args)\n",
    "\n",
    "code_hash = context.network_provider.proxy.get_account(WrapperAddress(unstaker_contract.address)).code_hash\n",
    "assert base64_to_hex(code_hash) == expected_code_hash"
   ]
  },
  {
   "cell_type": "markdown",
   "metadata": {},
   "source": [
    "Farm resume"
   ]
  },
  {
   "cell_type": "code",
   "execution_count": null,
   "metadata": {},
   "outputs": [],
   "source": [
    "context.deployer_account.sync_nonce(context.network_provider.proxy)\n",
    "tx_hash = farm_contract.resume(context.deployer_account, context.network_provider.proxy)"
   ]
  },
  {
   "cell_type": "markdown",
   "metadata": {},
   "source": [
    "Staking resume"
   ]
  },
  {
   "cell_type": "code",
   "execution_count": null,
   "metadata": {},
   "outputs": [],
   "source": [
    "context.deployer_account.sync_nonce(context.network_provider.proxy)\n",
    "tx_hash = staking_contract.resume(context.deployer_account, context.network_provider.proxy)"
   ]
  },
  {
   "cell_type": "markdown",
   "metadata": {},
   "source": [
    "Unstaker burn fees reduction"
   ]
  },
  {
   "cell_type": "code",
   "execution_count": null,
   "metadata": {},
   "outputs": [],
   "source": [
    "context.deployer_account.sync_nonce(context.network_provider.proxy)\n",
    "tx_hash = unstaker_contract.set_fees_burn_percentage(context.deployer_account, context.network_provider.proxy, [0])"
   ]
  }
 ],
 "metadata": {
  "kernelspec": {
   "display_name": "venv",
   "language": "python",
   "name": "python3"
  },
  "language_info": {
   "codemirror_mode": {
    "name": "ipython",
    "version": 3
   },
   "file_extension": ".py",
   "mimetype": "text/x-python",
   "name": "python",
   "nbconvert_exporter": "python",
   "pygments_lexer": "ipython3",
   "version": "3.12.3"
  }
 },
 "nbformat": 4,
 "nbformat_minor": 2
}
