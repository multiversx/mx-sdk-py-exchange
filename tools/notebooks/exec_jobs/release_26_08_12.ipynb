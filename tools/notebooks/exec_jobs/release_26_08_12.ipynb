{
 "cells": [
  {
   "cell_type": "markdown",
   "metadata": {},
   "source": [
    "### Setup"
   ]
  },
  {
   "cell_type": "code",
   "execution_count": null,
   "metadata": {},
   "outputs": [],
   "source": [
    "import sys\n",
    "import os\n",
    "from pathlib import Path\n",
    "sys.path.append(str(Path.cwd().parent.parent.absolute()))\n",
    "os.environ[\"MX_DEX_ENV\"] = \"mainnet\"\n",
    "import config\n",
    "from context import Context\n",
    "\n",
    "context = Context()"
   ]
  },
  {
   "cell_type": "code",
   "execution_count": null,
   "metadata": {},
   "outputs": [],
   "source": [
    "from contracts.router_contract import RouterContract\n",
    "from utils.utils_chain import WrapperAddress\n",
    "\n",
    "bytecode = \"\"\n",
    "expected_codehash = \"\"\n",
    "\n",
    "router_contract: RouterContract = context.get_contracts(config.ROUTER_V2)[0]\n",
    "router_contract.contract_upgrade(context.deployer_account, context.network_provider.proxy, bytecode)\n",
    "\n",
    "new_codehash = context.network_provider.proxy.get_account(WrapperAddress(router_contract.address)).contract_code_hash.hex()\n",
    "assert new_codehash == expected_codehash"
   ]
  }
 ],
 "metadata": {
  "kernelspec": {
   "display_name": "venv",
   "language": "python",
   "name": "python3"
  },
  "language_info": {
   "codemirror_mode": {
    "name": "ipython",
    "version": 3
   },
   "file_extension": ".py",
   "mimetype": "text/x-python",
   "name": "python",
   "nbconvert_exporter": "python",
   "pygments_lexer": "ipython3",
   "version": "3.12.3"
  }
 },
 "nbformat": 4,
 "nbformat_minor": 2
}
