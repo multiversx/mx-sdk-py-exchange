{
 "cells": [
  {
   "cell_type": "markdown",
   "metadata": {},
   "source": [
    "### Setup"
   ]
  },
  {
   "cell_type": "code",
   "execution_count": null,
   "metadata": {},
   "outputs": [],
   "source": [
    "import sys\n",
    "import os\n",
    "from pathlib import Path\n",
    "sys.path.append(str(Path.cwd().parent.parent.absolute()))\n",
    "os.environ[\"MX_DEX_ENV\"] = \"mainnet\"\n",
    "import config\n",
    "from context import Context\n",
    "\n",
    "context = Context()"
   ]
  },
  {
   "cell_type": "code",
   "execution_count": null,
   "metadata": {},
   "outputs": [],
   "source": [
    "from contracts.router_contract import RouterContract\n",
    "from utils.utils_chain import WrapperAddress\n",
    "\n",
    "bytecode = \"https://github.com/multiversx/mx-exchange-sc/releases/download/v3.3.3/router.wasm\"\n",
    "expected_codehash = \"43729ada074ba1444e216c1138725cf1a29719178313c1e95fa108001ea79f9d\"\n",
    "\n",
    "router_contract: RouterContract = context.get_contracts(config.ROUTER_V2)[0]\n",
    "router_contract.contract_upgrade(context.deployer_account, context.network_provider.proxy, bytecode)\n",
    "\n",
    "new_codehash = context.network_provider.proxy.get_account(WrapperAddress(router_contract.address)).contract_code_hash.hex()\n",
    "assert new_codehash == expected_codehash"
   ]
  }
 ],
 "metadata": {
  "kernelspec": {
   "display_name": "venv",
   "language": "python",
   "name": "python3"
  },
  "language_info": {
   "codemirror_mode": {
    "name": "ipython",
    "version": 3
   },
   "file_extension": ".py",
   "mimetype": "text/x-python",
   "name": "python",
   "nbconvert_exporter": "python",
   "pygments_lexer": "ipython3",
   "version": "3.12.3"
  }
 },
 "nbformat": 4,
 "nbformat_minor": 2
}
