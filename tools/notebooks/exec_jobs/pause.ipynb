{
 "cells": [
  {
   "cell_type": "code",
   "execution_count": null,
   "metadata": {},
   "outputs": [],
   "source": [
    "import sys\n",
    "from pathlib import Path\n",
    "sys.path.append(str(Path.cwd().parent.parent.parent.absolute()))\n",
    "import config\n",
    "import argparse\n",
    "from pprint import pprint\n",
    "from tools.runners.farm_runner import upgrade_farmv2_contracts, get_all_farm_v2_addresses, fetch_and_save_farms_from_chain,\\\n",
    "    pause_farm_contracts, resume_farm_contracts\n",
    "from tools.runners.staking_runner import upgrade_staking_contracts, get_staking_addresses_from_chain,\\\n",
    "    pause_all_staking_contracts, resume_all_staking_contracts, fetch_and_save_stakings_from_chain\n",
    "from tools.runners.metastaking_runner import upgrade_metastaking_v2_contracts, get_metastaking_v2_addresses,\\\n",
    "    fetch_and_save_metastakings_from_chain\n",
    "from tools.runners.energy_factory_runner import upgrade_energy_factory, pause_energy_factory, resume_energy_factory\n",
    "from tools.runners.pair_runner import fetch_and_save_pairs_from_chain, pause_pair_contracts\n",
    "from tools.runner import fetch_and_save_pause_state\n",
    "from utils.utils_chain import WrapperAddress, base64_to_hex\n",
    "from contracts.farm_contract import FarmContract\n",
    "from contracts.staking_contract import StakingContract\n",
    "from contracts.metastaking_contract import MetaStakingContract\n",
    "from contracts.simple_lock_energy_contract import SimpleLockEnergyContract\n",
    "\n",
    "from context import Context\n",
    "\n",
    "context = Context()"
   ]
  },
  {
   "cell_type": "markdown",
   "metadata": {},
   "source": [
    "Check owner balance for required minimum"
   ]
  },
  {
   "cell_type": "code",
   "execution_count": null,
   "metadata": {},
   "outputs": [],
   "source": [
    "current_balance = context.network_provider.proxy.get_account(context.deployer_account.address).balance\n",
    "assert current_balance > 20 * 10 ** 18, \"Deployer account doesn't have enough balance\""
   ]
  },
  {
   "cell_type": "markdown",
   "metadata": {},
   "source": [
    "Clean outputs folder"
   ]
  },
  {
   "cell_type": "code",
   "execution_count": 2,
   "metadata": {},
   "outputs": [],
   "source": [
    "import shutil\n",
    "if config.UPGRADER_OUTPUT_FOLDER.exists():\n",
    "    shutil.rmtree(config.UPGRADER_OUTPUT_FOLDER)"
   ]
  },
  {
   "cell_type": "markdown",
   "metadata": {},
   "source": [
    "Prep contract pause states"
   ]
  },
  {
   "cell_type": "code",
   "execution_count": null,
   "metadata": {},
   "outputs": [],
   "source": [
    "fetch_and_save_pairs_from_chain(\"\")"
   ]
  },
  {
   "cell_type": "code",
   "execution_count": null,
   "metadata": {},
   "outputs": [],
   "source": [
    "fetch_and_save_pause_state(\"\")"
   ]
  },
  {
   "cell_type": "markdown",
   "metadata": {},
   "source": [
    "Pause contracts"
   ]
  },
  {
   "cell_type": "code",
   "execution_count": null,
   "metadata": {},
   "outputs": [],
   "source": [
    "pause_pair_contracts(\"\")"
   ]
  },
  {
   "cell_type": "code",
   "execution_count": null,
   "metadata": {},
   "outputs": [],
   "source": [
    "pause_energy_factory(\"\")"
   ]
  },
  {
   "cell_type": "markdown",
   "metadata": {},
   "source": [
    "Resume contracts"
   ]
  },
  {
   "cell_type": "code",
   "execution_count": null,
   "metadata": {},
   "outputs": [],
   "source": [
    "resume_energy_factory(\"\")"
   ]
  }
 ],
 "metadata": {
  "kernelspec": {
   "display_name": "venv",
   "language": "python",
   "name": "python3"
  },
  "language_info": {
   "codemirror_mode": {
    "name": "ipython",
    "version": 3
   },
   "file_extension": ".py",
   "mimetype": "text/x-python",
   "name": "python",
   "nbconvert_exporter": "python",
   "pygments_lexer": "ipython3",
   "version": "3.13.3"
  }
 },
 "nbformat": 4,
 "nbformat_minor": 2
}
