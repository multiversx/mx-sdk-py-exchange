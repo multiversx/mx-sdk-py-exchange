{
 "cells": [
  {
   "cell_type": "code",
   "execution_count": null,
   "metadata": {},
   "outputs": [],
   "source": [
    "import sys\n",
    "from pathlib import Path\n",
    "sys.path.append(str(Path.cwd().parent.parent.parent.absolute()))\n",
    "import config\n",
    "from context import Context\n",
    "from contracts.farm_contract import FarmContract\n",
    "from contracts.simple_lock_energy_contract import SimpleLockEnergyContract\n",
    "from contracts.pair_contract import PairContract\n",
    "from utils.utils_generic import log_warning, log_step_pass, log_step_fail\n",
    "\n",
    "context = Context()\n",
    "energy_contract: SimpleLockEnergyContract\n",
    "energy_contract = context.get_contracts(config.SIMPLE_LOCKS_ENERGY)[0]\n",
    "\n",
    "log_step_pass(f\"Energy contract: {energy_contract.address}\")\n",
    "\n",
    "ush_farm_contract = FarmContract.load_contract_by_address(\"erd1qqqqqqqqqqqqqpgqx6qadfnrgfqkgfmq5nj92j3u2qm2yfs9kp2say42ng\")\n",
    "ush_pair_contract = PairContract.load_contract_by_address(\"erd1qqqqqqqqqqqqqpgqyghvzwv9qyzq95vwhvk4tafg945r8hcf2jps0x7me7\")"
   ]
  },
  {
   "cell_type": "markdown",
   "metadata": {},
   "source": [
    "### Farm rewards distribution"
   ]
  },
  {
   "cell_type": "code",
   "execution_count": null,
   "metadata": {},
   "outputs": [],
   "source": [
    "import json\n",
    "\n",
    "rewards_config_file = \"emission_rewards_25_03_13.json\"\n",
    "log_warning(f\"Reading rewards config from {rewards_config_file}\")\n",
    "\n",
    "# load the rewards json file\n",
    "with open(rewards_config_file) as f:\n",
    "    emission_rewards = json.load(f)"
   ]
  },
  {
   "cell_type": "code",
   "execution_count": null,
   "metadata": {},
   "outputs": [],
   "source": [
    "from tools.runners.farm_runner import get_farm_addresses_from_chain\n",
    "from utils.utils_generic import get_continue_confirmation\n",
    "from utils.utils_chain import get_account_key, string_to_hex\n",
    "\n",
    "# set the rewards\n",
    "farm_addresses = get_farm_addresses_from_chain(\"v2\")\n",
    "log_step_pass(f\"Retrieved {len(farm_addresses)} farm addresses.\")\n",
    "if get_continue_confirmation():\n",
    "    for farm_address in farm_addresses:\n",
    "        try:\n",
    "            farm_contract: FarmContract\n",
    "            farm_contract = FarmContract.load_contract_by_address(farm_address)\n",
    "            log_step_pass(f\"Setting rewards for farm {farm_contract.farmToken} {farm_contract.address}\")\n",
    "        except AttributeError as e:\n",
    "            log_step_fail(f\"Failed to load farm contract {farm_address}: {e}\")\n",
    "            if not get_continue_confirmation():\n",
    "                break\n",
    "            continue\n",
    "        \n",
    "        if farm_contract.farmToken not in emission_rewards:\n",
    "            current_rpb = farm_contract.get_per_block_reward_amount(context.network_provider.proxy)\n",
    "            log_step_fail(f\"Farm token {farm_contract.farmToken} not found in rewards config. \\nCurrent rewards: {current_rpb:,}. \\nSkipping.\")\n",
    "            continue\n",
    "\n",
    "        new_rewards = emission_rewards[farm_contract.farmToken] * 10**18\n",
    "        log_warning(f\"New rewards: {new_rewards:,}\")\n",
    "\n",
    "        if not new_rewards:\n",
    "            new_rewards = 1     # can't set 0 rpb\n",
    "            # check if rewards producing is stopped, otherwise offer to stop it\n",
    "            rewards_enabled = get_account_key(farm_address, string_to_hex(\"produce_rewards_enabled\"), context.network_provider.proxy)\n",
    "            if rewards_enabled == \"01\":\n",
    "                log_warning(f\"Produce rewards enabled for farm {farm_contract.farmToken}. Want to stop?\")\n",
    "                if get_continue_confirmation():\n",
    "                    tx_hash = farm_contract.end_produce_rewards(context.deployer_account, context.network_provider.proxy)\n",
    "                    if not context.network_provider.check_simple_tx_status(tx_hash, f\"stop rewards for: {farm_address}\"):\n",
    "                        if not get_continue_confirmation():\n",
    "                            break\n",
    "                \n",
    "        # if not get_continue_confirmation():\n",
    "        #      break\n",
    "        current_rpb = farm_contract.get_per_block_reward_amount(context.network_provider.proxy)\n",
    "        if current_rpb == new_rewards:\n",
    "            log_warning(f\"Rewards for farm {farm_contract.farmToken} are already set to {new_rewards:,}. Skipping.\")\n",
    "            continue\n",
    "\n",
    "        tx_hash = farm_contract.set_rewards_per_block(context.deployer_account, context.network_provider.proxy, new_rewards)\n",
    "        if not context.network_provider.check_simple_tx_status(tx_hash, f\"set rewards per block for: {farm_address}\"):\n",
    "                if not get_continue_confirmation():\n",
    "                    break\n",
    "\n",
    "log_step_pass(\"All done.\")"
   ]
  },
  {
   "cell_type": "markdown",
   "metadata": {},
   "source": [
    "### MEXUSH farm setup"
   ]
  },
  {
   "cell_type": "code",
   "execution_count": null,
   "metadata": {},
   "outputs": [],
   "source": [
    "tx_hash = ush_farm_contract.update_owner_or_admin(context.deployer_account, context.network_provider.proxy, \"erd19uysnnzwnzm3klq8qzv7zprw2d3yj38hx0ac9cuqvl0j2jr5kp2sflvmyv\")\n",
    "tx_hash = ush_pair_contract.whitelist_contract(context.deployer_account, context.network_provider.proxy, ush_farm_contract.address)\n",
    "tx_hash = energy_contract.add_sc_to_whitelist(context.deployer_account, context.network_provider.proxy, ush_farm_contract.address)\n",
    "tx_hash = energy_contract.set_transfer_role_locked_token(context.deployer_account, context.network_provider.proxy, [ush_farm_contract.address])"
   ]
  },
  {
   "cell_type": "code",
   "execution_count": null,
   "metadata": {},
   "outputs": [],
   "source": [
    "tx_hash = ush_farm_contract.set_rewards_per_block(context.deployer_account, context.network_provider.proxy, 10000 * 10**18)"
   ]
  },
  {
   "cell_type": "code",
   "execution_count": null,
   "metadata": {},
   "outputs": [],
   "source": [
    "tx_hash = ush_farm_contract.resume(context.deployer_account, context.network_provider.proxy)"
   ]
  },
  {
   "cell_type": "code",
   "execution_count": null,
   "metadata": {},
   "outputs": [],
   "source": [
    "tx_hash = ush_farm_contract.start_produce_rewards(context.deployer_account, context.network_provider.proxy)"
   ]
  }
 ],
 "metadata": {
  "kernelspec": {
   "display_name": "venv",
   "language": "python",
   "name": "python3"
  },
  "language_info": {
   "codemirror_mode": {
    "name": "ipython",
    "version": 3
   },
   "file_extension": ".py",
   "mimetype": "text/x-python",
   "name": "python",
   "nbconvert_exporter": "python",
   "pygments_lexer": "ipython3",
   "version": "3.12.3"
  },
  "orig_nbformat": 4
 },
 "nbformat": 4,
 "nbformat_minor": 2
}
