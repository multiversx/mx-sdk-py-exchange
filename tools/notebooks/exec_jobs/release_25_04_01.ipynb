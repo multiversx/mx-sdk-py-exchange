{
 "cells": [
  {
   "cell_type": "code",
   "execution_count": null,
   "metadata": {},
   "outputs": [],
   "source": [
    "import sys\n",
    "from pathlib import Path\n",
    "sys.path.append(str(Path.cwd().parent.parent.parent.absolute()))\n",
    "import config\n",
    "import argparse\n",
    "from pprint import pprint\n",
    "from tools.runners.farm_runner import upgrade_farmv2_contracts, get_all_farm_v2_addresses, fetch_and_save_farms_from_chain,\\\n",
    "    pause_farm_contracts, resume_farm_contracts\n",
    "from tools.runners.staking_runner import upgrade_staking_contracts, get_staking_addresses_from_chain,\\\n",
    "    pause_all_staking_contracts, resume_all_staking_contracts, fetch_and_save_stakings_from_chain\n",
    "from tools.runners.metastaking_runner import upgrade_metastaking_v2_contracts, get_metastaking_v2_addresses,\\\n",
    "    fetch_and_save_metastakings_from_chain\n",
    "from tools.runners.energy_factory_runner import upgrade_energy_factory, pause_energy_factory, resume_energy_factory\n",
    "from tools.runner import fetch_and_save_pause_state\n",
    "from utils.utils_chain import WrapperAddress, base64_to_hex\n",
    "from contracts.farm_contract import FarmContract\n",
    "from contracts.staking_contract import StakingContract\n",
    "from contracts.metastaking_contract import MetaStakingContract\n",
    "from contracts.simple_lock_energy_contract import SimpleLockEnergyContract\n",
    "\n",
    "from context import Context\n",
    "\n",
    "context = Context()"
   ]
  },
  {
   "cell_type": "markdown",
   "metadata": {},
   "source": [
    "Move ownership of any lingering contract"
   ]
  },
  {
   "cell_type": "markdown",
   "metadata": {},
   "source": [
    "Prep contract pause states"
   ]
  },
  {
   "cell_type": "code",
   "execution_count": null,
   "metadata": {},
   "outputs": [],
   "source": [
    "fetch_and_save_farms_from_chain(\"\")"
   ]
  },
  {
   "cell_type": "code",
   "execution_count": null,
   "metadata": {},
   "outputs": [],
   "source": [
    "fetch_and_save_stakings_from_chain(\"\")"
   ]
  },
  {
   "cell_type": "code",
   "execution_count": null,
   "metadata": {},
   "outputs": [],
   "source": [
    "fetch_and_save_metastakings_from_chain(\"\")"
   ]
  },
  {
   "cell_type": "code",
   "execution_count": null,
   "metadata": {},
   "outputs": [],
   "source": [
    "fetch_and_save_pause_state(\"\")"
   ]
  },
  {
   "cell_type": "markdown",
   "metadata": {},
   "source": [
    "Pause contracts"
   ]
  },
  {
   "cell_type": "code",
   "execution_count": null,
   "metadata": {},
   "outputs": [],
   "source": [
    "pause_farm_contracts(\"\")"
   ]
  },
  {
   "cell_type": "code",
   "execution_count": null,
   "metadata": {},
   "outputs": [],
   "source": [
    "pause_all_staking_contracts(\"\")"
   ]
  },
  {
   "cell_type": "code",
   "execution_count": null,
   "metadata": {},
   "outputs": [],
   "source": [
    "pause_energy_factory(\"\")"
   ]
  },
  {
   "cell_type": "markdown",
   "metadata": {},
   "source": [
    "Upgrade farm contracts"
   ]
  },
  {
   "cell_type": "code",
   "execution_count": null,
   "metadata": {},
   "outputs": [],
   "source": [
    "farm_bytecode_path = \"https://github.com/multiversx/mx-exchange-sc/releases/download/v3.2.4/farm-with-locked-rewards.wasm\"\n",
    "expected_code_hash = \"c1f2a3652371510767f5d64a4df02a3eda2744d54e9d91f7680dbf1bd02d82bb\"\n",
    "\n",
    "args = argparse.Namespace(bytecode=farm_bytecode_path, compare_states=True)\n",
    "upgrade_farmv2_contracts(args)\n",
    "\n",
    "farm_addresses = get_all_farm_v2_addresses()\n",
    "print(f\"Checking {len(farm_addresses)} farm contracts for correct code hash...\")\n",
    "for address in farm_addresses:\n",
    "    code_hash = context.network_provider.proxy.get_account(WrapperAddress(address)).code_hash\n",
    "    assert base64_to_hex(code_hash) == expected_code_hash\n",
    "print(\"Done!\")"
   ]
  },
  {
   "cell_type": "markdown",
   "metadata": {},
   "source": [
    "Upgrade staking contracts"
   ]
  },
  {
   "cell_type": "code",
   "execution_count": null,
   "metadata": {},
   "outputs": [],
   "source": [
    "staking_bytecode_path = \"https://github.com/multiversx/mx-exchange-sc/releases/download/v3.2.4/farm-staking.wasm\"\n",
    "expected_code_hash = \"7eddcb67bef25c4a0c7de0c3e1b2444cbf84e05546ac61c29726b568f9efffde\"\n",
    "\n",
    "args = argparse.Namespace(bytecode=staking_bytecode_path, compare_states=True, all=True)\n",
    "upgrade_staking_contracts(args)\n",
    "\n",
    "staking_addresses = get_staking_addresses_from_chain()\n",
    "print(f\"Checking {len(staking_addresses)} staking contracts for correct code hash...\")\n",
    "for address in staking_addresses:\n",
    "    code_hash = context.network_provider.proxy.get_account(WrapperAddress(address)).code_hash\n",
    "    assert base64_to_hex(code_hash) == expected_code_hash\n",
    "print(\"Done!\")"
   ]
  },
  {
   "cell_type": "markdown",
   "metadata": {},
   "source": [
    "Upgrade proxy staking contracts"
   ]
  },
  {
   "cell_type": "code",
   "execution_count": null,
   "metadata": {},
   "outputs": [],
   "source": [
    "proxy_staking_bytecode_path = \"https://github.com/multiversx/mx-exchange-sc/releases/download/v3.2.4/farm-staking-proxy.wasm\"\n",
    "expected_code_hash = \"7eddcb67bef25c4a0c7de0c3e1b2444cbf84e05546ac61c29726b568f9efffde\"\n",
    "\n",
    "args = argparse.Namespace(bytecode=proxy_staking_bytecode_path, compare_states=True, all=True)\n",
    "upgrade_metastaking_v2_contracts(args)\n",
    "\n",
    "proxy_staking_addresses = get_metastaking_v2_addresses()\n",
    "print(f\"Checking {len(proxy_staking_addresses)} proxy-staking contracts for correct code hash...\")\n",
    "for address in proxy_staking_addresses:\n",
    "    code_hash = context.network_provider.proxy.get_account(WrapperAddress(address)).code_hash\n",
    "    assert base64_to_hex(code_hash) == expected_code_hash\n",
    "print(\"Done!\")"
   ]
  },
  {
   "cell_type": "markdown",
   "metadata": {},
   "source": [
    "Add permission hub in contracts"
   ]
  },
  {
   "cell_type": "code",
   "execution_count": null,
   "metadata": {},
   "outputs": [],
   "source": [
    "permissions_hub_contract = context.get_contracts(config.PERMISSIONS_HUBS)[0]\n",
    "pprint(permissions_hub_contract.get_config_dict())"
   ]
  },
  {
   "cell_type": "code",
   "execution_count": null,
   "metadata": {},
   "outputs": [],
   "source": [
    "context.deployer_account.sync_nonce(context.network_provider.proxy)\n",
    "for address in farm_addresses:\n",
    "    contract = FarmContract.load_contract_by_address(address)\n",
    "    contract.set_permissions_hub_address(context.deployer_account, context.network_provider.proxy, permissions_hub_contract.address)"
   ]
  },
  {
   "cell_type": "code",
   "execution_count": null,
   "metadata": {},
   "outputs": [],
   "source": [
    "context.deployer_account.sync_nonce(context.network_provider.proxy)\n",
    "for address in staking_addresses:\n",
    "    contract = StakingContract.load_contract_by_address(address)\n",
    "    contract.set_permissions_hub_address(context.deployer_account, context.network_provider.proxy, permissions_hub_contract.address)"
   ]
  },
  {
   "cell_type": "code",
   "execution_count": null,
   "metadata": {},
   "outputs": [],
   "source": [
    "context.deployer_account.sync_nonce(context.network_provider.proxy)\n",
    "for address in proxy_staking_addresses:\n",
    "    contract = MetaStakingContract.load_contract_by_address(address)\n",
    "    contract.set_permissions_hub_address(context.deployer_account, context.network_provider.proxy, permissions_hub_contract.address)"
   ]
  },
  {
   "cell_type": "markdown",
   "metadata": {},
   "source": [
    "Upgrade energy contract"
   ]
  },
  {
   "cell_type": "code",
   "execution_count": null,
   "metadata": {},
   "outputs": [],
   "source": [
    "energy_factory_bytecode_path = \"https://github.com/multiversx/mx-exchange-sc/releases/download/v3.2.4/simple-lock-energy.wasm\"\n",
    "expected_code_hash = \"c1f2a3652371510767f5d64a4df02a3eda2744d54e9d91f7680dbf1bd02d82bb\"\n",
    "\n",
    "args = argparse.Namespace(bytecode=energy_factory_bytecode_path, compare_states=True)\n",
    "upgrade_energy_factory(args)\n",
    "\n",
    "print(f\"Checking energy contract for correct code hash...\")\n",
    "code_hash = context.network_provider.proxy.get_account(WrapperAddress(context.get_contracts(config.SIMPLE_LOCKS_ENERGY)[0].address)).code_hash\n",
    "assert base64_to_hex(code_hash) == expected_code_hash\n",
    "print(\"Done!\")"
   ]
  },
  {
   "cell_type": "markdown",
   "metadata": {},
   "source": [
    "Set multisig address for collection"
   ]
  },
  {
   "cell_type": "code",
   "execution_count": null,
   "metadata": {},
   "outputs": [],
   "source": [
    "multisig_address = \"erd1\""
   ]
  },
  {
   "cell_type": "code",
   "execution_count": null,
   "metadata": {},
   "outputs": [],
   "source": [
    "context.deployer_account.sync_nonce(context.network_provider.proxy)\n",
    "energy_contract: SimpleLockEnergyContract = context.get_contracts(config.SIMPLE_LOCKS_ENERGY)[0]\n",
    "WrapperAddress(multisig_address)    # just to check if the address is valid\n",
    "energy_contract.set_multisig_address(context.deployer_account, context.network_provider.proxy, multisig_address)"
   ]
  },
  {
   "cell_type": "markdown",
   "metadata": {},
   "source": [
    "Add farms into unlocked whitelist"
   ]
  },
  {
   "cell_type": "code",
   "execution_count": null,
   "metadata": {},
   "outputs": [],
   "source": [
    "farm_addresses = get_all_farm_v2_addresses()\n",
    "energy_contract.add_sc_to_unlocked_token_mint_whitelist(context.deployer_account, context.network_provider.proxy, farm_addresses)"
   ]
  },
  {
   "cell_type": "markdown",
   "metadata": {},
   "source": [
    "Resume contracts"
   ]
  },
  {
   "cell_type": "code",
   "execution_count": null,
   "metadata": {},
   "outputs": [],
   "source": [
    "resume_energy_factory(\"\")"
   ]
  },
  {
   "cell_type": "code",
   "execution_count": null,
   "metadata": {},
   "outputs": [],
   "source": [
    "resume_farm_contracts(\"\")"
   ]
  },
  {
   "cell_type": "code",
   "execution_count": null,
   "metadata": {},
   "outputs": [],
   "source": [
    "resume_all_staking_contracts(\"\")"
   ]
  }
 ],
 "metadata": {
  "kernelspec": {
   "display_name": "venv",
   "language": "python",
   "name": "python3"
  },
  "language_info": {
   "codemirror_mode": {
    "name": "ipython",
    "version": 3
   },
   "file_extension": ".py",
   "mimetype": "text/x-python",
   "name": "python",
   "nbconvert_exporter": "python",
   "pygments_lexer": "ipython3",
   "version": "3.12.3"
  }
 },
 "nbformat": 4,
 "nbformat_minor": 2
}
