{
 "cells": [
  {
   "cell_type": "code",
   "execution_count": null,
   "metadata": {},
   "outputs": [],
   "source": [
    "import sys\n",
    "from pathlib import Path\n",
    "sys.path.append(str(Path.cwd().parent.parent.parent.absolute()))\n",
    "import config\n",
    "import argparse\n",
    "from pprint import pprint\n",
    "from tools.runners.farm_runner import upgrade_farmv2_contracts, get_all_farm_v2_addresses, fetch_and_save_farms_from_chain,\\\n",
    "    pause_farm_contracts, resume_farm_contracts\n",
    "from tools.runners.staking_runner import upgrade_staking_contracts, get_staking_addresses_from_chain,\\\n",
    "    pause_all_staking_contracts, resume_all_staking_contracts, fetch_and_save_stakings_from_chain\n",
    "from tools.runners.metastaking_runner import upgrade_metastaking_v2_contracts, get_metastaking_v2_addresses,\\\n",
    "    fetch_and_save_metastakings_from_chain\n",
    "from tools.runners.energy_factory_runner import upgrade_energy_factory, pause_energy_factory, resume_energy_factory\n",
    "from tools.runner import fetch_and_save_pause_state\n",
    "from utils.utils_chain import WrapperAddress, base64_to_hex\n",
    "from contracts.farm_contract import FarmContract\n",
    "from contracts.staking_contract import StakingContract\n",
    "from contracts.metastaking_contract import MetaStakingContract\n",
    "from contracts.simple_lock_energy_contract import SimpleLockEnergyContract\n",
    "\n",
    "from context import Context\n",
    "\n",
    "context = Context()"
   ]
  },
  {
   "cell_type": "markdown",
   "metadata": {},
   "source": [
    "Check owner balance for required minimum"
   ]
  },
  {
   "cell_type": "code",
   "execution_count": null,
   "metadata": {},
   "outputs": [],
   "source": [
    "current_balance = context.network_provider.proxy.get_account(context.deployer_account.address).balance\n",
    "assert current_balance > 20 * 10 ** 18, \"Deployer account doesn't have enough balance\""
   ]
  },
  {
   "cell_type": "markdown",
   "metadata": {},
   "source": [
    "Clean outputs folder"
   ]
  },
  {
   "cell_type": "code",
   "execution_count": null,
   "metadata": {},
   "outputs": [],
   "source": [
    "import shutil\n",
    "if config.UPGRADER_OUTPUT_FOLDER.exists():\n",
    "    shutil.rmtree(config.UPGRADER_OUTPUT_FOLDER)"
   ]
  },
  {
   "cell_type": "markdown",
   "metadata": {},
   "source": [
    "Move ownership of any lingering contract"
   ]
  },
  {
   "cell_type": "code",
   "execution_count": null,
   "metadata": {},
   "outputs": [],
   "source": [
    "context.deployer_account.sync_nonce(context.network_provider.proxy)\n",
    "\n",
    "contracts_to_transfer = [\n",
    "    \"erd1qqqqqqqqqqqqqpgqv9h8yej6gdddmpdcad96fukxgutvr2sfkp2s7pe5gg\",\n",
    "    \"erd1qqqqqqqqqqqqqpgqf0tlpqkkg7e6mc76ayap6wynktnfmdzmkp2sc67v5w\",\n",
    "    \"erd1qqqqqqqqqqqqqpgqazrruw6kh5cr3xdumyqx49ac09gr5sj7kp2s30u6hl\"\n",
    "]\n",
    "\n",
    "# for contract_address in contracts_to_transfer:\n",
    "#     transfer_contract = StakingContract.load_contract_by_address(contract_address)\n",
    "#     transfer_contract.change_owner_address(context.deployer_account, context.network_provider.proxy, \"erd1ss6u80ruas2phpmr82r42xnkd6rxy40g9jl69frppl4qez9w2jpsqj8x97\")\n",
    "\n",
    "for contract_address in contracts_to_transfer:\n",
    "    transfer_contract = StakingContract.load_contract_by_address(contract_address)\n",
    "    transfer_contract.update_owner_or_admin(context.deployer_account, context.network_provider.proxy, \"erd19uysnnzwnzm3klq8qzv7zprw2d3yj38hx0ac9cuqvl0j2jr5kp2sflvmyv\")"
   ]
  },
  {
   "cell_type": "markdown",
   "metadata": {},
   "source": [
    "Prep contract pause states"
   ]
  },
  {
   "cell_type": "code",
   "execution_count": null,
   "metadata": {},
   "outputs": [],
   "source": [
    "fetch_and_save_farms_from_chain(\"\")"
   ]
  },
  {
   "cell_type": "code",
   "execution_count": null,
   "metadata": {},
   "outputs": [],
   "source": [
    "fetch_and_save_stakings_from_chain(\"\")"
   ]
  },
  {
   "cell_type": "code",
   "execution_count": null,
   "metadata": {},
   "outputs": [],
   "source": [
    "fetch_and_save_metastakings_from_chain(\"\")"
   ]
  },
  {
   "cell_type": "code",
   "execution_count": null,
   "metadata": {},
   "outputs": [],
   "source": [
    "fetch_and_save_pause_state(\"\")"
   ]
  },
  {
   "cell_type": "markdown",
   "metadata": {},
   "source": [
    "Pause contracts"
   ]
  },
  {
   "cell_type": "code",
   "execution_count": null,
   "metadata": {},
   "outputs": [],
   "source": [
    "pause_farm_contracts(\"\")"
   ]
  },
  {
   "cell_type": "code",
   "execution_count": null,
   "metadata": {},
   "outputs": [],
   "source": [
    "pause_all_staking_contracts(\"\")"
   ]
  },
  {
   "cell_type": "code",
   "execution_count": null,
   "metadata": {},
   "outputs": [],
   "source": [
    "pause_energy_factory(\"\")"
   ]
  },
  {
   "cell_type": "markdown",
   "metadata": {},
   "source": [
    "Upgrade farm contracts"
   ]
  },
  {
   "cell_type": "code",
   "execution_count": null,
   "metadata": {},
   "outputs": [],
   "source": [
    "farm_bytecode_path = \"https://github.com/multiversx/mx-exchange-sc/releases/download/v3.3.1-rc1/farm-with-locked-rewards.wasm\"\n",
    "expected_code_hash = \"78c4451db7425405e85b638a556043c143878ee1f3fc542f424d8f9aba1a61ee\"\n",
    "\n",
    "args = argparse.Namespace(bytecode=farm_bytecode_path, compare_states=True)\n",
    "upgrade_farmv2_contracts(args)\n",
    "\n",
    "farm_addresses = get_all_farm_v2_addresses()\n",
    "print(f\"Checking {len(farm_addresses)} farm contracts for correct code hash...\")\n",
    "for address in farm_addresses:\n",
    "    code_hash = context.network_provider.proxy.get_account(WrapperAddress(address)).code_hash\n",
    "    assert base64_to_hex(code_hash) == expected_code_hash, f\"Code hash mismatch for {address}\"\n",
    "print(\"Done!\")"
   ]
  },
  {
   "cell_type": "markdown",
   "metadata": {},
   "source": [
    "Upgrade staking contracts"
   ]
  },
  {
   "cell_type": "code",
   "execution_count": null,
   "metadata": {},
   "outputs": [],
   "source": [
    "staking_bytecode_path = \"https://github.com/multiversx/mx-exchange-sc/releases/download/v3.3.1-rc1/farm-staking.wasm\"\n",
    "expected_code_hash = \"551a8a2ac4265a60109e270008eeb4f1804dc5e4ca3080819b0108f3de62322b\"\n",
    "\n",
    "args = argparse.Namespace(bytecode=staking_bytecode_path, compare_states=True, all=True)\n",
    "upgrade_staking_contracts(args)\n",
    "\n",
    "staking_addresses = get_staking_addresses_from_chain()\n",
    "print(f\"Checking {len(staking_addresses)} staking contracts for correct code hash...\")\n",
    "for address in staking_addresses:\n",
    "    code_hash = context.network_provider.proxy.get_account(WrapperAddress(address)).code_hash\n",
    "    assert base64_to_hex(code_hash) == expected_code_hash, f\"Code hash mismatch for {address}\"\n",
    "print(\"Done!\")"
   ]
  },
  {
   "cell_type": "markdown",
   "metadata": {},
   "source": [
    "Upgrade proxy staking contracts"
   ]
  },
  {
   "cell_type": "code",
   "execution_count": null,
   "metadata": {},
   "outputs": [],
   "source": [
    "proxy_staking_bytecode_path = \"https://github.com/multiversx/mx-exchange-sc/releases/download/v3.3.1-rc1/farm-staking-proxy.wasm\"\n",
    "expected_code_hash = \"4bc92913dd5a8d07d2dc8525804ba8bdf6d3d51a955dd3ae0ab14393e6e8cb23\"\n",
    "\n",
    "args = argparse.Namespace(bytecode=proxy_staking_bytecode_path, compare_states=True, all=True)\n",
    "upgrade_metastaking_v2_contracts(args)\n",
    "\n",
    "proxy_staking_addresses = get_metastaking_v2_addresses()\n",
    "print(f\"Checking {len(proxy_staking_addresses)} proxy-staking contracts for correct code hash...\")\n",
    "for address in proxy_staking_addresses:\n",
    "    code_hash = context.network_provider.proxy.get_account(WrapperAddress(address)).code_hash\n",
    "    assert base64_to_hex(code_hash) == expected_code_hash, f\"Code hash mismatch for {address}\"\n",
    "print(\"Done!\")"
   ]
  },
  {
   "cell_type": "markdown",
   "metadata": {},
   "source": [
    "Add permission hub in contracts"
   ]
  },
  {
   "cell_type": "code",
   "execution_count": null,
   "metadata": {},
   "outputs": [],
   "source": [
    "permissions_hub_contract = context.get_contracts(config.PERMISSIONS_HUBS)[0]\n",
    "pprint(permissions_hub_contract.get_config_dict())"
   ]
  },
  {
   "cell_type": "code",
   "execution_count": null,
   "metadata": {},
   "outputs": [],
   "source": [
    "context.deployer_account.sync_nonce(context.network_provider.proxy)\n",
    "farm_addresses = get_all_farm_v2_addresses()\n",
    "for address in farm_addresses:\n",
    "    contract = FarmContract.load_contract_by_address(address)\n",
    "    contract.set_permissions_hub_address(context.deployer_account, context.network_provider.proxy, permissions_hub_contract.address)"
   ]
  },
  {
   "cell_type": "code",
   "execution_count": null,
   "metadata": {},
   "outputs": [],
   "source": [
    "context.deployer_account.sync_nonce(context.network_provider.proxy)\n",
    "staking_addresses = get_staking_addresses_from_chain()\n",
    "for address in staking_addresses:\n",
    "    contract = StakingContract.load_contract_by_address(address)\n",
    "    contract.set_permissions_hub_address(context.deployer_account, context.network_provider.proxy, permissions_hub_contract.address)"
   ]
  },
  {
   "cell_type": "code",
   "execution_count": null,
   "metadata": {},
   "outputs": [],
   "source": [
    "context.deployer_account.sync_nonce(context.network_provider.proxy)\n",
    "proxy_staking_addresses = get_metastaking_v2_addresses()\n",
    "for address in proxy_staking_addresses:\n",
    "    contract = MetaStakingContract.load_contract_by_address(address)\n",
    "    contract.set_permissions_hub_address(context.deployer_account, context.network_provider.proxy, permissions_hub_contract.address)"
   ]
  },
  {
   "cell_type": "markdown",
   "metadata": {},
   "source": [
    "Upgrade energy contract"
   ]
  },
  {
   "cell_type": "code",
   "execution_count": null,
   "metadata": {},
   "outputs": [],
   "source": [
    "energy_factory_bytecode_path = \"https://github.com/multiversx/mx-exchange-sc/releases/download/v3.3.1-rc1/energy-factory.wasm\"\n",
    "expected_code_hash = \"cec2208dc6b5a2ce74c1c59ef098b505d5da559731d7dd1c291326b224351d86\"\n",
    "\n",
    "args = argparse.Namespace(bytecode=energy_factory_bytecode_path, compare_states=False)\n",
    "upgrade_energy_factory(args)\n",
    "\n",
    "print(f\"Checking energy contract for correct code hash...\")\n",
    "code_hash = context.network_provider.proxy.get_account(WrapperAddress(context.get_contracts(config.SIMPLE_LOCKS_ENERGY)[0].address)).code_hash\n",
    "assert base64_to_hex(code_hash) == expected_code_hash\n",
    "print(\"Done!\")"
   ]
  },
  {
   "cell_type": "markdown",
   "metadata": {},
   "source": [
    "Set multisig address for collection"
   ]
  },
  {
   "cell_type": "code",
   "execution_count": 26,
   "metadata": {},
   "outputs": [],
   "source": [
    "multisig_address = \"erd1\""
   ]
  },
  {
   "cell_type": "code",
   "execution_count": null,
   "metadata": {},
   "outputs": [],
   "source": [
    "context.deployer_account.sync_nonce(context.network_provider.proxy)\n",
    "energy_contract: SimpleLockEnergyContract = context.get_contracts(config.SIMPLE_LOCKS_ENERGY)[0]\n",
    "WrapperAddress(multisig_address)    # just to check if the address is valid\n",
    "energy_contract.set_multisig_address(context.deployer_account, context.network_provider.proxy, multisig_address)"
   ]
  },
  {
   "cell_type": "markdown",
   "metadata": {},
   "source": [
    "Add farms into unlocked whitelist"
   ]
  },
  {
   "cell_type": "code",
   "execution_count": null,
   "metadata": {},
   "outputs": [],
   "source": [
    "farm_addresses = get_all_farm_v2_addresses()\n",
    "energy_contract.add_sc_to_unlocked_token_mint_whitelist(context.deployer_account, context.network_provider.proxy, farm_addresses)"
   ]
  },
  {
   "cell_type": "markdown",
   "metadata": {},
   "source": [
    "Resume contracts"
   ]
  },
  {
   "cell_type": "code",
   "execution_count": null,
   "metadata": {},
   "outputs": [],
   "source": [
    "resume_energy_factory(\"\")"
   ]
  },
  {
   "cell_type": "code",
   "execution_count": null,
   "metadata": {},
   "outputs": [],
   "source": [
    "resume_farm_contracts(\"\")"
   ]
  },
  {
   "cell_type": "code",
   "execution_count": null,
   "metadata": {},
   "outputs": [],
   "source": [
    "resume_all_staking_contracts(\"\")"
   ]
  }
 ],
 "metadata": {
  "kernelspec": {
   "display_name": "venv",
   "language": "python",
   "name": "python3"
  },
  "language_info": {
   "codemirror_mode": {
    "name": "ipython",
    "version": 3
   },
   "file_extension": ".py",
   "mimetype": "text/x-python",
   "name": "python",
   "nbconvert_exporter": "python",
   "pygments_lexer": "ipython3",
   "version": "3.12.3"
  }
 },
 "nbformat": 4,
 "nbformat_minor": 2
}
