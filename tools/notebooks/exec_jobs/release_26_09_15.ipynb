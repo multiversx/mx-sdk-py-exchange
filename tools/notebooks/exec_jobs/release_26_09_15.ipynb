{
 "cells": [
  {
   "cell_type": "markdown",
   "metadata": {},
   "source": [
    "### Setup"
   ]
  },
  {
   "cell_type": "code",
   "execution_count": null,
   "metadata": {},
   "outputs": [],
   "source": [
    "import sys\n",
    "from pathlib import Path\n",
    "import os\n",
    "import importlib\n",
    "\n",
    "os.environ[\"MX_DEX_ENV\"] = \"mainnet\"\n",
    "\n",
    "sys.path.append(str(Path.cwd().parent.parent.parent.absolute()))\n",
    "import config\n",
    "importlib.reload(config)\n",
    "from context import Context\n",
    "from utils.utils_chain import WrapperAddress\n",
    "from contracts.fees_collector_contract import FeesCollectorContract\n",
    "from contracts.simple_lock_energy_contract import SimpleLockEnergyContract\n",
    "\n",
    "context = Context()\n",
    "\n",
    "wasm_path = \"https://github.com/multiversx/mx-exchange-sc/releases/download/v3.4.1-rc5/fees-collector.wasm\"\n",
    "contract_code_hash = \"4a7f6baf4aeebd1c9892b6bafd74ee3548b04be17d23fc0d554318015568d0a9\"\n",
    "\n",
    "swap_bot = \"erd1p536zp9ndvlacsxkk6tv50uf9ql85vfhdkl9z7vv9xuw6q7rfrfsxqq72p\"\n",
    "fees_collector_contract: FeesCollectorContract = context.get_contracts(config.FEES_COLLECTORS)[0]\n",
    "energy_contract: SimpleLockEnergyContract = context.get_contracts(config.SIMPLE_LOCKS_ENERGY)[0]"
   ]
  },
  {
   "cell_type": "markdown",
   "metadata": {},
   "source": [
    "## Upgrade time"
   ]
  },
  {
   "cell_type": "markdown",
   "metadata": {},
   "source": [
    "Upgrade and setup"
   ]
  },
  {
   "cell_type": "code",
   "execution_count": null,
   "metadata": {},
   "outputs": [],
   "source": [
    "from time import sleep\n",
    "context.deployer_account.sync_nonce(context.network_provider.proxy)\n",
    "tx_hash = fees_collector_contract.contract_upgrade(context.deployer_account, context.network_provider.proxy, wasm_path, \n",
    "                                        [], \n",
    "                                        no_init=True)\n",
    "context.network_provider.check_complex_tx_status(tx_hash)\n",
    "code_hash = context.network_provider.proxy.get_account(WrapperAddress(fees_collector_contract.address)).contract_code_hash.hex()\n",
    "assert code_hash == contract_code_hash"
   ]
  },
  {
   "cell_type": "code",
   "execution_count": null,
   "metadata": {},
   "outputs": [],
   "source": [
    "fees_collector_contract.set_router_address(context.deployer_account, context.network_provider.proxy, context.get_contracts(config.ROUTER_V2)[0].address)"
   ]
  },
  {
   "cell_type": "markdown",
   "metadata": {},
   "source": [
    "Whitelist the swapping bot"
   ]
  },
  {
   "cell_type": "code",
   "execution_count": null,
   "metadata": {},
   "outputs": [],
   "source": [
    "fees_collector_contract.add_admin(context.deployer_account, context.network_provider.proxy, [swap_bot])"
   ]
  },
  {
   "cell_type": "markdown",
   "metadata": {},
   "source": [
    "Date reminder for next configs"
   ]
  },
  {
   "cell_type": "code",
   "execution_count": null,
   "metadata": {},
   "outputs": [],
   "source": [
    "from datetime import datetime, timedelta\n",
    "def get_next_week_start_epoch() -> int:\n",
    "    first_week = fees_collector_contract.get_first_week_start_epoch(context.network_provider.proxy)\n",
    "    current_week = fees_collector_contract.get_current_week(context.network_provider.proxy)\n",
    "    next_week_at_epoch = first_week + current_week * 7\n",
    "    return next_week_at_epoch\n",
    "\n",
    "# Calculate date for 5th week after upgrade\n",
    "current_epoch = context.network_provider.proxy.get_network_status().current_epoch\n",
    "rounds_per_epoch = context.network_provider.proxy.get_network_status().raw.get(\"erd_rounds_per_epoch\", 0)\n",
    "round_at_epoch_start = context.network_provider.proxy.get_network_status().raw.get(\"erd_round_at_epoch_start\", 0)\n",
    "next_epoch_in = rounds_per_epoch - (context.network_provider.proxy.get_network_status().current_round - round_at_epoch_start)\n",
    "time_at_next_epoch = timedelta(seconds=next_epoch_in * context.network_provider.proxy.get_network_config().round_duration // 1000)\n",
    "\n",
    "first_week_start = get_next_week_start_epoch()\n",
    "fifth_week_start = first_week_start + 7 * 4\n",
    "epochs_until_fifth_week = fifth_week_start - current_epoch - 1\n",
    "fifth_week_date = datetime.now() + timedelta(days=epochs_until_fifth_week) + time_at_next_epoch\n",
    "\n",
    "print(f\"Next configs will be applied in fifth week after upgrade, starting at epoch {fifth_week_start} around {fifth_week_date.strftime('%Y-%m-%d %H:%M')}\")"
   ]
  },
  {
   "cell_type": "markdown",
   "metadata": {},
   "source": [
    "## 5th week after upgrade"
   ]
  },
  {
   "cell_type": "markdown",
   "metadata": {},
   "source": [
    "Cleanup known tokens list"
   ]
  },
  {
   "cell_type": "code",
   "execution_count": null,
   "metadata": {},
   "outputs": [],
   "source": [
    "tokens = fees_collector_contract.get_reward_tokens(context.network_provider.proxy)\n",
    "tokens.remove(energy_contract.base_token)\n",
    "tokens.remove(energy_contract.locked_token)\n",
    "context.deployer_account.sync_nonce(context.network_provider.proxy)\n",
    "fees_collector_contract.remove_reward_tokens(context.deployer_account, context.network_provider.proxy, tokens)"
   ]
  },
  {
   "cell_type": "markdown",
   "metadata": {},
   "source": [
    "Set burn role for MEX"
   ]
  },
  {
   "cell_type": "code",
   "execution_count": null,
   "metadata": {},
   "outputs": [],
   "source": [
    "from contracts.builtin_contracts import ESDTContract\n",
    "esdt_contract = ESDTContract(config.TOKENS_CONTRACT_ADDRESS)\n",
    "esdt_contract.set_special_role_token(context.deployer_account, context.network_provider.proxy,\n",
    "                                            [energy_contract.base_token, fees_collector_contract.address, \"ESDTRoleLocalBurn\"])"
   ]
  },
  {
   "cell_type": "markdown",
   "metadata": {},
   "source": [
    "Modify fees for known contracts that were depositing fees"
   ]
  },
  {
   "cell_type": "code",
   "execution_count": null,
   "metadata": {},
   "outputs": [],
   "source": [
    "from contracts.pair_contract import PairContract\n",
    "known_contracts = fees_collector_contract.get_known_contracts(context.network_provider.proxy)\n",
    "print(f\"Retrieved {len(known_contracts)} known contracts.\")\n",
    "\n",
    "known_pairs = []\n",
    "for address in known_contracts:\n",
    "    mod_contract = PairContract.load_contract_by_address(address)\n",
    "    if mod_contract is None:\n",
    "        continue\n",
    "    mod_contract.add_fees_collector(context.deployer_account, context.network_provider.proxy, [fees_collector_contract.address, 100000])\n",
    "    known_pairs.append(mod_contract.address)"
   ]
  },
  {
   "cell_type": "markdown",
   "metadata": {},
   "source": [
    "Enable burn on fees collector"
   ]
  },
  {
   "cell_type": "code",
   "execution_count": null,
   "metadata": {},
   "outputs": [],
   "source": [
    "fees_collector_contract.set_base_token_burn_percent(context.deployer_account, context.network_provider.proxy, 5000)"
   ]
  },
  {
   "cell_type": "markdown",
   "metadata": {},
   "source": [
    "Cleanup the known contracts list"
   ]
  },
  {
   "cell_type": "code",
   "execution_count": null,
   "metadata": {},
   "outputs": [],
   "source": [
    "print(f\"Removing {len(known_pairs)} known contracts\")\n",
    "fees_collector_contract.remove_known_contracts(context.deployer_account, context.network_provider.proxy, known_pairs)"
   ]
  }
 ],
 "metadata": {
  "kernelspec": {
   "display_name": "venv",
   "language": "python",
   "name": "python3"
  },
  "language_info": {
   "codemirror_mode": {
    "name": "ipython",
    "version": 3
   },
   "file_extension": ".py",
   "mimetype": "text/x-python",
   "name": "python",
   "nbconvert_exporter": "python",
   "pygments_lexer": "ipython3",
   "version": "3.13.3"
  }
 },
 "nbformat": 4,
 "nbformat_minor": 2
}
