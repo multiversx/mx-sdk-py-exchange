{
 "cells": [
  {
   "cell_type": "code",
   "execution_count": null,
   "metadata": {},
   "outputs": [],
   "source": [
    "import sys\n",
    "from pathlib import Path\n",
    "sys.path.append(str(Path.cwd().parent.parent.parent.absolute()))\n",
    "import config\n",
    "from context import Context\n",
    "from contracts.farm_contract import FarmContract\n",
    "from contracts.fees_collector_contract import FeesCollectorContract\n",
    "from utils.utils_generic import log_warning, log_step_pass, log_step_fail\n",
    "context = Context()\n",
    "fees_collector_contract: FeesCollectorContract\n",
    "fees_collector_contract = context.get_contracts(config.FEES_COLLECTORS)[0]\n",
    "log_step_pass(f\"Fees collector contract: {fees_collector_contract.address}\")"
   ]
  },
  {
   "cell_type": "markdown",
   "metadata": {},
   "source": [
    "Farm rewards distribution"
   ]
  },
  {
   "cell_type": "code",
   "execution_count": null,
   "metadata": {},
   "outputs": [],
   "source": [
    "import json\n",
    "\n",
    "rewards_config_file = \"emission_rewards_24_12_12.json\"\n",
    "log_warning(f\"Reading rewards config from {rewards_config_file}\")\n",
    "\n",
    "# load the rewards json file\n",
    "with open(rewards_config_file) as f:\n",
    "    emission_rewards = json.load(f)"
   ]
  },
  {
   "cell_type": "code",
   "execution_count": null,
   "metadata": {},
   "outputs": [],
   "source": [
    "from tools.runners.farm_runner import get_farm_addresses_from_chain\n",
    "from utils.utils_generic import get_continue_confirmation\n",
    "from utils.utils_chain import get_account_key, string_to_hex\n",
    "\n",
    "# set the rewards\n",
    "farm_addresses = get_farm_addresses_from_chain(\"v2\")\n",
    "log_step_pass(f\"Retrieved {len(farm_addresses)} farm addresses.\")\n",
    "if get_continue_confirmation():\n",
    "    for farm_address in farm_addresses:\n",
    "        try:\n",
    "            farm_contract: FarmContract\n",
    "            farm_contract = FarmContract.load_contract_by_address(farm_address)\n",
    "            log_step_pass(f\"Setting rewards for farm {farm_contract.farmToken} {farm_contract.address}\")\n",
    "        except AttributeError as e:\n",
    "            log_step_fail(f\"Failed to load farm contract {farm_address}: {e}\")\n",
    "            if not get_continue_confirmation():\n",
    "                break\n",
    "            continue\n",
    "        \n",
    "        if farm_contract.farmToken not in emission_rewards:\n",
    "            current_rpb = farm_contract.get_per_block_reward_amount(context.network_provider.proxy)\n",
    "            log_step_fail(f\"Farm token {farm_contract.farmToken} not found in rewards config. \\nCurrent rewards: {current_rpb:,}. \\nSkipping.\")\n",
    "            continue\n",
    "\n",
    "        new_rewards = emission_rewards[farm_contract.farmToken] * 10**18\n",
    "        log_warning(f\"New rewards: {new_rewards:,}\")\n",
    "\n",
    "        if not new_rewards:\n",
    "            new_rewards = 1     # can't set 0 rpb\n",
    "            # check if rewards producing is stopped, otherwise offer to stop it\n",
    "            rewards_enabled = get_account_key(farm_address, string_to_hex(\"produce_rewards_enabled\"), context.network_provider.proxy)\n",
    "            if rewards_enabled == \"01\":\n",
    "                log_warning(f\"Produce rewards enabled for farm {farm_contract.farmToken}. Want to stop?\")\n",
    "                if get_continue_confirmation():\n",
    "                    tx_hash = farm_contract.end_produce_rewards(context.deployer_account, context.network_provider.proxy)\n",
    "                    if not context.network_provider.check_simple_tx_status(tx_hash, f\"stop rewards for: {farm_address}\"):\n",
    "                        if not get_continue_confirmation():\n",
    "                            break\n",
    "                \n",
    "        # if not get_continue_confirmation():\n",
    "        #      break\n",
    "        current_rpb = farm_contract.get_per_block_reward_amount(context.network_provider.proxy)\n",
    "        if current_rpb == new_rewards:\n",
    "            log_warning(f\"Rewards for farm {farm_contract.farmToken} are already set to {new_rewards:,}. Skipping.\")\n",
    "            continue\n",
    "\n",
    "        tx_hash = farm_contract.set_rewards_per_block(context.deployer_account, context.network_provider.proxy, new_rewards)\n",
    "        if not context.network_provider.check_simple_tx_status(tx_hash, f\"set rewards per block for: {farm_address}\"):\n",
    "                if not get_continue_confirmation():\n",
    "                    break\n",
    "\n",
    "log_step_pass(\"All done.\")"
   ]
  },
  {
   "cell_type": "markdown",
   "metadata": {},
   "source": [
    "Fees collector rewards distribution"
   ]
  },
  {
   "cell_type": "code",
   "execution_count": null,
   "metadata": {},
   "outputs": [],
   "source": [
    "new_rewards = emission_rewards[\"FEESCOLLECTOR\"] * 10**18\n",
    "log_warning(f\"New fees collector rewards: {new_rewards:,}\")\n",
    "tx_hash = fees_collector_contract.set_locked_tokens_per_block(context.deployer_account, context.network_provider.proxy, new_rewards)\n",
    "context.network_provider.check_simple_tx_status(tx_hash, f\"set fees collector rewards per block\")"
   ]
  }
 ],
 "metadata": {
  "kernelspec": {
   "display_name": "venv",
   "language": "python",
   "name": "python3"
  },
  "language_info": {
   "codemirror_mode": {
    "name": "ipython",
    "version": 3
   },
   "file_extension": ".py",
   "mimetype": "text/x-python",
   "name": "python",
   "nbconvert_exporter": "python",
   "pygments_lexer": "ipython3",
   "version": "3.12.3"
  },
  "orig_nbformat": 4
 },
 "nbformat": 4,
 "nbformat_minor": 2
}
