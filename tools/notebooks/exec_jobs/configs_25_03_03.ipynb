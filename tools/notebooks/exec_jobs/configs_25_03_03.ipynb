{
 "cells": [
  {
   "cell_type": "code",
   "execution_count": null,
   "metadata": {},
   "outputs": [],
   "source": [
    "import sys\n",
    "from pathlib import Path\n",
    "sys.path.append(str(Path.cwd().parent.parent.parent.absolute()))\n",
    "import config\n",
    "from context import Context\n",
    "from contracts.farm_contract import FarmContract\n",
    "from contracts.fees_collector_contract import FeesCollectorContract\n",
    "from contracts.simple_lock_energy_contract import SimpleLockEnergyContract\n",
    "from contracts.pair_contract import PairContract\n",
    "from contracts.router_contract import RouterContract\n",
    "from contracts.builtin_contracts import ESDTContract\n",
    "from utils.utils_generic import log_warning, log_step_pass, log_step_fail\n",
    "\n",
    "context = Context()\n",
    "fees_collector_contract: FeesCollectorContract\n",
    "fees_collector_contract = context.get_contracts(config.FEES_COLLECTORS)[0]\n",
    "energy_contract: SimpleLockEnergyContract\n",
    "energy_contract = context.get_contracts(config.SIMPLE_LOCKS_ENERGY)[0]\n",
    "router_contract: RouterContract\n",
    "router_contract = context.get_contracts(config.ROUTER_V2)[0]\n",
    "\n",
    "log_step_pass(f\"Fees collector contract: {fees_collector_contract.address}\")\n",
    "log_step_pass(f\"Energy contract: {energy_contract.address}\")\n",
    "log_step_pass(f\"Router contract: {router_contract.address}\")\n",
    "\n",
    "ush_farm_contract = FarmContract.load_contract_by_address(\"erd1qqqqqqqqqqqqqpgqvymupfsf40v7xgtkcgtzdnstd9x9xfgzkp2s8wnwpz\")\n",
    "ush_pair_contract = PairContract.load_contract_by_address(\"erd1qqqqqqqqqqqqqpgqs8r2jhfymgle49dqx42xyypx6r2smt602jps2kcn8f\")\n",
    "\n",
    "esdt_contract = ESDTContract(config.TOKENS_CONTRACT_ADDRESS)"
   ]
  },
  {
   "cell_type": "markdown",
   "metadata": {},
   "source": [
    "### Farm rewards distribution"
   ]
  },
  {
   "cell_type": "code",
   "execution_count": null,
   "metadata": {},
   "outputs": [],
   "source": [
    "import json\n",
    "\n",
    "rewards_config_file = \"emission_rewards_25_03_03.json\"\n",
    "log_warning(f\"Reading rewards config from {rewards_config_file}\")\n",
    "\n",
    "# load the rewards json file\n",
    "with open(rewards_config_file) as f:\n",
    "    emission_rewards = json.load(f)"
   ]
  },
  {
   "cell_type": "code",
   "execution_count": null,
   "metadata": {},
   "outputs": [],
   "source": [
    "from tools.runners.farm_runner import get_farm_addresses_from_chain\n",
    "from utils.utils_generic import get_continue_confirmation\n",
    "from utils.utils_chain import get_account_key, string_to_hex\n",
    "\n",
    "# set the rewards\n",
    "farm_addresses = get_farm_addresses_from_chain(\"v2\")\n",
    "log_step_pass(f\"Retrieved {len(farm_addresses)} farm addresses.\")\n",
    "if get_continue_confirmation():\n",
    "    for farm_address in farm_addresses:\n",
    "        try:\n",
    "            farm_contract: FarmContract\n",
    "            farm_contract = FarmContract.load_contract_by_address(farm_address)\n",
    "            log_step_pass(f\"Setting rewards for farm {farm_contract.farmToken} {farm_contract.address}\")\n",
    "        except AttributeError as e:\n",
    "            log_step_fail(f\"Failed to load farm contract {farm_address}: {e}\")\n",
    "            if not get_continue_confirmation():\n",
    "                break\n",
    "            continue\n",
    "        \n",
    "        if farm_contract.farmToken not in emission_rewards:\n",
    "            current_rpb = farm_contract.get_per_block_reward_amount(context.network_provider.proxy)\n",
    "            log_step_fail(f\"Farm token {farm_contract.farmToken} not found in rewards config. \\nCurrent rewards: {current_rpb:,}. \\nSkipping.\")\n",
    "            continue\n",
    "\n",
    "        new_rewards = emission_rewards[farm_contract.farmToken] * 10**18\n",
    "        log_warning(f\"New rewards: {new_rewards:,}\")\n",
    "\n",
    "        if not new_rewards:\n",
    "            new_rewards = 1     # can't set 0 rpb\n",
    "            # check if rewards producing is stopped, otherwise offer to stop it\n",
    "            rewards_enabled = get_account_key(farm_address, string_to_hex(\"produce_rewards_enabled\"), context.network_provider.proxy)\n",
    "            if rewards_enabled == \"01\":\n",
    "                log_warning(f\"Produce rewards enabled for farm {farm_contract.farmToken}. Want to stop?\")\n",
    "                if get_continue_confirmation():\n",
    "                    tx_hash = farm_contract.end_produce_rewards(context.deployer_account, context.network_provider.proxy)\n",
    "                    if not context.network_provider.check_simple_tx_status(tx_hash, f\"stop rewards for: {farm_address}\"):\n",
    "                        if not get_continue_confirmation():\n",
    "                            break\n",
    "                \n",
    "        # if not get_continue_confirmation():\n",
    "        #      break\n",
    "        current_rpb = farm_contract.get_per_block_reward_amount(context.network_provider.proxy)\n",
    "        if current_rpb == new_rewards:\n",
    "            log_warning(f\"Rewards for farm {farm_contract.farmToken} are already set to {new_rewards:,}. Skipping.\")\n",
    "            continue\n",
    "\n",
    "        tx_hash = farm_contract.set_rewards_per_block(context.deployer_account, context.network_provider.proxy, new_rewards)\n",
    "        if not context.network_provider.check_simple_tx_status(tx_hash, f\"set rewards per block for: {farm_address}\"):\n",
    "                if not get_continue_confirmation():\n",
    "                    break\n",
    "\n",
    "log_step_pass(\"All done.\")"
   ]
  },
  {
   "cell_type": "markdown",
   "metadata": {},
   "source": [
    "Fees collector rewards distribution"
   ]
  },
  {
   "cell_type": "code",
   "execution_count": null,
   "metadata": {},
   "outputs": [],
   "source": [
    "new_rewards = emission_rewards[\"FEESCOLLECTOR\"] * 10**18\n",
    "log_warning(f\"New fees collector rewards: {new_rewards:,}\")\n",
    "tx_hash = fees_collector_contract.set_locked_tokens_per_block(context.deployer_account, context.network_provider.proxy, new_rewards)\n",
    "context.network_provider.check_simple_tx_status(tx_hash, f\"set fees collector rewards per block\")"
   ]
  },
  {
   "cell_type": "markdown",
   "metadata": {},
   "source": [
    "### USH farm setup"
   ]
  },
  {
   "cell_type": "code",
   "execution_count": null,
   "metadata": {},
   "outputs": [],
   "source": [
    "tx_hash = ush_pair_contract.whitelist_contract(context.deployer_account, context.network_provider.proxy, ush_farm_contract.address)\n",
    "tx_hash = energy_contract.add_sc_to_whitelist(context.deployer_account, context.network_provider.proxy, ush_farm_contract.address)\n",
    "tx_hash = energy_contract.set_transfer_role_locked_token(context.deployer_account, context.network_provider.proxy, [ush_farm_contract.address])"
   ]
  },
  {
   "cell_type": "code",
   "execution_count": null,
   "metadata": {},
   "outputs": [],
   "source": [
    "tx_hash = ush_farm_contract.set_rewards_per_block(context.deployer_account, context.network_provider.proxy, 14000 * 10**18)"
   ]
  },
  {
   "cell_type": "code",
   "execution_count": null,
   "metadata": {},
   "outputs": [],
   "source": [
    "tx_hash = ush_farm_contract.resume(context.deployer_account, context.network_provider.proxy)"
   ]
  },
  {
   "cell_type": "code",
   "execution_count": null,
   "metadata": {},
   "outputs": [],
   "source": [
    "tx_hash = ush_farm_contract.start_produce_rewards(context.deployer_account, context.network_provider.proxy)"
   ]
  },
  {
   "cell_type": "markdown",
   "metadata": {},
   "source": [
    "### Pairs buyback and burn setup"
   ]
  },
  {
   "cell_type": "code",
   "execution_count": null,
   "metadata": {},
   "outputs": [],
   "source": [
    "pair_addresses = [\n",
    "    \"erd1qqqqqqqqqqqqqpgq3ugz94td483jk7rypkd2vknta8y3q26u2jpsqrxvhx\",\n",
    "    \"erd1qqqqqqqqqqqqqpgqwlfdr9heygm0t639v94ktp8hptu4qhra2jps8gtqjh\",\n",
    "    \"erd1qqqqqqqqqqqqqpgqlt8sksgnhk98pm2chnjwhz5cat7s5wy72jpsgdrmac\",\n",
    "    \"erd1qqqqqqqqqqqqqpgqh6tzuhfzl7myeq0s9eavzjh5ax9h77kt2jpsnw0yeu\",\n",
    "    \"erd1qqqqqqqqqqqqqpgqs8r2jhfymgle49dqx42xyypx6r2smt602jps2kcn8f\"\n",
    "    ]\n",
    "\n",
    "context.deployer_account.sync_nonce(context.network_provider.proxy)\n",
    "\n",
    "mex_ush_pair = PairContract.load_contract_by_address(\"erd1qqqqqqqqqqqqqpgqyghvzwv9qyzq95vwhvk4tafg945r8hcf2jps0x7me7\")\n",
    "\n",
    "# mex burn role\n",
    "tx_hash = esdt_contract.set_special_role_token(context.deployer_account, context.network_provider.proxy, [\"MEX-455c57\", mex_ush_pair.address, \"ESDTRoleLocalBurn\"])\n",
    "if not context.network_provider.check_complex_tx_status(tx_hash, f\"set burn role for MEX: {farm_address}\"):\n",
    "    if not get_continue_confirmation():\n",
    "        raise Exception(\"Failed to set burn role for MEX\")\n",
    "\n",
    "mex_ush_pair.set_fees_percents(context.deployer_account, context.network_provider.proxy,\n",
    "                                [300, 100])\n",
    "    \n",
    "mex_ush_pair.set_fee_on_via_router(context.deployer_account, context.network_provider.proxy, router_contract, \n",
    "                            [\n",
    "                                config.ZERO_CONTRACT_ADDRESS,\n",
    "                                mex_ush_pair.secondToken\n",
    "                            ])\n",
    "\n",
    "fees_collector_contract.add_known_contracts(context.deployer_account, context.network_provider.proxy,\n",
    "                                            [mex_ush_pair.address])\n",
    "\n",
    "mex_ush_pair.add_fees_collector(context.deployer_account, context.network_provider.proxy,\n",
    "                                [fees_collector_contract.address, 50000])\n",
    "\n",
    "input(\"Starting to setup pairs. Press Enter to continue...\")\n",
    "\n",
    "for pair_address in pair_addresses:\n",
    "    pair_contract = PairContract.load_contract_by_address(pair_address)    # operating pair\n",
    "\n",
    "    print(f\"Setting up pair {pair_contract.lpToken}: {pair_address}\")\n",
    "\n",
    "    # whitelist in egldmex pair for swap no fees\n",
    "    mex_ush_pair.whitelist_contract(context.deployer_account, context.network_provider.proxy, pair_contract.address)\n",
    "\n",
    "    # set where to swap and what to do with the fees\n",
    "    pair_contract.add_trusted_swap_pair(context.deployer_account, context.network_provider.proxy,\n",
    "                                        [\n",
    "                                            mex_ush_pair.address,\n",
    "                                            mex_ush_pair.firstToken,\n",
    "                                            mex_ush_pair.secondToken\n",
    "                                        ])\n",
    "    \n",
    "    pair_contract.set_fees_percents(context.deployer_account, context.network_provider.proxy,\n",
    "                                [300, 100])\n",
    "    \n",
    "    pair_contract.set_fee_on_via_router(context.deployer_account, context.network_provider.proxy, router_contract, \n",
    "                                [\n",
    "                                    config.ZERO_CONTRACT_ADDRESS,\n",
    "                                    mex_ush_pair.secondToken\n",
    "                                ])\n",
    "    \n",
    "    fees_collector_contract.add_known_contracts(context.deployer_account, context.network_provider.proxy,\n",
    "                                                [\n",
    "                                                    pair_contract.address\n",
    "                                                ])\n",
    "    pair_contract.add_fees_collector(context.deployer_account, context.network_provider.proxy,\n",
    "                                    [fees_collector_contract.address, 50000])\n",
    "    \n",
    "    input(\"Press Enter to continue...\")"
   ]
  }
 ],
 "metadata": {
  "kernelspec": {
   "display_name": "venv",
   "language": "python",
   "name": "python3"
  },
  "language_info": {
   "codemirror_mode": {
    "name": "ipython",
    "version": 3
   },
   "file_extension": ".py",
   "mimetype": "text/x-python",
   "name": "python",
   "nbconvert_exporter": "python",
   "pygments_lexer": "ipython3",
   "version": "3.12.3"
  },
  "orig_nbformat": 4
 },
 "nbformat": 4,
 "nbformat_minor": 2
}
