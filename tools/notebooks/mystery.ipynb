{
 "cells": [
  {
   "cell_type": "code",
   "execution_count": null,
   "metadata": {},
   "outputs": [],
   "source": [
    "import sys\n",
    "from pathlib import Path\n",
    "sys.path.append(str(Path.cwd().parent.parent.absolute()))"
   ]
  },
  {
   "cell_type": "code",
   "execution_count": null,
   "metadata": {},
   "outputs": [],
   "source": [
    "from multiversx_sdk import Address, CodeMetadata, TokenPayment, ProxyNetworkProvider\n",
    "from multiversx_sdk.core.transaction_builders import ContractCallBuilder, ContractDeploymentBuilder, MultiESDTNFTTransferBuilder\n",
    "from multiversx_sdk.core.transaction_builders import DefaultTransactionBuildersConfiguration\n",
    "from utils.utils_tx import NetworkProviders\n",
    "from tools.notebooks import env\n",
    "\n",
    "config = DefaultTransactionBuildersConfiguration(chain_id=\"D\")\n",
    "proxy = ProxyNetworkProvider(\"https://devnet-gateway.multiversx.com\")\n",
    "network_provider = NetworkProviders(\"https://devnet-api.multiversx.com\", proxy.url)"
   ]
  },
  {
   "cell_type": "code",
   "execution_count": null,
   "metadata": {},
   "outputs": [],
   "source": [
    "contract_address = Address.new_from_bech32(\"erd1qqqqqqqqqqqqqpgqu6g8p2zaspelfee72kzht5ktynrs408fwn9qehq7ef\")"
   ]
  },
  {
   "cell_type": "code",
   "execution_count": null,
   "metadata": {},
   "outputs": [],
   "source": [
    "from multiversx_sdk import AccountNonceHolder, UserSigner\n",
    "from pathlib import Path\n",
    "\n",
    "user = env.USER1\n",
    "owner = env.OWNER\n",
    "user_nonce_holder = AccountNonceHolder(proxy.get_account(user).nonce)\n",
    "user_signer = UserSigner.from_pem_file(Path(env.USER1_PEM))"
   ]
  },
  {
   "cell_type": "code",
   "execution_count": null,
   "metadata": {},
   "outputs": [],
   "source": [
    "from utils.utils_chain import Account\n",
    "from multiversx_sdk import AccountNonceHolder\n",
    "\n",
    "token = \"MYSTERYBOX-b466dd\"\n",
    "minter = Account(pem_file=\"~/Documents/sh1.pem\", pem_index=0)\n",
    "user_nonce_holder = AccountNonceHolder(proxy.get_account(minter.address).nonce)"
   ]
  },
  {
   "attachments": {},
   "cell_type": "markdown",
   "metadata": {},
   "source": [
    "Send tokens"
   ]
  },
  {
   "cell_type": "code",
   "execution_count": null,
   "metadata": {},
   "outputs": [],
   "source": [
    "import time\n",
    "\n",
    "hashes = []\n",
    "\n",
    "for i in range(50):\n",
    "    user_account = Account(pem_file=\"~/Documents/split/C10.pem\", pem_index=i%10)\n",
    "    \n",
    "    transfer = [\n",
    "        TokenPayment.semi_fungible(token, 3, 1)\n",
    "    ]\n",
    "\n",
    "    builder = MultiESDTNFTTransferBuilder(\n",
    "        config,\n",
    "        destination=user_account.address,\n",
    "        sender=minter.address,\n",
    "        gas_limit=30000000,\n",
    "        payments=transfer\n",
    "    )\n",
    "\n",
    "    tx = builder.build()\n",
    "    tx.nonce = user_nonce_holder.get_nonce_then_increment()\n",
    "    tx.signature = minter.signer.sign(tx)\n",
    "    hash = proxy.send_transaction(tx)\n",
    "    print(hash)\n",
    "    hashes.append(hash)\n",
    "    time.sleep(2)"
   ]
  },
  {
   "attachments": {},
   "cell_type": "markdown",
   "metadata": {},
   "source": [
    "logs processor"
   ]
  },
  {
   "cell_type": "code",
   "execution_count": null,
   "metadata": {},
   "outputs": [],
   "source": [
    "from utils.utils_chain import decode_merged_attributes, base64_to_hex\n",
    "\n",
    "def process_open_mystery_event(tx_hash):\n",
    "    print(tx_hash)\n",
    "    network_provider.wait_for_tx_executed(tx_hash)\n",
    "    tx_data = proxy.get_transaction(tx_hash)\n",
    "\n",
    "    if tx_data.status.is_failed():\n",
    "        print(\"Transaction failed\")\n",
    "        return\n",
    "\n",
    "    # print(tx_data.to_dictionary())\n",
    "    event = tx_data.logs.find_first_or_none_event(\"openMysteryBox\")\n",
    "    if event is None:\n",
    "        for sc_result in tx_data.contract_results.items:\n",
    "            tx_data = proxy.get_transaction(sc_result.hash)\n",
    "            event = tx_data.logs.find_first_or_none_event(\"openMysteryBox\")\n",
    "            if event is not None:\n",
    "                break\n",
    "    if event is None:\n",
    "        print(f\"No event found for: {tx_hash}\")\n",
    "        return\n",
    "    event_data = base64_to_hex(event.data)\n",
    "    decoded_data = decode_merged_attributes(event_data, \n",
    "                                            {\n",
    "                                                'reward_type': 'u8',\n",
    "                                                'reward_token_id': 'string',\n",
    "                                                'value': 'biguint',\n",
    "                                                'description': 'string',\n",
    "                                                'percentage_chance': 'u64',\n",
    "                                                'epochs_cooldown': 'u64'\n",
    "                                            })\n",
    "    print(decoded_data)"
   ]
  },
  {
   "attachments": {},
   "cell_type": "markdown",
   "metadata": {},
   "source": [
    "mystery box opener"
   ]
  },
  {
   "cell_type": "code",
   "execution_count": null,
   "metadata": {},
   "outputs": [],
   "source": [
    "process_open_mystery_event(\"31e3c203c32ac4b84ef5dc6e8e53e97d4320fdec0d22cb6e56ec8ae942676446\")"
   ]
  },
  {
   "cell_type": "code",
   "execution_count": null,
   "metadata": {},
   "outputs": [],
   "source": [
    "import time\n",
    "from multiversx_sdk import TransactionComputer\n",
    "\n",
    "hashes = []\n",
    "for i in range(30, 50):\n",
    "    user_account = Account(pem_file=\"~/Documents/split/C10.pem\", pem_index=i%10)\n",
    "    \n",
    "    transfer = [\n",
    "        TokenPayment.semi_fungible(token, 3, 1)\n",
    "    ]\n",
    "\n",
    "    builder = ContractCallBuilder(\n",
    "        config,\n",
    "        contract=contract_address,\n",
    "        function_name=\"openMysteryBox\",\n",
    "        caller=user_account.address,\n",
    "        call_arguments=[],\n",
    "        gas_limit=15000000,\n",
    "        esdt_transfers=transfer\n",
    "    )\n",
    "\n",
    "    tx = builder.build()\n",
    "    user_nonce_holder = AccountNonceHolder(proxy.get_account(user_account.address).nonce)\n",
    "    tx.nonce = user_nonce_holder.get_nonce_then_increment()\n",
    "\n",
    "    tx_computer = TransactionComputer()\n",
    "    tx.signature = user_account.signer.sign(tx_computer.compute_bytes_for_signing(tx))\n",
    "    hash = proxy.send_transaction(tx)\n",
    "    hashes.append(hash)\n",
    "    time.sleep(2)\n",
    "\n",
    "for hash in hashes:\n",
    "    process_open_mystery_event(hash)"
   ]
  }
 ],
 "metadata": {
  "kernelspec": {
   "display_name": ".venv",
   "language": "python",
   "name": "python3"
  },
  "language_info": {
   "codemirror_mode": {
    "name": "ipython",
    "version": 3
   },
   "file_extension": ".py",
   "mimetype": "text/x-python",
   "name": "python",
   "nbconvert_exporter": "python",
   "pygments_lexer": "ipython3",
   "version": "3.8.10"
  },
  "orig_nbformat": 4,
  "vscode": {
   "interpreter": {
    "hash": "46890cb94c8e016cd17355f2b23107d7cb41a4430d538522c76446f308933f39"
   }
  }
 },
 "nbformat": 4,
 "nbformat_minor": 2
}
