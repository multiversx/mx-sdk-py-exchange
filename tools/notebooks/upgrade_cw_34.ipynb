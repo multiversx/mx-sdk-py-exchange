{
 "cells": [
  {
   "cell_type": "code",
   "execution_count": null,
   "metadata": {},
   "outputs": [],
   "source": [
    "import sys\n",
    "from pathlib import Path\n",
    "sys.path.append(str(Path.cwd().parent.parent.absolute()))\n",
    "import config"
   ]
  },
  {
   "cell_type": "code",
   "execution_count": null,
   "metadata": {},
   "outputs": [],
   "source": [
    "from context import Context\n",
    "from utils.utils_chain import WrapperAddress as Address, Account, hex_to_string\n",
    "from utils.utils_chain import nominated_amount\n",
    "\n",
    "context = Context()"
   ]
  },
  {
   "cell_type": "code",
   "execution_count": null,
   "metadata": {},
   "outputs": [],
   "source": [
    "from contracts.farm_contract import FarmContract\n",
    "from utils.contract_retrievers import retrieve_farm_by_address\n",
    "# farm_contracts = context.get_contracts(config.FARMS_V2)"
   ]
  },
  {
   "attachments": {},
   "cell_type": "markdown",
   "metadata": {},
   "source": [
    "set new rewards per block"
   ]
  },
  {
   "cell_type": "code",
   "execution_count": null,
   "metadata": {},
   "outputs": [],
   "source": [
    "farm_contract: FarmContract = retrieve_farm_by_address(\"erd1qqqqqqqqqqqqqpgqqqckvlhd3n7ntt5w3vln4xh3tsfpj0hr2jpsxlzgcj\") # zpay\n",
    "farm_contract.set_rewards_per_block(context.deployer_account, context.network_provider.proxy, nominated_amount(14000))"
   ]
  },
  {
   "attachments": {},
   "cell_type": "markdown",
   "metadata": {},
   "source": [
    "start contracts"
   ]
  },
  {
   "cell_type": "code",
   "execution_count": null,
   "metadata": {},
   "outputs": [],
   "source": [
    "farm_contract: FarmContract = retrieve_farm_by_address(\"erd1qqqqqqqqqqqqqpgqqqckvlhd3n7ntt5w3vln4xh3tsfpj0hr2jpsxlzgcj\")\n",
    "farm_contract.resume(context.deployer_account, context.network_provider.proxy)"
   ]
  },
  {
   "attachments": {},
   "cell_type": "markdown",
   "metadata": {},
   "source": [
    "produce rewards"
   ]
  },
  {
   "cell_type": "code",
   "execution_count": null,
   "metadata": {},
   "outputs": [],
   "source": [
    "farm_contract: FarmContract = retrieve_farm_by_address(\"\")\n",
    "farm_contract.start_produce_rewards(context.deployer_account, context.network_provider.proxy)"
   ]
  },
  {
   "cell_type": "markdown",
   "metadata": {},
   "source": [
    "upgrade contract"
   ]
  },
  {
   "cell_type": "code",
   "execution_count": null,
   "metadata": {},
   "outputs": [
    {
     "name": "stderr",
     "output_type": "stream",
     "text": [
      "\u001b[92m2023-08-14 15:21:24,835 - INFO - upgrade FarmContract contract\u001b[0m\n",
      "\u001b[38;20m2023-08-14 15:21:24,839 - DEBUG - Arguments: ['MEX-455c57', 'EGLDMEX-0be9e5', 1000000000000, erd1qqqqqqqqqqqqqpgqa0fsfshnff4n76jhcye6k7uvd7qacsq42jpsp6shh2, erd1ss6u80ruas2phpmr82r42xnkd6rxy40g9jl69frppl4qez9w2jpsqj8x97, erd1ss6u80ruas2phpmr82r42xnkd6rxy40g9jl69frppl4qez9w2jpsqj8x97]\u001b[0m\n",
      "\u001b[38;20m2023-08-14 15:21:24,841 - DEBUG - Upgrade FarmContract contract\u001b[0m\n",
      "\u001b[38;20m2023-08-14 15:21:25,356 - DEBUG - Upgrade arguments: ['MEX-455c57', 'EGLDMEX-0be9e5', 1000000000000, erd1qqqqqqqqqqqqqpgqa0fsfshnff4n76jhcye6k7uvd7qacsq42jpsp6shh2, erd1ss6u80ruas2phpmr82r42xnkd6rxy40g9jl69frppl4qez9w2jpsqj8x97, erd1ss6u80ruas2phpmr82r42xnkd6rxy40g9jl69frppl4qez9w2jpsqj8x97]\u001b[0m\n",
      "\u001b[92m2023-08-14 15:21:26,178 - INFO - No explorer known for https://proxy-shadowfork-one.elrond.ro. transaction raw path: transactions/867d69b80c4084090c47aa2a61e1ebf485655b95121736ea887cac204c5665c1\u001b[0m\n"
     ]
    }
   ],
   "source": [
    "tx_hash = farm_contract.contract_upgrade(context.deployer_account, context.network_provider.proxy, \n",
    "                                         \"/home/ovidiu/projects/dex/dex-v2/sc-dex-rs/output-docker/farm-with-locked-rewards/farm-with-locked-rewards.wasm\", [pair_contract.address, context.deployer_account.address.bech32()])"
   ]
  },
  {
   "cell_type": "markdown",
   "metadata": {},
   "source": [
    "change owner"
   ]
  },
  {
   "cell_type": "code",
   "execution_count": null,
   "metadata": {},
   "outputs": [
    {
     "name": "stderr",
     "output_type": "stream",
     "text": [
      "\u001b[92m2023-08-14 17:04:04,350 - INFO - Update owner or admin\u001b[0m\n",
      "\u001b[38;20m2023-08-14 17:04:04,353 - DEBUG - Arguments: ['erd19uysnnzwnzm3klq8qzv7zprw2d3yj38hx0ac9cuqvl0j2jr5kp2sflvmyv']\u001b[0m\n",
      "\u001b[38;20m2023-08-14 17:04:04,354 - DEBUG - Calling updateOwnerOrAdmin at erd1qqqqqqqqqqqqqpgqapxdp9gjxtg60mjwhle3n6h88zch9e7kkp2s8aqhkg\u001b[0m\n",
      "\u001b[38;20m2023-08-14 17:04:04,354 - DEBUG - Args: ['erd19uysnnzwnzm3klq8qzv7zprw2d3yj38hx0ac9cuqvl0j2jr5kp2sflvmyv']\u001b[0m\n",
      "\u001b[38;20m2023-08-14 17:04:05,044 - DEBUG - Contract call arguments: [erd19uysnnzwnzm3klq8qzv7zprw2d3yj38hx0ac9cuqvl0j2jr5kp2sflvmyv]\u001b[0m\n",
      "\u001b[92m2023-08-14 17:04:05,761 - INFO - No explorer known for https://proxy-shadowfork-one.elrond.ro. transaction raw path: transactions/d80aed23b6f44fb0129f5b258d4bf9da4c929ecef88e561f3429c8ccd7fa7a26\u001b[0m\n"
     ]
    }
   ],
   "source": [
    "tx_hash = farm_contract.update_owner_or_admin(context.deployer_account, context.network_provider.proxy, \"erd19uysnnzwnzm3klq8qzv7zprw2d3yj38hx0ac9cuqvl0j2jr5kp2sflvmyv\")"
   ]
  },
  {
   "cell_type": "markdown",
   "metadata": {},
   "source": [
    "resume contract"
   ]
  },
  {
   "cell_type": "code",
   "execution_count": null,
   "metadata": {},
   "outputs": [
    {
     "name": "stderr",
     "output_type": "stream",
     "text": [
      "\u001b[92m2023-08-14 17:13:00,728 - INFO - Resume farm contract\u001b[0m\n",
      "\u001b[38;20m2023-08-14 17:13:00,732 - DEBUG - Calling resume at erd1qqqqqqqqqqqqqpgqapxdp9gjxtg60mjwhle3n6h88zch9e7kkp2s8aqhkg\u001b[0m\n",
      "\u001b[38;20m2023-08-14 17:13:00,733 - DEBUG - Args: []\u001b[0m\n",
      "\u001b[38;20m2023-08-14 17:13:01,720 - DEBUG - Contract call arguments: []\u001b[0m\n",
      "\u001b[92m2023-08-14 17:13:02,027 - INFO - No explorer known for https://proxy-shadowfork-one.elrond.ro. transaction raw path: transactions/cfc9b878c515de3b0852d927b562f773a8943fbf9f937534190b07f8689b3955\u001b[0m\n"
     ]
    },
    {
     "data": {
      "text/plain": [
       "'cfc9b878c515de3b0852d927b562f773a8943fbf9f937534190b07f8689b3955'"
      ]
     },
     "metadata": {},
     "output_type": "display_data"
    }
   ],
   "source": [
    "farm_contract.resume(context.deployer_account, context.network_provider.proxy)"
   ]
  }
 ],
 "metadata": {
  "kernelspec": {
   "display_name": "venv-newerdpy",
   "language": "python",
   "name": "python3"
  },
  "language_info": {
   "codemirror_mode": {
    "name": "ipython",
    "version": 3
   },
   "file_extension": ".py",
   "mimetype": "text/x-python",
   "name": "python",
   "nbconvert_exporter": "python",
   "pygments_lexer": "ipython3",
   "version": "3.8.10"
  },
  "orig_nbformat": 4,
  "vscode": {
   "interpreter": {
    "hash": "7ae6ab0abdf10440b34f03794a69a71508ff61341cacd694fe6034a1a71d3b05"
   }
  }
 },
 "nbformat": 4,
 "nbformat_minor": 2
}
