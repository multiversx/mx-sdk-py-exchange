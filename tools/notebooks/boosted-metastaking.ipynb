{
 "cells": [
  {
   "cell_type": "code",
   "execution_count": null,
   "metadata": {
    "metadata": {}
   },
   "outputs": [],
   "source": [
    "import sys\n",
    "from pathlib import Path\n",
    "sys.path.append(str(Path.cwd().parent.parent.absolute()))\n",
    "import config\n",
    "import time\n",
    "from context import Context\n",
    "from utils.utils_chain import WrapperAddress as Address, Account, hex_to_string\n",
    "from utils.utils_chain import nominated_amount, dec_to_padded_hex\n",
    "from utils.utils_scenarios import get_token_in_account\n",
    "from contracts.metastaking_contract import MetaStakingContract, MetaStakingContractVersion\n",
    "from events.metastake_events import EnterMetastakeEvent, ExitMetastakeEvent, ClaimRewardsMetastakeEvent\n",
    "from utils.utils_generic import get_logger\n",
    "from utils.utils_tx import ESDTToken\n",
    "\n",
    "logger = get_logger(\"manual_interactor\")\n",
    "\n",
    "context = Context()"
   ]
  },
  {
   "cell_type": "markdown",
   "metadata": {},
   "source": [
    "User & contract setup"
   ]
  },
  {
   "cell_type": "code",
   "execution_count": null,
   "metadata": {
    "metadata": {}
   },
   "outputs": [],
   "source": [
    "metastake_contract: MetaStakingContract\n",
    "metastake_contract = context.get_contracts(config.METASTAKINGS_V2)[1]\n",
    "print(metastake_contract.__dict__)"
   ]
  },
  {
   "cell_type": "markdown",
   "metadata": {},
   "source": [
    "Collect users"
   ]
  },
  {
   "cell_type": "code",
   "execution_count": null,
   "metadata": {
    "metadata": {}
   },
   "outputs": [],
   "source": [
    "from utils.utils_scenarios import collect_farm_contract_users\n",
    "from multiversx_sdk_network_providers import ApiNetworkProvider\n",
    "from utils.utils_scenarios import FetchedUser\n",
    "from typing import List\n",
    "\n",
    "mainnet_api = ApiNetworkProvider(\"https://api.multiversx.com\")\n",
    "fetched_users = collect_farm_contract_users(10, metastake_contract.address, metastake_contract.farm_token, metastake_contract.metastake_token,\n",
    "                                            mainnet_api, context.network_provider.proxy)\n",
    "\n",
    "users: List[FetchedUser] = fetched_users.get_users_with_farm_tokens()\n",
    "if not users:\n",
    "    raise Exception('No users found for the given criteria')"
   ]
  },
  {
   "cell_type": "code",
   "execution_count": null,
   "metadata": {
    "metadata": {}
   },
   "outputs": [],
   "source": [
    "from utils.decoding_structures import METASTAKE_TOKEN_ATTRIBUTES, FARM_TOKEN_ATTRIBUTES, STAKE_V2_TOKEN_ATTRIBUTES, STAKE_V1_TOKEN_ATTRIBUTES\n",
    "from utils.utils_chain import decode_merged_attributes, base64_to_hex, get_all_token_nonces_details_for_account, Account\n",
    "\n",
    "index = 0\n",
    "user = Account(pem_file=\"~/Documents/sh1.pem\")\n",
    "user.address = users[index].address\n",
    "user.sync_nonce(context.network_provider.proxy)\n",
    "tokens_in_account = get_all_token_nonces_details_for_account(metastake_contract.farm_token, user.address.bech32(), context.network_provider.proxy)\n",
    "print(f'Account: {user.address.bech32()}')\n",
    "print(f'Farm Tokens in account:')\n",
    "for token in tokens_in_account:\n",
    "    print(f'\\t{token}')\n",
    "tokens_in_account = get_all_token_nonces_details_for_account(metastake_contract.metastake_token, user.address.bech32(), context.network_provider.proxy)\n",
    "\n",
    "print(f'Metastake Tokens in account:')\n",
    "for token in tokens_in_account:\n",
    "    print(f'\\t{token}')\n",
    "    _, _, _ = metastake_contract.get_all_decoded_metastake_token_attributes_from_proxy(context.network_provider.proxy, user.address.bech32(), token[\"nonce\"])\n"
   ]
  },
  {
   "cell_type": "markdown",
   "metadata": {},
   "source": [
    "State"
   ]
  },
  {
   "cell_type": "code",
   "execution_count": null,
   "metadata": {
    "metadata": {}
   },
   "outputs": [],
   "source": [
    "from contracts.simple_lock_energy_contract import SimpleLockEnergyContract\n",
    "from contracts.staking_contract import StakingContract\n",
    "from contracts.farm_contract import FarmContract\n",
    "\n",
    "def get_all_stats(metastake_contract: MetaStakingContract, user: Account):\n",
    "    energy_contract: SimpleLockEnergyContract\n",
    "    energy_contract = context.get_contracts(config.SIMPLE_LOCKS_ENERGY)[0]\n",
    "    user_energy = energy_contract.get_energy_for_user(context.network_provider.proxy, user.address.bech32())\n",
    "    logger.debug(f'User energy on energy factory: {user_energy}')\n",
    "\n",
    "    staking_contract: StakingContract\n",
    "    for contract in context.get_contracts(config.STAKINGS_V2):\n",
    "        if contract.address == metastake_contract.stake_address:\n",
    "            logger.debug(f\"Found {contract.address}\")\n",
    "            staking_contract = contract\n",
    "            break\n",
    "\n",
    "    logger.debug(f\"Stats for user: {user.address.bech32()} on staking {staking_contract.address}\")\n",
    "    staking_stats = staking_contract.get_all_user_boosted_stats(user.address.bech32(), context.network_provider.proxy)\n",
    "    staking_stats.update(staking_contract.get_all_stats(context.network_provider.proxy))\n",
    "    logger.debug(f\"Staking stats: {staking_stats}\")\n",
    "    \n",
    "    farm_contract: FarmContract\n",
    "    for contract in context.get_contracts(config.FARMS_V2):\n",
    "        if contract.address == metastake_contract.farm_address:\n",
    "            logger.debug(f\"Found {contract.address}\")\n",
    "            farm_contract = contract\n",
    "            break\n",
    "\n",
    "    logger.debug(f\"Stats for user: {user.address.bech32()} on farm {farm_contract.address}\")\n",
    "    farm_stats = farm_contract.get_all_user_boosted_stats(user.address.bech32(), context.network_provider.proxy)\n",
    "    farm_stats.update(farm_contract.get_all_stats(context.network_provider.proxy))\n",
    "    logger.debug(f\"Farm stats: {farm_stats}\")\n",
    "\n",
    "    return user_energy, staking_stats, farm_stats\n",
    "\n",
    "get_all_stats(metastake_contract, user)"
   ]
  },
  {
   "cell_type": "code",
   "execution_count": null,
   "metadata": {},
   "outputs": [],
   "source": [
    "from utils.utils_chain import dec_to_padded_hex\n",
    "\n",
    "def get_tx_op(tx_hash: str, operation: dict) -> dict:\n",
    "    used_api = context.network_provider.api\n",
    "\n",
    "    # Get the transaction details\n",
    "    tx = used_api.get_transaction(tx_hash)\n",
    "\n",
    "    # Get and check transaction operations\n",
    "    ops = tx.raw_response['operations']\n",
    "\n",
    "    # Take each op in ops and match it with operation. Try to match only the fields expected in operation dictionary. \n",
    "    # TX Operations are unordered. If any of the operations match, return it.\n",
    "    for op in ops:\n",
    "        # print(f'Matching with {operation}')\n",
    "        if all(op.get(key) == operation.get(key) for key in operation.keys()):\n",
    "            return op"
   ]
  },
  {
   "cell_type": "markdown",
   "metadata": {},
   "source": [
    "upgrade all contracts"
   ]
  },
  {
   "cell_type": "code",
   "execution_count": null,
   "metadata": {},
   "outputs": [],
   "source": [
    "# upgrade all contracts\n",
    "context.deployer_account.sync_nonce(context.network_provider.proxy)\n",
    "contracts : list[MetaStakingContract] = context.get_contracts(config.METASTAKINGS_V2)\n",
    "for contract in contracts:\n",
    "    contract.version = MetaStakingContractVersion.V3Boosted\n",
    "    tx_hash = contract.contract_upgrade(context.deployer_account, context.network_provider.proxy, \n",
    "                                         config.STAKING_PROXY_V3_BYTECODE_PATH, \n",
    "                                         [], no_init=True)\n",
    "    context.network_provider.check_complex_tx_status(tx_hash, \"proxy staking upgrade\")"
   ]
  },
  {
   "cell_type": "code",
   "execution_count": null,
   "metadata": {},
   "outputs": [],
   "source": [
    "# set energy factory address\n",
    "context.deployer_account.sync_nonce(context.network_provider.proxy)\n",
    "contracts : list[MetaStakingContract] = context.get_contracts(config.METASTAKINGS_V2)\n",
    "for contract in contracts:\n",
    "    tx_hash = contract.set_energy_factory_address(context.deployer_account, context.network_provider.proxy, context.get_contracts(config.SIMPLE_LOCKS_ENERGY)[0].address)"
   ]
  },
  {
   "cell_type": "markdown",
   "metadata": {},
   "source": [
    "Enter metastake"
   ]
  },
  {
   "cell_type": "code",
   "execution_count": null,
   "metadata": {},
   "outputs": [],
   "source": [
    "amount_percentage = 100\n",
    "\n",
    "token_nonce, token_balance, token_attributes = get_token_in_account(context.network_provider.proxy, user, metastake_contract.farm_token)\n",
    "if token_balance == 0:\n",
    "    print(\"No token balance\")\n",
    "    exit(1)\n",
    "token_balance_to_use = token_balance * amount_percentage // 100\n",
    "\n",
    "user_energy_before, staking_stats_before, farm_stats_before = get_all_stats(metastake_contract, user)\n",
    "\n",
    "tokens = [\n",
    "    ESDTToken(metastake_contract.farm_token, token_nonce, token_balance_to_use)\n",
    "]\n",
    "\n",
    "tx_hash = metastake_contract.enter_metastake(context.network_provider, user, [tokens])\n",
    "\n",
    "time.sleep(6 if user.address.get_shard() == 1 else 40)\n",
    "\n",
    "user_energy_after, staking_stats_after, farm_stats_after = get_all_stats(metastake_contract, user)"
   ]
  },
  {
   "cell_type": "markdown",
   "metadata": {},
   "source": [
    "Claim metastake"
   ]
  },
  {
   "cell_type": "code",
   "execution_count": null,
   "metadata": {
    "metadata": {}
   },
   "outputs": [],
   "source": [
    "amount_percentage = 100\n",
    "\n",
    "token_nonce, token_balance, token_attributes = get_token_in_account(context.network_provider.proxy, user, metastake_contract.metastake_token)\n",
    "if token_balance == 0:\n",
    "    print(\"No token balance\")\n",
    "    raise\n",
    "token_balance_to_use = token_balance * amount_percentage // 100\n",
    "\n",
    "user_energy_before, staking_stats_before, farm_stats_before = get_all_stats(metastake_contract, user)\n",
    "\n",
    "tokens = [\n",
    "    ESDTToken(metastake_contract.metastake_token, token_nonce, token_balance_to_use)\n",
    "]\n",
    "\n",
    "tx_hash = metastake_contract.claim_rewards_metastaking(context.network_provider, user, [tokens])\n",
    "\n",
    "time.sleep(6 if user.address.get_shard() == 1 else 40)\n",
    "\n",
    "user_energy_after, staking_stats_after, farm_stats_after = get_all_stats(metastake_contract, user)"
   ]
  },
  {
   "cell_type": "markdown",
   "metadata": {},
   "source": [
    "Check claim effects"
   ]
  },
  {
   "cell_type": "code",
   "execution_count": null,
   "metadata": {
    "metadata": {}
   },
   "outputs": [],
   "source": [
    "op_to_look_for = { # the Staked token transfered from staking contract to metastake contract\n",
    "        \"action\": \"transfer\",\n",
    "        \"sender\": metastake_contract.stake_address,\n",
    "        \"receiver\": metastake_contract.address,\n",
    "        \"collection\": metastake_contract.stake_token\n",
    "    }\n",
    "op = get_tx_op(tx_hash, op_to_look_for)\n",
    "new_stake_token = op.get('identifier')\n",
    "new_stake_token_value = int(op.get('value'))\n",
    "\n",
    "op_to_look_for = { # the metataked token transfered from proxy staking contract to user\n",
    "        \"action\": \"transfer\",\n",
    "        \"sender\": metastake_contract.address,\n",
    "        \"receiver\": user.address.bech32(),\n",
    "        \"collection\": metastake_contract.metastake_token\n",
    "    }\n",
    "op = get_tx_op(tx_hash, op_to_look_for)\n",
    "new_metastake_token = op.get('identifier')\n",
    "new_metastake_token_value = int(op.get('value'))\n",
    "\n",
    "# check the user_total_farm_position is increased with new safe price stake value\n",
    "if staking_stats_before.get(\"user_total_farm_position\") != {}:\n",
    "    user_total_farm_position_base = staking_stats_before.get(\"user_total_farm_position\").get(\"total_farm_position\") - token_balance_to_use\n",
    "else:\n",
    "    user_total_farm_position_base = 0\n",
    "\n",
    "user_total_farm_position = staking_stats_after.get(\"user_total_farm_position\").get(\"total_farm_position\")\n",
    "if user_total_farm_position != user_total_farm_position_base + new_stake_token_value:\n",
    "    print(f\"Expected user_total_farm_position {token_balance_to_use} but got {user_total_farm_position}\")\n",
    "\n",
    "new_proxy_attrs, new_farm_attrs, new_stake_attrs = metastake_contract.get_all_decoded_metastake_token_attributes_from_proxy(context.network_provider.proxy, user.address.bech32(), \n",
    "                                                                                        int(new_metastake_token.split(\"-\")[2], 16))\n",
    "if new_farm_attrs.get(\"original_owner\") != user.address.bech32():\n",
    "    print(f\"Expected original_owner {user.address.bech32()} but got {new_farm_attrs.get('original_owner')}\")\n",
    "else:\n",
    "    print(f\"Original owner is correct: {new_farm_attrs.get('original_owner')}\")\n",
    "\n",
    "if new_stake_attrs.get(\"original_owner\") != user.address.bech32():\n",
    "    print(f\"Expected original_owner {user.address.bech32()} but got {new_stake_attrs.get('original_owner')}\")\n",
    "else:\n",
    "    print(f\"Original owner is correct: {new_stake_attrs.get('original_owner')}\")\n",
    "\n",
    "if user_energy_after.get(\"amount\") != staking_stats_after.get(\"user_energy_for_week\").get(\"amount\"):\n",
    "    print(f\"Expected user_energy_after on staking {user_energy_after.get('amount')} but got {staking_stats_after.get('user_energy_for_week')}\")\n",
    "else:\n",
    "    print(f\"User energy is correct on staking\")\n",
    "\n",
    "if user_energy_after.get(\"amount\") != farm_stats_after.get(\"user_energy_for_week\").get(\"amount\"):\n",
    "    print(f\"Expected user_energy_after on farm {user_energy_after.get('amount')} but got {farm_stats_after.get('user_energy_for_week')}\")\n",
    "else:\n",
    "    print(f\"User energy is correct on farm\")"
   ]
  },
  {
   "cell_type": "code",
   "execution_count": null,
   "metadata": {},
   "outputs": [],
   "source": [
    "from utils.utils_chain import dec_to_padded_hex\n",
    "token_nonce, token_balance, token_attributes = get_token_in_account(context.network_provider.proxy, user, metastake_contract.metastake_token)\n",
    "print(f'Metastake Tokens in account: {token_nonce} {dec_to_padded_hex(token_nonce)}')\n",
    "metastake_contract.get_all_decoded_metastake_token_attributes_from_proxy(context.network_provider.proxy, user.address.bech32(), token_nonce)"
   ]
  },
  {
   "cell_type": "markdown",
   "metadata": {},
   "source": [
    "Exit metastake"
   ]
  },
  {
   "cell_type": "code",
   "execution_count": null,
   "metadata": {
    "metadata": {}
   },
   "outputs": [],
   "source": [
    "amount_percentage = 100\n",
    "\n",
    "token_nonce, token_balance, token_attributes = get_token_in_account(context.network_provider.proxy, user, metastake_contract.metastake_token)\n",
    "if token_balance == 0:\n",
    "    print(\"No token balance\")\n",
    "    exit(1)\n",
    "token_balance_to_use = token_balance * amount_percentage // 100\n",
    "\n",
    "user_energy_before, staking_stats_before, farm_stats_before = get_all_stats(metastake_contract, user)\n",
    "\n",
    "tokens = [\n",
    "    ESDTToken(metastake_contract.metastake_token, token_nonce, token_balance_to_use)\n",
    "]\n",
    "\n",
    "tx_hash = metastake_contract.exit_metastake(context.network_provider, user, [tokens, 1, 1])\n",
    "\n",
    "time.sleep(6 if user.address.get_shard() == 1 else 40)\n",
    "\n",
    "user_energy_after, staking_stats_after, farm_stats_after = get_all_stats(metastake_contract, user)"
   ]
  },
  {
   "cell_type": "markdown",
   "metadata": {},
   "source": [
    "Move liquidity"
   ]
  },
  {
   "cell_type": "code",
   "execution_count": null,
   "metadata": {},
   "outputs": [],
   "source": [
    "from contracts.pair_contract import PairContract, SwapFixedInputEvent\n",
    "\n",
    "tokens_bag = Account(pem_file=\"~/Documents/sh1.pem\")\n",
    "tokens_bag.address = Address(\"erd1nxw88rdky83txukp87wnlpak8c6ykf2yx3nq7uymjepma975wv2qxhcsnq\")\n",
    "tokens_bag.sync_nonce(context.network_provider.proxy)\n",
    "\n",
    "pair_contract: PairContract\n",
    "pair_contracts = context.get_contracts(config.PAIRS_V2)\n",
    "for pair_contract in pair_contracts:\n",
    "    if pair_contract.address == metastake_contract.lp_address:\n",
    "        break\n",
    "\n",
    "print(pair_contract.__dict__)\n",
    "\n",
    "token_nonce, token_balance, token_attributes = get_token_in_account(context.network_provider.proxy, tokens_bag, pair_contract.secondToken)\n",
    "\n",
    "event = SwapFixedInputEvent(pair_contract.secondToken, token_balance, pair_contract.firstToken, 1)\n",
    "tx_hash = pair_contract.swap_fixed_input(context.network_provider, tokens_bag, event)"
   ]
  },
  {
   "cell_type": "markdown",
   "metadata": {},
   "source": [
    "Transfer and original caller"
   ]
  },
  {
   "cell_type": "code",
   "execution_count": null,
   "metadata": {
    "metadata": {}
   },
   "outputs": [],
   "source": [
    "caller_addr = \"\"\n",
    "user_addr = \"\""
   ]
  },
  {
   "cell_type": "code",
   "execution_count": null,
   "metadata": {
    "metadata": {}
   },
   "outputs": [],
   "source": [
    "metastake_contract.whitelist_contract(context.deployer_account, context.network_provider.proxy, caller_addr)"
   ]
  },
  {
   "cell_type": "code",
   "execution_count": null,
   "metadata": {
    "metadata": {}
   },
   "outputs": [],
   "source": [
    "from utils.utils_tx import multi_esdt_transfer, ESDTToken\n",
    "caller = Account(pem_file=\"~/Documents/sh1.pem\")\n",
    "caller.address = Address(caller_addr)\n",
    "user.address = Address(user_addr)\n",
    "user.sync_nonce(context.network_provider.proxy)\n",
    "\n",
    "token_nonce, token_balance, token_attributes = get_token_in_account(context.network_provider.proxy, user, metastake_contract.metastake_token)\n",
    "hash = multi_esdt_transfer(context.network_provider.proxy, 2000000, user, caller.address, [ESDTToken(metastake_contract.metastake_token, token_nonce, token_balance)])"
   ]
  },
  {
   "cell_type": "code",
   "execution_count": null,
   "metadata": {},
   "outputs": [],
   "source": [
    "user.address = Address(user_addr)\n",
    "user.sync_nonce(context.network_provider.proxy)"
   ]
  },
  {
   "cell_type": "code",
   "execution_count": null,
   "metadata": {
    "metadata": {}
   },
   "outputs": [],
   "source": [
    "user.address = Address(caller_addr)\n",
    "user.sync_nonce(context.network_provider.proxy)"
   ]
  }
 ],
 "metadata": {
  "kernelspec": {
   "display_name": "venv",
   "language": "python",
   "name": "python3"
  },
  "language_info": {
   "codemirror_mode": {
    "name": "ipython",
    "version": 3
   },
   "file_extension": ".py",
   "mimetype": "text/x-python",
   "name": "python",
   "nbconvert_exporter": "python",
   "pygments_lexer": "ipython3",
   "version": "3.11.6"
  }
 },
 "nbformat": 4,
 "nbformat_minor": 2
}
