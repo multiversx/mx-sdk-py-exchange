{
 "cells": [
  {
   "cell_type": "code",
   "execution_count": 28,
   "id": "1ddebf8f",
   "metadata": {},
   "outputs": [
    {
     "name": "stderr",
     "output_type": "stream",
     "text": [
      "\u001b[93m2025-06-02 11:10:40,121 - WARNING - Structure definition for mex_governance not found in /home/multiversx/Documents/DEX/git-main/mx-sdk-py-exchange/deploy/configs-mainnet/deploy_structure.json\u001b[0m\n"
     ]
    },
    {
     "name": "stdout",
     "output_type": "stream",
     "text": [
      "Shadowfork detected. Owner: erd1ss6u80ruas2phpmr82r42xnkd6rxy40g9jl69frppl4qez9w2jpsqj8x97\n",
      "loaded 1 accounts from 1 PEM files.\n"
     ]
    },
    {
     "name": "stderr",
     "output_type": "stream",
     "text": [
      "\u001b[38;20m2025-06-02 11:10:40,989 - DEBUG - Account.sync_nonce() done: 5671\u001b[0m\n",
      "\u001b[38;20m2025-06-02 11:10:41,222 - DEBUG - Account.sync_nonce() done: 5671\u001b[0m\n",
      "\u001b[93m2025-06-02 11:10:41,223 - WARNING - Loaded 16 tokens instead of expected 15.\u001b[0m\n",
      "\u001b[38;20m2025-06-02 11:10:41,445 - DEBUG - Account.sync_nonce() done: 5671\u001b[0m\n",
      "\u001b[92m2025-06-02 11:10:41,447 - INFO - Loaded 3 egld_wraps out of expected 3.\u001b[0m\n",
      "\u001b[92m2025-06-02 11:10:41,449 - INFO - Loaded 1 locked_assets out of expected 1.\u001b[0m\n",
      "\u001b[92m2025-06-02 11:10:41,450 - INFO - Loaded 1 proxies out of expected 1.\u001b[0m\n",
      "\u001b[92m2025-06-02 11:10:41,451 - INFO - Loaded 0 simple_locks out of expected 0.\u001b[0m\n",
      "\u001b[92m2025-06-02 11:10:41,452 - INFO - Loaded 1 simple_locks_energy out of expected 1.\u001b[0m\n",
      "\u001b[92m2025-06-02 11:10:41,453 - INFO - Loaded 1 fees_collectors out of expected 1.\u001b[0m\n",
      "\u001b[92m2025-06-02 11:10:41,453 - INFO - Loaded 1 unstakers out of expected 1.\u001b[0m\n",
      "\u001b[92m2025-06-02 11:10:41,454 - INFO - Loaded 1 proxies_v2 out of expected 1.\u001b[0m\n",
      "\u001b[92m2025-06-02 11:10:41,454 - INFO - Loaded 1 position_creator out of expected 1.\u001b[0m\n",
      "\u001b[92m2025-06-02 11:10:41,455 - INFO - Loaded 1 locked_token_position_creator out of expected 1.\u001b[0m\n",
      "\u001b[92m2025-06-02 11:10:41,455 - INFO - Loaded 0 router out of expected 0.\u001b[0m\n",
      "\u001b[92m2025-06-02 11:10:41,456 - INFO - Loaded 1 router_v2 out of expected 1.\u001b[0m\n",
      "\u001b[92m2025-06-02 11:10:41,456 - INFO - Loaded 0 pairs out of expected 0.\u001b[0m\n",
      "\u001b[92m2025-06-02 11:10:41,457 - INFO - Loaded 13 pairs_v2 out of expected 13.\u001b[0m\n",
      "\u001b[92m2025-06-02 11:10:41,457 - INFO - Loaded 1 pairs_view out of expected 1.\u001b[0m\n",
      "\u001b[92m2025-06-02 11:10:41,458 - INFO - Loaded 1 permissions_hubs out of expected 1.\u001b[0m\n",
      "\u001b[92m2025-06-02 11:10:41,458 - INFO - Loaded 0 farms_community out of expected 0.\u001b[0m\n",
      "\u001b[92m2025-06-02 11:10:41,459 - INFO - Loaded 0 farms_unlocked out of expected 0.\u001b[0m\n",
      "\u001b[92m2025-06-02 11:10:41,460 - INFO - Loaded 0 farms_locked out of expected 0.\u001b[0m\n",
      "\u001b[92m2025-06-02 11:10:41,460 - INFO - Loaded 0 proxy_deployers out of expected 0.\u001b[0m\n",
      "\u001b[92m2025-06-02 11:10:41,461 - INFO - Loaded 14 farms_boosted out of expected 14.\u001b[0m\n",
      "\u001b[92m2025-06-02 11:10:41,461 - INFO - Loaded 0 price_discoveries out of expected 0.\u001b[0m\n",
      "\u001b[92m2025-06-02 11:10:41,461 - INFO - Loaded 0 stakings out of expected 0.\u001b[0m\n",
      "\u001b[92m2025-06-02 11:10:41,462 - INFO - Loaded 8 stakings_v2 out of expected 8.\u001b[0m\n",
      "\u001b[92m2025-06-02 11:10:41,462 - INFO - Loaded 3 stakings_boosted out of expected 3.\u001b[0m\n",
      "\u001b[92m2025-06-02 11:10:41,462 - INFO - Loaded 0 metastakings out of expected 0.\u001b[0m\n",
      "\u001b[92m2025-06-02 11:10:41,463 - INFO - Loaded 4 metastakings_v2 out of expected 4.\u001b[0m\n",
      "\u001b[92m2025-06-02 11:10:41,463 - INFO - Loaded 1 metastakings_boosted out of expected 1.\u001b[0m\n",
      "\u001b[92m2025-06-02 11:10:41,463 - INFO - Loaded 0 mex_governance out of expected 0.\u001b[0m\n",
      "\u001b[92m2025-06-02 11:10:41,464 - INFO - Loaded 1 escrows out of expected 1.\u001b[0m\n",
      "\u001b[92m2025-06-02 11:10:41,464 - INFO - Loaded 1 lk_wraps out of expected 1.\u001b[0m\n",
      "\u001b[92m2025-06-02 11:10:41,464 - INFO - Loaded 1 governances out of expected 1.\u001b[0m\n",
      "\u001b[92m2025-06-02 11:10:41,465 - INFO - Loaded 1 composable_tasks out of expected 1.\u001b[0m\n",
      "\u001b[38;20m2025-06-02 11:10:41,681 - DEBUG - Account.sync_nonce() done: 5671\u001b[0m\n",
      "\u001b[92m2025-06-02 11:10:41,682 - INFO - Deployed contracts below:\u001b[0m\n",
      "\u001b[92m2025-06-02 11:10:41,683 - INFO - egld_wraps:\u001b[0m\n",
      "\u001b[92m2025-06-02 11:10:41,684 - INFO - Deployed egld wrapper contract: erd1qqqqqqqqqqqqqpgqvc7gdl0p4s97guh498wgz75k8sav6sjfjlwqh679jy\u001b[0m\n",
      "\u001b[92m2025-06-02 11:10:41,684 - INFO - Deployed egld wrapper contract: erd1qqqqqqqqqqqqqpgqhe8t5jewej70zupmh44jurgn29psua5l2jps3ntjj3\u001b[0m\n",
      "\u001b[92m2025-06-02 11:10:41,685 - INFO - Deployed egld wrapper contract: erd1qqqqqqqqqqqqqpgqmuk0q2saj0mgutxm4teywre6dl8wqf58xamqdrukln\u001b[0m\n",
      "\u001b[92m2025-06-02 11:10:41,685 - INFO - locked_assets:\u001b[0m\n",
      "\u001b[92m2025-06-02 11:10:41,686 - INFO - Deployed locked asset contract: erd1qqqqqqqqqqqqqpgqjpt0qqgsrdhp2xqygpjtfrpwf76f9nvg2jpsg4q7th\u001b[0m\n",
      "\u001b[92m2025-06-02 11:10:41,686 - INFO -  ├ Unlocked token: MEX-455c57\u001b[0m\n",
      "\u001b[92m2025-06-02 11:10:41,687 - INFO -  ├ Locked token: LKMEX-aab910\u001b[0m\n",
      "\u001b[92m2025-06-02 11:10:41,687 - INFO - proxies:\u001b[0m\n",
      "\u001b[92m2025-06-02 11:10:41,687 - INFO - Deployed proxy contract: erd1qqqqqqqqqqqqqpgqrc4pg2xarca9z34njcxeur622qmfjp8w2jps89fxnl\u001b[0m\n",
      "\u001b[92m2025-06-02 11:10:41,688 - INFO -  ├ Token: MEX-455c57\u001b[0m\n",
      "\u001b[92m2025-06-02 11:10:41,688 - INFO -  ├ Locked tokens: ['LKMEX-aab910']\u001b[0m\n",
      "\u001b[92m2025-06-02 11:10:41,689 - INFO -  ├ Proxy LP token: LKLP-03a2fa\u001b[0m\n",
      "\u001b[92m2025-06-02 11:10:41,689 - INFO -  ├ Proxy Farm token: LKFARM-9d1ea8\u001b[0m\n",
      "\u001b[92m2025-06-02 11:10:41,690 - INFO - simple_locks:\u001b[0m\n",
      "\u001b[92m2025-06-02 11:10:41,690 - INFO - simple_locks_energy:\u001b[0m\n",
      "\u001b[92m2025-06-02 11:10:41,691 - INFO - Deployed simple lock energy contract: erd1qqqqqqqqqqqqqpgq0tajepcazernwt74820t8ef7t28vjfgukp2sw239f3\u001b[0m\n",
      "\u001b[92m2025-06-02 11:10:41,691 - INFO -  ├ Base token: MEX-455c57\u001b[0m\n",
      "\u001b[92m2025-06-02 11:10:41,691 - INFO -  ├ Locked token: XMEX-fda355\u001b[0m\n",
      "\u001b[92m2025-06-02 11:10:41,692 - INFO -  ├ Locked LP token: \u001b[0m\n",
      "\u001b[92m2025-06-02 11:10:41,692 - INFO -  ├ Locked Farm token: \u001b[0m\n",
      "\u001b[92m2025-06-02 11:10:41,693 - INFO - fees_collectors:\u001b[0m\n",
      "\u001b[92m2025-06-02 11:10:41,693 - INFO - Deployed fees collector contract: erd1qqqqqqqqqqqqqpgqjsnxqprks7qxfwkcg2m2v9hxkrchgm9akp2segrswt\u001b[0m\n",
      "\u001b[92m2025-06-02 11:10:41,694 - INFO - unstakers:\u001b[0m\n",
      "\u001b[92m2025-06-02 11:10:41,694 - INFO - Deployed token unstake contract: erd1qqqqqqqqqqqqqpgqxv0y4p6vvszrknaztatycac77yvsxqrrkp2sghd86c\u001b[0m\n",
      "\u001b[92m2025-06-02 11:10:41,694 - INFO - proxies_v2:\u001b[0m\n",
      "\u001b[92m2025-06-02 11:10:41,695 - INFO - Deployed proxy contract: erd1qqqqqqqqqqqqqpgqt6ltx52ukss9d2qag2k67at28a36xc9lkp2sr06394\u001b[0m\n",
      "\u001b[92m2025-06-02 11:10:41,695 - INFO -  ├ Token: MEX-455c57\u001b[0m\n",
      "\u001b[92m2025-06-02 11:10:41,695 - INFO -  ├ Locked tokens: ['LKMEX-aab910', 'XMEX-fda355']\u001b[0m\n",
      "\u001b[92m2025-06-02 11:10:41,695 - INFO -  ├ Proxy LP token: XMEXLP-2cbdce\u001b[0m\n",
      "\u001b[92m2025-06-02 11:10:41,696 - INFO -  ├ Proxy Farm token: XMEXFARM-e0a3dc\u001b[0m\n",
      "\u001b[92m2025-06-02 11:10:41,696 - INFO - position_creator:\u001b[0m\n",
      "\u001b[92m2025-06-02 11:10:41,696 - INFO - Deployed position creator contract: erd1qqqqqqqqqqqqqpgq43cyf9yjfy79ey0cax55kenxgpefhayk2jps6zt793\u001b[0m\n",
      "\u001b[92m2025-06-02 11:10:41,697 - INFO -  ├ EGLD Wrapper address: \u001b[0m\n",
      "\u001b[92m2025-06-02 11:10:41,697 - INFO -  ├ Router address: \u001b[0m\n",
      "\u001b[92m2025-06-02 11:10:41,697 - INFO - locked_token_position_creator:\u001b[0m\n",
      "\u001b[92m2025-06-02 11:10:41,698 - INFO - Deployed locked token position creator contract: erd1qqqqqqqqqqqqqpgqwtyu7d5qw322smp0kjq789ua0wtz5cfa2jpsu999xr\u001b[0m\n",
      "\u001b[92m2025-06-02 11:10:41,698 - INFO -  ├ Energy Factory address: \u001b[0m\n",
      "\u001b[92m2025-06-02 11:10:41,698 - INFO -  ├ EGLD Wrapper address: \u001b[0m\n",
      "\u001b[92m2025-06-02 11:10:41,698 - INFO -  ├ Mex-Wegld LP Pair address: \u001b[0m\n",
      "\u001b[92m2025-06-02 11:10:41,699 - INFO -  ├ Mex-Wegld LP Farm address: \u001b[0m\n",
      "\u001b[92m2025-06-02 11:10:41,699 - INFO -  ├ Proxy Dex address: \u001b[0m\n",
      "\u001b[92m2025-06-02 11:10:41,699 - INFO -  ├ Router address: \u001b[0m\n",
      "\u001b[92m2025-06-02 11:10:41,700 - INFO - router:\u001b[0m\n",
      "\u001b[92m2025-06-02 11:10:41,700 - INFO - router_v2:\u001b[0m\n",
      "\u001b[92m2025-06-02 11:10:41,700 - INFO - Deployed router contract: erd1qqqqqqqqqqqqqpgqq66xk9gfr4esuhem3jru86wg5hvp33a62jps2fy57p\u001b[0m\n",
      "\u001b[92m2025-06-02 11:10:41,700 - INFO - pairs:\u001b[0m\n",
      "\u001b[92m2025-06-02 11:10:41,701 - INFO - pairs_v2:\u001b[0m\n",
      "\u001b[92m2025-06-02 11:10:41,701 - INFO - Deployed pair contract: erd1qqqqqqqqqqqqqpgqa0fsfshnff4n76jhcye6k7uvd7qacsq42jpsp6shh2\u001b[0m\n",
      "\u001b[92m2025-06-02 11:10:41,701 - INFO -  ├ First token: WEGLD-bd4d79\u001b[0m\n",
      "\u001b[92m2025-06-02 11:10:41,701 - INFO -  ├ Second token: MEX-455c57\u001b[0m\n",
      "\u001b[92m2025-06-02 11:10:41,702 - INFO -  ├ LP token: EGLDMEX-0be9e5\u001b[0m\n",
      "\u001b[92m2025-06-02 11:10:41,702 - INFO - Deployed pair contract: erd1qqqqqqqqqqqqqpgqeel2kumf0r8ffyhth7pqdujjat9nx0862jpsg2pqaq\u001b[0m\n",
      "\u001b[92m2025-06-02 11:10:41,702 - INFO -  ├ First token: WEGLD-bd4d79\u001b[0m\n",
      "\u001b[92m2025-06-02 11:10:41,702 - INFO -  ├ Second token: USDC-c76f1f\u001b[0m\n",
      "\u001b[92m2025-06-02 11:10:41,703 - INFO -  ├ LP token: EGLDUSDC-594e5e\u001b[0m\n",
      "\u001b[92m2025-06-02 11:10:41,703 - INFO - Deployed pair contract: erd1qqqqqqqqqqqqqpgqav09xenkuqsdyeyy5evqyhuusvu4gl3t2jpss57g8x\u001b[0m\n",
      "\u001b[92m2025-06-02 11:10:41,703 - INFO -  ├ First token: WEGLD-bd4d79\u001b[0m\n",
      "\u001b[92m2025-06-02 11:10:41,703 - INFO -  ├ Second token: RIDE-7d18e9\u001b[0m\n",
      "\u001b[92m2025-06-02 11:10:41,703 - INFO -  ├ LP token: EGLDRIDE-7bd51a\u001b[0m\n",
      "\u001b[92m2025-06-02 11:10:41,704 - INFO - Deployed pair contract: erd1qqqqqqqqqqqqqpgqpmud7t8uprrxzgu8eq2mtkl08kesflj62jps9j8dyh\u001b[0m\n",
      "\u001b[92m2025-06-02 11:10:41,704 - INFO -  ├ First token: ITHEUM-df6f26\u001b[0m\n",
      "\u001b[92m2025-06-02 11:10:41,704 - INFO -  ├ Second token: WEGLD-bd4d79\u001b[0m\n",
      "\u001b[92m2025-06-02 11:10:41,704 - INFO -  ├ LP token: ITHWEGLD-1adc53\u001b[0m\n",
      "\u001b[92m2025-06-02 11:10:41,705 - INFO - Deployed pair contract: erd1qqqqqqqqqqqqqpgq0lzzvt2faev4upyf586tg38s84d7zsaj2jpsglugga\u001b[0m\n",
      "\u001b[92m2025-06-02 11:10:41,705 - INFO -  ├ First token: UTK-2f80e9\u001b[0m\n",
      "\u001b[92m2025-06-02 11:10:41,705 - INFO -  ├ Second token: WEGLD-bd4d79\u001b[0m\n",
      "\u001b[92m2025-06-02 11:10:41,706 - INFO -  ├ LP token: UTKWEGLD-c960d1\u001b[0m\n",
      "\u001b[92m2025-06-02 11:10:41,706 - INFO - Deployed pair contract: erd1qqqqqqqqqqqqqpgqf57y8m9krsvrceqxujngzm77p82zqc502jpsnnezqs\u001b[0m\n",
      "\u001b[92m2025-06-02 11:10:41,707 - INFO -  ├ First token: CRT-52decf\u001b[0m\n",
      "\u001b[92m2025-06-02 11:10:41,707 - INFO -  ├ Second token: WEGLD-bd4d79\u001b[0m\n",
      "\u001b[92m2025-06-02 11:10:41,707 - INFO -  ├ LP token: CRTWEGLD-1fac3f\u001b[0m\n",
      "\u001b[92m2025-06-02 11:10:41,707 - INFO - Deployed pair contract: erd1qqqqqqqqqqqqqpgqp5d4x3d263x4alnapwafwujch5xqmvyq2jpsk2xhsy\u001b[0m\n",
      "\u001b[92m2025-06-02 11:10:41,708 - INFO -  ├ First token: ASH-a642d1\u001b[0m\n",
      "\u001b[92m2025-06-02 11:10:41,708 - INFO -  ├ Second token: WEGLD-bd4d79\u001b[0m\n",
      "\u001b[92m2025-06-02 11:10:41,708 - INFO -  ├ LP token: ASHWEGLD-38545c\u001b[0m\n",
      "\u001b[92m2025-06-02 11:10:41,708 - INFO - Deployed pair contract: erd1qqqqqqqqqqqqqpgqtjhhs49h0q2ncld64l3thtk7s7yuw47v2jps8emt0v\u001b[0m\n",
      "\u001b[92m2025-06-02 11:10:41,708 - INFO -  ├ First token: ZPAY-247875\u001b[0m\n",
      "\u001b[92m2025-06-02 11:10:41,709 - INFO -  ├ Second token: WEGLD-bd4d79\u001b[0m\n",
      "\u001b[92m2025-06-02 11:10:41,709 - INFO -  ├ LP token: ZPAYWEGLD-34e5c1\u001b[0m\n",
      "\u001b[92m2025-06-02 11:10:41,709 - INFO - Deployed pair contract: erd1qqqqqqqqqqqqqpgqp32ecg03fyxgt2pf2fsxyg4knvhfvtgz2jps6rx6gf\u001b[0m\n",
      "\u001b[92m2025-06-02 11:10:41,710 - INFO -  ├ First token: BHAT-c1fde3\u001b[0m\n",
      "\u001b[92m2025-06-02 11:10:41,710 - INFO -  ├ Second token: WEGLD-bd4d79\u001b[0m\n",
      "\u001b[92m2025-06-02 11:10:41,710 - INFO -  ├ LP token: BHATWEGLD-f45935\u001b[0m\n",
      "\u001b[92m2025-06-02 11:10:41,710 - INFO - Deployed pair contract: erd1qqqqqqqqqqqqqpgq5jnjpsukhl295ry3wjrd3gtff0amrgux2jpsz3reum\u001b[0m\n",
      "\u001b[92m2025-06-02 11:10:41,710 - INFO -  ├ First token: FOXSY-5d5f3e\u001b[0m\n",
      "\u001b[92m2025-06-02 11:10:41,711 - INFO -  ├ Second token: WEGLD-bd4d79\u001b[0m\n",
      "\u001b[92m2025-06-02 11:10:41,711 - INFO -  ├ LP token: FOXSYWEGLD-2a5635\u001b[0m\n",
      "\u001b[92m2025-06-02 11:10:41,711 - INFO - Deployed pair contract: erd1qqqqqqqqqqqqqpgqv0c22xku4vd5ugfh0u53tqufmdkqx5nv2jps8vsccx\u001b[0m\n",
      "\u001b[92m2025-06-02 11:10:41,711 - INFO -  ├ First token: MEX-455c57\u001b[0m\n",
      "\u001b[92m2025-06-02 11:10:41,712 - INFO -  ├ Second token: USDC-c76f1f\u001b[0m\n",
      "\u001b[92m2025-06-02 11:10:41,712 - INFO -  ├ LP token: MEXUSDC-a57860\u001b[0m\n",
      "\u001b[92m2025-06-02 11:10:41,712 - INFO - Deployed pair contract: erd1qqqqqqqqqqqqqpgqthhxe87ulznhhm72jekexj9rwqzu3zsv2jps88erau\u001b[0m\n",
      "\u001b[92m2025-06-02 11:10:41,712 - INFO -  ├ First token: KWAK-469ab0\u001b[0m\n",
      "\u001b[92m2025-06-02 11:10:41,713 - INFO -  ├ Second token: WEGLD-bd4d79\u001b[0m\n",
      "\u001b[92m2025-06-02 11:10:41,713 - INFO -  ├ LP token: KWAKWEGLD-014bfc\u001b[0m\n",
      "\u001b[92m2025-06-02 11:10:41,713 - INFO - Deployed pair contract: erd1qqqqqqqqqqqqqpgqyghvzwv9qyzq95vwhvk4tafg945r8hcf2jps0x7me7\u001b[0m\n",
      "\u001b[92m2025-06-02 11:10:41,713 - INFO -  ├ First token: MEX-455c57\u001b[0m\n",
      "\u001b[92m2025-06-02 11:10:41,714 - INFO -  ├ Second token: USH-111e09\u001b[0m\n",
      "\u001b[92m2025-06-02 11:10:41,714 - INFO -  ├ LP token: MEXUSH-179240\u001b[0m\n",
      "\u001b[92m2025-06-02 11:10:41,714 - INFO - pairs_view:\u001b[0m\n",
      "\u001b[92m2025-06-02 11:10:41,714 - INFO - Deployed pair contract: erd1qqqqqqqqqqqqqpgqtce4z8zzz76xjht3hak0hseshcmj3ush2jps2exxjn\u001b[0m\n",
      "\u001b[92m2025-06-02 11:10:41,715 - INFO -  ├ First token: \u001b[0m\n",
      "\u001b[92m2025-06-02 11:10:41,715 - INFO -  ├ Second token: \u001b[0m\n",
      "\u001b[92m2025-06-02 11:10:41,715 - INFO -  ├ LP token: \u001b[0m\n",
      "\u001b[92m2025-06-02 11:10:41,715 - INFO - permissions_hubs:\u001b[0m\n",
      "\u001b[92m2025-06-02 11:10:41,716 - INFO - Deployed permissions hub contract: erd1qqqqqqqqqqqqqpgq0a80r53sla2lx8wyfhqnz69prntkefs42jps3tdchu\u001b[0m\n",
      "\u001b[92m2025-06-02 11:10:41,716 - INFO - farms_community:\u001b[0m\n",
      "\u001b[92m2025-06-02 11:10:41,716 - INFO - farms_unlocked:\u001b[0m\n",
      "\u001b[92m2025-06-02 11:10:41,717 - INFO - farms_locked:\u001b[0m\n",
      "\u001b[92m2025-06-02 11:10:41,717 - INFO - proxy_deployers:\u001b[0m\n",
      "\u001b[92m2025-06-02 11:10:41,717 - INFO - farms_boosted:\u001b[0m\n",
      "\u001b[92m2025-06-02 11:10:41,718 - INFO - Deployed farm contract: erd1qqqqqqqqqqqqqpgqapxdp9gjxtg60mjwhle3n6h88zch9e7kkp2s8aqhkg\u001b[0m\n",
      "\u001b[92m2025-06-02 11:10:41,718 - INFO -  ├ Farming token: EGLDMEX-0be9e5\u001b[0m\n",
      "\u001b[92m2025-06-02 11:10:41,718 - INFO -  ├ Farmed token: MEX-455c57\u001b[0m\n",
      "\u001b[92m2025-06-02 11:10:41,719 - INFO -  ├ Farm token: EGLDMEXFL-c2521e\u001b[0m\n",
      "\u001b[92m2025-06-02 11:10:41,719 - INFO - Deployed farm contract: erd1qqqqqqqqqqqqqpgqv0pz5z3fkz54nml6pkzzdruuf020gqzykp2sya7kkv\u001b[0m\n",
      "\u001b[92m2025-06-02 11:10:41,719 - INFO -  ├ Farming token: EGLDUSDC-594e5e\u001b[0m\n",
      "\u001b[92m2025-06-02 11:10:41,719 - INFO -  ├ Farmed token: MEX-455c57\u001b[0m\n",
      "\u001b[92m2025-06-02 11:10:41,720 - INFO -  ├ Farm token: EGLDUSDCFL-45109b\u001b[0m\n",
      "\u001b[92m2025-06-02 11:10:41,720 - INFO - Deployed farm contract: erd1qqqqqqqqqqqqqpgqenvn0s3ldc94q2mlkaqx4arj3zfnvnmakp2sxca2h9\u001b[0m\n",
      "\u001b[92m2025-06-02 11:10:41,720 - INFO -  ├ Farming token: EGLDRIDE-7bd51a\u001b[0m\n",
      "\u001b[92m2025-06-02 11:10:41,720 - INFO -  ├ Farmed token: MEX-455c57\u001b[0m\n",
      "\u001b[92m2025-06-02 11:10:41,721 - INFO -  ├ Farm token: EGLDRIDEFL-7aac94\u001b[0m\n",
      "\u001b[92m2025-06-02 11:10:41,721 - INFO - Deployed farm contract: erd1qqqqqqqqqqqqqpgqrdq6zvepdxg36rey8pmluwur43q4hcx3kp2su4yltq\u001b[0m\n",
      "\u001b[92m2025-06-02 11:10:41,721 - INFO -  ├ Farming token: ITHWEGLD-1adc53\u001b[0m\n",
      "\u001b[92m2025-06-02 11:10:41,722 - INFO -  ├ Farmed token: MEX-455c57\u001b[0m\n",
      "\u001b[92m2025-06-02 11:10:41,722 - INFO -  ├ Farm token: ITHWEGLDFL-7d381f\u001b[0m\n",
      "\u001b[92m2025-06-02 11:10:41,722 - INFO - Deployed farm contract: erd1qqqqqqqqqqqqqpgq4acurmluezvmhna8tztgcrnwh0l70a2wkp2sfh6jkp\u001b[0m\n",
      "\u001b[92m2025-06-02 11:10:41,722 - INFO -  ├ Farming token: UTKWEGLD-c960d1\u001b[0m\n",
      "\u001b[92m2025-06-02 11:10:41,723 - INFO -  ├ Farmed token: MEX-455c57\u001b[0m\n",
      "\u001b[92m2025-06-02 11:10:41,723 - INFO -  ├ Farm token: UTKWEGLDFL-ba26d2\u001b[0m\n",
      "\u001b[92m2025-06-02 11:10:41,724 - INFO - Deployed farm contract: erd1qqqqqqqqqqqqqpgquhqfknr9dg5t0xma0zcc55dm8gwv5rpkkp2sq8f40p\u001b[0m\n",
      "\u001b[92m2025-06-02 11:10:41,725 - INFO -  ├ Farming token: CRTWEGLD-1fac3f\u001b[0m\n",
      "\u001b[92m2025-06-02 11:10:41,725 - INFO -  ├ Farmed token: MEX-455c57\u001b[0m\n",
      "\u001b[92m2025-06-02 11:10:41,726 - INFO -  ├ Farm token: CRTWEGLDFL-4fd518\u001b[0m\n",
      "\u001b[92m2025-06-02 11:10:41,726 - INFO - Deployed farm contract: erd1qqqqqqqqqqqqqpgq6v5ta4memvrhjs4x3gqn90c3pujc77takp2sqhxm9j\u001b[0m\n",
      "\u001b[92m2025-06-02 11:10:41,727 - INFO -  ├ Farming token: ASHWEGLD-38545c\u001b[0m\n",
      "\u001b[92m2025-06-02 11:10:41,727 - INFO -  ├ Farmed token: MEX-455c57\u001b[0m\n",
      "\u001b[92m2025-06-02 11:10:41,728 - INFO -  ├ Farm token: ASHWEGLDFL-9612cf\u001b[0m\n",
      "\u001b[92m2025-06-02 11:10:41,728 - INFO - Deployed farm contract: erd1qqqqqqqqqqqqqpgqqqckvlhd3n7ntt5w3vln4xh3tsfpj0hr2jpsxlzgcj\u001b[0m\n",
      "\u001b[92m2025-06-02 11:10:41,728 - INFO -  ├ Farming token: ZPAYWEGLD-34e5c1\u001b[0m\n",
      "\u001b[92m2025-06-02 11:10:41,729 - INFO -  ├ Farmed token: MEX-455c57\u001b[0m\n",
      "\u001b[92m2025-06-02 11:10:41,729 - INFO -  ├ Farm token: ZPAYEGLDFL-4faf85\u001b[0m\n",
      "\u001b[92m2025-06-02 11:10:41,730 - INFO - Deployed farm contract: erd1qqqqqqqqqqqqqpgqcfkmz2j0e8pj0nzuk9j6mzcav0wpthq52jpsg546ch\u001b[0m\n",
      "\u001b[92m2025-06-02 11:10:41,730 - INFO -  ├ Farming token: BHATWEGLD-f45935\u001b[0m\n",
      "\u001b[92m2025-06-02 11:10:41,730 - INFO -  ├ Farmed token: MEX-455c57\u001b[0m\n",
      "\u001b[92m2025-06-02 11:10:41,731 - INFO -  ├ Farm token: BHATEGLDFL-259b84\u001b[0m\n",
      "\u001b[92m2025-06-02 11:10:41,731 - INFO - Deployed farm contract: erd1qqqqqqqqqqqqqpgqu288dj3qgrelujal5wynsv5zrf7u0hwlkp2se383n7\u001b[0m\n",
      "\u001b[92m2025-06-02 11:10:41,732 - INFO -  ├ Farming token: FOXSYWEGLD-2a5635\u001b[0m\n",
      "\u001b[92m2025-06-02 11:10:41,732 - INFO -  ├ Farmed token: MEX-455c57\u001b[0m\n",
      "\u001b[92m2025-06-02 11:10:41,732 - INFO -  ├ Farm token: FOXSEGLDFL-f10836\u001b[0m\n",
      "\u001b[92m2025-06-02 11:10:41,733 - INFO - Deployed farm contract: erd1qqqqqqqqqqqqqpgqtdc0rzjwmp9qs0h0wj9pjwxnp5vjc9hdkp2swd4dxz\u001b[0m\n",
      "\u001b[92m2025-06-02 11:10:41,733 - INFO -  ├ Farming token: EGLDMEX-0be9e5\u001b[0m\n",
      "\u001b[92m2025-06-02 11:10:41,734 - INFO -  ├ Farmed token: MEX-455c57\u001b[0m\n",
      "\u001b[92m2025-06-02 11:10:41,734 - INFO -  ├ Farm token: EGLDMEXFL-a51a1d\u001b[0m\n",
      "\u001b[92m2025-06-02 11:10:41,734 - INFO - Deployed farm contract: erd1qqqqqqqqqqqqqpgqzfy62c66hjuu9lm2c9mr4gcver9lmnydkp2st70eq5\u001b[0m\n",
      "\u001b[92m2025-06-02 11:10:41,735 - INFO -  ├ Farming token: MEXUSDC-a57860\u001b[0m\n",
      "\u001b[92m2025-06-02 11:10:41,735 - INFO -  ├ Farmed token: MEX-455c57\u001b[0m\n",
      "\u001b[92m2025-06-02 11:10:41,736 - INFO -  ├ Farm token: MEXUSDCFL-f9379f\u001b[0m\n",
      "\u001b[92m2025-06-02 11:10:41,736 - INFO - Deployed farm contract: erd1qqqqqqqqqqqqqpgqgg42sl557vh7rwt600w76pe48u64qngmkp2sl8mrfx\u001b[0m\n",
      "\u001b[92m2025-06-02 11:10:41,736 - INFO -  ├ Farming token: KWAKWEGLD-014bfc\u001b[0m\n",
      "\u001b[92m2025-06-02 11:10:41,737 - INFO -  ├ Farmed token: MEX-455c57\u001b[0m\n",
      "\u001b[92m2025-06-02 11:10:41,737 - INFO -  ├ Farm token: KWAKEGLDFL-891492\u001b[0m\n",
      "\u001b[92m2025-06-02 11:10:41,738 - INFO - Deployed farm contract: erd1qqqqqqqqqqqqqpgqx6qadfnrgfqkgfmq5nj92j3u2qm2yfs9kp2say42ng\u001b[0m\n",
      "\u001b[92m2025-06-02 11:10:41,738 - INFO -  ├ Farming token: MEXUSH-179240\u001b[0m\n",
      "\u001b[92m2025-06-02 11:10:41,738 - INFO -  ├ Farmed token: MEX-455c57\u001b[0m\n",
      "\u001b[92m2025-06-02 11:10:41,739 - INFO -  ├ Farm token: MEXUSHFL-c05c82\u001b[0m\n",
      "\u001b[92m2025-06-02 11:10:41,739 - INFO - price_discoveries:\u001b[0m\n",
      "\u001b[92m2025-06-02 11:10:41,739 - INFO - stakings:\u001b[0m\n",
      "\u001b[92m2025-06-02 11:10:41,740 - INFO - stakings_v2:\u001b[0m\n",
      "\u001b[92m2025-06-02 11:10:41,740 - INFO - Deployed staking contract: erd1qqqqqqqqqqqqqpgqmqq78c5htmdnws8hm5u4suvags36eq092jpsaxv3e7\u001b[0m\n",
      "\u001b[92m2025-06-02 11:10:41,741 - INFO -  ├ Staking token: RIDE-7d18e9\u001b[0m\n",
      "\u001b[92m2025-06-02 11:10:41,741 - INFO -  ├ Stake token: SRIDE-4ab1d4\u001b[0m\n",
      "\u001b[92m2025-06-02 11:10:41,742 - INFO - Deployed staking contract: erd1qqqqqqqqqqqqqpgqr7kdhagkqgxvjrsk7s5333l9wwnenr9g2jps8puq33\u001b[0m\n",
      "\u001b[92m2025-06-02 11:10:41,743 - INFO -  ├ Staking token: ZPAY-247875\u001b[0m\n",
      "\u001b[92m2025-06-02 11:10:41,743 - INFO -  ├ Stake token: SZPAY-9f1b39\u001b[0m\n",
      "\u001b[92m2025-06-02 11:10:41,743 - INFO - Deployed staking contract: erd1qqqqqqqqqqqqqpgqzps75vsk97w9nsx2cenv2r2tyxl4fl402jpsx78m9j\u001b[0m\n",
      "\u001b[92m2025-06-02 11:10:41,744 - INFO -  ├ Staking token: ITHEUM-df6f26\u001b[0m\n",
      "\u001b[92m2025-06-02 11:10:41,744 - INFO -  ├ Stake token: SITHEUM-e05083\u001b[0m\n",
      "\u001b[92m2025-06-02 11:10:41,744 - INFO - Deployed staking contract: erd1qqqqqqqqqqqqqpgq45zs77q884ts6y9zj4jyqfn6ydev8ruv2jps3tteqq\u001b[0m\n",
      "\u001b[92m2025-06-02 11:10:41,745 - INFO -  ├ Staking token: BHAT-c1fde3\u001b[0m\n",
      "\u001b[92m2025-06-02 11:10:41,746 - INFO -  ├ Stake token: SBHAT-89efd3\u001b[0m\n",
      "\u001b[92m2025-06-02 11:10:41,746 - INFO - Deployed staking contract: erd1qqqqqqqqqqqqqpgqcedkmj8ezme6mtautj79ngv7fez978le2jps8jtawn\u001b[0m\n",
      "\u001b[92m2025-06-02 11:10:41,746 - INFO -  ├ Staking token: UTK-2f80e9\u001b[0m\n",
      "\u001b[92m2025-06-02 11:10:41,747 - INFO -  ├ Stake token: SUTK-ba35f3\u001b[0m\n",
      "\u001b[92m2025-06-02 11:10:41,747 - INFO - Deployed staking contract: erd1qqqqqqqqqqqqqpgqp2wfzvkhlpkwcdxx25qzznx33345979w2jpsl3gflj\u001b[0m\n",
      "\u001b[92m2025-06-02 11:10:41,748 - INFO -  ├ Staking token: CRT-52decf\u001b[0m\n",
      "\u001b[92m2025-06-02 11:10:41,748 - INFO -  ├ Stake token: SCRT-acbd64\u001b[0m\n",
      "\u001b[92m2025-06-02 11:10:41,748 - INFO - Deployed staking contract: erd1qqqqqqqqqqqqqpgqjdlnu9ggwfc79pygn5fjjgmdm6d7vu5e2jpsw59amp\u001b[0m\n",
      "\u001b[92m2025-06-02 11:10:41,748 - INFO -  ├ Staking token: ASH-a642d1\u001b[0m\n",
      "\u001b[92m2025-06-02 11:10:41,749 - INFO -  ├ Stake token: SASH-3671bd\u001b[0m\n",
      "\u001b[92m2025-06-02 11:10:41,750 - INFO - Deployed staking contract: erd1qqqqqqqqqqqqqpgq2e4fmlhcv90wrxl2acjpcu3g2l9rpkttx9rs8pppzp\u001b[0m\n",
      "\u001b[92m2025-06-02 11:10:41,750 - INFO -  ├ Staking token: FOXSY-5d5f3e\u001b[0m\n",
      "\u001b[92m2025-06-02 11:10:41,750 - INFO -  ├ Stake token: SFOXSY-e335c1\u001b[0m\n",
      "\u001b[92m2025-06-02 11:10:41,751 - INFO - stakings_boosted:\u001b[0m\n",
      "\u001b[92m2025-06-02 11:10:41,751 - INFO - Deployed staking contract: erd1qqqqqqqqqqqqqpgqv9h8yej6gdddmpdcad96fukxgutvr2sfkp2s7pe5gg\u001b[0m\n",
      "\u001b[92m2025-06-02 11:10:41,751 - INFO -  ├ Staking token: A1X-0d446d\u001b[0m\n",
      "\u001b[92m2025-06-02 11:10:41,752 - INFO -  ├ Stake token: SA1X-3df83f\u001b[0m\n",
      "\u001b[92m2025-06-02 11:10:41,752 - INFO - Deployed staking contract: erd1qqqqqqqqqqqqqpgqf0tlpqkkg7e6mc76ayap6wynktnfmdzmkp2sc67v5w\u001b[0m\n",
      "\u001b[92m2025-06-02 11:10:41,752 - INFO -  ├ Staking token: DRX-b7f337\u001b[0m\n",
      "\u001b[92m2025-06-02 11:10:41,753 - INFO -  ├ Stake token: SDRX-54f46e\u001b[0m\n",
      "\u001b[92m2025-06-02 11:10:41,753 - INFO - Deployed staking contract: erd1qqqqqqqqqqqqqpgqazrruw6kh5cr3xdumyqx49ac09gr5sj7kp2s30u6hl\u001b[0m\n",
      "\u001b[92m2025-06-02 11:10:41,753 - INFO -  ├ Staking token: BOD-204877\u001b[0m\n",
      "\u001b[92m2025-06-02 11:10:41,754 - INFO -  ├ Stake token: SBOD-0bcb5c\u001b[0m\n",
      "\u001b[92m2025-06-02 11:10:41,754 - INFO - metastakings:\u001b[0m\n",
      "\u001b[92m2025-06-02 11:10:41,755 - INFO - metastakings_v2:\u001b[0m\n",
      "\u001b[92m2025-06-02 11:10:41,755 - INFO - Deployed metastaking contract: erd1qqqqqqqqqqqqqpgqjvcrk4tun6l438crr0jcz7q3yzp66smwkp2shzmazs\u001b[0m\n",
      "\u001b[92m2025-06-02 11:10:41,755 - INFO -  ├ Staking token: RIDE-7d18e9\u001b[0m\n",
      "\u001b[92m2025-06-02 11:10:41,756 - INFO -  ├ Metastake token: METARIDELK-f0b4bf\u001b[0m\n",
      "\u001b[92m2025-06-02 11:10:41,756 - INFO -  ├ Stake address: erd1qqqqqqqqqqqqqpgqmqq78c5htmdnws8hm5u4suvags36eq092jpsaxv3e7\u001b[0m\n",
      "\u001b[92m2025-06-02 11:10:41,757 - INFO -  ├ Farm address: erd1qqqqqqqqqqqqqpgqenvn0s3ldc94q2mlkaqx4arj3zfnvnmakp2sxca2h9\u001b[0m\n",
      "\u001b[92m2025-06-02 11:10:41,757 - INFO -  ├ LP address: erd1qqqqqqqqqqqqqpgqav09xenkuqsdyeyy5evqyhuusvu4gl3t2jpss57g8x\u001b[0m\n",
      "\u001b[92m2025-06-02 11:10:41,757 - INFO - Deployed metastaking contract: erd1qqqqqqqqqqqqqpgqduftj7u5u5d4ql2znchcmrcet9kcze7ckp2sk4474f\u001b[0m\n",
      "\u001b[92m2025-06-02 11:10:41,758 - INFO -  ├ Staking token: ITHEUM-df6f26\u001b[0m\n",
      "\u001b[92m2025-06-02 11:10:41,758 - INFO -  ├ Metastake token: METAITHLK-4c3f2e\u001b[0m\n",
      "\u001b[92m2025-06-02 11:10:41,758 - INFO -  ├ Stake address: erd1qqqqqqqqqqqqqpgqzps75vsk97w9nsx2cenv2r2tyxl4fl402jpsx78m9j\u001b[0m\n",
      "\u001b[92m2025-06-02 11:10:41,759 - INFO -  ├ Farm address: erd1qqqqqqqqqqqqqpgqrdq6zvepdxg36rey8pmluwur43q4hcx3kp2su4yltq\u001b[0m\n",
      "\u001b[92m2025-06-02 11:10:41,759 - INFO -  ├ LP address: erd1qqqqqqqqqqqqqpgqpmud7t8uprrxzgu8eq2mtkl08kesflj62jps9j8dyh\u001b[0m\n",
      "\u001b[92m2025-06-02 11:10:41,760 - INFO - Deployed metastaking contract: erd1qqqqqqqqqqqqqpgqmgd0eu4z9kzvrputt4l4kw4fqf2wcjsekp2sftan7s\u001b[0m\n",
      "\u001b[92m2025-06-02 11:10:41,760 - INFO -  ├ Staking token: UTK-2f80e9\u001b[0m\n",
      "\u001b[92m2025-06-02 11:10:41,760 - INFO -  ├ Metastake token: METAUTKLK-112f52\u001b[0m\n",
      "\u001b[92m2025-06-02 11:10:41,761 - INFO -  ├ Stake address: erd1qqqqqqqqqqqqqpgqcedkmj8ezme6mtautj79ngv7fez978le2jps8jtawn\u001b[0m\n",
      "\u001b[92m2025-06-02 11:10:41,761 - INFO -  ├ Farm address: erd1qqqqqqqqqqqqqpgq4acurmluezvmhna8tztgcrnwh0l70a2wkp2sfh6jkp\u001b[0m\n",
      "\u001b[92m2025-06-02 11:10:41,761 - INFO -  ├ LP address: erd1qqqqqqqqqqqqqpgq0lzzvt2faev4upyf586tg38s84d7zsaj2jpsglugga\u001b[0m\n",
      "\u001b[92m2025-06-02 11:10:41,762 - INFO - Deployed metastaking contract: erd1qqqqqqqqqqqqqpgqx6zhjfjnwxpzdcj594htl0y6w60aa3a8kp2se2pdms\u001b[0m\n",
      "\u001b[92m2025-06-02 11:10:41,762 - INFO -  ├ Staking token: CRT-52decf\u001b[0m\n",
      "\u001b[92m2025-06-02 11:10:41,762 - INFO -  ├ Metastake token: METACRTLK-39d11c\u001b[0m\n",
      "\u001b[92m2025-06-02 11:10:41,763 - INFO -  ├ Stake address: erd1qqqqqqqqqqqqqpgqp2wfzvkhlpkwcdxx25qzznx33345979w2jpsl3gflj\u001b[0m\n",
      "\u001b[92m2025-06-02 11:10:41,763 - INFO -  ├ Farm address: erd1qqqqqqqqqqqqqpgquhqfknr9dg5t0xma0zcc55dm8gwv5rpkkp2sq8f40p\u001b[0m\n",
      "\u001b[92m2025-06-02 11:10:41,763 - INFO -  ├ LP address: erd1qqqqqqqqqqqqqpgqf57y8m9krsvrceqxujngzm77p82zqc502jpsnnezqs\u001b[0m\n",
      "\u001b[92m2025-06-02 11:10:41,764 - INFO - metastakings_boosted:\u001b[0m\n",
      "\u001b[92m2025-06-02 11:10:41,764 - INFO - Deployed metastaking contract: erd1qqqqqqqqqqqqqpgqqcgdee7ut4qmx942fpgtk9da53acmserkp2sez9f70\u001b[0m\n",
      "\u001b[92m2025-06-02 11:10:41,764 - INFO -  ├ Staking token: FOXSY-5d5f3e\u001b[0m\n",
      "\u001b[92m2025-06-02 11:10:41,765 - INFO -  ├ Metastake token: METAFOXSLK-2a13e3\u001b[0m\n",
      "\u001b[92m2025-06-02 11:10:41,765 - INFO -  ├ Stake address: erd1qqqqqqqqqqqqqpgq2e4fmlhcv90wrxl2acjpcu3g2l9rpkttx9rs8pppzp\u001b[0m\n",
      "\u001b[92m2025-06-02 11:10:41,765 - INFO -  ├ Farm address: erd1qqqqqqqqqqqqqpgqu288dj3qgrelujal5wynsv5zrf7u0hwlkp2se383n7\u001b[0m\n",
      "\u001b[92m2025-06-02 11:10:41,766 - INFO -  ├ LP address: erd1qqqqqqqqqqqqqpgq5jnjpsukhl295ry3wjrd3gtff0amrgux2jpsz3reum\u001b[0m\n",
      "\u001b[92m2025-06-02 11:10:41,766 - INFO - mex_governance:\u001b[0m\n",
      "\u001b[92m2025-06-02 11:10:41,767 - INFO - escrows:\u001b[0m\n",
      "\u001b[92m2025-06-02 11:10:41,767 - INFO - Deployed escrow contract: erd1qqqqqqqqqqqqqpgqeh4yv09rmyg4xgn5ma03mvm4v5gndu8w2jpsglz3cn\u001b[0m\n",
      "\u001b[92m2025-06-02 11:10:41,768 - INFO - lk_wraps:\u001b[0m\n",
      "\u001b[92m2025-06-02 11:10:41,768 - INFO - Deployed locked token wrapping contract: erd1qqqqqqqqqqqqqpgqu64gygjs5ted4rupaewaszyhaxl9lv7m2jpsw47nzr\u001b[0m\n",
      "\u001b[92m2025-06-02 11:10:41,768 - INFO - governances:\u001b[0m\n",
      "\u001b[92m2025-06-02 11:10:41,769 - INFO - Deployed GovernanceContract contract: erd1qqqqqqqqqqqqqpgqyxqwuhtj3xhftcpn2kzuq07lhdp4ng222jps650gtt\u001b[0m\n",
      "\u001b[92m2025-06-02 11:10:41,769 - INFO - composable_tasks:\u001b[0m\n",
      "\u001b[92m2025-06-02 11:10:41,770 - INFO - Deployed composable tasks contract: erd1qqqqqqqqqqqqqpgqsytkvnexypp7argk02l0rasnj57sxa542jpshkl7df\u001b[0m\n",
      "\u001b[38;20m2025-06-02 11:10:41,773 - DEBUG - Account.sync_nonce() done: 4425\u001b[0m\n"
     ]
    },
    {
     "name": "stdout",
     "output_type": "stream",
     "text": [
      "\n",
      "\n",
      "\n",
      "\n",
      "\n",
      "\n",
      "\n",
      "\n",
      "\n",
      "\n",
      "\n",
      "\n",
      "\n",
      "\n",
      "\n",
      "\n",
      "\n",
      "\n",
      "\n",
      "\n",
      "\n",
      "\n",
      "\n",
      "\n",
      "\n",
      "\n",
      "\n",
      "\n",
      "\n",
      "\n",
      "\n",
      "\n",
      "\n"
     ]
    }
   ],
   "source": [
    "import sys\n",
    "from pathlib import Path\n",
    "from multiversx_sdk import ApiNetworkProvider, ProxyNetworkProvider\n",
    "\n",
    "sys.path.append(str(Path.cwd().parent.parent.absolute()))\n",
    "import config\n",
    "from context import Context\n",
    "from utils.utils_chain import WrapperAddress\n",
    "from multiversx_sdk.abi import Abi\n",
    "\n",
    "SIMULATOR_URL = \"http://localhost:8085\"\n",
    "SIMULATOR_API = \"http://localhost:3001\"\n",
    "\n",
    "GENERATE_BLOCKS_URL = f\"{SIMULATOR_URL}/simulator/generate-blocks\"\n",
    "GENERATE_BLOCKS_UNTIL_EPOCH_REACHED_URL = f\"{SIMULATOR_URL}/simulator/generate-blocks-until-epoch-reached\"\n",
    "PROJECT_ROOT = Path.cwd().parent.parent\n",
    "proxy = ProxyNetworkProvider(SIMULATOR_URL)\n",
    "api = ApiNetworkProvider(SIMULATOR_API)\n",
    "DOCKER_URL = PROJECT_ROOT / \"docker\"\n",
    "\n",
    "context = Context()\n",
    "context.network_provider.proxy = proxy\n",
    "context.network_provider.api = api\n",
    "context.deployer_account.address = WrapperAddress(\"erd1ss6u80ruas2phpmr82r42xnkd6rxy40g9jl69frppl4qez9w2jpsqj8x97\")\n",
    "context.deployer_account.sync_nonce(proxy)\n",
    "\n",
    "wasm_path = \"/home/multiversx/Documents/DEX/git-main/mx-sdk-py-exchange/wasm/mex-governance/mex-governance.wasm\"\n",
    "contract_code_hash = \"ae5c0171d34f2bac384b6d38184f89abd7ef05a4d5d9b973db3c58015bdf587f\""
   ]
  },
  {
   "cell_type": "code",
   "execution_count": 2,
   "id": "2ba542cc",
   "metadata": {},
   "outputs": [],
   "source": [
    "import json\n",
    "import subprocess\n",
    "from time import sleep\n",
    "from typing import Any\n",
    "\n",
    "from utils.utils_chain import Account\n",
    "\n",
    "\n",
    "def load_accounts_state(project_root: Path, addresses: list[str]) -> list[dict[str, Any]]:\n",
    "    states = []\n",
    "    \n",
    "    for address in addresses:\n",
    "        print(f\"Loading state for {address}\")\n",
    "        user_path = f\"0_{address}_0_chain_config_state.json\"\n",
    "        system_account_path = f\"0_system_account_state_{address}.json\"\n",
    "        \n",
    "        user_file = project_root / \"states\" / user_path\n",
    "        system_file = project_root / \"states\" / system_account_path\n",
    "        \n",
    "        if user_file.exists():\n",
    "            with open(user_file, \"r\") as file:\n",
    "                user_state = json.load(file)\n",
    "                if user_state:\n",
    "                    print(f\"Found {user_file.name}\")\n",
    "                    states.append(user_state)\n",
    "                \n",
    "        if system_file.exists():\n",
    "            with open(system_file, \"r\") as file:\n",
    "                system_state = json.load(file)\n",
    "                if system_state:\n",
    "                    print(f\"Found {system_file.name}\")\n",
    "                    states.append(system_state)\n",
    "            \n",
    "    return states\n",
    "    \n",
    "def apply_states(proxy: ProxyNetworkProvider, states: list[dict[str, Any]]):\n",
    "    for state in states:\n",
    "        proxy.do_post(f\"{SIMULATOR_URL}/simulator/set-state\", state)\n",
    "\n",
    "# @pytest.fixture\n",
    "def load_and_apply_state(proxy: ProxyNetworkProvider, project_root: Path, owner: str, users: list[str]):\n",
    "    # Load and set state for all keys\n",
    "    with open(project_root / \"states\" / \"0_all_all_keys.json\", \"r\") as file:\n",
    "        retrieved_state = json.load(file)\n",
    "        apply_states(proxy, [retrieved_state])\n",
    "\n",
    "    # Load owner and users state\n",
    "    accounts = [owner]\n",
    "    accounts.extend(users)\n",
    "    states = load_accounts_state(project_root, accounts)\n",
    "    apply_states(proxy, states)\n",
    "        \n",
    "\n",
    "def advance_blocks(number_of_blocks: int):\n",
    "    proxy.do_post(f\"{GENERATE_BLOCKS_URL}/{number_of_blocks}\", {})\n",
    "\n",
    "def advance_epoch(number_of_epochs: int):\n",
    "    proxy.do_post(f\"{GENERATE_BLOCKS_URL}/{number_of_epochs * 20}\", {})\n",
    "\n",
    "def advance_to_epoch(epoch: int):\n",
    "    proxy.do_post(f\"{GENERATE_BLOCKS_UNTIL_EPOCH_REACHED_URL}/{epoch}\", {})\n",
    "\n",
    "def users_init() -> list[Account]:\n",
    "    print(context.deployer_account.address.bech32())\n",
    "    context.deployer_account.sync_nonce(context.network_provider.proxy)\n",
    "\n",
    "    users = []\n",
    "    for user in USERS:\n",
    "        user_account = Account(pem_file=config.DEFAULT_ACCOUNTS)\n",
    "        user_account.address = WrapperAddress(user)\n",
    "        user_account.sync_nonce(context.network_provider.proxy)\n",
    "        users.append(user_account)\n",
    "\n",
    "    return users"
   ]
  },
  {
   "cell_type": "code",
   "execution_count": 3,
   "id": "eeacb1e7",
   "metadata": {},
   "outputs": [
    {
     "name": "stderr",
     "output_type": "stream",
     "text": [
      "\u001b[38;20m2025-05-30 09:35:50,307 - DEBUG - Account.sync_nonce() done: 4422\u001b[0m\n",
      "\u001b[38;20m2025-05-30 09:35:50,312 - DEBUG - Account.sync_nonce() done: 2729\u001b[0m\n",
      "\u001b[38;20m2025-05-30 09:35:50,320 - DEBUG - Account.sync_nonce() done: 0\u001b[0m\n",
      "\u001b[38;20m2025-05-30 09:35:50,325 - DEBUG - Account.sync_nonce() done: 0\u001b[0m\n",
      "\u001b[38;20m2025-05-30 09:35:50,331 - DEBUG - Account.sync_nonce() done: 4422\u001b[0m\n",
      "\u001b[38;20m2025-05-30 09:35:50,335 - DEBUG - Account.sync_nonce() done: 0\u001b[0m\n"
     ]
    },
    {
     "name": "stdout",
     "output_type": "stream",
     "text": [
      "erd1ss6u80ruas2phpmr82r42xnkd6rxy40g9jl69frppl4qez9w2jpsqj8x97\n"
     ]
    }
   ],
   "source": [
    "from utils.utils_chain import Account, WrapperAddress as Address\n",
    "\n",
    "\n",
    "USERS = [\n",
    "        \"erd1emxytu3umnzm4k2cn2xmtppy8j3dm3lnsjhfzkul8gd5a4xxuk3qsl4xjw\", \n",
    "        \"erd1rv5twgkz5uatdvgk5ymzmgzmz38dxqh8agvlkt97mfun8hn4x4xqyptslm\",\n",
    "        \"erd1njvcr0r89km6pexrxh0d6h36pkeuwr5j042e7l46l3mdlxvwhejsfz9w4n\",\n",
    "        \"erd1ss6u80ruas2phpmr82r42xnkd6rxy40g9jl69frppl4qez9w2jpsqj8x97\" # DEX OWNER\n",
    "]\n",
    "\n",
    "BASE_TOKEN = \"MEX-455c57\"\n",
    "\n",
    "\n",
    "users = users_init()\n",
    "user_account = Account(users[2].address.to_bech32())\n",
    "user_account.sync_nonce(context.network_provider.proxy)\n",
    "user_account.signer = context.deployer_account.signer"
   ]
  },
  {
   "cell_type": "code",
   "execution_count": 4,
   "id": "a7fb11a8",
   "metadata": {},
   "outputs": [
    {
     "name": "stdout",
     "output_type": "stream",
     "text": [
      "erd1qqqqqqqqqqqqqpgqq66xk9gfr4esuhem3jru86wg5hvp33a62jps2fy57p\n",
      "erd1qqqqqqqqqqqqqpgq0lzzvt2faev4upyf586tg38s84d7zsaj2jpsglugga\n",
      "erd1qqqqqqqqqqqqqpgqa0fsfshnff4n76jhcye6k7uvd7qacsq42jpsp6shh2\n"
     ]
    }
   ],
   "source": [
    "from utils.contract_data_fetchers import FeeCollectorContractDataFetcher\n",
    "from contracts.router_contract import RouterContract\n",
    "from contracts.simple_lock_energy_contract import SimpleLockEnergyContract\n",
    "from contracts.mex_governance_contract import MEXGovernanceContract\n",
    "from contracts.pair_contract import PairContract\n",
    "from utils.contract_retrievers import retrieve_pair_by_address\n",
    "\n",
    "# mex_governance_contract: MEXGovernanceContract\n",
    "# mex_governance_contract = context.get_contracts(config.FEES_COLLECTORS)[0]\n",
    "\n",
    "energy_contract: SimpleLockEnergyContract\n",
    "router_contract: RouterContract\n",
    "pair_contract: PairContract\n",
    "\n",
    "pair_contract = retrieve_pair_by_address(\"erd1qqqqqqqqqqqqqpgq0lzzvt2faev4upyf586tg38s84d7zsaj2jpsglugga\")    # operating pair\n",
    "mex_contract = retrieve_pair_by_address(\"erd1qqqqqqqqqqqqqpgqa0fsfshnff4n76jhcye6k7uvd7qacsq42jpsp6shh2\") # egldmex contract\n",
    "energy_contract = context.get_contracts(config.SIMPLE_LOCKS_ENERGY)[0]\n",
    "router_contract = context.deploy_structure.get_deployed_contract_by_index(config.ROUTER_V2, 0)\n",
    "\n",
    "# print(mex_governance_contract.address)\n",
    "print(router_contract.address)\n",
    "print(pair_contract.address)\n",
    "print(mex_contract.address)\n"
   ]
  },
  {
   "cell_type": "markdown",
   "id": "accfd7eb",
   "metadata": {},
   "source": [
    "UPGRADE ENERGY FACTORY"
   ]
  },
  {
   "cell_type": "code",
   "execution_count": 7,
   "id": "1d424b6c",
   "metadata": {},
   "outputs": [
    {
     "name": "stderr",
     "output_type": "stream",
     "text": [
      "\u001b[92m2025-05-30 09:37:17,298 - INFO - Upgrade simple lock energy contract\u001b[0m\n",
      "\u001b[38;20m2025-05-30 09:37:17,301 - DEBUG - Upgrade SimpleLockEnergyContract contract\u001b[0m\n",
      "\u001b[38;20m2025-05-30 09:37:17,306 - DEBUG - Upgrade arguments: []\u001b[0m\n",
      "\u001b[38;20m2025-05-30 09:37:17,307 - DEBUG - Bytecode codehash: 4a79a41e418041ab23e5cd124a16869f4a4a9ceb348af51d4a6b2252b0cc294b\u001b[0m\n",
      "\u001b[92m2025-05-30 09:37:17,317 - INFO - No explorer known for http://localhost:8085. transaction raw path: http://localhost:8085/transaction/0212b9f04d257ba71436cd7784031ec6a57c777dd50e46eb3afe2c82590c6316\u001b[0m\n"
     ]
    },
    {
     "data": {
      "text/plain": [
       "'0212b9f04d257ba71436cd7784031ec6a57c777dd50e46eb3afe2c82590c6316'"
      ]
     },
     "execution_count": 7,
     "metadata": {},
     "output_type": "execute_result"
    }
   ],
   "source": [
    "SIMPLE_LOCK_ENERGY_BYTECODE_PATH = \"/home/multiversx/Documents/DEX/git-main/mx-sdk-py-exchange/wasm/energy-factory/energy-factory.wasm\"\n",
    "energy_contract.contract_upgrade(context.deployer_account, context.network_provider.proxy, SIMPLE_LOCK_ENERGY_BYTECODE_PATH, [], True)"
   ]
  },
  {
   "cell_type": "code",
   "execution_count": 8,
   "id": "f55f6e56",
   "metadata": {},
   "outputs": [],
   "source": [
    "advance_blocks(5)"
   ]
  },
  {
   "cell_type": "code",
   "execution_count": null,
   "id": "3cfdd42b",
   "metadata": {},
   "outputs": [],
   "source": [
    "# erd1qqqqqqqqqqqqqpgq4acurmluezvmhna8tztgcrnwh0l70a2wkp2sfh6jkp   UTK\n",
    "from contracts.farm_contract import FarmContract\n",
    "\n",
    "\n",
    "# farm_contract: FarmContract = context.deploy_structure.get_deployed_contract_by_index(config.FARMS_V2, 0)\n",
    "# farms = []\n",
    "\n",
    "farms = context.deploy_structure.get_deployed_contracts(config.FARMS_V2)\n",
    "for farm in farms:\n",
    "    print(farm.address)"
   ]
  },
  {
   "cell_type": "markdown",
   "id": "6b455ed4",
   "metadata": {},
   "source": [
    "DEPLOY FARMS"
   ]
  },
  {
   "cell_type": "code",
   "execution_count": null,
   "id": "4b3d07e1",
   "metadata": {},
   "outputs": [],
   "source": [
    "from contracts.contract_identities import FarmContractVersion\n",
    "from contracts.farm_contract import FarmContract\n",
    "\n",
    "FARM_TOKEN_NAME = \"\"\n",
    "FARM_TOKEN_TICKER = \"\"\n",
    "POOL_ADDRESS = \"erd1qqqqqqqqqqqqqpgqv0c22xku4vd5ugfh0u53tqufmdkqx5nv2jps8vsccx\" #MEX-USDC\n",
    "LOCK_EPOCHS = 1440\n",
    "BOOSTED_YIELD_REWARDS = 6000\n",
    "BOOSTED_YIELD_FACTORS = [2, 1, 0, 1, 1]\n",
    "REWARDS_PER_BLOCK = 1\n",
    "PENALTY_PERCENT = 300\n",
    "MINIMUM_FARMING_EPOCH = 7\n",
    "\n",
    "NO_OF_FARMS = 26\n",
    "farm_contract: FarmContract\n",
    "farm_contract = FarmContract(pair_contract.lpToken, \"\", energy_contract.base_token, \"\", FarmContractVersion.V2Boosted)\n",
    "\n",
    "farms = []\n",
    "admin_address = WrapperAddress(\"erd1ss6u80ruas2phpmr82r42xnkd6rxy40g9jl69frppl4qez9w2jpsqj8x97\")\n",
    "\n",
    "for i in range(NO_OF_FARMS):\n",
    "\n",
    "    hash, address = farm_contract.contract_deploy(context.deployer_account, context.network_provider.proxy, \n",
    "                                              config.FARM_V3_BYTECODE_PATH,\n",
    "                                              [POOL_ADDRESS, context.admin_account.address.to_bech32(),])\n",
    "    farm_contract.address = address\n",
    "    farms.append(address)\n",
    "    print(f\"Farm contract deployed at {address}\")"
   ]
  },
  {
   "cell_type": "code",
   "execution_count": 20,
   "id": "aa345501",
   "metadata": {},
   "outputs": [],
   "source": [
    "advance_blocks(5)"
   ]
  },
  {
   "cell_type": "code",
   "execution_count": null,
   "id": "8f45b89d",
   "metadata": {},
   "outputs": [],
   "source": [
    "for farm in farms:\n",
    "    energy_contract.add_sc_to_whitelist(context.deployer_account, context.network_provider.proxy, farm)\n",
    "    print(farm)\n",
    "\n",
    "advance_blocks(10)"
   ]
  },
  {
   "cell_type": "markdown",
   "id": "ac0077f7",
   "metadata": {},
   "source": [
    "CONTRACT DEPLOY"
   ]
  },
  {
   "cell_type": "code",
   "execution_count": 6,
   "id": "fb06bd2d",
   "metadata": {},
   "outputs": [
    {
     "name": "stderr",
     "output_type": "stream",
     "text": [
      "\u001b[92m2025-05-30 09:36:11,808 - INFO - Deployed mex governance contract: \u001b[0m\n",
      "\u001b[92m2025-05-30 09:36:11,809 - INFO - Deploy MEXGovernanceContract contract\u001b[0m\n",
      "\u001b[38;20m2025-05-30 09:36:11,810 - DEBUG - Deploy MEXGovernanceContract\u001b[0m\n",
      "\u001b[38;20m2025-05-30 09:36:11,814 - DEBUG - Deploy arguments: [10000, 'MEX-455c57', erd1qqqqqqqqqqqqqpgq0tajepcazernwt74820t8ef7t28vjfgukp2sw239f3]\u001b[0m\n",
      "\u001b[38;20m2025-05-30 09:36:11,815 - DEBUG - Bytecode codehash: 5e2e6f7508cab7ab671c1458d7b25109c5e1c81e9b9e0d665b5c7505ab9ea630\u001b[0m\n",
      "\u001b[92m2025-05-30 09:36:11,823 - INFO - No explorer known for http://localhost:8085. transaction raw path: http://localhost:8085/transaction/cacb82147a45b63d45b1fd4545ce8668b4fe4860c5bfc49e01bb25bf08edd6d6\u001b[0m\n"
     ]
    },
    {
     "name": "stdout",
     "output_type": "stream",
     "text": [
      "Energy contract address: erd1qqqqqqqqqqqqqpgq0tajepcazernwt74820t8ef7t28vjfgukp2sw239f3\n",
      "None\n",
      "Mex governance contract deployed at erd1qqqqqqqqqqqqqpgqhpjpk3tr93fsa76csgxdjsfj5qu8gaew2jpsplv2rr\n"
     ]
    }
   ],
   "source": [
    "\n",
    "reference_emission_rate = 10000\n",
    "incentive_token = \"MEX-455c57\"\n",
    "print(f\"Energy contract address: {energy_contract.address}\")\n",
    "mex_governance_contract: MEXGovernanceContract = MEXGovernanceContract(reference_emission_rate,incentive_token,\"\")\n",
    "print(mex_governance_contract.print_contract_info())\n",
    "args = [\n",
    "    reference_emission_rate,\n",
    "    incentive_token, \n",
    "    energy_contract.address\n",
    "    ]\n",
    "\n",
    "hash, mex_governance_address = mex_governance_contract.contract_deploy(context.deployer_account, context.network_provider.proxy, wasm_path, args)\n",
    "print(f\"Mex governance contract deployed at {mex_governance_address}\")\n",
    "mex_governance_contract.address = mex_governance_address"
   ]
  },
  {
   "cell_type": "code",
   "execution_count": 6,
   "id": "7de4b240",
   "metadata": {},
   "outputs": [],
   "source": [
    "from multiversx_sdk import Address\n",
    "\n",
    "ex_governance_contract: MEXGovernanceContract = MEXGovernanceContract(reference_emission_rate,incentive_token,\"\")\n",
    "mex_governance_contract.address = \"erd1qqqqqqqqqqqqqpgq3nr7q49ez46sdmkt8pqj0qwk4k6wemu42jpsr7ayfm\""
   ]
  },
  {
   "cell_type": "code",
   "execution_count": 29,
   "id": "23f6a4ba",
   "metadata": {},
   "outputs": [],
   "source": [
    "advance_blocks(5)"
   ]
  },
  {
   "cell_type": "markdown",
   "id": "a7137459",
   "metadata": {},
   "source": [
    "CONTRACT UPGRADE"
   ]
  },
  {
   "cell_type": "code",
   "execution_count": null,
   "id": "e4ec6605",
   "metadata": {},
   "outputs": [],
   "source": [
    "args = [\n",
    "    reference_emission_rate,\n",
    "    incentive_token, \n",
    "    energy_contract.address\n",
    "    ]\n",
    "\n",
    "mex_governance_contract.contract_upgrade(context.deployer_account,proxy,wasm_path, args, True)"
   ]
  },
  {
   "cell_type": "code",
   "execution_count": 24,
   "id": "b7d3ddb5",
   "metadata": {},
   "outputs": [
    {
     "name": "stderr",
     "output_type": "stream",
     "text": [
      "\u001b[38;20m2025-05-28 09:07:06,052 - DEBUG - Account.sync_nonce() done: 4421\u001b[0m\n",
      "\u001b[92m2025-05-28 09:07:06,055 - INFO - Add to unlocked token mint whitelist\u001b[0m\n",
      "\u001b[38;20m2025-05-28 09:07:06,058 - DEBUG - Calling addToUnlockedTokenMintWhitelist at erd1qqqqqqqqqqqqqpgq0tajepcazernwt74820t8ef7t28vjfgukp2sw239f3\u001b[0m\n",
      "\u001b[38;20m2025-05-28 09:07:06,059 - DEBUG - Args: [erd1qqqqqqqqqqqqqpgq4acurmluezvmhna8tztgcrnwh0l70a2wkp2sfh6jkp]\u001b[0m\n",
      "\u001b[38;20m2025-05-28 09:07:06,065 - DEBUG - Contract call arguments: [erd1qqqqqqqqqqqqqpgq4acurmluezvmhna8tztgcrnwh0l70a2wkp2sfh6jkp]\u001b[0m\n",
      "\u001b[92m2025-05-28 09:07:06,070 - INFO - No explorer known for http://localhost:8085. transaction raw path: http://localhost:8085/transaction/5d8d6d94a7ca175cdb08a3c7670fd83a7c819831407f9ae819722f4983c5902b\u001b[0m\n"
     ]
    },
    {
     "data": {
      "text/plain": [
       "'5d8d6d94a7ca175cdb08a3c7670fd83a7c819831407f9ae819722f4983c5902b'"
      ]
     },
     "execution_count": 24,
     "metadata": {},
     "output_type": "execute_result"
    }
   ],
   "source": [
    "address = \"erd1qqqqqqqqqqqqqpgq4acurmluezvmhna8tztgcrnwh0l70a2wkp2sfh6jkp\"\n",
    "context.deployer_account.address = WrapperAddress(\"erd1ss6u80ruas2phpmr82r42xnkd6rxy40g9jl69frppl4qez9w2jpsqj8x97\")\n",
    "context.deployer_account.sync_nonce(proxy)\n",
    "# Add the address to the unlocked token mint whitelist\n",
    "energy_contract.add_to_unlocked_token_mint_whitelist(context.deployer_account, context.network_provider.proxy, [address])"
   ]
  },
  {
   "cell_type": "markdown",
   "id": "169711eb",
   "metadata": {},
   "source": [
    "VOTE"
   ]
  },
  {
   "cell_type": "code",
   "execution_count": 25,
   "id": "68267b52",
   "metadata": {},
   "outputs": [
    {
     "name": "stderr",
     "output_type": "stream",
     "text": [
      "\u001b[38;20m2025-06-01 16:54:00,711 - DEBUG - Account.sync_nonce() done: 1027\u001b[0m\n",
      "\u001b[92m2025-06-01 16:54:00,713 - INFO - Vote proposal\u001b[0m\n",
      "\u001b[38;20m2025-06-01 16:54:00,715 - DEBUG - Calling vote at erd1qqqqqqqqqqqqqpgqhpjpk3tr93fsa76csgxdjsfj5qu8gaew2jpsplv2rr\u001b[0m\n",
      "\u001b[38;20m2025-06-01 16:54:00,717 - DEBUG - Args: [[(erd1qqqqqqqqqqqqqpgq4acurmluezvmhna8tztgcrnwh0l70a2wkp2sfh6jkp, 87908537530726782098814095450)]]\u001b[0m\n",
      "\u001b[38;20m2025-06-01 16:54:00,730 - DEBUG - Contract call arguments: [[(erd1qqqqqqqqqqqqqpgq4acurmluezvmhna8tztgcrnwh0l70a2wkp2sfh6jkp, 87908537530726782098814095450)]]\u001b[0m\n",
      "\u001b[92m2025-06-01 16:54:00,747 - INFO - No explorer known for http://localhost:8085. transaction raw path: http://localhost:8085/transaction/3898e2fe578c852878712fba445f0b1fb93451db888c4c09e4d2742636856baa\u001b[0m\n"
     ]
    },
    {
     "data": {
      "text/plain": [
       "'3898e2fe578c852878712fba445f0b1fb93451db888c4c09e4d2742636856baa'"
      ]
     },
     "execution_count": 25,
     "metadata": {},
     "output_type": "execute_result"
    }
   ],
   "source": [
    "# from multiversx_sdk import Address\n",
    "# from utils import WrapperAddress\n",
    "\n",
    "args: list[list[Any]] = []\n",
    "\n",
    "abi = Abi.load(PROJECT_ROOT / \"wasm/mex-governance/mex-governance.abi.json\")\n",
    "\n",
    "# farms = []\n",
    "# farms.append([WrapperAddress(\"erd1qqqqqqqqqqqqqpgqshutpvdms2t92sychk5f0tkp5t4n4aap2jpsc0m7m3\"), 0])\n",
    "\n",
    "args.append((WrapperAddress(\"erd1qqqqqqqqqqqqqpgq4acurmluezvmhna8tztgcrnwh0l70a2wkp2sfh6jkp\"), 87908537530726782098814095450))\n",
    "# args.append((Address()\"erd1qqqqqqqqqqqqqpgqgewhrse0fzm5atnqd4epa49p58v3phuk2jpsthca8n\", 0))\n",
    "\n",
    "# args.append((WrapperAddress(farms[1]), 0))\n",
    "# args.append((WrapperAddress(farms[2]), 0))\n",
    "context.deployer_account.address = users[1].address\n",
    "context.deployer_account.sync_nonce(proxy)\n",
    "\n",
    "sc_args = [\n",
    "    args\n",
    "]\n",
    "mex_governance_contract.vote(context.deployer_account, proxy, abi,sc_args)"
   ]
  },
  {
   "cell_type": "code",
   "execution_count": 26,
   "id": "79e65d5b",
   "metadata": {},
   "outputs": [],
   "source": [
    "advance_blocks(5)"
   ]
  },
  {
   "cell_type": "code",
   "execution_count": 33,
   "id": "37d82eb7",
   "metadata": {},
   "outputs": [
    {
     "name": "stdout",
     "output_type": "stream",
     "text": [
      "Current week: 245\n"
     ]
    }
   ],
   "source": [
    "from utils.contract_data_fetchers import MEXGovernanceContractDataFetcher\n",
    "\n",
    "\n",
    "data_fetcher = MEXGovernanceContractDataFetcher(WrapperAddress(mex_governance_contract.address), context.network_provider.proxy.url)\n",
    "week = data_fetcher.get_data(\"getCurrentWeek\")\n",
    "print(f\"Current week: {week}\")"
   ]
  },
  {
   "cell_type": "markdown",
   "id": "5b60c59a",
   "metadata": {},
   "source": [
    "Incentivize farm"
   ]
  },
  {
   "cell_type": "code",
   "execution_count": 34,
   "id": "c9deca34",
   "metadata": {},
   "outputs": [
    {
     "name": "stderr",
     "output_type": "stream",
     "text": [
      "\u001b[92m2025-06-02 11:21:33,965 - INFO - Set incentive farm\u001b[0m\n",
      "\u001b[38;20m2025-06-02 11:21:33,965 - DEBUG - Set incentive farm\u001b[0m\n",
      "\u001b[38;20m2025-06-02 11:21:33,969 - DEBUG - Contract call arguments: [[(erd1qqqqqqqqqqqqqpgq4acurmluezvmhna8tztgcrnwh0l70a2wkp2sfh6jkp, 100000000000000000000, 246)]]\u001b[0m\n",
      "\u001b[92m2025-06-02 11:21:33,973 - INFO - No explorer known for http://localhost:8085. transaction raw path: http://localhost:8085/transaction/0db47539c81168b09fdff51bc1d195f9bcf5ff968e2cb2b390eb72c0f35ad48e\u001b[0m\n"
     ]
    },
    {
     "data": {
      "text/plain": [
       "'0db47539c81168b09fdff51bc1d195f9bcf5ff968e2cb2b390eb72c0f35ad48e'"
      ]
     },
     "execution_count": 34,
     "metadata": {},
     "output_type": "execute_result"
    }
   ],
   "source": [
    "from multiversx_sdk.abi import Abi\n",
    "\n",
    "from utils.contract_data_fetchers import MEXGovernanceContractDataFetcher\n",
    "from utils.utils_tx import ESDTToken\n",
    "\n",
    "abi = Abi.load(PROJECT_ROOT / \"wasm/mex-governance/mex-governance.abi.json\")\n",
    "\n",
    "incentivize_amount = 100 * 10**18  # 100 MEX\n",
    "\n",
    "args: list[list[Any]] = []\n",
    "args.append((WrapperAddress(\"erd1qqqqqqqqqqqqqpgq4acurmluezvmhna8tztgcrnwh0l70a2wkp2sfh6jkp\"), incentivize_amount, week+1))\n",
    "\n",
    "\n",
    "# mex_governance_contract.address = WrapperAddress(\"erd1qqqqqqqqqqqqqpgq58wgq27e3l475wlcq570xkjc6cmehdlv2jpsgp684p\")\n",
    "tokens = [\n",
    "    ESDTToken(energy_contract.base_token, 0, incentivize_amount)\n",
    "]\n",
    "\n",
    "sc_args = [\n",
    "    tokens,\n",
    "    args\n",
    "    ]\n",
    "mex_governance_contract.incentivize_farm(context.deployer_account, proxy, abi, sc_args)"
   ]
  },
  {
   "cell_type": "code",
   "execution_count": 35,
   "id": "0947c369",
   "metadata": {},
   "outputs": [],
   "source": [
    "advance_blocks(5)"
   ]
  },
  {
   "cell_type": "code",
   "execution_count": null,
   "id": "54128bbf",
   "metadata": {},
   "outputs": [],
   "source": [
    "context.deployer_account.address = WrapperAddress(\"erd1ss6u80ruas2phpmr82r42xnkd6rxy40g9jl69frppl4qez9w2jpsqj8x97\")\n"
   ]
  },
  {
   "cell_type": "code",
   "execution_count": null,
   "id": "d55076c9",
   "metadata": {},
   "outputs": [],
   "source": [
    "context.deployer_account.sync_nonce(proxy)\n",
    "mex_contract.whitelist_contract(context.deployer_account, context.network_provider.proxy, farm)"
   ]
  },
  {
   "cell_type": "markdown",
   "id": "126ac228",
   "metadata": {},
   "source": [
    "Claim incentive"
   ]
  },
  {
   "cell_type": "code",
   "execution_count": null,
   "id": "1ee8a8b2",
   "metadata": {},
   "outputs": [],
   "source": [
    "from utils.contract_data_fetchers import MEXGovernanceContractDataFetcher\n",
    "\n",
    "\n",
    "data_fetcher = MEXGovernanceContractDataFetcher(WrapperAddress(mex_governance_contract.address), context.network_provider.proxy.url)\n",
    "week = data_fetcher.get_data(\"getCurrentWeek\")\n",
    "print(f\"Current week: {week}\")\n",
    "mex_governance_contract.claim_incentive(context.deployer_account, proxy, [week])"
   ]
  },
  {
   "cell_type": "markdown",
   "id": "bb7c848e",
   "metadata": {},
   "source": [
    "SET FARM EMISSION"
   ]
  },
  {
   "cell_type": "code",
   "execution_count": null,
   "id": "d49c4da2",
   "metadata": {},
   "outputs": [],
   "source": [
    "mex_governance_contract.set_farm_emissions(context.deployer_account, proxy, [])"
   ]
  },
  {
   "cell_type": "markdown",
   "id": "4699df2e",
   "metadata": {},
   "source": [
    "Blacklist Farm"
   ]
  },
  {
   "cell_type": "code",
   "execution_count": null,
   "id": "ff8c0e61",
   "metadata": {},
   "outputs": [],
   "source": [
    "mex_governance_contract.blacklist_farm(deployer_account=context.deployer_account, network_provider=context.network_provider.proxy)"
   ]
  },
  {
   "cell_type": "markdown",
   "id": "0e463dba",
   "metadata": {},
   "source": [
    "FUND ACCOUNTS"
   ]
  },
  {
   "cell_type": "code",
   "execution_count": 15,
   "id": "b3e48f7b",
   "metadata": {},
   "outputs": [
    {
     "data": {
      "text/plain": [
       "<multiversx_sdk.network_providers.resources.GenericResponse at 0x71e619721fa0>"
      ]
     },
     "execution_count": 15,
     "metadata": {},
     "output_type": "execute_result"
    }
   ],
   "source": [
    "import json\n",
    "with open(PROJECT_ROOT / \"states\" / \"0_erd1rv5twgkz5uatdvgk5ymzmgzmz38dxqh8agvlkt97mfun8hn4x4xqyptslm_0_chain_config_state.json\", \"r\") as file:\n",
    "    json_account = json.load(file)\n",
    "proxy.do_post(f\"{SIMULATOR_URL}/simulator/set-state\", json_account)"
   ]
  },
  {
   "cell_type": "code",
   "execution_count": null,
   "id": "97e1a970",
   "metadata": {},
   "outputs": [],
   "source": [
    "from utils.utils_chain import Account, WrapperAddress, nominated_amount\n",
    "from utils.utils_tx import endpoint_call\n",
    "\n",
    "sender = Account(pem_file=config.DEFAULT_ACCOUNTS)\n",
    "sender.address = WrapperAddress(\"erd1rf4hv70arudgzus0ymnnsnc4pml0jkywg2xjvzslg0mz4nn2tg7q7k0t6p\")\n",
    "receiver = WrapperAddress(\"erd1emxytu3umnzm4k2cn2xmtppy8j3dm3lnsjhfzkul8gd5a4xxuk3qsl4xjw\")\n",
    "amount = nominated_amount(200)\n",
    "\n",
    "sender.sync_nonce(proxy)\n",
    "endpoint_call(proxy, 100000, sender, receiver, \"cado\", [], amount)\n",
    "\n",
    "advance_epoch(1)"
   ]
  },
  {
   "cell_type": "markdown",
   "id": "6390246b",
   "metadata": {},
   "source": [
    "GET DATA"
   ]
  },
  {
   "cell_type": "code",
   "execution_count": null,
   "id": "1108cb16",
   "metadata": {},
   "outputs": [],
   "source": [
    "from utils.contract_data_fetchers import MEXGovernanceContractDataFetcher\n",
    "\n",
    "week = 1\n",
    "token_identifier = \"MEX-455c57\"\n",
    "data_fetcher = MEXGovernanceContractDataFetcher(WrapperAddress(mex_governance_contract.address), context.network_provider.proxy.url)\n",
    "all_week_emissions = data_fetcher.get_data(\"getAllWeekEmissions\", [week])\n",
    "print(all_week_emissions)"
   ]
  },
  {
   "cell_type": "code",
   "execution_count": null,
   "id": "ab84678d",
   "metadata": {},
   "outputs": [],
   "source": [
    "from utils.contract_data_fetchers import MEXGovernanceContractDataFetcher\n",
    "\n",
    "data_fetcher = MEXGovernanceContractDataFetcher(WrapperAddress(mex_governance_contract.address), context.network_provider.proxy.url)\n",
    "all_week_emissions = data_fetcher.get_data(\"getCurrentWeek\", [])\n",
    "print(all_week_emissions)"
   ]
  },
  {
   "cell_type": "code",
   "execution_count": null,
   "id": "ddfe766b",
   "metadata": {},
   "outputs": [],
   "source": [
    "from utils.contract_data_fetchers import MEXGovernanceContractDataFetcher\n",
    "from utils.utils_chain import base64_to_hex, decode_merged_attributes\n",
    "\n",
    "data_fetcher = MEXGovernanceContractDataFetcher(WrapperAddress(mex_governance_contract.address), context.network_provider.proxy.url)\n",
    "all_week_emissions = data_fetcher.get_data(\"getFirstWeekStartEpoch\", [])\n",
    "print(all_week_emissions)"
   ]
  },
  {
   "cell_type": "code",
   "execution_count": null,
   "id": "7c5318cd",
   "metadata": {},
   "outputs": [],
   "source": [
    "from utils.contract_data_fetchers import MEXGovernanceContractDataFetcher\n",
    "from utils.utils_chain import hex_to_base64, hex_to_string\n",
    "\n",
    "data_fetcher = MEXGovernanceContractDataFetcher(WrapperAddress(mex_governance_contract.address), context.network_provider.proxy.url)\n",
    "energy_factory_address = data_fetcher.get_data(\"getEnergyFactoryAddress\", [])\n",
    "print(f\"Energy factory address: {energy_factory_address}\")\n"
   ]
  },
  {
   "cell_type": "code",
   "execution_count": 24,
   "id": "6e1bd984",
   "metadata": {},
   "outputs": [
    {
     "data": {
      "text/plain": [
       "{'amount': 87908537530726782098814095450,\n",
       " 'last_update_epoch': 1708,\n",
       " 'total_locked_tokens': 66490095120516455474008930}"
      ]
     },
     "execution_count": 24,
     "metadata": {},
     "output_type": "execute_result"
    }
   ],
   "source": [
    "energy_contract.get_energy_for_user(proxy, users[1].address.to_bech32())"
   ]
  },
  {
   "cell_type": "markdown",
   "id": "d886e06d",
   "metadata": {},
   "source": [
    "GET USER ENERGY"
   ]
  },
  {
   "cell_type": "code",
   "execution_count": null,
   "id": "09d5b6f1",
   "metadata": {},
   "outputs": [],
   "source": [
    "from utils.decoding_structures import ENERGY_ENTRY\n",
    "from utils.utils_chain import string_to_hex\n",
    "\n",
    "\n",
    "config.DEFAULT_WORKSPACE\n",
    "with open(config.DEFAULT_WORKSPACE / \"deploy\" / \"configs-mainnet\" / \"upgrader_outputs\" / \"energy-contract-state.json\", \"r\") as f:\n",
    "    energy_contract_state = json.load(f)\n",
    "\n",
    "users = []\n",
    "for key, value in energy_contract_state.items():\n",
    "    if string_to_hex(\"userEnergy\") not in key:\n",
    "        continue\n",
    "    user_address = WrapperAddress.from_hex(key.replace(string_to_hex(\"userEnergy\"), \"\"))\n",
    "    user_energy_entry = decode_merged_attributes(value, ENERGY_ENTRY)\n",
    "\n",
    "    user_dict = {\n",
    "        \"address\": user_address.bech32(),\n",
    "        \"energy\": user_energy_entry.get(\"amount\"),\n",
    "        \"last_update_epoch\": user_energy_entry.get(\"last_update_epoch\"),\n",
    "        \"total_locked_tokens\": user_energy_entry.get(\"total_locked_tokens\"),\n",
    "        \"tokens\": [],\n",
    "        \"metabonding_tokens\": 0\n",
    "    }\n",
    "    users.append(user_dict)\n",
    "\n",
    "with open(config.DEFAULT_WORKSPACE / \"energy-fix\" / \"all_users_energy.json\", \"w\") as f:\n",
    "    json.dump(users, f, indent=4)\n",
    "\n",
    "print(f\"Done. Found {len(users)} users\")\n"
   ]
  }
 ],
 "metadata": {
  "kernelspec": {
   "display_name": ".venv",
   "language": "python",
   "name": "python3"
  },
  "language_info": {
   "codemirror_mode": {
    "name": "ipython",
    "version": 3
   },
   "file_extension": ".py",
   "mimetype": "text/x-python",
   "name": "python",
   "nbconvert_exporter": "python",
   "pygments_lexer": "ipython3",
   "version": "3.12.3"
  }
 },
 "nbformat": 4,
 "nbformat_minor": 5
}
