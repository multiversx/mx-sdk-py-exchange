{
 "cells": [
  {
   "cell_type": "code",
   "execution_count": null,
   "metadata": {},
   "outputs": [],
   "source": [
    "import sys\n",
    "from pathlib import Path\n",
    "sys.path.append(str(Path.cwd().parent.parent.absolute()))\n",
    "import os\n",
    "os.environ[\"MX_DEX_ENV\"] = \"shadowfork4\"\n",
    "import config"
   ]
  },
  {
   "cell_type": "code",
   "execution_count": null,
   "metadata": {},
   "outputs": [],
   "source": [
    "from context import Context\n",
    "\n",
    "context = Context()"
   ]
  },
  {
   "cell_type": "code",
   "execution_count": null,
   "metadata": {},
   "outputs": [],
   "source": [
    "from contracts.builtin_contracts import SFControlContract\n",
    "\n",
    "sf_control_contract = SFControlContract(config.SF_CONTROL_ADDRESS)"
   ]
  },
  {
   "cell_type": "markdown",
   "metadata": {},
   "source": [
    "Start"
   ]
  },
  {
   "cell_type": "markdown",
   "metadata": {},
   "source": [
    "Control epochs one by one"
   ]
  },
  {
   "cell_type": "code",
   "execution_count": null,
   "metadata": {},
   "outputs": [],
   "source": [
    "from time import sleep\n",
    "epocs_to_advance = 4\n",
    "for i in range(epocs_to_advance):\n",
    "    current_epoch = context.network_provider.proxy.get_network_status(1).current_epoch\n",
    "    print(f'Current epoch: {current_epoch}')\n",
    "    context.admin_account.sync_nonce(context.network_provider.proxy)\n",
    "    sf_control_contract.epochs_fast_forward(context.admin_account, context.network_provider.proxy, 1, 5)\n",
    "    sleep(60)\n",
    "    current_epoch = context.network_provider.proxy.get_network_status(1).current_epoch\n",
    "    print(f'Current epoch: {current_epoch}')"
   ]
  },
  {
   "cell_type": "markdown",
   "metadata": {},
   "source": [
    "Control epochs in batch"
   ]
  },
  {
   "cell_type": "code",
   "execution_count": null,
   "metadata": {},
   "outputs": [],
   "source": [
    "from time import sleep\n",
    "epocs_to_advance = 4\n",
    "current_epoch = context.network_provider.proxy.get_network_status(1).current_epoch\n",
    "print(f'Current epoch: {current_epoch}')\n",
    "context.admin_account.sync_nonce(context.network_provider.proxy)\n",
    "sf_control_contract.epochs_fast_forward(context.deployer_account, context.network_provider.proxy, epocs_to_advance, 9)"
   ]
  },
  {
   "cell_type": "code",
   "execution_count": null,
   "metadata": {},
   "outputs": [],
   "source": [
    "from time import sleep\n",
    "\n",
    "target_epoch = current_epoch + epocs_to_advance\n",
    "while current_epoch < target_epoch:\n",
    "    current_epoch = context.network_provider.proxy.get_network_status(1).current_epoch\n",
    "    print(f'Current epoch: {current_epoch}')\n",
    "    sleep(10)\n",
    "print('Reached target epoch!')"
   ]
  },
  {
   "cell_type": "markdown",
   "metadata": {},
   "source": [
    "Transfer eGLD"
   ]
  },
  {
   "cell_type": "code",
   "execution_count": null,
   "metadata": {},
   "outputs": [],
   "source": [
    "from utils.utils_chain import Account, WrapperAddress, nominated_amount\n",
    "from utils.utils_tx import endpoint_call\n",
    "\n",
    "sender = Account(pem_file=config.DEFAULT_ACCOUNTS)\n",
    "sender.address = WrapperAddress(\"erd1rf4hv70arudgzus0ymnnsnc4pml0jkywg2xjvzslg0mz4nn2tg7q7k0t6p\")\n",
    "receiver = WrapperAddress(\"erd1tk3akefn5wmp7tp8vz3tjx9tw3n8mgvefwtqj0fvu2lqyuyl9l0s9z3hrq\")\n",
    "amount = nominated_amount(20)\n",
    "\n",
    "sender.sync_nonce(context.network_provider.proxy)\n",
    "endpoint_call(context.network_provider.proxy, 100000, sender, receiver, \"cado\", [], amount)"
   ]
  },
  {
   "cell_type": "code",
   "execution_count": null,
   "metadata": {},
   "outputs": [],
   "source": [
    "from utils.utils_chain import Account, WrapperAddress, nominated_amount\n",
    "from utils.utils_tx import endpoint_call\n",
    "\n",
    "sender = Account(pem_file=config.DEFAULT_ACCOUNTS)\n",
    "receiver = WrapperAddress(\"erd1ss6u80ruas2phpmr82r42xnkd6rxy40g9jl69frppl4qez9w2jpsqj8x97\")\n",
    "amount = nominated_amount(1)\n",
    "\n",
    "sender.sync_nonce(context.network_provider.proxy)\n",
    "endpoint_call(context.network_provider.proxy, 100000, sender, receiver, \"cado\", [], amount)"
   ]
  },
  {
   "cell_type": "markdown",
   "metadata": {},
   "source": [
    "Transfer ESDTs"
   ]
  },
  {
   "cell_type": "code",
   "execution_count": null,
   "metadata": {},
   "outputs": [],
   "source": [
    "from utils.utils_chain import Account, WrapperAddress\n",
    "from utils.utils_tx import ESDTToken, multi_esdt_transfer\n",
    "\n",
    "sender = Account(pem_file=config.DEFAULT_ACCOUNTS)\n",
    "\n",
    "sender.address = WrapperAddress('')\n",
    "receiver = WrapperAddress('')\n",
    "\n",
    "tokens = [\n",
    "    ESDTToken('TSLA-4C9', 0, 1000000000000000000),\n",
    "]\n",
    "\n",
    "sender.sync_nonce(context.network_provider.proxy)\n",
    "multi_esdt_transfer(context.network_provider.proxy, 1000000, sender, receiver, tokens)"
   ]
  }
 ],
 "metadata": {
  "kernelspec": {
   "display_name": "venv",
   "language": "python",
   "name": "python3"
  },
  "language_info": {
   "codemirror_mode": {
    "name": "ipython",
    "version": 3
   },
   "file_extension": ".py",
   "mimetype": "text/x-python",
   "name": "python",
   "nbconvert_exporter": "python",
   "pygments_lexer": "ipython3",
   "version": "3.13.3"
  },
  "orig_nbformat": 4
 },
 "nbformat": 4,
 "nbformat_minor": 2
}
