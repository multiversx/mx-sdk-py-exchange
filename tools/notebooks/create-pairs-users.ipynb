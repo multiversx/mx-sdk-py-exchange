{
 "cells": [
  {
   "cell_type": "code",
   "execution_count": null,
   "metadata": {},
   "outputs": [],
   "source": [
    "import sys\n",
    "from pathlib import Path\n",
    "sys.path.append(str(Path.cwd().parent.parent.absolute()))"
   ]
  },
  {
   "cell_type": "code",
   "execution_count": null,
   "metadata": {},
   "outputs": [],
   "source": [
    "from multiversx_sdk import Address, TokenPayment, ProxyNetworkProvider\n",
    "from multiversx_sdk.core.transaction_builders import ContractCallBuilder, ESDTNFTTransferBuilder, DefaultTransactionBuildersConfiguration\n",
    "from tools.notebooks import env\n",
    "\n",
    "config = DefaultTransactionBuildersConfiguration(chain_id=env.CHAIN_ID)\n",
    "proxy = ProxyNetworkProvider(env.PROXY_URL)"
   ]
  },
  {
   "cell_type": "code",
   "execution_count": null,
   "metadata": {},
   "outputs": [],
   "source": [
    "esdt_contract = Address.new_from_bech32(\"erd1qqqqqqqqqqqqqqqpqqqqqqqqqqqqqqqqqqqqqqqqqqqqqqqzllls8a5w6u\")\n",
    "router_contract = Address.new_from_bech32(\"erd1qqqqqqqqqqqqqpgqq66xk9gfr4esuhem3jru86wg5hvp33a62jps2fy57p\")\n",
    "simple_lock_contract = Address.new_from_bech32(\"erd1qqqqqqqqqqqqqpgq6nu2t8lzakmcfmu4pu5trjdarca587hn2jpsyjapr5\")\n",
    "egld_simple_lock_contract = Address.new_from_bech32(\"erd1qqqqqqqqqqqqqpgq6nu2t8lzakmcfmu4pu5trjdarca587hn2jpsyjapr5\")"
   ]
  },
  {
   "cell_type": "code",
   "execution_count": null,
   "metadata": {},
   "outputs": [],
   "source": [
    "pair_contract: Address\n",
    "paired_token = \"USDC-c76f1f\"\n",
    "wegld_token = \"WEGLD-bd4d79\"\n",
    "locked_token = \"LKESDT-fc19ba\"\n",
    "egld_locked_token = \"LKESDT-fc19ba\"\n",
    "issued_token: str\n",
    "pair_token: str\n",
    "locked_lp_token: str"
   ]
  },
  {
   "cell_type": "code",
   "execution_count": null,
   "metadata": {},
   "outputs": [],
   "source": [
    "from multiversx_sdk import AccountNonceHolder, UserSigner\n",
    "from pathlib import Path\n",
    "\n",
    "user = env.USER1\n",
    "owner = env.OWNER\n",
    "\n",
    "user_signer = UserSigner.from_pem_file(Path(env.USER1_PEM))\n",
    "owner_signer = UserSigner.from_pem_file(Path(env.OWNER_PEM))"
   ]
  },
  {
   "attachments": {},
   "cell_type": "markdown",
   "metadata": {},
   "source": [
    "configure router"
   ]
  },
  {
   "attachments": {},
   "cell_type": "markdown",
   "metadata": {},
   "source": [
    "usdc pairs"
   ]
  },
  {
   "cell_type": "code",
   "execution_count": null,
   "metadata": {},
   "outputs": [],
   "source": [
    "from multiversx_sdk.converters.transactions_converter import TransactionsConverter\n",
    "\n",
    "builder = ContractCallBuilder(\n",
    "    config,\n",
    "    contract=router_contract,\n",
    "    function_name=\"configEnableByUserParameters\",\n",
    "    caller=owner,\n",
    "    call_arguments=[paired_token, locked_token, 495000000, 30],\n",
    "    gas_limit=30000000\n",
    ")\n",
    "\n",
    "tx = builder.build()\n",
    "\n",
    "converter = TransactionsConverter()\n",
    "print(\"Transaction:\", converter.transaction_to_dictionary(tx))\n",
    "print(\"Transaction data:\", tx.data.decode())"
   ]
  },
  {
   "cell_type": "code",
   "execution_count": null,
   "metadata": {},
   "outputs": [],
   "source": [
    "from multiversx_sdk import TransactionComputer\n",
    "\n",
    "user_nonce_holder = AccountNonceHolder(proxy.get_account(owner).nonce)\n",
    "tx.nonce = user_nonce_holder.get_nonce_then_increment()\n",
    "\n",
    "tx_computer = TransactionComputer()\n",
    "tx.signature = owner_signer.sign(tx_computer.compute_bytes_for_signing(tx))\n",
    "\n",
    "hash = proxy.send_transaction(tx)\n",
    "print(hash)"
   ]
  },
  {
   "attachments": {},
   "cell_type": "markdown",
   "metadata": {},
   "source": [
    "egld pairs"
   ]
  },
  {
   "cell_type": "code",
   "execution_count": null,
   "metadata": {},
   "outputs": [],
   "source": [
    "builder = ContractCallBuilder(\n",
    "    config,\n",
    "    contract=router_contract,\n",
    "    function_name=\"addCommonTokensForUserPairs\",\n",
    "    caller=owner,\n",
    "    call_arguments=[wegld_token],\n",
    "    gas_limit=30000000\n",
    ")\n",
    "\n",
    "tx = builder.build()\n",
    "print(\"Transaction:\", converter.transaction_to_dictionary(tx))\n",
    "print(\"Transaction data:\", tx.data.decode())"
   ]
  },
  {
   "cell_type": "code",
   "execution_count": null,
   "metadata": {},
   "outputs": [],
   "source": [
    "user_nonce_holder = AccountNonceHolder(proxy.get_account(owner).nonce)\n",
    "tx.nonce = user_nonce_holder.get_nonce_then_increment()\n",
    "\n",
    "tx_computer = TransactionComputer()\n",
    "tx.signature = owner_signer.sign(tx_computer.compute_bytes_for_signing(tx))\n",
    "\n",
    "hash = proxy.send_transaction(tx)\n",
    "print(hash)"
   ]
  },
  {
   "cell_type": "code",
   "execution_count": null,
   "metadata": {},
   "outputs": [],
   "source": [
    "builder = ContractCallBuilder(\n",
    "    config,\n",
    "    contract=router_contract,\n",
    "    function_name=\"configEnableByUserParameters\",\n",
    "    caller=owner,\n",
    "    call_arguments=[wegld_token, egld_locked_token, 1000000000000000000, 30],\n",
    "    gas_limit=30000000\n",
    ")\n",
    "\n",
    "tx = builder.build()\n",
    "print(\"Transaction:\", converter.transaction_to_dictionary(tx))\n",
    "print(\"Transaction data:\", tx.data.decode())"
   ]
  },
  {
   "cell_type": "code",
   "execution_count": null,
   "metadata": {},
   "outputs": [],
   "source": [
    "user_nonce_holder = AccountNonceHolder(proxy.get_account(owner).nonce)\n",
    "tx.nonce = user_nonce_holder.get_nonce_then_increment()\n",
    "\n",
    "tx.signature = owner_signer.sign(tx_computer.compute_bytes_for_signing(tx))\n",
    "hash = proxy.send_transaction(tx)\n",
    "print(hash)"
   ]
  },
  {
   "attachments": {},
   "cell_type": "markdown",
   "metadata": {},
   "source": [
    "issue token"
   ]
  },
  {
   "cell_type": "code",
   "execution_count": null,
   "metadata": {},
   "outputs": [],
   "source": [
    "builder = ContractCallBuilder(\n",
    "    config,\n",
    "    contract=esdt_contract,\n",
    "    function_name=\"issue\",\n",
    "    caller=user,\n",
    "    call_arguments=[\"TOKEN3\", \"TOK3\", 1000000000000000000000000000, 18, \"canMint\", \"true\", \"canBurn\", \"true\", \"canPause\", \"true\", \"canFreeze\", \"true\", \"canWipe\", \"true\", \"canChangeOwner\", \"true\", \"canUpgrade\", \"true\", \"canAddSpecialRoles\", \"true\"],\n",
    "    gas_limit=100000000,\n",
    "    value=TokenPayment.egld_from_integer(50000000000000000)\n",
    ")\n",
    "\n",
    "tx = builder.build()\n",
    "print(\"Transaction:\", converter.transaction_to_dictionary(tx))\n",
    "print(\"Transaction data:\", tx.data.decode())"
   ]
  },
  {
   "cell_type": "code",
   "execution_count": null,
   "metadata": {},
   "outputs": [],
   "source": [
    "user_nonce_holder = AccountNonceHolder(proxy.get_account(user).nonce)\n",
    "tx.nonce = user_nonce_holder.get_nonce_then_increment()\n",
    "tx.signature = user_signer.sign(tx_computer.compute_bytes_for_signing(tx))\n",
    "hash = proxy.send_transaction(tx)\n",
    "print(hash)"
   ]
  },
  {
   "cell_type": "code",
   "execution_count": null,
   "metadata": {},
   "outputs": [],
   "source": [
    "tx_data = proxy.get_transaction(hash)\n",
    "if tx_data.status.is_failed():\n",
    "    print(\"Transaction failed\")\n",
    "    exit(1)\n",
    "issue_event = tx_data.logs.find_first_or_none_event(\"issue\")\n",
    "issued_token = str(issue_event.topics[0])\n",
    "print(issue_event.topics[0].raw)\n",
    "print(\"Issued token:\", issued_token)"
   ]
  },
  {
   "attachments": {},
   "cell_type": "markdown",
   "metadata": {},
   "source": [
    "create pair USDC"
   ]
  },
  {
   "cell_type": "code",
   "execution_count": null,
   "metadata": {},
   "outputs": [],
   "source": [
    "builder = ContractCallBuilder(\n",
    "    config,\n",
    "    contract=router_contract,\n",
    "    function_name=\"createPair\",\n",
    "    caller=user,\n",
    "    call_arguments=[issued_token, paired_token, user],\n",
    "    gas_limit=30000000\n",
    ")\n",
    "\n",
    "tx = builder.build()\n",
    "print(\"Transaction:\", converter.transaction_to_dictionary(tx))\n",
    "print(\"Transaction data:\", tx.data.decode())"
   ]
  },
  {
   "cell_type": "code",
   "execution_count": null,
   "metadata": {},
   "outputs": [],
   "source": [
    "user_nonce_holder = AccountNonceHolder(proxy.get_account(user).nonce)\n",
    "tx.nonce = user_nonce_holder.get_nonce_then_increment()\n",
    "tx.signature = user_signer.sign(tx_computer.compute_bytes_for_signing(tx))\n",
    "hash = proxy.send_transaction(tx)\n",
    "print(hash)"
   ]
  },
  {
   "cell_type": "code",
   "execution_count": null,
   "metadata": {},
   "outputs": [],
   "source": [
    "tx_data = proxy.get_transaction(hash)\n",
    "if tx_data.status.is_failed():\n",
    "    print(\"Transaction failed\")\n",
    "    exit(1)\n",
    "event = tx_data.logs.find_first_or_none_event(\"SCDeploy\")\n",
    "topic = event.topics[0]\n",
    "pair_contract = Address.new_from_hex(topic.hex(), \"erd\")\n",
    "print(\"Deployed pair:\", pair_contract.to_bech32())"
   ]
  },
  {
   "attachments": {},
   "cell_type": "markdown",
   "metadata": {},
   "source": [
    "issue lp token"
   ]
  },
  {
   "cell_type": "code",
   "execution_count": null,
   "metadata": {},
   "outputs": [],
   "source": [
    "builder = ContractCallBuilder(\n",
    "    config,\n",
    "    contract=router_contract,\n",
    "    function_name=\"issueLpToken\",\n",
    "    caller=user,\n",
    "    call_arguments=[pair_contract, \"TKNUSDCLP\", \"TKNUSDC\"],\n",
    "    gas_limit=100000000,\n",
    "    value=TokenPayment.egld_from_integer(50000000000000000)\n",
    ")\n",
    "\n",
    "tx = builder.build()\n",
    "print(\"Transaction:\", converter.transaction_to_dictionary(tx))\n",
    "print(\"Transaction data:\", tx.data)"
   ]
  },
  {
   "cell_type": "code",
   "execution_count": null,
   "metadata": {},
   "outputs": [],
   "source": [
    "user_nonce_holder = AccountNonceHolder(proxy.get_account(user).nonce)\n",
    "tx.nonce = user_nonce_holder.get_nonce_then_increment()\n",
    "tx.signature = user_signer.sign(tx_computer.compute_bytes_for_signing(tx))\n",
    "hash = proxy.send_transaction(tx)\n",
    "print(hash)"
   ]
  },
  {
   "cell_type": "code",
   "execution_count": null,
   "metadata": {},
   "outputs": [],
   "source": [
    "tx_data = proxy.get_transaction(hash)\n",
    "if tx_data.status.is_failed():\n",
    "    print(\"Transaction failed\")\n",
    "    exit(1)\n",
    "# event = tx_data.logs.find_first_or_none_event(\"issue\")\n",
    "# pair_token = str(event.topics[0])\n",
    "# print(\"LP token:\", pair_token)"
   ]
  },
  {
   "attachments": {},
   "cell_type": "markdown",
   "metadata": {},
   "source": [
    "set local role"
   ]
  },
  {
   "cell_type": "code",
   "execution_count": null,
   "metadata": {},
   "outputs": [],
   "source": [
    "builder = ContractCallBuilder(\n",
    "    config,\n",
    "    contract=router_contract,\n",
    "    function_name=\"setLocalRoles\",\n",
    "    caller=user,\n",
    "    call_arguments=[pair_contract],\n",
    "    gas_limit=100000000\n",
    ")\n",
    "\n",
    "tx = builder.build()\n",
    "print(\"Transaction:\", converter.transaction_to_dictionary(tx))\n",
    "print(\"Transaction data:\", tx.data.decode())"
   ]
  },
  {
   "cell_type": "code",
   "execution_count": null,
   "metadata": {},
   "outputs": [],
   "source": [
    "user_nonce_holder = AccountNonceHolder(proxy.get_account(user).nonce)\n",
    "tx.nonce = user_nonce_holder.get_nonce_then_increment()\n",
    "tx.signature = user_signer.sign(tx_computer.compute_bytes_for_signing(tx))\n",
    "hash = proxy.send_transaction(tx)\n",
    "print(hash)"
   ]
  },
  {
   "attachments": {},
   "cell_type": "markdown",
   "metadata": {},
   "source": [
    "add initial liquidity"
   ]
  },
  {
   "cell_type": "code",
   "execution_count": null,
   "metadata": {},
   "outputs": [],
   "source": [
    "transfers = [\n",
    "    TokenPayment.fungible_from_amount(issued_token, 1050, 18),\n",
    "    TokenPayment.fungible_from_amount(paired_token, 1050, 6)\n",
    "]\n",
    "\n",
    "builder = ContractCallBuilder(\n",
    "    config,\n",
    "    contract=pair_contract,\n",
    "    function_name=\"addInitialLiquidity\",\n",
    "    caller=user,\n",
    "    call_arguments=[],\n",
    "    gas_limit=30000000,\n",
    "    esdt_transfers=transfers\n",
    ")\n",
    "\n",
    "tx = builder.build()\n",
    "print(\"Transaction:\", converter.transaction_to_dictionary(tx))\n",
    "print(\"Transaction data:\", tx.data.decode())"
   ]
  },
  {
   "cell_type": "code",
   "execution_count": null,
   "metadata": {},
   "outputs": [],
   "source": [
    "user_nonce_holder = AccountNonceHolder(proxy.get_account(user).nonce)\n",
    "tx.nonce = user_nonce_holder.get_nonce_then_increment()\n",
    "tx.signature = user_signer.sign(tx_computer.compute_bytes_for_signing(tx))\n",
    "hash = proxy.send_transaction(tx)\n",
    "print(hash)"
   ]
  },
  {
   "cell_type": "code",
   "execution_count": null,
   "metadata": {},
   "outputs": [],
   "source": [
    "tx_data = proxy.get_transaction(hash)\n",
    "if tx_data.status.is_failed():\n",
    "    print(\"Transaction failed\")\n",
    "    exit(1)\n",
    "event = tx_data.logs.find_first_or_none_event(\"ESDTTransfer\")\n",
    "pair_token = str(event.topics[0])\n",
    "pair_token_amount = int(event.topics[2].hex(), 16)\n",
    "print(f\"LP token: {pair_token} amount {pair_token_amount}\")"
   ]
  },
  {
   "attachments": {},
   "cell_type": "markdown",
   "metadata": {},
   "source": [
    "lock tokens"
   ]
  },
  {
   "cell_type": "code",
   "execution_count": null,
   "metadata": {},
   "outputs": [],
   "source": [
    "transfers = [\n",
    "    TokenPayment.fungible_from_integer(pair_token, pair_token_amount, 18)\n",
    "]\n",
    "\n",
    "current_epoch = proxy.get_network_status().epoch_number\n",
    "\n",
    "builder = ContractCallBuilder(\n",
    "    config,\n",
    "    contract=simple_lock_contract,\n",
    "    function_name=\"lockTokens\",\n",
    "    caller=user,\n",
    "    call_arguments=[current_epoch+30],\n",
    "    gas_limit=30000000,\n",
    "    esdt_transfers=transfers\n",
    ")\n",
    "\n",
    "tx = builder.build()\n",
    "print(\"Transaction:\", converter.transaction_to_dictionary(tx))\n",
    "print(\"Transaction data:\", tx.data.decode())"
   ]
  },
  {
   "cell_type": "code",
   "execution_count": null,
   "metadata": {},
   "outputs": [],
   "source": [
    "user_nonce_holder = AccountNonceHolder(proxy.get_account(user).nonce)\n",
    "tx.nonce = user_nonce_holder.get_nonce_then_increment()\n",
    "tx.signature = user_signer.sign(tx_computer.compute_bytes_for_signing(tx))\n",
    "hash = proxy.send_transaction(tx)\n",
    "print(hash)"
   ]
  },
  {
   "cell_type": "code",
   "execution_count": null,
   "metadata": {},
   "outputs": [],
   "source": [
    "tx_data = proxy.get_transaction(hash)\n",
    "if tx_data.status.is_failed():\n",
    "    print(\"Transaction failed\")\n",
    "    exit(1)\n",
    "event = tx_data.logs.find_first_or_none_event(\"ESDTNFTTransfer\")\n",
    "locked_lp_token = str(event.topics[0])\n",
    "locked_lp_token_nonce = int(event.topics[1].hex(), 16)\n",
    "locked_lp_token_amount = int(event.topics[2].hex(), 16)\n",
    "print(f\"Locked LP token: {locked_lp_token} nonce {locked_lp_token_nonce} amount {pair_token_amount}\")"
   ]
  },
  {
   "attachments": {},
   "cell_type": "markdown",
   "metadata": {},
   "source": [
    "swap enable by user"
   ]
  },
  {
   "cell_type": "code",
   "execution_count": null,
   "metadata": {},
   "outputs": [],
   "source": [
    "transfers = [\n",
    "    TokenPayment.meta_esdt_from_integer(locked_lp_token, locked_lp_token_nonce, 495000000, 18)\n",
    "]\n",
    "\n",
    "builder = ContractCallBuilder(\n",
    "    config,\n",
    "    contract=router_contract,\n",
    "    function_name=\"setSwapEnabledByUser\",\n",
    "    caller=user,\n",
    "    call_arguments=[pair_contract],\n",
    "    gas_limit=50000000,\n",
    "    esdt_transfers=transfers\n",
    ")\n",
    "\n",
    "tx = builder.build()\n",
    "print(\"Transaction:\", converter.transaction_to_dictionary(tx))\n",
    "print(\"Transaction data:\", tx.data.decode())"
   ]
  },
  {
   "cell_type": "code",
   "execution_count": null,
   "metadata": {},
   "outputs": [],
   "source": [
    "user_nonce_holder = AccountNonceHolder(proxy.get_account(user).nonce)\n",
    "tx.nonce = user_nonce_holder.get_nonce_then_increment()\n",
    "tx.signature = user_signer.sign(tx_computer.compute_bytes_for_signing(tx))\n",
    "hash = proxy.send_transaction(tx)\n",
    "print(hash)"
   ]
  },
  {
   "cell_type": "code",
   "execution_count": null,
   "metadata": {},
   "outputs": [],
   "source": [
    "tx_data = proxy.get_transaction(hash)\n",
    "event = tx_data.logs.find_first_or_none_event(\"signalError\")\n",
    "completed = tx_data.logs.find_first_or_none_event(\"completedTxEvent\")\n",
    "if event:\n",
    "    print(\"Transaction failed\")\n",
    "elif completed:\n",
    "    print(\"all good\")\n",
    "else:\n",
    "    print(\"Probably not finished yet...\")"
   ]
  },
  {
   "attachments": {},
   "cell_type": "markdown",
   "metadata": {},
   "source": [
    "Create pairs EGLD"
   ]
  },
  {
   "cell_type": "code",
   "execution_count": null,
   "metadata": {},
   "outputs": [],
   "source": [
    "wegld_token = \"TOK3-39c76b\""
   ]
  },
  {
   "cell_type": "code",
   "execution_count": null,
   "metadata": {},
   "outputs": [],
   "source": [
    "builder = ContractCallBuilder(\n",
    "    config,\n",
    "    contract=router_contract,\n",
    "    function_name=\"createPair\",\n",
    "    caller=user,\n",
    "    call_arguments=[issued_token, wegld_token, user],\n",
    "    gas_limit=30000000\n",
    ")\n",
    "\n",
    "tx = builder.build()\n",
    "print(\"Transaction:\", converter.transaction_to_dictionary(tx))\n",
    "print(\"Transaction data:\", tx.data.decode())"
   ]
  },
  {
   "cell_type": "code",
   "execution_count": null,
   "metadata": {},
   "outputs": [],
   "source": [
    "user_nonce_holder = AccountNonceHolder(proxy.get_account(user).nonce)\n",
    "tx.nonce = user_nonce_holder.get_nonce_then_increment()\n",
    "tx.signature = user_signer.sign(tx_computer.compute_bytes_for_signing(tx))\n",
    "hash = proxy.send_transaction(tx)\n",
    "print(hash)"
   ]
  },
  {
   "cell_type": "code",
   "execution_count": null,
   "metadata": {},
   "outputs": [],
   "source": [
    "tx_data = proxy.get_transaction(hash)\n",
    "if tx_data.status.is_failed():\n",
    "    print(\"Transaction failed\")\n",
    "    exit(1)\n",
    "event = tx_data.logs.find_first_or_none_event(\"SCDeploy\")\n",
    "topic = event.topics[0]\n",
    "pair_contract = Address.from_hex(topic.hex(), \"erd\")\n",
    "print(\"Deployed pair:\", pair_contract.bech32())"
   ]
  },
  {
   "attachments": {},
   "cell_type": "markdown",
   "metadata": {},
   "source": [
    "issue lp token"
   ]
  },
  {
   "cell_type": "code",
   "execution_count": null,
   "metadata": {},
   "outputs": [],
   "source": [
    "builder = ContractCallBuilder(\n",
    "    config,\n",
    "    contract=router_contract,\n",
    "    function_name=\"issueLpToken\",\n",
    "    caller=user,\n",
    "    call_arguments=[pair_contract, \"TKNEGLDLP\", \"TKNEGLD\"],\n",
    "    gas_limit=100000000,\n",
    "    value=TokenPayment.egld_from_integer(50000000000000000)\n",
    ")\n",
    "\n",
    "tx = builder.build()\n",
    "print(\"Transaction:\", converter.transaction_to_dictionary(tx))\n",
    "print(\"Transaction data:\", tx.data)"
   ]
  },
  {
   "cell_type": "code",
   "execution_count": null,
   "metadata": {},
   "outputs": [],
   "source": [
    "user_nonce_holder = AccountNonceHolder(proxy.get_account(user).nonce)\n",
    "tx.nonce = user_nonce_holder.get_nonce_then_increment()\n",
    "tx.signature = user_signer.sign(tx_computer.compute_bytes_for_signing(tx))\n",
    "hash = proxy.send_transaction(tx)\n",
    "\n",
    "print(hash)"
   ]
  },
  {
   "cell_type": "code",
   "execution_count": null,
   "metadata": {},
   "outputs": [],
   "source": [
    "tx_data = proxy.get_transaction(hash)\n",
    "if tx_data.status.is_failed():\n",
    "    print(\"Transaction failed\")\n",
    "    exit(1)\n",
    "# event = tx_data.logs.find_first_or_none_event(\"issue\")\n",
    "# pair_token = str(event.topics[0])\n",
    "# print(\"LP token:\", pair_token)"
   ]
  },
  {
   "attachments": {},
   "cell_type": "markdown",
   "metadata": {},
   "source": [
    "set local role"
   ]
  },
  {
   "cell_type": "code",
   "execution_count": null,
   "metadata": {},
   "outputs": [],
   "source": [
    "builder = ContractCallBuilder(\n",
    "    config,\n",
    "    contract=router_contract,\n",
    "    function_name=\"setLocalRoles\",\n",
    "    caller=user,\n",
    "    call_arguments=[pair_contract],\n",
    "    gas_limit=100000000\n",
    ")\n",
    "\n",
    "tx = builder.build()\n",
    "print(\"Transaction:\", converter.transaction_to_dictionary(tx))\n",
    "print(\"Transaction data:\", tx.data.decode())"
   ]
  },
  {
   "cell_type": "code",
   "execution_count": null,
   "metadata": {},
   "outputs": [],
   "source": [
    "user_nonce_holder = AccountNonceHolder(proxy.get_account(user).nonce)\n",
    "tx.nonce = user_nonce_holder.get_nonce_then_increment()\n",
    "tx.signature = user_signer.sign(tx_computer.compute_bytes_for_signing(tx))\n",
    "hash = proxy.send_transaction(tx)\n",
    "print(hash)"
   ]
  },
  {
   "attachments": {},
   "cell_type": "markdown",
   "metadata": {},
   "source": [
    "add initial liquidity"
   ]
  },
  {
   "cell_type": "code",
   "execution_count": null,
   "metadata": {},
   "outputs": [],
   "source": [
    "transfers = [\n",
    "    TokenPayment.fungible_from_amount(issued_token, 1.1, 18),\n",
    "    TokenPayment.fungible_from_amount(wegld_token, 1.1, 18)\n",
    "]\n",
    "\n",
    "builder = ContractCallBuilder(\n",
    "    config,\n",
    "    contract=pair_contract,\n",
    "    function_name=\"addInitialLiquidity\",\n",
    "    caller=user,\n",
    "    call_arguments=[],\n",
    "    gas_limit=30000000,\n",
    "    esdt_transfers=transfers\n",
    ")\n",
    "\n",
    "tx = builder.build()\n",
    "print(\"Transaction:\", converter.transaction_to_dictionary(tx))\n",
    "print(\"Transaction data:\", tx.data.decode())"
   ]
  },
  {
   "cell_type": "code",
   "execution_count": null,
   "metadata": {},
   "outputs": [],
   "source": [
    "user_nonce_holder = AccountNonceHolder(proxy.get_account(user).nonce)\n",
    "tx.nonce = user_nonce_holder.get_nonce_then_increment()\n",
    "tx.signature = user_signer.sign(tx_computer.compute_bytes_for_signing(tx))\n",
    "hash = proxy.send_transaction(tx)\n",
    "print(hash)"
   ]
  },
  {
   "cell_type": "code",
   "execution_count": null,
   "metadata": {},
   "outputs": [],
   "source": [
    "tx_data = proxy.get_transaction(hash)\n",
    "if tx_data.status.is_failed():\n",
    "    print(\"Transaction failed\")\n",
    "    exit(1)\n",
    "event = tx_data.logs.find_first_or_none_event(\"ESDTTransfer\")\n",
    "pair_token = str(event.topics[0])\n",
    "pair_token_amount = int(event.topics[2].hex(), 16)\n",
    "print(f\"LP token: {pair_token} amount {pair_token_amount}\")"
   ]
  },
  {
   "attachments": {},
   "cell_type": "markdown",
   "metadata": {},
   "source": [
    "lock tokens"
   ]
  },
  {
   "cell_type": "code",
   "execution_count": null,
   "metadata": {},
   "outputs": [],
   "source": [
    "egld_simple_lock_contract = Address.from_bech32(\"erd1qqqqqqqqqqqqqpgq3gpzrd6854znu0xecd7k2tqxnsc3u5pe2jpsqnq5du\")"
   ]
  },
  {
   "cell_type": "code",
   "execution_count": null,
   "metadata": {},
   "outputs": [],
   "source": [
    "transfers = [\n",
    "    TokenPayment.fungible_from_integer(pair_token, pair_token_amount, 18)\n",
    "]\n",
    "\n",
    "current_epoch = proxy.get_network_status().epoch_number\n",
    "\n",
    "builder = ContractCallBuilder(\n",
    "    config,\n",
    "    contract=egld_simple_lock_contract,\n",
    "    function_name=\"lockTokens\",\n",
    "    caller=user,\n",
    "    call_arguments=[current_epoch+30],\n",
    "    gas_limit=30000000,\n",
    "    esdt_transfers=transfers\n",
    ")\n",
    "\n",
    "tx = builder.build()\n",
    "print(\"Transaction:\", converter.transaction_to_dictionary(tx))\n",
    "print(\"Transaction data:\", tx.data.decode())"
   ]
  },
  {
   "cell_type": "code",
   "execution_count": null,
   "metadata": {},
   "outputs": [],
   "source": [
    "user_nonce_holder = AccountNonceHolder(proxy.get_account(user).nonce)\n",
    "tx.nonce = user_nonce_holder.get_nonce_then_increment()\n",
    "tx.signature = user_signer.sign(tx_computer.compute_bytes_for_signing(tx))\n",
    "hash = proxy.send_transaction(tx)\n",
    "print(hash)"
   ]
  },
  {
   "cell_type": "code",
   "execution_count": null,
   "metadata": {},
   "outputs": [],
   "source": [
    "tx_data = proxy.get_transaction(hash)\n",
    "if tx_data.status.is_failed():\n",
    "    print(\"Transaction failed\")\n",
    "    exit(1)\n",
    "event = tx_data.logs.find_first_or_none_event(\"ESDTNFTTransfer\")\n",
    "locked_lp_token = str(event.topics[0])\n",
    "locked_lp_token_nonce = int(event.topics[1].hex(), 16)\n",
    "locked_lp_token_amount = int(event.topics[2].hex(), 16)\n",
    "print(f\"Locked LP token: {locked_lp_token} nonce {locked_lp_token_nonce} amount {pair_token_amount}\")"
   ]
  },
  {
   "attachments": {},
   "cell_type": "markdown",
   "metadata": {},
   "source": [
    "swap enable by user"
   ]
  },
  {
   "cell_type": "code",
   "execution_count": null,
   "metadata": {},
   "outputs": [],
   "source": [
    "transfers = [\n",
    "    TokenPayment.meta_esdt_from_amount(locked_lp_token, locked_lp_token_nonce, 1, 18)\n",
    "]\n",
    "\n",
    "builder = ContractCallBuilder(\n",
    "    config,\n",
    "    contract=router_contract,\n",
    "    function_name=\"setSwapEnabledByUser\",\n",
    "    caller=user,\n",
    "    call_arguments=[pair_contract],\n",
    "    gas_limit=50000000,\n",
    "    esdt_transfers=transfers\n",
    ")\n",
    "\n",
    "tx = builder.build()\n",
    "print(\"Transaction:\", converter.transaction_to_dictionary(tx))\n",
    "print(\"Transaction data:\", tx.data.decode())"
   ]
  },
  {
   "cell_type": "code",
   "execution_count": null,
   "metadata": {},
   "outputs": [],
   "source": [
    "user_nonce_holder = AccountNonceHolder(proxy.get_account(user).nonce)\n",
    "tx.nonce = user_nonce_holder.get_nonce_then_increment()\n",
    "tx.signature = user_signer.sign(tx_computer.compute_bytes_for_signing(tx))\n",
    "hash = proxy.send_transaction(tx)\n",
    "print(hash)"
   ]
  },
  {
   "cell_type": "code",
   "execution_count": null,
   "metadata": {},
   "outputs": [],
   "source": [
    "tx_data = proxy.get_transaction(hash)\n",
    "event = tx_data.logs.find_first_or_none_event(\"signalError\")\n",
    "completed = tx_data.logs.find_first_or_none_event(\"completedTxEvent\")\n",
    "if event:\n",
    "    print(\"Transaction failed\")\n",
    "elif completed:\n",
    "    print(\"all good\")\n",
    "else:\n",
    "    print(\"Probably not finished yet...\")"
   ]
  }
 ],
 "metadata": {
  "kernelspec": {
   "display_name": ".venv",
   "language": "python",
   "name": "python3"
  },
  "language_info": {
   "codemirror_mode": {
    "name": "ipython",
    "version": 3
   },
   "file_extension": ".py",
   "mimetype": "text/x-python",
   "name": "python",
   "nbconvert_exporter": "python",
   "pygments_lexer": "ipython3",
   "version": "3.11.4"
  },
  "orig_nbformat": 4,
  "vscode": {
   "interpreter": {
    "hash": "46890cb94c8e016cd17355f2b23107d7cb41a4430d538522c76446f308933f39"
   }
  }
 },
 "nbformat": 4,
 "nbformat_minor": 2
}
