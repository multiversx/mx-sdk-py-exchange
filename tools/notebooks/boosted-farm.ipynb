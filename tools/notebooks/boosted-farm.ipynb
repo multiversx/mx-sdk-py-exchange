{
 "cells": [
  {
   "cell_type": "code",
   "execution_count": 1,
   "metadata": {},
   "outputs": [],
   "source": [
    "import sys\n",
    "from pathlib import Path\n",
    "sys.path.append(str(Path.cwd().parent.parent.absolute()))\n",
    "import config"
   ]
  },
  {
   "cell_type": "code",
   "execution_count": null,
   "metadata": {},
   "outputs": [],
   "source": [
    "from context import Context\n",
    "from utils.utils_chain import WrapperAddress as Address, Account, hex_to_string\n",
    "from utils.utils_chain import nominated_amount\n",
    "\n",
    "context = Context()"
   ]
  },
  {
   "cell_type": "code",
   "execution_count": 3,
   "metadata": {},
   "outputs": [],
   "source": [
    "from contracts.farm_contract import FarmContract\n",
    "from utils.contract_retrievers import retrieve_farm_by_address\n",
    "# farm_contracts = context.get_contracts(config.FARMS_V2)"
   ]
  },
  {
   "cell_type": "code",
   "execution_count": null,
   "metadata": {},
   "outputs": [],
   "source": [
    "farm_contract: FarmContract = context.deploy_structure.get_deployed_contract_by_index(config.FARMS_V2, 2)\n",
    "print(f\"Using {farm_contract.address} : {farm_contract.farmToken}\")"
   ]
  },
  {
   "cell_type": "code",
   "execution_count": null,
   "metadata": {},
   "outputs": [],
   "source": [
    "farm_contract: FarmContract = retrieve_farm_by_address(\"\")"
   ]
  },
  {
   "attachments": {},
   "cell_type": "markdown",
   "metadata": {},
   "source": [
    "set new rewards per block"
   ]
  },
  {
   "cell_type": "code",
   "execution_count": null,
   "metadata": {},
   "outputs": [],
   "source": [
    "farm_contract.set_rewards_per_block(context.deployer_account, context.network_provider.proxy, nominated_amount(14000))"
   ]
  },
  {
   "attachments": {},
   "cell_type": "markdown",
   "metadata": {},
   "source": [
    "start contracts"
   ]
  },
  {
   "cell_type": "code",
   "execution_count": null,
   "metadata": {},
   "outputs": [],
   "source": [
    "farm_contract.resume(context.deployer_account, context.network_provider.proxy)"
   ]
  },
  {
   "attachments": {},
   "cell_type": "markdown",
   "metadata": {},
   "source": [
    "produce rewards"
   ]
  },
  {
   "cell_type": "code",
   "execution_count": null,
   "metadata": {},
   "outputs": [],
   "source": [
    "farm_contract.start_produce_rewards(context.deployer_account, context.network_provider.proxy)"
   ]
  },
  {
   "cell_type": "markdown",
   "metadata": {},
   "source": [
    "upgrade contract"
   ]
  },
  {
   "cell_type": "code",
   "execution_count": null,
   "metadata": {},
   "outputs": [],
   "source": [
    "pair_address = farm_contract.get_lp_address(context.network_provider.proxy)\n",
    "tx_hash = farm_contract.contract_upgrade(context.deployer_account, context.network_provider.proxy, \n",
    "                                         config.FARM_V2_BYTECODE_PATH, [pair_address, context.deployer_account.address.bech32()])"
   ]
  },
  {
   "cell_type": "code",
   "execution_count": null,
   "metadata": {},
   "outputs": [],
   "source": [
    "from contracts.farm_contract import FarmContractVersion\n",
    "context.deployer_account.sync_nonce(context.network_provider.proxy)\n",
    "# upgrade all farms\n",
    "farms : list[FarmContract] = context.get_contracts(config.FARMS_V2)\n",
    "for farm in farms:\n",
    "    farm.version = FarmContractVersion.V2Boosted\n",
    "    pair = farm.get_lp_address(context.network_provider.proxy)\n",
    "    tx_hash = farm.contract_upgrade(context.deployer_account, context.network_provider.proxy, \n",
    "                                         config.FARM_V3_BYTECODE_PATH, [], no_init=True)\n",
    "    context.network_provider.check_complex_tx_status(tx_hash, \"farm upgrade\")"
   ]
  },
  {
   "cell_type": "code",
   "execution_count": null,
   "metadata": {},
   "outputs": [],
   "source": [
    "# resume all farms\n",
    "context.deployer_account.sync_nonce(context.network_provider.proxy)\n",
    "contracts : list[FarmContract] = context.get_contracts(config.FARMS_V2)\n",
    "for contract in contracts:\n",
    "    tx_hash = contract.resume(context.deployer_account, context.network_provider.proxy)"
   ]
  },
  {
   "cell_type": "markdown",
   "metadata": {},
   "source": [
    "change owner"
   ]
  },
  {
   "cell_type": "code",
   "execution_count": null,
   "metadata": {},
   "outputs": [],
   "source": [
    "tx_hash = farm_contract.update_owner_or_admin(context.deployer_account, context.network_provider.proxy, \"erd19uysnnzwnzm3klq8qzv7zprw2d3yj38hx0ac9cuqvl0j2jr5kp2sflvmyv\")"
   ]
  },
  {
   "cell_type": "markdown",
   "metadata": {},
   "source": [
    "resume contract"
   ]
  },
  {
   "cell_type": "code",
   "execution_count": null,
   "metadata": {},
   "outputs": [],
   "source": [
    "farm_contract.resume(context.deployer_account, context.network_provider.proxy)"
   ]
  },
  {
   "cell_type": "markdown",
   "metadata": {},
   "source": [
    "Collect user accounts"
   ]
  },
  {
   "cell_type": "code",
   "execution_count": null,
   "metadata": {},
   "outputs": [],
   "source": [
    "from utils.utils_scenarios import collect_farm_contract_users\n",
    "from multiversx_sdk import ApiNetworkProvider\n",
    "\n",
    "mainnet_api = ApiNetworkProvider(\"https://api.multiversx.com\")\n",
    "fetched_users = collect_farm_contract_users(100, farm_contract.address, farm_contract.farmingToken, farm_contract.farmToken,\n",
    "                                            mainnet_api, context.network_provider.proxy)"
   ]
  },
  {
   "cell_type": "markdown",
   "metadata": {},
   "source": [
    "Used users"
   ]
  },
  {
   "cell_type": "code",
   "execution_count": null,
   "metadata": {},
   "outputs": [],
   "source": [
    "from utils.decoding_structures import FARM_TOKEN_ATTRIBUTES\n",
    "from utils.utils_chain import decode_merged_attributes, base64_to_hex, get_all_token_nonces_details_for_account\n",
    "from utils.utils_scenarios import FetchedUser\n",
    "\n",
    "index = 0\n",
    "users: List[FetchedUser] = fetched_users.get_users_with_farm_tokens()\n",
    "if not users:\n",
    "    raise Exception('No users found for the given criteria')\n",
    "\n",
    "user = users[index].address\n",
    "tokens_in_account = get_all_token_nonces_details_for_account(farm_contract.farmingToken, user.bech32(), context.network_provider.proxy)\n",
    "print(f'Account: {user.bech32()}')\n",
    "print(f'Farming Tokens in account:')\n",
    "for token in tokens_in_account:\n",
    "    print(f'\\t{token}')\n",
    "tokens_in_account = get_all_token_nonces_details_for_account(farm_contract.farmToken, user.bech32(), context.network_provider.proxy)\n",
    "print(f'Farm Tokens in account:')\n",
    "for token in tokens_in_account:\n",
    "    print(f'\\t{token}')\n",
    "    print(f'\\t\\t{decode_merged_attributes(base64_to_hex(token[\"attributes\"]), FARM_TOKEN_ATTRIBUTES)}')"
   ]
  },
  {
   "cell_type": "markdown",
   "metadata": {},
   "source": [
    "Find user by token"
   ]
  },
  {
   "cell_type": "code",
   "execution_count": null,
   "metadata": {},
   "outputs": [],
   "source": [
    "from multiversx_sdk.network_providers import ApiNetworkProvider\n",
    "from utils.utils_chain import dec_to_padded_hex, WrapperAddress, get_all_token_nonces_details_for_account, decode_merged_attributes, base64_to_hex\n",
    "from utils.decoding_structures import FARM_TOKEN_ATTRIBUTES\n",
    "\n",
    "migration_nonce = 152776\n",
    "\n",
    "mainnet_api = ApiNetworkProvider(\"https://api.multiversx.com\")\n",
    "for nonce in reversed(range(migration_nonce)):\n",
    "    url = f'nfts/{farm_contract.farmToken}-{dec_to_padded_hex(nonce)}/accounts'\n",
    "    try:\n",
    "        response = mainnet_api.do_get_generic(url)\n",
    "        user_found = \"\"\n",
    "        for entry in response:\n",
    "            if WrapperAddress(entry['address']).is_smart_contract():\n",
    "                continue\n",
    "            user_found = entry['address']\n",
    "        \n",
    "        if user_found:\n",
    "            tokens_in_account = get_all_token_nonces_details_for_account(farm_contract.farmToken, user_found, context.network_provider.proxy)\n",
    "            for token in tokens_in_account:\n",
    "                token_decoded_attributes = decode_merged_attributes(base64_to_hex(token[\"attributes\"]), FARM_TOKEN_ATTRIBUTES)\n",
    "                print(f'Farm Tokens nonce {dec_to_padded_hex(nonce)}: {token_decoded_attributes}')\n",
    "    except Exception as e:\n",
    "        print(f'Error fetching {url}: {e}')\n",
    "        continue"
   ]
  },
  {
   "cell_type": "code",
   "execution_count": null,
   "metadata": {},
   "outputs": [],
   "source": [
    "from utils.decoding_structures import FARM_TOKEN_ATTRIBUTES\n",
    "from utils.utils_chain import decode_merged_attributes, base64_to_hex\n",
    "\n",
    "user = Account(pem_file=config.DEFAULT_ACCOUNTS)\n",
    "user.address = WrapperAddress(\"erd15u0ulntwpjl32m7afnnatz48kp8sec6euj64vl97vxhynxcmt9jq0n350m\")\n",
    "user.sync_nonce(context.network_provider.proxy)\n",
    "\n",
    "tokens_in_account = get_all_token_nonces_details_for_account(farm_contract.farmingToken, user.address.bech32(), context.network_provider.proxy)\n",
    "print(f'Account: {user.address.bech32()}')\n",
    "print(f'Farming Tokens in account:')\n",
    "for token in tokens_in_account:\n",
    "    print(f'\\t{token}')\n",
    "tokens_in_account = get_all_token_nonces_details_for_account(farm_contract.farmToken, user.address.bech32(), context.network_provider.proxy)\n",
    "print(f'Farm Tokens in account:')\n",
    "for token in tokens_in_account:\n",
    "    print(f'\\t{token}')\n",
    "    print(f'\\t\\t{decode_merged_attributes(base64_to_hex(token[\"attributes\"]), FARM_TOKEN_ATTRIBUTES)}')"
   ]
  },
  {
   "cell_type": "markdown",
   "metadata": {},
   "source": [
    "Transfer position"
   ]
  },
  {
   "cell_type": "code",
   "execution_count": null,
   "metadata": {},
   "outputs": [],
   "source": [
    "from utils.utils_tx import multi_esdt_transfer, ESDTToken\n",
    "from utils.utils_chain import Account\n",
    "fetched_user = users[0]\n",
    "user_account = Account(pem_file=config.DEFAULT_ACCOUNTS)\n",
    "user_account.address = fetched_user.address\n",
    "user_account.sync_nonce(context.network_provider.proxy)\n",
    "\n",
    "full_token_id = fetched_user.farm_tokens[0].get('tokenIdentifier')\n",
    "token_id = '-'.join(full_token_id.split('-')[:-1])\n",
    "token = ESDTToken(token_id, fetched_user.farm_tokens[0].get('nonce'), int(fetched_user.farm_tokens[0].get('balance'))//2)\n",
    "print(f'Sending: {token.get_token_data()} from {fetched_user.address.bech32()}')\n",
    "multi_esdt_transfer(context.network_provider.proxy, 1000000, user_account, users[1].address, [token])"
   ]
  },
  {
   "cell_type": "markdown",
   "metadata": {},
   "source": [
    "Enter farm"
   ]
  },
  {
   "cell_type": "code",
   "execution_count": null,
   "metadata": {},
   "outputs": [],
   "source": [
    "from utils.utils_chain import Account, WrapperAddress as Address, get_all_token_nonces_details_for_account\n",
    "from contracts.farm_contract import EnterFarmEvent\n",
    "\n",
    "# user = fetched_users[randint(0, len(fetched_users.get_users_with_farming_tokens()) - 1)].address\n",
    "# user = fetched_users.get_users_with_both_tokens()[0].address\n",
    "user_account = Account(pem_file=config.DEFAULT_ACCOUNTS)\n",
    "user_account.address = user\n",
    "user_account.sync_nonce(context.network_provider.proxy)\n",
    "\n",
    "farming_tk_balance = 0\n",
    "tokens_in_account = get_all_token_nonces_details_for_account(farm_contract.farmingToken, user_account.address.bech32(), context.network_provider.proxy)\n",
    "print(f'Found {len(tokens_in_account)} farming tokens in account')\n",
    "for token in tokens_in_account:\n",
    "    if int(token['balance']) > 0:\n",
    "        farming_tk_balance = int(token['balance'])\n",
    "        break\n",
    "\n",
    "if not farming_tk_balance:\n",
    "    raise Exception(\"Not enough farming token balance\")\n",
    "\n",
    "farm_tk_balance, farm_tk_nonce = 0, 0\n",
    "tokens_in_account = get_all_token_nonces_details_for_account(farm_contract.farmToken, user_account.address.bech32(), context.network_provider.proxy)\n",
    "print(f'Found {len(tokens_in_account)} farm tokens in account')\n",
    "for token in tokens_in_account:\n",
    "    if int(token['balance']) > farm_tk_balance:\n",
    "        farm_tk_balance = int(token['balance'])\n",
    "        farm_tk_nonce = token['nonce']\n",
    "        break\n",
    "\n",
    "# use only 10% of the balance\n",
    "event = EnterFarmEvent(farm_contract.farmingToken, 0, farming_tk_balance // 10,\n",
    "                       farm_contract.farmToken, farm_tk_nonce, farm_tk_balance)\n",
    "\n",
    "initial_enter: bool = False if farm_tk_nonce else True\n",
    "tx_hash = farm_contract.enterFarm(context.network_provider, user_account, event, initial=initial_enter)"
   ]
  },
  {
   "cell_type": "code",
   "execution_count": null,
   "metadata": {},
   "outputs": [],
   "source": [
    "proxy_contract.set_transfer_role_wrapped_lp_token(context.deployer_account, context.network_provider.proxy, proxy_contract.address)"
   ]
  },
  {
   "cell_type": "markdown",
   "metadata": {},
   "source": [
    "Claim rewards"
   ]
  },
  {
   "cell_type": "code",
   "execution_count": null,
   "metadata": {},
   "outputs": [],
   "source": [
    "from utils.utils_chain import Account, WrapperAddress as Address, get_all_token_nonces_details_for_account\n",
    "from contracts.farm_contract import ClaimRewardsFarmEvent\n",
    "\n",
    "# user = fetched_users[randint(0, len(fetched_users.get_users_with_farming_tokens()) - 1)].address\n",
    "# user = fetched_users.get_users_with_both_tokens()[0].address\n",
    "user_account.sync_nonce(context.network_provider.proxy)\n",
    "\n",
    "farm_tk_balance, farm_tk_nonce = 0, 0\n",
    "tokens_in_account = get_all_token_nonces_details_for_account(farm_contract.farmToken, user_account.address.bech32(), context.network_provider.proxy)\n",
    "print(f'Found {len(tokens_in_account)} positions of {farm_contract.farmToken} in account')\n",
    "for token in tokens_in_account:\n",
    "    if int(token['balance']) > farm_tk_balance:\n",
    "        farm_tk_balance = int(token['balance'])\n",
    "        farm_tk_nonce = token['nonce']\n",
    "        break\n",
    "\n",
    "if not farm_tk_nonce:\n",
    "    raise Exception(\"Not enough farm token balance\")\n",
    "\n",
    "event = ClaimRewardsFarmEvent(farm_tk_balance, farm_tk_nonce, '')\n",
    "\n",
    "tx_hash = farm_contract.claimRewards(context.network_provider, user_account, event)"
   ]
  },
  {
   "cell_type": "code",
   "execution_count": null,
   "metadata": {},
   "outputs": [],
   "source": [
    "from utils.utils_chain import Account, WrapperAddress as Address, get_all_token_nonces_details_for_account\n",
    "from contracts.farm_contract import ClaimRewardsFarmEvent\n",
    "\n",
    "user_account = Account(pem_file=\"~/Documents/sh1.pem\")\n",
    "user_account.address = user.address\n",
    "user_account.sync_nonce(context.network_provider.proxy)\n",
    "\n",
    "event = ClaimRewardsFarmEvent(0, 0, '', user_account.address.bech32())\n",
    "\n",
    "tx_hash = farm_contract.claim_boosted_rewards(context.network_provider, user_account, event)"
   ]
  },
  {
   "cell_type": "markdown",
   "metadata": {},
   "source": [
    "Get user farm position"
   ]
  },
  {
   "cell_type": "code",
   "execution_count": null,
   "metadata": {},
   "outputs": [],
   "source": [
    "# user_address = fetched_users.get_users_with_both_tokens()[0].address.bech32()\n",
    "user_address = user.bech32()\n",
    "print(user_address)\n",
    "farm_contract.get_user_total_farm_position(user_address, context.network_provider.proxy)"
   ]
  },
  {
   "cell_type": "markdown",
   "metadata": {},
   "source": [
    "Exit rewards"
   ]
  },
  {
   "cell_type": "code",
   "execution_count": null,
   "metadata": {},
   "outputs": [],
   "source": [
    "from utils.utils_chain import Account, WrapperAddress as Address, get_all_token_nonces_details_for_account\n",
    "from contracts.farm_contract import ExitFarmEvent\n",
    "\n",
    "# user = fetched_users[randint(0, len(fetched_users.get_users_with_farming_tokens()) - 1)].address\n",
    "# user = fetched_users.get_users_with_both_tokens()[0].address\n",
    "user_account = Account(pem_file=config.DEFAULT_ACCOUNTS)\n",
    "user_account.address = user\n",
    "user_account.sync_nonce(context.network_provider.proxy)\n",
    "\n",
    "farm_tk_balance, farm_tk_nonce = 0, 0\n",
    "tokens_in_account = get_all_token_nonces_details_for_account(farm_contract.farmToken, user_account.address.bech32(), context.network_provider.proxy)\n",
    "print(f'Found {len(tokens_in_account)} positions of {farm_contract.farmToken} in account')\n",
    "for token in tokens_in_account:\n",
    "    if int(token['balance']) > farm_tk_balance:\n",
    "        farm_tk_balance = int(token['balance'])\n",
    "        farm_tk_nonce = token['nonce']\n",
    "        break\n",
    "\n",
    "if not farm_tk_nonce:\n",
    "    raise Exception(\"Not enough farm token balance\")\n",
    "\n",
    "event = ExitFarmEvent(farm_contract.farmToken, farm_tk_balance, farm_tk_nonce, '')\n",
    "\n",
    "tx_hash = farm_contract.exitFarm(context.network_provider, user_account, event)"
   ]
  },
  {
   "cell_type": "markdown",
   "metadata": {},
   "source": [
    "Get user farm position"
   ]
  },
  {
   "cell_type": "code",
   "execution_count": null,
   "metadata": {},
   "outputs": [],
   "source": [
    "# user_address = fetched_users.get_users_with_both_tokens()[0].address.bech32()\n",
    "user_address = user_account.address.bech32()\n",
    "print(user_address)\n",
    "farm_contract.get_user_total_farm_position(user_address, context.network_provider.proxy)"
   ]
  },
  {
   "cell_type": "markdown",
   "metadata": {},
   "source": [
    "SHADOWFORK CONTROL"
   ]
  },
  {
   "cell_type": "code",
   "execution_count": null,
   "metadata": {},
   "outputs": [],
   "source": [
    "from contracts.builtin_contracts import SFControlContract\n",
    "\n",
    "epocs_to_advance = 7\n",
    "\n",
    "sf_control_contract = SFControlContract(config.SF_CONTROL_ADDRESS)\n",
    "current_epoch = context.network_provider.proxy.get_network_status(1).epoch_number\n",
    "print(f'Current epoch: {current_epoch}')\n",
    "context.deployer_account.sync_nonce(context.network_provider.proxy)\n",
    "sf_control_contract.epochs_fast_forward(context.deployer_account, context.network_provider.proxy, epocs_to_advance, 9)"
   ]
  },
  {
   "cell_type": "markdown",
   "metadata": {},
   "source": [
    "wait for epoch fast forward"
   ]
  },
  {
   "cell_type": "code",
   "execution_count": null,
   "metadata": {},
   "outputs": [],
   "source": [
    "from time import sleep\n",
    "\n",
    "target_epoch = current_epoch + epocs_to_advance\n",
    "while current_epoch < target_epoch:\n",
    "    current_epoch = context.network_provider.proxy.get_network_status(1).epoch_number\n",
    "    print(f'Current epoch: {current_epoch}')\n",
    "    sleep(10)\n",
    "print('Reached target epoch!')"
   ]
  },
  {
   "cell_type": "markdown",
   "metadata": {},
   "source": [
    "Trackers"
   ]
  },
  {
   "cell_type": "code",
   "execution_count": null,
   "metadata": {},
   "outputs": [],
   "source": [
    "from trackers.farm_economics_tracking import FarmEconomics\n",
    "from contracts.farm_contract import FarmContractVersion\n",
    "\n",
    "farm_tracker = FarmEconomics(farm_contract.address, FarmContractVersion.V2Boosted, context.network_provider)"
   ]
  },
  {
   "cell_type": "code",
   "execution_count": null,
   "metadata": {},
   "outputs": [],
   "source": [
    "farm_tracker.update_tracking_data()\n",
    "farm_tracker.report_current_tracking_data()"
   ]
  },
  {
   "cell_type": "code",
   "execution_count": null,
   "metadata": {},
   "outputs": [],
   "source": [
    "farm_tracker.update_tracking_data()\n",
    "farm_tracker.report_current_tracking_data()"
   ]
  },
  {
   "cell_type": "markdown",
   "metadata": {},
   "source": [
    "State"
   ]
  },
  {
   "cell_type": "code",
   "execution_count": null,
   "metadata": {},
   "outputs": [],
   "source": [
    "current_week = farm_contract.get_current_week(context.network_provider.proxy)\n",
    "print(current_week)"
   ]
  },
  {
   "cell_type": "code",
   "execution_count": null,
   "metadata": {},
   "outputs": [],
   "source": [
    "energy_for_user_in_week = farm_contract.get_user_energy_for_week(user.bech32(), proxy=context.network_provider.proxy, week=current_week)\n",
    "print(energy_for_user_in_week)"
   ]
  },
  {
   "cell_type": "code",
   "execution_count": null,
   "metadata": {},
   "outputs": [],
   "source": [
    "user_progress = farm_contract.get_current_claim_progress_for_user(user.bech32(), context.network_provider.proxy)\n",
    "print(user_progress)"
   ]
  },
  {
   "cell_type": "code",
   "execution_count": null,
   "metadata": {},
   "outputs": [],
   "source": [
    "last_week = farm_contract.get_last_active_week_for_user(user.bech32(), context.network_provider.proxy)\n",
    "print(last_week)"
   ]
  },
  {
   "cell_type": "code",
   "execution_count": null,
   "metadata": {},
   "outputs": [],
   "source": [
    "from tools.runners.farm_runner import get_farm_addresses_from_chain\n",
    "from contracts.farm_contract import FarmContract\n",
    "\n",
    "farm_addresses = get_farm_addresses_from_chain(\"v2\")\n",
    "\n",
    "for farm_address in farm_addresses:\n",
    "    farm_contract = FarmContract.load_contract_by_address(farm_address)\n",
    "    stats = farm_contract.get_all_stats(context.network_provider.proxy)\n",
    "\n",
    "    print(f'Farm: {farm_address}')\n",
    "    print(f'Farm identity: {farm_contract.get_config_dict()}')\n",
    "    print(f'Stats: {stats}')\n",
    "    print('')\n"
   ]
  },
  {
   "cell_type": "markdown",
   "metadata": {},
   "source": [
    "New Farm setup"
   ]
  },
  {
   "cell_type": "code",
   "execution_count": null,
   "metadata": {},
   "outputs": [],
   "source": [
    "FARM_TOKEN_NAME = \"\"\n",
    "FARM_TOKEN_TICKER = \"\"\n",
    "POOL_ADDRESS = \"\"\n",
    "LOCK_EPOCHS = 1440\n",
    "BOOSTED_YIELD_REWARDS = 6000\n",
    "BOOSTED_YIELD_FACTORS = [2, 1, 0, 1, 1]\n",
    "REWARDS_PER_BLOCK = 1\n",
    "PENALTY_PERCENT = 300\n",
    "MINIMUM_FARMING_EPOCH = 7"
   ]
  },
  {
   "cell_type": "code",
   "execution_count": null,
   "metadata": {},
   "outputs": [],
   "source": [
    "from contracts.farm_contract import FarmContract, FarmContractVersion\n",
    "from contracts.pair_contract import PairContract\n",
    "from contracts.simple_lock_energy_contract import SimpleLockEnergyContract\n",
    "\n",
    "pair_contract = PairContract.load_contract_by_address(POOL_ADDRESS)\n",
    "print(f'Pair contract: {pair_contract.address} {pair_contract.lpToken}')\n",
    "energy_factory: SimpleLockEnergyContract\n",
    "energy_factory = context.get_contracts(config.SIMPLE_LOCKS_ENERGY)[0]\n",
    "\n",
    "farm_contract: FarmContract\n",
    "farm_contract = FarmContract(pair_contract.lpToken, \"\", energy_factory.base_token, \"\", FarmContractVersion.V2Boosted)"
   ]
  },
  {
   "cell_type": "code",
   "execution_count": null,
   "metadata": {},
   "outputs": [],
   "source": [
    "hash, address = farm_contract.contract_deploy(context.deployer_account, context.network_provider.proxy, \n",
    "                                              config.FARM_V3_BYTECODE_PATH,\n",
    "                                              [POOL_ADDRESS, context.admin_account.address.bech32()])\n",
    "farm_contract.address = address"
   ]
  },
  {
   "cell_type": "code",
   "execution_count": null,
   "metadata": {},
   "outputs": [],
   "source": [
    "farm_contract.register_farm_token(context.deployer_account, context.network_provider.proxy, [FARM_TOKEN_NAME, FARM_TOKEN_TICKER])"
   ]
  },
  {
   "cell_type": "code",
   "execution_count": null,
   "metadata": {},
   "outputs": [],
   "source": [
    "pair_contract.whitelist_contract(context.deployer_account, context.network_provider.proxy, farm_contract.address)"
   ]
  },
  {
   "cell_type": "code",
   "execution_count": null,
   "metadata": {},
   "outputs": [],
   "source": [
    "farm_contract.set_energy_factory_address(context.deployer_account, context.network_provider.proxy, energy_factory.address)"
   ]
  },
  {
   "cell_type": "code",
   "execution_count": null,
   "metadata": {},
   "outputs": [],
   "source": [
    "farm_contract.set_locking_address(context.deployer_account, context.network_provider.proxy, energy_factory.address)"
   ]
  },
  {
   "cell_type": "code",
   "execution_count": null,
   "metadata": {},
   "outputs": [],
   "source": [
    "energy_factory.add_sc_to_whitelist(context.deployer_account, context.network_provider.proxy, farm_contract.address)"
   ]
  },
  {
   "cell_type": "code",
   "execution_count": null,
   "metadata": {},
   "outputs": [],
   "source": [
    "farm_contract.set_lock_epochs(context.deployer_account, context.network_provider.proxy, LOCK_EPOCHS)"
   ]
  },
  {
   "cell_type": "code",
   "execution_count": null,
   "metadata": {},
   "outputs": [],
   "source": [
    "farm_contract.set_boosted_yields_rewards_percentage(context.deployer_account, context.network_provider.proxy, BOOSTED_YIELD_REWARDS)"
   ]
  },
  {
   "cell_type": "code",
   "execution_count": null,
   "metadata": {},
   "outputs": [],
   "source": [
    "farm_contract.set_boosted_yields_factors(context.deployer_account, context.network_provider.proxy, BOOSTED_YIELD_FACTORS)"
   ]
  },
  {
   "cell_type": "code",
   "execution_count": null,
   "metadata": {},
   "outputs": [],
   "source": [
    "farm_contract.set_rewards_per_block(context.deployer_account, context.network_provider.proxy, 1)"
   ]
  },
  {
   "cell_type": "code",
   "execution_count": null,
   "metadata": {},
   "outputs": [],
   "source": [
    "farm_contract.set_penalty_percent(context.deployer_account, context.network_provider.proxy, 300)"
   ]
  },
  {
   "cell_type": "code",
   "execution_count": null,
   "metadata": {},
   "outputs": [],
   "source": [
    "farm_contract.set_minimum_farming_epochs(context.deployer_account, context.network_provider.proxy, 7)"
   ]
  },
  {
   "cell_type": "code",
   "execution_count": null,
   "metadata": {},
   "outputs": [],
   "source": [
    "energy_factory.set_transfer_role_locked_token(context.deployer_account, context.network_provider.proxy, [farm_contract.address])"
   ]
  }
 ],
 "metadata": {
  "kernelspec": {
   "display_name": "venv",
   "language": "python",
   "name": "python3"
  },
  "language_info": {
   "codemirror_mode": {
    "name": "ipython",
    "version": 3
   },
   "file_extension": ".py",
   "mimetype": "text/x-python",
   "name": "python",
   "nbconvert_exporter": "python",
   "pygments_lexer": "ipython3",
   "version": "3.12.3"
  },
  "orig_nbformat": 4
 },
 "nbformat": 4,
 "nbformat_minor": 2
}
