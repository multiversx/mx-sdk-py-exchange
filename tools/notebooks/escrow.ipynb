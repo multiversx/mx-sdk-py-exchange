{
 "cells": [
  {
   "cell_type": "code",
   "execution_count": null,
   "metadata": {},
   "outputs": [],
   "source": [
    "import sys\n",
    "from pathlib import Path\n",
    "sys.path.append(str(Path.cwd().parent.parent.absolute()))"
   ]
  },
  {
   "cell_type": "markdown",
   "metadata": {},
   "source": [
    "Framework based interaction"
   ]
  },
  {
   "cell_type": "code",
   "execution_count": null,
   "metadata": {},
   "outputs": [],
   "source": [
    "import sys\n",
    "from pathlib import Path\n",
    "sys.path.append(str(Path.cwd().parent.parent.absolute()))\n",
    "import config"
   ]
  },
  {
   "cell_type": "code",
   "execution_count": null,
   "metadata": {},
   "outputs": [],
   "source": [
    "from context import Context\n",
    "\n",
    "context = Context()"
   ]
  },
  {
   "cell_type": "code",
   "execution_count": null,
   "metadata": {},
   "outputs": [],
   "source": [
    "from contracts.escrow_contract import EscrowContract\n",
    "from contracts.simple_lock_energy_contract import SimpleLockEnergyContract\n",
    "\n",
    "contract: EscrowContract = context.get_contracts(config.ESCROWS)[0]\n",
    "energy_contract: SimpleLockEnergyContract = context.get_contracts(config.SIMPLE_LOCKS_ENERGY)[0]\n",
    "locked_token = energy_contract.locked_token"
   ]
  },
  {
   "cell_type": "markdown",
   "metadata": {},
   "source": [
    "upgrade contract"
   ]
  },
  {
   "cell_type": "code",
   "execution_count": null,
   "metadata": {},
   "outputs": [],
   "source": [
    "context.deployer_account.sync_nonce(context.network_provider.proxy)\n",
    "hash = contract.contract_upgrade(context.deployer_account, context.network_provider.proxy, config.ESCROW_BYTECODE_PATH, [])"
   ]
  },
  {
   "cell_type": "markdown",
   "metadata": {},
   "source": [
    "Lock tokens"
   ]
  },
  {
   "cell_type": "code",
   "execution_count": null,
   "metadata": {},
   "outputs": [],
   "source": [
    "from utils.utils_chain import Account, WrapperAddress, nominated_amount\n",
    "from utils.utils_tx import ESDTToken\n",
    "\n",
    "user = Account(pem_file=config.DEFAULT_ADMIN)\n",
    "receiver = Account(pem_file=config.DEFAULT_ADMIN)\n",
    "\n",
    "user.address = WrapperAddress(\"erd1wfkgmzx36tjqurnvxjdu5pzmmyqg20p5k76mvp8sghsycngcaq5s5s0ecn\")\n",
    "receiver.address = WrapperAddress(\"erd1hfnw32gkydnj80cljjvkfz9kl3tachmwcpgjhxm5k5l0vhu4pr9s4zwxwa\")\n",
    "tokens = [ESDTToken(locked_token, int('09', 16), 6385888718117022425088000)]\n",
    "\n",
    "user.sync_nonce(context.network_provider.proxy)\n",
    "contract.lock_funds(user, context.network_provider.proxy, [tokens, receiver.address])"
   ]
  },
  {
   "cell_type": "code",
   "execution_count": null,
   "metadata": {},
   "outputs": [],
   "source": [
    "user = Account(pem_file=config.DEFAULT_ADMIN)\n",
    "receiver = Account(pem_file=config.DEFAULT_ADMIN)\n",
    "\n",
    "user.address = WrapperAddress(\"erd1wfkgmzx36tjqurnvxjdu5pzmmyqg20p5k76mvp8sghsycngcaq5s5s0ecn\")\n",
    "receiver.address = WrapperAddress(\"erd1hfnw32gkydnj80cljjvkfz9kl3tachmwcpgjhxm5k5l0vhu4pr9s4zwxwa\")\n",
    "\n",
    "context.deployer_account.sync_nonce(context.network_provider.proxy)\n",
    "contract.cancel_transfer(context.deployer_account, context.network_provider.proxy, [user.address, receiver.address])"
   ]
  },
  {
   "cell_type": "markdown",
   "metadata": {},
   "source": [
    "Token searcher"
   ]
  },
  {
   "cell_type": "code",
   "execution_count": null,
   "metadata": {},
   "outputs": [],
   "source": [
    "from utils.decoding_structures import XMEX_ATTRIBUTES\n",
    "from utils.utils_chain import decode_merged_attributes\n",
    "from utils.utils_chain import base64_to_hex\n",
    "from multiversx_sdk import ApiNetworkProvider\n",
    "\n",
    "searched_offset = 30\n",
    "\n",
    "# get current epoch\n",
    "main_api = ApiNetworkProvider(\"https://api.multiversx.com\")\n",
    "current_epoch = context.network_provider.proxy.get_network_status(1).epoch_number\n",
    "\n",
    "for i in range(1, 10000):\n",
    "    result = main_api.get_non_fungible_token(locked_token, i)\n",
    "    if result:\n",
    "        decoded_data = decode_merged_attributes(base64_to_hex(result.attributes), XMEX_ATTRIBUTES)\n",
    "        print(i, decoded_data)\n",
    "        if current_epoch < decoded_data['unlock_epoch'] < current_epoch + searched_offset:\n",
    "            print(i)\n",
    "            break\n",
    "    "
   ]
  },
  {
   "cell_type": "markdown",
   "metadata": {},
   "source": [
    "XMEX unlocking"
   ]
  },
  {
   "cell_type": "code",
   "execution_count": null,
   "metadata": {},
   "outputs": [],
   "source": [
    "import time\n",
    "from utils.utils_chain import get_all_token_nonces_details_for_account\n",
    "from utils.utils_tx import ESDTToken\n",
    "\n",
    "tokens = get_all_token_nonces_details_for_account(locked_token, user.address, context.network_provider.proxy)\n",
    "print(len(tokens), tokens)\n",
    "user.sync_nonce(context.network_provider.proxy)\n",
    "\n",
    "token_list = []\n",
    "for token in tokens:\n",
    "    token_to_unlock = ESDTToken(locked_token, token[\"nonce\"], int(token[\"balance\"]))\n",
    "    energy_contract.unlock_tokens(user, context.network_provider.proxy, [[token_to_unlock]])\n",
    "    time.sleep(10)"
   ]
  },
  {
   "cell_type": "code",
   "execution_count": null,
   "metadata": {},
   "outputs": [],
   "source": [
    "import time\n",
    "from utils.utils_chain import get_all_token_nonces_details_for_account\n",
    "from utils.utils_tx import ESDTToken\n",
    "\n",
    "tokens = get_all_token_nonces_details_for_account(locked_token, user.address, context.network_provider.proxy)\n",
    "print(len(tokens), tokens)\n",
    "user.sync_nonce(context.network_provider.proxy)\n",
    "\n",
    "token_list = []\n",
    "for token in tokens:\n",
    "    token_to_unlock = ESDTToken(locked_token, token[\"nonce\"], int(token[\"balance\"]))\n",
    "    energy_contract.unlock_early(user, context.network_provider.proxy, [[token_to_unlock]])\n",
    "    time.sleep(10)"
   ]
  },
  {
   "cell_type": "code",
   "execution_count": null,
   "metadata": {},
   "outputs": [],
   "source": [
    "from contracts.pair_contract import PairContract\n",
    "from contracts.dex_proxy_contract import DexProxyContract, DexProxyRemoveLiquidityEvent\n",
    "\n",
    "pair_contract: PairContract = context.get_contracts(config.PAIRS_V2)[0]\n",
    "dex_proxy_contract: DexProxyContract = context.get_contracts(config.PROXIES)[0]\n",
    "\n",
    "print(dex_proxy_contract.proxy_lp_token)\n",
    "tokens = get_all_token_nonces_details_for_account(dex_proxy_contract.proxy_lp_token, user.address.bech32(), context.network_provider.proxy)\n",
    "for token in tokens:\n",
    "    event = DexProxyRemoveLiquidityEvent(pair_contract, int(token[\"balance\"]), token[\"nonce\"], 1, 1)\n",
    "    hash = dex_proxy_contract.remove_liquidity_proxy(user, context.network_provider.proxy, event)"
   ]
  },
  {
   "cell_type": "code",
   "execution_count": null,
   "metadata": {},
   "outputs": [],
   "source": [
    "from contracts.locked_asset_contract import LockedAssetContract\n",
    "from utils.utils_chain import get_all_token_nonces_details_for_account\n",
    "from utils.utils_tx import ESDTToken\n",
    "import time\n",
    "\n",
    "locked_asset_contract: LockedAssetContract = context.get_contracts(config.LOCKED_ASSETS)[0]\n",
    "tokens = get_all_token_nonces_details_for_account(locked_asset_contract.locked_asset, user.address.bech32(), context.network_provider.proxy)\n",
    "for token in tokens:\n",
    "    locked_asset_contract.unlock_assets(user, context.network_provider.proxy, [[ESDTToken(locked_asset_contract.locked_asset, token[\"nonce\"], int(token[\"balance\"]))]])\n",
    "    time.sleep(10)"
   ]
  },
  {
   "cell_type": "markdown",
   "metadata": {},
   "source": [
    "Low Level interaction"
   ]
  },
  {
   "cell_type": "code",
   "execution_count": null,
   "metadata": {},
   "outputs": [],
   "source": [
    "from multiversx_sdk import Address, TokenPayment, ProxyNetworkProvider\n",
    "from multiversx_sdk.core.transaction_builders import ContractCallBuilder, ESDTNFTTransferBuilder, DefaultTransactionBuildersConfiguration\n",
    "from tools.notebooks import env\n",
    "\n",
    "config = DefaultTransactionBuildersConfiguration(chain_id=env.CHAIN_ID)\n",
    "proxy = ProxyNetworkProvider(env.PROXY_URL)"
   ]
  },
  {
   "cell_type": "code",
   "execution_count": null,
   "metadata": {},
   "outputs": [],
   "source": [
    "contract_address = env.ESCROW_CONTRACT\n",
    "XMEX = env.XMEX\n",
    "LKMEX = env.LKMEX\n",
    "WXMEX = env.WXMEX"
   ]
  },
  {
   "cell_type": "code",
   "execution_count": null,
   "metadata": {},
   "outputs": [],
   "source": [
    "from multiversx_sdk import AccountNonceHolder, UserSigner\n",
    "from pathlib import Path\n",
    "\n",
    "user = env.USER1\n",
    "receiver = env.USER2\n",
    "admin = env.ADMIN\n",
    "owner = env.OWNER\n",
    "\n",
    "user_signer = UserSigner.from_pem_file(Path(env.USER1_PEM))\n",
    "owner_signer = UserSigner.from_pem_file(Path(env.OWNER_PEM))"
   ]
  },
  {
   "attachments": {},
   "cell_type": "markdown",
   "metadata": {},
   "source": [
    "lockFunds"
   ]
  },
  {
   "cell_type": "code",
   "execution_count": null,
   "metadata": {},
   "outputs": [],
   "source": [
    "from multiversx_sdk import TransactionsConverter\n",
    "\n",
    "user_nonce_holder = AccountNonceHolder(proxy.get_account(user).nonce)\n",
    "\n",
    "transfers = [\n",
    "    TokenPayment.meta_esdt_from_amount(XMEX, 1, 1000000, 18),\n",
    "    TokenPayment.meta_esdt_from_amount(XMEX, 46, 1000000, 18)\n",
    "]\n",
    "\n",
    "builder = ContractCallBuilder(\n",
    "    config,\n",
    "    contract=contract_address,\n",
    "    function_name=\"lockFunds\",\n",
    "    caller=user,\n",
    "    call_arguments=[receiver],\n",
    "    gas_limit=30000000,\n",
    "    esdt_transfers=transfers\n",
    ")\n",
    "\n",
    "tx = builder.build()\n",
    "\n",
    "converter = TransactionsConverter()\n",
    "print(\"Transaction:\", converter.transaction_to_dictionary(tx))\n",
    "print(\"Transaction data:\", tx.data.decode())"
   ]
  },
  {
   "cell_type": "code",
   "execution_count": null,
   "metadata": {},
   "outputs": [],
   "source": [
    "from multiversx_sdk import TransactionComputer\n",
    "\n",
    "tx.nonce = user_nonce_holder.get_nonce_then_increment()\n",
    "\n",
    "tx_computer = TransactionComputer()\n",
    "tx.signature = user_signer.sign(tx_computer.compute_bytes_for_signing(tx))\n",
    "proxy.send_transaction(tx)"
   ]
  },
  {
   "attachments": {},
   "cell_type": "markdown",
   "metadata": {},
   "source": [
    "withdraw receiver"
   ]
  },
  {
   "cell_type": "code",
   "execution_count": null,
   "metadata": {},
   "outputs": [],
   "source": [
    "user_nonce_holder = AccountNonceHolder(proxy.get_account(env.USER2).nonce)\n",
    "\n",
    "builder = ContractCallBuilder(\n",
    "    config,\n",
    "    contract=env.ESCROW_CONTRACT,\n",
    "    function_name=\"withdraw\",\n",
    "    caller=env.USER2,\n",
    "    call_arguments=[env.FORWARDER_CONTRACT],\n",
    "    gas_limit=30000000\n",
    ")\n",
    "\n",
    "tx = builder.build()\n",
    "print(\"Transaction:\", converter.transaction_to_dictionary(tx))\n",
    "print(\"Transaction data:\", tx.data.decode())"
   ]
  },
  {
   "cell_type": "code",
   "execution_count": null,
   "metadata": {},
   "outputs": [],
   "source": [
    "tx.nonce = user_nonce_holder.get_nonce_then_increment()\n",
    "tx.signature = user_signer.sign(tx_computer.compute_bytes_for_signing(tx))\n",
    "proxy.send_transaction(tx)"
   ]
  },
  {
   "attachments": {},
   "cell_type": "markdown",
   "metadata": {},
   "source": [
    "withdraw self"
   ]
  },
  {
   "cell_type": "code",
   "execution_count": null,
   "metadata": {},
   "outputs": [],
   "source": [
    "user_nonce_holder = AccountNonceHolder(proxy.get_account(user).nonce)\n",
    "\n",
    "builder = ContractCallBuilder(\n",
    "    config,\n",
    "    contract=contract_address,\n",
    "    function_name=\"withdraw\",\n",
    "    caller=user,\n",
    "    call_arguments=[user],\n",
    "    gas_limit=30000000\n",
    ")\n",
    "\n",
    "tx = builder.build()\n",
    "print(\"Transaction:\", converter.transaction_to_dictionary(tx))\n",
    "print(\"Transaction data:\", tx.data.decode())"
   ]
  },
  {
   "cell_type": "code",
   "execution_count": null,
   "metadata": {},
   "outputs": [],
   "source": [
    "tx.nonce = user_nonce_holder.get_nonce_then_increment()\n",
    "tx.signature = user_signer.sign(tx_computer.compute_bytes_for_signing(tx))\n",
    "proxy.send_transaction(tx)"
   ]
  },
  {
   "attachments": {},
   "cell_type": "markdown",
   "metadata": {},
   "source": [
    "withdraw - others (fail)"
   ]
  },
  {
   "cell_type": "code",
   "execution_count": null,
   "metadata": {},
   "outputs": [],
   "source": [
    "user_nonce_holder = AccountNonceHolder(proxy.get_account(admin).nonce)\n",
    "\n",
    "builder = ContractCallBuilder(\n",
    "    config,\n",
    "    contract=contract_address,\n",
    "    function_name=\"withdraw\",\n",
    "    caller=admin,\n",
    "    call_arguments=[user],\n",
    "    gas_limit=30000000\n",
    ")\n",
    "\n",
    "tx = builder.build()\n",
    "print(\"Transaction:\", converter.transaction_to_dictionary(tx))\n",
    "print(\"Transaction data:\", tx.data.decode())"
   ]
  },
  {
   "cell_type": "code",
   "execution_count": null,
   "metadata": {},
   "outputs": [],
   "source": [
    "tx.nonce = user_nonce_holder.get_nonce_then_increment()\n",
    "tx.signature = user_signer.sign(tx_computer.compute_bytes_for_signing(tx))\n",
    "proxy.send_transaction(tx)"
   ]
  },
  {
   "attachments": {},
   "cell_type": "markdown",
   "metadata": {},
   "source": [
    "cancel transfer - user (fail)"
   ]
  },
  {
   "cell_type": "code",
   "execution_count": null,
   "metadata": {},
   "outputs": [],
   "source": [
    "user_nonce_holder = AccountNonceHolder(proxy.get_account(user).nonce)\n",
    "\n",
    "builder = ContractCallBuilder(\n",
    "    config,\n",
    "    contract=contract_address,\n",
    "    function_name=\"cancelTransfer\",\n",
    "    caller=user,\n",
    "    call_arguments=[user, receiver],\n",
    "    gas_limit=30000000\n",
    ")\n",
    "\n",
    "tx = builder.build()\n",
    "print(\"Transaction:\", converter.transaction_to_dictionary(tx))\n",
    "print(\"Transaction data:\", tx.data.decode())"
   ]
  },
  {
   "cell_type": "code",
   "execution_count": null,
   "metadata": {},
   "outputs": [],
   "source": [
    "tx.nonce = user_nonce_holder.get_nonce_then_increment()\n",
    "tx.signature = user_signer.sign(tx_computer.compute_bytes_for_signing(tx))\n",
    "proxy.send_transaction(tx)"
   ]
  },
  {
   "attachments": {},
   "cell_type": "markdown",
   "metadata": {},
   "source": [
    "addAdmin - owner (pass)"
   ]
  },
  {
   "cell_type": "code",
   "execution_count": null,
   "metadata": {},
   "outputs": [],
   "source": [
    "user_nonce_holder = AccountNonceHolder(proxy.get_account(owner).nonce)\n",
    "\n",
    "builder = ContractCallBuilder(\n",
    "    config,\n",
    "    contract=contract_address,\n",
    "    function_name=\"addAdmin\",\n",
    "    caller=owner,\n",
    "    call_arguments=[admin],\n",
    "    gas_limit=30000000\n",
    ")\n",
    "\n",
    "tx = builder.build()\n",
    "print(\"Transaction:\", converter.transaction_to_dictionary(tx))\n",
    "print(\"Transaction data:\", tx.data.decode())"
   ]
  },
  {
   "cell_type": "code",
   "execution_count": null,
   "metadata": {},
   "outputs": [],
   "source": [
    "tx.nonce = user_nonce_holder.get_nonce_then_increment()\n",
    "tx.signature = user_signer.sign(tx_computer.compute_bytes_for_signing(tx))\n",
    "proxy.send_transaction(tx)"
   ]
  },
  {
   "attachments": {},
   "cell_type": "markdown",
   "metadata": {},
   "source": [
    "addAdmin - others (fail)"
   ]
  },
  {
   "cell_type": "code",
   "execution_count": null,
   "metadata": {},
   "outputs": [],
   "source": [
    "user_nonce_holder = AccountNonceHolder(proxy.get_account(user).nonce)\n",
    "\n",
    "builder = ContractCallBuilder(\n",
    "    config,\n",
    "    contract=contract_address,\n",
    "    function_name=\"addAdmin\",\n",
    "    caller=user,\n",
    "    call_arguments=[receiver],\n",
    "    gas_limit=30000000\n",
    ")\n",
    "\n",
    "tx = builder.build()\n",
    "print(\"Transaction:\", converter.transaction_to_dictionary(tx))\n",
    "print(\"Transaction data:\", tx.data.decode())"
   ]
  },
  {
   "cell_type": "code",
   "execution_count": null,
   "metadata": {},
   "outputs": [],
   "source": [
    "tx.nonce = user_nonce_holder.get_nonce_then_increment()\n",
    "tx.signature = user_signer.sign(tx_computer.compute_bytes_for_signing(tx))\n",
    "proxy.send_transaction(tx)"
   ]
  },
  {
   "attachments": {},
   "cell_type": "markdown",
   "metadata": {},
   "source": [
    "cancel transfer"
   ]
  },
  {
   "cell_type": "code",
   "execution_count": null,
   "metadata": {},
   "outputs": [],
   "source": [
    "user_nonce_holder = AccountNonceHolder(proxy.get_account(env.ADMIN).nonce)\n",
    "\n",
    "builder = ContractCallBuilder(\n",
    "    config,\n",
    "    contract=env.ESCROW_CONTRACT,\n",
    "    function_name=\"cancelTransfer\",\n",
    "    caller=admin,\n",
    "    call_arguments=[env.USER1, env.FORWARDER_CONTRACT],\n",
    "    gas_limit=30000000\n",
    ")\n",
    "\n",
    "tx = builder.build()\n",
    "print(\"Transaction:\", converter.transaction_to_dictionary(tx))\n",
    "print(\"Transaction data:\", tx.data.decode())"
   ]
  },
  {
   "cell_type": "code",
   "execution_count": null,
   "metadata": {},
   "outputs": [],
   "source": [
    "tx.nonce = user_nonce_holder.get_nonce_then_increment()\n",
    "tx.signature = user_signer.sign(tx_computer.compute_bytes_for_signing(tx))\n",
    "proxy.send_transaction(tx)"
   ]
  },
  {
   "attachments": {},
   "cell_type": "markdown",
   "metadata": {},
   "source": [
    "Token transfer"
   ]
  },
  {
   "cell_type": "code",
   "execution_count": null,
   "metadata": {},
   "outputs": [],
   "source": [
    "transfer = TokenPayment.meta_esdt_from_amount(WXMEX, 2, 2000000, 18)\n",
    "\n",
    "user = env.USER1\n",
    "receiver = env.USER2\n",
    "user_nonce_holder = AccountNonceHolder(proxy.get_account(user).nonce)\n",
    "\n",
    "builder = ESDTNFTTransferBuilder(\n",
    "    config,\n",
    "    destination=receiver,\n",
    "    sender=user,\n",
    "    gas_limit=30000000,\n",
    "    payment=transfer\n",
    ")\n",
    "\n",
    "tx = builder.build()\n",
    "print(\"Transaction:\", converter.transaction_to_dictionary(tx))\n",
    "print(\"Transaction data:\", tx.data.decode())"
   ]
  },
  {
   "cell_type": "code",
   "execution_count": null,
   "metadata": {},
   "outputs": [],
   "source": [
    "tx.nonce = user_nonce_holder.get_nonce_then_increment()\n",
    "tx.signature = user_signer.sign(tx_computer.compute_bytes_for_signing(tx))\n",
    "proxy.send_transaction(tx)"
   ]
  }
 ],
 "metadata": {
  "kernelspec": {
   "display_name": "venv-newerdpy",
   "language": "python",
   "name": "python3"
  },
  "language_info": {
   "codemirror_mode": {
    "name": "ipython",
    "version": 3
   },
   "file_extension": ".py",
   "mimetype": "text/x-python",
   "name": "python",
   "nbconvert_exporter": "python",
   "pygments_lexer": "ipython3",
   "version": "3.11.6"
  },
  "orig_nbformat": 4,
  "vscode": {
   "interpreter": {
    "hash": "7ae6ab0abdf10440b34f03794a69a71508ff61341cacd694fe6034a1a71d3b05"
   }
  }
 },
 "nbformat": 4,
 "nbformat_minor": 2
}
