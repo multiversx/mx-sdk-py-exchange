{
 "cells": [
  {
   "cell_type": "code",
   "execution_count": null,
   "metadata": {},
   "outputs": [],
   "source": [
    "import sys\n",
    "from pathlib import Path\n",
    "sys.path.append(str(Path.cwd().parent.parent.absolute()))\n",
    "import config\n",
    "from contracts.router_contract import RouterContract, RouterContractVersion\n",
    "from utils.utils_chain import Account, WrapperAddress as Address\n",
    "from multiversx_sdk import ProxyNetworkProvider\n",
    "from context import Context\n",
    "\n",
    "context = Context()\n",
    "router_contract = context.deploy_structure.get_deployed_contract_by_index(config.ROUTER_V2, 0)"
   ]
  },
  {
   "cell_type": "code",
   "execution_count": 2,
   "metadata": {},
   "outputs": [],
   "source": [
    "account = context.deployer_account\n",
    "proxy = context.network_provider.proxy"
   ]
  },
  {
   "cell_type": "code",
   "execution_count": null,
   "metadata": {},
   "outputs": [],
   "source": [
    "tx = router_contract.remove_common_tokens_for_user_pairs(account, proxy, \"WSDAI-277fee\")"
   ]
  },
  {
   "attachments": {},
   "cell_type": "markdown",
   "metadata": {},
   "source": [
    "Add common tokens for swap enable"
   ]
  },
  {
   "cell_type": "code",
   "execution_count": null,
   "metadata": {},
   "outputs": [],
   "source": [
    "tx = router_contract.add_common_tokens_for_user_pairs(account, proxy, \"USDT-f8c08c\", \"WDAI-9eeb54\", \"WSDAI-277fee\", \"WBTC-5349b3\", \"WETH-b4ca29\", \"SEGLD-3ad2d0\", \"LEGLD-d74da9\")"
   ]
  },
  {
   "attachments": {},
   "cell_type": "markdown",
   "metadata": {},
   "source": [
    "Add config for common token"
   ]
  },
  {
   "cell_type": "code",
   "execution_count": null,
   "metadata": {},
   "outputs": [],
   "source": [
    "\n",
    "tx = router_contract.config_enable_by_user_parameters(account, proxy, common_token_id=\"USDC-c76f1f\", locked_token_id=\"LKESDT-fc19ba\", \n",
    "                                                      min_locked_token_value=900000, min_lock_period_epochs=2)"
   ]
  },
  {
   "cell_type": "code",
   "execution_count": null,
   "metadata": {},
   "outputs": [],
   "source": [
    "\n",
    "tx = router_contract.config_enable_by_user_parameters(account, proxy, common_token_id=\"WEGLD-bd4d79\", locked_token_id=\"LKESDT-fc19ba\", \n",
    "                                                      min_locked_token_value=900000000000000000, min_lock_period_epochs=2)"
   ]
  },
  {
   "cell_type": "code",
   "execution_count": null,
   "metadata": {},
   "outputs": [],
   "source": [
    "\n",
    "tx = router_contract.config_enable_by_user_parameters(account, proxy, common_token_id=\"MEX-455c57\", locked_token_id=\"LKESDT-fc19ba\", \n",
    "                                                      min_locked_token_value=900000000000000000000000, min_lock_period_epochs=2)"
   ]
  },
  {
   "cell_type": "code",
   "execution_count": null,
   "metadata": {},
   "outputs": [],
   "source": [
    "\n",
    "tx = router_contract.config_enable_by_user_parameters(account, proxy, common_token_id=\"USDT-f8c08c\", locked_token_id=\"LKESDT-fc19ba\", \n",
    "                                                      min_locked_token_value=900000, min_lock_period_epochs=2)"
   ]
  },
  {
   "cell_type": "code",
   "execution_count": null,
   "metadata": {},
   "outputs": [],
   "source": [
    "\n",
    "tx = router_contract.config_enable_by_user_parameters(account, proxy, common_token_id=\"WDAI-9eeb54\", locked_token_id=\"LKESDT-fc19ba\", \n",
    "                                                      min_locked_token_value=900000000000000000, min_lock_period_epochs=2)"
   ]
  },
  {
   "cell_type": "code",
   "execution_count": null,
   "metadata": {},
   "outputs": [],
   "source": [
    "\n",
    "tx = router_contract.config_enable_by_user_parameters(account, proxy, common_token_id=\"WSDAI-277fee\", locked_token_id=\"LKESDT-fc19ba\", \n",
    "                                                      min_locked_token_value=900000000000000000, min_lock_period_epochs=2)"
   ]
  },
  {
   "cell_type": "code",
   "execution_count": null,
   "metadata": {},
   "outputs": [],
   "source": [
    "\n",
    "tx = router_contract.config_enable_by_user_parameters(account, proxy, common_token_id=\"WBTC-5349b3\", locked_token_id=\"LKESDT-fc19ba\", \n",
    "                                                      min_locked_token_value=9000, min_lock_period_epochs=2)"
   ]
  },
  {
   "cell_type": "code",
   "execution_count": null,
   "metadata": {},
   "outputs": [],
   "source": [
    "\n",
    "tx = router_contract.config_enable_by_user_parameters(account, proxy, common_token_id=\"WETH-b4ca29\", locked_token_id=\"LKESDT-fc19ba\", \n",
    "                                                      min_locked_token_value=900000000000000, min_lock_period_epochs=2)"
   ]
  },
  {
   "cell_type": "code",
   "execution_count": null,
   "metadata": {},
   "outputs": [],
   "source": [
    "\n",
    "tx = router_contract.config_enable_by_user_parameters(account, proxy, common_token_id=\"SEGLD-3ad2d0\", locked_token_id=\"LKESDT-fc19ba\", \n",
    "                                                      min_locked_token_value=900000000000000000, min_lock_period_epochs=2)"
   ]
  },
  {
   "cell_type": "code",
   "execution_count": null,
   "metadata": {},
   "outputs": [],
   "source": [
    "\n",
    "tx = router_contract.config_enable_by_user_parameters(account, proxy, common_token_id=\"LEGLD-d74da9\", locked_token_id=\"LKESDT-fc19ba\", \n",
    "                                                      min_locked_token_value=900000000000000000, min_lock_period_epochs=2)"
   ]
  },
  {
   "cell_type": "markdown",
   "metadata": {},
   "source": [
    "DEVNET"
   ]
  },
  {
   "cell_type": "code",
   "execution_count": null,
   "metadata": {},
   "outputs": [],
   "source": [
    "tx = router_contract.add_common_tokens_for_user_pairs(account, proxy, \"USDT-58d5d0\", \"WBTC-05fd5b\", \"WETH-bbe4ab\", \"SEGLD-cc1abc\", \"LEGLD-e8378b\")"
   ]
  },
  {
   "cell_type": "markdown",
   "metadata": {},
   "source": [
    "Add config for common token"
   ]
  },
  {
   "cell_type": "code",
   "execution_count": null,
   "metadata": {},
   "outputs": [],
   "source": [
    "\n",
    "tx = router_contract.config_enable_by_user_parameters(account, proxy, common_token_id=\"USDC-350c4e\", locked_token_id=\"LKTK-4de4a1\", \n",
    "                                                      min_locked_token_value=900000, \n",
    "                                                      min_lock_period_epochs=2)"
   ]
  },
  {
   "cell_type": "code",
   "execution_count": null,
   "metadata": {},
   "outputs": [],
   "source": [
    "\n",
    "tx = router_contract.config_enable_by_user_parameters(account, proxy, common_token_id=\"WEGLD-a28c59\", locked_token_id=\"LKTK-4de4a1\", \n",
    "                                                      min_locked_token_value=900000000000000000,\n",
    "                                                      min_lock_period_epochs=2)"
   ]
  },
  {
   "cell_type": "code",
   "execution_count": null,
   "metadata": {},
   "outputs": [],
   "source": [
    "\n",
    "tx = router_contract.config_enable_by_user_parameters(account, proxy, common_token_id=\"MEX-a659d0\", locked_token_id=\"LKTK-4de4a1\", \n",
    "                                                      min_locked_token_value=900000000000000000000000, \n",
    "                                                      min_lock_period_epochs=2)"
   ]
  },
  {
   "cell_type": "code",
   "execution_count": null,
   "metadata": {},
   "outputs": [],
   "source": [
    "\n",
    "tx = router_contract.config_enable_by_user_parameters(account, proxy, common_token_id=\"USDT-58d5d0\", locked_token_id=\"LKTK-4de4a1\", \n",
    "                                                      min_locked_token_value=900000, \n",
    "                                                      min_lock_period_epochs=2)"
   ]
  },
  {
   "cell_type": "code",
   "execution_count": null,
   "metadata": {},
   "outputs": [],
   "source": [
    "\n",
    "tx = router_contract.config_enable_by_user_parameters(account, proxy, common_token_id=\"WBTC-05fd5b\", locked_token_id=\"LKTK-4de4a1\", \n",
    "                                                      min_locked_token_value=9000, \n",
    "                                                      min_lock_period_epochs=2)"
   ]
  },
  {
   "cell_type": "code",
   "execution_count": null,
   "metadata": {},
   "outputs": [],
   "source": [
    "\n",
    "tx = router_contract.config_enable_by_user_parameters(account, proxy, common_token_id=\"WETH-bbe4ab\", locked_token_id=\"LKTK-4de4a1\", \n",
    "                                                      min_locked_token_value=900000000000000, \n",
    "                                                      min_lock_period_epochs=2)"
   ]
  },
  {
   "cell_type": "code",
   "execution_count": null,
   "metadata": {},
   "outputs": [],
   "source": [
    "\n",
    "tx = router_contract.config_enable_by_user_parameters(account, proxy, common_token_id=\"SEGLD-cc1abc\", locked_token_id=\"LKTK-4de4a1\", \n",
    "                                                      min_locked_token_value=900000000000000000, \n",
    "                                                      min_lock_period_epochs=2)"
   ]
  },
  {
   "cell_type": "code",
   "execution_count": null,
   "metadata": {},
   "outputs": [],
   "source": [
    "\n",
    "tx = router_contract.config_enable_by_user_parameters(account, proxy, common_token_id=\"LEGLD-e8378b\", locked_token_id=\"LKTK-4de4a1\", \n",
    "                                                      min_locked_token_value=900000000000000000, \n",
    "                                                      min_lock_period_epochs=2)"
   ]
  },
  {
   "attachments": {},
   "cell_type": "markdown",
   "metadata": {},
   "source": [
    "Create new pair"
   ]
  },
  {
   "cell_type": "code",
   "execution_count": null,
   "metadata": {},
   "outputs": [],
   "source": [
    "account = Account(pem_file=config.DEFAULT_OWNER)\n",
    "proxy = ProxyNetworkProvider(config.DEFAULT_PROXY)\n",
    "account.sync_nonce(proxy)\n",
    "router_contract = RouterContract(RouterContractVersion.V2, ROUTER_ADDRESS)\n",
    "tx = router_contract.pair_contract_deploy(account, proxy, [\"<first_token_id>\", \"<second_token_id>\", \"<initial_liquidity_adderr>\", 300, 100])"
   ]
  },
  {
   "attachments": {},
   "cell_type": "markdown",
   "metadata": {},
   "source": [
    "Issue LP Token"
   ]
  },
  {
   "cell_type": "code",
   "execution_count": null,
   "metadata": {},
   "outputs": [],
   "source": [
    "account = Account(pem_file=config.DEFAULT_OWNER)\n",
    "proxy = ProxyNetworkProvider(config.DEFAULT_PROXY)\n",
    "account.sync_nonce(proxy)\n",
    "router_contract = RouterContract(RouterContractVersion.V2, ROUTER_ADDRESS)\n",
    "tx = router_contract.issue_lp_token(account, proxy, [\"<pair_address>\", \"<lp_token_name>\", \"<lp_token_ticker>\"])"
   ]
  },
  {
   "attachments": {},
   "cell_type": "markdown",
   "metadata": {},
   "source": [
    "Set LP Token roles"
   ]
  },
  {
   "cell_type": "code",
   "execution_count": null,
   "metadata": {},
   "outputs": [],
   "source": [
    "account = Account(pem_file=config.DEFAULT_OWNER)\n",
    "proxy = ProxyNetworkProvider(config.DEFAULT_PROXY)\n",
    "account.sync_nonce(proxy)\n",
    "router_contract = RouterContract(RouterContractVersion.V2, ROUTER_ADDRESS)\n",
    "tx = router_contract.set_lp_token_local_roles(account, proxy, \"<pair_address>\")"
   ]
  },
  {
   "cell_type": "markdown",
   "metadata": {},
   "source": [
    "Deploy new router contract"
   ]
  },
  {
   "cell_type": "code",
   "execution_count": null,
   "metadata": {},
   "outputs": [],
   "source": [
    "account = Account(pem_file=config.DEFAULT_OWNER)\n",
    "proxy = ProxyNetworkProvider(config.DEFAULT_PROXY)\n",
    "account.sync_nonce(proxy)\n",
    "router_contract = RouterContract(RouterContractVersion.V2)\n",
    "tx, address = router_contract.contract_deploy(account, proxy, config.ROUTER_V2_BYTECODE_PATH, [\"<pair_template_address>\"])\n",
    "print(tx, address)"
   ]
  },
  {
   "cell_type": "markdown",
   "metadata": {},
   "source": [
    "Upgrade existing router contract"
   ]
  },
  {
   "cell_type": "code",
   "execution_count": null,
   "metadata": {},
   "outputs": [],
   "source": [
    "account = Account(pem_file=config.DEFAULT_OWNER)\n",
    "proxy = ProxyNetworkProvider(config.DEFAULT_PROXY)\n",
    "account.sync_nonce(proxy)\n",
    "router_contract = RouterContract(RouterContractVersion.V2, ROUTER_ADDRESS)\n",
    "tx = router_contract.contract_upgrade(account, proxy, config.ROUTER_V2_BYTECODE_PATH, [\"<pair_template_address>\"])"
   ]
  }
 ],
 "metadata": {
  "kernelspec": {
   "display_name": "venv",
   "language": "python",
   "name": "python3"
  },
  "language_info": {
   "codemirror_mode": {
    "name": "ipython",
    "version": 3
   },
   "file_extension": ".py",
   "mimetype": "text/x-python",
   "name": "python",
   "nbconvert_exporter": "python",
   "pygments_lexer": "ipython3",
   "version": "3.12.3"
  },
  "orig_nbformat": 4
 },
 "nbformat": 4,
 "nbformat_minor": 2
}
