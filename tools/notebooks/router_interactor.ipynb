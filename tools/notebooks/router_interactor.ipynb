{
 "cells": [
  {
   "cell_type": "code",
   "execution_count": null,
   "metadata": {},
   "outputs": [],
   "source": [
    "import sys\n",
    "from pathlib import Path\n",
    "sys.path.append(str(Path.cwd().parent.parent.absolute()))\n",
    "import config\n",
    "from contracts.router_contract import RouterContract, RouterContractVersion\n",
    "from utils.utils_chain import Account, WrapperAddress as Address\n",
    "from multiversx_sdk import ProxyNetworkProvider\n",
    "ROUTER_ADDRESS=\"\""
   ]
  },
  {
   "attachments": {},
   "cell_type": "markdown",
   "metadata": {},
   "source": [
    "Deploy new router contract"
   ]
  },
  {
   "cell_type": "code",
   "execution_count": null,
   "metadata": {},
   "outputs": [],
   "source": [
    "account = Account(pem_file=config.DEFAULT_OWNER)\n",
    "proxy = ProxyNetworkProvider(config.DEFAULT_PROXY)\n",
    "account.sync_nonce(proxy)\n",
    "router_contract = RouterContract(RouterContractVersion.V2)\n",
    "tx, address = router_contract.contract_deploy(account, proxy, config.ROUTER_V2_BYTECODE_PATH, [\"<pair_template_address>\"])\n",
    "print(tx, address)"
   ]
  },
  {
   "attachments": {},
   "cell_type": "markdown",
   "metadata": {},
   "source": [
    "Upgrade existing router contract"
   ]
  },
  {
   "cell_type": "code",
   "execution_count": null,
   "metadata": {},
   "outputs": [],
   "source": [
    "account = Account(pem_file=config.DEFAULT_OWNER)\n",
    "proxy = ProxyNetworkProvider(config.DEFAULT_PROXY)\n",
    "account.sync_nonce(proxy)\n",
    "router_contract = RouterContract(RouterContractVersion.V2, ROUTER_ADDRESS)\n",
    "tx = router_contract.contract_upgrade(account, proxy, config.ROUTER_V2_BYTECODE_PATH, [\"<pair_template_address>\"])"
   ]
  },
  {
   "attachments": {},
   "cell_type": "markdown",
   "metadata": {},
   "source": [
    "Add common tokens for swap enable"
   ]
  },
  {
   "cell_type": "code",
   "execution_count": null,
   "metadata": {},
   "outputs": [],
   "source": [
    "account = Account(pem_file=config.DEFAULT_OWNER)\n",
    "proxy = ProxyNetworkProvider(config.DEFAULT_PROXY)\n",
    "account.sync_nonce(proxy)\n",
    "router_contract = RouterContract(RouterContractVersion.V2, ROUTER_ADDRESS)\n",
    "tx = router_contract.add_common_tokens_for_user_pairs(account, proxy, \"token_id_1\", \"token_id_2\", \"token_id_3\")"
   ]
  },
  {
   "attachments": {},
   "cell_type": "markdown",
   "metadata": {},
   "source": [
    "Add config for common token"
   ]
  },
  {
   "cell_type": "code",
   "execution_count": null,
   "metadata": {},
   "outputs": [],
   "source": [
    "account = Account(pem_file=config.DEFAULT_OWNER)\n",
    "proxy = ProxyNetworkProvider(config.DEFAULT_PROXY)\n",
    "account.sync_nonce(proxy)\n",
    "router_contract = RouterContract(RouterContractVersion.V2, ROUTER_ADDRESS)\n",
    "tx = router_contract.config_enable_by_user_parameters(account, proxy, common_token_id=\"<token_id>\", locked_token_id=\"<locked_token_id>\", min_locked_token_value=, min_lock_period_epochs=)"
   ]
  },
  {
   "attachments": {},
   "cell_type": "markdown",
   "metadata": {},
   "source": [
    "Create new pair"
   ]
  },
  {
   "cell_type": "code",
   "execution_count": null,
   "metadata": {},
   "outputs": [],
   "source": [
    "account = Account(pem_file=config.DEFAULT_OWNER)\n",
    "proxy = ProxyNetworkProvider(config.DEFAULT_PROXY)\n",
    "account.sync_nonce(proxy)\n",
    "router_contract = RouterContract(RouterContractVersion.V2, ROUTER_ADDRESS)\n",
    "tx = router_contract.pair_contract_deploy(account, proxy, [\"<first_token_id>\", \"<second_token_id>\", \"<initial_liquidity_adderr>\", 300, 100])"
   ]
  },
  {
   "attachments": {},
   "cell_type": "markdown",
   "metadata": {},
   "source": [
    "Issue LP Token"
   ]
  },
  {
   "cell_type": "code",
   "execution_count": null,
   "metadata": {},
   "outputs": [],
   "source": [
    "account = Account(pem_file=config.DEFAULT_OWNER)\n",
    "proxy = ProxyNetworkProvider(config.DEFAULT_PROXY)\n",
    "account.sync_nonce(proxy)\n",
    "router_contract = RouterContract(RouterContractVersion.V2, ROUTER_ADDRESS)\n",
    "tx = router_contract.issue_lp_token(account, proxy, [\"<pair_address>\", \"<lp_token_name>\", \"<lp_token_ticker>\"])"
   ]
  },
  {
   "attachments": {},
   "cell_type": "markdown",
   "metadata": {},
   "source": [
    "Set LP Token roles"
   ]
  },
  {
   "cell_type": "code",
   "execution_count": null,
   "metadata": {},
   "outputs": [],
   "source": [
    "account = Account(pem_file=config.DEFAULT_OWNER)\n",
    "proxy = ProxyNetworkProvider(config.DEFAULT_PROXY)\n",
    "account.sync_nonce(proxy)\n",
    "router_contract = RouterContract(RouterContractVersion.V2, ROUTER_ADDRESS)\n",
    "tx = router_contract.set_lp_token_local_roles(account, proxy, \"<pair_address>\")"
   ]
  }
 ],
 "metadata": {
  "kernelspec": {
   "display_name": ".venv",
   "language": "python",
   "name": "python3"
  },
  "language_info": {
   "codemirror_mode": {
    "name": "ipython",
    "version": 3
   },
   "file_extension": ".py",
   "mimetype": "text/x-python",
   "name": "python",
   "nbconvert_exporter": "python",
   "pygments_lexer": "ipython3",
   "version": "3.8.13"
  },
  "orig_nbformat": 4
 },
 "nbformat": 4,
 "nbformat_minor": 2
}
