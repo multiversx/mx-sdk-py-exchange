{
 "cells": [
  {
   "cell_type": "code",
   "execution_count": null,
   "metadata": {},
   "outputs": [],
   "source": [
    "import sys\n",
    "from pathlib import Path\n",
    "sys.path.append(str(Path.cwd().parent.parent.absolute()))"
   ]
  },
  {
   "cell_type": "code",
   "execution_count": null,
   "metadata": {},
   "outputs": [],
   "source": [
    "from multiversx_sdk import Address, Transaction, TransactionPayload, ProxyNetworkProvider, ApiNetworkProvider, TokenPayment\n",
    "from multiversx_sdk.core.transaction_builders import DefaultTransactionBuildersConfiguration\n",
    "from tools.notebooks import env\n",
    "import config\n",
    "\n",
    "builder_config = DefaultTransactionBuildersConfiguration(chain_id=\"1\")\n",
    "proxy_mainnet = ProxyNetworkProvider(\"https://gateway.multiversx.com\")\n",
    "api_mainnet = ApiNetworkProvider(\"https://api.multiversx.com\")\n",
    "proxy_shadowfork = ProxyNetworkProvider(config.DEFAULT_PROXY)"
   ]
  },
  {
   "cell_type": "code",
   "execution_count": null,
   "metadata": {},
   "outputs": [],
   "source": [
    "from multiversx_sdk import AccountNonceHolder, UserSigner\n",
    "from pathlib import Path\n",
    "\n",
    "user_signer = UserSigner.from_pem_file(Path(env.USER1_PEM))"
   ]
  },
  {
   "cell_type": "code",
   "execution_count": null,
   "metadata": {},
   "outputs": [],
   "source": [
    "def prep_forward_tx(tx_hash: str) -> Transaction:\n",
    "    original_tx_data = proxy_mainnet.get_transaction(tx_hash)\n",
    "    print(original_tx_data.data)\n",
    "    forwarded_tx  = Transaction(\n",
    "        sender=original_tx_data.sender,\n",
    "        receiver=original_tx_data.receiver,\n",
    "        value=TokenPayment.egld_from_integer(original_tx_data.value),\n",
    "        data=TransactionPayload.from_str(original_tx_data.data),\n",
    "        chain_id=builder_config.chain_id,\n",
    "        gas_limit=original_tx_data.gas_limit,\n",
    "        gas_price=builder_config.min_gas_price\n",
    "    )\n",
    "\n",
    "    print(forwarded_tx.to_dictionary())\n",
    "    return forwarded_tx\n",
    "\n",
    "\n",
    "def sign_and_send(tx: Transaction, account: UserSigner):\n",
    "    user_nonce_holder = AccountNonceHolder(proxy_shadowfork.get_account(tx.sender).nonce)\n",
    "    tx.nonce = user_nonce_holder.get_nonce_then_increment()\n",
    "    tx.signature = account.sign(tx)\n",
    "    proxy_shadowfork.send_transaction(tx)"
   ]
  },
  {
   "attachments": {},
   "cell_type": "markdown",
   "metadata": {},
   "source": [
    "clone & forward transaction"
   ]
  },
  {
   "cell_type": "code",
   "execution_count": null,
   "metadata": {},
   "outputs": [],
   "source": [
    "hash = \"xxxxxxxxxxxxxxxxxxxxxxxxxxxxxxxxxxxxxxxxxxxxxxxxxxxxxxxxxxxxxxxx\"\n",
    "\n",
    "forwarded_tx = prep_forward_tx(hash)"
   ]
  },
  {
   "cell_type": "code",
   "execution_count": null,
   "metadata": {},
   "outputs": [],
   "source": [
    "sign_and_send(forwarded_tx, user_signer)"
   ]
  },
  {
   "cell_type": "markdown",
   "metadata": {},
   "source": [
    "clone & forward transactions on account"
   ]
  },
  {
   "cell_type": "code",
   "execution_count": null,
   "metadata": {},
   "outputs": [],
   "source": [
    "from time import sleep\n",
    "contract_address = \"erd1qqqqqqqqqqqqqpgqapxdp9gjxtg60mjwhle3n6h88zch9e7kkp2s8aqhkg\"\n",
    "\n",
    "transactions = api_mainnet.get_transactions(Address.new_from_bech32(contract_address))\n",
    "for transaction in transactions:\n",
    "    print(f\"Forwarded tx hash: {transaction.hash}\")\n",
    "    forwarded_tx = prep_forward_tx(transaction.hash)\n",
    "    sign_and_send(forwarded_tx, user_signer)\n",
    "    sleep(1)"
   ]
  },
  {
   "cell_type": "markdown",
   "metadata": {},
   "source": [
    "ESDT Transfer"
   ]
  },
  {
   "cell_type": "code",
   "execution_count": null,
   "metadata": {},
   "outputs": [],
   "source": [
    "from multiversx_sdk.core.transaction_builders import MultiESDTNFTTransferBuilder, DefaultTransactionBuildersConfiguration\n",
    "from multiversx_sdk import TokenPayment, Address, ProxyNetworkProvider, AccountNonceHolder, UserSigner, TransactionsConverter, TransactionComputer\n",
    "from pathlib import Path\n",
    "\n",
    "config = DefaultTransactionBuildersConfiguration(chain_id='1')\n",
    "proxy = ProxyNetworkProvider('https://proxy-shadowfork-one.elrond.ro')\n",
    "user_signer = UserSigner.from_pem_file(Path(\"~/Documents/sh1.pem\"))\n",
    "sender = Address.new_from_bech32('erd1ezp86jwmcp4fmmu2mfqz0438py392z5wp6kzuqsjldgd68nwt89qshfs0y')\n",
    "receiver = Address.new_from_bech32('erd1hfnw32gkydnj80cljjvkfz9kl3tachmwcpgjhxm5k5l0vhu4pr9s4zwxwa')\n",
    "\n",
    "transfers = [\n",
    "    TokenPayment.meta_esdt_from_amount('RIDE-7d18e9', 0, 1000, 18)\n",
    "             ]\n",
    "\n",
    "\n",
    "user_nonce_holder = AccountNonceHolder(proxy.get_account(sender).nonce)\n",
    "\n",
    "builder = MultiESDTNFTTransferBuilder(\n",
    "    config,\n",
    "    destination=receiver,\n",
    "    sender=sender,\n",
    "    gas_limit=30000000,\n",
    "    payments=transfers\n",
    ")\n",
    "\n",
    "tx = builder.build()\n",
    "\n",
    "converter = TransactionsConverter()\n",
    "print(\"Transaction:\", converter.transaction_to_dictionary(tx))\n",
    "print(\"Transaction data:\", tx.data)\n",
    "\n",
    "tx.nonce = user_nonce_holder.get_nonce_then_increment()\n",
    "\n",
    "tx_computer = TransactionComputer\n",
    "tx.signature = user_signer.sign(tx_computer.compute_bytes_for_signing(tx))\n",
    "proxy.send_transaction(tx)"
   ]
  },
  {
   "cell_type": "markdown",
   "metadata": {},
   "source": [
    "EGLD Transfer"
   ]
  },
  {
   "cell_type": "code",
   "execution_count": null,
   "metadata": {},
   "outputs": [],
   "source": [
    "from multiversx_sdk.core.transaction_builders import EGLDTransferBuilder, DefaultTransactionBuildersConfiguration\n",
    "from multiversx_sdk import TokenPayment, Address, ProxyNetworkProvider, AccountNonceHolder, UserSigner\n",
    "from pathlib import Path\n",
    "\n",
    "config = DefaultTransactionBuildersConfiguration(chain_id='1')\n",
    "proxy = ProxyNetworkProvider('https://proxy-shadowfork-one.elrond.ro')\n",
    "user_signer = UserSigner.from_pem_file(Path(\"~/Documents/sh1.pem\"))\n",
    "sender = Address.from_bech32('erd1ezp86jwmcp4fmmu2mfqz0438py392z5wp6kzuqsjldgd68nwt89qshfs0y')\n",
    "receiver = Address.from_bech32('erd1hfnw32gkydnj80cljjvkfz9kl3tachmwcpgjhxm5k5l0vhu4pr9s4zwxwa')\n",
    "\n",
    "transfer = TokenPayment.egld_from_amount(10)\n",
    "\n",
    "\n",
    "user_nonce_holder = AccountNonceHolder(proxy.get_account(sender).nonce)\n",
    "\n",
    "builder = EGLDTransferBuilder(\n",
    "    config,\n",
    "    receiver=receiver,\n",
    "    sender=sender,\n",
    "    gas_limit=30000000,\n",
    "    payment=transfer\n",
    ")\n",
    "\n",
    "tx = builder.build()\n",
    "print(\"Transaction:\", converter.transaction_to_dictionary(tx))\n",
    "print(\"Transaction data:\", tx.data)\n",
    "\n",
    "tx.nonce = user_nonce_holder.get_nonce_then_increment()\n",
    "tx.signature = user_signer.sign(tx_computer.compute_bytes_for_signing(tx))\n",
    "proxy.send_transaction(tx)"
   ]
  }
 ],
 "metadata": {
  "kernelspec": {
   "display_name": ".venv",
   "language": "python",
   "name": "python3"
  },
  "language_info": {
   "codemirror_mode": {
    "name": "ipython",
    "version": 3
   },
   "file_extension": ".py",
   "mimetype": "text/x-python",
   "name": "python",
   "nbconvert_exporter": "python",
   "pygments_lexer": "ipython3",
   "version": "3.11.4"
  },
  "orig_nbformat": 4,
  "vscode": {
   "interpreter": {
    "hash": "46890cb94c8e016cd17355f2b23107d7cb41a4430d538522c76446f308933f39"
   }
  }
 },
 "nbformat": 4,
 "nbformat_minor": 2
}
