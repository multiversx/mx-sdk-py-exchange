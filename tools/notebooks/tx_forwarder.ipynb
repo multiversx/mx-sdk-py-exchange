{
 "cells": [
  {
   "cell_type": "code",
   "execution_count": null,
   "metadata": {},
   "outputs": [],
   "source": [
    "import sys\n",
    "from pathlib import Path\n",
    "sys.path.append(str(Path.cwd().parent.parent.absolute()))"
   ]
  },
  {
   "cell_type": "code",
   "execution_count": null,
   "metadata": {},
   "outputs": [],
   "source": [
    "from multiversx_sdk import Address, Transaction, TransactionsFactoryConfig, ProxyNetworkProvider, ApiNetworkProvider\n",
    "from tools.notebooks import env\n",
    "import config\n",
    "\n",
    "builder_config = TransactionsFactoryConfig(chain_id=\"1\")\n",
    "proxy_mainnet = ProxyNetworkProvider(\"https://gateway.multiversx.com\")\n",
    "api_mainnet = ApiNetworkProvider(\"https://api.multiversx.com\")\n",
    "proxy_shadowfork = ProxyNetworkProvider(config.DEFAULT_PROXY)"
   ]
  },
  {
   "cell_type": "code",
   "execution_count": null,
   "metadata": {},
   "outputs": [],
   "source": [
    "from multiversx_sdk import UserSigner, Account\n",
    "from pathlib import Path\n",
    "\n",
    "user_signer = UserSigner.from_pem_file(Path(env.USER1_PEM))"
   ]
  },
  {
   "cell_type": "code",
   "execution_count": null,
   "metadata": {},
   "outputs": [],
   "source": [
    "def prep_forward_tx(tx_hash: str) -> Transaction:\n",
    "    original_tx_data = proxy_mainnet.get_transaction(tx_hash)\n",
    "    print(original_tx_data.data)\n",
    "    forwarded_tx  = Transaction(\n",
    "        sender=original_tx_data.sender,\n",
    "        receiver=original_tx_data.receiver,\n",
    "        value=original_tx_data.value,\n",
    "        data=original_tx_data.data,\n",
    "        chain_id=builder_config.chain_id,\n",
    "        gas_limit=original_tx_data.gas_limit,\n",
    "        gas_price=original_tx_data.gas_price\n",
    "    )\n",
    "\n",
    "    print(forwarded_tx.to_dictionary())\n",
    "    return forwarded_tx\n",
    "\n",
    "\n",
    "def sign_and_send(tx: Transaction, account: UserSigner):\n",
    "    tx.nonce = proxy_shadowfork.get_account(tx.sender).nonce\n",
    "    tx.signature = account.sign(tx)\n",
    "    proxy_shadowfork.send_transaction(tx)"
   ]
  },
  {
   "attachments": {},
   "cell_type": "markdown",
   "metadata": {},
   "source": [
    "clone & forward transaction"
   ]
  },
  {
   "cell_type": "code",
   "execution_count": null,
   "metadata": {},
   "outputs": [],
   "source": [
    "hash = \"xxxxxxxxxxxxxxxxxxxxxxxxxxxxxxxxxxxxxxxxxxxxxxxxxxxxxxxxxxxxxxxx\"\n",
    "\n",
    "forwarded_tx = prep_forward_tx(hash)"
   ]
  },
  {
   "cell_type": "code",
   "execution_count": null,
   "metadata": {},
   "outputs": [],
   "source": [
    "sign_and_send(forwarded_tx, user_signer)"
   ]
  },
  {
   "cell_type": "markdown",
   "metadata": {},
   "source": [
    "clone & forward transactions on account"
   ]
  },
  {
   "cell_type": "code",
   "execution_count": null,
   "metadata": {},
   "outputs": [],
   "source": [
    "from time import sleep\n",
    "from multiversx_sdk.network_providers.http_resources import transaction_from_api_response, TransactionOnNetwork\n",
    "contract_address = \"erd1qqqqqqqqqqqqqpgqapxdp9gjxtg60mjwhle3n6h88zch9e7kkp2s8aqhkg\"\n",
    "\n",
    "raw_transactions = api_mainnet.do_get_generic(f\"accounts/{contract_address}/transactions\")\n",
    "transactions: list[TransactionOnNetwork] = []\n",
    "for raw_tx in raw_transactions:\n",
    "    transactions.append(transaction_from_api_response(raw_tx.get('txHash'), raw_tx))\n",
    "\n",
    "for transaction in transactions:\n",
    "    print(f\"Forwarded tx hash: {transaction.hash}\")\n",
    "    forwarded_tx = prep_forward_tx(transaction.hash)\n",
    "    sign_and_send(forwarded_tx, user_signer)\n",
    "    sleep(1)"
   ]
  }
 ],
 "metadata": {
  "kernelspec": {
   "display_name": ".venv",
   "language": "python",
   "name": "python3"
  },
  "language_info": {
   "codemirror_mode": {
    "name": "ipython",
    "version": 3
   },
   "file_extension": ".py",
   "mimetype": "text/x-python",
   "name": "python",
   "nbconvert_exporter": "python",
   "pygments_lexer": "ipython3",
   "version": "3.11.4"
  },
  "orig_nbformat": 4,
  "vscode": {
   "interpreter": {
    "hash": "46890cb94c8e016cd17355f2b23107d7cb41a4430d538522c76446f308933f39"
   }
  }
 },
 "nbformat": 4,
 "nbformat_minor": 2
}
