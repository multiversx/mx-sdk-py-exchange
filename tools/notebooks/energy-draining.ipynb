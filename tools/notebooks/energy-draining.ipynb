{
 "cells": [
  {
   "cell_type": "code",
   "execution_count": null,
   "metadata": {},
   "outputs": [],
   "source": [
    "import sys\n",
    "from pathlib import Path\n",
    "sys.path.append(str(Path.cwd().parent.parent.absolute()))\n",
    "import config\n",
    "from context import Context\n",
    "from contracts.simple_lock_energy_contract import SimpleLockEnergyContract\n",
    "from contracts.dex_proxy_contract import DexProxyContract\n",
    "from contracts.locked_asset_contract import LockedAssetContract\n",
    "import json\n",
    "from utils.utils_chain import string_to_hex, WrapperAddress, decode_merged_attributes\n",
    "from utils.decoding_structures import ENERGY_ENTRY\n",
    "from concurrent.futures import ThreadPoolExecutor\n",
    "\n",
    "context = Context()"
   ]
  },
  {
   "cell_type": "code",
   "execution_count": null,
   "metadata": {},
   "outputs": [],
   "source": [
    "from pprint import pprint\n",
    "from typing import List\n",
    "from multiversx_sdk import ProxyNetworkProvider\n",
    "from multiversx_sdk.network_providers.tokens import NonFungibleTokenOfAccountOnNetwork\n",
    "\n",
    "energy_contract: SimpleLockEnergyContract\n",
    "energy_contract = context.get_contracts(config.SIMPLE_LOCKS_ENERGY)[0]\n",
    "locked_token_factory_contract: LockedAssetContract\n",
    "locked_token_factory_contract = context.get_contracts(config.LOCKED_ASSETS)[0]\n",
    "proxy_contract: DexProxyContract\n",
    "proxy_contract = context.get_contracts(config.PROXIES_V2)[0]\n",
    "proxy_old_contract: DexProxyContract\n",
    "proxy_old_contract = context.get_contracts(config.PROXIES)[0]\n",
    "pprint(energy_contract.get_config_dict())\n",
    "pprint(locked_token_factory_contract.get_config_dict())\n",
    "pprint(proxy_contract.get_config_dict())\n",
    "pprint(proxy_old_contract.get_config_dict())\n",
    "\n",
    "class processed_user:\n",
    "    tokens: List[NonFungibleTokenOfAccountOnNetwork]\n",
    "    energy: int\n",
    "    address: str\n",
    "    total_locked_tokens: int\n",
    "    metabonding_tokens: int\n",
    "    \n",
    "    def __init__(self, address: str) -> None:\n",
    "        self.address = address\n",
    "        self.tokens = []\n",
    "        self.energy = 0\n",
    "        self.total_locked_tokens = 0\n",
    "        self.metabonding_tokens = 0\n",
    "\n",
    "    def set_tokens(self, tokens: List[NonFungibleTokenOfAccountOnNetwork]):\n",
    "        self.tokens = tokens\n",
    "\n",
    "    def set_energy(self, energy: int, total_locked_tokens: int):\n",
    "        self.energy = energy\n",
    "        self.total_locked_tokens = total_locked_tokens\n",
    "\n",
    "    def set_metabonding_tokens(self, metabonding_tokens: int):\n",
    "        self.metabonding_tokens = metabonding_tokens\n",
    "\n",
    "    def retrieve_tokens(self, proxy: ProxyNetworkProvider):\n",
    "        self.tokens = proxy.get_nonfungible_tokens_of_account(self.address)"
   ]
  },
  {
   "cell_type": "markdown",
   "metadata": {},
   "source": [
    "Get energy factory state"
   ]
  },
  {
   "cell_type": "code",
   "execution_count": null,
   "metadata": {},
   "outputs": [],
   "source": [
    "# get state of energy contract\n",
    "from tools.common import fetch_contract_state\n",
    "\n",
    "fetch_contract_state(energy_contract.address, \"energy-contract-state\", context.network_provider)"
   ]
  },
  {
   "cell_type": "markdown",
   "metadata": {},
   "source": [
    "Retrieve searched user tokens"
   ]
  },
  {
   "cell_type": "code",
   "execution_count": null,
   "metadata": {},
   "outputs": [],
   "source": [
    "searched_tokens = []\n",
    "searched_tokens.extend(proxy_contract.locked_tokens)\n",
    "searched_tokens.extend([proxy_contract.proxy_lp_token, proxy_contract.proxy_farm_token])\n",
    "searched_tokens.extend([proxy_old_contract.proxy_lp_token, proxy_old_contract.proxy_farm_token])\n",
    "searched_tokens.extend([\"EGLDMEXFL-ef2065\", \"EGLDUSDCFL-f0031c\", \"MEXFARML-28d646\", \"EGLDRIDEFL-74b819\", \"ITHWEGLDFL-332f38\", \"UTKWEGLDFL-082aec\", \"CRTWEGLDFL-e0454e\", \"ASHWEGLDFL-cf0194\", \"LKFARM-321c30\"])\n",
    "\n",
    "with open(config.DEFAULT_WORKSPACE / \"energy-fix\" / \"accounts_with_diffs_fixed.json\", \"r\") as f:\n",
    "    accounts_with_diffs = json.load(f)\n",
    "\n",
    "processed_users = []\n",
    "\n",
    "def retrieve_user_tokens(address: str):\n",
    "    try:\n",
    "        user = processed_user(address)\n",
    "        tokens = context.network_provider.proxy.get_nonfungible_tokens_of_account(WrapperAddress(address))\n",
    "        user.set_tokens([token for token in tokens if token.collection in searched_tokens])\n",
    "    except Exception as e:\n",
    "        print(f\"Error retrieving tokens for {user.address}: {str(e)}\")\n",
    "    return user\n",
    "\n",
    "with ThreadPoolExecutor(max_workers=100) as executor:\n",
    "    total_users = len(accounts_with_diffs.keys())\n",
    "    for i, user in enumerate(executor.map(retrieve_user_tokens, accounts_with_diffs.keys())):\n",
    "        print(f\"Processing user {i+1}/{total_users}\", end=\"\\r\")\n",
    "        processed_users.append(user)"
   ]
  },
  {
   "cell_type": "markdown",
   "metadata": {},
   "source": [
    "Decode user energy"
   ]
  },
  {
   "cell_type": "code",
   "execution_count": 34,
   "metadata": {},
   "outputs": [],
   "source": [
    "config.DEFAULT_WORKSPACE\n",
    "with open(config.DEFAULT_WORKSPACE / \"deploy\" / \"configs-mainnet\" / \"upgrader_outputs\" / \"energy-contract-state.json\", \"r\") as f:\n",
    "    energy_contract_state = json.load(f)\n",
    "    \n",
    "for user in processed_users:\n",
    "    user_address = WrapperAddress(user.address)\n",
    "    user_energy_key = f\"{string_to_hex(\"userEnergy\")}{user_address.to_hex()}\"\n",
    "    user_energy_raw = energy_contract_state.get(user_energy_key)\n",
    "\n",
    "    user_energy_entry = decode_merged_attributes(user_energy_raw, ENERGY_ENTRY)\n",
    "    user.set_energy(user_energy_entry.get(\"amount\"), user_energy_entry.get(\"total_locked_tokens\"))"
   ]
  },
  {
   "cell_type": "markdown",
   "metadata": {},
   "source": [
    "Retrieve metabonding"
   ]
  },
  {
   "cell_type": "code",
   "execution_count": null,
   "metadata": {},
   "outputs": [],
   "source": [
    "from multiversx_sdk import ContractQueryBuilder\n",
    "from utils.utils_chain import base64_to_hex\n",
    "\n",
    "def retrieve_metabonding_tokens(user: processed_user):\n",
    "    try:\n",
    "        query = ContractQueryBuilder(\n",
    "            WrapperAddress(\"erd1qqqqqqqqqqqqqpgqt7tyyswqvplpcqnhwe20xqrj7q7ap27d2jps7zczse\"),   # metabonding contract\n",
    "            \"getStakedAmountForUser\",\n",
    "            [WrapperAddress(user.address)]\n",
    "        ).build()\n",
    "        result = context.network_provider.proxy.query_contract(query)\n",
    "        amount_hex = base64_to_hex(result.return_data[0])\n",
    "        if amount_hex == \"\":\n",
    "            amount_hex = \"0\"\n",
    "        user.set_metabonding_tokens(int(amount_hex, 16))\n",
    "    except Exception as e:\n",
    "        print(f\"Error retrieving metabonding tokens for {user.address}: {str(e)}\")\n",
    "    return user\n",
    "\n",
    "new_processed_users = []\n",
    "with ThreadPoolExecutor(max_workers=100) as executor:\n",
    "    total_users = len(processed_users)\n",
    "    for i, user in enumerate(executor.map(retrieve_metabonding_tokens, processed_users)):\n",
    "        print(f\"Processing user {i+1}/{total_users}\", end=\"\\r\")\n",
    "        new_processed_users.append(user)\n",
    "\n",
    "processed_users = new_processed_users"
   ]
  },
  {
   "cell_type": "markdown",
   "metadata": {},
   "source": [
    "Process statistics"
   ]
  },
  {
   "cell_type": "code",
   "execution_count": null,
   "metadata": {},
   "outputs": [],
   "source": [
    "users_with_zero_energy_no_tokens = []\n",
    "users_with_zero_energy_with_tokens = []\n",
    "users_with_energy_no_tokens = []\n",
    "users_with_energy_with_tokens = []\n",
    "\n",
    "for user in processed_users:\n",
    "    user_dict = {\n",
    "        \"address\": user.address,\n",
    "        \"energy\": user.energy,\n",
    "        \"total_locked_tokens\": user.total_locked_tokens,\n",
    "        \"tokens\": [token.identifier for token in user.tokens],\n",
    "        \"metabonding_tokens\": user.metabonding_tokens\n",
    "    }\n",
    "    if user.energy == 0:\n",
    "        if len(user.tokens) > 0:\n",
    "            users_with_zero_energy_with_tokens.append(user_dict)\n",
    "        else:\n",
    "            users_with_zero_energy_no_tokens.append(user_dict)\n",
    "    else:\n",
    "        if len(user.tokens) > 0:\n",
    "            users_with_energy_with_tokens.append(user_dict)\n",
    "        else:\n",
    "            users_with_energy_no_tokens.append(user_dict)\n",
    "\n",
    "print(f\"Users with zero energy and no tokens: {len(users_with_zero_energy_no_tokens)}\")\n",
    "print(f\"Users with zero energy and with tokens: {len(users_with_zero_energy_with_tokens)}\")\n",
    "print(f\"Users with energy and no tokens: {len(users_with_energy_no_tokens)}\")\n",
    "print(f\"Users with energy and with tokens: {len(users_with_energy_with_tokens)}\")\n",
    "\n",
    "with open(config.DEFAULT_WORKSPACE / \"energy-fix\" / \"users_with_zero_energy_no_tokens.json\", \"w\") as f:\n",
    "    json.dump(users_with_zero_energy_no_tokens, f, indent=4)\n",
    "\n",
    "with open(config.DEFAULT_WORKSPACE / \"energy-fix\" / \"users_with_zero_energy_with_tokens.json\", \"w\") as f:\n",
    "    json.dump(users_with_zero_energy_with_tokens, f, indent=4)\n",
    "\n",
    "with open(config.DEFAULT_WORKSPACE / \"energy-fix\" / \"users_with_energy_no_tokens.json\", \"w\") as f:\n",
    "    json.dump(users_with_energy_no_tokens, f, indent=4)\n",
    "\n",
    "with open(config.DEFAULT_WORKSPACE / \"energy-fix\" / \"users_with_energy_with_tokens.json\", \"w\") as f:\n",
    "    json.dump(users_with_energy_with_tokens, f, indent=4)"
   ]
  },
  {
   "cell_type": "code",
   "execution_count": null,
   "metadata": {},
   "outputs": [],
   "source": [
    "energy_change = \"-1380949284391887276302652\"\n",
    "print(int(energy_change))\n",
    "print(string_to_hex(energy_change))\n",
    "energy_change = int(string_to_hex(energy_change), 16) * -1\n",
    "print(energy_change)\n",
    "print(int(\"2d31333830393439323834333931383837323736333032363532\", 16))"
   ]
  },
  {
   "cell_type": "markdown",
   "metadata": {},
   "source": [
    "upgrade metabonding contract"
   ]
  },
  {
   "cell_type": "code",
   "execution_count": null,
   "metadata": {},
   "outputs": [],
   "source": [
    "from utils.utils_tx import upgrade_call\n",
    "from multiversx_sdk import CodeMetadata\n",
    "\n",
    "metabonding_address = \"erd1qqqqqqqqqqqqqpgqt7tyyswqvplpcqnhwe20xqrj7q7ap27d2jps7zczse\"\n",
    "altered_bytecode = config.HOME / \"temp/mx-exchange-sc/farm-staking/metabonding-staking/output/metabonding-staking.wasm\"\n",
    "metadata = CodeMetadata(upgradeable=True, readable=True, payable=False, payable_by_contract=True)\n",
    "\n",
    "upgrade_call(\"\", context.network_provider.proxy, 100000000, context.deployer_account, WrapperAddress(metabonding_address), altered_bytecode, metadata, [])"
   ]
  },
  {
   "cell_type": "markdown",
   "metadata": {},
   "source": [
    "exit metabonding"
   ]
  },
  {
   "cell_type": "code",
   "execution_count": null,
   "metadata": {},
   "outputs": [],
   "source": [
    "from utils.utils_chain import Account\n",
    "from utils.utils_tx import endpoint_call\n",
    "\n",
    "metabonding_address = \"erd1qqqqqqqqqqqqqpgqt7tyyswqvplpcqnhwe20xqrj7q7ap27d2jps7zczse\"\n",
    "for user in users_with_energy_no_tokens:\n",
    "    if user.get(\"total_locked_tokens\") < 10000:\n",
    "        continue\n",
    "    temp_account = Account(pem_file=config.DEFAULT_ADMIN)\n",
    "    temp_account.address = WrapperAddress(user.get(\"address\"))\n",
    "    temp_account.sync_nonce(context.network_provider.proxy)\n",
    "\n",
    "    endpoint_call(context.network_provider.proxy, 20000000, temp_account, WrapperAddress(metabonding_address), \"unstake\", [])\n",
    "    endpoint_call(context.network_provider.proxy, 20000000, temp_account, WrapperAddress(metabonding_address), \"unbond\", [])"
   ]
  },
  {
   "cell_type": "markdown",
   "metadata": {},
   "source": [
    "Get metabonding state"
   ]
  },
  {
   "cell_type": "code",
   "execution_count": null,
   "metadata": {},
   "outputs": [],
   "source": [
    "from tools.common import fetch_contract_state\n",
    "\n",
    "fetch_contract_state(\"erd1qqqqqqqqqqqqqpgqt7tyyswqvplpcqnhwe20xqrj7q7ap27d2jps7zczse\", \"metabonding-state\", context.network_provider)"
   ]
  },
  {
   "cell_type": "code",
   "execution_count": null,
   "metadata": {},
   "outputs": [],
   "source": [
    "from utils.utils_chain import Account\n",
    "from utils.utils_tx import endpoint_call\n",
    "from tools.runners.common_runner import fund_shadowfork_accounts, ExportedAccount\n",
    "\n",
    "with open(config.DEFAULT_WORKSPACE / \"energy-fix\" / \"all_users_energy.json\", \"r\") as f:\n",
    "    loaded_users = json.load(f)\n",
    "users = [user[\"address\"] for user in loaded_users if user[\"total_locked_tokens\"] != 0]\n",
    "\n",
    "fund_shadowfork_accounts([ExportedAccount(user, 0, 0, []) for user in users])\n",
    "input(\"Funded accounts, press Enter to continue...\")\n",
    "\n",
    "metabonding_address = \"erd1qqqqqqqqqqqqqpgqt7tyyswqvplpcqnhwe20xqrj7q7ap27d2jps7zczse\"\n",
    "for user in users:\n",
    "    temp_account = Account(pem_file=config.DEFAULT_ADMIN)\n",
    "    temp_account.address = WrapperAddress(user)\n",
    "    temp_account.sync_nonce(context.network_provider.proxy)\n",
    "\n",
    "    endpoint_call(context.network_provider.proxy, 20000000, temp_account, WrapperAddress(metabonding_address), \"unstake\", [])\n",
    "    endpoint_call(context.network_provider.proxy, 20000000, temp_account, WrapperAddress(metabonding_address), \"unbond\", [])"
   ]
  },
  {
   "cell_type": "markdown",
   "metadata": {},
   "source": [
    "exit lk farm egldmexf"
   ]
  },
  {
   "cell_type": "code",
   "execution_count": null,
   "metadata": {},
   "outputs": [],
   "source": [
    "from utils.utils_chain import Account, WrapperAddress, get_all_token_nonces_details_for_account\n",
    "from utils.utils_tx import endpoint_call\n",
    "from contracts.dex_proxy_contract import DexProxyContract, DexProxyExitFarmEvent\n",
    "from contracts.farm_contract import FarmContract, FarmContractVersion\n",
    "\n",
    "temp_account = Account(pem_file=config.DEFAULT_ADMIN)\n",
    "temp_account.address = WrapperAddress(\"erd1sv9mt3na7d754wx7kk9suvj4azf4hsz5xxvx038v5z4jgxy0uelqjd7q4w\")\n",
    "temp_account.sync_nonce(context.network_provider.proxy)\n",
    "\n",
    "tokens = get_all_token_nonces_details_for_account(\"LKFARM-9d1ea8\", temp_account.address.bech32(),context.network_provider.proxy)\n",
    "farm_contract = FarmContract(\"EGLDMEX-0be9e5\", \"EGLDMEXF-a4d81e\", \"MEX-455c57\", \"erd1qqqqqqqqqqqqqpgqnqvjnn4haygsw2hls2k9zjjadnjf9w7g2jpsmc60a4\", FarmContractVersion.V2Boosted)\n",
    "\n",
    "proxy_contract: DexProxyContract = context.get_contracts(config.PROXIES)[0]\n",
    "event = DexProxyExitFarmEvent(farm_contract, tokens[0].get(\"tokenIdentifier\"), tokens[0].get(\"nonce\"), int(tokens[0].get(\"balance\")))\n",
    "proxy_contract.exit_farm_proxy(temp_account, context.network_provider.proxy, event)"
   ]
  },
  {
   "cell_type": "markdown",
   "metadata": {},
   "source": [
    "exit lklp"
   ]
  },
  {
   "cell_type": "code",
   "execution_count": null,
   "metadata": {},
   "outputs": [],
   "source": [
    "from contracts.pair_contract import PairContract\n",
    "from contracts.dex_proxy_contract import DexProxyRemoveLiquidityEvent\n",
    "\n",
    "pair_contract: PairContract = context.get_contracts(config.PAIRS_V2)[0]\n",
    "\n",
    "tokens = get_all_token_nonces_details_for_account(\"LKLP-03a2fa\", temp_account.address.bech32(), context.network_provider.proxy)\n",
    "\n",
    "event = DexProxyRemoveLiquidityEvent(pair_contract, int(tokens[0].get(\"balance\")), tokens[0].get(\"nonce\"), 1, 1)\n",
    "proxy_contract.remove_liquidity_proxy(temp_account, context.network_provider.proxy, event)"
   ]
  },
  {
   "cell_type": "markdown",
   "metadata": {},
   "source": [
    "Export all users energy from energy contract"
   ]
  },
  {
   "cell_type": "code",
   "execution_count": null,
   "metadata": {},
   "outputs": [],
   "source": [
    "config.DEFAULT_WORKSPACE\n",
    "with open(config.DEFAULT_WORKSPACE / \"deploy\" / \"configs-mainnet\" / \"upgrader_outputs\" / \"energy-contract-state.json\", \"r\") as f:\n",
    "    energy_contract_state = json.load(f)\n",
    "\n",
    "users = []\n",
    "for key, value in energy_contract_state.items():\n",
    "    if string_to_hex(\"userEnergy\") not in key:\n",
    "        continue\n",
    "    user_address = WrapperAddress.from_hex(key.replace(string_to_hex(\"userEnergy\"), \"\"))\n",
    "    user_energy_entry = decode_merged_attributes(value, ENERGY_ENTRY)\n",
    "\n",
    "    user_dict = {\n",
    "        \"address\": user_address.bech32(),\n",
    "        \"energy\": user_energy_entry.get(\"amount\"),\n",
    "        \"last_update_epoch\": user_energy_entry.get(\"last_update_epoch\"),\n",
    "        \"total_locked_tokens\": user_energy_entry.get(\"total_locked_tokens\"),\n",
    "        \"tokens\": [],\n",
    "        \"metabonding_tokens\": 0\n",
    "    }\n",
    "    users.append(user_dict)\n",
    "\n",
    "with open(config.DEFAULT_WORKSPACE / \"energy-fix\" / \"all_users_energy.json\", \"w\") as f:\n",
    "    json.dump(users, f, indent=4)\n",
    "\n",
    "print(f\"Done. Found {len(users)} users\")\n"
   ]
  },
  {
   "cell_type": "code",
   "execution_count": null,
   "metadata": {},
   "outputs": [],
   "source": [
    "with open(config.DEFAULT_WORKSPACE / \"energy-fix\" / \"all_users_energy.json\", \"r\") as f:\n",
    "    users = json.load(f)\n",
    "\n",
    "i = 0\n",
    "for user in users:\n",
    "    total_locked_tokens = user.get(\"total_locked_tokens\")\n",
    "    energy = user.get(\"energy\")\n",
    "    if energy > 10000000:\n",
    "        i += 1\n",
    "        print(user)\n",
    "\n",
    "print(f\"Selected users: {i}\")"
   ]
  },
  {
   "cell_type": "code",
   "execution_count": null,
   "metadata": {},
   "outputs": [],
   "source": [
    "decode_merged_attributes(\"0000000c0291dbdb7a8b0eeb03f42128000000000000035e0000000b0c3a54f8c2d298d44be9c6\", ENERGY_ENTRY)"
   ]
  }
 ],
 "metadata": {
  "kernelspec": {
   "display_name": "venv",
   "language": "python",
   "name": "python3"
  },
  "language_info": {
   "codemirror_mode": {
    "name": "ipython",
    "version": 3
   },
   "file_extension": ".py",
   "mimetype": "text/x-python",
   "name": "python",
   "nbconvert_exporter": "python",
   "pygments_lexer": "ipython3",
   "version": "3.12.3"
  }
 },
 "nbformat": 4,
 "nbformat_minor": 2
}
