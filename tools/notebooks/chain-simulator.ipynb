{
 "cells": [
  {
   "cell_type": "code",
   "execution_count": null,
   "metadata": {},
   "outputs": [],
   "source": [
    "import sys\n",
    "from pathlib import Path\n",
    "sys.path.append(str(Path.cwd().parent.parent.absolute()))\n",
    "import config\n",
    "\n",
    "from utils.utils_chain import Account, WrapperAddress\n",
    "from utils.utils_tx import endpoint_call\n",
    "from multiversx_sdk import ProxyNetworkProvider\n",
    "\n",
    "proxy = ProxyNetworkProvider(\"http://localhost:8085\")\n",
    "SIMULATOR_URL = \"http://localhost:8085\"\n",
    "GENERATE_BLOCKS_URL = f\"{SIMULATOR_URL}/simulator/generate-blocks\""
   ]
  },
  {
   "cell_type": "markdown",
   "metadata": {},
   "source": [
    "setup"
   ]
  },
  {
   "cell_type": "code",
   "execution_count": null,
   "metadata": {},
   "outputs": [],
   "source": [
    "import json\n",
    "# generate 20 blocks to pass an epoch and the smart contract deploys to be enabled\n",
    "proxy.do_post(f\"{GENERATE_BLOCKS_URL}/20\", {})\n",
    "\n",
    "# set state for wrapped egld contract and system account on shard 1\n",
    "# load JSON data from the file\n",
    "with open(Path().home() / \"Documents/temp/accounts-state.json\", \"r\") as file:\n",
    "    json_data = json.load(file)\n",
    "\n",
    "proxy.do_post(f\"{SIMULATOR_URL}/simulator/set-state\", json_data)"
   ]
  },
  {
   "cell_type": "code",
   "execution_count": null,
   "metadata": {},
   "outputs": [],
   "source": [
    "proxy.do_post(f\"{GENERATE_BLOCKS_URL}/5\", {})"
   ]
  },
  {
   "cell_type": "code",
   "execution_count": null,
   "metadata": {},
   "outputs": [],
   "source": [
    "contract_address = WrapperAddress(\"erd1qqqqqqqqqqqqqpgqp8v47r80n2see9a2g77j3qm56gyz279aa7aq460szc\")\n",
    "\n",
    "second_owner = Account(pem_file=\"~/Documents/sh2.pem\")\n",
    "second_owner.address = WrapperAddress(\"erd1ec8xj629h55d7v7s6fz39h690vk9zs5dvdxk8lp4ct9k6vhgttuqaaj34x\")\n",
    "second_owner.sync_nonce(proxy)\n",
    "\n",
    "first_owner = Account(pem_file=\"~/Documents/sh2.pem\")\n",
    "first_owner.address = WrapperAddress(\"erd1rjff57qeq4ehfjmm4wfz08eygf9ej0d44hs2wsjnfp7zxpuea7aq78vkhk\")\n",
    "first_owner.sync_nonce(proxy)\n",
    "\n",
    "user = Account(pem_file=\"~/Documents/sh2.pem\")\n",
    "user.address = WrapperAddress(\"erd1qjsdgvv88zaeuqr569vvknywel7ua62nemeusldc8ls7quldl7fq3nskc6\")\n",
    "user.sync_nonce(proxy)"
   ]
  },
  {
   "cell_type": "markdown",
   "metadata": {},
   "source": [
    "change owner"
   ]
  },
  {
   "cell_type": "code",
   "execution_count": null,
   "metadata": {},
   "outputs": [],
   "source": [
    "hash = endpoint_call(proxy, 50000000, second_owner, contract_address, \n",
    "                     \"ChangeOwnerAddress\", [first_owner.address])"
   ]
  },
  {
   "cell_type": "markdown",
   "metadata": {},
   "source": [
    "upgrade"
   ]
  },
  {
   "cell_type": "code",
   "execution_count": null,
   "metadata": {},
   "outputs": [],
   "source": [
    "from multiversx_sdk import CodeMetadata\n",
    "from utils.utils_tx import upgrade_call\n",
    "\n",
    "metadata = CodeMetadata(upgradeable=True, payable_by_contract=False, readable=True)\n",
    "gas_limit = 200000000\n",
    "bytecode_path = Path().home() / \"contract.wasm\"\n",
    "\n",
    "arguments = []\n",
    "\n",
    "hash = upgrade_call(\"launchpad\", proxy, gas_limit, second_owner, contract_address,\n",
    "                    bytecode_path, metadata, arguments)"
   ]
  },
  {
   "cell_type": "markdown",
   "metadata": {},
   "source": [
    "blocks"
   ]
  },
  {
   "cell_type": "code",
   "execution_count": null,
   "metadata": {},
   "outputs": [],
   "source": [
    "proxy.do_post(f\"{GENERATE_BLOCKS_URL}/1\", {})"
   ]
  },
  {
   "cell_type": "code",
   "execution_count": null,
   "metadata": {},
   "outputs": [],
   "source": [
    "hash = endpoint_call(proxy, 50000000, user, contract_address, \"claimLaunchpadTokens\", [])"
   ]
  }
 ],
 "metadata": {
  "kernelspec": {
   "display_name": "venv",
   "language": "python",
   "name": "python3"
  },
  "language_info": {
   "codemirror_mode": {
    "name": "ipython",
    "version": 3
   },
   "file_extension": ".py",
   "mimetype": "text/x-python",
   "name": "python",
   "nbconvert_exporter": "python",
   "pygments_lexer": "ipython3",
   "version": "3.11.4"
  }
 },
 "nbformat": 4,
 "nbformat_minor": 2
}
