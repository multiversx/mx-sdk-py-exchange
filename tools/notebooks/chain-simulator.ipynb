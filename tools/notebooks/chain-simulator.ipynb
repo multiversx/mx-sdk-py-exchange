{
 "cells": [
  {
   "cell_type": "markdown",
   "metadata": {},
   "source": [
    "Init"
   ]
  },
  {
   "cell_type": "code",
   "execution_count": null,
   "metadata": {},
   "outputs": [],
   "source": [
    "import sys\n",
    "from pathlib import Path\n",
    "sys.path.append(str(Path.cwd().parent.parent.absolute()))\n",
    "\n",
    "import os\n",
    "os.environ[\"MX_DEX_ENV\"] = \"chainsim\"\n",
    "\n",
    "import config\n",
    "from context import Context\n",
    "from multiversx_sdk import ApiNetworkProvider, ProxyNetworkProvider\n",
    "from utils.utils_chain import WrapperAddress\n",
    "from tools.chain_simulator_connector import ChainSimulator\n",
    "\n",
    "DOCKER_URL = config.HOME / \"Projects/testing/full-stack-docker-compose/chain-simulator\"\n",
    "PROJECT_ROOT = config.DEFAULT_WORKSPACE\n",
    "chain_simulator = ChainSimulator(DOCKER_URL)\n",
    "\n",
    "context = Context()"
   ]
  },
  {
   "cell_type": "code",
   "execution_count": null,
   "metadata": {},
   "outputs": [],
   "source": [
    "from tools.chain_simulator_connector import ChainSimulator, start_handler\n",
    "from argparse import Namespace\n",
    "\n",
    "state_path = config.DEFAULT_WORKSPACE / \"states\"\n",
    "args = Namespace(docker_path=str(DOCKER_URL), state_path=str(state_path))\n",
    "chain_simulator, found_accounts = start_handler(args)"
   ]
  },
  {
   "cell_type": "code",
   "execution_count": null,
   "metadata": {},
   "outputs": [],
   "source": [
    "import json\n",
    "paths = [\n",
    "    \"0_erd1qqqqqqqqqqqqqpgqycyvhp6qh53u2sr5yacpnw3jjwnyhjxjkylsr9rkjk_0_chain_config_state.json\",\n",
    "    \"0_erd1cfaqtrw8rm8kfh2z3rws4c9umkc2ce95aq9ge2f90ldr3hk23v2qcczvf4_0_chain_config_state.json\",\n",
    "    \"0_erd1v7rddf3useqlnkhak0n9zueqd6u56y5jhyrjqwvpekj7ujwnkylsaa7uzf_0_chain_config_state.json\",\n",
    "]\n",
    "states = []\n",
    "for path in paths:\n",
    "    with open(state_path / path, \"r\") as file:\n",
    "        json_sc = json.load(file)\n",
    "    states.append(json_sc)\n",
    "\n",
    "chain_simulator.apply_states(states)"
   ]
  },
  {
   "cell_type": "code",
   "execution_count": null,
   "metadata": {},
   "outputs": [],
   "source": [
    "from utils.utils_tx import endpoint_call\n",
    "from utils.utils_chain import Account, WrapperAddress\n",
    "\n",
    "proposer = Account(pem_file=config.DEFAULT_ADMIN)\n",
    "proposer.address = WrapperAddress(\"erd1v7rddf3useqlnkhak0n9zueqd6u56y5jhyrjqwvpekj7ujwnkylsaa7uzf\")\n",
    "proposer.sync_nonce(context.network_provider.proxy)\n",
    "\n",
    "multisig = WrapperAddress('erd1qqqqqqqqqqqqqpgqycyvhp6qh53u2sr5yacpnw3jjwnyhjxjkylsr9rkjk')\n",
    "\n",
    "hash = endpoint_call(context.network_provider.proxy, 10000000, proposer, multisig, \"proposeTransferExecute\", \n",
    "                     [\n",
    "                        bytes.fromhex(\"c27a058dc71ecf64dd4288dd0ae0bcddb0ac64b4e80a8ca9257fda38deca8b14\"),\n",
    "                        0,\n",
    "                        bytes.fromhex(\"455344545472616e736665724035353533343434333264363333373336363633313636403166633338343262643166303731633030303030\")\n",
    "                     ])\n",
    "\n",
    "chain_simulator.advance_blocks(5)"
   ]
  },
  {
   "cell_type": "code",
   "execution_count": null,
   "metadata": {},
   "outputs": [],
   "source": [
    "hash = endpoint_call(context.network_provider.proxy, 70000000, proposer, multisig, \"performAction\", \n",
    "                     [\n",
    "                        bytes.fromhex(\"1d\")\n",
    "                     ])\n",
    "\n",
    "chain_simulator.advance_blocks(5)"
   ]
  },
  {
   "cell_type": "code",
   "execution_count": null,
   "metadata": {},
   "outputs": [],
   "source": [
    "hash = endpoint_call(context.network_provider.proxy, 10000000, proposer, multisig, \"proposeTransferExecute\", \n",
    "                     [\n",
    "                        bytes.fromhex(\"c27a058dc71ecf64dd4288dd0ae0bcddb0ac64b4e80a8ca9257fda38deca8b14\"),\n",
    "                        0,\n",
    "                        bytes.fromhex(\"455344545472616e736665724035353533343434333264363333373336363633313636403166633338343262643166303731633030303030\")\n",
    "                     ])\n",
    "\n",
    "chain_simulator.advance_blocks(5)"
   ]
  },
  {
   "cell_type": "code",
   "execution_count": null,
   "metadata": {},
   "outputs": [],
   "source": [
    "chain_simulator.stop()"
   ]
  },
  {
   "cell_type": "markdown",
   "metadata": {},
   "source": [
    "setup"
   ]
  },
  {
   "cell_type": "code",
   "execution_count": null,
   "metadata": {},
   "outputs": [],
   "source": [
    "import json\n",
    "# generate 20 blocks to pass an epoch and the smart contract deploys to be enabled\n",
    "chain_simulator.advance_blocks(5)\n",
    "\n",
    "# set state for wrapped egld contract and system account on shard 1\n",
    "# load JSON data from the file\n",
    "with open(PROJECT_ROOT / \"states\" / \"0_all_all_keys.json\", \"r\") as file:\n",
    "    json_sc = json.load(file)\n",
    "\n",
    "with open(PROJECT_ROOT / \"states\" / \"0_erd13dj5qy3ht8pewf7vme50gle2d2lx0wzywa2cvez08x5zzu5x6d7sewjt3m_0_chain_config_state.json\", \"r\") as file:\n",
    "    json_account = json.load(file)\n",
    "\n",
    "with open(PROJECT_ROOT / \"states\" / \"0_system_account_state_erd13dj5qy3ht8pewf7vme50gle2d2lx0wzywa2cvez08x5zzu5x6d7sewjt3m.json\", \"r\") as file:\n",
    "    json_sys_account = json.load(file)\n",
    "\n",
    "with open(PROJECT_ROOT / \"states\" / \"0_erd1ss6u80ruas2phpmr82r42xnkd6rxy40g9jl69frppl4qez9w2jpsqj8x97_0_chain_config_state.json\", \"r\") as file:\n",
    "    json_owner = json.load(file)\n",
    "\n",
    "with open(PROJECT_ROOT / \"states\" / \"0_system_account_state_UTKWEGLDFL-ba26d2-023379.json\", \"r\") as file:\n",
    "    json_farm_token = json.load(file)\n",
    "\n",
    "with open(PROJECT_ROOT / \"states\" / \"0_system_account_state_SUTK-ba35f3-0bd9a4.json\", \"r\") as file:\n",
    "    json_staking_token = json.load(file)\n",
    "\n",
    "with open(PROJECT_ROOT / \"states\" / \"0_system_account_state_XMEX-fda355-47.json\", \"r\") as file:\n",
    "    json_xmex_nonce = json.load(file)\n",
    "\n",
    "chain_simulator.apply_states([json_sc])\n",
    "chain_simulator.apply_states([json_account])\n",
    "chain_simulator.apply_states([json_sys_account])\n",
    "chain_simulator.apply_states([json_owner])\n",
    "chain_simulator.apply_states([json_farm_token])\n",
    "chain_simulator.apply_states([json_staking_token])\n",
    "chain_simulator.apply_states([json_xmex_nonce])"
   ]
  },
  {
   "cell_type": "code",
   "execution_count": null,
   "metadata": {},
   "outputs": [],
   "source": [
    "import json\n",
    "with open(PROJECT_ROOT / \"states\" / \"0_erd13dj5qy3ht8pewf7vme50gle2d2lx0wzywa2cvez08x5zzu5x6d7sewjt3m_0_chain_config_state.json\", \"r\") as file:\n",
    "    json_account = json.load(file)\n",
    "chain_simulator.apply_states([json_account])"
   ]
  },
  {
   "cell_type": "code",
   "execution_count": null,
   "metadata": {},
   "outputs": [],
   "source": [
    "import json\n",
    "with open(PROJECT_ROOT / \"states\" / \"0_erd1ss6u80ruas2phpmr82r42xnkd6rxy40g9jl69frppl4qez9w2jpsqj8x97_0_chain_config_state.json\", \"r\") as file:\n",
    "    json_account = json.load(file)\n",
    "chain_simulator.apply_states([json_account])"
   ]
  },
  {
   "cell_type": "code",
   "execution_count": null,
   "metadata": {},
   "outputs": [],
   "source": [
    "import json\n",
    "with open(PROJECT_ROOT / \"states\" / \"0_system_account_state_UTKWEGLDFL-ba26d2-023379.json\", \"r\") as file:\n",
    "    json_account = json.load(file)\n",
    "chain_simulator.apply_states([json_account])"
   ]
  },
  {
   "cell_type": "code",
   "execution_count": null,
   "metadata": {},
   "outputs": [],
   "source": [
    "import json\n",
    "with open(PROJECT_ROOT / \"states\" / \"0_system_account_state_SUTK-ba35f3-0bd9a4.json\", \"r\") as file:\n",
    "    json_account = json.load(file)\n",
    "chain_simulator.apply_states([json_account])"
   ]
  },
  {
   "cell_type": "code",
   "execution_count": null,
   "metadata": {},
   "outputs": [],
   "source": [
    "import json\n",
    "with open(PROJECT_ROOT / \"states\" / \"0_system_account_state_XMEX-fda355-47.json\", \"r\") as file:\n",
    "    json_account = json.load(file)\n",
    "chain_simulator.apply_states([json_account])"
   ]
  },
  {
   "cell_type": "code",
   "execution_count": null,
   "metadata": {},
   "outputs": [],
   "source": [
    "chain_simulator.advance_blocks(3)"
   ]
  },
  {
   "cell_type": "code",
   "execution_count": null,
   "metadata": {},
   "outputs": [],
   "source": [
    "from tools.chain_simulator_connector import fetch_system_account_state_from_token\n",
    "from utils.utils_tx import ESDTToken\n",
    "sf_proxy = ProxyNetworkProvider(\"\")\n",
    "fetch_system_account_state_from_token(\"XMEX-fda355-47\", sf_proxy)"
   ]
  },
  {
   "cell_type": "code",
   "execution_count": null,
   "metadata": {},
   "outputs": [],
   "source": [
    "from tools.chain_simulator_connector import fetch_system_account_state_from_token\n",
    "from utils.utils_tx import ESDTToken\n",
    "sf_proxy = ProxyNetworkProvider(\"\")\n",
    "fetch_system_account_state_from_token(\"XMEX-fda355-47\",sf_proxy)"
   ]
  },
  {
   "cell_type": "code",
   "execution_count": null,
   "metadata": {},
   "outputs": [],
   "source": [
    "contract_address = WrapperAddress(\"erd1qqqqqqqqqqqqqpgqp8v47r80n2see9a2g77j3qm56gyz279aa7aq460szc\")\n",
    "\n",
    "second_owner = Account(pem_file=config.DEFAULT_ACCOUNTS)\n",
    "second_owner.address = WrapperAddress(\"erd1ec8xj629h55d7v7s6fz39h690vk9zs5dvdxk8lp4ct9k6vhgttuqaaj34x\")\n",
    "second_owner.sync_nonce(context.network_provider.proxy)\n",
    "\n",
    "first_owner = Account(pem_file=config.DEFAULT_ACCOUNTS)\n",
    "first_owner.address = WrapperAddress(\"erd1rjff57qeq4ehfjmm4wfz08eygf9ej0d44hs2wsjnfp7zxpuea7aq78vkhk\")\n",
    "first_owner.sync_nonce(context.network_provider.proxy)\n",
    "\n",
    "user = Account(pem_file=config.DEFAULT_ACCOUNTS)\n",
    "user.address = WrapperAddress(\"erd1qjsdgvv88zaeuqr569vvknywel7ua62nemeusldc8ls7quldl7fq3nskc6\")\n",
    "user.sync_nonce(context.network_provider.proxy)"
   ]
  },
  {
   "cell_type": "markdown",
   "metadata": {},
   "source": [
    "change owner"
   ]
  },
  {
   "cell_type": "code",
   "execution_count": null,
   "metadata": {},
   "outputs": [],
   "source": [
    "hash = endpoint_call(context.network_provider.proxy, 50000000, second_owner, contract_address, \n",
    "                     \"ChangeOwnerAddress\", [first_owner.address])"
   ]
  },
  {
   "cell_type": "markdown",
   "metadata": {},
   "source": [
    "upgrade"
   ]
  },
  {
   "cell_type": "code",
   "execution_count": null,
   "metadata": {},
   "outputs": [],
   "source": [
    "from multiversx_sdk import CodeMetadata\n",
    "from utils.utils_tx import upgrade_call\n",
    "\n",
    "metadata = CodeMetadata(upgradeable=True, payable_by_contract=False, readable=True)\n",
    "gas_limit = 200000000\n",
    "bytecode_path = Path().home() / \"contract.wasm\"\n",
    "\n",
    "arguments = []\n",
    "\n",
    "hash = upgrade_call(\"launchpad\", context.network_provider.proxy, gas_limit, second_owner, contract_address,\n",
    "                    bytecode_path, metadata, arguments)"
   ]
  },
  {
   "cell_type": "markdown",
   "metadata": {},
   "source": [
    "blocks"
   ]
  },
  {
   "cell_type": "code",
   "execution_count": null,
   "metadata": {},
   "outputs": [],
   "source": [
    "chain_simulator.advance_blocks(1)"
   ]
  },
  {
   "cell_type": "code",
   "execution_count": null,
   "metadata": {},
   "outputs": [],
   "source": [
    "hash = endpoint_call(context.network_provider.proxy, 50000000, user, contract_address, \"claimLaunchpadTokens\", [])"
   ]
  },
  {
   "cell_type": "markdown",
   "metadata": {},
   "source": [
    "forever blocks"
   ]
  },
  {
   "cell_type": "code",
   "execution_count": null,
   "metadata": {},
   "outputs": [],
   "source": [
    "from time import sleep\n",
    "while True:\n",
    "    chain_simulator.advance_blocks(1)\n",
    "    sleep(1)"
   ]
  },
  {
   "cell_type": "code",
   "execution_count": null,
   "metadata": {},
   "outputs": [],
   "source": [
    "from time import sleep\n",
    "from datetime import datetime\n",
    "from multiversx_sdk import ProxyNetworkProvider\n",
    "\n",
    "proxy = ProxyNetworkProvider(chain_simulator.proxy_url)\n",
    "while True:\n",
    "    chain_simulator.advance_blocks(1)\n",
    "    sleep(1)\n",
    "    print(f'Time now: {datetime.now()}')\n",
    "    latest_block = proxy.get_latest_block(1)\n",
    "    print(f'Chain time at round: {latest_block.round} : {latest_block.timestamp}')"
   ]
  }
 ],
 "metadata": {
  "kernelspec": {
   "display_name": "venv",
   "language": "python",
   "name": "python3"
  },
  "language_info": {
   "codemirror_mode": {
    "name": "ipython",
    "version": 3
   },
   "file_extension": ".py",
   "mimetype": "text/x-python",
   "name": "python",
   "nbconvert_exporter": "python",
   "pygments_lexer": "ipython3",
   "version": "3.13.7"
  }
 },
 "nbformat": 4,
 "nbformat_minor": 2
}
