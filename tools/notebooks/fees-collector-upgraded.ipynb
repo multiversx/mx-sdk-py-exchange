{
 "cells": [
  {
   "cell_type": "markdown",
   "metadata": {},
   "source": [
    "### INIT"
   ]
  },
  {
   "cell_type": "code",
   "execution_count": null,
   "metadata": {},
   "outputs": [],
   "source": [
    "import sys\n",
    "from pathlib import Path\n",
    "from multiversx_sdk import ApiNetworkProvider, ProxyNetworkProvider\n",
    "\n",
    "sys.path.append(str(Path.cwd().parent.parent.absolute()))\n",
    "import config\n",
    "from context import Context\n",
    "from utils.utils_chain import WrapperAddress\n",
    "\n",
    "\n",
    "SIMULATOR_URL = \"http://localhost:8085\"\n",
    "SIMULATOR_API = \"http://localhost:3001\"\n",
    "\n",
    "GENERATE_BLOCKS_URL = f\"{SIMULATOR_URL}/simulator/generate-blocks\"\n",
    "GENERATE_BLOCKS_UNTIL_EPOCH_REACHED_URL = f\"{SIMULATOR_URL}/simulator/generate-blocks-until-epoch-reached\"\n",
    "PROJECT_ROOT = Path.cwd().parent.parent\n",
    "proxy = ProxyNetworkProvider(SIMULATOR_URL)\n",
    "api = ApiNetworkProvider(SIMULATOR_API)\n",
    "DOCKER_URL = PROJECT_ROOT / \"docker\"\n",
    "\n",
    "context = Context()\n",
    "context.network_provider.proxy = proxy\n",
    "context.network_provider.api = api\n",
    "\n",
    "wasm_path = config.DEFAULT_WORKSPACE / \"wasm/fees-collector.wasm\"\n",
    "contract_code_hash = \"08cd6ef3e0d5be0c7d4aedc2740d06f21b0aad28080ada2a551778af454176fe\""
   ]
  },
  {
   "cell_type": "markdown",
   "metadata": {},
   "source": [
    "### CHAIN SIM CONFIG - FEES COLLECTOR"
   ]
  },
  {
   "cell_type": "code",
   "execution_count": 2,
   "metadata": {},
   "outputs": [],
   "source": [
    "from tools.chain_simulator_connector import ChainSimulator, start_handler\n",
    "from argparse import Namespace\n",
    "\n",
    "docker_path = config.CHAIN_SIMULATOR_DOCKER_PATH\n",
    "state_path = config.DEFAULT_WORKSPACE / \"states\"\n",
    "args = Namespace(docker_path=str(docker_path), state_path=str(state_path))\n"
   ]
  },
  {
   "cell_type": "code",
   "execution_count": 3,
   "metadata": {},
   "outputs": [],
   "source": [
    "USERS = [\n",
    "        \"erd146exyad7pn95pru78egj07nnyfgnyeaytxte33nxxd24g55uccgs77rr7d\",\n",
    "        \"erd1emxytu3umnzm4k2cn2xmtppy8j3dm3lnsjhfzkul8gd5a4xxuk3qsl4xjw\", \n",
    "        \"erd1rv5twgkz5uatdvgk5ymzmgzmz38dxqh8agvlkt97mfun8hn4x4xqyptslm\",\n",
    "        \"erd1njvcr0r89km6pexrxh0d6h36pkeuwr5j042e7l46l3mdlxvwhejsfz9w4n\",\n",
    "        \"erd1ss6u80ruas2phpmr82r42xnkd6rxy40g9jl69frppl4qez9w2jpsqj8x97\" # DEX OWNER\n",
    "]\n",
    "\n",
    "BASE_TOKEN = \"MEX-455c57\""
   ]
  },
  {
   "cell_type": "code",
   "execution_count": 4,
   "metadata": {},
   "outputs": [],
   "source": [
    "import json\n",
    "import subprocess\n",
    "from time import sleep\n",
    "from typing import Any\n",
    "\n",
    "from utils.utils_chain import Account\n",
    "\n",
    "\n",
    "def load_accounts_state(project_root: Path, addresses: list[str]) -> list[dict[str, Any]]:\n",
    "    states = []\n",
    "    \n",
    "    for address in addresses:\n",
    "        print(f\"Loading state for {address}\")\n",
    "        user_path = f\"0_{address}_0_chain_config_state.json\"\n",
    "        system_account_path = f\"0_system_account_state_{address}.json\"\n",
    "        \n",
    "        user_file = project_root / \"states\" / user_path\n",
    "        system_file = project_root / \"states\" / system_account_path\n",
    "        \n",
    "        if user_file.exists():\n",
    "            with open(user_file, \"r\") as file:\n",
    "                user_state = json.load(file)\n",
    "                if user_state:\n",
    "                    print(f\"Found {user_file.name}\")\n",
    "                    states.append(user_state)\n",
    "                \n",
    "        if system_file.exists():\n",
    "            with open(system_file, \"r\") as file:\n",
    "                system_state = json.load(file)\n",
    "                if system_state:\n",
    "                    print(f\"Found {system_file.name}\")\n",
    "                    states.append(system_state)\n",
    "            \n",
    "    return states\n",
    "    \n",
    "def apply_states(proxy: ProxyNetworkProvider, states: list[dict[str, Any]]):\n",
    "    for state in states:\n",
    "        proxy.do_post_generic(f\"{SIMULATOR_URL}/simulator/set-state\", state)\n",
    "\n",
    "# @pytest.fixture\n",
    "def load_and_apply_state(proxy: ProxyNetworkProvider, project_root: Path, owner: str, users: list[str]):\n",
    "    # Load and set state for all keys\n",
    "    with open(project_root / \"states\" / \"0_all_all_keys.json\", \"r\") as file:\n",
    "        retrieved_state = json.load(file)\n",
    "        apply_states(proxy, [retrieved_state])\n",
    "\n",
    "    # Load owner and users state\n",
    "    accounts = [owner]\n",
    "    accounts.extend(users)\n",
    "    states = load_accounts_state(project_root, accounts)\n",
    "    apply_states(proxy, states)\n",
    "        \n",
    "\n",
    "def advance_blocks(number_of_blocks: int):\n",
    "    proxy.do_post_generic(f\"{GENERATE_BLOCKS_URL}/{number_of_blocks}\", {})\n",
    "\n",
    "def advance_epoch(number_of_epochs: int):\n",
    "    proxy.do_post_generic(f\"{GENERATE_BLOCKS_URL}/{number_of_epochs * 20}\", {})\n",
    "\n",
    "def advance_to_epoch(epoch: int):\n",
    "    proxy.do_post_generic(f\"{GENERATE_BLOCKS_UNTIL_EPOCH_REACHED_URL}/{epoch}\", {})\n",
    "\n",
    "def users_init(found_users: list[str]) -> list[Account]:\n",
    "    print(context.deployer_account.address.bech32())\n",
    "    context.deployer_account.sync_nonce(context.network_provider.proxy)\n",
    "\n",
    "    users = []\n",
    "    for user in found_users:\n",
    "        user_account = Account(pem_file=config.DEFAULT_ACCOUNTS)\n",
    "        user_account.address = WrapperAddress(user)\n",
    "        user_account.sync_nonce(context.network_provider.proxy)\n",
    "        users.append(user_account)\n",
    "\n",
    "    return users"
   ]
  },
  {
   "cell_type": "code",
   "execution_count": null,
   "metadata": {},
   "outputs": [],
   "source": [
    "from utils.contract_data_fetchers import FeeCollectorContractDataFetcher\n",
    "from contracts.router_contract import RouterContract\n",
    "from contracts.simple_lock_energy_contract import SimpleLockEnergyContract\n",
    "from contracts.fees_collector_contract import FeesCollectorContract\n",
    "from contracts.pair_contract import PairContract\n",
    "from utils.contract_retrievers import retrieve_pair_by_address\n",
    "\n",
    "fees_collector_contract: FeesCollectorContract\n",
    "fees_collector_contract = context.get_contracts(config.FEES_COLLECTORS)[0]\n",
    "\n",
    "config.DEFAULT_PROXY =  \"https://gateway.multiversx.com\"\n",
    "\n",
    "energy_contract: SimpleLockEnergyContract\n",
    "router_contract: RouterContract\n",
    "pair_contract: PairContract\n",
    "\n",
    "pair_contract: PairContract = context.get_contracts(config.PAIRS_V2)[1]    # operating pair\n",
    "mex_contract = retrieve_pair_by_address(\"erd1qqqqqqqqqqqqqpgqa0fsfshnff4n76jhcye6k7uvd7qacsq42jpsp6shh2\") # egldmex contract\n",
    "energy_contract = context.get_contracts(config.SIMPLE_LOCKS_ENERGY)[0]\n",
    "router_contract = context.deploy_structure.get_deployed_contract_by_index(config.ROUTER_V2, 0)\n",
    "\n",
    "print(fees_collector_contract.address)\n",
    "print(router_contract.address)\n",
    "print(pair_contract.address)\n",
    "print(mex_contract.address)\n"
   ]
  },
  {
   "cell_type": "code",
   "execution_count": 6,
   "metadata": {},
   "outputs": [],
   "source": [
    "from utils.utils_chain import base64_to_hex\n",
    "from utils.utils_chain import WrapperAddress\n",
    "\n",
    "\n",
    "def fees_collector_upgrade(bytecode_path: Path, expected_code_hash: str = None):\n",
    "    context.deployer_account.sync_nonce(context.network_provider.proxy)\n",
    "\n",
    "    tx_hash = fees_collector_contract.contract_upgrade(context.deployer_account, context.network_provider.proxy, bytecode_path, \n",
    "                                         args, \n",
    "                                         no_init=True)\n",
    "\n",
    "    chain_sim.advance_blocks(1)\n",
    "\n",
    "    code_hash = context.network_provider.proxy.get_account(WrapperAddress(fees_collector_contract.address)).contract_code_hash.hex()\n",
    "    if expected_code_hash:\n",
    "        assert code_hash == expected_code_hash\n",
    "    else:\n",
    "        print(f\"Code hash: {code_hash}\")\n",
    "    \n",
    "    return tx_hash"
   ]
  },
  {
   "cell_type": "code",
   "execution_count": 7,
   "metadata": {},
   "outputs": [],
   "source": [
    "from multiversx_sdk.abi import Abi\n",
    "\n",
    "abi = Abi.load(config.HOME / \"Projects/dex/mx-exchange-sc/output-docker/fees-collector/fees-collector.abi.json\")\n",
    "    \n",
    "def build_args_for_swap():\n",
    "\n",
    "    routes: list[list[Any]] = []\n",
    "    routes.append((Address(pair_contract.address), \"swapTokensFixedInput\" , pair_contract.firstToken, 1))\n",
    "    routes.append((Address(mex_contract.address), \"swapTokensFixedInput\" , \"MEX-455c57\", 1))\n",
    "    \n",
    "    sc_args = [\n",
    "           pair_contract.secondToken,\n",
    "           routes\n",
    "        ]\n",
    "\n",
    "    return sc_args"
   ]
  },
  {
   "cell_type": "code",
   "execution_count": 8,
   "metadata": {},
   "outputs": [],
   "source": [
    "def get_next_week_start_epoch() -> int:\n",
    "    first_week = fees_collector_contract.get_first_week_start_epoch(context.network_provider.proxy)\n",
    "    current_week = fees_collector_contract.get_current_week(context.network_provider.proxy)\n",
    "    next_week_at_epoch = first_week + current_week * 7\n",
    "\n",
    "    print(f\"Current epoch: {context.network_provider.proxy.get_network_status().current_epoch}\")\n",
    "    print(f\"Current week: {current_week}\")\n",
    "    print(f\"Next week at epoch: {next_week_at_epoch}\")\n",
    "\n",
    "    return next_week_at_epoch"
   ]
  },
  {
   "cell_type": "markdown",
   "metadata": {},
   "source": [
    "# CHAIN CONTROL"
   ]
  },
  {
   "cell_type": "code",
   "execution_count": null,
   "metadata": {},
   "outputs": [],
   "source": [
    "chain_sim, found_accounts = start_handler(args)\n",
    "print(f'Loaded {len(found_accounts)} accounts')"
   ]
  },
  {
   "cell_type": "code",
   "execution_count": null,
   "metadata": {},
   "outputs": [],
   "source": [
    "chain_sim.stop()"
   ]
  },
  {
   "cell_type": "markdown",
   "metadata": {},
   "source": [
    "### CONTRACTS"
   ]
  },
  {
   "cell_type": "code",
   "execution_count": null,
   "metadata": {},
   "outputs": [],
   "source": [
    "from utils.utils_chain import Account, WrapperAddress as Address\n",
    "\n",
    "users = users_init()\n",
    "user_account = users[0]\n",
    "user_account.sync_nonce(context.network_provider.proxy)\n",
    "print(user_account.address.to_bech32())"
   ]
  },
  {
   "cell_type": "code",
   "execution_count": null,
   "metadata": {},
   "outputs": [],
   "source": [
    "import json\n",
    "with open(PROJECT_ROOT / \"states\" / \"0_erd1ss6u80ruas2phpmr82r42xnkd6rxy40g9jl69frppl4qez9w2jpsqj8x97_0_chain_config_state.json\", \"r\") as file:\n",
    "    json_account = json.load(file)\n",
    "proxy.do_post_generic(f\"{SIMULATOR_URL}/simulator/set-state\", json_account)"
   ]
  },
  {
   "cell_type": "code",
   "execution_count": null,
   "metadata": {},
   "outputs": [],
   "source": [
    "import json\n",
    "with open(PROJECT_ROOT / \"states\" / \"0_fees_collectors_0_chain_config_state.json\", \"r\") as file:\n",
    "    json_account = json.load(file)\n",
    "proxy.do_post_generic(f\"{SIMULATOR_URL}/simulator/set-state\", json_account)"
   ]
  },
  {
   "cell_type": "code",
   "execution_count": null,
   "metadata": {},
   "outputs": [],
   "source": [
    "chain_sim.advance_epochs(7)"
   ]
  },
  {
   "cell_type": "code",
   "execution_count": null,
   "metadata": {},
   "outputs": [],
   "source": [
    "chain_sim.advance_blocks(5)"
   ]
  },
  {
   "cell_type": "markdown",
   "metadata": {},
   "source": [
    "CLAIM REWARDS"
   ]
  },
  {
   "cell_type": "code",
   "execution_count": null,
   "metadata": {},
   "outputs": [],
   "source": [
    "user_with_energy = users[1]\n",
    "print(user_with_energy.address.to_bech32())\n",
    "energy_contract.get_energy_for_user(context.network_provider.proxy, user_with_energy.address.to_bech32())"
   ]
  },
  {
   "cell_type": "code",
   "execution_count": null,
   "metadata": {},
   "outputs": [],
   "source": [
    "user_without_energy = users[0]\n",
    "print(user_without_energy.address.to_bech32())\n",
    "energy_contract.get_energy_for_user(context.network_provider.proxy, user_without_energy.address.to_bech32())"
   ]
  },
  {
   "cell_type": "code",
   "execution_count": null,
   "metadata": {},
   "outputs": [],
   "source": [
    "user_with_energy.sync_nonce(context.network_provider.proxy)\n",
    "\n",
    "fees_collector_contract.claim_rewards(user_with_energy, proxy) #4 blocks\n",
    "chain_sim.advance_blocks(5)"
   ]
  },
  {
   "cell_type": "code",
   "execution_count": null,
   "metadata": {},
   "outputs": [],
   "source": [
    "user_without_energy.sync_nonce(context.network_provider.proxy)\n",
    "\n",
    "fees_collector_contract.claim_rewards(user_without_energy, proxy) #4 blocks\n",
    "chain_sim.advance_blocks(5)"
   ]
  },
  {
   "cell_type": "markdown",
   "metadata": {},
   "source": [
    "CLAIM BOOSTED"
   ]
  },
  {
   "cell_type": "code",
   "execution_count": null,
   "metadata": {},
   "outputs": [],
   "source": [
    "fees_collector_contract.claim_boosted_rewards(user_account, proxy)"
   ]
  },
  {
   "cell_type": "markdown",
   "metadata": {},
   "source": [
    "ADD ADMIN"
   ]
  },
  {
   "cell_type": "code",
   "execution_count": null,
   "metadata": {},
   "outputs": [],
   "source": [
    "from utils.utils_chain import WrapperAddress\n",
    "\n",
    "context.deployer_account.sync_nonce(proxy)\n",
    "fees_collector_contract.add_admin(context.deployer_account, proxy, [context.deployer_account.address])"
   ]
  },
  {
   "cell_type": "markdown",
   "metadata": {},
   "source": [
    "REMOVE ADMIN"
   ]
  },
  {
   "cell_type": "code",
   "execution_count": null,
   "metadata": {},
   "outputs": [],
   "source": [
    "from utils.utils_chain import WrapperAddress\n",
    "\n",
    "context.deployer_account.sync_nonce(proxy)\n",
    "fees_collector_contract.remove_admin(context.deployer_account, proxy, [context.deployer_account.address])"
   ]
  },
  {
   "cell_type": "markdown",
   "metadata": {},
   "source": [
    "REDISTRIBUTE REWARDS"
   ]
  },
  {
   "cell_type": "code",
   "execution_count": null,
   "metadata": {},
   "outputs": [],
   "source": [
    "\n",
    "context.deployer_account.sync_nonce(proxy)\n",
    "fees_collector_contract.redistribute_rewards(context.deployer_account, proxy)\n",
    "advance_blocks(1)"
   ]
  },
  {
   "cell_type": "markdown",
   "metadata": {},
   "source": [
    "SET ADMINS"
   ]
  },
  {
   "cell_type": "code",
   "execution_count": null,
   "metadata": {},
   "outputs": [],
   "source": [
    "fees_collector_contract.add_admin(context.deployer_account, proxy, [context.deployer_account.address])"
   ]
  },
  {
   "cell_type": "code",
   "execution_count": null,
   "metadata": {},
   "outputs": [],
   "source": [
    "week = fees_collector_contract.get_current_week(proxy)\n",
    "user_energy = fees_collector_contract.get_user_energy_for_week(user_account.address.to_bech32(), proxy, week)\n",
    "last_active_week = fees_collector_contract.get_last_active_week_for_user(user_account.address.to_bech32(), proxy)\n",
    "print(week)\n",
    "print(user_energy)\n",
    "print(last_active_week)"
   ]
  },
  {
   "cell_type": "markdown",
   "metadata": {},
   "source": [
    "GET TOTAL REWARDS FOR WEEK"
   ]
  },
  {
   "cell_type": "code",
   "execution_count": null,
   "metadata": {},
   "outputs": [],
   "source": [
    "from utils.utils_chain import WrapperAddress, decode_merged_attributes\n",
    "from utils import decoding_structures\n",
    "\n",
    "data_fetcher = FeeCollectorContractDataFetcher(WrapperAddress(fees_collector_contract.address), context.network_provider.proxy.url)\n",
    "total_rewards = fees_collector_contract.get_total_rewards_for_week(proxy, week)\n",
    "print(total_rewards)\n"
   ]
  },
  {
   "cell_type": "markdown",
   "metadata": {},
   "source": [
    "GET ACCUMULATED FEES"
   ]
  },
  {
   "cell_type": "code",
   "execution_count": null,
   "metadata": {},
   "outputs": [],
   "source": [
    "from multiversx_sdk.abi import TokenIdentifierValue, U32Value\n",
    "token_identifier = \"MEX-455c57\"\n",
    "data_fetcher = FeeCollectorContractDataFetcher(WrapperAddress(fees_collector_contract.address), context.network_provider.proxy.url)\n",
    "accumulated_fees = data_fetcher.get_data(\"getAccumulatedFees\", [U32Value(week), TokenIdentifierValue(token_identifier)])\n",
    "print(accumulated_fees)\n"
   ]
  },
  {
   "cell_type": "markdown",
   "metadata": {},
   "source": [
    "GET USER ENERGY FOR WEEK"
   ]
  },
  {
   "cell_type": "code",
   "execution_count": null,
   "metadata": {},
   "outputs": [],
   "source": [
    "data_fetcher = FeeCollectorContractDataFetcher(WrapperAddress(fees_collector_contract.address), context.network_provider.proxy.url)\n",
    "user_energy_for_week = fees_collector_contract.get_user_energy_for_week(user_account.address.to_bech32(), proxy, week)\n",
    "print(user_energy_for_week)\n"
   ]
  },
  {
   "cell_type": "markdown",
   "metadata": {},
   "source": [
    "GET CURRENT CLAIM PROGRESS"
   ]
  },
  {
   "cell_type": "code",
   "execution_count": null,
   "metadata": {},
   "outputs": [],
   "source": [
    "data_fetcher = FeeCollectorContractDataFetcher(WrapperAddress(fees_collector_contract.address), context.network_provider.proxy.url)\n",
    "current_claim = fees_collector_contract.get_current_claim_progress_for_user(user_account.address.to_bech32(), proxy)\n",
    "print(current_claim)"
   ]
  },
  {
   "cell_type": "code",
   "execution_count": null,
   "metadata": {},
   "outputs": [],
   "source": [
    "mex_contract.whitelist_contract(context.deployer_account, context.network_provider.proxy, pair_contract.address)"
   ]
  },
  {
   "cell_type": "code",
   "execution_count": null,
   "metadata": {},
   "outputs": [],
   "source": [
    "# set where to swap and what to do with the fees\n",
    "pair_contract.add_trusted_swap_pair(context.deployer_account, context.network_provider.proxy,\n",
    "                                    [\n",
    "                                        mex_contract.address,\n",
    "                                        mex_contract.firstToken,\n",
    "                                        mex_contract.secondToken\n",
    "                                    ])"
   ]
  },
  {
   "cell_type": "code",
   "execution_count": null,
   "metadata": {},
   "outputs": [],
   "source": [
    "from contracts.pair_contract import AddLiquidityEvent\n",
    "\n",
    "event = AddLiquidityEvent(pair_contract.firstToken, 127791780000000000000, 1, pair_contract.secondToken, 5000000000000000000, 1)\n",
    "pair_contract.add_liquidity(context.network_provider, user_account, event)"
   ]
  },
  {
   "cell_type": "code",
   "execution_count": null,
   "metadata": {},
   "outputs": [],
   "source": [
    "from utils.utils_chain import base64_to_hex\n",
    "\n",
    "\n",
    "code_hash = context.network_provider.proxy.get_account(WrapperAddress(fees_collector_contract.address)).contract_code_hash.hex()\n",
    "print(code_hash)"
   ]
  },
  {
   "cell_type": "markdown",
   "metadata": {},
   "source": [
    "PAIR SWAP"
   ]
  },
  {
   "cell_type": "code",
   "execution_count": null,
   "metadata": {},
   "outputs": [],
   "source": [
    "from utils.utils_chain import get_token_details_for_address\n",
    "from contracts.pair_contract import PairContract, SwapFixedInputEvent\n",
    "\n",
    "pair_contract: PairContract= context.get_contracts(config.PAIRS_V2)[1]\n",
    "print(pair_contract.get_config_dict())\n",
    "\n",
    "_, amount, _ = get_token_details_for_address(pair_contract.secondToken, user_account.address.to_bech32(), context.network_provider.proxy)\n",
    "if amount == 0:\n",
    "    raise Exception(f\"No amount found on {user_account.address.to_bech32()}\")\n",
    "print(f'Amount found on {user_account.address.to_bech32()}: {amount}')\n",
    "\n",
    "user_account.sync_nonce(proxy)\n",
    "swap = SwapFixedInputEvent(pair_contract.secondToken, amount//2, pair_contract.firstToken, 1)\n",
    "\n",
    "pair_contract.swap_fixed_input(context.network_provider, user_account, swap)\n",
    "chain_sim.advance_blocks(5)"
   ]
  },
  {
   "cell_type": "code",
   "execution_count": null,
   "metadata": {},
   "outputs": [],
   "source": [
    "from utils.utils_chain import get_token_details_for_address\n",
    "from contracts.pair_contract import PairContract, SwapFixedInputEvent\n",
    "\n",
    "pair_contract: PairContract= context.get_contracts(config.PAIRS_V2)[1]\n",
    "print(pair_contract.get_config_dict())\n",
    "\n",
    "_, amount, _ = get_token_details_for_address(pair_contract.firstToken, user_account.address.to_bech32(), context.network_provider.proxy)\n",
    "if amount == 0:\n",
    "    raise Exception(f\"No amount found on {user_account.address.to_bech32()}\")\n",
    "print(f'Amount found on {user_account.address.to_bech32()}: {amount}')\n",
    "\n",
    "user_account.sync_nonce(proxy)\n",
    "swap = SwapFixedInputEvent(pair_contract.firstToken, amount, pair_contract.secondToken, 1)\n",
    "\n",
    "pair_contract.swap_fixed_input(context.network_provider, user_account, swap)\n",
    "chain_sim.advance_blocks(5)"
   ]
  },
  {
   "cell_type": "markdown",
   "metadata": {},
   "source": [
    "CONTRACT UPGRADE"
   ]
  },
  {
   "cell_type": "code",
   "execution_count": 10,
   "metadata": {},
   "outputs": [],
   "source": [
    "from utils.utils_chain import base64_to_hex\n",
    "from utils.utils_chain import WrapperAddress\n",
    "\n",
    "\n",
    "def fees_collector_upgrade(bytecode_path: Path):\n",
    "    context.deployer_account.sync_nonce(context.network_provider.proxy)\n",
    "\n",
    "    tx_hash = fees_collector_contract.contract_upgrade(context.deployer_account, context.network_provider.proxy, bytecode_path, \n",
    "                                         args, \n",
    "                                         no_init=True)\n",
    "\n",
    "    chain_sim.advance_blocks(1)\n",
    "\n",
    "    code_hash = context.network_provider.proxy.get_account(WrapperAddress(fees_collector_contract.address)).contract_code_hash.hex()\n",
    "    # assert code_hash == contract_code_hash\n",
    "    \n",
    "    return tx_hash"
   ]
  },
  {
   "cell_type": "markdown",
   "metadata": {},
   "source": [
    "SET ROUTER ADDRESS"
   ]
  },
  {
   "cell_type": "code",
   "execution_count": null,
   "metadata": {},
   "outputs": [],
   "source": [
    "context.deployer_account.sync_nonce(proxy)\n",
    "fees_collector_contract.set_router_address(context.deployer_account, proxy, router_contract.address)\n",
    "chain_sim.advance_blocks(1)"
   ]
  },
  {
   "cell_type": "markdown",
   "metadata": {},
   "source": [
    "SET BURN PERCENTAGES"
   ]
  },
  {
   "cell_type": "code",
   "execution_count": null,
   "metadata": {},
   "outputs": [],
   "source": [
    "context.deployer_account.sync_nonce(proxy)\n",
    "fees_collector_contract.set_base_token_burn_percent(context.deployer_account, proxy, 5000)\n",
    "chain_sim.advance_blocks(1)"
   ]
  },
  {
   "cell_type": "code",
   "execution_count": null,
   "metadata": {},
   "outputs": [],
   "source": [
    "pair_contract.add_fees_collector(context.deployer_account, proxy, [fees_collector_contract.address, 100000])\n",
    "chain_sim.advance_blocks(1)"
   ]
  },
  {
   "cell_type": "code",
   "execution_count": null,
   "metadata": {},
   "outputs": [],
   "source": [
    "print(pair_contract.get_config_dict())"
   ]
  },
  {
   "cell_type": "markdown",
   "metadata": {},
   "source": [
    "SWAP TO BASE TOKEN"
   ]
  },
  {
   "cell_type": "code",
   "execution_count": 10,
   "metadata": {},
   "outputs": [],
   "source": [
    "from multiversx_sdk.abi import Abi\n",
    "\n",
    "abi = Abi.load(config.HOME / \"Projects/dex/mx-exchange-sc/output-docker/fees-collector/fees-collector.abi.json\")\n",
    "    \n",
    "def build_args_for_swap():\n",
    "\n",
    "    routes: list[list[Any]] = []\n",
    "    routes.append((Address(pair_contract.address), \"swapTokensFixedInput\" , pair_contract.firstToken, 1))\n",
    "    routes.append((Address(mex_contract.address), \"swapTokensFixedInput\" , \"MEX-455c57\", 1))\n",
    "    \n",
    "    sc_args = [\n",
    "           pair_contract.secondToken,\n",
    "           routes\n",
    "        ]\n",
    "\n",
    "    return sc_args"
   ]
  },
  {
   "cell_type": "code",
   "execution_count": null,
   "metadata": {},
   "outputs": [],
   "source": [
    "fees_collector_contract.swap_to_base_token(context.deployer_account, proxy, abi, args)\n",
    "chain_sim.advance_blocks(1)"
   ]
  },
  {
   "cell_type": "code",
   "execution_count": null,
   "metadata": {},
   "outputs": [],
   "source": [
    "chain_sim.advance_blocks(1)"
   ]
  },
  {
   "cell_type": "markdown",
   "metadata": {},
   "source": [
    "ADD REWARD TOKENS"
   ]
  },
  {
   "cell_type": "code",
   "execution_count": null,
   "metadata": {},
   "outputs": [],
   "source": [
    "context.deployer_account.sync_nonce(proxy)\n",
    "fees_collector_contract.add_reward_tokens(context.deployer_account, proxy, [\"MEX-455c57\", \"XMEX-fda355\"])"
   ]
  },
  {
   "cell_type": "markdown",
   "metadata": {},
   "source": [
    "REMOVE REWARD TOKENS"
   ]
  },
  {
   "cell_type": "code",
   "execution_count": null,
   "metadata": {},
   "outputs": [],
   "source": [
    "fees_collector_contract.remove_reward_tokens(context.deployer_account, proxy, [\"USDC-c76f1f\",\n",
    "                                                                               \"RIDE-7d18e9\", \n",
    "                                                                               \"CRU-a5f4aa\", \n",
    "                                                                               \"ZPAY-247875\", \n",
    "                                                                               \"ITHEUM-df6f26\", \n",
    "                                                                               \"BHAT-c1fde3\", \n",
    "                                                                               \"CRT-52decf\", \n",
    "                                                                               \"UTK-2f80e9\",\n",
    "                                                                               \"QWT-46ac01\",\n",
    "                                                                               \"ASH-a642d1\",\n",
    "                                                                               \"WETH-b4ca29\",\n",
    "                                                                               \"USDT-f8c08c\",\n",
    "                                                                               \"HTM-f51d55\",\n",
    "                                                                               \"WDAI-9eeb54\",\n",
    "                                                                               \"TADA-5c032c\",\n",
    "                                                                               \"XOXNO-c1293a\",\n",
    "                                                                               \"A1X-0d446d\",\n",
    "                                                                               \"USH-111e09\",\n",
    "                                                                               \"FOXSY-5d5f3e\"\n",
    "                                                                               ])\n",
    "advance_blocks(1)"
   ]
  },
  {
   "cell_type": "code",
   "execution_count": null,
   "metadata": {},
   "outputs": [],
   "source": [
    "energy_factory: SimpleLockEnergyContract\n",
    "energy_factory = context.get_contracts(config.SIMPLE_LOCKS_ENERGY)[0]\n",
    "\n",
    "context.deployer_account.sync_nonce(proxy)\n",
    "tx_hash = energy_factory.set_burn_role_locked_token(context.deployer_account,\n",
    "                                                                proxy,\n",
    "                                                                [fees_collector_contract.address])\n",
    "\n",
    "advance_blocks(1)"
   ]
  },
  {
   "cell_type": "code",
   "execution_count": null,
   "metadata": {},
   "outputs": [],
   "source": [
    "energy_factory.set_transfer_role_locked_token(context.deployer_account, context.network_provider.proxy, [mex_contract.address])\n",
    "advance_blocks(1)"
   ]
  },
  {
   "cell_type": "code",
   "execution_count": null,
   "metadata": {},
   "outputs": [],
   "source": [
    "from contracts.builtin_contracts import ESDTContract\n",
    "\n",
    "esdt_contract = ESDTContract(config.TOKENS_CONTRACT_ADDRESS)\n",
    "context.deployer_account.sync_nonce(context.network_provider.proxy)\n",
    "tx_hash = esdt_contract.set_special_role_token(context.deployer_account, context.network_provider.proxy,\n",
    "                                               [BASE_TOKEN, fees_collector_contract.address, \"ESDTRoleLocalMint\", \"ESDTRoleLocalBurn\"])\n"
   ]
  },
  {
   "cell_type": "markdown",
   "metadata": {},
   "source": [
    "FUND USER"
   ]
  },
  {
   "cell_type": "code",
   "execution_count": 22,
   "metadata": {},
   "outputs": [],
   "source": [
    "user = \"erd1pye4dsy3fs956skp8wgf5pjtfynvw5y52gwdmsrrum9jcv3y2vusk7we6t\"\n",
    "chain_sim.apply_states([[{\n",
    "        \"address\": user,\n",
    "        \"nonce\": 0,\n",
    "        \"balance\": \"100000000000000000000\",\n",
    "        \"username\": \"\",\n",
    "        \"code\": \"\",\n",
    "        \"developerReward\": \"0\",\n",
    "        \"ownerAddress\": \"\",\n",
    "        \"pairs\": {}\n",
    "    }]])"
   ]
  },
  {
   "cell_type": "markdown",
   "metadata": {},
   "source": [
    "# SCENARIOS"
   ]
  },
  {
   "cell_type": "code",
   "execution_count": null,
   "metadata": {},
   "outputs": [],
   "source": [
    "from tools.chain_simulator_connector import ChainSimulator, start_handler\n",
    "from utils.utils_chain import get_token_details_for_address, WrapperAddress as Address\n",
    "from contracts.pair_contract import PairContract, SwapFixedInputEvent\n",
    "from argparse import Namespace\n",
    "from time import sleep\n",
    "\n",
    "docker_path = config.CHAIN_SIMULATOR_DOCKER_PATH\n",
    "state_path = config.DEFAULT_WORKSPACE / \"states\"\n",
    "args = Namespace(docker_path=str(docker_path), state_path=str(state_path))\n",
    "chain_sim, found_accounts = start_handler(args)\n",
    "print(f'Loaded {len(found_accounts)} accounts')\n",
    "sleep(10)"
   ]
  },
  {
   "cell_type": "code",
   "execution_count": null,
   "metadata": {},
   "outputs": [],
   "source": [
    "from tools.chain_simulator_connector import ChainSimulator, start_handler\n",
    "from utils.utils_chain import get_token_details_for_address, WrapperAddress as Address\n",
    "from contracts.pair_contract import PairContract, SwapFixedInputEvent\n",
    "from contracts.builtin_contracts import ESDTContract\n",
    "\n",
    "# INITIALIZE USERS\n",
    "\n",
    "USERS = found_accounts\n",
    "users = users_init()\n",
    "\n",
    "purse_account = next(user for user in users if user.address.to_bech32() == \"erd146exyad7pn95pru78egj07nnyfgnyeaytxte33nxxd24g55uccgs77rr7d\")\n",
    "user_without_energy = next(user for user in users if user.address.to_bech32() == \"erd146exyad7pn95pru78egj07nnyfgnyeaytxte33nxxd24g55uccgs77rr7d\")\n",
    "user_with_energy = next(user for user in users if user.address.to_bech32() == \"erd1emxytu3umnzm4k2cn2xmtppy8j3dm3lnsjhfzkul8gd5a4xxuk3qsl4xjw\")\n",
    "user_with_energy_2 = next(user for user in users if user.address.to_bech32() == \"erd1adljw932qra4sf5mpxjyzelmf4lykwt5ppxlre59utjcpc22uhms2qxcqx\")\n",
    "\n",
    "pair_contract: PairContract= context.get_contracts(config.PAIRS_V2)[1]\n",
    "print(pair_contract.get_config_dict())\n",
    "\n",
    "_, amount, _ = get_token_details_for_address(pair_contract.secondToken, purse_account.address.to_bech32(), context.network_provider.proxy)\n",
    "if amount == 0:\n",
    "    raise Exception(f\"No amount found on {purse_account.address.to_bech32()}\")\n",
    "print(f'Amount found on {purse_account.address.to_bech32()}: {amount}')\n",
    "\n",
    "# GET KNOWN CONTRACTS BEFORE UPGRADE -- THESE WILL BE REMOVED BY THE UPGRADE\n",
    "known_contracts = fees_collector_contract.get_known_contracts(proxy)\n",
    "\n",
    "# UPGRADE CONTRACT\n",
    "\n",
    "fees_collector_upgrade()\n",
    "\n",
    "context.deployer_account.sync_nonce(proxy)\n",
    "fees_collector_contract.set_router_address(context.deployer_account, proxy, router_contract.address)\n",
    "chain_sim.advance_blocks(1)\n",
    "\n",
    "fees_collector_contract.add_admin(context.deployer_account, context.network_provider.proxy, [context.deployer_account.address])\n",
    "chain_sim.advance_blocks(1)\n",
    "\n",
    "# BEGIN SCENARIO\n",
    "\n",
    "def week_activity():\n",
    "    # CLAIM REWARDS 1\n",
    "\n",
    "    user_with_energy.sync_nonce(context.network_provider.proxy)\n",
    "    fees_collector_contract.claim_rewards(user_with_energy, proxy) #4 blocks\n",
    "    chain_sim.advance_blocks(5)\n",
    "\n",
    "    user_without_energy.sync_nonce(context.network_provider.proxy)\n",
    "    fees_collector_contract.claim_rewards(user_without_energy, proxy) #4 blocks\n",
    "    chain_sim.advance_blocks(5)\n",
    "\n",
    "    # SWAP\n",
    "\n",
    "    purse_account.sync_nonce(proxy)\n",
    "    swap = SwapFixedInputEvent(pair_contract.secondToken, amount//10, pair_contract.firstToken, 1)\n",
    "\n",
    "    pair_contract.swap_fixed_input(context.network_provider, purse_account, swap)\n",
    "    chain_sim.advance_blocks(5)\n",
    "\n",
    "    # CONVERT TO MEX\n",
    "    args = build_args_for_swap()\n",
    "    context.deployer_account.sync_nonce(proxy)\n",
    "    fees_collector_contract.swap_to_base_token(context.deployer_account, proxy, abi, args)\n",
    "    chain_sim.advance_blocks(1)\n",
    "\n",
    "    # CLAIM REWARDS 2\n",
    "\n",
    "    user_with_energy_2.sync_nonce(context.network_provider.proxy)\n",
    "    fees_collector_contract.claim_rewards(user_with_energy_2, proxy) #4 blocks\n",
    "    chain_sim.advance_blocks(5)\n",
    "\n",
    "# FIRST WEEKS ------------------------------------------------------------\n",
    "\n",
    "weeks = 5\n",
    "for week in range(weeks):\n",
    "\n",
    "    print(f\"Week {week}\")\n",
    "\n",
    "    # WEEK ACTIVITY\n",
    "    week_activity()\n",
    "\n",
    "    # PASS THE WEEK\n",
    "    chain_sim.advance_epochs_to_epoch(get_next_week_start_epoch())\n",
    "\n",
    "# WEEK 5 SETUP ------------------------------------------------------------\n",
    "\n",
    "user_with_energy.sync_nonce(context.network_provider.proxy)\n",
    "fees_collector_contract.claim_rewards(user_with_energy, proxy) #4 blocks\n",
    "chain_sim.advance_blocks(5)\n",
    "\n",
    "# CLEANUP KNOWN TOKENS\n",
    "\n",
    "tokens = fees_collector_contract.get_reward_tokens(proxy)\n",
    "tokens.remove(energy_contract.base_token)\n",
    "tokens.remove(energy_contract.locked_token)\n",
    "\n",
    "fees_collector_contract.remove_reward_tokens(context.deployer_account, proxy, tokens)\n",
    "chain_sim.advance_blocks(1)\n",
    "\n",
    "# SET NEW BURN PERCENTAGE\n",
    "\n",
    "esdt_contract = ESDTContract(config.TOKENS_CONTRACT_ADDRESS)\n",
    "esdt_contract.set_special_role_token(context.deployer_account, context.network_provider.proxy,\n",
    "                                               [energy_contract.base_token, fees_collector_contract.address, \"ESDTRoleLocalBurn\"])\n",
    "\n",
    "chain_sim.advance_blocks(5)\n",
    "\n",
    "fees_collector_contract.set_base_token_burn_percent(context.deployer_account, proxy, 5000)\n",
    "chain_sim.advance_blocks(1)\n",
    "\n",
    "# MODIFY FEES FOR KNOWN CONTRACTS\n",
    "\n",
    "for address in known_contracts:\n",
    "    mod_contract = PairContract.load_contract_by_address(address)\n",
    "    if mod_contract is None:\n",
    "        continue\n",
    "    mod_contract.add_fees_collector(context.deployer_account, proxy, [fees_collector_contract.address, 100000])\n",
    "    chain_sim.advance_blocks(1)\n",
    "\n",
    "# WEEK ACTIVITY\n",
    "week_activity()\n",
    "\n",
    "chain_sim.advance_epochs_to_epoch(get_next_week_start_epoch())\n",
    "\n",
    "# WEEK ACTIVITY\n",
    "week_activity()\n"
   ]
  },
  {
   "cell_type": "markdown",
   "metadata": {},
   "source": [
    "BINARY COMPARE"
   ]
  },
  {
   "cell_type": "code",
   "execution_count": 11,
   "metadata": {},
   "outputs": [],
   "source": [
    "from utils.utils_scenarios import PhaseDictsCollector\n",
    "from tools.chain_simulator_connector import ChainSimulator, start_handler\n",
    "from utils.utils_chain import get_token_details_for_address, WrapperAddress as Address\n",
    "from contracts.pair_contract import PairContract, SwapFixedInputEvent\n",
    "from contracts.builtin_contracts import ESDTContract\n",
    "from argparse import Namespace\n",
    "from time import sleep\n",
    "\n",
    "def test_scenario(bytecode_path: Path, collector: PhaseDictsCollector):\n",
    "    users = users_init(found_accounts)\n",
    "\n",
    "    purse_account = next(user for user in users if user.address.to_bech32() == \"erd146exyad7pn95pru78egj07nnyfgnyeaytxte33nxxd24g55uccgs77rr7d\")\n",
    "    user_without_energy = next(user for user in users if user.address.to_bech32() == \"erd146exyad7pn95pru78egj07nnyfgnyeaytxte33nxxd24g55uccgs77rr7d\")\n",
    "    user_with_energy = next(user for user in users if user.address.to_bech32() == \"erd1emxytu3umnzm4k2cn2xmtppy8j3dm3lnsjhfzkul8gd5a4xxuk3qsl4xjw\")\n",
    "    user_with_energy_2 = next(user for user in users if user.address.to_bech32() == \"erd1adljw932qra4sf5mpxjyzelmf4lykwt5ppxlre59utjcpc22uhms2qxcqx\")\n",
    "\n",
    "    pair_contract: PairContract= context.get_contracts(config.PAIRS_V2)[1]\n",
    "    print(pair_contract.get_config_dict())\n",
    "\n",
    "    _, amount, _ = get_token_details_for_address(pair_contract.secondToken, purse_account.address.to_bech32(), context.network_provider.proxy)\n",
    "    if amount == 0:\n",
    "        raise Exception(f\"No amount found on {purse_account.address.to_bech32()}\")\n",
    "    print(f'Amount found on {purse_account.address.to_bech32()}: {amount}')\n",
    "\n",
    "    # GET KNOWN CONTRACTS BEFORE UPGRADE -- THESE WILL BE REMOVED BY THE UPGRADE\n",
    "    known_contracts = fees_collector_contract.get_known_contracts(proxy)\n",
    "\n",
    "    # UPGRADE CONTRACT\n",
    "\n",
    "    fees_collector_upgrade(bytecode_path)\n",
    "\n",
    "    context.deployer_account.sync_nonce(proxy)\n",
    "    fees_collector_contract.set_router_address(context.deployer_account, proxy, router_contract.address)\n",
    "    chain_sim.advance_blocks(1)\n",
    "\n",
    "    fees_collector_contract.add_admin(context.deployer_account, context.network_provider.proxy, [context.deployer_account.address])\n",
    "    chain_sim.advance_blocks(1)\n",
    "\n",
    "    # BEGIN SCENARIO\n",
    "\n",
    "    def week_activity(week: int):\n",
    "        # CLAIM REWARDS 1\n",
    "\n",
    "        user_with_energy.sync_nonce(context.network_provider.proxy)\n",
    "        hash = fees_collector_contract.claim_rewards(user_with_energy, proxy) #4 blocks\n",
    "        chain_sim.advance_blocks(5)\n",
    "        sleep(2)\n",
    "        claim_ops = context.network_provider.get_tx_operations(hash, True)\n",
    "        collector.add(f\"CLAIM_USER_1_W_ENERGY_WEEK_{week}\", claim_ops, \"Claim from user1 with energy\")\n",
    "\n",
    "        user_without_energy.sync_nonce(context.network_provider.proxy)\n",
    "        fees_collector_contract.claim_rewards(user_without_energy, proxy) #4 blocks\n",
    "        chain_sim.advance_blocks(5)\n",
    "\n",
    "        # SWAP\n",
    "\n",
    "        purse_account.sync_nonce(proxy)\n",
    "        swap = SwapFixedInputEvent(pair_contract.secondToken, amount//10, pair_contract.firstToken, 1)\n",
    "\n",
    "        pair_contract.swap_fixed_input(context.network_provider, purse_account, swap)\n",
    "        chain_sim.advance_blocks(5)\n",
    "\n",
    "        # CONVERT TO MEX\n",
    "        args = build_args_for_swap()\n",
    "        context.deployer_account.sync_nonce(proxy)\n",
    "        fees_collector_contract.swap_to_base_token(context.deployer_account, proxy, abi, args)\n",
    "        chain_sim.advance_blocks(1)\n",
    "\n",
    "        # CLAIM REWARDS 2\n",
    "\n",
    "        user_with_energy_2.sync_nonce(context.network_provider.proxy)\n",
    "        hash = fees_collector_contract.claim_rewards(user_with_energy_2, proxy) #4 blocks\n",
    "        chain_sim.advance_blocks(5)\n",
    "        sleep(2)\n",
    "        claim_ops = context.network_provider.get_tx_operations(hash, True)\n",
    "        collector.add(f\"CLAIM_USER_2_W_ENERGY_WEEK_{week}\", claim_ops, \"Claim from user2 with energy\")\n",
    "\n",
    "    # FIRST WEEKS ------------------------------------------------------------\n",
    "\n",
    "    weeks = 5\n",
    "    for week in range(weeks):\n",
    "\n",
    "        print(f\"Week {week}\")\n",
    "\n",
    "        # WEEK ACTIVITY\n",
    "        week_activity(week)\n",
    "\n",
    "        # PASS THE WEEK\n",
    "        chain_sim.advance_epochs_to_epoch(get_next_week_start_epoch())\n",
    "\n",
    "    # WEEK 5 SETUP ------------------------------------------------------------\n",
    "\n",
    "    user_with_energy.sync_nonce(context.network_provider.proxy)\n",
    "    hash = fees_collector_contract.claim_rewards(user_with_energy, proxy) #4 blocks\n",
    "    chain_sim.advance_blocks(5)\n",
    "    sleep(2)\n",
    "    claim_ops = context.network_provider.get_tx_operations(hash, True)\n",
    "    collector.add(f\"RECLAIM_USER_1_W_ENERGY_WEEK_{week+1}\", claim_ops, \"Early claim from user1 with energy\")\n",
    "\n",
    "    # CLEANUP KNOWN TOKENS\n",
    "\n",
    "    tokens = fees_collector_contract.get_reward_tokens(proxy)\n",
    "    tokens.remove(energy_contract.base_token)\n",
    "    tokens.remove(energy_contract.locked_token)\n",
    "\n",
    "    fees_collector_contract.remove_reward_tokens(context.deployer_account, proxy, tokens)\n",
    "    chain_sim.advance_blocks(1)\n",
    "\n",
    "    # SET NEW BURN PERCENTAGE\n",
    "\n",
    "    esdt_contract = ESDTContract(config.TOKENS_CONTRACT_ADDRESS)\n",
    "    esdt_contract.set_special_role_token(context.deployer_account, context.network_provider.proxy,\n",
    "                                                [energy_contract.base_token, fees_collector_contract.address, \"ESDTRoleLocalBurn\"])\n",
    "\n",
    "    chain_sim.advance_blocks(5)\n",
    "\n",
    "    fees_collector_contract.set_base_token_burn_percent(context.deployer_account, proxy, 5000)\n",
    "    chain_sim.advance_blocks(1)\n",
    "\n",
    "    # MODIFY FEES FOR KNOWN CONTRACTS\n",
    "\n",
    "    for address in known_contracts:\n",
    "        mod_contract = PairContract.load_contract_by_address(address)\n",
    "        if mod_contract is None:\n",
    "            continue\n",
    "        mod_contract.add_fees_collector(context.deployer_account, proxy, [fees_collector_contract.address, 100000])\n",
    "        chain_sim.advance_blocks(1)\n",
    "\n",
    "    # WEEK ACTIVITY\n",
    "    week_activity(week+1)\n",
    "\n",
    "    chain_sim.advance_epochs_to_epoch(get_next_week_start_epoch())\n",
    "\n",
    "    # WEEK ACTIVITY\n",
    "    week_activity(week+2)"
   ]
  },
  {
   "cell_type": "code",
   "execution_count": null,
   "metadata": {},
   "outputs": [],
   "source": [
    "upgrade1_path = config.HOME / \"wasm/fees-collector.wasm\"\n",
    "upgrade2_path = config.HOME / \"wasm/fees-collector-rewards-per-epoch.wasm\"\n",
    "\n",
    "docker_path = config.HOME / \"Projects/testing/full-stack-docker-compose/chain-simulator\"\n",
    "state_path = config.DEFAULT_WORKSPACE / \"states\"\n",
    "args = Namespace(docker_path=str(docker_path), state_path=str(state_path))\n",
    "    \n",
    "collector = PhaseDictsCollector()\n",
    "\n",
    "chain_sim, found_accounts = start_handler(args)\n",
    "print(f'Loaded {len(found_accounts)} accounts')\n",
    "sleep(10)\n",
    "\n",
    "collector.set_phase(\"wasm-1\")\n",
    "test_scenario(upgrade1_path, collector)\n",
    "\n",
    "chain_sim, found_accounts = start_handler(args)\n",
    "print(f'Loaded {len(found_accounts)} accounts')\n",
    "sleep(10)\n",
    "\n",
    "collector.set_phase(\"wasm-2\")\n",
    "test_scenario(upgrade2_path, collector)\n",
    "\n",
    "differences = collector.compare_all()\n",
    "if differences:\n",
    "    print(\"Found differences:\")\n",
    "    for diff in differences:\n",
    "        print(f\"- {diff}\")\n",
    "else:\n",
    "    print(\"All comparisons passed!\")"
   ]
  },
  {
   "cell_type": "code",
   "execution_count": null,
   "metadata": {},
   "outputs": [],
   "source": [
    "collector.print_collections()"
   ]
  },
  {
   "cell_type": "code",
   "execution_count": null,
   "metadata": {},
   "outputs": [],
   "source": [
    "args = build_args_for_swap()\n",
    "fees_collector_contract.swap_to_base_token(context.deployer_account, proxy, abi, args)\n",
    "chain_sim.advance_blocks(1)"
   ]
  },
  {
   "cell_type": "code",
   "execution_count": null,
   "metadata": {},
   "outputs": [],
   "source": [
    "from contracts.builtin_contracts import ESDTContract\n",
    "\n",
    "esdt_contract = ESDTContract(config.TOKENS_CONTRACT_ADDRESS)\n",
    "context.deployer_account.sync_nonce(context.network_provider.proxy)\n",
    "\n",
    "tx_hash = esdt_contract.set_special_role_token(context.deployer_account, context.network_provider.proxy,\n",
    "                                               [BASE_TOKEN, fees_collector_contract.address, \"ESDTRoleLocalBurn\"])\n",
    "\n",
    "pair_contract.add_fees_collector(context.deployer_account, proxy, [fees_collector_contract.address, 100000])\n",
    "mex_contract.add_fees_collector(context.deployer_account, proxy, [fees_collector_contract.address, 100000])\n",
    "fees_collector_contract.set_base_token_burn_percent(context.deployer_account, proxy, 5000)\n",
    "chain_sim.advance_blocks(1)\n",
    "\n",
    "purse_account.sync_nonce(proxy)\n",
    "swap = SwapFixedInputEvent(pair_contract.secondToken, amount//10, pair_contract.firstToken, 1)\n",
    "pair_contract.swap_fixed_input(context.network_provider, purse_account, swap)\n",
    "chain_sim.advance_blocks(5)\n",
    "\n",
    "# CONVERT TO MEX\n",
    "\n",
    "args = build_args_for_swap()\n",
    "fees_collector_contract.swap_to_base_token(context.deployer_account, proxy, abi, args)\n",
    "chain_sim.advance_blocks(1)\n",
    "\n",
    "# CLAIM REWARDS 2\n",
    "\n",
    "user_with_energy_2.sync_nonce(context.network_provider.proxy)\n",
    "fees_collector_contract.claim_rewards(user_with_energy_2, proxy) #4 blocks\n",
    "chain_sim.advance_blocks(5)"
   ]
  },
  {
   "cell_type": "code",
   "execution_count": null,
   "metadata": {},
   "outputs": [],
   "source": [
    "chain_sim.advance_blocks(1)       "
   ]
  },
  {
   "cell_type": "code",
   "execution_count": null,
   "metadata": {},
   "outputs": [],
   "source": [
    "chain_sim.advance_epochs(7)"
   ]
  },
  {
   "cell_type": "code",
   "execution_count": null,
   "metadata": {},
   "outputs": [],
   "source": [
    "chain_sim.advance_epochs_to_epoch(get_next_week_start_epoch())"
   ]
  }
 ],
 "metadata": {
  "kernelspec": {
   "display_name": "venv",
   "language": "python",
   "name": "python3"
  },
  "language_info": {
   "codemirror_mode": {
    "name": "ipython",
    "version": 3
   },
   "file_extension": ".py",
   "mimetype": "text/x-python",
   "name": "python",
   "nbconvert_exporter": "python",
   "pygments_lexer": "ipython3",
   "version": "3.13.3"
  }
 },
 "nbformat": 4,
 "nbformat_minor": 2
}
