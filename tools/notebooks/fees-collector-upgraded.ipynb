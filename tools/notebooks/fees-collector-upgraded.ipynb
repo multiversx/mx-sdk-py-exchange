{
 "cells": [
  {
   "cell_type": "markdown",
   "metadata": {},
   "source": [
    "### INIT"
   ]
  },
  {
   "cell_type": "code",
   "execution_count": 1,
   "metadata": {},
   "outputs": [
    {
     "name": "stderr",
     "output_type": "stream",
     "text": [
      "\u001b[38;20m2025-04-24 17:12:42,598 - DEBUG - Account.sync_nonce() done: 89\u001b[0m\n"
     ]
    },
    {
     "name": "stdout",
     "output_type": "stream",
     "text": [
      "loaded 1 accounts from 1 PEM files.\n"
     ]
    },
    {
     "name": "stderr",
     "output_type": "stream",
     "text": [
      "\u001b[38;20m2025-04-24 17:12:42,789 - DEBUG - Account.sync_nonce() done: 89\u001b[0m\n",
      "\u001b[93m2025-04-24 17:12:42,790 - WARNING - Loaded 16 tokens instead of expected 15.\u001b[0m\n",
      "\u001b[38;20m2025-04-24 17:12:42,898 - DEBUG - Account.sync_nonce() done: 89\u001b[0m\n",
      "\u001b[92m2025-04-24 17:12:42,900 - INFO - Loaded 3 egld_wraps out of expected 3.\u001b[0m\n",
      "\u001b[92m2025-04-24 17:12:42,902 - INFO - Loaded 1 locked_assets out of expected 1.\u001b[0m\n",
      "\u001b[92m2025-04-24 17:12:42,903 - INFO - Loaded 1 proxies out of expected 1.\u001b[0m\n",
      "\u001b[92m2025-04-24 17:12:42,905 - INFO - Loaded 0 simple_locks out of expected 0.\u001b[0m\n",
      "\u001b[92m2025-04-24 17:12:42,907 - INFO - Loaded 1 simple_locks_energy out of expected 1.\u001b[0m\n",
      "\u001b[92m2025-04-24 17:12:42,909 - INFO - Loaded 1 fees_collectors out of expected 1.\u001b[0m\n",
      "\u001b[92m2025-04-24 17:12:42,910 - INFO - Loaded 1 unstakers out of expected 1.\u001b[0m\n",
      "\u001b[92m2025-04-24 17:12:42,911 - INFO - Loaded 1 proxies_v2 out of expected 1.\u001b[0m\n",
      "\u001b[92m2025-04-24 17:12:42,912 - INFO - Loaded 1 position_creator out of expected 1.\u001b[0m\n",
      "\u001b[92m2025-04-24 17:12:42,913 - INFO - Loaded 1 locked_token_position_creator out of expected 1.\u001b[0m\n",
      "\u001b[92m2025-04-24 17:12:42,914 - INFO - Loaded 0 router out of expected 0.\u001b[0m\n",
      "\u001b[92m2025-04-24 17:12:42,915 - INFO - Loaded 1 router_v2 out of expected 1.\u001b[0m\n",
      "\u001b[92m2025-04-24 17:12:42,916 - INFO - Loaded 0 pairs out of expected 0.\u001b[0m\n",
      "\u001b[92m2025-04-24 17:12:42,917 - INFO - Loaded 13 pairs_v2 out of expected 13.\u001b[0m\n",
      "\u001b[92m2025-04-24 17:12:42,917 - INFO - Loaded 1 pairs_view out of expected 1.\u001b[0m\n",
      "\u001b[92m2025-04-24 17:12:42,918 - INFO - Loaded 1 permissions_hubs out of expected 1.\u001b[0m\n",
      "\u001b[92m2025-04-24 17:12:42,918 - INFO - Loaded 0 farms_community out of expected 0.\u001b[0m\n",
      "\u001b[92m2025-04-24 17:12:42,919 - INFO - Loaded 0 farms_unlocked out of expected 0.\u001b[0m\n",
      "\u001b[92m2025-04-24 17:12:42,920 - INFO - Loaded 0 farms_locked out of expected 0.\u001b[0m\n",
      "\u001b[92m2025-04-24 17:12:42,920 - INFO - Loaded 0 proxy_deployers out of expected 0.\u001b[0m\n",
      "\u001b[92m2025-04-24 17:12:42,921 - INFO - Loaded 14 farms_boosted out of expected 14.\u001b[0m\n",
      "\u001b[92m2025-04-24 17:12:42,921 - INFO - Loaded 0 price_discoveries out of expected 0.\u001b[0m\n",
      "\u001b[92m2025-04-24 17:12:42,922 - INFO - Loaded 0 stakings out of expected 0.\u001b[0m\n",
      "\u001b[92m2025-04-24 17:12:42,923 - INFO - Loaded 8 stakings_v2 out of expected 8.\u001b[0m\n",
      "\u001b[92m2025-04-24 17:12:42,924 - INFO - Loaded 3 stakings_boosted out of expected 3.\u001b[0m\n",
      "\u001b[92m2025-04-24 17:12:42,924 - INFO - Loaded 0 metastakings out of expected 0.\u001b[0m\n",
      "\u001b[92m2025-04-24 17:12:42,925 - INFO - Loaded 4 metastakings_v2 out of expected 4.\u001b[0m\n",
      "\u001b[92m2025-04-24 17:12:42,926 - INFO - Loaded 1 metastakings_boosted out of expected 1.\u001b[0m\n",
      "\u001b[92m2025-04-24 17:12:42,926 - INFO - Loaded 1 escrows out of expected 1.\u001b[0m\n",
      "\u001b[92m2025-04-24 17:12:42,927 - INFO - Loaded 1 lk_wraps out of expected 1.\u001b[0m\n",
      "\u001b[92m2025-04-24 17:12:42,927 - INFO - Loaded 1 governances out of expected 1.\u001b[0m\n",
      "\u001b[92m2025-04-24 17:12:42,928 - INFO - Loaded 1 composable_tasks out of expected 1.\u001b[0m\n",
      "\u001b[38;20m2025-04-24 17:12:43,099 - DEBUG - Account.sync_nonce() done: 89\u001b[0m\n",
      "\u001b[92m2025-04-24 17:12:43,101 - INFO - Deployed contracts below:\u001b[0m\n",
      "\u001b[92m2025-04-24 17:12:43,102 - INFO - egld_wraps:\u001b[0m\n",
      "\u001b[92m2025-04-24 17:12:43,104 - INFO - Deployed egld wrapper contract: erd1qqqqqqqqqqqqqpgqvc7gdl0p4s97guh498wgz75k8sav6sjfjlwqh679jy\u001b[0m\n",
      "\u001b[92m2025-04-24 17:12:43,105 - INFO - Deployed egld wrapper contract: erd1qqqqqqqqqqqqqpgqhe8t5jewej70zupmh44jurgn29psua5l2jps3ntjj3\u001b[0m\n",
      "\u001b[92m2025-04-24 17:12:43,106 - INFO - Deployed egld wrapper contract: erd1qqqqqqqqqqqqqpgqmuk0q2saj0mgutxm4teywre6dl8wqf58xamqdrukln\u001b[0m\n",
      "\u001b[92m2025-04-24 17:12:43,108 - INFO - locked_assets:\u001b[0m\n",
      "\u001b[92m2025-04-24 17:12:43,110 - INFO - Deployed locked asset contract: erd1qqqqqqqqqqqqqpgqjpt0qqgsrdhp2xqygpjtfrpwf76f9nvg2jpsg4q7th\u001b[0m\n",
      "\u001b[92m2025-04-24 17:12:43,110 - INFO -  ├ Unlocked token: MEX-455c57\u001b[0m\n",
      "\u001b[92m2025-04-24 17:12:43,111 - INFO -  ├ Locked token: LKMEX-aab910\u001b[0m\n",
      "\u001b[92m2025-04-24 17:12:43,114 - INFO - proxies:\u001b[0m\n",
      "\u001b[92m2025-04-24 17:12:43,115 - INFO - Deployed proxy contract: erd1qqqqqqqqqqqqqpgqrc4pg2xarca9z34njcxeur622qmfjp8w2jps89fxnl\u001b[0m\n",
      "\u001b[92m2025-04-24 17:12:43,115 - INFO -  ├ Token: MEX-455c57\u001b[0m\n",
      "\u001b[92m2025-04-24 17:12:43,116 - INFO -  ├ Locked tokens: ['LKMEX-aab910']\u001b[0m\n",
      "\u001b[92m2025-04-24 17:12:43,116 - INFO -  ├ Proxy LP token: LKLP-03a2fa\u001b[0m\n",
      "\u001b[92m2025-04-24 17:12:43,117 - INFO -  ├ Proxy Farm token: LKFARM-9d1ea8\u001b[0m\n",
      "\u001b[92m2025-04-24 17:12:43,117 - INFO - simple_locks:\u001b[0m\n",
      "\u001b[92m2025-04-24 17:12:43,117 - INFO - simple_locks_energy:\u001b[0m\n",
      "\u001b[92m2025-04-24 17:12:43,118 - INFO - Deployed simple lock energy contract: erd1qqqqqqqqqqqqqpgq0tajepcazernwt74820t8ef7t28vjfgukp2sw239f3\u001b[0m\n",
      "\u001b[92m2025-04-24 17:12:43,118 - INFO -  ├ Base token: MEX-455c57\u001b[0m\n",
      "\u001b[92m2025-04-24 17:12:43,118 - INFO -  ├ Locked token: XMEX-fda355\u001b[0m\n",
      "\u001b[92m2025-04-24 17:12:43,119 - INFO -  ├ Locked LP token: \u001b[0m\n",
      "\u001b[92m2025-04-24 17:12:43,119 - INFO -  ├ Locked Farm token: \u001b[0m\n",
      "\u001b[92m2025-04-24 17:12:43,119 - INFO - fees_collectors:\u001b[0m\n",
      "\u001b[92m2025-04-24 17:12:43,120 - INFO - Deployed fees collector contract: erd1qqqqqqqqqqqqqpgqjsnxqprks7qxfwkcg2m2v9hxkrchgm9akp2segrswt\u001b[0m\n",
      "\u001b[92m2025-04-24 17:12:43,120 - INFO - unstakers:\u001b[0m\n",
      "\u001b[92m2025-04-24 17:12:43,120 - INFO - Deployed token unstake contract: erd1qqqqqqqqqqqqqpgqxv0y4p6vvszrknaztatycac77yvsxqrrkp2sghd86c\u001b[0m\n",
      "\u001b[92m2025-04-24 17:12:43,120 - INFO - proxies_v2:\u001b[0m\n",
      "\u001b[92m2025-04-24 17:12:43,121 - INFO - Deployed proxy contract: erd1qqqqqqqqqqqqqpgqt6ltx52ukss9d2qag2k67at28a36xc9lkp2sr06394\u001b[0m\n",
      "\u001b[92m2025-04-24 17:12:43,121 - INFO -  ├ Token: MEX-455c57\u001b[0m\n",
      "\u001b[92m2025-04-24 17:12:43,121 - INFO -  ├ Locked tokens: ['LKMEX-aab910', 'XMEX-fda355']\u001b[0m\n",
      "\u001b[92m2025-04-24 17:12:43,121 - INFO -  ├ Proxy LP token: XMEXLP-2cbdce\u001b[0m\n",
      "\u001b[92m2025-04-24 17:12:43,122 - INFO -  ├ Proxy Farm token: XMEXFARM-e0a3dc\u001b[0m\n",
      "\u001b[92m2025-04-24 17:12:43,122 - INFO - position_creator:\u001b[0m\n",
      "\u001b[92m2025-04-24 17:12:43,122 - INFO - Deployed position creator contract: erd1qqqqqqqqqqqqqpgq43cyf9yjfy79ey0cax55kenxgpefhayk2jps6zt793\u001b[0m\n",
      "\u001b[92m2025-04-24 17:12:43,122 - INFO -  ├ EGLD Wrapper address: \u001b[0m\n",
      "\u001b[92m2025-04-24 17:12:43,122 - INFO -  ├ Router address: \u001b[0m\n",
      "\u001b[92m2025-04-24 17:12:43,122 - INFO - locked_token_position_creator:\u001b[0m\n",
      "\u001b[92m2025-04-24 17:12:43,123 - INFO - Deployed locked token position creator contract: erd1qqqqqqqqqqqqqpgqwtyu7d5qw322smp0kjq789ua0wtz5cfa2jpsu999xr\u001b[0m\n",
      "\u001b[92m2025-04-24 17:12:43,123 - INFO -  ├ Energy Factory address: \u001b[0m\n",
      "\u001b[92m2025-04-24 17:12:43,123 - INFO -  ├ EGLD Wrapper address: \u001b[0m\n",
      "\u001b[92m2025-04-24 17:12:43,123 - INFO -  ├ Mex-Wegld LP Pair address: \u001b[0m\n",
      "\u001b[92m2025-04-24 17:12:43,123 - INFO -  ├ Mex-Wegld LP Farm address: \u001b[0m\n",
      "\u001b[92m2025-04-24 17:12:43,124 - INFO -  ├ Proxy Dex address: \u001b[0m\n",
      "\u001b[92m2025-04-24 17:12:43,124 - INFO -  ├ Router address: \u001b[0m\n",
      "\u001b[92m2025-04-24 17:12:43,125 - INFO - router:\u001b[0m\n",
      "\u001b[92m2025-04-24 17:12:43,125 - INFO - router_v2:\u001b[0m\n",
      "\u001b[92m2025-04-24 17:12:43,125 - INFO - Deployed router contract: erd1qqqqqqqqqqqqqpgqq66xk9gfr4esuhem3jru86wg5hvp33a62jps2fy57p\u001b[0m\n",
      "\u001b[92m2025-04-24 17:12:43,126 - INFO - pairs:\u001b[0m\n",
      "\u001b[92m2025-04-24 17:12:43,126 - INFO - pairs_v2:\u001b[0m\n",
      "\u001b[92m2025-04-24 17:12:43,126 - INFO - Deployed pair contract: erd1qqqqqqqqqqqqqpgqa0fsfshnff4n76jhcye6k7uvd7qacsq42jpsp6shh2\u001b[0m\n",
      "\u001b[92m2025-04-24 17:12:43,127 - INFO -  ├ First token: WEGLD-bd4d79\u001b[0m\n",
      "\u001b[92m2025-04-24 17:12:43,127 - INFO -  ├ Second token: MEX-455c57\u001b[0m\n",
      "\u001b[92m2025-04-24 17:12:43,127 - INFO -  ├ LP token: EGLDMEX-0be9e5\u001b[0m\n",
      "\u001b[92m2025-04-24 17:12:43,127 - INFO - Deployed pair contract: erd1qqqqqqqqqqqqqpgqeel2kumf0r8ffyhth7pqdujjat9nx0862jpsg2pqaq\u001b[0m\n",
      "\u001b[92m2025-04-24 17:12:43,128 - INFO -  ├ First token: WEGLD-bd4d79\u001b[0m\n",
      "\u001b[92m2025-04-24 17:12:43,129 - INFO -  ├ Second token: USDC-c76f1f\u001b[0m\n",
      "\u001b[92m2025-04-24 17:12:43,129 - INFO -  ├ LP token: EGLDUSDC-594e5e\u001b[0m\n",
      "\u001b[92m2025-04-24 17:12:43,129 - INFO - Deployed pair contract: erd1qqqqqqqqqqqqqpgqav09xenkuqsdyeyy5evqyhuusvu4gl3t2jpss57g8x\u001b[0m\n",
      "\u001b[92m2025-04-24 17:12:43,129 - INFO -  ├ First token: WEGLD-bd4d79\u001b[0m\n",
      "\u001b[92m2025-04-24 17:12:43,129 - INFO -  ├ Second token: RIDE-7d18e9\u001b[0m\n",
      "\u001b[92m2025-04-24 17:12:43,130 - INFO -  ├ LP token: EGLDRIDE-7bd51a\u001b[0m\n",
      "\u001b[92m2025-04-24 17:12:43,130 - INFO - Deployed pair contract: erd1qqqqqqqqqqqqqpgqpmud7t8uprrxzgu8eq2mtkl08kesflj62jps9j8dyh\u001b[0m\n",
      "\u001b[92m2025-04-24 17:12:43,130 - INFO -  ├ First token: ITHEUM-df6f26\u001b[0m\n",
      "\u001b[92m2025-04-24 17:12:43,130 - INFO -  ├ Second token: WEGLD-bd4d79\u001b[0m\n",
      "\u001b[92m2025-04-24 17:12:43,131 - INFO -  ├ LP token: ITHWEGLD-1adc53\u001b[0m\n",
      "\u001b[92m2025-04-24 17:12:43,131 - INFO - Deployed pair contract: erd1qqqqqqqqqqqqqpgq0lzzvt2faev4upyf586tg38s84d7zsaj2jpsglugga\u001b[0m\n",
      "\u001b[92m2025-04-24 17:12:43,131 - INFO -  ├ First token: UTK-2f80e9\u001b[0m\n",
      "\u001b[92m2025-04-24 17:12:43,131 - INFO -  ├ Second token: WEGLD-bd4d79\u001b[0m\n",
      "\u001b[92m2025-04-24 17:12:43,131 - INFO -  ├ LP token: UTKWEGLD-c960d1\u001b[0m\n",
      "\u001b[92m2025-04-24 17:12:43,132 - INFO - Deployed pair contract: erd1qqqqqqqqqqqqqpgqf57y8m9krsvrceqxujngzm77p82zqc502jpsnnezqs\u001b[0m\n",
      "\u001b[92m2025-04-24 17:12:43,132 - INFO -  ├ First token: CRT-52decf\u001b[0m\n",
      "\u001b[92m2025-04-24 17:12:43,133 - INFO -  ├ Second token: WEGLD-bd4d79\u001b[0m\n",
      "\u001b[92m2025-04-24 17:12:43,133 - INFO -  ├ LP token: CRTWEGLD-1fac3f\u001b[0m\n",
      "\u001b[92m2025-04-24 17:12:43,133 - INFO - Deployed pair contract: erd1qqqqqqqqqqqqqpgqp5d4x3d263x4alnapwafwujch5xqmvyq2jpsk2xhsy\u001b[0m\n",
      "\u001b[92m2025-04-24 17:12:43,133 - INFO -  ├ First token: ASH-a642d1\u001b[0m\n",
      "\u001b[92m2025-04-24 17:12:43,134 - INFO -  ├ Second token: WEGLD-bd4d79\u001b[0m\n",
      "\u001b[92m2025-04-24 17:12:43,134 - INFO -  ├ LP token: ASHWEGLD-38545c\u001b[0m\n",
      "\u001b[92m2025-04-24 17:12:43,134 - INFO - Deployed pair contract: erd1qqqqqqqqqqqqqpgqtjhhs49h0q2ncld64l3thtk7s7yuw47v2jps8emt0v\u001b[0m\n",
      "\u001b[92m2025-04-24 17:12:43,135 - INFO -  ├ First token: ZPAY-247875\u001b[0m\n",
      "\u001b[92m2025-04-24 17:12:43,135 - INFO -  ├ Second token: WEGLD-bd4d79\u001b[0m\n",
      "\u001b[92m2025-04-24 17:12:43,136 - INFO -  ├ LP token: ZPAYWEGLD-34e5c1\u001b[0m\n",
      "\u001b[92m2025-04-24 17:12:43,136 - INFO - Deployed pair contract: erd1qqqqqqqqqqqqqpgqp32ecg03fyxgt2pf2fsxyg4knvhfvtgz2jps6rx6gf\u001b[0m\n",
      "\u001b[92m2025-04-24 17:12:43,136 - INFO -  ├ First token: BHAT-c1fde3\u001b[0m\n",
      "\u001b[92m2025-04-24 17:12:43,137 - INFO -  ├ Second token: WEGLD-bd4d79\u001b[0m\n",
      "\u001b[92m2025-04-24 17:12:43,137 - INFO -  ├ LP token: BHATWEGLD-f45935\u001b[0m\n",
      "\u001b[92m2025-04-24 17:12:43,137 - INFO - Deployed pair contract: erd1qqqqqqqqqqqqqpgq5jnjpsukhl295ry3wjrd3gtff0amrgux2jpsz3reum\u001b[0m\n",
      "\u001b[92m2025-04-24 17:12:43,137 - INFO -  ├ First token: FOXSY-5d5f3e\u001b[0m\n",
      "\u001b[92m2025-04-24 17:12:43,138 - INFO -  ├ Second token: WEGLD-bd4d79\u001b[0m\n",
      "\u001b[92m2025-04-24 17:12:43,138 - INFO -  ├ LP token: FOXSYWEGLD-2a5635\u001b[0m\n",
      "\u001b[92m2025-04-24 17:12:43,138 - INFO - Deployed pair contract: erd1qqqqqqqqqqqqqpgqv0c22xku4vd5ugfh0u53tqufmdkqx5nv2jps8vsccx\u001b[0m\n",
      "\u001b[92m2025-04-24 17:12:43,138 - INFO -  ├ First token: MEX-455c57\u001b[0m\n",
      "\u001b[92m2025-04-24 17:12:43,138 - INFO -  ├ Second token: USDC-c76f1f\u001b[0m\n",
      "\u001b[92m2025-04-24 17:12:43,139 - INFO -  ├ LP token: MEXUSDC-a57860\u001b[0m\n",
      "\u001b[92m2025-04-24 17:12:43,139 - INFO - Deployed pair contract: erd1qqqqqqqqqqqqqpgqthhxe87ulznhhm72jekexj9rwqzu3zsv2jps88erau\u001b[0m\n",
      "\u001b[92m2025-04-24 17:12:43,139 - INFO -  ├ First token: KWAK-469ab0\u001b[0m\n",
      "\u001b[92m2025-04-24 17:12:43,139 - INFO -  ├ Second token: WEGLD-bd4d79\u001b[0m\n",
      "\u001b[92m2025-04-24 17:12:43,140 - INFO -  ├ LP token: KWAKWEGLD-014bfc\u001b[0m\n",
      "\u001b[92m2025-04-24 17:12:43,140 - INFO - Deployed pair contract: erd1qqqqqqqqqqqqqpgqyghvzwv9qyzq95vwhvk4tafg945r8hcf2jps0x7me7\u001b[0m\n",
      "\u001b[92m2025-04-24 17:12:43,140 - INFO -  ├ First token: MEX-455c57\u001b[0m\n",
      "\u001b[92m2025-04-24 17:12:43,141 - INFO -  ├ Second token: USH-111e09\u001b[0m\n",
      "\u001b[92m2025-04-24 17:12:43,141 - INFO -  ├ LP token: MEXUSH-179240\u001b[0m\n",
      "\u001b[92m2025-04-24 17:12:43,141 - INFO - pairs_view:\u001b[0m\n",
      "\u001b[92m2025-04-24 17:12:43,141 - INFO - Deployed pair contract: erd1qqqqqqqqqqqqqpgqtce4z8zzz76xjht3hak0hseshcmj3ush2jps2exxjn\u001b[0m\n",
      "\u001b[92m2025-04-24 17:12:43,142 - INFO -  ├ First token: \u001b[0m\n",
      "\u001b[92m2025-04-24 17:12:43,142 - INFO -  ├ Second token: \u001b[0m\n",
      "\u001b[92m2025-04-24 17:12:43,142 - INFO -  ├ LP token: \u001b[0m\n",
      "\u001b[92m2025-04-24 17:12:43,142 - INFO - permissions_hubs:\u001b[0m\n",
      "\u001b[92m2025-04-24 17:12:43,143 - INFO - Deployed permissions hub contract: erd1qqqqqqqqqqqqqpgq0a80r53sla2lx8wyfhqnz69prntkefs42jps3tdchu\u001b[0m\n",
      "\u001b[92m2025-04-24 17:12:43,143 - INFO - farms_community:\u001b[0m\n",
      "\u001b[92m2025-04-24 17:12:43,143 - INFO - farms_unlocked:\u001b[0m\n",
      "\u001b[92m2025-04-24 17:12:43,143 - INFO - farms_locked:\u001b[0m\n",
      "\u001b[92m2025-04-24 17:12:43,144 - INFO - proxy_deployers:\u001b[0m\n",
      "\u001b[92m2025-04-24 17:12:43,144 - INFO - farms_boosted:\u001b[0m\n",
      "\u001b[92m2025-04-24 17:12:43,144 - INFO - Deployed farm contract: erd1qqqqqqqqqqqqqpgqapxdp9gjxtg60mjwhle3n6h88zch9e7kkp2s8aqhkg\u001b[0m\n",
      "\u001b[92m2025-04-24 17:12:43,144 - INFO -  ├ Farming token: EGLDMEX-0be9e5\u001b[0m\n",
      "\u001b[92m2025-04-24 17:12:43,144 - INFO -  ├ Farmed token: MEX-455c57\u001b[0m\n",
      "\u001b[92m2025-04-24 17:12:43,145 - INFO -  ├ Farm token: EGLDMEXFL-c2521e\u001b[0m\n",
      "\u001b[92m2025-04-24 17:12:43,145 - INFO - Deployed farm contract: erd1qqqqqqqqqqqqqpgqv0pz5z3fkz54nml6pkzzdruuf020gqzykp2sya7kkv\u001b[0m\n",
      "\u001b[92m2025-04-24 17:12:43,145 - INFO -  ├ Farming token: EGLDUSDC-594e5e\u001b[0m\n",
      "\u001b[92m2025-04-24 17:12:43,146 - INFO -  ├ Farmed token: MEX-455c57\u001b[0m\n",
      "\u001b[92m2025-04-24 17:12:43,146 - INFO -  ├ Farm token: EGLDUSDCFL-45109b\u001b[0m\n",
      "\u001b[92m2025-04-24 17:12:43,147 - INFO - Deployed farm contract: erd1qqqqqqqqqqqqqpgqenvn0s3ldc94q2mlkaqx4arj3zfnvnmakp2sxca2h9\u001b[0m\n",
      "\u001b[92m2025-04-24 17:12:43,147 - INFO -  ├ Farming token: EGLDRIDE-7bd51a\u001b[0m\n",
      "\u001b[92m2025-04-24 17:12:43,147 - INFO -  ├ Farmed token: MEX-455c57\u001b[0m\n",
      "\u001b[92m2025-04-24 17:12:43,147 - INFO -  ├ Farm token: EGLDRIDEFL-7aac94\u001b[0m\n",
      "\u001b[92m2025-04-24 17:12:43,147 - INFO - Deployed farm contract: erd1qqqqqqqqqqqqqpgqrdq6zvepdxg36rey8pmluwur43q4hcx3kp2su4yltq\u001b[0m\n",
      "\u001b[92m2025-04-24 17:12:43,147 - INFO -  ├ Farming token: ITHWEGLD-1adc53\u001b[0m\n",
      "\u001b[92m2025-04-24 17:12:43,147 - INFO -  ├ Farmed token: MEX-455c57\u001b[0m\n",
      "\u001b[92m2025-04-24 17:12:43,148 - INFO -  ├ Farm token: ITHWEGLDFL-7d381f\u001b[0m\n",
      "\u001b[92m2025-04-24 17:12:43,148 - INFO - Deployed farm contract: erd1qqqqqqqqqqqqqpgq4acurmluezvmhna8tztgcrnwh0l70a2wkp2sfh6jkp\u001b[0m\n",
      "\u001b[92m2025-04-24 17:12:43,148 - INFO -  ├ Farming token: UTKWEGLD-c960d1\u001b[0m\n",
      "\u001b[92m2025-04-24 17:12:43,148 - INFO -  ├ Farmed token: MEX-455c57\u001b[0m\n",
      "\u001b[92m2025-04-24 17:12:43,149 - INFO -  ├ Farm token: UTKWEGLDFL-ba26d2\u001b[0m\n",
      "\u001b[92m2025-04-24 17:12:43,149 - INFO - Deployed farm contract: erd1qqqqqqqqqqqqqpgquhqfknr9dg5t0xma0zcc55dm8gwv5rpkkp2sq8f40p\u001b[0m\n",
      "\u001b[92m2025-04-24 17:12:43,149 - INFO -  ├ Farming token: CRTWEGLD-1fac3f\u001b[0m\n",
      "\u001b[92m2025-04-24 17:12:43,149 - INFO -  ├ Farmed token: MEX-455c57\u001b[0m\n",
      "\u001b[92m2025-04-24 17:12:43,150 - INFO -  ├ Farm token: CRTWEGLDFL-4fd518\u001b[0m\n",
      "\u001b[92m2025-04-24 17:12:43,150 - INFO - Deployed farm contract: erd1qqqqqqqqqqqqqpgq6v5ta4memvrhjs4x3gqn90c3pujc77takp2sqhxm9j\u001b[0m\n",
      "\u001b[92m2025-04-24 17:12:43,150 - INFO -  ├ Farming token: ASHWEGLD-38545c\u001b[0m\n",
      "\u001b[92m2025-04-24 17:12:43,150 - INFO -  ├ Farmed token: MEX-455c57\u001b[0m\n",
      "\u001b[92m2025-04-24 17:12:43,151 - INFO -  ├ Farm token: ASHWEGLDFL-9612cf\u001b[0m\n",
      "\u001b[92m2025-04-24 17:12:43,151 - INFO - Deployed farm contract: erd1qqqqqqqqqqqqqpgqqqckvlhd3n7ntt5w3vln4xh3tsfpj0hr2jpsxlzgcj\u001b[0m\n",
      "\u001b[92m2025-04-24 17:12:43,151 - INFO -  ├ Farming token: ZPAYWEGLD-34e5c1\u001b[0m\n",
      "\u001b[92m2025-04-24 17:12:43,152 - INFO -  ├ Farmed token: MEX-455c57\u001b[0m\n",
      "\u001b[92m2025-04-24 17:12:43,152 - INFO -  ├ Farm token: ZPAYEGLDFL-4faf85\u001b[0m\n",
      "\u001b[92m2025-04-24 17:12:43,153 - INFO - Deployed farm contract: erd1qqqqqqqqqqqqqpgqcfkmz2j0e8pj0nzuk9j6mzcav0wpthq52jpsg546ch\u001b[0m\n",
      "\u001b[92m2025-04-24 17:12:43,153 - INFO -  ├ Farming token: BHATWEGLD-f45935\u001b[0m\n",
      "\u001b[92m2025-04-24 17:12:43,154 - INFO -  ├ Farmed token: MEX-455c57\u001b[0m\n",
      "\u001b[92m2025-04-24 17:12:43,154 - INFO -  ├ Farm token: BHATEGLDFL-259b84\u001b[0m\n",
      "\u001b[92m2025-04-24 17:12:43,154 - INFO - Deployed farm contract: erd1qqqqqqqqqqqqqpgqu288dj3qgrelujal5wynsv5zrf7u0hwlkp2se383n7\u001b[0m\n",
      "\u001b[92m2025-04-24 17:12:43,155 - INFO -  ├ Farming token: FOXSYWEGLD-2a5635\u001b[0m\n",
      "\u001b[92m2025-04-24 17:12:43,155 - INFO -  ├ Farmed token: MEX-455c57\u001b[0m\n",
      "\u001b[92m2025-04-24 17:12:43,156 - INFO -  ├ Farm token: FOXSEGLDFL-f10836\u001b[0m\n",
      "\u001b[92m2025-04-24 17:12:43,156 - INFO - Deployed farm contract: erd1qqqqqqqqqqqqqpgqtdc0rzjwmp9qs0h0wj9pjwxnp5vjc9hdkp2swd4dxz\u001b[0m\n",
      "\u001b[92m2025-04-24 17:12:43,156 - INFO -  ├ Farming token: EGLDMEX-0be9e5\u001b[0m\n",
      "\u001b[92m2025-04-24 17:12:43,157 - INFO -  ├ Farmed token: MEX-455c57\u001b[0m\n",
      "\u001b[92m2025-04-24 17:12:43,157 - INFO -  ├ Farm token: EGLDMEXFL-a51a1d\u001b[0m\n",
      "\u001b[92m2025-04-24 17:12:43,158 - INFO - Deployed farm contract: erd1qqqqqqqqqqqqqpgqzfy62c66hjuu9lm2c9mr4gcver9lmnydkp2st70eq5\u001b[0m\n",
      "\u001b[92m2025-04-24 17:12:43,159 - INFO -  ├ Farming token: MEXUSDC-a57860\u001b[0m\n",
      "\u001b[92m2025-04-24 17:12:43,159 - INFO -  ├ Farmed token: MEX-455c57\u001b[0m\n",
      "\u001b[92m2025-04-24 17:12:43,159 - INFO -  ├ Farm token: MEXUSDCFL-f9379f\u001b[0m\n",
      "\u001b[92m2025-04-24 17:12:43,160 - INFO - Deployed farm contract: erd1qqqqqqqqqqqqqpgqgg42sl557vh7rwt600w76pe48u64qngmkp2sl8mrfx\u001b[0m\n",
      "\u001b[92m2025-04-24 17:12:43,160 - INFO -  ├ Farming token: KWAKWEGLD-014bfc\u001b[0m\n",
      "\u001b[92m2025-04-24 17:12:43,161 - INFO -  ├ Farmed token: MEX-455c57\u001b[0m\n",
      "\u001b[92m2025-04-24 17:12:43,161 - INFO -  ├ Farm token: KWAKEGLDFL-891492\u001b[0m\n",
      "\u001b[92m2025-04-24 17:12:43,162 - INFO - Deployed farm contract: erd1qqqqqqqqqqqqqpgqx6qadfnrgfqkgfmq5nj92j3u2qm2yfs9kp2say42ng\u001b[0m\n",
      "\u001b[92m2025-04-24 17:12:43,162 - INFO -  ├ Farming token: MEXUSH-179240\u001b[0m\n",
      "\u001b[92m2025-04-24 17:12:43,162 - INFO -  ├ Farmed token: MEX-455c57\u001b[0m\n",
      "\u001b[92m2025-04-24 17:12:43,163 - INFO -  ├ Farm token: MEXUSHFL-c05c82\u001b[0m\n",
      "\u001b[92m2025-04-24 17:12:43,163 - INFO - price_discoveries:\u001b[0m\n",
      "\u001b[92m2025-04-24 17:12:43,163 - INFO - stakings:\u001b[0m\n",
      "\u001b[92m2025-04-24 17:12:43,164 - INFO - stakings_v2:\u001b[0m\n",
      "\u001b[92m2025-04-24 17:12:43,164 - INFO - Deployed staking contract: erd1qqqqqqqqqqqqqpgqmqq78c5htmdnws8hm5u4suvags36eq092jpsaxv3e7\u001b[0m\n",
      "\u001b[92m2025-04-24 17:12:43,164 - INFO -  ├ Staking token: RIDE-7d18e9\u001b[0m\n",
      "\u001b[92m2025-04-24 17:12:43,165 - INFO -  ├ Stake token: SRIDE-4ab1d4\u001b[0m\n",
      "\u001b[92m2025-04-24 17:12:43,165 - INFO - Deployed staking contract: erd1qqqqqqqqqqqqqpgqr7kdhagkqgxvjrsk7s5333l9wwnenr9g2jps8puq33\u001b[0m\n",
      "\u001b[92m2025-04-24 17:12:43,165 - INFO -  ├ Staking token: ZPAY-247875\u001b[0m\n",
      "\u001b[92m2025-04-24 17:12:43,166 - INFO -  ├ Stake token: SZPAY-9f1b39\u001b[0m\n",
      "\u001b[92m2025-04-24 17:12:43,166 - INFO - Deployed staking contract: erd1qqqqqqqqqqqqqpgqzps75vsk97w9nsx2cenv2r2tyxl4fl402jpsx78m9j\u001b[0m\n",
      "\u001b[92m2025-04-24 17:12:43,166 - INFO -  ├ Staking token: ITHEUM-df6f26\u001b[0m\n",
      "\u001b[92m2025-04-24 17:12:43,167 - INFO -  ├ Stake token: SITHEUM-e05083\u001b[0m\n",
      "\u001b[92m2025-04-24 17:12:43,167 - INFO - Deployed staking contract: erd1qqqqqqqqqqqqqpgq45zs77q884ts6y9zj4jyqfn6ydev8ruv2jps3tteqq\u001b[0m\n",
      "\u001b[92m2025-04-24 17:12:43,168 - INFO -  ├ Staking token: BHAT-c1fde3\u001b[0m\n",
      "\u001b[92m2025-04-24 17:12:43,168 - INFO -  ├ Stake token: SBHAT-89efd3\u001b[0m\n",
      "\u001b[92m2025-04-24 17:12:43,169 - INFO - Deployed staking contract: erd1qqqqqqqqqqqqqpgqcedkmj8ezme6mtautj79ngv7fez978le2jps8jtawn\u001b[0m\n",
      "\u001b[92m2025-04-24 17:12:43,170 - INFO -  ├ Staking token: UTK-2f80e9\u001b[0m\n",
      "\u001b[92m2025-04-24 17:12:43,170 - INFO -  ├ Stake token: SUTK-ba35f3\u001b[0m\n",
      "\u001b[92m2025-04-24 17:12:43,170 - INFO - Deployed staking contract: erd1qqqqqqqqqqqqqpgqp2wfzvkhlpkwcdxx25qzznx33345979w2jpsl3gflj\u001b[0m\n",
      "\u001b[92m2025-04-24 17:12:43,171 - INFO -  ├ Staking token: CRT-52decf\u001b[0m\n",
      "\u001b[92m2025-04-24 17:12:43,171 - INFO -  ├ Stake token: SCRT-acbd64\u001b[0m\n",
      "\u001b[92m2025-04-24 17:12:43,171 - INFO - Deployed staking contract: erd1qqqqqqqqqqqqqpgqjdlnu9ggwfc79pygn5fjjgmdm6d7vu5e2jpsw59amp\u001b[0m\n",
      "\u001b[92m2025-04-24 17:12:43,172 - INFO -  ├ Staking token: ASH-a642d1\u001b[0m\n",
      "\u001b[92m2025-04-24 17:12:43,172 - INFO -  ├ Stake token: SASH-3671bd\u001b[0m\n",
      "\u001b[92m2025-04-24 17:12:43,172 - INFO - Deployed staking contract: erd1qqqqqqqqqqqqqpgq2e4fmlhcv90wrxl2acjpcu3g2l9rpkttx9rs8pppzp\u001b[0m\n",
      "\u001b[92m2025-04-24 17:12:43,173 - INFO -  ├ Staking token: FOXSY-5d5f3e\u001b[0m\n",
      "\u001b[92m2025-04-24 17:12:43,173 - INFO -  ├ Stake token: SFOXSY-e335c1\u001b[0m\n",
      "\u001b[92m2025-04-24 17:12:43,173 - INFO - stakings_boosted:\u001b[0m\n",
      "\u001b[92m2025-04-24 17:12:43,174 - INFO - Deployed staking contract: erd1qqqqqqqqqqqqqpgqv9h8yej6gdddmpdcad96fukxgutvr2sfkp2s7pe5gg\u001b[0m\n",
      "\u001b[92m2025-04-24 17:12:43,174 - INFO -  ├ Staking token: A1X-0d446d\u001b[0m\n",
      "\u001b[92m2025-04-24 17:12:43,175 - INFO -  ├ Stake token: SA1X-3df83f\u001b[0m\n",
      "\u001b[92m2025-04-24 17:12:43,175 - INFO - Deployed staking contract: erd1qqqqqqqqqqqqqpgqf0tlpqkkg7e6mc76ayap6wynktnfmdzmkp2sc67v5w\u001b[0m\n",
      "\u001b[92m2025-04-24 17:12:43,175 - INFO -  ├ Staking token: DRX-b7f337\u001b[0m\n",
      "\u001b[92m2025-04-24 17:12:43,176 - INFO -  ├ Stake token: SDRX-54f46e\u001b[0m\n",
      "\u001b[92m2025-04-24 17:12:43,176 - INFO - Deployed staking contract: erd1qqqqqqqqqqqqqpgqazrruw6kh5cr3xdumyqx49ac09gr5sj7kp2s30u6hl\u001b[0m\n",
      "\u001b[92m2025-04-24 17:12:43,176 - INFO -  ├ Staking token: BOD-204877\u001b[0m\n",
      "\u001b[92m2025-04-24 17:12:43,178 - INFO -  ├ Stake token: SBOD-0bcb5c\u001b[0m\n",
      "\u001b[92m2025-04-24 17:12:43,178 - INFO - metastakings:\u001b[0m\n",
      "\u001b[92m2025-04-24 17:12:43,179 - INFO - metastakings_v2:\u001b[0m\n",
      "\u001b[92m2025-04-24 17:12:43,179 - INFO - Deployed metastaking contract: erd1qqqqqqqqqqqqqpgqjvcrk4tun6l438crr0jcz7q3yzp66smwkp2shzmazs\u001b[0m\n",
      "\u001b[92m2025-04-24 17:12:43,180 - INFO -  ├ Staking token: RIDE-7d18e9\u001b[0m\n",
      "\u001b[92m2025-04-24 17:12:43,181 - INFO -  ├ Metastake token: METARIDELK-f0b4bf\u001b[0m\n",
      "\u001b[92m2025-04-24 17:12:43,182 - INFO -  ├ Stake address: erd1qqqqqqqqqqqqqpgqmqq78c5htmdnws8hm5u4suvags36eq092jpsaxv3e7\u001b[0m\n",
      "\u001b[92m2025-04-24 17:12:43,182 - INFO -  ├ Farm address: erd1qqqqqqqqqqqqqpgqenvn0s3ldc94q2mlkaqx4arj3zfnvnmakp2sxca2h9\u001b[0m\n",
      "\u001b[92m2025-04-24 17:12:43,183 - INFO -  ├ LP address: erd1qqqqqqqqqqqqqpgqav09xenkuqsdyeyy5evqyhuusvu4gl3t2jpss57g8x\u001b[0m\n",
      "\u001b[92m2025-04-24 17:12:43,184 - INFO - Deployed metastaking contract: erd1qqqqqqqqqqqqqpgqduftj7u5u5d4ql2znchcmrcet9kcze7ckp2sk4474f\u001b[0m\n",
      "\u001b[92m2025-04-24 17:12:43,184 - INFO -  ├ Staking token: ITHEUM-df6f26\u001b[0m\n",
      "\u001b[92m2025-04-24 17:12:43,185 - INFO -  ├ Metastake token: METAITHLK-4c3f2e\u001b[0m\n",
      "\u001b[92m2025-04-24 17:12:43,186 - INFO -  ├ Stake address: erd1qqqqqqqqqqqqqpgqzps75vsk97w9nsx2cenv2r2tyxl4fl402jpsx78m9j\u001b[0m\n",
      "\u001b[92m2025-04-24 17:12:43,186 - INFO -  ├ Farm address: erd1qqqqqqqqqqqqqpgqrdq6zvepdxg36rey8pmluwur43q4hcx3kp2su4yltq\u001b[0m\n",
      "\u001b[92m2025-04-24 17:12:43,187 - INFO -  ├ LP address: erd1qqqqqqqqqqqqqpgqpmud7t8uprrxzgu8eq2mtkl08kesflj62jps9j8dyh\u001b[0m\n",
      "\u001b[92m2025-04-24 17:12:43,187 - INFO - Deployed metastaking contract: erd1qqqqqqqqqqqqqpgqmgd0eu4z9kzvrputt4l4kw4fqf2wcjsekp2sftan7s\u001b[0m\n",
      "\u001b[92m2025-04-24 17:12:43,188 - INFO -  ├ Staking token: UTK-2f80e9\u001b[0m\n",
      "\u001b[92m2025-04-24 17:12:43,188 - INFO -  ├ Metastake token: METAUTKLK-112f52\u001b[0m\n",
      "\u001b[92m2025-04-24 17:12:43,189 - INFO -  ├ Stake address: erd1qqqqqqqqqqqqqpgqcedkmj8ezme6mtautj79ngv7fez978le2jps8jtawn\u001b[0m\n",
      "\u001b[92m2025-04-24 17:12:43,190 - INFO -  ├ Farm address: erd1qqqqqqqqqqqqqpgq4acurmluezvmhna8tztgcrnwh0l70a2wkp2sfh6jkp\u001b[0m\n",
      "\u001b[92m2025-04-24 17:12:43,191 - INFO -  ├ LP address: erd1qqqqqqqqqqqqqpgq0lzzvt2faev4upyf586tg38s84d7zsaj2jpsglugga\u001b[0m\n",
      "\u001b[92m2025-04-24 17:12:43,191 - INFO - Deployed metastaking contract: erd1qqqqqqqqqqqqqpgqx6zhjfjnwxpzdcj594htl0y6w60aa3a8kp2se2pdms\u001b[0m\n",
      "\u001b[92m2025-04-24 17:12:43,192 - INFO -  ├ Staking token: CRT-52decf\u001b[0m\n",
      "\u001b[92m2025-04-24 17:12:43,193 - INFO -  ├ Metastake token: METACRTLK-39d11c\u001b[0m\n",
      "\u001b[92m2025-04-24 17:12:43,193 - INFO -  ├ Stake address: erd1qqqqqqqqqqqqqpgqp2wfzvkhlpkwcdxx25qzznx33345979w2jpsl3gflj\u001b[0m\n",
      "\u001b[92m2025-04-24 17:12:43,194 - INFO -  ├ Farm address: erd1qqqqqqqqqqqqqpgquhqfknr9dg5t0xma0zcc55dm8gwv5rpkkp2sq8f40p\u001b[0m\n",
      "\u001b[92m2025-04-24 17:12:43,194 - INFO -  ├ LP address: erd1qqqqqqqqqqqqqpgqf57y8m9krsvrceqxujngzm77p82zqc502jpsnnezqs\u001b[0m\n",
      "\u001b[92m2025-04-24 17:12:43,195 - INFO - metastakings_boosted:\u001b[0m\n",
      "\u001b[92m2025-04-24 17:12:43,195 - INFO - Deployed metastaking contract: erd1qqqqqqqqqqqqqpgqqcgdee7ut4qmx942fpgtk9da53acmserkp2sez9f70\u001b[0m\n",
      "\u001b[92m2025-04-24 17:12:43,196 - INFO -  ├ Staking token: FOXSY-5d5f3e\u001b[0m\n",
      "\u001b[92m2025-04-24 17:12:43,196 - INFO -  ├ Metastake token: METAFOXSLK-2a13e3\u001b[0m\n",
      "\u001b[92m2025-04-24 17:12:43,197 - INFO -  ├ Stake address: erd1qqqqqqqqqqqqqpgq2e4fmlhcv90wrxl2acjpcu3g2l9rpkttx9rs8pppzp\u001b[0m\n",
      "\u001b[92m2025-04-24 17:12:43,197 - INFO -  ├ Farm address: erd1qqqqqqqqqqqqqpgqu288dj3qgrelujal5wynsv5zrf7u0hwlkp2se383n7\u001b[0m\n",
      "\u001b[92m2025-04-24 17:12:43,198 - INFO -  ├ LP address: erd1qqqqqqqqqqqqqpgq5jnjpsukhl295ry3wjrd3gtff0amrgux2jpsz3reum\u001b[0m\n",
      "\u001b[92m2025-04-24 17:12:43,198 - INFO - escrows:\u001b[0m\n",
      "\u001b[92m2025-04-24 17:12:43,198 - INFO - Deployed escrow contract: erd1qqqqqqqqqqqqqpgqeh4yv09rmyg4xgn5ma03mvm4v5gndu8w2jpsglz3cn\u001b[0m\n",
      "\u001b[92m2025-04-24 17:12:43,198 - INFO - lk_wraps:\u001b[0m\n",
      "\u001b[92m2025-04-24 17:12:43,199 - INFO - Deployed locked token wrapping contract: erd1qqqqqqqqqqqqqpgqu64gygjs5ted4rupaewaszyhaxl9lv7m2jpsw47nzr\u001b[0m\n",
      "\u001b[92m2025-04-24 17:12:43,199 - INFO - governances:\u001b[0m\n",
      "\u001b[92m2025-04-24 17:12:43,199 - INFO - Deployed GovernanceContract contract: erd1qqqqqqqqqqqqqpgqyxqwuhtj3xhftcpn2kzuq07lhdp4ng222jps650gtt\u001b[0m\n",
      "\u001b[92m2025-04-24 17:12:43,199 - INFO - composable_tasks:\u001b[0m\n",
      "\u001b[92m2025-04-24 17:12:43,200 - INFO - Deployed composable tasks contract: erd1qqqqqqqqqqqqqpgqsytkvnexypp7argk02l0rasnj57sxa542jpshkl7df\u001b[0m\n",
      "\u001b[38;20m2025-04-24 17:12:43,203 - DEBUG - Account.sync_nonce() done: 4308\u001b[0m\n"
     ]
    },
    {
     "name": "stdout",
     "output_type": "stream",
     "text": [
      "\n",
      "\n",
      "\n",
      "\n",
      "\n",
      "\n",
      "\n",
      "\n",
      "\n",
      "\n",
      "\n",
      "\n",
      "\n",
      "\n",
      "\n",
      "\n",
      "\n",
      "\n",
      "\n",
      "\n",
      "\n",
      "\n",
      "\n",
      "\n",
      "\n",
      "\n",
      "\n",
      "\n",
      "\n",
      "\n",
      "\n",
      "\n"
     ]
    }
   ],
   "source": [
    "import sys\n",
    "from pathlib import Path\n",
    "from multiversx_sdk import ApiNetworkProvider, ProxyNetworkProvider\n",
    "\n",
    "sys.path.append(str(Path.cwd().parent.parent.absolute()))\n",
    "import config\n",
    "from context import Context\n",
    "from utils.utils_chain import WrapperAddress\n",
    "\n",
    "\n",
    "SIMULATOR_URL = \"http://localhost:8085\"\n",
    "SIMULATOR_API = \"http://localhost:3001\"\n",
    "\n",
    "GENERATE_BLOCKS_URL = f\"{SIMULATOR_URL}/simulator/generate-blocks\"\n",
    "GENERATE_BLOCKS_UNTIL_EPOCH_REACHED_URL = f\"{SIMULATOR_URL}/simulator/generate-blocks-until-epoch-reached\"\n",
    "PROJECT_ROOT = Path.cwd().parent.parent\n",
    "proxy = ProxyNetworkProvider(SIMULATOR_URL)\n",
    "api = ApiNetworkProvider(SIMULATOR_API)\n",
    "DOCKER_URL = PROJECT_ROOT / \"docker\"\n",
    "\n",
    "context = Context()\n",
    "context.network_provider.proxy = proxy\n",
    "context.network_provider.api = api\n",
    "context.deployer_account.address = WrapperAddress(\"erd1ss6u80ruas2phpmr82r42xnkd6rxy40g9jl69frppl4qez9w2jpsqj8x97\")\n",
    "context.deployer_account.sync_nonce(proxy)\n",
    "\n",
    "wasm_path = \"wasm/fees-collector/fees-collector.wasm\"\n",
    "contract_code_hash = \"ae5c0171d34f2bac384b6d38184f89abd7ef05a4d5d9b973db3c58015bdf587f\""
   ]
  },
  {
   "cell_type": "markdown",
   "metadata": {},
   "source": [
    "### CHAIN SIM CONFIG - FEES COLLECTOR"
   ]
  },
  {
   "cell_type": "code",
   "execution_count": 2,
   "metadata": {},
   "outputs": [],
   "source": [
    "USERS = [\n",
    "        \"erd1emxytu3umnzm4k2cn2xmtppy8j3dm3lnsjhfzkul8gd5a4xxuk3qsl4xjw\", \n",
    "        \"erd1rv5twgkz5uatdvgk5ymzmgzmz38dxqh8agvlkt97mfun8hn4x4xqyptslm\",\n",
    "        \"erd1njvcr0r89km6pexrxh0d6h36pkeuwr5j042e7l46l3mdlxvwhejsfz9w4n\",\n",
    "        \"erd1ss6u80ruas2phpmr82r42xnkd6rxy40g9jl69frppl4qez9w2jpsqj8x97\" # DEX OWNER\n",
    "]\n",
    "\n",
    "BASE_TOKEN = \"MEX-455c57\""
   ]
  },
  {
   "cell_type": "code",
   "execution_count": 4,
   "metadata": {},
   "outputs": [],
   "source": [
    "import json\n",
    "import subprocess\n",
    "from time import sleep\n",
    "from typing import Any\n",
    "\n",
    "from utils.utils_chain import Account\n",
    "\n",
    "\n",
    "def load_accounts_state(project_root: Path, addresses: list[str]) -> list[dict[str, Any]]:\n",
    "    states = []\n",
    "    \n",
    "    for address in addresses:\n",
    "        print(f\"Loading state for {address}\")\n",
    "        user_path = f\"0_{address}_0_chain_config_state.json\"\n",
    "        system_account_path = f\"0_system_account_state_{address}.json\"\n",
    "        \n",
    "        user_file = project_root / \"states\" / user_path\n",
    "        system_file = project_root / \"states\" / system_account_path\n",
    "        \n",
    "        if user_file.exists():\n",
    "            with open(user_file, \"r\") as file:\n",
    "                user_state = json.load(file)\n",
    "                if user_state:\n",
    "                    print(f\"Found {user_file.name}\")\n",
    "                    states.append(user_state)\n",
    "                \n",
    "        if system_file.exists():\n",
    "            with open(system_file, \"r\") as file:\n",
    "                system_state = json.load(file)\n",
    "                if system_state:\n",
    "                    print(f\"Found {system_file.name}\")\n",
    "                    states.append(system_state)\n",
    "            \n",
    "    return states\n",
    "    \n",
    "def apply_states(proxy: ProxyNetworkProvider, states: list[dict[str, Any]]):\n",
    "    for state in states:\n",
    "        proxy.do_post(f\"{SIMULATOR_URL}/simulator/set-state\", state)\n",
    "\n",
    "# @pytest.fixture\n",
    "def load_and_apply_state(proxy: ProxyNetworkProvider, project_root: Path, owner: str, users: list[str]):\n",
    "    # Load and set state for all keys\n",
    "    with open(project_root / \"states\" / \"0_all_all_keys.json\", \"r\") as file:\n",
    "        retrieved_state = json.load(file)\n",
    "        apply_states(proxy, [retrieved_state])\n",
    "\n",
    "    # Load owner and users state\n",
    "    accounts = [owner]\n",
    "    accounts.extend(users)\n",
    "    states = load_accounts_state(project_root, accounts)\n",
    "    apply_states(proxy, states)\n",
    "        \n",
    "\n",
    "def advance_blocks(number_of_blocks: int):\n",
    "    proxy.do_post(f\"{GENERATE_BLOCKS_URL}/{number_of_blocks}\", {})\n",
    "\n",
    "def advance_epoch(number_of_epochs: int):\n",
    "    proxy.do_post(f\"{GENERATE_BLOCKS_URL}/{number_of_epochs * 20}\", {})\n",
    "\n",
    "def advance_to_epoch(epoch: int):\n",
    "    proxy.do_post(f\"{GENERATE_BLOCKS_UNTIL_EPOCH_REACHED_URL}/{epoch}\", {})\n",
    "\n",
    "def users_init() -> list[Account]:\n",
    "    print(context.deployer_account.address.bech32())\n",
    "    context.deployer_account.sync_nonce(context.network_provider.proxy)\n",
    "\n",
    "    users = []\n",
    "    for user in USERS:\n",
    "        user_account = Account(pem_file=config.DEFAULT_ACCOUNTS)\n",
    "        user_account.address = WrapperAddress(user)\n",
    "        user_account.sync_nonce(context.network_provider.proxy)\n",
    "        users.append(user_account)\n",
    "\n",
    "    return users"
   ]
  },
  {
   "cell_type": "markdown",
   "metadata": {},
   "source": [
    "### CONTRACTS"
   ]
  },
  {
   "cell_type": "code",
   "execution_count": 5,
   "metadata": {},
   "outputs": [
    {
     "name": "stdout",
     "output_type": "stream",
     "text": [
      "erd1qqqqqqqqqqqqqpgqjsnxqprks7qxfwkcg2m2v9hxkrchgm9akp2segrswt\n",
      "erd1qqqqqqqqqqqqqpgqq66xk9gfr4esuhem3jru86wg5hvp33a62jps2fy57p\n",
      "erd1qqqqqqqqqqqqqpgq0lzzvt2faev4upyf586tg38s84d7zsaj2jpsglugga\n",
      "erd1qqqqqqqqqqqqqpgqa0fsfshnff4n76jhcye6k7uvd7qacsq42jpsp6shh2\n"
     ]
    }
   ],
   "source": [
    "from utils.contract_data_fetchers import FeeCollectorContractDataFetcher\n",
    "from contracts.router_contract import RouterContract\n",
    "from contracts.simple_lock_energy_contract import SimpleLockEnergyContract\n",
    "from contracts.fees_collector_contract import FeesCollectorContract\n",
    "from contracts.pair_contract import PairContract\n",
    "from utils.contract_retrievers import retrieve_pair_by_address\n",
    "\n",
    "fees_collector_contract: FeesCollectorContract\n",
    "fees_collector_contract = context.get_contracts(config.FEES_COLLECTORS)[0]\n",
    "\n",
    "config.DEFAULT_PROXY =  \"https://gateway.multiversx.com\"\n",
    "\n",
    "energy_contract: SimpleLockEnergyContract\n",
    "router_contract: RouterContract\n",
    "pair_contract: PairContract\n",
    "\n",
    "pair_contract = retrieve_pair_by_address(\"erd1qqqqqqqqqqqqqpgq0lzzvt2faev4upyf586tg38s84d7zsaj2jpsglugga\")    # operating pair\n",
    "mex_contract = retrieve_pair_by_address(\"erd1qqqqqqqqqqqqqpgqa0fsfshnff4n76jhcye6k7uvd7qacsq42jpsp6shh2\") # egldmex contract\n",
    "energy_contract = context.get_contracts(config.SIMPLE_LOCKS_ENERGY)[0]\n",
    "router_contract = context.deploy_structure.get_deployed_contract_by_index(config.ROUTER_V2, 0)\n",
    "\n",
    "print(fees_collector_contract.address)\n",
    "print(router_contract.address)\n",
    "print(pair_contract.address)\n",
    "print(mex_contract.address)\n"
   ]
  },
  {
   "cell_type": "code",
   "execution_count": 6,
   "metadata": {},
   "outputs": [
    {
     "name": "stderr",
     "output_type": "stream",
     "text": [
      "\u001b[38;20m2025-04-24 17:12:55,080 - DEBUG - Account.sync_nonce() done: 4308\u001b[0m\n",
      "\u001b[38;20m2025-04-24 17:12:55,085 - DEBUG - Account.sync_nonce() done: 2659\u001b[0m\n",
      "\u001b[38;20m2025-04-24 17:12:55,090 - DEBUG - Account.sync_nonce() done: 986\u001b[0m\n",
      "\u001b[38;20m2025-04-24 17:12:55,098 - DEBUG - Account.sync_nonce() done: 12332\u001b[0m\n",
      "\u001b[38;20m2025-04-24 17:12:55,103 - DEBUG - Account.sync_nonce() done: 4308\u001b[0m\n",
      "\u001b[38;20m2025-04-24 17:12:55,106 - DEBUG - Account.sync_nonce() done: 2659\u001b[0m\n"
     ]
    },
    {
     "name": "stdout",
     "output_type": "stream",
     "text": [
      "erd1ss6u80ruas2phpmr82r42xnkd6rxy40g9jl69frppl4qez9w2jpsqj8x97\n"
     ]
    }
   ],
   "source": [
    "from utils.utils_chain import Account, WrapperAddress as Address\n",
    "\n",
    "users = users_init()\n",
    "user_account = Account(users[0].address.to_bech32())\n",
    "user_account.sync_nonce(context.network_provider.proxy)\n",
    "user_account.signer = context.deployer_account.signer"
   ]
  },
  {
   "cell_type": "code",
   "execution_count": null,
   "metadata": {},
   "outputs": [],
   "source": [
    "import json\n",
    "with open(PROJECT_ROOT / \"states\" / \"0_erd1ss6u80ruas2phpmr82r42xnkd6rxy40g9jl69frppl4qez9w2jpsqj8x97_0_chain_config_state.json\", \"r\") as file:\n",
    "    json_account = json.load(file)\n",
    "proxy.do_post(f\"{SIMULATOR_URL}/simulator/set-state\", json_account)"
   ]
  },
  {
   "cell_type": "code",
   "execution_count": null,
   "metadata": {},
   "outputs": [],
   "source": [
    "import json\n",
    "with open(PROJECT_ROOT / \"states\" / \"0_fees_collectors_0_chain_config_state.json\", \"r\") as file:\n",
    "    json_account = json.load(file)\n",
    "proxy.do_post(f\"{SIMULATOR_URL}/simulator/set-state\", json_account)"
   ]
  },
  {
   "cell_type": "code",
   "execution_count": null,
   "metadata": {},
   "outputs": [],
   "source": [
    "advance_epoch(7)"
   ]
  },
  {
   "cell_type": "code",
   "execution_count": null,
   "metadata": {},
   "outputs": [],
   "source": [
    "advance_blocks(5)"
   ]
  },
  {
   "cell_type": "markdown",
   "metadata": {},
   "source": [
    "CLAIM REWARDS"
   ]
  },
  {
   "cell_type": "code",
   "execution_count": null,
   "metadata": {},
   "outputs": [],
   "source": [
    "user_account.sync_nonce(context.network_provider.proxy)\n",
    "\n",
    "fees_collector_contract.claim_rewards(user_account, proxy) #4 blocks\n",
    "advance_blocks(4)"
   ]
  },
  {
   "cell_type": "markdown",
   "metadata": {},
   "source": [
    "CLAIM BOOSTED"
   ]
  },
  {
   "cell_type": "code",
   "execution_count": null,
   "metadata": {},
   "outputs": [],
   "source": [
    "fees_collector_contract.claim_boosted_rewards(user_account, proxy)"
   ]
  },
  {
   "cell_type": "markdown",
   "metadata": {},
   "source": [
    "ADD ADMIN"
   ]
  },
  {
   "cell_type": "code",
   "execution_count": null,
   "metadata": {},
   "outputs": [],
   "source": [
    "from utils.utils_chain import WrapperAddress\n",
    "\n",
    "context.deployer_account.sync_nonce(proxy)\n",
    "fees_collector_contract.add_admin(context.deployer_account, proxy, [context.deployer_account.address])"
   ]
  },
  {
   "cell_type": "markdown",
   "metadata": {},
   "source": [
    "REMOVE ADMIN"
   ]
  },
  {
   "cell_type": "code",
   "execution_count": null,
   "metadata": {},
   "outputs": [],
   "source": [
    "from utils.utils_chain import WrapperAddress\n",
    "\n",
    "context.deployer_account.sync_nonce(proxy)\n",
    "fees_collector_contract.remove_admin(context.deployer_account, proxy, [context.deployer_account.address])"
   ]
  },
  {
   "cell_type": "markdown",
   "metadata": {},
   "source": [
    "REDISTRIBUTE REWARDS"
   ]
  },
  {
   "cell_type": "code",
   "execution_count": null,
   "metadata": {},
   "outputs": [],
   "source": [
    "\n",
    "context.deployer_account.sync_nonce(proxy)\n",
    "fees_collector_contract.redistribute_rewards(context.deployer_account, proxy)\n",
    "advance_blocks(1)"
   ]
  },
  {
   "cell_type": "markdown",
   "metadata": {},
   "source": [
    "SET ADMINS"
   ]
  },
  {
   "cell_type": "code",
   "execution_count": null,
   "metadata": {},
   "outputs": [],
   "source": [
    "fees_collector_contract.add_admin(context.deployer_account, proxy, [context.deployer_account.address])"
   ]
  },
  {
   "cell_type": "code",
   "execution_count": 10,
   "metadata": {},
   "outputs": [
    {
     "name": "stdout",
     "output_type": "stream",
     "text": [
      "130\n",
      "{'amount': 378166121477748896610405802164, 'last_update_epoch': 1767, 'total_locked_tokens': 410821713011768735240637278}\n",
      "130\n"
     ]
    }
   ],
   "source": [
    "week = fees_collector_contract.get_current_week(proxy)\n",
    "user_energy = fees_collector_contract.get_user_energy_for_week(user_account.address.to_bech32(), proxy, week)\n",
    "last_active_week = fees_collector_contract.get_last_active_week_for_user(user_account.address.to_bech32(), proxy)\n",
    "print(week)\n",
    "print(user_energy)\n",
    "print(last_active_week)"
   ]
  },
  {
   "cell_type": "markdown",
   "metadata": {},
   "source": [
    "SET BURN PERCENTAGE"
   ]
  },
  {
   "cell_type": "code",
   "execution_count": null,
   "metadata": {},
   "outputs": [],
   "source": [
    "context.deployer_account.sync_nonce(proxy)\n",
    "fees_collector_contract.set_base_token_burn_percent(context.deployer_account, proxy, 10000)\n",
    "advance_blocks(1)"
   ]
  },
  {
   "cell_type": "markdown",
   "metadata": {},
   "source": [
    "GET TOTAL REWARDS FOR WEEK"
   ]
  },
  {
   "cell_type": "code",
   "execution_count": 22,
   "metadata": {},
   "outputs": [
    {
     "name": "stdout",
     "output_type": "stream",
     "text": [
      "0\n"
     ]
    }
   ],
   "source": [
    "from utils.utils_chain import WrapperAddress, decode_merged_attributes\n",
    "from utils import decoding_structures\n",
    "\n",
    "data_fetcher = FeeCollectorContractDataFetcher(WrapperAddress(fees_collector_contract.address), context.network_provider.proxy.url)\n",
    "total_rewards = fees_collector_contract.get_total_rewards_for_week(proxy, week)\n",
    "print(total_rewards)\n"
   ]
  },
  {
   "cell_type": "markdown",
   "metadata": {},
   "source": [
    "GET ACCUMULATED FEES"
   ]
  },
  {
   "cell_type": "code",
   "execution_count": null,
   "metadata": {},
   "outputs": [
    {
     "name": "stdout",
     "output_type": "stream",
     "text": [
      "0\n"
     ]
    }
   ],
   "source": [
    "token_identifier = \"MEX-455c57\"\n",
    "data_fetcher = FeeCollectorContractDataFetcher(WrapperAddress(fees_collector_contract.address), context.network_provider.proxy.url)\n",
    "accumulated_fees = data_fetcher.get_data(\"getAccumulatedFees\", [week, token_identifier])\n",
    "print(accumulated_fees)\n"
   ]
  },
  {
   "cell_type": "markdown",
   "metadata": {},
   "source": [
    "GET USER ENERGY FOR WEEK"
   ]
  },
  {
   "cell_type": "code",
   "execution_count": 23,
   "metadata": {},
   "outputs": [
    {
     "name": "stdout",
     "output_type": "stream",
     "text": [
      "{'amount': 378166121477748896610405802164, 'last_update_epoch': 1767, 'total_locked_tokens': 410821713011768735240637278}\n"
     ]
    }
   ],
   "source": [
    "data_fetcher = FeeCollectorContractDataFetcher(WrapperAddress(fees_collector_contract.address), context.network_provider.proxy.url)\n",
    "user_energy_for_week = fees_collector_contract.get_user_energy_for_week(user_account.address.to_bech32(), proxy, week)\n",
    "print(user_energy_for_week)\n"
   ]
  },
  {
   "cell_type": "markdown",
   "metadata": {},
   "source": [
    "GET CURRENT CLAIM PROGRESS"
   ]
  },
  {
   "cell_type": "code",
   "execution_count": null,
   "metadata": {},
   "outputs": [
    {
     "name": "stdout",
     "output_type": "stream",
     "text": [
      "{'energy': {'amount': 378166121477748896610405802164, 'last_update_epoch': 1767, 'total_locked_tokens': 410821713011768735240637278}, 'week': 130}\n"
     ]
    }
   ],
   "source": [
    "data_fetcher = FeeCollectorContractDataFetcher(WrapperAddress(fees_collector_contract.address), context.network_provider.proxy.url)\n",
    "current_claim = fees_collector_contract.get_current_claim_progress_for_user(user_account.address.to_bech32(), proxy)\n",
    "print(current_claim)"
   ]
  },
  {
   "cell_type": "markdown",
   "metadata": {},
   "source": [
    "SET ROUTER ADDRESS"
   ]
  },
  {
   "cell_type": "code",
   "execution_count": null,
   "metadata": {},
   "outputs": [],
   "source": [
    "context.deployer_account.sync_nonce(proxy)\n",
    "fees_collector_contract.set_router_address(context.deployer_account, proxy, router_contract.address)\n",
    "advance_blocks(5)"
   ]
  },
  {
   "cell_type": "code",
   "execution_count": null,
   "metadata": {},
   "outputs": [],
   "source": [
    "mex_contract.whitelist_contract(context.deployer_account, context.network_provider.proxy, pair_contract.address)"
   ]
  },
  {
   "cell_type": "code",
   "execution_count": null,
   "metadata": {},
   "outputs": [],
   "source": [
    "# set where to swap and what to do with the fees\n",
    "pair_contract.add_trusted_swap_pair(context.deployer_account, context.network_provider.proxy,\n",
    "                                    [\n",
    "                                        mex_contract.address,\n",
    "                                        mex_contract.firstToken,\n",
    "                                        mex_contract.secondToken\n",
    "                                    ])"
   ]
  },
  {
   "cell_type": "code",
   "execution_count": null,
   "metadata": {},
   "outputs": [],
   "source": [
    "from contracts.pair_contract import AddLiquidityEvent\n",
    "\n",
    "event = AddLiquidityEvent(pair_contract.firstToken, 127791780000000000000, 1, pair_contract.secondToken, 5000000000000000000, 1)\n",
    "pair_contract.add_liquidity(context.network_provider, user_account, event)"
   ]
  },
  {
   "cell_type": "code",
   "execution_count": null,
   "metadata": {},
   "outputs": [],
   "source": [
    "from utils.utils_chain import base64_to_hex\n",
    "\n",
    "\n",
    "code_hash = context.network_provider.proxy.get_account(WrapperAddress(fees_collector_contract.address)).code_hash\n",
    "print(base64_to_hex(code_hash))"
   ]
  },
  {
   "cell_type": "markdown",
   "metadata": {},
   "source": [
    "PAIR SWAP"
   ]
  },
  {
   "cell_type": "code",
   "execution_count": null,
   "metadata": {},
   "outputs": [],
   "source": [
    "from contracts.pair_contract import SwapFixedInputEvent\n",
    "\n",
    "user_account.sync_nonce(proxy)\n",
    "swap = SwapFixedInputEvent(pair_contract.firstToken, 1000000000000000000, pair_contract.secondToken, 1)\n",
    "\n",
    "pair_contract.swap_fixed_input(context.network_provider, user_account, swap)\n",
    "advance_blocks(1)"
   ]
  },
  {
   "cell_type": "code",
   "execution_count": null,
   "metadata": {},
   "outputs": [],
   "source": [
    "import json\n",
    "with open(PROJECT_ROOT / \"states\" / \"0_system_account_state_WEGLD-bd4d79.json\", \"r\") as file:\n",
    "    json_account = json.load(file)\n",
    "proxy.do_post(f\"{SIMULATOR_URL}/simulator/set-state\", json_account)"
   ]
  },
  {
   "cell_type": "markdown",
   "metadata": {},
   "source": [
    "CONTRACT UPGRADE"
   ]
  },
  {
   "cell_type": "code",
   "execution_count": null,
   "metadata": {},
   "outputs": [],
   "source": [
    "from utils.utils_chain import base64_to_hex\n",
    "from utils.utils_chain import WrapperAddress\n",
    "\n",
    "def fees_collector_upgrade():\n",
    "    advance_blocks(1)\n",
    "    context.deployer_account.address = WrapperAddress(\"erd1ss6u80ruas2phpmr82r42xnkd6rxy40g9jl69frppl4qez9w2jpsqj8x97\")\n",
    "    context.deployer_account.sync_nonce(proxy)\n",
    "    args = [ \n",
    "        energy_contract.address,\n",
    "        router_contract.address,\n",
    "        1000,\n",
    "        []\n",
    "\n",
    "    ]\n",
    "    tx_hash = fees_collector_contract.contract_upgrade(context.deployer_account, context.network_provider.proxy, wasm_path, \n",
    "                                         args, \n",
    "                                         no_init=True)\n",
    "\n",
    "    advance_blocks(1)\n",
    "\n",
    "    code_hash = context.network_provider.proxy.get_account(WrapperAddress(fees_collector_contract.address)).code_hash\n",
    "    assert base64_to_hex(code_hash) == contract_code_hash\n",
    "    \n",
    "    return tx_hash\n",
    "\n",
    "fees_collector_upgrade()"
   ]
  },
  {
   "cell_type": "markdown",
   "metadata": {},
   "source": [
    "SWAP TO BASE TOKEN"
   ]
  },
  {
   "cell_type": "code",
   "execution_count": null,
   "metadata": {},
   "outputs": [],
   "source": [
    "from multiversx_sdk.abi import Abi\n",
    "\n",
    "abi = Abi.load(PROJECT_ROOT / \"wasm/fees-collector/fees-collector.abi.json\")\n",
    "\n",
    "context.deployer_account.sync_nonce(proxy)\n",
    "    \n",
    "def build_args_for_swap():\n",
    "\n",
    "    routes: list[list[Any]] = []\n",
    "    routes.append((Address(pair_contract.address), \"swapTokensFixedInput\" , pair_contract.secondToken, 1))\n",
    "    routes.append((Address(mex_contract.address), \"swapTokensFixedInput\" , \"MEX-455c57\", 1))\n",
    "    \n",
    "    sc_args = [\n",
    "           pair_contract.firstToken,\n",
    "           routes\n",
    "        ]\n",
    "\n",
    "    return sc_args\n",
    "\n",
    "args = build_args_for_swap()\n",
    "\n",
    "fees_collector_contract.swap_to_base_token(context.deployer_account, proxy, abi, args)\n",
    "advance_blocks(1)"
   ]
  },
  {
   "cell_type": "code",
   "execution_count": null,
   "metadata": {},
   "outputs": [],
   "source": [
    "advance_blocks(1)"
   ]
  },
  {
   "cell_type": "markdown",
   "metadata": {},
   "source": [
    "ADD REWARD TOKENS"
   ]
  },
  {
   "cell_type": "code",
   "execution_count": null,
   "metadata": {},
   "outputs": [],
   "source": [
    "context.deployer_account.sync_nonce(proxy)\n",
    "fees_collector_contract.add_reward_tokens(context.deployer_account, proxy, [\"MEX-455c57\", \"XMEX-fda355\"])"
   ]
  },
  {
   "cell_type": "markdown",
   "metadata": {},
   "source": [
    "REMOVE REWARD TOKENS"
   ]
  },
  {
   "cell_type": "code",
   "execution_count": null,
   "metadata": {},
   "outputs": [],
   "source": [
    "fees_collector_contract.remove_reward_tokens(context.deployer_account, proxy, [\"USDC-c76f1f\",\n",
    "                                                                               \"RIDE-7d18e9\", \n",
    "                                                                               \"CRU-a5f4aa\", \n",
    "                                                                               \"ZPAY-247875\", \n",
    "                                                                               \"ITHEUM-df6f26\", \n",
    "                                                                               \"BHAT-c1fde3\", \n",
    "                                                                               \"CRT-52decf\", \n",
    "                                                                               \"UTK-2f80e9\",\n",
    "                                                                               \"QWT-46ac01\",\n",
    "                                                                               \"ASH-a642d1\",\n",
    "                                                                               \"WETH-b4ca29\",\n",
    "                                                                               \"USDT-f8c08c\",\n",
    "                                                                               \"HTM-f51d55\",\n",
    "                                                                               \"WDAI-9eeb54\",\n",
    "                                                                               \"TADA-5c032c\",\n",
    "                                                                               \"XOXNO-c1293a\",\n",
    "                                                                               \"A1X-0d446d\",\n",
    "                                                                               \"USH-111e09\",\n",
    "                                                                               \"FOXSY-5d5f3e\"\n",
    "                                                                               ])\n",
    "advance_blocks(1)"
   ]
  },
  {
   "cell_type": "code",
   "execution_count": null,
   "metadata": {},
   "outputs": [],
   "source": [
    "energy_factory: SimpleLockEnergyContract\n",
    "energy_factory = context.get_contracts(config.SIMPLE_LOCKS_ENERGY)[0]\n",
    "\n",
    "context.deployer_account.sync_nonce(proxy)\n",
    "tx_hash = energy_factory.set_burn_role_locked_token(context.deployer_account,\n",
    "                                                                proxy,\n",
    "                                                                [fees_collector_contract.address])\n",
    "\n",
    "advance_blocks(1)"
   ]
  },
  {
   "cell_type": "code",
   "execution_count": null,
   "metadata": {},
   "outputs": [],
   "source": [
    "energy_factory.set_transfer_role_locked_token(context.deployer_account, context.network_provider.proxy, [mex_contract.address])\n",
    "advance_blocks(1)"
   ]
  },
  {
   "cell_type": "code",
   "execution_count": null,
   "metadata": {},
   "outputs": [],
   "source": [
    "from contracts.builtin_contracts import ESDTContract\n",
    "\n",
    "esdt_contract = ESDTContract(config.TOKENS_CONTRACT_ADDRESS)\n",
    "context.deployer_account.sync_nonce(context.network_provider.proxy)\n",
    "tx_hash = esdt_contract.set_special_role_token(context.deployer_account, context.network_provider.proxy,\n",
    "                                               [BASE_TOKEN, fees_collector_contract.address, \"ESDTRoleLocalMint\", \"ESDTRoleLocalBurn\"])\n"
   ]
  }
 ],
 "metadata": {
  "kernelspec": {
   "display_name": ".venv",
   "language": "python",
   "name": "python3"
  },
  "language_info": {
   "codemirror_mode": {
    "name": "ipython",
    "version": 3
   },
   "file_extension": ".py",
   "mimetype": "text/x-python",
   "name": "python",
   "nbconvert_exporter": "python",
   "pygments_lexer": "ipython3",
   "version": "3.12.3"
  }
 },
 "nbformat": 4,
 "nbformat_minor": 2
}
