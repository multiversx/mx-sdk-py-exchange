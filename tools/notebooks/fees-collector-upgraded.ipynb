{
 "cells": [
  {
   "cell_type": "markdown",
   "metadata": {},
   "source": [
    "### INIT"
   ]
  },
  {
   "cell_type": "code",
   "execution_count": null,
   "metadata": {},
   "outputs": [],
   "source": [
    "import sys\n",
    "from pathlib import Path\n",
    "from multiversx_sdk import ApiNetworkProvider, ProxyNetworkProvider\n",
    "\n",
    "sys.path.append(str(Path.cwd().parent.parent.absolute()))\n",
    "import config\n",
    "from context import Context\n",
    "from utils.utils_chain import WrapperAddress\n",
    "from utils.utils_generic import get_logger\n",
    "\n",
    "\n",
    "SIMULATOR_URL = \"http://localhost:8085\"\n",
    "SIMULATOR_API = \"http://localhost:3001\"\n",
    "\n",
    "GENERATE_BLOCKS_URL = f\"{SIMULATOR_URL}/simulator/generate-blocks\"\n",
    "GENERATE_BLOCKS_UNTIL_EPOCH_REACHED_URL = f\"{SIMULATOR_URL}/simulator/generate-blocks-until-epoch-reached\"\n",
    "PROJECT_ROOT = Path.cwd().parent.parent\n",
    "proxy = ProxyNetworkProvider(SIMULATOR_URL)\n",
    "api = ApiNetworkProvider(SIMULATOR_API)\n",
    "DOCKER_URL = PROJECT_ROOT / \"docker\"\n",
    "\n",
    "context = Context()\n",
    "context.network_provider.proxy = proxy\n",
    "context.network_provider.api = api\n",
    "\n",
    "wasm_path = config.DEFAULT_WORKSPACE / \"wasm/fees-collector.wasm\"\n",
    "contract_code_hash = \"08cd6ef3e0d5be0c7d4aedc2740d06f21b0aad28080ada2a551778af454176fe\""
   ]
  },
  {
   "cell_type": "code",
   "execution_count": null,
   "metadata": {},
   "outputs": [],
   "source": [
    "import sys\n",
    "from pathlib import Path\n",
    "from multiversx_sdk import ApiNetworkProvider, ProxyNetworkProvider\n",
    "import os\n",
    "import importlib\n",
    "\n",
    "os.environ[\"MX_DEX_ENV\"] = \"chainsim\"\n",
    "\n",
    "sys.path.append(str(Path.cwd().parent.parent.absolute()))\n",
    "import config\n",
    "importlib.reload(config)\n",
    "from context import Context\n",
    "from utils.utils_chain import WrapperAddress\n",
    "from utils.utils_generic import get_logger\n",
    "from tools.chain_simulator_connector import ChainSimulator\n",
    "\n",
    "SIMULATOR_URL = \"http://localhost:8085\"\n",
    "SIMULATOR_API = \"http://localhost:3001\"\n",
    "\n",
    "GENERATE_BLOCKS_URL = f\"{SIMULATOR_URL}/simulator/generate-blocks\"\n",
    "GENERATE_BLOCKS_UNTIL_EPOCH_REACHED_URL = f\"{SIMULATOR_URL}/simulator/generate-blocks-until-epoch-reached\"\n",
    "PROJECT_ROOT = Path.cwd().parent.parent\n",
    "proxy = ProxyNetworkProvider(SIMULATOR_URL)\n",
    "api = ApiNetworkProvider(SIMULATOR_API)\n",
    "DOCKER_URL = PROJECT_ROOT / \"docker\"\n",
    "logger = get_logger(\"fees-collector-upgraded\")\n",
    "\n",
    "context = Context()\n",
    "if config.CURRENT_ENV.name == \"chainsim\":\n",
    "    chain_sim = ChainSimulator()\n",
    "\n",
    "wasm_path = config.DEFAULT_WORKSPACE / \"wasm/fees-collector.wasm\"\n",
    "contract_code_hash = \"08cd6ef3e0d5be0c7d4aedc2740d06f21b0aad28080ada2a551778af454176fe\""
   ]
  },
  {
   "cell_type": "markdown",
   "metadata": {},
   "source": [
    "### CHAIN SIM CONFIG - FEES COLLECTOR"
   ]
  },
  {
   "cell_type": "code",
   "execution_count": null,
   "metadata": {},
   "outputs": [],
   "source": [
    "from tools.chain_simulator_connector import ChainSimulator, start_handler\n",
    "from argparse import Namespace\n",
    "\n",
    "docker_path = config.HOME / \"Projects/testing/full-stack-docker-compose/chain-simulator\"\n",
    "state_path = config.DEFAULT_WORKSPACE / \"states\"\n",
    "args = Namespace(docker_path=str(docker_path), state_path=str(state_path))\n",
    "chain_sim = ChainSimulator(docker_path)\n"
   ]
  },
  {
   "cell_type": "code",
   "execution_count": null,
   "metadata": {},
   "outputs": [],
   "source": [
    "USERS = [\n",
    "        \"erd146exyad7pn95pru78egj07nnyfgnyeaytxte33nxxd24g55uccgs77rr7d\",\n",
    "        \"erd1emxytu3umnzm4k2cn2xmtppy8j3dm3lnsjhfzkul8gd5a4xxuk3qsl4xjw\", \n",
    "        \"erd1rv5twgkz5uatdvgk5ymzmgzmz38dxqh8agvlkt97mfun8hn4x4xqyptslm\",\n",
    "        \"erd1njvcr0r89km6pexrxh0d6h36pkeuwr5j042e7l46l3mdlxvwhejsfz9w4n\",\n",
    "        \"erd1ss6u80ruas2phpmr82r42xnkd6rxy40g9jl69frppl4qez9w2jpsqj8x97\" # DEX OWNER\n",
    "]\n",
    "\n",
    "BASE_TOKEN = \"MEX-455c57\""
   ]
  },
  {
   "cell_type": "code",
   "execution_count": null,
   "metadata": {},
   "outputs": [],
   "source": [
    "import json\n",
    "import subprocess\n",
    "from time import sleep\n",
    "from typing import Any\n",
    "\n",
    "from utils.utils_chain import Account\n",
    "\n",
    "\n",
    "def load_accounts_state(project_root: Path, addresses: list[str]) -> list[dict[str, Any]]:\n",
    "    states = []\n",
    "    \n",
    "    for address in addresses:\n",
    "        print(f\"Loading state for {address}\")\n",
    "        user_path = f\"0_{address}_0_chain_config_state.json\"\n",
    "        system_account_path = f\"0_system_account_state_{address}.json\"\n",
    "        \n",
    "        user_file = project_root / \"states\" / user_path\n",
    "        system_file = project_root / \"states\" / system_account_path\n",
    "        \n",
    "        if user_file.exists():\n",
    "            with open(user_file, \"r\") as file:\n",
    "                user_state = json.load(file)\n",
    "                if user_state:\n",
    "                    print(f\"Found {user_file.name}\")\n",
    "                    states.append(user_state)\n",
    "                \n",
    "        if system_file.exists():\n",
    "            with open(system_file, \"r\") as file:\n",
    "                system_state = json.load(file)\n",
    "                if system_state:\n",
    "                    print(f\"Found {system_file.name}\")\n",
    "                    states.append(system_state)\n",
    "            \n",
    "    return states\n",
    "    \n",
    "def apply_states(proxy: ProxyNetworkProvider, states: list[dict[str, Any]]):\n",
    "    for state in states:\n",
    "        proxy.do_post_generic(f\"{SIMULATOR_URL}/simulator/set-state\", state)\n",
    "\n",
    "# @pytest.fixture\n",
    "def load_and_apply_state(proxy: ProxyNetworkProvider, project_root: Path, owner: str, users: list[str]):\n",
    "    # Load and set state for all keys\n",
    "    with open(project_root / \"states\" / \"0_all_all_keys.json\", \"r\") as file:\n",
    "        retrieved_state = json.load(file)\n",
    "        apply_states(proxy, [retrieved_state])\n",
    "\n",
    "    # Load owner and users state\n",
    "    accounts = [owner]\n",
    "    accounts.extend(users)\n",
    "    states = load_accounts_state(project_root, accounts)\n",
    "    apply_states(proxy, states)\n",
    "        \n",
    "\n",
    "def advance_blocks(number_of_blocks: int):\n",
    "    proxy.do_post_generic(f\"{GENERATE_BLOCKS_URL}/{number_of_blocks}\", {})\n",
    "\n",
    "def advance_epoch(number_of_epochs: int):\n",
    "    proxy.do_post_generic(f\"{GENERATE_BLOCKS_URL}/{number_of_epochs * 20}\", {})\n",
    "\n",
    "def advance_to_epoch(epoch: int):\n",
    "    proxy.do_post_generic(f\"{GENERATE_BLOCKS_UNTIL_EPOCH_REACHED_URL}/{epoch}\", {})\n",
    "\n",
    "def users_init(found_users: list[str]) -> list[Account]:\n",
    "    print(context.deployer_account.address.bech32())\n",
    "    context.deployer_account.sync_nonce(context.network_provider.proxy)\n",
    "\n",
    "    users = []\n",
    "    for user in found_users:\n",
    "        user_account = Account(pem_file=config.DEFAULT_ACCOUNTS)\n",
    "        user_account.address = WrapperAddress(user)\n",
    "        user_account.sync_nonce(context.network_provider.proxy)\n",
    "        users.append(user_account)\n",
    "\n",
    "    return users"
   ]
  },
  {
   "cell_type": "code",
   "execution_count": null,
   "metadata": {},
   "outputs": [],
   "source": [
    "from utils.contract_data_fetchers import FeeCollectorContractDataFetcher\n",
    "from contracts.router_contract import RouterContract\n",
    "from contracts.simple_lock_energy_contract import SimpleLockEnergyContract\n",
    "from contracts.fees_collector_contract import FeesCollectorContract\n",
    "from contracts.pair_contract import PairContract\n",
    "from utils.contract_retrievers import retrieve_pair_by_address\n",
    "\n",
    "fees_collector_contract: FeesCollectorContract\n",
    "fees_collector_contract = context.get_contracts(config.FEES_COLLECTORS)[0]\n",
    "\n",
    "energy_contract: SimpleLockEnergyContract\n",
    "router_contract: RouterContract\n",
    "pair_contract: PairContract\n",
    "\n",
    "pair_contract: PairContract = context.get_contracts(config.PAIRS_V2)[1]    # operating pair\n",
    "mex_contract = retrieve_pair_by_address(\"erd1qqqqqqqqqqqqqpgqa0fsfshnff4n76jhcye6k7uvd7qacsq42jpsp6shh2\") # egldmex contract\n",
    "energy_contract = context.get_contracts(config.SIMPLE_LOCKS_ENERGY)[0]\n",
    "router_contract = context.deploy_structure.get_deployed_contract_by_index(config.ROUTER_V2, 0)\n",
    "\n",
    "print(fees_collector_contract.address)\n",
    "print(router_contract.address)\n",
    "print(pair_contract.address)\n",
    "print(mex_contract.address)\n"
   ]
  },
  {
   "cell_type": "code",
   "execution_count": null,
   "metadata": {},
   "outputs": [],
   "source": [
    "from utils.utils_chain import base64_to_hex\n",
    "from utils.utils_chain import WrapperAddress\n",
    "from time import sleep\n",
    "\n",
    "\n",
    "def fees_collector_upgrade(bytecode_path: Path, expected_code_hash: str = None):\n",
    "    context.deployer_account.sync_nonce(context.network_provider.proxy)\n",
    "\n",
    "    tx_hash = fees_collector_contract.contract_upgrade(context.deployer_account, context.network_provider.proxy, bytecode_path, \n",
    "                                         [], \n",
    "                                         no_init=True)\n",
    "\n",
    "    if \"localhost\" in context.network_provider.proxy.url:\n",
    "        chain_sim.advance_blocks(1)\n",
    "    else:\n",
    "        sleep(6)\n",
    "\n",
    "    code_hash = context.network_provider.proxy.get_account(WrapperAddress(fees_collector_contract.address)).contract_code_hash.hex()\n",
    "    if expected_code_hash:\n",
    "        assert code_hash == expected_code_hash\n",
    "    else:\n",
    "        print(f\"Code hash: {code_hash}\")\n",
    "    \n",
    "    return tx_hash"
   ]
  },
  {
   "cell_type": "code",
   "execution_count": null,
   "metadata": {},
   "outputs": [],
   "source": [
    "from multiversx_sdk.abi import Abi\n",
    "from utils.utils_chain import get_token_details_for_address, WrapperAddress as Address\n",
    "\n",
    "abi = Abi.load(config.HOME / \"Projects/dex/mx-exchange-sc/output-docker/fees-collector/fees-collector.abi.json\")\n",
    "\n",
    "def get_available_amount_for_swap(token: str) -> int:\n",
    "    _, amount, _ = get_token_details_for_address(token, fees_collector_contract.address, context.network_provider.proxy)\n",
    "    current_week = fees_collector_contract.get_current_week(context.network_provider.proxy)\n",
    "    locked_rewards = 0\n",
    "    for week in range(current_week-4, current_week):\n",
    "        response = fees_collector_contract.get_total_rewards_for_week(context.network_provider.proxy, week, abi)\n",
    "        for token_payment in response:\n",
    "            if token_payment.token_identifier == token:\n",
    "                locked_rewards += token_payment.amount\n",
    "\n",
    "    accumulated_fees = fees_collector_contract.get_accumulated_fees(context.network_provider.proxy, token)\n",
    "\n",
    "    return amount - locked_rewards - accumulated_fees\n",
    "    \n",
    "def build_args_for_swap(amount: int) -> list[Any]:\n",
    "    routes: list[list[Any]] = []\n",
    "    routes.append((Address(pair_contract.address), \"swapTokensFixedInput\" , pair_contract.firstToken, 1))\n",
    "    routes.append((Address(mex_contract.address), \"swapTokensFixedInput\" , \"MEX-455c57\", 1))\n",
    "    \n",
    "    sc_args = [\n",
    "           (pair_contract.secondToken, 0, amount),\n",
    "           routes\n",
    "        ]\n",
    "\n",
    "    return sc_args"
   ]
  },
  {
   "cell_type": "code",
   "execution_count": null,
   "metadata": {},
   "outputs": [],
   "source": [
    "def get_next_week_start_epoch() -> int:\n",
    "    first_week = fees_collector_contract.get_first_week_start_epoch(context.network_provider.proxy)\n",
    "    current_week = fees_collector_contract.get_current_week(context.network_provider.proxy)\n",
    "    next_week_at_epoch = first_week + current_week * 7\n",
    "\n",
    "    print(f\"Current epoch: {context.network_provider.proxy.get_network_status().current_epoch}\")\n",
    "    print(f\"Current week: {current_week}\")\n",
    "    print(f\"Next week at epoch: {next_week_at_epoch}\")\n",
    "\n",
    "    return next_week_at_epoch"
   ]
  },
  {
   "cell_type": "markdown",
   "metadata": {},
   "source": [
    "FUND USER"
   ]
  },
  {
   "cell_type": "code",
   "execution_count": null,
   "metadata": {},
   "outputs": [],
   "source": [
    "user = \"\"\n",
    "\n",
    "def compose_state_for_user(b32_user: str, amount: int) -> dict[str, Any]:\n",
    "    return {\n",
    "            \"address\": b32_user,\n",
    "            \"nonce\": 0,\n",
    "            \"balance\": str(amount),\n",
    "            \"username\": \"\",\n",
    "            \"code\": \"\",\n",
    "            \"developerReward\": \"0\",\n",
    "            \"ownerAddress\": \"\",\n",
    "            \"pairs\": {}\n",
    "        }\n",
    "\n",
    "def fund_chain_sim_users_w_egld(users: list[str], amount: int):\n",
    "    chain_sim.apply_states([[compose_state_for_user(user, amount) for user in users]])\n",
    "    print(f'Funded {len(users)} users with {amount} EGLD')\n",
    "    \n",
    "if user:\n",
    "    fund_chain_sim_users_w_egld([user], 10 * 10**18)"
   ]
  },
  {
   "cell_type": "markdown",
   "metadata": {},
   "source": [
    "# CHAIN CONTROL"
   ]
  },
  {
   "cell_type": "code",
   "execution_count": null,
   "metadata": {},
   "outputs": [],
   "source": [
    "chain_sim.stop()"
   ]
  },
  {
   "cell_type": "code",
   "execution_count": null,
   "metadata": {},
   "outputs": [],
   "source": [
    "from tools.chain_simulator_connector import ChainSimulator, start_handler\n",
    "from argparse import Namespace\n",
    "\n",
    "docker_path = config.HOME / \"Projects/testing/full-stack-docker-compose/chain-simulator\"\n",
    "state_path = config.DEFAULT_WORKSPACE / \"states\"\n",
    "args = Namespace(docker_path=str(docker_path), state_path=str(state_path))\n",
    "chain_sim = ChainSimulator(docker_path)\n",
    "\n",
    "chain_sim, found_accounts = start_handler(args)\n",
    "print(f'Loaded {len(found_accounts)} accounts')"
   ]
  },
  {
   "cell_type": "markdown",
   "metadata": {},
   "source": [
    "# CONTRACTS"
   ]
  },
  {
   "cell_type": "code",
   "execution_count": null,
   "metadata": {},
   "outputs": [],
   "source": [
    "from utils.utils_chain import Account, WrapperAddress as Address\n",
    "\n",
    "users = users_init()\n",
    "user_account = users[0]\n",
    "user_account.sync_nonce(context.network_provider.proxy)\n",
    "print(user_account.address.to_bech32())"
   ]
  },
  {
   "cell_type": "code",
   "execution_count": null,
   "metadata": {},
   "outputs": [],
   "source": [
    "import json\n",
    "with open(PROJECT_ROOT / \"states\" / \"0_erd1ss6u80ruas2phpmr82r42xnkd6rxy40g9jl69frppl4qez9w2jpsqj8x97_0_chain_config_state.json\", \"r\") as file:\n",
    "    json_account = json.load(file)\n",
    "proxy.do_post_generic(f\"{SIMULATOR_URL}/simulator/set-state\", json_account)"
   ]
  },
  {
   "cell_type": "code",
   "execution_count": null,
   "metadata": {},
   "outputs": [],
   "source": [
    "import json\n",
    "with open(PROJECT_ROOT / \"states\" / \"0_fees_collectors_0_chain_config_state.json\", \"r\") as file:\n",
    "    json_account = json.load(file)\n",
    "proxy.do_post_generic(f\"{SIMULATOR_URL}/simulator/set-state\", json_account)"
   ]
  },
  {
   "cell_type": "code",
   "execution_count": null,
   "metadata": {},
   "outputs": [],
   "source": [
    "chain_sim.advance_epochs(7)"
   ]
  },
  {
   "cell_type": "code",
   "execution_count": null,
   "metadata": {},
   "outputs": [],
   "source": [
    "chain_sim.advance_blocks(5)"
   ]
  },
  {
   "cell_type": "markdown",
   "metadata": {},
   "source": [
    "CLAIM REWARDS"
   ]
  },
  {
   "cell_type": "code",
   "execution_count": null,
   "metadata": {},
   "outputs": [],
   "source": [
    "user_with_energy = users[1]\n",
    "print(user_with_energy.address.to_bech32())\n",
    "energy_contract.get_energy_for_user(context.network_provider.proxy, user_with_energy.address.to_bech32())"
   ]
  },
  {
   "cell_type": "code",
   "execution_count": null,
   "metadata": {},
   "outputs": [],
   "source": [
    "user_without_energy = users[0]\n",
    "print(user_without_energy.address.to_bech32())\n",
    "energy_contract.get_energy_for_user(context.network_provider.proxy, user_without_energy.address.to_bech32())"
   ]
  },
  {
   "cell_type": "code",
   "execution_count": null,
   "metadata": {},
   "outputs": [],
   "source": [
    "user_with_energy.sync_nonce(context.network_provider.proxy)\n",
    "\n",
    "fees_collector_contract.claim_rewards(user_with_energy, proxy) #4 blocks\n",
    "chain_sim.advance_blocks(5)"
   ]
  },
  {
   "cell_type": "code",
   "execution_count": null,
   "metadata": {},
   "outputs": [],
   "source": [
    "user_without_energy.sync_nonce(context.network_provider.proxy)\n",
    "\n",
    "fees_collector_contract.claim_rewards(user_without_energy, proxy) #4 blocks\n",
    "chain_sim.advance_blocks(5)"
   ]
  },
  {
   "cell_type": "markdown",
   "metadata": {},
   "source": [
    "CLAIM BOOSTED"
   ]
  },
  {
   "cell_type": "code",
   "execution_count": null,
   "metadata": {},
   "outputs": [],
   "source": [
    "fees_collector_contract.claim_boosted_rewards(user_account, proxy)"
   ]
  },
  {
   "cell_type": "markdown",
   "metadata": {},
   "source": [
    "ADD ADMIN"
   ]
  },
  {
   "cell_type": "code",
   "execution_count": null,
   "metadata": {},
   "outputs": [],
   "source": [
    "from utils.utils_chain import WrapperAddress\n",
    "\n",
    "context.deployer_account.sync_nonce(proxy)\n",
    "fees_collector_contract.add_admin(context.deployer_account, proxy, [context.deployer_account.address])"
   ]
  },
  {
   "cell_type": "markdown",
   "metadata": {},
   "source": [
    "REMOVE ADMIN"
   ]
  },
  {
   "cell_type": "code",
   "execution_count": null,
   "metadata": {},
   "outputs": [],
   "source": [
    "from utils.utils_chain import WrapperAddress\n",
    "\n",
    "context.deployer_account.sync_nonce(proxy)\n",
    "fees_collector_contract.remove_admin(context.deployer_account, proxy, [context.deployer_account.address])"
   ]
  },
  {
   "cell_type": "markdown",
   "metadata": {},
   "source": [
    "REDISTRIBUTE REWARDS"
   ]
  },
  {
   "cell_type": "code",
   "execution_count": null,
   "metadata": {},
   "outputs": [],
   "source": [
    "\n",
    "context.deployer_account.sync_nonce(proxy)\n",
    "fees_collector_contract.redistribute_rewards(context.deployer_account, proxy)\n",
    "advance_blocks(1)"
   ]
  },
  {
   "cell_type": "markdown",
   "metadata": {},
   "source": [
    "SET ADMINS"
   ]
  },
  {
   "cell_type": "code",
   "execution_count": null,
   "metadata": {},
   "outputs": [],
   "source": [
    "fees_collector_contract.add_admin(context.deployer_account, proxy, [context.deployer_account.address])"
   ]
  },
  {
   "cell_type": "code",
   "execution_count": null,
   "metadata": {},
   "outputs": [],
   "source": [
    "week = fees_collector_contract.get_current_week(proxy)\n",
    "user_energy = fees_collector_contract.get_user_energy_for_week(user_account.address.to_bech32(), proxy, week)\n",
    "last_active_week = fees_collector_contract.get_last_active_week_for_user(user_account.address.to_bech32(), proxy)\n",
    "print(week)\n",
    "print(user_energy)\n",
    "print(last_active_week)"
   ]
  },
  {
   "cell_type": "markdown",
   "metadata": {},
   "source": [
    "GET TOTAL REWARDS FOR WEEK"
   ]
  },
  {
   "cell_type": "code",
   "execution_count": null,
   "metadata": {},
   "outputs": [],
   "source": [
    "from utils.utils_chain import WrapperAddress, decode_merged_attributes\n",
    "from utils import decoding_structures\n",
    "\n",
    "data_fetcher = FeeCollectorContractDataFetcher(WrapperAddress(fees_collector_contract.address), context.network_provider.proxy.url)\n",
    "total_rewards = fees_collector_contract.get_total_rewards_for_week(proxy, week)\n",
    "print(total_rewards)\n"
   ]
  },
  {
   "cell_type": "markdown",
   "metadata": {},
   "source": [
    "GET ACCUMULATED FEES"
   ]
  },
  {
   "cell_type": "code",
   "execution_count": null,
   "metadata": {},
   "outputs": [],
   "source": [
    "from multiversx_sdk.abi import TokenIdentifierValue, U32Value\n",
    "token_identifier = \"MEX-455c57\"\n",
    "data_fetcher = FeeCollectorContractDataFetcher(WrapperAddress(fees_collector_contract.address), context.network_provider.proxy.url)\n",
    "accumulated_fees = data_fetcher.get_data(\"getAccumulatedFees\", [U32Value(week), TokenIdentifierValue(token_identifier)])\n",
    "print(accumulated_fees)\n"
   ]
  },
  {
   "cell_type": "markdown",
   "metadata": {},
   "source": [
    "GET USER ENERGY FOR WEEK"
   ]
  },
  {
   "cell_type": "code",
   "execution_count": null,
   "metadata": {},
   "outputs": [],
   "source": [
    "data_fetcher = FeeCollectorContractDataFetcher(WrapperAddress(fees_collector_contract.address), context.network_provider.proxy.url)\n",
    "user_energy_for_week = fees_collector_contract.get_user_energy_for_week(user_account.address.to_bech32(), proxy, week)\n",
    "print(user_energy_for_week)\n"
   ]
  },
  {
   "cell_type": "markdown",
   "metadata": {},
   "source": [
    "GET CURRENT CLAIM PROGRESS"
   ]
  },
  {
   "cell_type": "code",
   "execution_count": null,
   "metadata": {},
   "outputs": [],
   "source": [
    "data_fetcher = FeeCollectorContractDataFetcher(WrapperAddress(fees_collector_contract.address), context.network_provider.proxy.url)\n",
    "current_claim = fees_collector_contract.get_current_claim_progress_for_user(user_account.address.to_bech32(), proxy)\n",
    "print(current_claim)"
   ]
  },
  {
   "cell_type": "code",
   "execution_count": null,
   "metadata": {},
   "outputs": [],
   "source": [
    "mex_contract.whitelist_contract(context.deployer_account, context.network_provider.proxy, pair_contract.address)"
   ]
  },
  {
   "cell_type": "code",
   "execution_count": null,
   "metadata": {},
   "outputs": [],
   "source": [
    "# set where to swap and what to do with the fees\n",
    "pair_contract.add_trusted_swap_pair(context.deployer_account, context.network_provider.proxy,\n",
    "                                    [\n",
    "                                        mex_contract.address,\n",
    "                                        mex_contract.firstToken,\n",
    "                                        mex_contract.secondToken\n",
    "                                    ])"
   ]
  },
  {
   "cell_type": "code",
   "execution_count": null,
   "metadata": {},
   "outputs": [],
   "source": [
    "from contracts.pair_contract import AddLiquidityEvent\n",
    "\n",
    "event = AddLiquidityEvent(pair_contract.firstToken, 127791780000000000000, 1, pair_contract.secondToken, 5000000000000000000, 1)\n",
    "pair_contract.add_liquidity(context.network_provider, user_account, event)"
   ]
  },
  {
   "cell_type": "code",
   "execution_count": null,
   "metadata": {},
   "outputs": [],
   "source": [
    "from utils.utils_chain import base64_to_hex\n",
    "\n",
    "\n",
    "code_hash = context.network_provider.proxy.get_account(WrapperAddress(fees_collector_contract.address)).contract_code_hash.hex()\n",
    "print(code_hash)"
   ]
  },
  {
   "cell_type": "markdown",
   "metadata": {},
   "source": [
    "PAIR SWAP"
   ]
  },
  {
   "cell_type": "code",
   "execution_count": null,
   "metadata": {},
   "outputs": [],
   "source": [
    "from utils.utils_chain import get_token_details_for_address\n",
    "from contracts.pair_contract import PairContract, SwapFixedInputEvent\n",
    "\n",
    "pair_contract: PairContract= context.get_contracts(config.PAIRS_V2)[1]\n",
    "print(pair_contract.get_config_dict())\n",
    "\n",
    "_, amount, _ = get_token_details_for_address(pair_contract.secondToken, user_account.address.to_bech32(), context.network_provider.proxy)\n",
    "if amount == 0:\n",
    "    raise Exception(f\"No amount found on {user_account.address.to_bech32()}\")\n",
    "print(f'Amount found on {user_account.address.to_bech32()}: {amount}')\n",
    "\n",
    "user_account.sync_nonce(proxy)\n",
    "swap = SwapFixedInputEvent(pair_contract.secondToken, amount//2, pair_contract.firstToken, 1)\n",
    "\n",
    "pair_contract.swap_fixed_input(context.network_provider, user_account, swap)\n",
    "chain_sim.advance_blocks(5)"
   ]
  },
  {
   "cell_type": "code",
   "execution_count": null,
   "metadata": {},
   "outputs": [],
   "source": [
    "from utils.utils_chain import get_token_details_for_address\n",
    "from contracts.pair_contract import PairContract, SwapFixedInputEvent\n",
    "\n",
    "pair_contract: PairContract= context.get_contracts(config.PAIRS_V2)[1]\n",
    "print(pair_contract.get_config_dict())\n",
    "\n",
    "_, amount, _ = get_token_details_for_address(pair_contract.firstToken, user_account.address.to_bech32(), context.network_provider.proxy)\n",
    "if amount == 0:\n",
    "    raise Exception(f\"No amount found on {user_account.address.to_bech32()}\")\n",
    "print(f'Amount found on {user_account.address.to_bech32()}: {amount}')\n",
    "\n",
    "user_account.sync_nonce(proxy)\n",
    "swap = SwapFixedInputEvent(pair_contract.firstToken, amount, pair_contract.secondToken, 1)\n",
    "\n",
    "pair_contract.swap_fixed_input(context.network_provider, user_account, swap)\n",
    "chain_sim.advance_blocks(5)"
   ]
  },
  {
   "cell_type": "markdown",
   "metadata": {},
   "source": [
    "CONTRACT UPGRADE"
   ]
  },
  {
   "cell_type": "code",
   "execution_count": null,
   "metadata": {},
   "outputs": [],
   "source": [
    "from utils.utils_chain import base64_to_hex\n",
    "from utils.utils_chain import WrapperAddress\n",
    "\n",
    "\n",
    "def fees_collector_upgrade(bytecode_path: Path):\n",
    "    context.deployer_account.sync_nonce(context.network_provider.proxy)\n",
    "\n",
    "    tx_hash = fees_collector_contract.contract_upgrade(context.deployer_account, context.network_provider.proxy, bytecode_path, \n",
    "                                         args, \n",
    "                                         no_init=True)\n",
    "\n",
    "    chain_sim.advance_blocks(1)\n",
    "\n",
    "    code_hash = context.network_provider.proxy.get_account(WrapperAddress(fees_collector_contract.address)).contract_code_hash.hex()\n",
    "    # assert code_hash == contract_code_hash\n",
    "    \n",
    "    return tx_hash"
   ]
  },
  {
   "cell_type": "markdown",
   "metadata": {},
   "source": [
    "SET ROUTER ADDRESS"
   ]
  },
  {
   "cell_type": "code",
   "execution_count": null,
   "metadata": {},
   "outputs": [],
   "source": [
    "context.deployer_account.sync_nonce(proxy)\n",
    "fees_collector_contract.set_router_address(context.deployer_account, proxy, router_contract.address)\n",
    "chain_sim.advance_blocks(1)"
   ]
  },
  {
   "cell_type": "markdown",
   "metadata": {},
   "source": [
    "SET BURN PERCENTAGES"
   ]
  },
  {
   "cell_type": "code",
   "execution_count": null,
   "metadata": {},
   "outputs": [],
   "source": [
    "context.deployer_account.sync_nonce(proxy)\n",
    "fees_collector_contract.set_base_token_burn_percent(context.deployer_account, proxy, 5000)\n",
    "chain_sim.advance_blocks(1)"
   ]
  },
  {
   "cell_type": "code",
   "execution_count": null,
   "metadata": {},
   "outputs": [],
   "source": [
    "pair_contract.add_fees_collector(context.deployer_account, proxy, [fees_collector_contract.address, 100000])\n",
    "chain_sim.advance_blocks(1)"
   ]
  },
  {
   "cell_type": "code",
   "execution_count": null,
   "metadata": {},
   "outputs": [],
   "source": [
    "print(pair_contract.get_config_dict())"
   ]
  },
  {
   "cell_type": "markdown",
   "metadata": {},
   "source": [
    "SWAP TO BASE TOKEN"
   ]
  },
  {
   "cell_type": "code",
   "execution_count": null,
   "metadata": {},
   "outputs": [],
   "source": [
    "from multiversx_sdk.abi import Abi\n",
    "from utils.utils_chain import get_token_details_for_address\n",
    "\n",
    "abi = Abi.load(config.HOME / \"Projects/dex/mx-exchange-sc/output-docker/fees-collector/fees-collector.abi.json\")\n",
    "\n",
    "def get_available_amount_for_swap(token: str):\n",
    "    _, amount, _ = get_token_details_for_address(token, fees_collector_contract.address, context.network_provider.proxy)\n",
    "    current_week = fees_collector_contract.get_current_week(context.network_provider.proxy)\n",
    "    locked_rewards = 0\n",
    "    for week in range(current_week-4, current_week):\n",
    "        response = fees_collector_contract.get_total_rewards_for_week(context.network_provider.proxy, week, abi)\n",
    "        for token_payment in response:\n",
    "            if token_payment.token_identifier == token:\n",
    "                locked_rewards += token_payment.amount\n",
    "\n",
    "    accumulated_fees = fees_collector_contract.get_accumulated_fees(context.network_provider.proxy, token)\n",
    "\n",
    "    return amount - locked_rewards - accumulated_fees\n",
    "    \n",
    "def build_args_for_swap(amount: int):\n",
    "    routes: list[list[Any]] = []\n",
    "    routes.append((Address(pair_contract.address), \"swapTokensFixedInput\" , pair_contract.firstToken, 1))\n",
    "    routes.append((Address(mex_contract.address), \"swapTokensFixedInput\" , \"MEX-455c57\", 1))\n",
    "    \n",
    "    sc_args = [\n",
    "           (pair_contract.secondToken, 0, amount),\n",
    "           routes\n",
    "        ]\n",
    "\n",
    "    return sc_args"
   ]
  },
  {
   "cell_type": "code",
   "execution_count": null,
   "metadata": {},
   "outputs": [],
   "source": [
    "fees_collector_contract.swap_to_base_token(context.deployer_account, proxy, abi, args)\n",
    "chain_sim.advance_blocks(1)"
   ]
  },
  {
   "cell_type": "code",
   "execution_count": null,
   "metadata": {},
   "outputs": [],
   "source": [
    "chain_sim.advance_blocks(1)"
   ]
  },
  {
   "cell_type": "markdown",
   "metadata": {},
   "source": [
    "ADD REWARD TOKENS"
   ]
  },
  {
   "cell_type": "code",
   "execution_count": null,
   "metadata": {},
   "outputs": [],
   "source": [
    "context.deployer_account.sync_nonce(proxy)\n",
    "fees_collector_contract.add_reward_tokens(context.deployer_account, proxy, [\"MEX-455c57\", \"XMEX-fda355\"])"
   ]
  },
  {
   "cell_type": "markdown",
   "metadata": {},
   "source": [
    "REMOVE REWARD TOKENS"
   ]
  },
  {
   "cell_type": "code",
   "execution_count": null,
   "metadata": {},
   "outputs": [],
   "source": [
    "fees_collector_contract.remove_reward_tokens(context.deployer_account, proxy, [\"USDC-c76f1f\",\n",
    "                                                                               \"RIDE-7d18e9\", \n",
    "                                                                               \"CRU-a5f4aa\", \n",
    "                                                                               \"ZPAY-247875\", \n",
    "                                                                               \"ITHEUM-df6f26\", \n",
    "                                                                               \"BHAT-c1fde3\", \n",
    "                                                                               \"CRT-52decf\", \n",
    "                                                                               \"UTK-2f80e9\",\n",
    "                                                                               \"QWT-46ac01\",\n",
    "                                                                               \"ASH-a642d1\",\n",
    "                                                                               \"WETH-b4ca29\",\n",
    "                                                                               \"USDT-f8c08c\",\n",
    "                                                                               \"HTM-f51d55\",\n",
    "                                                                               \"WDAI-9eeb54\",\n",
    "                                                                               \"TADA-5c032c\",\n",
    "                                                                               \"XOXNO-c1293a\",\n",
    "                                                                               \"A1X-0d446d\",\n",
    "                                                                               \"USH-111e09\",\n",
    "                                                                               \"FOXSY-5d5f3e\"\n",
    "                                                                               ])\n",
    "advance_blocks(1)"
   ]
  },
  {
   "cell_type": "code",
   "execution_count": null,
   "metadata": {},
   "outputs": [],
   "source": [
    "energy_factory: SimpleLockEnergyContract\n",
    "energy_factory = context.get_contracts(config.SIMPLE_LOCKS_ENERGY)[0]\n",
    "\n",
    "context.deployer_account.sync_nonce(proxy)\n",
    "tx_hash = energy_factory.set_burn_role_locked_token(context.deployer_account,\n",
    "                                                                proxy,\n",
    "                                                                [fees_collector_contract.address])\n",
    "\n",
    "advance_blocks(1)"
   ]
  },
  {
   "cell_type": "code",
   "execution_count": null,
   "metadata": {},
   "outputs": [],
   "source": [
    "energy_factory.set_transfer_role_locked_token(context.deployer_account, context.network_provider.proxy, [mex_contract.address])\n",
    "advance_blocks(1)"
   ]
  },
  {
   "cell_type": "code",
   "execution_count": null,
   "metadata": {},
   "outputs": [],
   "source": [
    "from contracts.builtin_contracts import ESDTContract\n",
    "\n",
    "esdt_contract = ESDTContract(config.TOKENS_CONTRACT_ADDRESS)\n",
    "context.deployer_account.sync_nonce(context.network_provider.proxy)\n",
    "tx_hash = esdt_contract.set_special_role_token(context.deployer_account, context.network_provider.proxy,\n",
    "                                               [BASE_TOKEN, fees_collector_contract.address, \"ESDTRoleLocalMint\", \"ESDTRoleLocalBurn\"])\n"
   ]
  },
  {
   "cell_type": "markdown",
   "metadata": {},
   "source": [
    "# SCENARIOS"
   ]
  },
  {
   "cell_type": "code",
   "execution_count": null,
   "metadata": {},
   "outputs": [],
   "source": [
    "from tools.chain_simulator_connector import ChainSimulator, start_handler\n",
    "from utils.utils_chain import get_token_details_for_address, WrapperAddress as Address\n",
    "from contracts.pair_contract import PairContract, SwapFixedInputEvent\n",
    "from argparse import Namespace\n",
    "from time import sleep\n",
    "\n",
    "docker_path = config.CHAIN_SIMULATOR_DOCKER_PATH\n",
    "state_path = config.DEFAULT_WORKSPACE / \"states\"\n",
    "args = Namespace(docker_path=str(docker_path), state_path=str(state_path))\n",
    "chain_sim, found_accounts = start_handler(args)\n",
    "print(f'Loaded {len(found_accounts)} accounts')\n",
    "sleep(10)"
   ]
  },
  {
   "cell_type": "code",
   "execution_count": null,
   "metadata": {},
   "outputs": [],
   "source": [
    "from tools.chain_simulator_connector import ChainSimulator, start_handler\n",
    "from utils.utils_chain import get_token_details_for_address, WrapperAddress as Address\n",
    "from contracts.pair_contract import PairContract, SwapFixedInputEvent\n",
    "from contracts.builtin_contracts import ESDTContract\n",
    "\n",
    "# INITIALIZE USERS\n",
    "\n",
    "USERS = found_accounts\n",
    "users = users_init()\n",
    "\n",
    "purse_account = next(user for user in users if user.address.to_bech32() == \"erd146exyad7pn95pru78egj07nnyfgnyeaytxte33nxxd24g55uccgs77rr7d\")\n",
    "user_without_energy = next(user for user in users if user.address.to_bech32() == \"erd146exyad7pn95pru78egj07nnyfgnyeaytxte33nxxd24g55uccgs77rr7d\")\n",
    "user_with_energy = next(user for user in users if user.address.to_bech32() == \"erd1emxytu3umnzm4k2cn2xmtppy8j3dm3lnsjhfzkul8gd5a4xxuk3qsl4xjw\")\n",
    "user_with_energy_2 = next(user for user in users if user.address.to_bech32() == \"erd1adljw932qra4sf5mpxjyzelmf4lykwt5ppxlre59utjcpc22uhms2qxcqx\")\n",
    "\n",
    "pair_contract: PairContract= context.get_contracts(config.PAIRS_V2)[1]\n",
    "print(pair_contract.get_config_dict())\n",
    "\n",
    "_, amount, _ = get_token_details_for_address(pair_contract.secondToken, purse_account.address.to_bech32(), context.network_provider.proxy)\n",
    "if amount == 0:\n",
    "    raise Exception(f\"No amount found on {purse_account.address.to_bech32()}\")\n",
    "print(f'Amount found on {purse_account.address.to_bech32()}: {amount}')\n",
    "\n",
    "# GET KNOWN CONTRACTS BEFORE UPGRADE -- THESE WILL BE REMOVED BY THE UPGRADE\n",
    "known_contracts = fees_collector_contract.get_known_contracts(proxy)\n",
    "\n",
    "# UPGRADE CONTRACT\n",
    "\n",
    "fees_collector_upgrade()\n",
    "\n",
    "context.deployer_account.sync_nonce(proxy)\n",
    "fees_collector_contract.set_router_address(context.deployer_account, proxy, router_contract.address)\n",
    "chain_sim.advance_blocks(1)\n",
    "\n",
    "fees_collector_contract.add_admin(context.deployer_account, context.network_provider.proxy, [context.deployer_account.address])\n",
    "chain_sim.advance_blocks(1)\n",
    "\n",
    "# BEGIN SCENARIO\n",
    "\n",
    "def week_activity():\n",
    "    # CLAIM REWARDS 1\n",
    "\n",
    "    user_with_energy.sync_nonce(context.network_provider.proxy)\n",
    "    fees_collector_contract.claim_rewards(user_with_energy, proxy) #4 blocks\n",
    "    chain_sim.advance_blocks(5)\n",
    "\n",
    "    user_without_energy.sync_nonce(context.network_provider.proxy)\n",
    "    fees_collector_contract.claim_rewards(user_without_energy, proxy) #4 blocks\n",
    "    chain_sim.advance_blocks(5)\n",
    "\n",
    "    # SWAP\n",
    "\n",
    "    purse_account.sync_nonce(proxy)\n",
    "    swap = SwapFixedInputEvent(pair_contract.secondToken, amount//10, pair_contract.firstToken, 1)\n",
    "\n",
    "    pair_contract.swap_fixed_input(context.network_provider, purse_account, swap)\n",
    "    chain_sim.advance_blocks(5)\n",
    "\n",
    "    # CONVERT TO MEX\n",
    "    args = build_args_for_swap()\n",
    "    context.deployer_account.sync_nonce(proxy)\n",
    "    fees_collector_contract.swap_to_base_token(context.deployer_account, proxy, abi, args)\n",
    "    chain_sim.advance_blocks(1)\n",
    "\n",
    "    # CLAIM REWARDS 2\n",
    "\n",
    "    user_with_energy_2.sync_nonce(context.network_provider.proxy)\n",
    "    fees_collector_contract.claim_rewards(user_with_energy_2, proxy) #4 blocks\n",
    "    chain_sim.advance_blocks(5)\n",
    "\n",
    "# FIRST WEEKS ------------------------------------------------------------\n",
    "\n",
    "weeks = 5\n",
    "for week in range(weeks):\n",
    "\n",
    "    print(f\"Week {week}\")\n",
    "\n",
    "    # WEEK ACTIVITY\n",
    "    week_activity()\n",
    "\n",
    "    # PASS THE WEEK\n",
    "    chain_sim.advance_epochs_to_epoch(get_next_week_start_epoch())\n",
    "\n",
    "# WEEK 5 SETUP ------------------------------------------------------------\n",
    "\n",
    "user_with_energy.sync_nonce(context.network_provider.proxy)\n",
    "fees_collector_contract.claim_rewards(user_with_energy, proxy) #4 blocks\n",
    "chain_sim.advance_blocks(5)\n",
    "\n",
    "# CLEANUP KNOWN TOKENS\n",
    "\n",
    "tokens = fees_collector_contract.get_reward_tokens(proxy)\n",
    "tokens.remove(energy_contract.base_token)\n",
    "tokens.remove(energy_contract.locked_token)\n",
    "\n",
    "fees_collector_contract.remove_reward_tokens(context.deployer_account, proxy, tokens)\n",
    "chain_sim.advance_blocks(1)\n",
    "\n",
    "# SET NEW BURN PERCENTAGE\n",
    "\n",
    "esdt_contract = ESDTContract(config.TOKENS_CONTRACT_ADDRESS)\n",
    "esdt_contract.set_special_role_token(context.deployer_account, context.network_provider.proxy,\n",
    "                                               [energy_contract.base_token, fees_collector_contract.address, \"ESDTRoleLocalBurn\"])\n",
    "\n",
    "chain_sim.advance_blocks(5)\n",
    "\n",
    "fees_collector_contract.set_base_token_burn_percent(context.deployer_account, proxy, 5000)\n",
    "chain_sim.advance_blocks(1)\n",
    "\n",
    "# MODIFY FEES FOR KNOWN CONTRACTS\n",
    "\n",
    "for address in known_contracts:\n",
    "    mod_contract = PairContract.load_contract_by_address(address)\n",
    "    if mod_contract is None:\n",
    "        continue\n",
    "    mod_contract.add_fees_collector(context.deployer_account, proxy, [fees_collector_contract.address, 100000])\n",
    "    chain_sim.advance_blocks(1)\n",
    "\n",
    "# WEEK ACTIVITY\n",
    "week_activity()\n",
    "\n",
    "chain_sim.advance_epochs_to_epoch(get_next_week_start_epoch())\n",
    "\n",
    "# WEEK ACTIVITY\n",
    "week_activity()\n"
   ]
  },
  {
   "cell_type": "markdown",
   "metadata": {},
   "source": [
    "BINARY COMPARE"
   ]
  },
  {
   "cell_type": "code",
   "execution_count": null,
   "metadata": {},
   "outputs": [],
   "source": [
    "from utils.utils_scenarios import PhaseDictsCollector\n",
    "from tools.chain_simulator_connector import ChainSimulator, start_handler\n",
    "from utils.utils_chain import get_token_details_for_address, WrapperAddress as Address\n",
    "from contracts.pair_contract import PairContract, SwapFixedInputEvent\n",
    "from contracts.builtin_contracts import ESDTContract\n",
    "from argparse import Namespace\n",
    "from time import sleep\n",
    "\n",
    "def test_scenario(bytecode_path: Path, collector: PhaseDictsCollector):\n",
    "    users = users_init(found_accounts)\n",
    "\n",
    "    purse_account = next(user for user in users if user.address.to_bech32() == \"erd146exyad7pn95pru78egj07nnyfgnyeaytxte33nxxd24g55uccgs77rr7d\")\n",
    "    user_without_energy = next(user for user in users if user.address.to_bech32() == \"erd146exyad7pn95pru78egj07nnyfgnyeaytxte33nxxd24g55uccgs77rr7d\")\n",
    "    user_with_energy = next(user for user in users if user.address.to_bech32() == \"erd1emxytu3umnzm4k2cn2xmtppy8j3dm3lnsjhfzkul8gd5a4xxuk3qsl4xjw\")\n",
    "    user_with_energy_2 = next(user for user in users if user.address.to_bech32() == \"erd1adljw932qra4sf5mpxjyzelmf4lykwt5ppxlre59utjcpc22uhms2qxcqx\")\n",
    "\n",
    "    pair_contract: PairContract= context.get_contracts(config.PAIRS_V2)[1]\n",
    "    print(pair_contract.get_config_dict())\n",
    "\n",
    "    _, amount, _ = get_token_details_for_address(pair_contract.secondToken, purse_account.address.to_bech32(), context.network_provider.proxy)\n",
    "    if amount == 0:\n",
    "        raise Exception(f\"No amount found on {purse_account.address.to_bech32()}\")\n",
    "    print(f'Amount found on {purse_account.address.to_bech32()}: {amount}')\n",
    "\n",
    "    # GET KNOWN CONTRACTS BEFORE UPGRADE -- THESE WILL BE REMOVED BY THE UPGRADE\n",
    "    known_contracts = fees_collector_contract.get_known_contracts(proxy)\n",
    "\n",
    "    # UPGRADE CONTRACT\n",
    "\n",
    "    fees_collector_upgrade(bytecode_path)\n",
    "\n",
    "    context.deployer_account.sync_nonce(proxy)\n",
    "    fees_collector_contract.set_router_address(context.deployer_account, proxy, router_contract.address)\n",
    "    chain_sim.advance_blocks(1)\n",
    "\n",
    "    fees_collector_contract.add_admin(context.deployer_account, context.network_provider.proxy, [context.deployer_account.address])\n",
    "    chain_sim.advance_blocks(1)\n",
    "\n",
    "    # BEGIN SCENARIO\n",
    "\n",
    "    def week_activity(week: int):\n",
    "        # CLAIM REWARDS 1\n",
    "\n",
    "        user_with_energy.sync_nonce(context.network_provider.proxy)\n",
    "        hash = fees_collector_contract.claim_rewards(user_with_energy, proxy) #4 blocks\n",
    "        chain_sim.advance_blocks(5)\n",
    "        sleep(2)\n",
    "        claim_ops = context.network_provider.get_tx_operations(hash, True)\n",
    "        collector.add(f\"CLAIM_USER_1_W_ENERGY_WEEK_{week}\", claim_ops, \"Claim from user1 with energy\")\n",
    "\n",
    "        user_without_energy.sync_nonce(context.network_provider.proxy)\n",
    "        fees_collector_contract.claim_rewards(user_without_energy, proxy) #4 blocks\n",
    "        chain_sim.advance_blocks(5)\n",
    "\n",
    "        # SWAP\n",
    "\n",
    "        purse_account.sync_nonce(proxy)\n",
    "        swap = SwapFixedInputEvent(pair_contract.secondToken, amount//10, pair_contract.firstToken, 1)\n",
    "\n",
    "        pair_contract.swap_fixed_input(context.network_provider, purse_account, swap)\n",
    "        chain_sim.advance_blocks(5)\n",
    "\n",
    "        # CONVERT TO MEX\n",
    "        args = build_args_for_swap()\n",
    "        context.deployer_account.sync_nonce(proxy)\n",
    "        fees_collector_contract.swap_to_base_token(context.deployer_account, proxy, abi, args)\n",
    "        chain_sim.advance_blocks(1)\n",
    "\n",
    "        # CLAIM REWARDS 2\n",
    "\n",
    "        user_with_energy_2.sync_nonce(context.network_provider.proxy)\n",
    "        hash = fees_collector_contract.claim_rewards(user_with_energy_2, proxy) #4 blocks\n",
    "        chain_sim.advance_blocks(5)\n",
    "        sleep(2)\n",
    "        claim_ops = context.network_provider.get_tx_operations(hash, True)\n",
    "        collector.add(f\"CLAIM_USER_2_W_ENERGY_WEEK_{week}\", claim_ops, \"Claim from user2 with energy\")\n",
    "\n",
    "    # FIRST WEEKS ------------------------------------------------------------\n",
    "\n",
    "    weeks = 5\n",
    "    for week in range(weeks):\n",
    "\n",
    "        print(f\"Week {week}\")\n",
    "\n",
    "        # WEEK ACTIVITY\n",
    "        week_activity(week)\n",
    "\n",
    "        # PASS THE WEEK\n",
    "        chain_sim.advance_epochs_to_epoch(get_next_week_start_epoch())\n",
    "\n",
    "    # WEEK 5 SETUP ------------------------------------------------------------\n",
    "\n",
    "    user_with_energy.sync_nonce(context.network_provider.proxy)\n",
    "    hash = fees_collector_contract.claim_rewards(user_with_energy, proxy) #4 blocks\n",
    "    chain_sim.advance_blocks(5)\n",
    "    sleep(2)\n",
    "    claim_ops = context.network_provider.get_tx_operations(hash, True)\n",
    "    collector.add(f\"RECLAIM_USER_1_W_ENERGY_WEEK_{week+1}\", claim_ops, \"Early claim from user1 with energy\")\n",
    "\n",
    "    # CLEANUP KNOWN TOKENS\n",
    "\n",
    "    tokens = fees_collector_contract.get_reward_tokens(proxy)\n",
    "    tokens.remove(energy_contract.base_token)\n",
    "    tokens.remove(energy_contract.locked_token)\n",
    "\n",
    "    fees_collector_contract.remove_reward_tokens(context.deployer_account, proxy, tokens)\n",
    "    chain_sim.advance_blocks(1)\n",
    "\n",
    "    # SET NEW BURN PERCENTAGE\n",
    "\n",
    "    esdt_contract = ESDTContract(config.TOKENS_CONTRACT_ADDRESS)\n",
    "    esdt_contract.set_special_role_token(context.deployer_account, context.network_provider.proxy,\n",
    "                                                [energy_contract.base_token, fees_collector_contract.address, \"ESDTRoleLocalBurn\"])\n",
    "\n",
    "    chain_sim.advance_blocks(5)\n",
    "\n",
    "    fees_collector_contract.set_base_token_burn_percent(context.deployer_account, proxy, 5000)\n",
    "    chain_sim.advance_blocks(1)\n",
    "\n",
    "    # MODIFY FEES FOR KNOWN CONTRACTS\n",
    "\n",
    "    for address in known_contracts:\n",
    "        mod_contract = PairContract.load_contract_by_address(address)\n",
    "        if mod_contract is None:\n",
    "            continue\n",
    "        mod_contract.add_fees_collector(context.deployer_account, proxy, [fees_collector_contract.address, 100000])\n",
    "        chain_sim.advance_blocks(1)\n",
    "\n",
    "    # WEEK ACTIVITY\n",
    "    week_activity(week+1)\n",
    "\n",
    "    chain_sim.advance_epochs_to_epoch(get_next_week_start_epoch())\n",
    "\n",
    "    # WEEK ACTIVITY\n",
    "    week_activity(week+2)"
   ]
  },
  {
   "cell_type": "code",
   "execution_count": null,
   "metadata": {},
   "outputs": [],
   "source": [
    "upgrade1_path = config.HOME / \"wasm/fees-collector.wasm\"\n",
    "upgrade2_path = config.HOME / \"wasm/fees-collector-rewards-per-epoch.wasm\"\n",
    "\n",
    "docker_path = config.HOME / \"Projects/testing/full-stack-docker-compose/chain-simulator\"\n",
    "state_path = config.DEFAULT_WORKSPACE / \"states\"\n",
    "args = Namespace(docker_path=str(docker_path), state_path=str(state_path))\n",
    "    \n",
    "collector = PhaseDictsCollector()\n",
    "\n",
    "chain_sim, found_accounts = start_handler(args)\n",
    "print(f'Loaded {len(found_accounts)} accounts')\n",
    "sleep(10)\n",
    "\n",
    "collector.set_phase(\"wasm-1\")\n",
    "test_scenario(upgrade1_path, collector)\n",
    "\n",
    "chain_sim, found_accounts = start_handler(args)\n",
    "print(f'Loaded {len(found_accounts)} accounts')\n",
    "sleep(10)\n",
    "\n",
    "collector.set_phase(\"wasm-2\")\n",
    "test_scenario(upgrade2_path, collector)\n",
    "\n",
    "differences = collector.compare_all()\n",
    "if differences:\n",
    "    print(\"Found differences:\")\n",
    "    for diff in differences:\n",
    "        print(f\"- {diff}\")\n",
    "else:\n",
    "    print(\"All comparisons passed!\")"
   ]
  },
  {
   "cell_type": "code",
   "execution_count": null,
   "metadata": {},
   "outputs": [],
   "source": [
    "collector.print_collections()"
   ]
  },
  {
   "cell_type": "code",
   "execution_count": null,
   "metadata": {},
   "outputs": [],
   "source": [
    "args = build_args_for_swap()\n",
    "fees_collector_contract.swap_to_base_token(context.deployer_account, proxy, abi, args)\n",
    "chain_sim.advance_blocks(1)"
   ]
  },
  {
   "cell_type": "code",
   "execution_count": null,
   "metadata": {},
   "outputs": [],
   "source": [
    "from contracts.builtin_contracts import ESDTContract\n",
    "\n",
    "esdt_contract = ESDTContract(config.TOKENS_CONTRACT_ADDRESS)\n",
    "context.deployer_account.sync_nonce(context.network_provider.proxy)\n",
    "\n",
    "tx_hash = esdt_contract.set_special_role_token(context.deployer_account, context.network_provider.proxy,\n",
    "                                               [BASE_TOKEN, fees_collector_contract.address, \"ESDTRoleLocalBurn\"])\n",
    "\n",
    "pair_contract.add_fees_collector(context.deployer_account, proxy, [fees_collector_contract.address, 100000])\n",
    "mex_contract.add_fees_collector(context.deployer_account, proxy, [fees_collector_contract.address, 100000])\n",
    "fees_collector_contract.set_base_token_burn_percent(context.deployer_account, proxy, 5000)\n",
    "chain_sim.advance_blocks(1)\n",
    "\n",
    "purse_account.sync_nonce(proxy)\n",
    "swap = SwapFixedInputEvent(pair_contract.secondToken, amount//10, pair_contract.firstToken, 1)\n",
    "pair_contract.swap_fixed_input(context.network_provider, purse_account, swap)\n",
    "chain_sim.advance_blocks(5)\n",
    "\n",
    "# CONVERT TO MEX\n",
    "\n",
    "args = build_args_for_swap()\n",
    "fees_collector_contract.swap_to_base_token(context.deployer_account, proxy, abi, args)\n",
    "chain_sim.advance_blocks(1)\n",
    "\n",
    "# CLAIM REWARDS 2\n",
    "\n",
    "user_with_energy_2.sync_nonce(context.network_provider.proxy)\n",
    "fees_collector_contract.claim_rewards(user_with_energy_2, proxy) #4 blocks\n",
    "chain_sim.advance_blocks(5)"
   ]
  },
  {
   "cell_type": "code",
   "execution_count": null,
   "metadata": {},
   "outputs": [],
   "source": [
    "chain_sim.advance_blocks(1)       "
   ]
  },
  {
   "cell_type": "code",
   "execution_count": null,
   "metadata": {},
   "outputs": [],
   "source": [
    "chain_sim.advance_epochs(7)"
   ]
  },
  {
   "cell_type": "code",
   "execution_count": null,
   "metadata": {},
   "outputs": [],
   "source": [
    "chain_sim.advance_epochs_to_epoch(get_next_week_start_epoch())"
   ]
  },
  {
   "cell_type": "markdown",
   "metadata": {},
   "source": [
    "## Claim all"
   ]
  },
  {
   "cell_type": "code",
   "execution_count": null,
   "metadata": {},
   "outputs": [],
   "source": [
    "from utils.utils_chain import WrapperAddress as Address, Account,string_to_hex\n",
    "from utils.utils_tx import split_to_chunks\n",
    "from multiversx_sdk.network_providers.resources import AccountStorage\n",
    "from concurrent.futures import ThreadPoolExecutor\n",
    "from multiversx_sdk import SmartContractTransactionsFactory, TransactionsFactoryConfig\n",
    "from tools.runners.common_runner import get_default_signature\n",
    "\n",
    "def get_addresses_in_fees_collector(state: AccountStorage) -> list[str]:\n",
    "    logger.debug(f'Getting addresses in fees collector')\n",
    "    addresses_in_fees_collector = []\n",
    "    for entry in state.entries:\n",
    "        if \"currentClaimProgress\" in entry.key:\n",
    "            for key in entry.raw.keys():\n",
    "                hex_address = key.removeprefix(string_to_hex(\"currentClaimProgress\"))\n",
    "                addresses_in_fees_collector.append(Address.from_hex(hex_address).to_bech32())\n",
    "    logger.debug(f'Found {len(addresses_in_fees_collector)} addresses in fees collector')\n",
    "    return addresses_in_fees_collector\n",
    "\n",
    "def fund_addresses_in_fees_collector(addresses: list[str]):\n",
    "    logger.debug(f'Funding {len(addresses)} addresses in fees collector')\n",
    "    count = 0\n",
    "    user_addresses = []\n",
    "    for address in addresses:\n",
    "        if not Address(address).is_smart_contract():\n",
    "            user_addresses.append(address)\n",
    "\n",
    "    # with ThreadPoolExecutor(max_workers=100) as executor:\n",
    "    #     args = [(address, 10 * 10**18) for address in user_addresses]\n",
    "    #     executor.map(fund_chain_sim_user_w_egld, args)\n",
    "\n",
    "    fund_chain_sim_users_w_egld(user_addresses, 10 * 10**18)\n",
    "        \n",
    "\n",
    "def claim_rewards_for_addresses(addresses: list[str]) -> list[str]:\n",
    "    logger.debug(f'Claiming rewards for {len(addresses)} addresses')\n",
    "    hashes = []\n",
    "    transactions = []\n",
    "    signature = get_default_signature()\n",
    "\n",
    "    chain_id = context.network_provider.proxy.get_network_config().chain_id\n",
    "    config_tx = TransactionsFactoryConfig(chain_id=chain_id)\n",
    "\n",
    "    for address in addresses:\n",
    "        if Address(address).is_smart_contract():\n",
    "            continue\n",
    "\n",
    "        factory = SmartContractTransactionsFactory(config_tx)\n",
    "        tx = factory.create_transaction_for_execute(\n",
    "            Address(address),\n",
    "            Address(fees_collector_contract.address),\n",
    "            \"claimRewards\",\n",
    "            100000000,\n",
    "            [],\n",
    "            0,\n",
    "            [])\n",
    "        tx.nonce = 0\n",
    "        tx.signature = signature\n",
    "        transactions.append(tx)\n",
    "    \n",
    "    logger.debug(f\"Starting to send {len(transactions)} transactions\")\n",
    "    transactions_chunks = split_to_chunks(transactions, 100)\n",
    "    i = 0\n",
    "    for chunk in transactions_chunks:\n",
    "        try:\n",
    "            num_sent, sent_hashes = context.network_provider.proxy.send_transactions(chunk)\n",
    "            i += 1\n",
    "            logger.debug(f\"Sent {i} / {len(transactions) // 100 + 1 } chunks, {num_sent} / {len(chunk)} transactions\")\n",
    "            hashes.extend(sent_hashes)\n",
    "            chain_sim.advance_blocks(10)\n",
    "        except Exception as e:\n",
    "            logger.error(f\"Error sending transactions: {e}\")\n",
    "            # retry sending the same chunk 3 times\n",
    "            for _ in range(3):\n",
    "                try:\n",
    "                    num_sent, hashes = context.network_provider.proxy.send_transactions(chunk)\n",
    "                    i += 1\n",
    "                    logger.debug(f\"Sent {i} / {len(transactions) // 100 + 1 } chunks, {num_sent} / {len(chunk)} transactions\")\n",
    "                    hashes.extend(hashes)\n",
    "                    chain_sim.advance_blocks(20)\n",
    "                    break\n",
    "                except Exception as e:\n",
    "                    logger.error(f\"Error sending transactions: {e}\")\n",
    "                    continue\n",
    "            else:\n",
    "                logger.error(f\"Failed to send transactions after 3 retries\")\n",
    "                raise e\n",
    "\n",
    "    chain_sim.advance_blocks(1000)\n",
    "    return hashes\n",
    "\n",
    "def check_if_hashes_are_failed(hashes: list[str]) -> list[str]:\n",
    "    logger.debug(f'Checking if {len(hashes)} hashes are failed')\n",
    "    failed_hashes = []\n",
    "\n",
    "    def check_if_hash_is_failed(hash: bytes | str):\n",
    "        try:\n",
    "            status = context.network_provider.proxy.get_transaction_status(hash)\n",
    "        except Exception as e:\n",
    "            # retry 3 times\n",
    "            for _ in range(3):\n",
    "                try:\n",
    "                    status = context.network_provider.proxy.get_transaction_status(hash)\n",
    "                    break\n",
    "                except Exception as e:\n",
    "                    continue\n",
    "            else:\n",
    "                logger.error(f\"Failed to get transaction status after 3 retries\")\n",
    "                return None\n",
    "        \n",
    "        if status.status == \"pending\":\n",
    "            logger.warning(f\"Hash {hash.hex() if isinstance(hash, bytes) else hash} is pending\")\n",
    "            return None\n",
    "        if status.status != \"success\":\n",
    "            return hash\n",
    "        return None\n",
    "\n",
    "    with ThreadPoolExecutor(max_workers=10) as executor:\n",
    "        check_list = list(executor.map(check_if_hash_is_failed, reversed(hashes)))\n",
    "    failed_hashes = [hash for hash in check_list if hash is not None]\n",
    "    logger.debug(f'Found {len(failed_hashes)} failed hashes')\n",
    "    return failed_hashes\n",
    "\n",
    "def check_if_hashes_are_failed_via_api(hashes: list[str]) -> list[str]:\n",
    "    logger.debug(f'Checking if {len(hashes)} hashes are failed')\n",
    "    failed_hashes = []\n",
    "\n",
    "    def check_if_hash_is_failed(hash: bytes | str):\n",
    "        try:\n",
    "            status = context.network_provider.api.get_transaction(hash).status\n",
    "        except Exception as e:\n",
    "            # retry 3 times\n",
    "            for _ in range(3):\n",
    "                try:\n",
    "                    status = context.network_provider.api.get_transaction(hash).status\n",
    "                    break\n",
    "                except Exception as e:\n",
    "                    continue\n",
    "            else:\n",
    "                logger.error(f\"Failed to get transaction status after 3 retries\")\n",
    "                return None\n",
    "        \n",
    "        if status.is_failed:\n",
    "            return hash\n",
    "        return None\n",
    "\n",
    "    processed = 0\n",
    "    failed = 0\n",
    "    total = len(hashes)\n",
    "    \n",
    "    def update_progress(future):\n",
    "        nonlocal processed, failed\n",
    "        processed += 1\n",
    "        if future.result() is not None:\n",
    "            failed += 1\n",
    "        if processed % 100 == 0:\n",
    "            print(f\"Processed {processed}/{total} hashes, failed {failed}\", end=\"\\r\")\n",
    "    \n",
    "    futures = []\n",
    "    with ThreadPoolExecutor(max_workers=100) as executor:\n",
    "        for hash in reversed(hashes):\n",
    "            future = executor.submit(check_if_hash_is_failed, hash)\n",
    "            future.add_done_callback(update_progress)\n",
    "            futures.extend([future])\n",
    "        \n",
    "        check_list = [f.result() for f in futures]\n",
    "    failed_hashes = [hash for hash in check_list if hash is not None]\n",
    "    logger.debug(f'Found {len(failed_hashes)} failed hashes')\n",
    "    return failed_hashes"
   ]
  },
  {
   "cell_type": "code",
   "execution_count": null,
   "metadata": {},
   "outputs": [],
   "source": [
    "from utils.utils_scenarios import PhaseDictsCollector\n",
    "from tools.chain_simulator_connector import ChainSimulator, start_handler\n",
    "from utils.utils_chain import get_token_details_for_address, WrapperAddress as Address\n",
    "from contracts.pair_contract import PairContract, SwapFixedInputEvent\n",
    "from contracts.builtin_contracts import ESDTContract\n",
    "from argparse import Namespace\n",
    "from time import sleep\n",
    "\n",
    "def prep_claim_all(bytecode_path: Path):\n",
    "    pair_contract: PairContract= context.get_contracts(config.PAIRS_V2)[1]\n",
    "    print(pair_contract.get_config_dict())\n",
    "\n",
    "    # UPGRADE CONTRACT\n",
    "\n",
    "    fees_collector_upgrade(bytecode_path)\n",
    "\n",
    "    context.deployer_account.sync_nonce(proxy)\n",
    "    fees_collector_contract.set_router_address(context.deployer_account, proxy, router_contract.address)\n",
    "    chain_sim.advance_blocks(1)\n",
    "\n",
    "    fees_collector_contract.add_admin(context.deployer_account, context.network_provider.proxy, [context.deployer_account.address])\n",
    "    chain_sim.advance_blocks(1)\n",
    "\n",
    "    # CONVERT TO MEX\n",
    "    amount = get_available_amount_for_swap(pair_contract.secondToken)\n",
    "    args = build_args_for_swap(amount)\n",
    "    context.deployer_account.sync_nonce(proxy)\n",
    "    fees_collector_contract.swap_to_base_token(context.deployer_account, proxy, abi, args)\n",
    "    chain_sim.advance_blocks(1)\n",
    "\n",
    "    # REDISTRIBUTE MEX REWARDS\n",
    "    fees_collector_contract.redistribute_rewards(context.deployer_account, context.network_provider.proxy)\n",
    "    chain_sim.advance_blocks(1)"
   ]
  },
  {
   "cell_type": "markdown",
   "metadata": {},
   "source": [
    "Executable"
   ]
  },
  {
   "cell_type": "code",
   "execution_count": null,
   "metadata": {},
   "outputs": [],
   "source": [
    "# prep the test\n",
    "wasm_path = config.HOME / \"Projects/dex/mx-exchange-sc/output-docker/fees-collector/fees-collector.wasm\"\n",
    "prep_claim_all(wasm_path)\n",
    "\n",
    "starting_epoch = context.network_provider.proxy.get_network_status().current_epoch\n",
    "changing_epoch = get_next_week_start_epoch()\n",
    "\n",
    "state = context.network_provider.proxy.get_account_storage(Address(fees_collector_contract.address))\n",
    "addresses_in_fees_collector = get_addresses_in_fees_collector(state)\n",
    "\n",
    "fund_addresses_in_fees_collector(addresses_in_fees_collector)\n",
    "\n",
    "# at this point, all user addresses (without SCS!!) are funded and have nonce 0\n",
    "hashes = claim_rewards_for_addresses(addresses_in_fees_collector)\n",
    "\n",
    "# check if any hash is failed\n",
    "failed_hashes = check_if_hashes_are_failed_via_api(hashes)\n",
    "\n",
    "print(f'Failed hashes: {len(failed_hashes)}')\n",
    "print(failed_hashes)\n",
    "\n",
    "ending_epoch = context.network_provider.proxy.get_network_status().current_epoch\n",
    "print(f\"Starting epoch: {starting_epoch}, Week changing in epoch: {changing_epoch}, Ending epoch: {ending_epoch}\")"
   ]
  },
  {
   "cell_type": "code",
   "execution_count": null,
   "metadata": {},
   "outputs": [],
   "source": [
    "epoch = get_next_week_start_epoch()\n",
    "chain_sim.advance_epochs_to_epoch(epoch)"
   ]
  },
  {
   "cell_type": "code",
   "execution_count": null,
   "metadata": {},
   "outputs": [],
   "source": [
    "print(context.network_provider.proxy.get_network_status().current_epoch)"
   ]
  },
  {
   "cell_type": "code",
   "execution_count": null,
   "metadata": {},
   "outputs": [],
   "source": [
    "# prep the test\n",
    "wasm_path = config.HOME / \"Projects/dex/mx-exchange-sc/output-docker/fees-collector/fees-collector.wasm\"\n",
    "prep_claim_all(wasm_path)"
   ]
  },
  {
   "cell_type": "code",
   "execution_count": null,
   "metadata": {},
   "outputs": [],
   "source": [
    "amount = get_available_amount_for_swap(pair_contract.secondToken)\n",
    "args = build_args_for_swap(amount)\n",
    "context.deployer_account.sync_nonce(proxy)\n",
    "fees_collector_contract.swap_to_base_token(context.deployer_account, proxy, abi, args)\n",
    "chain_sim.advance_blocks(1)"
   ]
  },
  {
   "cell_type": "code",
   "execution_count": null,
   "metadata": {},
   "outputs": [],
   "source": [
    "from contracts.simple_lock_energy_contract import SimpleLockEnergyContract\n",
    "energy_contract: SimpleLockEnergyContract = context.get_contracts(config.SIMPLE_LOCKS_ENERGY)[0]\n",
    "\n",
    "energy_contract.get_energy_for_user(context.network_provider.proxy, \"erd1ll0lqrklv4f09jdwmd3l9gktwhzxzrw3uvrnqzxg2tenlnpyq8sqm8h7yv\")"
   ]
  },
  {
   "cell_type": "code",
   "execution_count": null,
   "metadata": {},
   "outputs": [],
   "source": [
    "from utils.utils_chain import Account, WrapperAddress\n",
    "\n",
    "user = \"erd1ll0lqrklv4f09jdwmd3l9gktwhzxzrw3uvrnqzxg2tenlnpyq8sqm8h7yv\"\n",
    "\n",
    "fund_chain_sim_users_w_egld([user], 10 * 10**18)\n",
    "\n",
    "user_account = Account(pem_file=config.DEFAULT_ACCOUNTS)\n",
    "user_account.address = WrapperAddress(user)\n",
    "user_account.sync_nonce(context.network_provider.proxy)\n",
    "\n",
    "fees_collector_contract.claim_rewards(user_account, context.network_provider.proxy)\n",
    "chain_sim.advance_blocks(6)"
   ]
  },
  {
   "cell_type": "code",
   "execution_count": null,
   "metadata": {},
   "outputs": [],
   "source": [
    "fees_collector_contract.redistribute_rewards(context.deployer_account, context.network_provider.proxy)\n",
    "chain_sim.advance_blocks(1)"
   ]
  },
  {
   "cell_type": "markdown",
   "metadata": {},
   "source": [
    "## Redistribute MEX rewards"
   ]
  },
  {
   "cell_type": "code",
   "execution_count": null,
   "metadata": {},
   "outputs": [],
   "source": [
    "from time import sleep\n",
    "\n",
    "undistributed = get_available_amount_for_swap(\"MEX-455c57\")\n",
    "current_accumulated = fees_collector_contract.get_accumulated_fees(context.network_provider.proxy, \"MEX-455c57\")\n",
    "\n",
    "fees_collector_contract.redistribute_rewards(context.deployer_account, context.network_provider.proxy)\n",
    "chain_sim.advance_blocks(1)\n",
    "sleep(2)\n",
    "\n",
    "resulting_accumulated = fees_collector_contract.get_accumulated_fees(context.network_provider.proxy, \"MEX-455c57\")\n",
    "\n",
    "assert resulting_accumulated == current_accumulated + undistributed"
   ]
  },
  {
   "cell_type": "markdown",
   "metadata": {},
   "source": [
    "# Manual upgrade"
   ]
  },
  {
   "cell_type": "code",
   "execution_count": null,
   "metadata": {},
   "outputs": [],
   "source": [
    "import sys\n",
    "from pathlib import Path\n",
    "from multiversx_sdk import ApiNetworkProvider, ProxyNetworkProvider\n",
    "from contracts.fees_collector_contract import FeesCollectorContract\n",
    "import os\n",
    "import importlib\n",
    "\n",
    "os.environ[\"MX_DEX_ENV\"] = \"chainsim\"\n",
    "\n",
    "sys.path.append(str(Path.cwd().parent.parent.absolute()))\n",
    "import config\n",
    "importlib.reload(config)\n",
    "from context import Context\n",
    "from utils.utils_chain import WrapperAddress\n",
    "\n",
    "context = Context()\n",
    "\n",
    "wasm_path = config.HOME / \"Projects/dex/mx-exchange-sc/output-docker/fees-collector/fees-collector.wasm\"\n",
    "contract_code_hash = \"79332a4388afa1eec49a770d981d0b0fcba4650c81cf959bbe9673349d2ee6eb\"\n",
    "admin = \"erd1rwsq0fxjrce9955hvvl3qrpl96xmuuxch9m6wlhxx6zs0n2v3hvqyu4lm5\"\n",
    "fees_collector_contract: FeesCollectorContract = context.get_contracts(config.FEES_COLLECTORS)[0]"
   ]
  },
  {
   "cell_type": "code",
   "execution_count": null,
   "metadata": {},
   "outputs": [],
   "source": [
    "fees_collector_upgrade(wasm_path, contract_code_hash)"
   ]
  },
  {
   "cell_type": "code",
   "execution_count": null,
   "metadata": {},
   "outputs": [],
   "source": [
    "# context.deployer_account.sync_nonce(context.network_provider.proxy)\n",
    "fees_collector_contract.set_router_address(context.deployer_account, context.network_provider.proxy, context.get_contracts(config.ROUTER_V2)[0].address)"
   ]
  },
  {
   "cell_type": "code",
   "execution_count": null,
   "metadata": {},
   "outputs": [],
   "source": [
    "# context.deployer_account.sync_nonce(context.network_provider.proxy)\n",
    "fees_collector_contract.add_admin(context.deployer_account, context.network_provider.proxy, [admin])"
   ]
  }
 ],
 "metadata": {
  "kernelspec": {
   "display_name": "venv",
   "language": "python",
   "name": "python3"
  },
  "language_info": {
   "codemirror_mode": {
    "name": "ipython",
    "version": 3
   },
   "file_extension": ".py",
   "mimetype": "text/x-python",
   "name": "python",
   "nbconvert_exporter": "python",
   "pygments_lexer": "ipython3",
   "version": "3.13.3"
  }
 },
 "nbformat": 4,
 "nbformat_minor": 2
}
