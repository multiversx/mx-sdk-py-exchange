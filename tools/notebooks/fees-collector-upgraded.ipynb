{
 "cells": [
  {
   "cell_type": "code",
   "execution_count": null,
   "metadata": {},
   "outputs": [],
   "source": [
    "import sys\n",
    "from pathlib import Path\n",
    "from multiversx_sdk import ApiNetworkProvider, ProxyNetworkProvider\n",
    "\n",
    "sys.path.append(str(Path.cwd().parent.parent.absolute()))\n",
    "import config\n",
    "from context import Context\n",
    "from utils.utils_chain import WrapperAddress\n",
    "\n",
    "\n",
    "SIMULATOR_URL = \"http://localhost:8085\"\n",
    "SIMULATOR_API = \"http://localhost:3001\"\n",
    "\n",
    "# SIMULATOR_URL = \"https://proxy-shadowfork-four.elrond.ro\"\n",
    "# SIMULATOR_API = \"https://proxy-shadowfork-four.elrond.ro\"\n",
    "\n",
    "GENERATE_BLOCKS_URL = f\"{SIMULATOR_URL}/simulator/generate-blocks\"\n",
    "GENERATE_BLOCKS_UNTIL_EPOCH_REACHED_URL = f\"{SIMULATOR_URL}/simulator/generate-blocks-until-epoch-reached\"\n",
    "PROJECT_ROOT = Path.cwd().parent.parent\n",
    "proxy = ProxyNetworkProvider(SIMULATOR_URL)\n",
    "api = ApiNetworkProvider(SIMULATOR_API)\n",
    "DOCKER_URL = PROJECT_ROOT / \"docker\"\n",
    "\n",
    "context = Context()\n",
    "context.network_provider.proxy = proxy\n",
    "context.network_provider.api = api\n",
    "context.deployer_account.address = WrapperAddress(\"erd1ss6u80ruas2phpmr82r42xnkd6rxy40g9jl69frppl4qez9w2jpsqj8x97\")\n",
    "context.deployer_account.sync_nonce(proxy)\n",
    "\n",
    "wasm_path = \"/home/multiversx/Documents/DEX/fees-collector/mx-sdk-py-exchange/wasm/fees-collector/fees-collector.wasm\"\n",
    "contract_code_hash = \"ae5c0171d34f2bac384b6d38184f89abd7ef05a4d5d9b973db3c58015bdf587f\""
   ]
  },
  {
   "cell_type": "markdown",
   "metadata": {},
   "source": [
    "## CHAIN SIM CONFIG - FEES COLLECTOR"
   ]
  },
  {
   "cell_type": "code",
   "execution_count": null,
   "metadata": {},
   "outputs": [],
   "source": [
    "import json\n",
    "import subprocess\n",
    "from time import sleep\n",
    "from typing import Any\n",
    "\n",
    "\n",
    "def load_accounts_state(project_root: Path, addresses: list[str]) -> list[dict[str, Any]]:\n",
    "    states = []\n",
    "    \n",
    "    for address in addresses:\n",
    "        print(f\"Loading state for {address}\")\n",
    "        user_path = f\"0_{address}_0_chain_config_state.json\"\n",
    "        system_account_path = f\"0_system_account_state_{address}.json\"\n",
    "        \n",
    "        user_file = project_root / \"states\" / user_path\n",
    "        system_file = project_root / \"states\" / system_account_path\n",
    "        \n",
    "        if user_file.exists():\n",
    "            with open(user_file, \"r\") as file:\n",
    "                user_state = json.load(file)\n",
    "                if user_state:\n",
    "                    print(f\"Found {user_file.name}\")\n",
    "                    states.append(user_state)\n",
    "                \n",
    "        if system_file.exists():\n",
    "            with open(system_file, \"r\") as file:\n",
    "                system_state = json.load(file)\n",
    "                if system_state:\n",
    "                    print(f\"Found {system_file.name}\")\n",
    "                    states.append(system_state)\n",
    "            \n",
    "    return states\n",
    "    \n",
    "def apply_states(proxy: ProxyNetworkProvider, states: list[dict[str, Any]]):\n",
    "    for state in states:\n",
    "        proxy.do_post(f\"{SIMULATOR_URL}/simulator/set-state\", state)\n",
    "\n",
    "# @pytest.fixture\n",
    "def load_and_apply_state(proxy: ProxyNetworkProvider, project_root: Path, owner: str, users: list[str]):\n",
    "    # Load and set state for all keys\n",
    "    with open(project_root / \"states\" / \"0_all_all_keys.json\", \"r\") as file:\n",
    "        retrieved_state = json.load(file)\n",
    "        apply_states(proxy, [retrieved_state])\n",
    "\n",
    "    # Load owner and users state\n",
    "    accounts = [owner]\n",
    "    accounts.extend(users)\n",
    "    states = load_accounts_state(project_root, accounts)\n",
    "    apply_states(proxy, states)\n",
    "        \n",
    "def setup_chain_sim():\n",
    "    # generate blocks to pass an epoch and the smart contract deploys to be enabled\n",
    "    proxy.do_post(f\"{GENERATE_BLOCKS_URL}/5\", {})\n",
    "\n",
    "    load_and_apply_state(proxy, PROJECT_ROOT,\n",
    "                         context.deployer_account.address.bech32(),\n",
    "                         USERS)\n",
    "\n",
    "\n",
    "def advance_blocks(number_of_blocks: int):\n",
    "    proxy.do_post(f\"{GENERATE_BLOCKS_URL}/{number_of_blocks}\", {})\n",
    "\n",
    "def advance_epoch(number_of_epochs: int):\n",
    "    proxy.do_post(f\"{GENERATE_BLOCKS_URL}/{number_of_epochs * 20}\", {})\n",
    "\n",
    "def advance_to_epoch(epoch: int):\n",
    "    proxy.do_post(f\"{GENERATE_BLOCKS_UNTIL_EPOCH_REACHED_URL}/{epoch}\", {})\n",
    "\n",
    "def start_chain_sim_stack():\n",
    "    # stop first in case one is already running\n",
    "    p = subprocess.Popen([\"docker\", \"compose\", \"down\"], cwd = DOCKER_URL)\n",
    "    p.wait()\n",
    "    \n",
    "    p = subprocess.Popen([\"docker\", \"compose\", \"up\", \"-d\"], cwd = DOCKER_URL)\n",
    "    sleep(60)\n",
    "    return p\n",
    "\n",
    "def stop_chain_sim_stack(p):\n",
    "    p.terminate()\n",
    "    p = subprocess.Popen([\"docker\", \"compose\", \"down\"], cwd = DOCKER_URL)\n",
    "    p.wait()\n",
    "    _ = subprocess.run([\"docker\", \"system\", \"prune\", \"-f\"], cwd = DOCKER_URL)"
   ]
  },
  {
   "cell_type": "code",
   "execution_count": null,
   "metadata": {},
   "outputs": [],
   "source": [
    "USERS = [\n",
    "        \"erd1emxytu3umnzm4k2cn2xmtppy8j3dm3lnsjhfzkul8gd5a4xxuk3qsl4xjw\", \n",
    "        \"erd1rv5twgkz5uatdvgk5ymzmgzmz38dxqh8agvlkt97mfun8hn4x4xqyptslm\",\n",
    "        \"erd1njvcr0r89km6pexrxh0d6h36pkeuwr5j042e7l46l3mdlxvwhejsfz9w4n\",\n",
    "        \"erd1ss6u80ruas2phpmr82r42xnkd6rxy40g9jl69frppl4qez9w2jpsqj8x97\" # DEX OWNER\n",
    "]\n",
    "\n",
    "BASE_TOKEN = \"MEX-455c57\""
   ]
  },
  {
   "cell_type": "code",
   "execution_count": null,
   "metadata": {},
   "outputs": [],
   "source": [
    "import json\n",
    "with open(PROJECT_ROOT / \"states\" / \"0_erd1ss6u80ruas2phpmr82r42xnkd6rxy40g9jl69frppl4qez9w2jpsqj8x97_0_chain_config_state.json\", \"r\") as file:\n",
    "    json_account = json.load(file)\n",
    "proxy.do_post(f\"{SIMULATOR_URL}/simulator/set-state\", json_account)"
   ]
  },
  {
   "cell_type": "code",
   "execution_count": null,
   "metadata": {},
   "outputs": [],
   "source": [
    "import json\n",
    "with open(PROJECT_ROOT / \"states\" / \"0_fees_collectors_0_chain_config_state.json\", \"r\") as file:\n",
    "    json_account = json.load(file)\n",
    "proxy.do_post(f\"{SIMULATOR_URL}/simulator/set-state\", json_account)"
   ]
  },
  {
   "cell_type": "code",
   "execution_count": null,
   "metadata": {},
   "outputs": [],
   "source": [
    "advance_epoch(7)"
   ]
  },
  {
   "cell_type": "code",
   "execution_count": null,
   "metadata": {},
   "outputs": [],
   "source": [
    "start_chain_sim_stack()\n",
    "setup_chain_sim()\n",
    "initial_blocks = 10\n",
    "advance_blocks(initial_blocks)"
   ]
  },
  {
   "cell_type": "code",
   "execution_count": null,
   "metadata": {},
   "outputs": [],
   "source": [
    "advance_blocks(5)"
   ]
  },
  {
   "cell_type": "code",
   "execution_count": null,
   "metadata": {},
   "outputs": [],
   "source": [
    "from contracts.fees_collector_contract import FeesCollectorContract\n",
    "from contracts.pair_contract import PairContract\n",
    "from utils.contract_retrievers import retrieve_pair_by_address\n",
    "from utils.contract_data_fetchers import FeeCollectorContractDataFetcher\n",
    "from contracts.router_contract import RouterContract\n",
    "from contracts.simple_lock_energy_contract import SimpleLockEnergyContract\n",
    "\n",
    "fees_collector_contract: FeesCollectorContract\n",
    "fees_collector_contract = context.get_contracts(config.FEES_COLLECTORS)[0]\n",
    "\n",
    "\n",
    "pair_contract: PairContract\n",
    "energy_contract: SimpleLockEnergyContract\n",
    "router_contract: RouterContract\n",
    "\n",
    "pair_contract = retrieve_pair_by_address(\"erd1qqqqqqqqqqqqqpgq0lzzvt2faev4upyf586tg38s84d7zsaj2jpsglugga\")    # operating pair\n",
    "mex_contract = retrieve_pair_by_address(\"erd1qqqqqqqqqqqqqpgqa0fsfshnff4n76jhcye6k7uvd7qacsq42jpsp6shh2\") # egldmex contract\n",
    "energy_contract = context.get_contracts(config.SIMPLE_LOCKS_ENERGY)[0]\n",
    "router_contract = context.deploy_structure.get_deployed_contract_by_index(config.ROUTER_V2, 0)\n",
    "\n",
    "print(fees_collector_contract.address)\n",
    "print(pair_contract.address)\n",
    "print(mex_contract.address)\n",
    "print(router_contract.address)"
   ]
  },
  {
   "cell_type": "code",
   "execution_count": null,
   "metadata": {},
   "outputs": [],
   "source": [
    "from utils.utils_chain import Account, WrapperAddress as Address\n",
    "\n",
    "user_account = Account(context.deployer_account.address.to_bech32())\n",
    "# \"erd1rv5twgkz5uatdvgk5ymzmgzmz38dxqh8agvlkt97mfun8hn4x4xqyptslm\"\n",
    "# user_account.address = Address(\"erd1rv5twgkz5uatdvgk5ymzmgzmz38dxqh8agvlkt97mfun8hn4x4xqyptslm\")\n",
    "user_account.address = Address(\"erd1emxytu3umnzm4k2cn2xmtppy8j3dm3lnsjhfzkul8gd5a4xxuk3qsl4xjw\")\n",
    "user_account.sync_nonce(context.network_provider.proxy)\n",
    "user_account.signer = context.deployer_account.signer"
   ]
  },
  {
   "cell_type": "code",
   "execution_count": null,
   "metadata": {},
   "outputs": [
    {
     "name": "stderr",
     "output_type": "stream",
     "text": [
      "\u001b[38;20m2025-04-24 09:22:27,588 - DEBUG - Account.sync_nonce() done: 4298\u001b[0m\n",
      "\u001b[92m2025-04-24 09:22:27,589 - INFO - Claim rewards from fees collector\u001b[0m\n",
      "\u001b[38;20m2025-04-24 09:22:27,590 - DEBUG - Calling claimRewards at erd1qqqqqqqqqqqqqpgqjsnxqprks7qxfwkcg2m2v9hxkrchgm9akp2segrswt\u001b[0m\n",
      "\u001b[38;20m2025-04-24 09:22:27,591 - DEBUG - Args: []\u001b[0m\n",
      "\u001b[38;20m2025-04-24 09:22:27,594 - DEBUG - Contract call arguments: []\u001b[0m\n",
      "\u001b[92m2025-04-24 09:22:27,598 - INFO - No explorer known for http://localhost:8085. transaction raw path: http://localhost:8085/transaction/2f001cea114b8385f92f6b3d001412c755c4bb430f45556bf6bbbce5179c4d81\u001b[0m\n"
     ]
    }
   ],
   "source": [
    "user_account.address = Address(USERS[0])\n",
    "user_account.sync_nonce(context.network_provider.proxy)\n",
    "\n",
    "fees_collector_contract.claim_rewards(user_account, proxy) #4 blocks\n",
    "advance_blocks(4)"
   ]
  },
  {
   "cell_type": "code",
   "execution_count": 134,
   "metadata": {},
   "outputs": [
    {
     "name": "stderr",
     "output_type": "stream",
     "text": [
      "\u001b[92m2025-04-24 09:23:15,705 - INFO - Claim rewards from fees collector\u001b[0m\n",
      "\u001b[38;20m2025-04-24 09:23:15,706 - DEBUG - Calling claimBoostedRewards at erd1qqqqqqqqqqqqqpgqjsnxqprks7qxfwkcg2m2v9hxkrchgm9akp2segrswt\u001b[0m\n",
      "\u001b[38;20m2025-04-24 09:23:15,707 - DEBUG - Args: []\u001b[0m\n",
      "\u001b[38;20m2025-04-24 09:23:15,711 - DEBUG - Contract call arguments: []\u001b[0m\n",
      "\u001b[92m2025-04-24 09:23:15,715 - INFO - No explorer known for http://localhost:8085. transaction raw path: http://localhost:8085/transaction/1dae81fb1cd01661e799aafe1763a45922401f8e87b3da533046e2a2e2580549\u001b[0m\n"
     ]
    },
    {
     "data": {
      "text/plain": [
       "'1dae81fb1cd01661e799aafe1763a45922401f8e87b3da533046e2a2e2580549'"
      ]
     },
     "execution_count": 134,
     "metadata": {},
     "output_type": "execute_result"
    }
   ],
   "source": [
    "fees_collector_contract.claim_boosted_rewards(user_account, proxy)"
   ]
  },
  {
   "cell_type": "code",
   "execution_count": null,
   "metadata": {},
   "outputs": [],
   "source": [
    "advance_blocks(1)"
   ]
  },
  {
   "cell_type": "code",
   "execution_count": null,
   "metadata": {},
   "outputs": [],
   "source": [
    "from utils.utils_chain import WrapperAddress\n",
    "\n",
    "\n",
    "context.deployer_account.address = WrapperAddress(\"erd1ss6u80ruas2phpmr82r42xnkd6rxy40g9jl69frppl4qez9w2jpsqj8x97\")\n",
    "context.deployer_account.sync_nonce(proxy)\n",
    "fees_collector_contract.add_admin(context.deployer_account, proxy, [context.deployer_account.address])"
   ]
  },
  {
   "cell_type": "code",
   "execution_count": null,
   "metadata": {},
   "outputs": [],
   "source": [
    "from utils.utils_chain import WrapperAddress\n",
    "\n",
    "\n",
    "context.deployer_account.address = WrapperAddress(\"erd1ss6u80ruas2phpmr82r42xnkd6rxy40g9jl69frppl4qez9w2jpsqj8x97\")\n",
    "context.deployer_account.sync_nonce(proxy)\n",
    "fees_collector_contract.redistribute_rewards(context.deployer_account, proxy)\n",
    "advance_blocks(1)"
   ]
  },
  {
   "cell_type": "markdown",
   "metadata": {},
   "source": [
    "SET ADMINS"
   ]
  },
  {
   "cell_type": "code",
   "execution_count": null,
   "metadata": {},
   "outputs": [],
   "source": [
    "fees_collector_contract.add_admin(context.deployer_account, proxy, [context.deployer_account.address])"
   ]
  },
  {
   "cell_type": "code",
   "execution_count": null,
   "metadata": {},
   "outputs": [],
   "source": [
    "advance_blocks(1)"
   ]
  },
  {
   "cell_type": "code",
   "execution_count": 123,
   "metadata": {},
   "outputs": [
    {
     "name": "stdout",
     "output_type": "stream",
     "text": [
      "126\n",
      "{}\n",
      "0\n"
     ]
    }
   ],
   "source": [
    "week = fees_collector_contract.get_current_week(proxy)\n",
    "user_energy = fees_collector_contract.get_user_energy_for_week(user_account.address.to_bech32(), proxy, week)\n",
    "last_active_week = fees_collector_contract.get_last_active_week_for_user(user_account.address.to_bech32(), proxy)\n",
    "print(week)\n",
    "print(user_energy)\n",
    "print(last_active_week)"
   ]
  },
  {
   "cell_type": "markdown",
   "metadata": {},
   "source": [
    "SET BURN PERCENTAGE"
   ]
  },
  {
   "cell_type": "code",
   "execution_count": null,
   "metadata": {},
   "outputs": [],
   "source": [
    "context.deployer_account.sync_nonce(proxy)\n",
    "fees_collector_contract.set_base_token_burn_percent(context.deployer_account, proxy, 10000)\n",
    "advance_blocks(1)"
   ]
  },
  {
   "cell_type": "code",
   "execution_count": 126,
   "metadata": {},
   "outputs": [
    {
     "name": "stderr",
     "output_type": "stream",
     "text": [
      "\u001b[92m2025-04-24 09:21:29,792 - INFO - Deposit swap fees in fees collector\u001b[0m\n",
      "\u001b[38;20m2025-04-24 09:21:29,794 - DEBUG - Calling depositSwapFees at erd1qqqqqqqqqqqqqpgqjsnxqprks7qxfwkcg2m2v9hxkrchgm9akp2segrswt\u001b[0m\n",
      "\u001b[38;20m2025-04-24 09:21:29,794 - DEBUG - Args: []\u001b[0m\n",
      "\u001b[38;20m2025-04-24 09:21:29,799 - DEBUG - Contract call arguments: []\u001b[0m\n",
      "\u001b[92m2025-04-24 09:21:29,803 - INFO - No explorer known for http://localhost:8085. transaction raw path: http://localhost:8085/transaction/ab48d5f03e39b9db16bbf861fb84f196e08aefb50dcaeb99fa99f393ac2c5372\u001b[0m\n"
     ]
    }
   ],
   "source": [
    "fees_collector_contract.deposit_swap_fees(context.deployer_account, proxy)\n",
    "advance_blocks(1)"
   ]
  },
  {
   "cell_type": "code",
   "execution_count": 127,
   "metadata": {},
   "outputs": [
    {
     "name": "stdout",
     "output_type": "stream",
     "text": [
      "\n"
     ]
    },
    {
     "ename": "ValueError",
     "evalue": "invalid literal for int() with base 16: ''",
     "output_type": "error",
     "traceback": [
      "\u001b[31m---------------------------------------------------------------------------\u001b[39m",
      "\u001b[31mValueError\u001b[39m                                Traceback (most recent call last)",
      "\u001b[36mCell\u001b[39m\u001b[36m \u001b[39m\u001b[32mIn[127]\u001b[39m\u001b[32m, line 7\u001b[39m\n\u001b[32m      5\u001b[39m hex_result = data_fetcher.get_data(\u001b[33m\"\u001b[39m\u001b[33mgetTotalRewardsForWeek\u001b[39m\u001b[33m\"\u001b[39m, [week])\n\u001b[32m      6\u001b[39m \u001b[38;5;28mprint\u001b[39m(hex_result)\n\u001b[32m----> \u001b[39m\u001b[32m7\u001b[39m decoded_results = \u001b[43mdecode_merged_attributes\u001b[49m\u001b[43m(\u001b[49m\u001b[43mhex_result\u001b[49m\u001b[43m,\u001b[49m\u001b[43m \u001b[49m\u001b[43mdecoding_structures\u001b[49m\u001b[43m.\u001b[49m\u001b[43mTOTAL_REWARDS_FOR_WEEK\u001b[49m\u001b[43m)\u001b[49m\n\u001b[32m      8\u001b[39m \u001b[38;5;28mprint\u001b[39m(decoded_results)\n",
      "\u001b[36mFile \u001b[39m\u001b[32m~/Documents/DEX/fees-collector/mx-sdk-py-exchange/utils/utils_chain.py:431\u001b[39m, in \u001b[36mdecode_merged_attributes\u001b[39m\u001b[34m(attributes_hex, decode_struct)\u001b[39m\n\u001b[32m    429\u001b[39m \u001b[38;5;28;01mfor\u001b[39;00m field_key, field_primitive \u001b[38;5;129;01min\u001b[39;00m list_decode_fields.items():\n\u001b[32m    430\u001b[39m     \u001b[38;5;28;01mif\u001b[39;00m field_primitive \u001b[38;5;129;01min\u001b[39;00m implemented_primitives:\n\u001b[32m--> \u001b[39m\u001b[32m431\u001b[39m         decoded_result, sliding_index = \u001b[43mimplemented_primitives\u001b[49m\u001b[43m[\u001b[49m\u001b[43mfield_primitive\u001b[49m\u001b[43m]\u001b[49m\u001b[43m(\u001b[49m\n\u001b[32m    432\u001b[39m \u001b[43m            \u001b[49m\u001b[43mattributes_hex\u001b[49m\u001b[43m,\u001b[49m\u001b[43m \u001b[49m\u001b[43msliding_index\u001b[49m\u001b[43m)\u001b[49m\n\u001b[32m    433\u001b[39m         decoded_list_fields[field_key] = decoded_result\n\u001b[32m    435\u001b[39m results_dict[key] = decoded_list_fields\n",
      "\u001b[36mFile \u001b[39m\u001b[32m~/Documents/DEX/fees-collector/mx-sdk-py-exchange/utils/utils_chain.py:401\u001b[39m, in \u001b[36mdecode_merged_attributes.<locals>.string\u001b[39m\u001b[34m(attributes, start_index)\u001b[39m\n\u001b[32m    400\u001b[39m \u001b[38;5;28;01mdef\u001b[39;00m\u001b[38;5;250m \u001b[39m\u001b[34mstring\u001b[39m(attributes: \u001b[38;5;28mstr\u001b[39m, start_index: \u001b[38;5;28mint\u001b[39m):\n\u001b[32m--> \u001b[39m\u001b[32m401\u001b[39m     payload_size, _, index = \u001b[43mfixed_length_primitive\u001b[49m\u001b[43m(\u001b[49m\u001b[43mattributes\u001b[49m\u001b[43m,\u001b[49m\u001b[43m \u001b[49m\u001b[43mstart_index\u001b[49m\u001b[43m,\u001b[49m\u001b[43m \u001b[49m\u001b[32;43m4\u001b[39;49m\u001b[43m)\u001b[49m\n\u001b[32m    402\u001b[39m     result_string = \u001b[33m\"\u001b[39m\u001b[33m\"\u001b[39m\n\u001b[32m    403\u001b[39m     \u001b[38;5;28;01mif\u001b[39;00m payload_size:\n",
      "\u001b[36mFile \u001b[39m\u001b[32m~/Documents/DEX/fees-collector/mx-sdk-py-exchange/utils/utils_chain.py:366\u001b[39m, in \u001b[36mdecode_merged_attributes.<locals>.fixed_length_primitive\u001b[39m\u001b[34m(attributes, start_index, primitive_len)\u001b[39m\n\u001b[32m    364\u001b[39m index_first, index_last = slide_indexes(start_index, primitive_len)\n\u001b[32m    365\u001b[39m result_hex = attributes[index_first:index_last]\n\u001b[32m--> \u001b[39m\u001b[32m366\u001b[39m result_int = \u001b[38;5;28;43mint\u001b[39;49m\u001b[43m(\u001b[49m\u001b[43mresult_hex\u001b[49m\u001b[43m,\u001b[49m\u001b[43m \u001b[49m\u001b[32;43m16\u001b[39;49m\u001b[43m)\u001b[49m\n\u001b[32m    367\u001b[39m \u001b[38;5;28;01mreturn\u001b[39;00m result_int, result_hex, index_last\n",
      "\u001b[31mValueError\u001b[39m: invalid literal for int() with base 16: ''"
     ]
    }
   ],
   "source": [
    "from utils.utils_chain import WrapperAddress, decode_merged_attributes\n",
    "from utils import decoding_structures\n",
    "\n",
    "data_fetcher = FeeCollectorContractDataFetcher(WrapperAddress(fees_collector_contract.address), context.network_provider.proxy.url)\n",
    "hex_result = data_fetcher.get_data(\"getTotalRewardsForWeek\", [week])\n",
    "print(hex_result)\n",
    "decoded_results = decode_merged_attributes(hex_result, decoding_structures.TOTAL_REWARDS_FOR_WEEK)\n",
    "print(decoded_results)"
   ]
  },
  {
   "cell_type": "code",
   "execution_count": 128,
   "metadata": {},
   "outputs": [
    {
     "name": "stdout",
     "output_type": "stream",
     "text": [
      "0\n"
     ]
    }
   ],
   "source": [
    "token_identifier = \"MEX-455c57\"\n",
    "data_fetcher = FeeCollectorContractDataFetcher(WrapperAddress(fees_collector_contract.address), context.network_provider.proxy.url)\n",
    "hex_result = data_fetcher.get_data(\"getAccumulatedFees\", [week, token_identifier])\n",
    "print(hex_result)\n",
    "# decoded_results = decode_merged_attributes(hex_result, decoding_structures.Ac)\n"
   ]
  },
  {
   "cell_type": "code",
   "execution_count": 129,
   "metadata": {},
   "outputs": [
    {
     "name": "stdout",
     "output_type": "stream",
     "text": [
      "\n"
     ]
    }
   ],
   "source": [
    "data_fetcher = FeeCollectorContractDataFetcher(WrapperAddress(fees_collector_contract.address), context.network_provider.proxy.url)\n",
    "hex_result = data_fetcher.get_data(\"getUserEnergyForWeek\", [user_account.address, week])\n",
    "print(hex_result)\n"
   ]
  },
  {
   "cell_type": "code",
   "execution_count": null,
   "metadata": {},
   "outputs": [],
   "source": [
    "from utils.utils_chain import decode_merged_attributes\n",
    "from utils import decoding_structures\n",
    "\n",
    "data_fetcher = FeeCollectorContractDataFetcher(WrapperAddress(fees_collector_contract.address), context.network_provider.proxy.url)\n",
    "hex_result = data_fetcher.get_data(\"getTotalRewardsForWeek\", [week])\n",
    "print(hex_result)\n",
    "decoded_results = decode_merged_attributes(hex_result, decoding_structures.ESDT_TOKEN_PAYMENT)\n",
    "print(decoded_results)"
   ]
  },
  {
   "cell_type": "markdown",
   "metadata": {},
   "source": [
    "GET CURRENT CLAIM PROGRESS"
   ]
  },
  {
   "cell_type": "code",
   "execution_count": null,
   "metadata": {},
   "outputs": [],
   "source": [
    "data_fetcher = FeeCollectorContractDataFetcher(WrapperAddress(fees_collector_contract.address), context.network_provider.proxy.url)\n",
    "hex_result = data_fetcher.get_data(\"getCurrentClaimProgress\", [user_account.address])\n",
    "decoded_results = decode_merged_attributes(hex_result, decoding_structures.USER_CLAIM_PROGRESS)\n",
    "print(decoded_results)"
   ]
  },
  {
   "cell_type": "code",
   "execution_count": null,
   "metadata": {},
   "outputs": [],
   "source": [
    "context.deployer_account.sync_nonce(proxy)\n",
    "fees_collector_contract.set_router_address(context.deployer_account, proxy, router_contract.address)\n",
    "advance_blocks(5)"
   ]
  },
  {
   "cell_type": "code",
   "execution_count": null,
   "metadata": {},
   "outputs": [],
   "source": [
    "mex_contract.whitelist_contract(context.deployer_account, context.network_provider.proxy, pair_contract.address)"
   ]
  },
  {
   "cell_type": "code",
   "execution_count": null,
   "metadata": {},
   "outputs": [],
   "source": [
    "# set where to swap and what to do with the fees\n",
    "pair_contract.add_trusted_swap_pair(context.deployer_account, context.network_provider.proxy,\n",
    "                                    [\n",
    "                                        mex_contract.address,\n",
    "                                        mex_contract.firstToken,\n",
    "                                        mex_contract.secondToken\n",
    "                                    ])"
   ]
  },
  {
   "cell_type": "code",
   "execution_count": null,
   "metadata": {},
   "outputs": [],
   "source": [
    "from contracts.pair_contract import AddLiquidityEvent\n",
    "\n",
    "event = AddLiquidityEvent(pair_contract.firstToken, 127791780000000000000, 1, pair_contract.secondToken, 5000000000000000000, 1)\n",
    "pair_contract.add_liquidity(context.network_provider, user_account, event)"
   ]
  },
  {
   "cell_type": "code",
   "execution_count": null,
   "metadata": {},
   "outputs": [],
   "source": [
    "from utils.utils_chain import base64_to_hex\n",
    "\n",
    "\n",
    "code_hash = context.network_provider.proxy.get_account(WrapperAddress(fees_collector_contract.address)).code_hash\n",
    "print(base64_to_hex(code_hash))"
   ]
  },
  {
   "cell_type": "code",
   "execution_count": null,
   "metadata": {},
   "outputs": [],
   "source": [
    "advance_blocks(1)"
   ]
  },
  {
   "cell_type": "code",
   "execution_count": null,
   "metadata": {},
   "outputs": [],
   "source": [
    "from contracts.pair_contract import SwapFixedInputEvent\n",
    "\n",
    "user_account.address = Address(\"erd1njvcr0r89km6pexrxh0d6h36pkeuwr5j042e7l46l3mdlxvwhejsfz9w4n\")\n",
    "user_account.sync_nonce(proxy)\n",
    "swap = SwapFixedInputEvent(pair_contract.firstToken, 1000000000000000000, pair_contract.secondToken, 1)\n",
    "\n",
    "pair_contract.swap_fixed_input(context.network_provider, user_account, swap)\n",
    "advance_blocks(1)"
   ]
  },
  {
   "cell_type": "code",
   "execution_count": null,
   "metadata": {},
   "outputs": [],
   "source": [
    "import json\n",
    "with open(PROJECT_ROOT / \"states\" / \"0_system_account_state_WEGLD-bd4d79.json\", \"r\") as file:\n",
    "    json_account = json.load(file)\n",
    "proxy.do_post(f\"{SIMULATOR_URL}/simulator/set-state\", json_account)"
   ]
  },
  {
   "cell_type": "markdown",
   "metadata": {},
   "source": [
    "CONTRACT UPGRADE"
   ]
  },
  {
   "cell_type": "code",
   "execution_count": null,
   "metadata": {},
   "outputs": [],
   "source": [
    "from utils.utils_chain import base64_to_hex\n",
    "from utils.utils_chain import WrapperAddress\n",
    "\n",
    "def fees_collector_upgrade():\n",
    "    advance_blocks(1)\n",
    "    context.deployer_account.address = WrapperAddress(\"erd1ss6u80ruas2phpmr82r42xnkd6rxy40g9jl69frppl4qez9w2jpsqj8x97\")\n",
    "    context.deployer_account.sync_nonce(proxy)\n",
    "    args = [ \n",
    "        energy_contract.address,\n",
    "        router_contract.address,\n",
    "        1000,\n",
    "        []\n",
    "\n",
    "    ]\n",
    "    tx_hash = fees_collector_contract.contract_upgrade(context.deployer_account, context.network_provider.proxy, wasm_path, \n",
    "                                         args, \n",
    "                                         no_init=True)\n",
    "\n",
    "    advance_blocks(1)\n",
    "\n",
    "    code_hash = context.network_provider.proxy.get_account(WrapperAddress(fees_collector_contract.address)).code_hash\n",
    "    assert base64_to_hex(code_hash) == contract_code_hash\n",
    "    \n",
    "    return tx_hash\n",
    "\n",
    "fees_collector_upgrade()"
   ]
  },
  {
   "cell_type": "markdown",
   "metadata": {},
   "source": [
    "SWAP TO BASE TOKEN"
   ]
  },
  {
   "cell_type": "code",
   "execution_count": null,
   "metadata": {},
   "outputs": [],
   "source": [
    "swapTokenToBaseToken = fees_collector_contract.swap_token(user_account, context.network_provider.proxy, pair_contract.secondToken, pair_contract)"
   ]
  },
  {
   "cell_type": "code",
   "execution_count": null,
   "metadata": {},
   "outputs": [],
   "source": [
    "from multiversx_sdk import SmartContractTransactionsFactory, TransactionComputer\n",
    "# from utils.utils_tx import get\n",
    "from multiversx_sdk.abi import Abi\n",
    "\n",
    "\n",
    "# logger = logger.get_logger(__name__)\n",
    "\n",
    "network_config = context.network_provider.proxy.get_network_config()\n",
    "abi = Abi.load(Path(\"/home/multiversx/Documents/DEX/fees-collector/mx-sdk-py-exchange/wasm/fees-collector/fees-collector.abi.json\"))\n",
    "sc_factory = SmartContractTransactionsFactory(network_config, abi)\n",
    "context.deployer_account.address = Address(\"erd1ss6u80ruas2phpmr82r42xnkd6rxy40g9jl69frppl4qez9w2jpsqj8x97\")\n",
    "context.deployer_account.sync_nonce(proxy)\n",
    "    \n",
    "pair_address = Address(pair_contract.address)\n",
    "\n",
    "def send_transaction():\n",
    "    arguments: list[list[Any]] = []\n",
    "    arguments.append((Address(pair_contract.address), \"swapTokensFixedInput\" , pair_contract.secondToken, 1))\n",
    "\n",
    "    arguments.append((Address(mex_contract.address), \"swapTokensFixedInput\" , \"MEX-455c57\", 1))\n",
    "    \n",
    "    sc_args = [\n",
    "           pair_contract.firstToken,\n",
    "            arguments\n",
    "        ]\n",
    "\n",
    "    transaction = sc_factory.create_transaction_for_execute(\n",
    "        sender=context.deployer_account.address,\n",
    "        contract=Address(fees_collector_contract.address),\n",
    "        function=\"swapTokenToBaseToken\",\n",
    "        gas_limit=50_000_000,\n",
    "        arguments=sc_args\n",
    "        )\n",
    "\n",
    "    transaction.nonce = context.deployer_account.nonce\n",
    "\n",
    "    # print(isinstance(ctor_data[0], bytes))\n",
    "\n",
    "    transaction_computer = TransactionComputer()\n",
    "\n",
    "    transaction.signature = context.deployer_account.signer.sign(\n",
    "        transaction_computer.compute_bytes_for_signing(transaction)\n",
    "    )\n",
    "\n",
    "    print(\"Transaction:\", transaction.__dict__)\n",
    "    print(\"Transaction data:\", transaction.data)\n",
    "\n",
    "    result = proxy.send_transaction(transaction)\n",
    "    print(\"Swap transaction hash:\", result)\n",
    "\n",
    "    return result\n",
    "\n",
    "send_transaction()\n",
    "advance_blocks(1)"
   ]
  },
  {
   "cell_type": "code",
   "execution_count": null,
   "metadata": {},
   "outputs": [],
   "source": [
    "advance_blocks(1)"
   ]
  },
  {
   "cell_type": "markdown",
   "metadata": {},
   "source": [
    "ADD REWARD TOKENS"
   ]
  },
  {
   "cell_type": "code",
   "execution_count": null,
   "metadata": {},
   "outputs": [],
   "source": [
    "context.deployer_account.address = WrapperAddress(\"erd1ss6u80ruas2phpmr82r42xnkd6rxy40g9jl69frppl4qez9w2jpsqj8x97\")\n",
    "context.deployer_account.sync_nonce(proxy)\n",
    "fees_collector_contract.add_reward_tokens(context.deployer_account, proxy, [\"MEX-455c57\", \"XMEX-fda355\"])"
   ]
  },
  {
   "cell_type": "markdown",
   "metadata": {},
   "source": [
    "REMOVE REWARD TOKENS"
   ]
  },
  {
   "cell_type": "code",
   "execution_count": null,
   "metadata": {},
   "outputs": [],
   "source": [
    "fees_collector_contract.remove_reward_tokens(context.deployer_account, proxy, [\"USDC-c76f1f\",\n",
    "                                                                               \"RIDE-7d18e9\", \n",
    "                                                                               \"CRU-a5f4aa\", \n",
    "                                                                               \"ZPAY-247875\", \n",
    "                                                                               \"ITHEUM-df6f26\", \n",
    "                                                                               \"BHAT-c1fde3\", \n",
    "                                                                               \"CRT-52decf\", \n",
    "                                                                               \"UTK-2f80e9\",\n",
    "                                                                               \"QWT-46ac01\",\n",
    "                                                                               \"ASH-a642d1\",\n",
    "                                                                               \"WETH-b4ca29\",\n",
    "                                                                               \"USDT-f8c08c\",\n",
    "                                                                               \"HTM-f51d55\",\n",
    "                                                                               \"WDAI-9eeb54\",\n",
    "                                                                               \"TADA-5c032c\",\n",
    "                                                                               \"XOXNO-c1293a\",\n",
    "                                                                               \"A1X-0d446d\",\n",
    "                                                                               \"USH-111e09\",\n",
    "                                                                               \"FOXSY-5d5f3e\"\n",
    "                                                                               ])\n",
    "advance_blocks(1)"
   ]
  },
  {
   "cell_type": "code",
   "execution_count": null,
   "metadata": {},
   "outputs": [],
   "source": [
    "energy_factory: SimpleLockEnergyContract\n",
    "energy_factory = context.get_contracts(config.SIMPLE_LOCKS_ENERGY)[0]\n",
    "\n",
    "context.deployer_account.sync_nonce(proxy)\n",
    "tx_hash = energy_factory.set_burn_role_locked_token(context.deployer_account,\n",
    "                                                                proxy,\n",
    "                                                                [fees_collector_contract.address])\n",
    "\n",
    "advance_blocks(1)"
   ]
  },
  {
   "cell_type": "code",
   "execution_count": null,
   "metadata": {},
   "outputs": [],
   "source": [
    "energy_factory.set_transfer_role_locked_token(context.deployer_account, context.network_provider.proxy, [mex_contract.address])\n",
    "advance_blocks(1)"
   ]
  },
  {
   "cell_type": "code",
   "execution_count": null,
   "metadata": {},
   "outputs": [],
   "source": [
    "from contracts.builtin_contracts import ESDTContract\n",
    "\n",
    "esdt_contract = ESDTContract(config.TOKENS_CONTRACT_ADDRESS)\n",
    "context.deployer_account.sync_nonce(context.network_provider.proxy)\n",
    "tx_hash = esdt_contract.set_special_role_token(context.deployer_account, context.network_provider.proxy,\n",
    "                                               [BASE_TOKEN, fees_collector_contract.address, \"ESDTRoleLocalMint\", \"ESDTRoleLocalBurn\"])\n"
   ]
  },
  {
   "cell_type": "code",
   "execution_count": null,
   "metadata": {},
   "outputs": [],
   "source": [
    "advance_blocks(1)"
   ]
  }
 ],
 "metadata": {
  "kernelspec": {
   "display_name": ".venv",
   "language": "python",
   "name": "python3"
  },
  "language_info": {
   "codemirror_mode": {
    "name": "ipython",
    "version": 3
   },
   "file_extension": ".py",
   "mimetype": "text/x-python",
   "name": "python",
   "nbconvert_exporter": "python",
   "pygments_lexer": "ipython3",
   "version": "3.12.3"
  }
 },
 "nbformat": 4,
 "nbformat_minor": 2
}
