{
 "cells": [
  {
   "cell_type": "markdown",
   "metadata": {},
   "source": [
    "# INIT"
   ]
  },
  {
   "cell_type": "markdown",
   "metadata": {},
   "source": [
    "START"
   ]
  },
  {
   "cell_type": "code",
   "execution_count": null,
   "metadata": {},
   "outputs": [],
   "source": [
    "import sys\n",
    "from pathlib import Path\n",
    "sys.path.append(str(Path.cwd().parent.parent.absolute()))\n",
    "import config\n",
    "\n",
    "import ipytest\n",
    "ipytest.autoconfig()\n",
    "from time import sleep\n",
    "\n",
    "from context import Context\n",
    "from utils.utils_chain import WrapperAddress as Address, Account, hex_to_string, base64_to_hex\n",
    "from utils.utils_chain import nominated_amount, get_all_token_nonces_details_for_account\n",
    "from utils.utils_tx import endpoint_call\n",
    "\n",
    "from contracts.farm_contract import FarmContract\n",
    "from utils.contract_retrievers import retrieve_farm_by_address\n",
    "\n",
    "from multiversx_sdk import ProxyNetworkProvider, ApiNetworkProvider\n",
    "\n",
    "from pprint import pprint\n",
    "\n",
    "SIMULATOR_URL = \"http://localhost:8085\"\n",
    "SIMULATOR_API = \"http://localhost:3001\"\n",
    "GENERATE_BLOCKS_URL = f\"{SIMULATOR_URL}/simulator/generate-blocks\"\n",
    "GENERATE_BLOCKS_UNTIL_EPOCH_REACHED_URL = f\"{SIMULATOR_URL}/simulator/generate-blocks-until-epoch-reached\"\n",
    "PROJECT_ROOT = Path.cwd().parent.parent\n",
    "proxy = ProxyNetworkProvider(SIMULATOR_URL)\n",
    "api = ApiNetworkProvider(SIMULATOR_API)\n",
    "\n",
    "context = Context()\n",
    "context.network_provider.proxy = proxy\n",
    "context.network_provider.api = api"
   ]
  },
  {
   "cell_type": "code",
   "execution_count": null,
   "metadata": {},
   "outputs": [],
   "source": [
    "farm_contract: FarmContract = context.deploy_structure.get_deployed_contract_by_index(config.FARMS_V2, 0)\n",
    "print(f\"Using {farm_contract.address} : {farm_contract.farmToken}\")"
   ]
  },
  {
   "cell_type": "code",
   "execution_count": null,
   "metadata": {},
   "outputs": [],
   "source": [
    "from contracts.unstaker_contract import UnstakerContract\n",
    "from contracts.simple_lock_energy_contract import SimpleLockEnergyContract\n",
    "\n",
    "simple_lock_energy_contract: SimpleLockEnergyContract\n",
    "simple_lock_energy_contract = context.get_contracts(config.SIMPLE_LOCKS_ENERGY)[0]\n",
    "print(f\"simple_lock_energy_contract: {simple_lock_energy_contract.address}\")\n",
    "\n",
    "unstaker_contract: UnstakerContract\n",
    "unstaker_contract = context.get_contracts(config.UNSTAKERS)[0]\n",
    "print(f\"unstaker_contract: {unstaker_contract.address}\")"
   ]
  },
  {
   "cell_type": "markdown",
   "metadata": {},
   "source": [
    "CHAIN CONFIG SETUP"
   ]
  },
  {
   "cell_type": "code",
   "execution_count": 4,
   "metadata": {},
   "outputs": [],
   "source": [
    "import json\n",
    "from typing import Any\n",
    "from utils.utils_chain import WrapperAddress\n",
    "\n",
    "USERS = [\"erd1ndyxz4gpfncmz82qm39yqramgd826mkalhqw8tfmmy0g9jecqc5sa20vek\", # user with both farm and farming positions\n",
    "         \"erd1gqyspww4pssv6ck6pl8vtnl9tnwe9hy5d2324mya4rz5ma9dtp9snjgd7f\", # user with only farm position\n",
    "         \"erd15gzp9k56cnn8qtfxwlghcxgs74v8jmfk4crex9alygxldmpg9f5s3fd4pl\", # user with old farm position\n",
    "         \"erd1yhuhzm8uu4efdts924e50wvaquhx8xg2c038sdu7n8uyh3cgxqeqww97m9\", # user with lots of xmex\n",
    "         \"erd1qqqqqqqqqqqqqqqpqqqqqqqqqqqqqqqqqqqqqqqqqqqqqqqzllls8a5w6u\",\n",
    "         # \"erd1lllllllllllllllllllllllllllllllllllllllllllllllllllsckry7t\"\n",
    "]\n",
    "\n",
    "def load_accounts_state(project_root: Path, addresses: list[str]) -> list[dict[str, Any]]:\n",
    "    states = []\n",
    "    \n",
    "    for address in addresses:\n",
    "        print(f\"Loading state for {address}\")\n",
    "        user_path = f\"0_{address}_0_chain_config_state.json\"\n",
    "        system_account_path = f\"0_system_account_state_{address}.json\"\n",
    "        \n",
    "        user_file = project_root / \"states\" / user_path\n",
    "        system_file = project_root / \"states\" / system_account_path\n",
    "        \n",
    "        if user_file.exists():\n",
    "            with open(user_file, \"r\") as file:\n",
    "                user_state = json.load(file)\n",
    "                if user_state:\n",
    "                    print(f\"Found {user_file.name}\")\n",
    "                    states.append(user_state)\n",
    "                \n",
    "        if system_file.exists():\n",
    "            with open(system_file, \"r\") as file:\n",
    "                system_state = json.load(file)\n",
    "                if system_state:\n",
    "                    print(f\"Found {system_file.name}\")\n",
    "                    states.append(system_state)\n",
    "            \n",
    "    return states\n",
    "    \n",
    "\n",
    "def apply_states(proxy: ProxyNetworkProvider, states: list[dict[str, Any]]):\n",
    "    for state in states:\n",
    "        proxy.do_post(f\"{SIMULATOR_URL}/simulator/set-state\", state)\n",
    "\n",
    "\n",
    "def load_and_apply_state(proxy: ProxyNetworkProvider, project_root: Path, owner: str, users: list[str]):\n",
    "    # Load and set state for all keys\n",
    "    with open(project_root / \"states\" / \"0_all_all_keys.json\", \"r\") as file:\n",
    "        retrieved_state = json.load(file)\n",
    "        apply_states(proxy, [retrieved_state])\n",
    "\n",
    "    # Load owner and users state\n",
    "    accounts = [owner]\n",
    "    accounts.extend(users)\n",
    "    states = load_accounts_state(project_root, accounts)\n",
    "    apply_states(proxy, states)\n",
    "        \n",
    "\n",
    "def setup_chain_sim():\n",
    "    # generate blocks to pass an epoch and the smart contract deploys to be enabled\n",
    "    proxy.do_post(f\"{GENERATE_BLOCKS_URL}/5\", {})\n",
    "\n",
    "    load_and_apply_state(proxy, PROJECT_ROOT,\n",
    "                         context.deployer_account.address.bech32(),\n",
    "                         USERS)\n",
    "\n",
    "\n",
    "def advance_blocks(number_of_blocks: int):\n",
    "    proxy.do_post(f\"{GENERATE_BLOCKS_URL}/{number_of_blocks}\", {})\n",
    "\n",
    "def advance_epoch(number_of_epochs: int):\n",
    "    proxy.do_post(f\"{GENERATE_BLOCKS_URL}/{number_of_epochs * 20}\", {})\n",
    "\n",
    "def advance_to_epoch(epoch: int):\n",
    "    proxy.do_post(f\"{GENERATE_BLOCKS_UNTIL_EPOCH_REACHED_URL}/{epoch}\", {})\n",
    "\n",
    "\n",
    "def users_init() -> list[Account]:\n",
    "    print(context.deployer_account.address.bech32())\n",
    "    context.deployer_account.sync_nonce(context.network_provider.proxy)\n",
    "\n",
    "    users = []\n",
    "    for user in USERS:\n",
    "        user_account = Account(pem_file=config.DEFAULT_ACCOUNTS)\n",
    "        user_account.address = WrapperAddress(user)\n",
    "        user_account.sync_nonce(context.network_provider.proxy)\n",
    "        users.append(user_account)\n",
    "\n",
    "    return users"
   ]
  },
  {
   "cell_type": "markdown",
   "metadata": {},
   "source": [
    "Farm upgrade"
   ]
  },
  {
   "cell_type": "code",
   "execution_count": 5,
   "metadata": {},
   "outputs": [],
   "source": [
    "def farm_upgrade():\n",
    "    wasm_path = config.HOME / \"projects/dex/dex-v2/sc-dex-rs/builds/farm-with-locked-rewards.wasm\"\n",
    "    tx_hash = farm_contract.contract_upgrade(context.deployer_account, context.network_provider.proxy, \n",
    "                                            wasm_path, \n",
    "                                            [], True)\n",
    "\n",
    "    advance_blocks(1)\n",
    "    tx_hash = farm_contract.resume(context.deployer_account, context.network_provider.proxy)\n",
    "    advance_blocks(1)\n",
    "\n",
    "    code_hash = context.network_provider.proxy.get_account(WrapperAddress(farm_contract.address)).code_hash\n",
    "    assert base64_to_hex(code_hash) == \"a59bdb9c06610a167c1344afc23d6a2d3516892f3a5aca165fb4a0f924e9d6d9\""
   ]
  },
  {
   "cell_type": "markdown",
   "metadata": {},
   "source": [
    "Unstaker upgrade"
   ]
  },
  {
   "cell_type": "code",
   "execution_count": 6,
   "metadata": {},
   "outputs": [],
   "source": [
    "def unstaker_upgrade():\n",
    "    wasm_path = config.HOME / \"projects/dex/dex-v2/sc-dex-rs/output-docker/token-unstake/token-unstake.wasm\"\n",
    "    tx_hash = unstaker_contract.contract_upgrade(context.deployer_account, context.network_provider.proxy, \n",
    "                                            wasm_path, \n",
    "                                            [], True)\n",
    "\n",
    "    advance_blocks(1)\n",
    "\n",
    "    code_hash = context.network_provider.proxy.get_account(WrapperAddress(unstaker_contract.address)).code_hash\n",
    "    assert base64_to_hex(code_hash) == \"2abf0e8b612ac9e58f54fe82da289e9c5a498863386bbeac0518a216eb043b42\""
   ]
  },
  {
   "cell_type": "markdown",
   "metadata": {},
   "source": [
    "Deploy permissions hub"
   ]
  },
  {
   "cell_type": "code",
   "execution_count": 7,
   "metadata": {},
   "outputs": [],
   "source": [
    "from contracts.permissions_hub_contract import PermissionsHubContract\n",
    "\n",
    "def deploy_permissions_hub():\n",
    "    permissions_hub_contract = PermissionsHubContract(\"\")\n",
    "    _, address = permissions_hub_contract.contract_deploy(context.deployer_account, context.network_provider.proxy, \n",
    "                                            \"https://github.com/multiversx/mx-exchange-sc/releases/download/v3.2.2-rc2/permissions-hub.wasm\",\n",
    "                                            [])\n",
    "    permissions_hub_contract.address = address\n",
    "    return permissions_hub_contract"
   ]
  },
  {
   "cell_type": "markdown",
   "metadata": {},
   "source": [
    "Dummy proxy"
   ]
  },
  {
   "cell_type": "code",
   "execution_count": 8,
   "metadata": {},
   "outputs": [],
   "source": [
    "from contracts.dummy_proxy_contract import DummyProxyContract\n",
    "\n",
    "def deploy_dummy_proxy_contract():\n",
    "    dummy_proxy_contract = DummyProxyContract(\"\")\n",
    "    _, address = dummy_proxy_contract.contract_deploy(context.deployer_account, context.network_provider.proxy,\n",
    "                                         \"https://github.com/ovidiuolteanu/mx-sc-dummy-proxy/releases/download/v2.1/dummy-proxy.wasm\",\n",
    "                                         [])\n",
    "    dummy_proxy_contract.address = address\n",
    "    return dummy_proxy_contract"
   ]
  },
  {
   "cell_type": "code",
   "execution_count": 9,
   "metadata": {},
   "outputs": [],
   "source": [
    "from utils.utils_chain import get_all_token_nonces_details_for_account\n",
    "\n",
    "def get_position_for_account(user_address: str):\n",
    "    farm_tk_balance, farm_tk_nonce = 0, 0\n",
    "    tokens_in_account = get_all_token_nonces_details_for_account(farm_contract.farmToken, user_address, context.network_provider.proxy)\n",
    "    print(f'Found {len(tokens_in_account)} positions of {farm_contract.farmToken} in account')\n",
    "    for token in tokens_in_account:\n",
    "        if int(token['balance']) > farm_tk_balance:\n",
    "            farm_tk_balance = int(token['balance'])\n",
    "            farm_tk_nonce = token['nonce']\n",
    "            break\n",
    "\n",
    "    if not farm_tk_nonce:\n",
    "        raise Exception(\"Not enough farm token balance\")\n",
    "    \n",
    "    return farm_tk_nonce, farm_tk_balance\n",
    "\n",
    "def get_farming_token_balance_for_account(user_address: str):\n",
    "    farming_tk_balance = 0\n",
    "    tokens_in_account = get_all_token_nonces_details_for_account(farm_contract.farmingToken, user_address, context.network_provider.proxy)\n",
    "    print(f'Found {len(tokens_in_account)} positions of {farm_contract.farmingToken} in account')\n",
    "    for token in tokens_in_account:\n",
    "        if int(token['balance']) > farming_tk_balance:\n",
    "            farming_tk_balance = int(token['balance'])\n",
    "            break\n",
    "\n",
    "    if not farming_tk_balance:\n",
    "        raise Exception(\"Not enough farming token balance\")\n",
    "    \n",
    "    return farming_tk_balance"
   ]
  },
  {
   "cell_type": "code",
   "execution_count": 10,
   "metadata": {},
   "outputs": [],
   "source": [
    "from utils.utils_tx import ESDTToken, multi_esdt_transfer\n",
    "\n",
    "def send_tokens_to_dummy(user: Account, dummy_contract: DummyProxyContract):\n",
    "    farm_tk_nonce, farm_tk_balance = get_position_for_account(user)\n",
    "    print(f\"Sending {farm_tk_balance} {farm_contract.farmToken}-{farm_tk_nonce} to dummy contract\")\n",
    "    multi_esdt_transfer(context.network_provider.proxy, 20000000, user, dummy_contract.address, [ESDTToken(farm_contract.farmToken, farm_tk_nonce, farm_tk_balance)])"
   ]
  },
  {
   "cell_type": "markdown",
   "metadata": {},
   "source": [
    "Claim"
   ]
  },
  {
   "cell_type": "code",
   "execution_count": 11,
   "metadata": {},
   "outputs": [],
   "source": [
    "from utils.utils_chain import Account, WrapperAddress as Address, get_all_token_nonces_details_for_account\n",
    "from contracts.farm_contract import ClaimRewardsFarmEvent\n",
    "\n",
    "def claim_for_user(user_account: Account):\n",
    "    user_account.sync_nonce(context.network_provider.proxy)\n",
    "\n",
    "    farm_tk_balance, farm_tk_nonce = 0, 0\n",
    "    tokens_in_account = get_all_token_nonces_details_for_account(farm_contract.farmToken, user_account.address.bech32(), context.network_provider.proxy)\n",
    "    print(f'Found {len(tokens_in_account)} positions of {farm_contract.farmToken} in account')\n",
    "    for token in tokens_in_account:\n",
    "        if int(token['balance']) > farm_tk_balance:\n",
    "            farm_tk_balance = int(token['balance'])\n",
    "            farm_tk_nonce = token['nonce']\n",
    "            break\n",
    "\n",
    "    if not farm_tk_nonce:\n",
    "        raise Exception(\"Not enough farm token balance\")\n",
    "\n",
    "    event = ClaimRewardsFarmEvent(farm_tk_balance, farm_tk_nonce, '')\n",
    "\n",
    "    tx_hash = farm_contract.claimRewards(context.network_provider, user_account, event)\n",
    "    return tx_hash"
   ]
  },
  {
   "cell_type": "markdown",
   "metadata": {},
   "source": [
    "Claim boosted"
   ]
  },
  {
   "cell_type": "code",
   "execution_count": 12,
   "metadata": {},
   "outputs": [],
   "source": [
    "from utils.utils_chain import Account, WrapperAddress as Address, get_all_token_nonces_details_for_account\n",
    "from contracts.farm_contract import ClaimRewardsFarmEvent\n",
    "\n",
    "def claim_boosted_for_user(user_account: Account):\n",
    "    user_account.sync_nonce(context.network_provider.proxy)\n",
    "    event = ClaimRewardsFarmEvent(0, 0, '', user_account.address.bech32())\n",
    "    tx_hash = farm_contract.claim_boosted_rewards(context.network_provider, user_account, event)\n",
    "    return tx_hash"
   ]
  },
  {
   "cell_type": "markdown",
   "metadata": {},
   "source": [
    "Claim on behalf"
   ]
  },
  {
   "cell_type": "code",
   "execution_count": 13,
   "metadata": {},
   "outputs": [],
   "source": [
    "from utils.utils_chain import Account, WrapperAddress as Address, get_all_token_nonces_details_for_account\n",
    "from contracts.farm_contract import ClaimRewardsFarmEvent\n",
    "\n",
    "def claim_on_behalf_from_user(claim_account: Account):\n",
    "    claim_account.sync_nonce(context.network_provider.proxy)\n",
    "\n",
    "    farm_tk_balance, farm_tk_nonce = 0, 0\n",
    "    tokens_in_account = get_all_token_nonces_details_for_account(farm_contract.farmToken, claim_account.address.bech32(), context.network_provider.proxy)\n",
    "    print(f'Found {len(tokens_in_account)} positions of {farm_contract.farmToken} in account')\n",
    "    for token in tokens_in_account:\n",
    "        if int(token['balance']) > farm_tk_balance:\n",
    "            farm_tk_balance = int(token['balance'])\n",
    "            farm_tk_nonce = token['nonce']\n",
    "            break\n",
    "\n",
    "    if not farm_tk_nonce:\n",
    "        raise Exception(\"Not enough farm token balance\")\n",
    "\n",
    "    event = ClaimRewardsFarmEvent(farm_tk_balance, farm_tk_nonce, '')\n",
    "\n",
    "    tx_hash = farm_contract.claim_rewards_on_behalf(context.network_provider, claim_account, event)\n",
    "    return tx_hash"
   ]
  },
  {
   "cell_type": "markdown",
   "metadata": {},
   "source": [
    "Enter farm consolidated"
   ]
  },
  {
   "cell_type": "code",
   "execution_count": 14,
   "metadata": {},
   "outputs": [],
   "source": [
    "from utils.utils_chain import Account, WrapperAddress as Address, get_all_token_nonces_details_for_account\n",
    "from contracts.farm_contract import EnterFarmEvent\n",
    "\n",
    "def enter_farm_for_user(user_account: Account):\n",
    "    user_account.sync_nonce(context.network_provider.proxy)\n",
    "\n",
    "    farming_tk_balance = 0\n",
    "    tokens_in_account = get_all_token_nonces_details_for_account(farm_contract.farmingToken, user_account.address.bech32(), context.network_provider.proxy)\n",
    "    print(f'Found {len(tokens_in_account)} farming tokens in account')\n",
    "    for token in tokens_in_account:\n",
    "        if int(token['balance']) > farming_tk_balance:\n",
    "            farming_tk_balance = int(token['balance'])\n",
    "            break\n",
    "\n",
    "    if not farming_tk_balance:\n",
    "        raise Exception(\"Not enough farming token balance\")\n",
    "\n",
    "    farm_tk_balance, farm_tk_nonce = 0, 0\n",
    "    tokens_in_account = get_all_token_nonces_details_for_account(farm_contract.farmToken, user_account.address.bech32(), context.network_provider.proxy)\n",
    "    print(f'Found {len(tokens_in_account)} positions of {farm_contract.farmToken} in account')\n",
    "    for token in tokens_in_account:\n",
    "        if int(token['balance']) > farm_tk_balance:\n",
    "            farm_tk_balance = int(token['balance'])\n",
    "            farm_tk_nonce = token['nonce']\n",
    "            break\n",
    "\n",
    "    if not farm_tk_nonce:\n",
    "        raise Exception(\"Not enough farm token balance\")\n",
    "\n",
    "    event = EnterFarmEvent(farm_contract.farmingToken, 0, farming_tk_balance,\n",
    "                       farm_contract.farmToken, farm_tk_nonce, farm_tk_balance)\n",
    "\n",
    "    tx_hash = farm_contract.enterFarm(context.network_provider, user_account, event)\n",
    "    return tx_hash"
   ]
  },
  {
   "cell_type": "markdown",
   "metadata": {},
   "source": [
    "Enter farm no consolidation"
   ]
  },
  {
   "cell_type": "code",
   "execution_count": 15,
   "metadata": {},
   "outputs": [],
   "source": [
    "from utils.utils_chain import Account, WrapperAddress as Address, get_all_token_nonces_details_for_account\n",
    "from contracts.farm_contract import EnterFarmEvent\n",
    "\n",
    "def enter_farm_no_consolidation_for_user(user_account: Account):\n",
    "    user_account.sync_nonce(context.network_provider.proxy)\n",
    "\n",
    "    farming_tk_balance = 0\n",
    "    tokens_in_account = get_all_token_nonces_details_for_account(farm_contract.farmingToken, user_account.address.bech32(), context.network_provider.proxy)\n",
    "    print(f'Found {len(tokens_in_account)} farming tokens in account')\n",
    "    for token in tokens_in_account:\n",
    "        if int(token['balance']) > farming_tk_balance:\n",
    "            farming_tk_balance = int(token['balance'])\n",
    "            break\n",
    "\n",
    "    if not farming_tk_balance:\n",
    "        raise Exception(\"Not enough farming token balance\")\n",
    "\n",
    "    event = EnterFarmEvent(farm_contract.farmingToken, 0, farming_tk_balance,\n",
    "                       \"\", 0, 0)\n",
    "\n",
    "    tx_hash = farm_contract.enterFarm(context.network_provider, user_account, event, 0, True)\n",
    "    return tx_hash"
   ]
  },
  {
   "cell_type": "markdown",
   "metadata": {},
   "source": [
    "Enter farm on behalf"
   ]
  },
  {
   "cell_type": "code",
   "execution_count": 16,
   "metadata": {},
   "outputs": [],
   "source": [
    "from utils.utils_chain import Account, WrapperAddress as Address, get_all_token_nonces_details_for_account\n",
    "from contracts.farm_contract import EnterFarmEvent\n",
    "\n",
    "def enter_farm_on_behalf_for_user(caller_account: Account, user_account: Account):\n",
    "    caller_account.sync_nonce(context.network_provider.proxy)\n",
    "\n",
    "    farming_tk_balance = 0\n",
    "    tokens_in_account = get_all_token_nonces_details_for_account(farm_contract.farmingToken, caller_account.address.bech32(), context.network_provider.proxy)\n",
    "    print(f'Found {len(tokens_in_account)} farming tokens in account')\n",
    "    for token in tokens_in_account:\n",
    "        if int(token['balance']) > farming_tk_balance:\n",
    "            farming_tk_balance = int(token['balance'])\n",
    "            break\n",
    "\n",
    "    if not farming_tk_balance:\n",
    "        raise Exception(\"Not enough farming token balance\")\n",
    "\n",
    "    farm_tk_balance, farm_tk_nonce = 0, 0\n",
    "    tokens_in_account = get_all_token_nonces_details_for_account(farm_contract.farmToken, caller_account.address.bech32(), context.network_provider.proxy)\n",
    "    print(f'Found {len(tokens_in_account)} positions of {farm_contract.farmToken} in account')\n",
    "    for token in tokens_in_account:\n",
    "        if int(token['balance']) > farm_tk_balance:\n",
    "            farm_tk_balance = int(token['balance'])\n",
    "            farm_tk_nonce = token['nonce']\n",
    "            break\n",
    "\n",
    "    if not farm_tk_nonce:\n",
    "        raise Exception(\"Not enough farm token balance\")\n",
    "\n",
    "    event = EnterFarmEvent(farm_contract.farmingToken, 0, farming_tk_balance,\n",
    "                       farm_contract.farmToken, farm_tk_nonce, farm_tk_balance, user_account.address.bech32())\n",
    "\n",
    "    tx_hash = farm_contract.enter_farm_on_behalf(context.network_provider, caller_account, event)\n",
    "    return tx_hash"
   ]
  },
  {
   "cell_type": "markdown",
   "metadata": {},
   "source": [
    "Enter farm on behalf no consolidation"
   ]
  },
  {
   "cell_type": "code",
   "execution_count": 17,
   "metadata": {},
   "outputs": [],
   "source": [
    "from utils.utils_chain import Account, WrapperAddress as Address, get_all_token_nonces_details_for_account\n",
    "from contracts.farm_contract import EnterFarmEvent\n",
    "\n",
    "def enter_farm_on_behalf_no_consolidation_for_user(caller_account: Account, user_account: Account):\n",
    "    caller_account.sync_nonce(context.network_provider.proxy)\n",
    "\n",
    "    farming_tk_balance = 0\n",
    "    tokens_in_account = get_all_token_nonces_details_for_account(farm_contract.farmingToken, caller_account.address.bech32(), context.network_provider.proxy)\n",
    "    print(f'Found {len(tokens_in_account)} farming tokens in account')\n",
    "    for token in tokens_in_account:\n",
    "        if int(token['balance']) > farming_tk_balance:\n",
    "            farming_tk_balance = int(token['balance'])\n",
    "            break\n",
    "\n",
    "    if not farming_tk_balance:\n",
    "        raise Exception(\"Not enough farming token balance\")\n",
    "\n",
    "    event = EnterFarmEvent(farm_contract.farmingToken, 0, farming_tk_balance,\n",
    "                           \"\", 0, 0, user_account.address.bech32())\n",
    "\n",
    "    tx_hash = farm_contract.enter_farm_on_behalf(context.network_provider, caller_account, event)\n",
    "    return tx_hash"
   ]
  },
  {
   "cell_type": "code",
   "execution_count": 18,
   "metadata": {},
   "outputs": [],
   "source": [
    "def dict_compare(d1, d2):\n",
    "    print(d1)\n",
    "    print(d2)\n",
    "    d1_keys = set(d1.keys())\n",
    "    d2_keys = set(d2.keys())\n",
    "    shared_keys = d1_keys.intersection(d2_keys)\n",
    "    added = d1_keys - d2_keys\n",
    "    removed = d2_keys - d1_keys\n",
    "    modified = {o : (d1[o], d2[o]) for o in shared_keys if d1[o] != d2[o]}\n",
    "    same = set(o for o in shared_keys if d1[o] == d2[o])\n",
    "    return added, removed, modified, same\n",
    "\n",
    "def check_equal_dicts(dict1, dict2):\n",
    "    \"\"\"\n",
    "    Compare two dictionaries, including nested dictionaries.\n",
    "    \n",
    "    Args:\n",
    "    dict1 (dict): First dictionary to compare.\n",
    "    dict2 (dict): Second dictionary to compare.\n",
    "    \n",
    "    Returns:\n",
    "    bool: True if dictionaries are equal, False otherwise.\n",
    "    \"\"\"\n",
    "    if dict1.keys() != dict2.keys():\n",
    "        return False\n",
    "    \n",
    "    for key in dict1:\n",
    "        if isinstance(dict1[key], dict) and isinstance(dict2[key], dict):\n",
    "            if not check_equal_dicts(dict1[key], dict2[key]):\n",
    "                return False\n",
    "        elif dict1[key] != dict2[key]:\n",
    "            return False\n",
    "    \n",
    "    return True"
   ]
  },
  {
   "cell_type": "code",
   "execution_count": 19,
   "metadata": {},
   "outputs": [],
   "source": [
    "from utils.decoding_structures import FARM_TOKEN_ATTRIBUTES\n",
    "from utils.utils_chain import decode_merged_attributes, base64_to_hex, WrapperAddress, get_all_token_nonces_details_for_account\n",
    "\n",
    "def user_farm_token_stats(user):\n",
    "    tokens_in_account = get_all_token_nonces_details_for_account(farm_contract.farmingToken, user.address.bech32(), context.network_provider.proxy)\n",
    "    print(f'Account: {user.address.bech32()}')\n",
    "    print(f'Looking for {farm_contract.farmingToken} and {farm_contract.farmToken} tokens')\n",
    "    print(f'Farming Tokens in account:')\n",
    "    for token in tokens_in_account:\n",
    "        print(f'\\t{token}')\n",
    "    tokens_in_account = get_all_token_nonces_details_for_account(farm_contract.farmToken, user.address.bech32(), context.network_provider.proxy)\n",
    "    print(f'Farm Tokens in account:')\n",
    "    all_decoded_attributes = []\n",
    "    for token in tokens_in_account:\n",
    "        print(f'\\t{token}')\n",
    "        decoded_attributes = decode_merged_attributes(base64_to_hex(token[\"attributes\"]), FARM_TOKEN_ATTRIBUTES)\n",
    "        print(f'\\t\\t{decoded_attributes}')\n",
    "        all_decoded_attributes.append(decoded_attributes)\n",
    "        \n",
    "    return all_decoded_attributes"
   ]
  },
  {
   "cell_type": "markdown",
   "metadata": {},
   "source": [
    "CHAIN SIMULATOR STACK"
   ]
  },
  {
   "cell_type": "code",
   "execution_count": 20,
   "metadata": {},
   "outputs": [],
   "source": [
    "import subprocess\n",
    "from time import sleep\n",
    "\n",
    "CS_DOCKER_PATH = Path.home() / \"projects/testing/full-stack-docker-compose/chain-simulator\"\n",
    "\n",
    "def start_chain_sim_stack():\n",
    "    # stop first in case one is already running\n",
    "    p = subprocess.Popen([\"docker\", \"compose\", \"down\"], cwd = CS_DOCKER_PATH)\n",
    "    p.wait()\n",
    "    \n",
    "    p = subprocess.Popen([\"docker\", \"compose\", \"up\", \"-d\"], cwd = CS_DOCKER_PATH)\n",
    "    sleep(60)\n",
    "    return p\n",
    "\n",
    "def stop_chain_sim_stack(p):\n",
    "    p.terminate()\n",
    "    p = subprocess.Popen([\"docker\", \"compose\", \"down\"], cwd = CS_DOCKER_PATH)\n",
    "    p.wait()\n",
    "    _ = subprocess.run([\"docker\", \"system\", \"prune\", \"-f\"], cwd = CS_DOCKER_PATH)"
   ]
  },
  {
   "cell_type": "markdown",
   "metadata": {},
   "source": [
    "# SCENARIOS"
   ]
  },
  {
   "cell_type": "markdown",
   "metadata": {},
   "source": [
    "Chain sim control"
   ]
  },
  {
   "cell_type": "code",
   "execution_count": null,
   "metadata": {},
   "outputs": [],
   "source": [
    "chain_sim_stack = start_chain_sim_stack()"
   ]
  },
  {
   "cell_type": "code",
   "execution_count": null,
   "metadata": {},
   "outputs": [],
   "source": [
    "stop_chain_sim_stack(chain_sim_stack)"
   ]
  },
  {
   "cell_type": "markdown",
   "metadata": {},
   "source": [
    "Init"
   ]
  },
  {
   "cell_type": "code",
   "execution_count": null,
   "metadata": {},
   "outputs": [],
   "source": [
    "setup_chain_sim()\n",
    "users = users_init()\n",
    "advance_blocks(1)"
   ]
  },
  {
   "cell_type": "markdown",
   "metadata": {},
   "source": [
    "Unstaker"
   ]
  },
  {
   "cell_type": "code",
   "execution_count": null,
   "metadata": {},
   "outputs": [],
   "source": [
    "from pprint import pprint\n",
    "from utils.utils_chain import get_all_token_nonces_details_for_account\n",
    "\n",
    "user = users[-2]\n",
    "tokens = get_all_token_nonces_details_for_account(simple_lock_energy_contract.locked_token, user.address.bech32(), context.network_provider.proxy)\n",
    "print(f\"user: {user.address.bech32()} {simple_lock_energy_contract.locked_token} tokens: {len(tokens)}\")"
   ]
  },
  {
   "cell_type": "markdown",
   "metadata": {},
   "source": [
    "Unlock all tokens"
   ]
  },
  {
   "cell_type": "code",
   "execution_count": null,
   "metadata": {},
   "outputs": [],
   "source": [
    "\n",
    "tokens = get_all_token_nonces_details_for_account(simple_lock_energy_contract.locked_token, user.address.bech32(), context.network_provider.proxy)\n",
    "\n",
    "for token in tokens:\n",
    "    print(f\"Processing token: {token}\")\n",
    "    token_to_unlock = [ESDTToken(simple_lock_energy_contract.locked_token, int(token['nonce']), int(token['balance']))]\n",
    "    tx_hash = simple_lock_energy_contract.unlock_early(user, context.network_provider.proxy, [token_to_unlock])\n",
    "    print(tx_hash)\n",
    "    advance_blocks(1)\n",
    "advance_blocks(5)"
   ]
  },
  {
   "cell_type": "code",
   "execution_count": null,
   "metadata": {},
   "outputs": [],
   "source": [
    "from utils.utils_tx import ESDTToken\n",
    "\n",
    "user = users[-1]\n",
    "tokens = get_all_token_nonces_details_for_account(simple_lock_energy_contract.locked_token, user.address.bech32(), context.network_provider.proxy)\n",
    "print(f\"user: {user.address.bech32()} {simple_lock_energy_contract.locked_token} tokens: {len(tokens)}\")\n",
    "\n",
    "for token in tokens:\n",
    "    print(f\"Processing token: {token}\")\n",
    "    token_to_unlock = [ESDTToken(simple_lock_energy_contract.locked_token, int(token['nonce']), int(token['balance']))]\n",
    "    tx_hash = simple_lock_energy_contract.unlock_early(user, context.network_provider.proxy, [token_to_unlock])\n",
    "    print(tx_hash)"
   ]
  },
  {
   "cell_type": "code",
   "execution_count": null,
   "metadata": {},
   "outputs": [],
   "source": [
    "epochs_to_advance = 10\n",
    "current_epoch = context.network_provider.proxy.get_network_status().epoch_number\n",
    "print(f\"Advancing from epoch {current_epoch} to {current_epoch + epochs_to_advance}\")\n",
    "advance_to_epoch(current_epoch + epochs_to_advance)\n",
    "print(f\"Done! Epoch after advancement: {context.network_provider.proxy.get_network_status().epoch_number}\")"
   ]
  },
  {
   "cell_type": "code",
   "execution_count": null,
   "metadata": {},
   "outputs": [],
   "source": [
    "from utils.utils_tx import endpoint_call\n",
    "tx_hash = endpoint_call(proxy, 500000000, user, Address(unstaker_contract.address), \"claimUnlockedTokens\", [])\n",
    "advance_blocks(10)"
   ]
  },
  {
   "cell_type": "code",
   "execution_count": null,
   "metadata": {},
   "outputs": [],
   "source": [
    "print(context.get_contracts(config.FEES_COLLECTORS)[0].address)"
   ]
  },
  {
   "cell_type": "code",
   "execution_count": 22,
   "metadata": {},
   "outputs": [],
   "source": [
    "with open(PROJECT_ROOT / \"states\" / \"0_system_account_state_erd1lllllllllllllllllllllllllllllllllllllllllllllllllllsckry7t.json\", \"r\") as file:\n",
    "    retrieved_state = json.load(file)\n",
    "    apply_states(proxy, [retrieved_state])"
   ]
  },
  {
   "cell_type": "code",
   "execution_count": null,
   "metadata": {},
   "outputs": [],
   "source": [
    "unstaker_upgrade()\n",
    "advance_blocks(1)"
   ]
  },
  {
   "cell_type": "markdown",
   "metadata": {},
   "source": [
    "Unlock & unbond scenario"
   ]
  },
  {
   "cell_type": "code",
   "execution_count": null,
   "metadata": {},
   "outputs": [],
   "source": [
    "user_index = 0\n",
    "chain_sim_stack = start_chain_sim_stack()\n",
    "setup_chain_sim()\n",
    "users = users_init()\n",
    "advance_blocks(1)\n",
    "\n",
    "# get user\n",
    "user = users[user_index]\n",
    "tokens = get_all_token_nonces_details_for_account(simple_lock_energy_contract.locked_token, user.address.bech32(), context.network_provider.proxy)\n",
    "print(f\"user: {user.address.bech32()} {simple_lock_energy_contract.locked_token} tokens: {len(tokens)}\")\n",
    "\n",
    "# unlock all locked tokens\n",
    "for token in tokens:\n",
    "    print(f\"Processing token: {token}\")\n",
    "    token_to_unlock = [ESDTToken(simple_lock_energy_contract.locked_token, int(token['nonce']), int(token['balance']))]\n",
    "    tx_hash = simple_lock_energy_contract.unlock_early(user, context.network_provider.proxy, [token_to_unlock])\n",
    "    print(tx_hash)\n",
    "    advance_blocks(1)\n",
    "advance_blocks(5)\n",
    "\n",
    "# pass unbonding epochs\n",
    "epochs_to_advance = 10\n",
    "current_epoch = context.network_provider.proxy.get_network_status().epoch_number\n",
    "print(f\"Advancing from epoch {current_epoch} to {current_epoch + epochs_to_advance}\")\n",
    "advance_to_epoch(current_epoch + epochs_to_advance)\n",
    "print(f\"Done! Epoch after advancement: {context.network_provider.proxy.get_network_status().epoch_number}\")\n",
    "\n",
    "# TODO: temporary patch for unknown reasons\n",
    "with open(PROJECT_ROOT / \"states\" / \"0_system_account_state_erd1lllllllllllllllllllllllllllllllllllllllllllllllllllsckry7t.json\", \"r\") as file:\n",
    "    retrieved_state = json.load(file)\n",
    "    apply_states(proxy, [retrieved_state])\n",
    "\n",
    "unstaker_upgrade()\n",
    "advance_blocks(1)\n",
    "\n",
    "# unbond tokens\n",
    "tx_hash = endpoint_call(proxy, 500000000, user, Address(unstaker_contract.address), \"claimUnlockedTokens\", [])\n",
    "advance_blocks(10)"
   ]
  },
  {
   "cell_type": "markdown",
   "metadata": {},
   "source": [
    "Burn 0%"
   ]
  },
  {
   "cell_type": "code",
   "execution_count": null,
   "metadata": {},
   "outputs": [],
   "source": [
    "user_index = 0\n",
    "chain_sim_stack = start_chain_sim_stack()\n",
    "setup_chain_sim()\n",
    "users = users_init()\n",
    "advance_blocks(1)\n",
    "\n",
    "# get user\n",
    "user = users[user_index]\n",
    "tokens = get_all_token_nonces_details_for_account(simple_lock_energy_contract.locked_token, user.address.bech32(), context.network_provider.proxy)\n",
    "print(f\"user: {user.address.bech32()} {simple_lock_energy_contract.locked_token} tokens: {len(tokens)}\")\n",
    "\n",
    "# unlock all locked tokens\n",
    "for token in tokens:\n",
    "    print(f\"Processing token: {token}\")\n",
    "    token_to_unlock = [ESDTToken(simple_lock_energy_contract.locked_token, int(token['nonce']), int(token['balance']))]\n",
    "    tx_hash = simple_lock_energy_contract.unlock_early(user, context.network_provider.proxy, [token_to_unlock])\n",
    "    print(tx_hash)\n",
    "    advance_blocks(1)\n",
    "advance_blocks(5)\n",
    "\n",
    "# pass unbonding epochs\n",
    "epochs_to_advance = 10\n",
    "current_epoch = context.network_provider.proxy.get_network_status().epoch_number\n",
    "print(f\"Advancing from epoch {current_epoch} to {current_epoch + epochs_to_advance}\")\n",
    "advance_to_epoch(current_epoch + epochs_to_advance)\n",
    "print(f\"Done! Epoch after advancement: {context.network_provider.proxy.get_network_status().epoch_number}\")\n",
    "\n",
    "# TODO: temporary patch for unknown reasons\n",
    "with open(PROJECT_ROOT / \"states\" / \"0_system_account_state_erd1lllllllllllllllllllllllllllllllllllllllllllllllllllsckry7t.json\", \"r\") as file:\n",
    "    retrieved_state = json.load(file)\n",
    "    apply_states(proxy, [retrieved_state])\n",
    "\n",
    "unstaker_upgrade()\n",
    "advance_blocks(5)\n",
    "\n",
    "# unbond tokens\n",
    "tx_hash = endpoint_call(proxy, 500000000, user, Address(unstaker_contract.address), \"claimUnlockedTokens\", [])\n",
    "advance_blocks(10)\n",
    "\n",
    "# ------------------------------------------------------------------------------------------------\n",
    "input(\"Press Enter to continue...\")\n",
    "stop_chain_sim_stack(chain_sim_stack)\n",
    "chain_sim_stack = start_chain_sim_stack()\n",
    "setup_chain_sim()\n",
    "users = users_init()\n",
    "advance_blocks(1)\n",
    "\n",
    "# get user\n",
    "user = users[user_index]\n",
    "tokens = get_all_token_nonces_details_for_account(simple_lock_energy_contract.locked_token, user.address.bech32(), context.network_provider.proxy)\n",
    "print(f\"user: {user.address.bech32()} {simple_lock_energy_contract.locked_token} tokens: {len(tokens)}\")\n",
    "\n",
    "# unlock all locked tokens\n",
    "for token in tokens:\n",
    "    print(f\"Processing token: {token}\")\n",
    "    token_to_unlock = [ESDTToken(simple_lock_energy_contract.locked_token, int(token['nonce']), int(token['balance']))]\n",
    "    tx_hash = simple_lock_energy_contract.unlock_early(user, context.network_provider.proxy, [token_to_unlock])\n",
    "    print(tx_hash)\n",
    "    advance_blocks(1)\n",
    "advance_blocks(5)\n",
    "\n",
    "# pass unbonding epochs\n",
    "epochs_to_advance = 10\n",
    "current_epoch = context.network_provider.proxy.get_network_status().epoch_number\n",
    "print(f\"Advancing from epoch {current_epoch} to {current_epoch + epochs_to_advance}\")\n",
    "advance_to_epoch(current_epoch + epochs_to_advance)\n",
    "print(f\"Done! Epoch after advancement: {context.network_provider.proxy.get_network_status().epoch_number}\")\n",
    "\n",
    "# TODO: temporary patch for unknown reasons\n",
    "with open(PROJECT_ROOT / \"states\" / \"0_system_account_state_erd1lllllllllllllllllllllllllllllllllllllllllllllllllllsckry7t.json\", \"r\") as file:\n",
    "    retrieved_state = json.load(file)\n",
    "    apply_states(proxy, [retrieved_state])\n",
    "\n",
    "unstaker_upgrade()\n",
    "advance_blocks(1)\n",
    "\n",
    "unstaker_contract.set_fees_burn_percentage(context.deployer_account, context.network_provider.proxy, [0])\n",
    "advance_blocks(4)\n",
    "\n",
    "# unbond tokens\n",
    "tx_hash = endpoint_call(proxy, 500000000, user, Address(unstaker_contract.address), \"claimUnlockedTokens\", [])\n",
    "advance_blocks(10)"
   ]
  }
 ],
 "metadata": {
  "kernelspec": {
   "display_name": "venv",
   "language": "python",
   "name": "python3"
  },
  "language_info": {
   "codemirror_mode": {
    "name": "ipython",
    "version": 3
   },
   "file_extension": ".py",
   "mimetype": "text/x-python",
   "name": "python",
   "nbconvert_exporter": "python",
   "pygments_lexer": "ipython3",
   "version": "3.12.3"
  },
  "orig_nbformat": 4
 },
 "nbformat": 4,
 "nbformat_minor": 2
}
