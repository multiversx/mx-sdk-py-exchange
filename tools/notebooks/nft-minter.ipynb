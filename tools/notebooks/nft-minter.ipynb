{
 "cells": [
  {
   "cell_type": "code",
   "execution_count": null,
   "metadata": {},
   "outputs": [],
   "source": [
    "import sys\n",
    "from pathlib import Path\n",
    "sys.path.append(str(Path.cwd().parent.parent.absolute()))\n",
    "import config"
   ]
  },
  {
   "cell_type": "code",
   "execution_count": null,
   "metadata": {},
   "outputs": [],
   "source": [
    "from context import Context\n",
    "from utils.utils_tx import deploy, endpoint_call, upgrade_call\n",
    "from multiversx_sdk_core import CodeMetadata\n",
    "\n",
    "context = Context()"
   ]
  },
  {
   "cell_type": "code",
   "execution_count": null,
   "metadata": {},
   "outputs": [],
   "source": [
    "from utils.utils_chain import WrapperAddress, Account\n",
    "\n",
    "account = Account(pem_file=\"~/Documents/sh0.pem\")\n",
    "account.sync_nonce(context.network_provider.proxy)\n",
    "admin = Account(pem_file=\"~/Documents/sh02.pem\")\n",
    "admin.sync_nonce(context.network_provider.proxy)\n",
    "user = Account(pem_file=\"~/Documents/sh1.pem\")\n",
    "user.sync_nonce(context.network_provider.proxy)"
   ]
  },
  {
   "cell_type": "code",
   "execution_count": null,
   "metadata": {},
   "outputs": [],
   "source": [
    "deployer_address = 'erd1qqqqqqqqqqqqqpgq437hh07ahfncl7zhcfrsy6l6lttxgxnypauqd0d5gm'\n",
    "deployer_contract = WrapperAddress(deployer_address)"
   ]
  },
  {
   "cell_type": "markdown",
   "metadata": {},
   "source": [
    "deploy minter"
   ]
  },
  {
   "cell_type": "code",
   "execution_count": null,
   "metadata": {},
   "outputs": [],
   "source": [
    "bytecode = Path.home() / \"projects\" / \"mx-nft-collection-minter-sc\" / \"output-docker\" / \"nft-minter\" / \"nft-minter.wasm\"\n",
    "metadata = CodeMetadata(upgradeable=True, payable_by_contract=True, readable=True)\n",
    "hash, template_address = deploy(\"minter\", context.network_provider.proxy, 100000000, account, bytecode, metadata, [\n",
    "    account.address,\n",
    "    account.address,\n",
    "    10\n",
    "])"
   ]
  },
  {
   "cell_type": "markdown",
   "metadata": {},
   "source": [
    "deploy deployer"
   ]
  },
  {
   "cell_type": "code",
   "execution_count": null,
   "metadata": {},
   "outputs": [],
   "source": [
    "bytecode = Path.home() / \"projects\" / \"mx-nft-collection-minter-sc\" / \"output-docker\" / \"nft-minter-deployer\" / \"nft-minter-deployer.wasm\"\n",
    "metadata = CodeMetadata(upgradeable=True, payable_by_contract=True, readable=True)\n",
    "hash, deployer_address = deploy(\"deployer\", context.network_provider.proxy, 100000000, account, bytecode, metadata, [\n",
    "    WrapperAddress(\"erd1qqqqqqqqqqqqqpgqtemckxhuuuw7efyg6q4604yevfv4xd4zpauq9u4kyr\"),\n",
    "])\n",
    "deployer_contract = WrapperAddress(deployer_address)"
   ]
  },
  {
   "cell_type": "markdown",
   "metadata": {},
   "source": [
    "creation enable"
   ]
  },
  {
   "cell_type": "code",
   "execution_count": null,
   "metadata": {},
   "outputs": [],
   "source": [
    "endpoint_call(context.network_provider.proxy, 30000000, account, \n",
    "              WrapperAddress(deployer_address), \"setNftMinterCreationEnabled\", [1])"
   ]
  },
  {
   "cell_type": "markdown",
   "metadata": {},
   "source": [
    "pause minter"
   ]
  },
  {
   "cell_type": "code",
   "execution_count": null,
   "metadata": {},
   "outputs": [],
   "source": [
    "# minter_contract = WrapperAddress('erd1qqqqqqqqqqqqqpgq8tce96eswecvkp48ej95w32kdge4my76pauq7fwkp7')\n",
    "endpoint_call(context.network_provider.proxy, 30000000, account, deployer_contract, \"pauseNftMinter\", [\n",
    "                  minter_contract])"
   ]
  },
  {
   "cell_type": "markdown",
   "metadata": {},
   "source": [
    "resume minter"
   ]
  },
  {
   "cell_type": "code",
   "execution_count": null,
   "metadata": {},
   "outputs": [],
   "source": [
    "# minter_contract = WrapperAddress('erd1qqqqqqqqqqqqqpgq8tce96eswecvkp48ej95w32kdge4my76pauq7fwkp7')\n",
    "endpoint_call(context.network_provider.proxy, 30000000, account, deployer_contract, \"resumeNftMinter\", [\n",
    "                  minter_contract])"
   ]
  },
  {
   "cell_type": "markdown",
   "metadata": {},
   "source": [
    "add admin to minter"
   ]
  },
  {
   "cell_type": "code",
   "execution_count": null,
   "metadata": {},
   "outputs": [],
   "source": [
    "# minter_contract = WrapperAddress('erd1qqqqqqqqqqqqqpgq8tce96eswecvkp48ej95w32kdge4my76pauq7fwkp7')\n",
    "endpoint_call(context.network_provider.proxy, 30000000, account, deployer_contract, \"addAdminToNftMinterContract\", [\n",
    "                  admin.address, minter_contract])"
   ]
  },
  {
   "cell_type": "markdown",
   "metadata": {},
   "source": [
    "remove admin to minter"
   ]
  },
  {
   "cell_type": "code",
   "execution_count": null,
   "metadata": {},
   "outputs": [],
   "source": [
    "# minter_contract = WrapperAddress('erd1qqqqqqqqqqqqqpgq8tce96eswecvkp48ej95w32kdge4my76pauq7fwkp7')\n",
    "endpoint_call(context.network_provider.proxy, 30000000, account, deployer_contract, \"removeAdminToNftMinterContract\", [\n",
    "                  user.address, minter_contract])"
   ]
  },
  {
   "cell_type": "markdown",
   "metadata": {},
   "source": [
    "deploy minter via deployer"
   ]
  },
  {
   "cell_type": "code",
   "execution_count": null,
   "metadata": {},
   "outputs": [],
   "source": [
    "hash = endpoint_call(context.network_provider.proxy, 30000000, admin, \n",
    "              WrapperAddress(deployer_address), \"createNftMinter\", [\n",
    "                  admin.address,\n",
    "                  admin.address,\n",
    "                  10\n",
    "              ])"
   ]
  },
  {
   "cell_type": "code",
   "execution_count": null,
   "metadata": {},
   "outputs": [],
   "source": [
    "# hash = '9474be478889788cd2573e3f3008907e7902cbd1d47678fbb939c419c8255ea9'\n",
    "tx_data = context.network_provider.proxy.get_transaction(hash)\n",
    "if tx_data.status.is_failed():\n",
    "    print(\"Transaction failed\")\n",
    "    exit(1)\n",
    "event = tx_data.logs.find_first_or_none_event(\"SCDeploy\")\n",
    "topic = event.topics[0]\n",
    "minter_contract = WrapperAddress.from_hex(topic.hex(), \"erd\")\n",
    "print(\"Deployed minter:\", minter_contract.bech32())"
   ]
  },
  {
   "cell_type": "markdown",
   "metadata": {},
   "source": [
    "set royalties address in minter"
   ]
  },
  {
   "cell_type": "code",
   "execution_count": null,
   "metadata": {},
   "outputs": [],
   "source": [
    "hash = endpoint_call(context.network_provider.proxy, 30000000, admin, minter_contract, \"setRoyaltiesClaimAddress\", [\n",
    "                  admin.address,\n",
    "              ])"
   ]
  }
 ],
 "metadata": {
  "kernelspec": {
   "display_name": "venv-newerdpy",
   "language": "python",
   "name": "python3"
  },
  "language_info": {
   "codemirror_mode": {
    "name": "ipython",
    "version": 3
   },
   "file_extension": ".py",
   "mimetype": "text/x-python",
   "name": "python",
   "nbconvert_exporter": "python",
   "pygments_lexer": "ipython3",
   "version": "3.11.6"
  },
  "orig_nbformat": 4,
  "vscode": {
   "interpreter": {
    "hash": "7ae6ab0abdf10440b34f03794a69a71508ff61341cacd694fe6034a1a71d3b05"
   }
  }
 },
 "nbformat": 4,
 "nbformat_minor": 2
}
